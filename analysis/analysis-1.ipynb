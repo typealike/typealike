{
 "cells": [
  {
   "cell_type": "code",
   "execution_count": 1,
   "metadata": {},
   "outputs": [
    {
     "name": "stderr",
     "output_type": "stream",
     "text": [
      "Registered S3 methods overwritten by 'ggplot2':\n",
      "  method         from \n",
      "  [.quosures     rlang\n",
      "  c.quosures     rlang\n",
      "  print.quosures rlang\n",
      "Registered S3 methods overwritten by 'lme4':\n",
      "  method                          from\n",
      "  cooks.distance.influence.merMod car \n",
      "  influence.merMod                car \n",
      "  dfbeta.influence.merMod         car \n",
      "  dfbetas.influence.merMod        car \n",
      "Loading required package: ggplot2\n",
      "Loading required package: magrittr\n",
      "\n",
      "Attaching package: ‘dplyr’\n",
      "\n",
      "The following objects are masked from ‘package:stats’:\n",
      "\n",
      "    filter, lag\n",
      "\n",
      "The following objects are masked from ‘package:base’:\n",
      "\n",
      "    intersect, setdiff, setequal, union\n",
      "\n",
      "Loading required package: survival\n",
      "\n",
      "Attaching package: ‘rlang’\n",
      "\n",
      "The following object is masked from ‘package:magrittr’:\n",
      "\n",
      "    set_names\n",
      "\n"
     ]
    }
   ],
   "source": [
    "# library(afex)\n",
    "# install.packages(\"ez\")\n",
    "# install.packages(\"reprex\")\n",
    "# install.packages(\"ggpubr\")\n",
    "# install.packages(\"matrixStats\")\n",
    "# install.packages(\"coin\")\n",
    "library(\"ez\")\n",
    "library(ggpubr) \n",
    "library(dplyr)   \n",
    "library(coin)\n",
    "library(dplyr)\n",
    "library(rlang)"
   ]
  },
  {
   "cell_type": "markdown",
   "metadata": {},
   "source": [
    "# STUDY 1"
   ]
  },
  {
   "cell_type": "code",
   "execution_count": 2,
   "metadata": {},
   "outputs": [],
   "source": [
    "# help(aov_ez)\n",
    "# data <- read.csv(\"http://raw.githubusercontent.com/marsja/jupyter/master/Python_ANOVA/rmAOV2way.csv\")\n",
    "# head(data)"
   ]
  },
  {
   "cell_type": "code",
   "execution_count": 3,
   "metadata": {},
   "outputs": [],
   "source": [
    "# aov_data <- aov_ez('Sub_id','rt',data, within='iv1')\n",
    "# aov_data"
   ]
  },
  {
   "cell_type": "code",
   "execution_count": 4,
   "metadata": {},
   "outputs": [],
   "source": [
    "data <- read.csv(\"df_postures_stats.csv\")\n",
    "# head(data)\n",
    "# aovrm <- aov_ez(\"ParticipantID\", \"score\", df, within='orientation')\n",
    "# aovrm\n",
    "# nrow(data)\n",
    "\n",
    "# group_cols <- c(\"ParticipantID\", \"form\")\n",
    "\n",
    "# data_comfort <- data %>% \n",
    "#   group_by(!!!syms(group_cols)) %>% \n",
    "#   summarize(comfort_rating = mean(comfort_rating))\n",
    "# data_comfort$comfort_rating = factor(data_comfort$comfort_rating)\n",
    "# data_comfort$orientation = factor(data_comfort$orientation)\n",
    "# data_comfort$form = factor(data_comfort$form)\n",
    "# wilcoxsign_test(comfort_rating ~ form | ParticipantID, data=data_comfort, distribution=\"exact\")"
   ]
  },
  {
   "cell_type": "code",
   "execution_count": 5,
   "metadata": {},
   "outputs": [
    {
     "data": {
      "text/html": [
       "<table>\n",
       "<thead><tr><th scope=col>X</th><th scope=col>ParticipantID</th><th scope=col>posture</th><th scope=col>score</th><th scope=col>surface</th><th scope=col>dexterity</th><th scope=col>form</th><th scope=col>orientation</th><th scope=col>rating</th></tr></thead>\n",
       "<tbody>\n",
       "\t<tr><td>0                </td><td>participant_1    </td><td>Below_Left_Fist_0</td><td>3                </td><td>Below            </td><td>Non Dominant     </td><td>Close            </td><td>0                </td><td>Comfort          </td></tr>\n",
       "\t<tr><td>1                </td><td>participant_2    </td><td>Below_Left_Fist_0</td><td>4                </td><td>Below            </td><td>Non Dominant     </td><td>Close            </td><td>0                </td><td>Comfort          </td></tr>\n",
       "\t<tr><td>2                </td><td>participant_3    </td><td>Below_Left_Fist_0</td><td>4                </td><td>Below            </td><td>Non Dominant     </td><td>Close            </td><td>0                </td><td>Comfort          </td></tr>\n",
       "\t<tr><td>3                </td><td>participant_4    </td><td>Below_Left_Fist_0</td><td>4                </td><td>Below            </td><td>Dominant         </td><td>Close            </td><td>0                </td><td>Comfort          </td></tr>\n",
       "\t<tr><td>4                </td><td>participant_5    </td><td>Below_Left_Fist_0</td><td>2                </td><td>Below            </td><td>Non Dominant     </td><td>Close            </td><td>0                </td><td>Comfort          </td></tr>\n",
       "\t<tr><td>5                </td><td>participant_6    </td><td>Below_Left_Fist_0</td><td>5                </td><td>Below            </td><td>Dominant         </td><td>Close            </td><td>0                </td><td>Comfort          </td></tr>\n",
       "</tbody>\n",
       "</table>\n"
      ],
      "text/latex": [
       "\\begin{tabular}{r|lllllllll}\n",
       " X & ParticipantID & posture & score & surface & dexterity & form & orientation & rating\\\\\n",
       "\\hline\n",
       "\t 0                       & participant\\_1         & Below\\_Left\\_Fist\\_0 & 3                       & Below                   & Non Dominant            & Close                   & 0                       & Comfort                \\\\\n",
       "\t 1                       & participant\\_2         & Below\\_Left\\_Fist\\_0 & 4                       & Below                   & Non Dominant            & Close                   & 0                       & Comfort                \\\\\n",
       "\t 2                       & participant\\_3         & Below\\_Left\\_Fist\\_0 & 4                       & Below                   & Non Dominant            & Close                   & 0                       & Comfort                \\\\\n",
       "\t 3                       & participant\\_4         & Below\\_Left\\_Fist\\_0 & 4                       & Below                   & Dominant                & Close                   & 0                       & Comfort                \\\\\n",
       "\t 4                       & participant\\_5         & Below\\_Left\\_Fist\\_0 & 2                       & Below                   & Non Dominant            & Close                   & 0                       & Comfort                \\\\\n",
       "\t 5                       & participant\\_6         & Below\\_Left\\_Fist\\_0 & 5                       & Below                   & Dominant                & Close                   & 0                       & Comfort                \\\\\n",
       "\\end{tabular}\n"
      ],
      "text/markdown": [
       "\n",
       "| X | ParticipantID | posture | score | surface | dexterity | form | orientation | rating |\n",
       "|---|---|---|---|---|---|---|---|---|\n",
       "| 0                 | participant_1     | Below_Left_Fist_0 | 3                 | Below             | Non Dominant      | Close             | 0                 | Comfort           |\n",
       "| 1                 | participant_2     | Below_Left_Fist_0 | 4                 | Below             | Non Dominant      | Close             | 0                 | Comfort           |\n",
       "| 2                 | participant_3     | Below_Left_Fist_0 | 4                 | Below             | Non Dominant      | Close             | 0                 | Comfort           |\n",
       "| 3                 | participant_4     | Below_Left_Fist_0 | 4                 | Below             | Dominant          | Close             | 0                 | Comfort           |\n",
       "| 4                 | participant_5     | Below_Left_Fist_0 | 2                 | Below             | Non Dominant      | Close             | 0                 | Comfort           |\n",
       "| 5                 | participant_6     | Below_Left_Fist_0 | 5                 | Below             | Dominant          | Close             | 0                 | Comfort           |\n",
       "\n"
      ],
      "text/plain": [
       "  X ParticipantID posture           score surface dexterity    form \n",
       "1 0 participant_1 Below_Left_Fist_0 3     Below   Non Dominant Close\n",
       "2 1 participant_2 Below_Left_Fist_0 4     Below   Non Dominant Close\n",
       "3 2 participant_3 Below_Left_Fist_0 4     Below   Non Dominant Close\n",
       "4 3 participant_4 Below_Left_Fist_0 4     Below   Dominant     Close\n",
       "5 4 participant_5 Below_Left_Fist_0 2     Below   Non Dominant Close\n",
       "6 5 participant_6 Below_Left_Fist_0 5     Below   Dominant     Close\n",
       "  orientation rating \n",
       "1 0           Comfort\n",
       "2 0           Comfort\n",
       "3 0           Comfort\n",
       "4 0           Comfort\n",
       "5 0           Comfort\n",
       "6 0           Comfort"
      ]
     },
     "metadata": {},
     "output_type": "display_data"
    }
   ],
   "source": [
    "head(data)"
   ]
  },
  {
   "cell_type": "code",
   "execution_count": 389,
   "metadata": {},
   "outputs": [],
   "source": [
    "data_comfort <- filter(data, rating == \"Comfort\")\n",
    "data_preference <- filter(data, rating == \"Preference\")"
   ]
  },
  {
   "cell_type": "code",
   "execution_count": null,
   "metadata": {},
   "outputs": [],
   "source": []
  },
  {
   "cell_type": "code",
   "execution_count": 365,
   "metadata": {},
   "outputs": [
    {
     "data": {
      "text/html": [
       "1080"
      ],
      "text/latex": [
       "1080"
      ],
      "text/markdown": [
       "1080"
      ],
      "text/plain": [
       "[1] 1080"
      ]
     },
     "metadata": {},
     "output_type": "display_data"
    },
    {
     "data": {
      "text/html": [
       "1080"
      ],
      "text/latex": [
       "1080"
      ],
      "text/markdown": [
       "1080"
      ],
      "text/plain": [
       "[1] 1080"
      ]
     },
     "metadata": {},
     "output_type": "display_data"
    },
    {
     "data": {
      "text/html": [
       "<table>\n",
       "<thead><tr><th></th><th scope=col>X</th><th scope=col>ParticipantID</th><th scope=col>posture</th><th scope=col>score</th><th scope=col>surface</th><th scope=col>dexterity</th><th scope=col>form</th><th scope=col>orientation</th><th scope=col>rating</th></tr></thead>\n",
       "<tbody>\n",
       "\t<tr><th scope=row>1075</th><td>2124                 </td><td>participant_25       </td><td>Beside_Right_Palm_180</td><td>1                    </td><td>Beside               </td><td>Dominant             </td><td>Open                 </td><td>180                  </td><td>Comfort              </td></tr>\n",
       "\t<tr><th scope=row>1076</th><td>2125                 </td><td>participant_26       </td><td>Beside_Right_Palm_180</td><td>2                    </td><td>Beside               </td><td>Dominant             </td><td>Open                 </td><td>180                  </td><td>Comfort              </td></tr>\n",
       "\t<tr><th scope=row>1077</th><td>2126                 </td><td>participant_27       </td><td>Beside_Right_Palm_180</td><td>4                    </td><td>Beside               </td><td>Dominant             </td><td>Open                 </td><td>180                  </td><td>Comfort              </td></tr>\n",
       "\t<tr><th scope=row>1078</th><td>2127                 </td><td>participant_28       </td><td>Beside_Right_Palm_180</td><td>2                    </td><td>Beside               </td><td>Dominant             </td><td>Open                 </td><td>180                  </td><td>Comfort              </td></tr>\n",
       "\t<tr><th scope=row>1079</th><td>2128                 </td><td>participant_29       </td><td>Beside_Right_Palm_180</td><td>2                    </td><td>Beside               </td><td>Dominant             </td><td>Open                 </td><td>180                  </td><td>Comfort              </td></tr>\n",
       "\t<tr><th scope=row>1080</th><td>2129                 </td><td>participant_30       </td><td>Beside_Right_Palm_180</td><td>3                    </td><td>Beside               </td><td>Dominant             </td><td>Open                 </td><td>180                  </td><td>Comfort              </td></tr>\n",
       "</tbody>\n",
       "</table>\n"
      ],
      "text/latex": [
       "\\begin{tabular}{r|lllllllll}\n",
       "  & X & ParticipantID & posture & score & surface & dexterity & form & orientation & rating\\\\\n",
       "\\hline\n",
       "\t1075 & 2124                        & participant\\_25            & Beside\\_Right\\_Palm\\_180 & 1                           & Beside                      & Dominant                    & Open                        & 180                         & Comfort                    \\\\\n",
       "\t1076 & 2125                        & participant\\_26            & Beside\\_Right\\_Palm\\_180 & 2                           & Beside                      & Dominant                    & Open                        & 180                         & Comfort                    \\\\\n",
       "\t1077 & 2126                        & participant\\_27            & Beside\\_Right\\_Palm\\_180 & 4                           & Beside                      & Dominant                    & Open                        & 180                         & Comfort                    \\\\\n",
       "\t1078 & 2127                        & participant\\_28            & Beside\\_Right\\_Palm\\_180 & 2                           & Beside                      & Dominant                    & Open                        & 180                         & Comfort                    \\\\\n",
       "\t1079 & 2128                        & participant\\_29            & Beside\\_Right\\_Palm\\_180 & 2                           & Beside                      & Dominant                    & Open                        & 180                         & Comfort                    \\\\\n",
       "\t1080 & 2129                        & participant\\_30            & Beside\\_Right\\_Palm\\_180 & 3                           & Beside                      & Dominant                    & Open                        & 180                         & Comfort                    \\\\\n",
       "\\end{tabular}\n"
      ],
      "text/markdown": [
       "\n",
       "| <!--/--> | X | ParticipantID | posture | score | surface | dexterity | form | orientation | rating |\n",
       "|---|---|---|---|---|---|---|---|---|---|\n",
       "| 1075 | 2124                  | participant_25        | Beside_Right_Palm_180 | 1                     | Beside                | Dominant              | Open                  | 180                   | Comfort               |\n",
       "| 1076 | 2125                  | participant_26        | Beside_Right_Palm_180 | 2                     | Beside                | Dominant              | Open                  | 180                   | Comfort               |\n",
       "| 1077 | 2126                  | participant_27        | Beside_Right_Palm_180 | 4                     | Beside                | Dominant              | Open                  | 180                   | Comfort               |\n",
       "| 1078 | 2127                  | participant_28        | Beside_Right_Palm_180 | 2                     | Beside                | Dominant              | Open                  | 180                   | Comfort               |\n",
       "| 1079 | 2128                  | participant_29        | Beside_Right_Palm_180 | 2                     | Beside                | Dominant              | Open                  | 180                   | Comfort               |\n",
       "| 1080 | 2129                  | participant_30        | Beside_Right_Palm_180 | 3                     | Beside                | Dominant              | Open                  | 180                   | Comfort               |\n",
       "\n"
      ],
      "text/plain": [
       "     X    ParticipantID  posture               score surface dexterity form\n",
       "1075 2124 participant_25 Beside_Right_Palm_180 1     Beside  Dominant  Open\n",
       "1076 2125 participant_26 Beside_Right_Palm_180 2     Beside  Dominant  Open\n",
       "1077 2126 participant_27 Beside_Right_Palm_180 4     Beside  Dominant  Open\n",
       "1078 2127 participant_28 Beside_Right_Palm_180 2     Beside  Dominant  Open\n",
       "1079 2128 participant_29 Beside_Right_Palm_180 2     Beside  Dominant  Open\n",
       "1080 2129 participant_30 Beside_Right_Palm_180 3     Beside  Dominant  Open\n",
       "     orientation rating \n",
       "1075 180         Comfort\n",
       "1076 180         Comfort\n",
       "1077 180         Comfort\n",
       "1078 180         Comfort\n",
       "1079 180         Comfort\n",
       "1080 180         Comfort"
      ]
     },
     "metadata": {},
     "output_type": "display_data"
    }
   ],
   "source": [
    "nrow(data_comfort)\n",
    "nrow(data_preference)\n",
    "tail(data_comfort)"
   ]
  },
  {
   "cell_type": "code",
   "execution_count": 391,
   "metadata": {},
   "outputs": [],
   "source": [
    "\n",
    "# group_cols <- c(\"ParticipantID\", \"orientation\")\n",
    "\n",
    "# data_c <- data_comfort %>% \n",
    "#   group_by(!!!syms(group_cols)) %>% \n",
    "#   summarize(comfort_rating = mean(data_comfort$score))\n",
    "\n",
    "# head(data_c)\n",
    "# wilcox_test(data_c$comfort_rating ~ factor(data_c$orientation), data=data_c[data_c$orientation==\"0\"|data_c$orientation==\"90\"|data_c$orientation==\"180\",], distribution=\"exact\")\n",
    "\n"
   ]
  },
  {
   "cell_type": "code",
   "execution_count": 407,
   "metadata": {},
   "outputs": [
    {
     "name": "stdout",
     "output_type": "stream",
     "text": [
      "[1] \"orientation---------------------------------------------------------------------------\"\n"
     ]
    },
    {
     "data": {
      "text/plain": [
       "\n",
       "\tFriedman rank sum test\n",
       "\n",
       "data:  data_comfort_orientation\n",
       "Friedman chi-squared = 407.83, df = 2, p-value < 2.2e-16\n"
      ]
     },
     "metadata": {},
     "output_type": "display_data"
    },
    {
     "name": "stdout",
     "output_type": "stream",
     "text": [
      "[1] \"surface---------------------------------------------------------------------------\"\n"
     ]
    },
    {
     "data": {
      "text/plain": [
       "\n",
       "\tFriedman rank sum test\n",
       "\n",
       "data:  data_comfort_surface\n",
       "Friedman chi-squared = 28.414, df = 2, p-value = 6.76e-07\n"
      ]
     },
     "metadata": {},
     "output_type": "display_data"
    },
    {
     "name": "stdout",
     "output_type": "stream",
     "text": [
      "[1] \"form---------------------------------------------------------------------------\"\n"
     ]
    },
    {
     "data": {
      "text/plain": [
       "\n",
       "\tFriedman rank sum test\n",
       "\n",
       "data:  data_comfort_form\n",
       "Friedman chi-squared = 33.484, df = 1, p-value = 7.185e-09\n"
      ]
     },
     "metadata": {},
     "output_type": "display_data"
    },
    {
     "name": "stdout",
     "output_type": "stream",
     "text": [
      "[1] \"dexterity---------------------------------------------------------------------------\"\n"
     ]
    },
    {
     "data": {
      "text/plain": [
       "\n",
       "\tFriedman rank sum test\n",
       "\n",
       "data:  data_comfort_dexterity\n",
       "Friedman chi-squared = 13.491, df = 1, p-value = 0.0002397\n"
      ]
     },
     "metadata": {},
     "output_type": "display_data"
    }
   ],
   "source": [
    "print(\"orientation---------------------------------------------------------------------------\")\n",
    "data_comfort_orientation <- cbind(data_comfort[data_comfort$orientation==\"0\",]$score, data_comfort[data_comfort$orientation==\"90\",]$score, data_comfort[data_comfort$orientation==\"180\",]$score)\n",
    "friedman.test(data_comfort_orientation)\n",
    "print(\"surface---------------------------------------------------------------------------\")\n",
    "data_comfort_surface <- cbind(data_comfort[data_comfort$surface==\"Beside\",]$score, data_comfort[data_comfort$surface==\"Below\",]$score, data_comfort[data_comfort$surface==\"On\",]$score)\n",
    "friedman.test(data_comfort_surface)\n",
    "print(\"form---------------------------------------------------------------------------\")\n",
    "data_comfort_form <- cbind(data_comfort[data_comfort$form==\"Open\",]$score, data_comfort[data_comfort$form==\"Close\",]$score)\n",
    "friedman.test(data_comfort_form)\n",
    "print(\"dexterity---------------------------------------------------------------------------\")\n",
    "data_comfort_dexterity <- cbind(data_comfort[data_comfort$dexterity==\"Dominant\",]$score, data_comfort[data_comfort$dexterity==\"Non Dominant\",]$score)\n",
    "friedman.test(data_comfort_dexterity)"
   ]
  },
  {
   "cell_type": "code",
   "execution_count": null,
   "metadata": {},
   "outputs": [],
   "source": []
  },
  {
   "cell_type": "code",
   "execution_count": 394,
   "metadata": {},
   "outputs": [
    {
     "name": "stdout",
     "output_type": "stream",
     "text": [
      "[1] \"orientation---------------------------------------------------------------------------\"\n"
     ]
    },
    {
     "data": {
      "text/plain": [
       "\n",
       "\tPairwise comparisons using Wilcoxon signed rank test \n",
       "\n",
       "data:  data_comfort$score and data_comfort$orientation \n",
       "\n",
       "    0      90    \n",
       "90  0.063  -     \n",
       "180 <2e-16 <2e-16\n",
       "\n",
       "P value adjustment method: bonferroni "
      ]
     },
     "metadata": {},
     "output_type": "display_data"
    },
    {
     "name": "stdout",
     "output_type": "stream",
     "text": [
      "[1] \"form---------------------------------------------------------------------------\"\n"
     ]
    },
    {
     "data": {
      "text/plain": [
       "\n",
       "\tPairwise comparisons using Wilcoxon signed rank test \n",
       "\n",
       "data:  data_comfort$score and data_comfort$form \n",
       "\n",
       "     Close  \n",
       "Open 2.2e-08\n",
       "\n",
       "P value adjustment method: bonferroni "
      ]
     },
     "metadata": {},
     "output_type": "display_data"
    },
    {
     "name": "stdout",
     "output_type": "stream",
     "text": [
      "[1] \"surface---------------------------------------------------------------------------\"\n"
     ]
    },
    {
     "data": {
      "text/plain": [
       "\n",
       "\tPairwise comparisons using Wilcoxon signed rank test \n",
       "\n",
       "data:  data_comfort$score and data_comfort$surface \n",
       "\n",
       "       Below   Beside \n",
       "Beside 2.7e-07 -      \n",
       "On     0.00041 0.05591\n",
       "\n",
       "P value adjustment method: bonferroni "
      ]
     },
     "metadata": {},
     "output_type": "display_data"
    },
    {
     "name": "stdout",
     "output_type": "stream",
     "text": [
      "[1] \"dexterity---------------------------------------------------------------------------\"\n"
     ]
    },
    {
     "data": {
      "text/plain": [
       "\n",
       "\tPairwise comparisons using Wilcoxon signed rank test \n",
       "\n",
       "data:  data_comfort$score and data_comfort$dexterity \n",
       "\n",
       "             Dominant\n",
       "Non Dominant 0.0078  \n",
       "\n",
       "P value adjustment method: bonferroni "
      ]
     },
     "metadata": {},
     "output_type": "display_data"
    }
   ],
   "source": [
    "print(\"orientation---------------------------------------------------------------------------\")\n",
    "pairwise.wilcox.test(data_comfort$score, data_comfort$orientation, p.adj=\"bonferroni\", exact=F, paired=T)\n",
    "print(\"form---------------------------------------------------------------------------\")\n",
    "pairwise.wilcox.test(data_comfort$score, data_comfort$form, p.adj=\"bonferroni\", exact=F, paired=T)\n",
    "print(\"surface---------------------------------------------------------------------------\")\n",
    "pairwise.wilcox.test(data_comfort$score, data_comfort$surface, p.adj=\"bonferroni\", exact=F, paired=T)\n",
    "print(\"dexterity---------------------------------------------------------------------------\")\n",
    "pairwise.wilcox.test(data_comfort$score, data_comfort$dexterity, p.adj=\"bonferroni\", exact=F, paired=T)"
   ]
  },
  {
   "cell_type": "code",
   "execution_count": 370,
   "metadata": {},
   "outputs": [
    {
     "name": "stdout",
     "output_type": "stream",
     "text": [
      "[1] \"0 vs 90---------------------------------------------------------------------------\"\n"
     ]
    },
    {
     "data": {
      "text/plain": [
       "\n",
       "\tWilcoxon signed rank test with continuity correction\n",
       "\n",
       "data:  GroupA and GroupB\n",
       "V = 11686, p-value = 0.02106\n",
       "alternative hypothesis: true location shift is not equal to 0\n"
      ]
     },
     "metadata": {},
     "output_type": "display_data"
    },
    {
     "data": {
      "text/plain": [
       "\n",
       "\tExact Wilcoxon-Pratt Signed-Rank Test\n",
       "\n",
       "data:  y by x (pos, neg) \n",
       "\t stratified by block\n",
       "Z = 2.2757, p-value = 0.02291\n",
       "alternative hypothesis: true mu is not equal to 0\n"
      ]
     },
     "metadata": {},
     "output_type": "display_data"
    },
    {
     "name": "stdout",
     "output_type": "stream",
     "text": [
      "Effect Size:  0.08481033 \n",
      "[1] \"0 vs 180---------------------------------------------------------------------------\"\n"
     ]
    },
    {
     "data": {
      "text/plain": [
       "\n",
       "\tWilcoxon signed rank test with continuity correction\n",
       "\n",
       "data:  GroupA and GroupC\n",
       "V = 45208, p-value < 2.2e-16\n",
       "alternative hypothesis: true location shift is not equal to 0\n"
      ]
     },
     "metadata": {},
     "output_type": "display_data"
    },
    {
     "data": {
      "text/plain": [
       "\n",
       "\tExact Wilcoxon-Pratt Signed-Rank Test\n",
       "\n",
       "data:  y by x (pos, neg) \n",
       "\t stratified by block\n",
       "Z = 15.577, p-value < 2.2e-16\n",
       "alternative hypothesis: true mu is not equal to 0\n"
      ]
     },
     "metadata": {},
     "output_type": "display_data"
    },
    {
     "name": "stdout",
     "output_type": "stream",
     "text": [
      "Effect Size:  0.5805205 \n",
      "[1] \"90 vs 180---------------------------------------------------------------------------\"\n"
     ]
    },
    {
     "data": {
      "text/plain": [
       "\n",
       "\tWilcoxon signed rank test with continuity correction\n",
       "\n",
       "data:  GroupB and GroupC\n",
       "V = 45817, p-value < 2.2e-16\n",
       "alternative hypothesis: true location shift is not equal to 0\n"
      ]
     },
     "metadata": {},
     "output_type": "display_data"
    },
    {
     "data": {
      "text/plain": [
       "\n",
       "\tExact Wilcoxon-Pratt Signed-Rank Test\n",
       "\n",
       "data:  y by x (pos, neg) \n",
       "\t stratified by block\n",
       "Z = 15.199, p-value < 2.2e-16\n",
       "alternative hypothesis: true mu is not equal to 0\n"
      ]
     },
     "metadata": {},
     "output_type": "display_data"
    },
    {
     "name": "stdout",
     "output_type": "stream",
     "text": [
      "Effect Size:  0.5664333 \n",
      "[1] \"open vs close---------------------------------------------------------------------------\"\n"
     ]
    },
    {
     "data": {
      "text/plain": [
       "\n",
       "\tWilcoxon signed rank test with continuity correction\n",
       "\n",
       "data:  GroupA and GroupB\n",
       "V = 26994, p-value = 2.164e-08\n",
       "alternative hypothesis: true location shift is not equal to 0\n"
      ]
     },
     "metadata": {},
     "output_type": "display_data"
    },
    {
     "data": {
      "text/plain": [
       "\n",
       "\tExact Wilcoxon-Pratt Signed-Rank Test\n",
       "\n",
       "data:  y by x (pos, neg) \n",
       "\t stratified by block\n",
       "Z = 5.825, p-value = 3.983e-09\n",
       "alternative hypothesis: true mu is not equal to 0\n"
      ]
     },
     "metadata": {},
     "output_type": "display_data"
    },
    {
     "name": "stdout",
     "output_type": "stream",
     "text": [
      "Effect Size:  0.1772491 \n",
      "[1] \"below vs beside---------------------------------------------------------------------------\"\n"
     ]
    },
    {
     "data": {
      "text/plain": [
       "\n",
       "\tWilcoxon signed rank test with continuity correction\n",
       "\n",
       "data:  GroupA and GroupB\n",
       "V = 13050, p-value = 8.987e-08\n",
       "alternative hypothesis: true location shift is not equal to 0\n"
      ]
     },
     "metadata": {},
     "output_type": "display_data"
    },
    {
     "data": {
      "text/plain": [
       "\n",
       "\tExact Wilcoxon-Pratt Signed-Rank Test\n",
       "\n",
       "data:  y by x (pos, neg) \n",
       "\t stratified by block\n",
       "Z = 5.2364, p-value = 1.145e-07\n",
       "alternative hypothesis: true mu is not equal to 0\n"
      ]
     },
     "metadata": {},
     "output_type": "display_data"
    },
    {
     "name": "stdout",
     "output_type": "stream",
     "text": [
      "Effect Size:  0.1951491 \n",
      "[1] \"below vs on---------------------------------------------------------------------------\"\n"
     ]
    },
    {
     "data": {
      "text/plain": [
       "\n",
       "\tWilcoxon signed rank test with continuity correction\n",
       "\n",
       "data:  GroupA and GroupC\n",
       "V = 11450, p-value = 0.0001367\n",
       "alternative hypothesis: true location shift is not equal to 0\n"
      ]
     },
     "metadata": {},
     "output_type": "display_data"
    },
    {
     "data": {
      "text/plain": [
       "\n",
       "\tExact Wilcoxon-Pratt Signed-Rank Test\n",
       "\n",
       "data:  y by x (pos, neg) \n",
       "\t stratified by block\n",
       "Z = 3.6446, p-value = 0.0002497\n",
       "alternative hypothesis: true mu is not equal to 0\n"
      ]
     },
     "metadata": {},
     "output_type": "display_data"
    },
    {
     "name": "stdout",
     "output_type": "stream",
     "text": [
      "Effect Size:  0.1358262 \n",
      "[1] \"beside vs on---------------------------------------------------------------------------\"\n"
     ]
    },
    {
     "data": {
      "text/plain": [
       "\n",
       "\tWilcoxon signed rank test with continuity correction\n",
       "\n",
       "data:  GroupB and GroupC\n",
       "V = 5178.5, p-value = 0.01864\n",
       "alternative hypothesis: true location shift is not equal to 0\n"
      ]
     },
     "metadata": {},
     "output_type": "display_data"
    },
    {
     "data": {
      "text/plain": [
       "\n",
       "\tExact Wilcoxon-Pratt Signed-Rank Test\n",
       "\n",
       "data:  y by x (pos, neg) \n",
       "\t stratified by block\n",
       "Z = -1.9426, p-value = 0.05241\n",
       "alternative hypothesis: true mu is not equal to 0\n"
      ]
     },
     "metadata": {},
     "output_type": "display_data"
    },
    {
     "name": "stdout",
     "output_type": "stream",
     "text": [
      "Effect Size:  0.07239643 \n",
      "[1] \"open vs close---------------------------------------------------------------------------\"\n"
     ]
    },
    {
     "data": {
      "text/plain": [
       "\n",
       "\tWilcoxon signed rank test with continuity correction\n",
       "\n",
       "data:  GroupA and GroupB\n",
       "V = 44944, p-value = 0.007761\n",
       "alternative hypothesis: true location shift is not equal to 0\n"
      ]
     },
     "metadata": {},
     "output_type": "display_data"
    },
    {
     "data": {
      "text/plain": [
       "\n",
       "\tExact Wilcoxon-Pratt Signed-Rank Test\n",
       "\n",
       "data:  y by x (pos, neg) \n",
       "\t stratified by block\n",
       "Z = 3.1415, p-value = 0.001647\n",
       "alternative hypothesis: true mu is not equal to 0\n"
      ]
     },
     "metadata": {},
     "output_type": "display_data"
    },
    {
     "name": "stdout",
     "output_type": "stream",
     "text": [
      "Effect Size:  0.0955928 \n"
     ]
    }
   ],
   "source": [
    "orientation_0<-filter(data_comfort, orientation==\"0\")\n",
    "orientation_90<-filter(data_comfort, orientation==\"90\")\n",
    "orientation_180<-filter(data_comfort, orientation==\"180\")\n",
    "# orientation_0 vs orientation_90\n",
    "GroupA <- as.numeric(unlist(as.list(orientation_0[\"score\"])))\n",
    "GroupB <- as.numeric(unlist(as.list(orientation_90[\"score\"])))\n",
    "GroupC <- as.numeric(unlist(as.list(orientation_180[\"score\"])))\n",
    "print(\"0 vs 90---------------------------------------------------------------------------\")\n",
    "wilcox.test(GroupA,GroupB,paired=T)\n",
    "wilcoxsign_test(GroupA ~ GroupB, distribution=\"exact\")\n",
    "cat(\"Effect Size: \", 2.2757/sqrt(length(GroupA)+length(GroupB)), \"\\n\")\n",
    "print(\"0 vs 180---------------------------------------------------------------------------\")\n",
    "wilcox.test(GroupA,GroupC,paired=T)\n",
    "wilcoxsign_test(GroupA ~ GroupC, distribution=\"exact\")\n",
    "cat(\"Effect Size: \", 15.577/sqrt(length(GroupA)+length(GroupC)), \"\\n\")\n",
    "print(\"90 vs 180---------------------------------------------------------------------------\")\n",
    "wilcox.test(GroupB,GroupC,paired=T)\n",
    "wilcoxsign_test(GroupB ~ GroupC, distribution=\"exact\")\n",
    "cat(\"Effect Size: \", 15.199/sqrt(length(GroupB)+length(GroupC)), \"\\n\")\n",
    "\n",
    "\n",
    "\n",
    "form_open<-filter(data_comfort, form==\"Open\")\n",
    "form_close<-filter(data_comfort, form==\"Close\")\n",
    "# orientation_0 vs orientation_90\n",
    "GroupA <- as.numeric(unlist(as.list(form_open[\"score\"])))\n",
    "GroupB <- as.numeric(unlist(as.list(form_close[\"score\"])))\n",
    "print(\"open vs close---------------------------------------------------------------------------\")\n",
    "wilcox.test(GroupA,GroupB,paired=T)\n",
    "wilcoxsign_test(GroupA ~ GroupB, distribution=\"exact\")\n",
    "cat(\"Effect Size: \", 5.825/sqrt(length(GroupA)+length(GroupB)), \"\\n\")\n",
    "\n",
    "\n",
    "surface_below<-filter(data_comfort, surface==\"Below\")\n",
    "surface_beside<-filter(data_comfort, surface==\"Beside\")\n",
    "surface_on<-filter(data_comfort, surface==\"On\")\n",
    "# orientation_0 vs orientation_90\n",
    "GroupA <- as.numeric(unlist(as.list(surface_below[\"score\"])))\n",
    "GroupB <- as.numeric(unlist(as.list(surface_beside[\"score\"])))\n",
    "GroupC <- as.numeric(unlist(as.list(surface_on[\"score\"])))\n",
    "print(\"below vs beside---------------------------------------------------------------------------\")\n",
    "wilcox.test(GroupA,GroupB,paired=T)\n",
    "wilcoxsign_test(GroupA ~ GroupB, distribution=\"exact\")\n",
    "cat(\"Effect Size: \", 5.2364/sqrt(length(GroupA)+length(GroupB)), \"\\n\")\n",
    "print(\"below vs on---------------------------------------------------------------------------\")\n",
    "wilcox.test(GroupA,GroupC,paired=T)\n",
    "wilcoxsign_test(GroupA ~ GroupC, distribution=\"exact\")\n",
    "cat(\"Effect Size: \", 3.6446/sqrt(length(GroupA)+length(GroupC)), \"\\n\")\n",
    "print(\"beside vs on---------------------------------------------------------------------------\")\n",
    "wilcox.test(GroupB,GroupC,paired=T)\n",
    "wilcoxsign_test(GroupB ~ GroupC, distribution=\"exact\")\n",
    "cat(\"Effect Size: \", 1.9426/sqrt(length(GroupB)+length(GroupC)), \"\\n\")\n",
    "\n",
    "dexterity_dominant<-filter(data_comfort, dexterity==\"Dominant\")\n",
    "dexterity_non_dominant<-filter(data_comfort, dexterity==\"Non Dominant\")\n",
    "# orientation_0 vs orientation_90\n",
    "GroupA <- as.numeric(unlist(as.list(dexterity_dominant[\"score\"])))\n",
    "GroupB <- as.numeric(unlist(as.list(dexterity_non_dominant[\"score\"])))\n",
    "print(\"open vs close---------------------------------------------------------------------------\")\n",
    "wilcox.test(GroupA,GroupB,paired=T)\n",
    "wilcoxsign_test(GroupA ~ GroupB, distribution=\"exact\")\n",
    "cat(\"Effect Size: \", 3.1415/sqrt(length(GroupA)+length(GroupB)), \"\\n\")"
   ]
  },
  {
   "cell_type": "code",
   "execution_count": null,
   "metadata": {},
   "outputs": [],
   "source": []
  },
  {
   "cell_type": "code",
   "execution_count": null,
   "metadata": {},
   "outputs": [],
   "source": []
  },
  {
   "cell_type": "code",
   "execution_count": null,
   "metadata": {},
   "outputs": [],
   "source": []
  },
  {
   "cell_type": "code",
   "execution_count": 410,
   "metadata": {},
   "outputs": [
    {
     "name": "stdout",
     "output_type": "stream",
     "text": [
      "[1] \"orientation---------------------------------------------------------------------------\"\n"
     ]
    },
    {
     "data": {
      "text/plain": [
       "\n",
       "\tFriedman rank sum test\n",
       "\n",
       "data:  data_preference_orientation\n",
       "Friedman chi-squared = 311.24, df = 2, p-value < 2.2e-16\n"
      ]
     },
     "metadata": {},
     "output_type": "display_data"
    },
    {
     "name": "stdout",
     "output_type": "stream",
     "text": [
      "[1] \"surface---------------------------------------------------------------------------\"\n"
     ]
    },
    {
     "data": {
      "text/plain": [
       "\n",
       "\tFriedman rank sum test\n",
       "\n",
       "data:  data_preference_surface\n",
       "Friedman chi-squared = 44.713, df = 2, p-value = 1.953e-10\n"
      ]
     },
     "metadata": {},
     "output_type": "display_data"
    },
    {
     "name": "stdout",
     "output_type": "stream",
     "text": [
      "[1] \"form---------------------------------------------------------------------------\"\n"
     ]
    },
    {
     "data": {
      "text/plain": [
       "\n",
       "\tFriedman rank sum test\n",
       "\n",
       "data:  data_preference_form\n",
       "Friedman chi-squared = 26.67, df = 1, p-value = 2.413e-07\n"
      ]
     },
     "metadata": {},
     "output_type": "display_data"
    },
    {
     "name": "stdout",
     "output_type": "stream",
     "text": [
      "[1] \"dexterity---------------------------------------------------------------------------\"\n"
     ]
    },
    {
     "data": {
      "text/plain": [
       "\n",
       "\tFriedman rank sum test\n",
       "\n",
       "data:  data_preference_dexterity\n",
       "Friedman chi-squared = 7.0401, df = 1, p-value = 0.00797\n"
      ]
     },
     "metadata": {},
     "output_type": "display_data"
    }
   ],
   "source": [
    "print(\"orientation---------------------------------------------------------------------------\")\n",
    "data_preference_orientation <- cbind(data_preference[data_preference$orientation==\"0\",]$score, data_preference[data_preference$orientation==\"90\",]$score, data_preference[data_preference$orientation==\"180\",]$score)\n",
    "friedman.test(data_preference_orientation)\n",
    "print(\"surface---------------------------------------------------------------------------\")\n",
    "data_preference_surface <- cbind(data_preference[data_preference$surface==\"Beside\",]$score, data_preference[data_preference$surface==\"Below\",]$score, data_preference[data_preference$surface==\"On\",]$score)\n",
    "friedman.test(data_preference_surface)\n",
    "print(\"form---------------------------------------------------------------------------\")\n",
    "data_preference_form <- cbind(data_preference[data_preference$form==\"Open\",]$score, data_preference[data_preference$form==\"Close\",]$score)\n",
    "friedman.test(data_preference_form)\n",
    "print(\"dexterity---------------------------------------------------------------------------\")\n",
    "data_preference_dexterity <- cbind(data_preference[data_preference$dexterity==\"Dominant\",]$score, data_preference[data_preference$dexterity==\"Non Dominant\",]$score)\n",
    "friedman.test(data_preference_dexterity)"
   ]
  },
  {
   "cell_type": "code",
   "execution_count": 396,
   "metadata": {},
   "outputs": [
    {
     "name": "stdout",
     "output_type": "stream",
     "text": [
      "[1] \"orientation---------------------------------------------------------------------------\"\n"
     ]
    },
    {
     "data": {
      "text/plain": [
       "\n",
       "\tPairwise comparisons using Wilcoxon signed rank test \n",
       "\n",
       "data:  data_preference$score and data_preference$orientation \n",
       "\n",
       "    0      90    \n",
       "90  0.087  -     \n",
       "180 <2e-16 <2e-16\n",
       "\n",
       "P value adjustment method: bonferroni "
      ]
     },
     "metadata": {},
     "output_type": "display_data"
    },
    {
     "name": "stdout",
     "output_type": "stream",
     "text": [
      "[1] \"form---------------------------------------------------------------------------\"\n"
     ]
    },
    {
     "data": {
      "text/plain": [
       "\n",
       "\tPairwise comparisons using Wilcoxon signed rank test \n",
       "\n",
       "data:  data_preference$score and data_preference$form \n",
       "\n",
       "     Close  \n",
       "Open 1.7e-07\n",
       "\n",
       "P value adjustment method: bonferroni "
      ]
     },
     "metadata": {},
     "output_type": "display_data"
    },
    {
     "name": "stdout",
     "output_type": "stream",
     "text": [
      "[1] \"surface---------------------------------------------------------------------------\"\n"
     ]
    },
    {
     "data": {
      "text/plain": [
       "\n",
       "\tPairwise comparisons using Wilcoxon signed rank test \n",
       "\n",
       "data:  data_preference$score and data_preference$surface \n",
       "\n",
       "       Below   Beside \n",
       "Beside 8.5e-11 -      \n",
       "On     0.076   1.3e-08\n",
       "\n",
       "P value adjustment method: bonferroni "
      ]
     },
     "metadata": {},
     "output_type": "display_data"
    },
    {
     "name": "stdout",
     "output_type": "stream",
     "text": [
      "[1] \"dexterity---------------------------------------------------------------------------\"\n"
     ]
    },
    {
     "data": {
      "text/plain": [
       "\n",
       "\tPairwise comparisons using Wilcoxon signed rank test \n",
       "\n",
       "data:  data_preference$score and data_preference$dexterity \n",
       "\n",
       "             Dominant\n",
       "Non Dominant 0.038   \n",
       "\n",
       "P value adjustment method: bonferroni "
      ]
     },
     "metadata": {},
     "output_type": "display_data"
    }
   ],
   "source": [
    "print(\"orientation---------------------------------------------------------------------------\")\n",
    "pairwise.wilcox.test(data_preference$score, data_preference$orientation, p.adj=\"bonferroni\", exact=F, paired=T)\n",
    "print(\"form---------------------------------------------------------------------------\")\n",
    "pairwise.wilcox.test(data_preference$score, data_preference$form, p.adj=\"bonferroni\", exact=F, paired=T)\n",
    "print(\"surface---------------------------------------------------------------------------\")\n",
    "pairwise.wilcox.test(data_preference$score, data_preference$surface, p.adj=\"bonferroni\", exact=F, paired=T)\n",
    "print(\"dexterity---------------------------------------------------------------------------\")\n",
    "pairwise.wilcox.test(data_preference$score, data_preference$dexterity, p.adj=\"bonferroni\", exact=F, paired=T)"
   ]
  },
  {
   "cell_type": "code",
   "execution_count": 411,
   "metadata": {},
   "outputs": [
    {
     "name": "stdout",
     "output_type": "stream",
     "text": [
      "[1] \"0 vs 90---------------------------------------------------------------------------\"\n"
     ]
    },
    {
     "data": {
      "text/plain": [
       "\n",
       "\tWilcoxon signed rank test with continuity correction\n",
       "\n",
       "data:  GroupA and GroupB\n",
       "V = 11739, p-value = 0.02889\n",
       "alternative hypothesis: true location shift is not equal to 0\n"
      ]
     },
     "metadata": {},
     "output_type": "display_data"
    },
    {
     "data": {
      "text/plain": [
       "\n",
       "\tExact Wilcoxon-Pratt Signed-Rank Test\n",
       "\n",
       "data:  y by x (pos, neg) \n",
       "\t stratified by block\n",
       "Z = 2.1046, p-value = 0.03537\n",
       "alternative hypothesis: true mu is not equal to 0\n"
      ]
     },
     "metadata": {},
     "output_type": "display_data"
    },
    {
     "name": "stdout",
     "output_type": "stream",
     "text": [
      "Effect Size:  0.08481033 \n",
      "[1] \"0 vs 180---------------------------------------------------------------------------\"\n"
     ]
    },
    {
     "data": {
      "text/plain": [
       "\n",
       "\tWilcoxon signed rank test with continuity correction\n",
       "\n",
       "data:  GroupA and GroupC\n",
       "V = 36372, p-value < 2.2e-16\n",
       "alternative hypothesis: true location shift is not equal to 0\n"
      ]
     },
     "metadata": {},
     "output_type": "display_data"
    },
    {
     "data": {
      "text/plain": [
       "\n",
       "\tExact Wilcoxon-Pratt Signed-Rank Test\n",
       "\n",
       "data:  y by x (pos, neg) \n",
       "\t stratified by block\n",
       "Z = 14.396, p-value < 2.2e-16\n",
       "alternative hypothesis: true mu is not equal to 0\n"
      ]
     },
     "metadata": {},
     "output_type": "display_data"
    },
    {
     "name": "stdout",
     "output_type": "stream",
     "text": [
      "Effect Size:  0.5805205 \n",
      "[1] \"90 vs 180---------------------------------------------------------------------------\"\n"
     ]
    },
    {
     "data": {
      "text/plain": [
       "\n",
       "\tWilcoxon signed rank test with continuity correction\n",
       "\n",
       "data:  GroupB and GroupC\n",
       "V = 35102, p-value < 2.2e-16\n",
       "alternative hypothesis: true location shift is not equal to 0\n"
      ]
     },
     "metadata": {},
     "output_type": "display_data"
    },
    {
     "data": {
      "text/plain": [
       "\n",
       "\tExact Wilcoxon-Pratt Signed-Rank Test\n",
       "\n",
       "data:  y by x (pos, neg) \n",
       "\t stratified by block\n",
       "Z = 13.749, p-value < 2.2e-16\n",
       "alternative hypothesis: true mu is not equal to 0\n"
      ]
     },
     "metadata": {},
     "output_type": "display_data"
    },
    {
     "name": "stdout",
     "output_type": "stream",
     "text": [
      "Effect Size:  0.5664333 \n",
      "[1] \"open vs close---------------------------------------------------------------------------\"\n"
     ]
    },
    {
     "data": {
      "text/plain": [
       "\n",
       "\tWilcoxon signed rank test with continuity correction\n",
       "\n",
       "data:  GroupA and GroupB\n",
       "V = 29443, p-value = 1.687e-07\n",
       "alternative hypothesis: true location shift is not equal to 0\n"
      ]
     },
     "metadata": {},
     "output_type": "display_data"
    },
    {
     "data": {
      "text/plain": [
       "\n",
       "\tExact Wilcoxon-Pratt Signed-Rank Test\n",
       "\n",
       "data:  y by x (pos, neg) \n",
       "\t stratified by block\n",
       "Z = 5.2964, p-value = 9.338e-08\n",
       "alternative hypothesis: true mu is not equal to 0\n"
      ]
     },
     "metadata": {},
     "output_type": "display_data"
    },
    {
     "name": "stdout",
     "output_type": "stream",
     "text": [
      "Effect Size:  0.1772491 \n",
      "[1] \"below vs beside---------------------------------------------------------------------------\"\n"
     ]
    },
    {
     "data": {
      "text/plain": [
       "\n",
       "\tWilcoxon signed rank test with continuity correction\n",
       "\n",
       "data:  GroupA and GroupB\n",
       "V = 19422, p-value = 2.824e-11\n",
       "alternative hypothesis: true location shift is not equal to 0\n"
      ]
     },
     "metadata": {},
     "output_type": "display_data"
    },
    {
     "data": {
      "text/plain": [
       "\n",
       "\tExact Wilcoxon-Pratt Signed-Rank Test\n",
       "\n",
       "data:  y by x (pos, neg) \n",
       "\t stratified by block\n",
       "Z = 6.5282, p-value = 2.885e-11\n",
       "alternative hypothesis: true mu is not equal to 0\n"
      ]
     },
     "metadata": {},
     "output_type": "display_data"
    },
    {
     "name": "stdout",
     "output_type": "stream",
     "text": [
      "Effect Size:  0.1951491 \n",
      "[1] \"below vs on---------------------------------------------------------------------------\"\n"
     ]
    },
    {
     "data": {
      "text/plain": [
       "\n",
       "\tWilcoxon signed rank test with continuity correction\n",
       "\n",
       "data:  GroupA and GroupC\n",
       "V = 12350, p-value = 0.02532\n",
       "alternative hypothesis: true location shift is not equal to 0\n"
      ]
     },
     "metadata": {},
     "output_type": "display_data"
    },
    {
     "data": {
      "text/plain": [
       "\n",
       "\tExact Wilcoxon-Pratt Signed-Rank Test\n",
       "\n",
       "data:  y by x (pos, neg) \n",
       "\t stratified by block\n",
       "Z = 1.5773, p-value = 0.1149\n",
       "alternative hypothesis: true mu is not equal to 0\n"
      ]
     },
     "metadata": {},
     "output_type": "display_data"
    },
    {
     "name": "stdout",
     "output_type": "stream",
     "text": [
      "Effect Size:  0.1358262 \n",
      "[1] \"beside vs on---------------------------------------------------------------------------\"\n"
     ]
    },
    {
     "data": {
      "text/plain": [
       "\n",
       "\tWilcoxon signed rank test with continuity correction\n",
       "\n",
       "data:  GroupB and GroupC\n",
       "V = 4896.5, p-value = 4.426e-09\n",
       "alternative hypothesis: true location shift is not equal to 0\n"
      ]
     },
     "metadata": {},
     "output_type": "display_data"
    },
    {
     "data": {
      "text/plain": [
       "\n",
       "\tExact Wilcoxon-Pratt Signed-Rank Test\n",
       "\n",
       "data:  y by x (pos, neg) \n",
       "\t stratified by block\n",
       "Z = -5.4442, p-value = 3.326e-08\n",
       "alternative hypothesis: true mu is not equal to 0\n"
      ]
     },
     "metadata": {},
     "output_type": "display_data"
    },
    {
     "name": "stdout",
     "output_type": "stream",
     "text": [
      "Effect Size:  0.07239643 \n",
      "[1] \"open vs close---------------------------------------------------------------------------\"\n"
     ]
    },
    {
     "data": {
      "text/plain": [
       "\n",
       "\tWilcoxon signed rank test with continuity correction\n",
       "\n",
       "data:  GroupA and GroupB\n",
       "V = 44568, p-value = 0.03806\n",
       "alternative hypothesis: true location shift is not equal to 0\n"
      ]
     },
     "metadata": {},
     "output_type": "display_data"
    },
    {
     "data": {
      "text/plain": [
       "\n",
       "\tExact Wilcoxon-Pratt Signed-Rank Test\n",
       "\n",
       "data:  y by x (pos, neg) \n",
       "\t stratified by block\n",
       "Z = 2.3609, p-value = 0.01815\n",
       "alternative hypothesis: true mu is not equal to 0\n"
      ]
     },
     "metadata": {},
     "output_type": "display_data"
    },
    {
     "name": "stdout",
     "output_type": "stream",
     "text": [
      "Effect Size:  0.0955928 \n"
     ]
    }
   ],
   "source": [
    "orientation_0<-filter(data_preference, orientation==\"0\")\n",
    "orientation_90<-filter(data_preference, orientation==\"90\")\n",
    "orientation_180<-filter(data_preference, orientation==\"180\")\n",
    "# orientation_0 vs orientation_90\n",
    "GroupA <- as.numeric(unlist(as.list(orientation_0[\"score\"])))\n",
    "GroupB <- as.numeric(unlist(as.list(orientation_90[\"score\"])))\n",
    "GroupC <- as.numeric(unlist(as.list(orientation_180[\"score\"])))\n",
    "print(\"0 vs 90---------------------------------------------------------------------------\")\n",
    "wilcox.test(GroupA,GroupB,paired=T)\n",
    "wilcoxsign_test(GroupA ~ GroupB, distribution=\"exact\")\n",
    "cat(\"Effect Size: \", 2.2757/sqrt(length(GroupA)+length(GroupB)), \"\\n\")\n",
    "print(\"0 vs 180---------------------------------------------------------------------------\")\n",
    "wilcox.test(GroupA,GroupC,paired=T)\n",
    "wilcoxsign_test(GroupA ~ GroupC, distribution=\"exact\")\n",
    "cat(\"Effect Size: \", 15.577/sqrt(length(GroupA)+length(GroupC)), \"\\n\")\n",
    "print(\"90 vs 180---------------------------------------------------------------------------\")\n",
    "wilcox.test(GroupB,GroupC,paired=T)\n",
    "wilcoxsign_test(GroupB ~ GroupC, distribution=\"exact\")\n",
    "cat(\"Effect Size: \", 15.199/sqrt(length(GroupB)+length(GroupC)), \"\\n\")\n",
    "\n",
    "\n",
    "\n",
    "form_open<-filter(data_preference, form==\"Open\")\n",
    "form_close<-filter(data_preference, form==\"Close\")\n",
    "# orientation_0 vs orientation_90\n",
    "GroupA <- as.numeric(unlist(as.list(form_open[\"score\"])))\n",
    "GroupB <- as.numeric(unlist(as.list(form_close[\"score\"])))\n",
    "print(\"open vs close---------------------------------------------------------------------------\")\n",
    "wilcox.test(GroupA,GroupB,paired=T)\n",
    "wilcoxsign_test(GroupA ~ GroupB, distribution=\"exact\")\n",
    "cat(\"Effect Size: \", 5.825/sqrt(length(GroupA)+length(GroupB)), \"\\n\")\n",
    "\n",
    "\n",
    "surface_below<-filter(data_preference, surface==\"Below\")\n",
    "surface_beside<-filter(data_preference, surface==\"Beside\")\n",
    "surface_on<-filter(data_preference, surface==\"On\")\n",
    "# orientation_0 vs orientation_90\n",
    "GroupA <- as.numeric(unlist(as.list(surface_below[\"score\"])))\n",
    "GroupB <- as.numeric(unlist(as.list(surface_beside[\"score\"])))\n",
    "GroupC <- as.numeric(unlist(as.list(surface_on[\"score\"])))\n",
    "print(\"below vs beside---------------------------------------------------------------------------\")\n",
    "wilcox.test(GroupA,GroupB,paired=T)\n",
    "wilcoxsign_test(GroupA ~ GroupB, distribution=\"exact\")\n",
    "cat(\"Effect Size: \", 5.2364/sqrt(length(GroupA)+length(GroupB)), \"\\n\")\n",
    "print(\"below vs on---------------------------------------------------------------------------\")\n",
    "wilcox.test(GroupA,GroupC,paired=T)\n",
    "wilcoxsign_test(GroupA ~ GroupC, distribution=\"exact\")\n",
    "cat(\"Effect Size: \", 3.6446/sqrt(length(GroupA)+length(GroupC)), \"\\n\")\n",
    "print(\"beside vs on---------------------------------------------------------------------------\")\n",
    "wilcox.test(GroupB,GroupC,paired=T)\n",
    "wilcoxsign_test(GroupB ~ GroupC, distribution=\"exact\")\n",
    "cat(\"Effect Size: \", 1.9426/sqrt(length(GroupB)+length(GroupC)), \"\\n\")\n",
    "\n",
    "dexterity_dominant<-filter(data_preference, dexterity==\"Dominant\")\n",
    "dexterity_non_dominant<-filter(data_preference, dexterity==\"Non Dominant\")\n",
    "# orientation_0 vs orientation_90\n",
    "GroupA <- as.numeric(unlist(as.list(dexterity_dominant[\"score\"])))\n",
    "GroupB <- as.numeric(unlist(as.list(dexterity_non_dominant[\"score\"])))\n",
    "print(\"open vs close---------------------------------------------------------------------------\")\n",
    "wilcox.test(GroupA,GroupB,paired=T)\n",
    "wilcoxsign_test(GroupA ~ GroupB, distribution=\"exact\")\n",
    "cat(\"Effect Size: \", 3.1415/sqrt(length(GroupA)+length(GroupB)), \"\\n\")"
   ]
  },
  {
   "cell_type": "code",
   "execution_count": null,
   "metadata": {},
   "outputs": [],
   "source": []
  },
  {
   "cell_type": "markdown",
   "metadata": {},
   "source": [
    "# STUDY 2"
   ]
  },
  {
   "cell_type": "code",
   "execution_count": 242,
   "metadata": {},
   "outputs": [
    {
     "data": {
      "text/plain": [
       "\n",
       "\tShapiro-Wilk normality test\n",
       "\n",
       "data:  n\n",
       "W = 0.8918, p-value < 2.2e-16\n"
      ]
     },
     "metadata": {},
     "output_type": "display_data"
    }
   ],
   "source": [
    "l = as.list(data_comfort[\"score\"])\n",
    "n = as.numeric(unlist(l))\n",
    "shapiro.test(n)"
   ]
  },
  {
   "cell_type": "code",
   "execution_count": 243,
   "metadata": {},
   "outputs": [
    {
     "ename": "ERROR",
     "evalue": "Error in normalize(n, method = \"standardize\", range = c(0, 5), margin = 1L, : could not find function \"normalize\"\n",
     "output_type": "error",
     "traceback": [
      "Error in normalize(n, method = \"standardize\", range = c(0, 5), margin = 1L, : could not find function \"normalize\"\nTraceback:\n"
     ]
    }
   ],
   "source": [
    "normalize(n, method = \"standardize\", range = c(0, 5), margin = 1L, on.constant = \"quiet\")\n",
    "# help(normalize)"
   ]
  },
  {
   "cell_type": "code",
   "execution_count": 244,
   "metadata": {},
   "outputs": [],
   "source": [
    "normalize_ <- function(x) {\n",
    "return ((x - min(x)) / (max(x) - min(x)))\n",
    "}"
   ]
  },
  {
   "cell_type": "code",
   "execution_count": 245,
   "metadata": {},
   "outputs": [
    {
     "data": {
      "text/plain": [
       "\n",
       "\tShapiro-Wilk normality test\n",
       "\n",
       "data:  nn\n",
       "W = 0.8918, p-value < 2.2e-16\n"
      ]
     },
     "metadata": {},
     "output_type": "display_data"
    }
   ],
   "source": [
    "nn = normalize_(n)\n",
    "shapiro.test(nn)"
   ]
  },
  {
   "cell_type": "code",
   "execution_count": null,
   "metadata": {},
   "outputs": [],
   "source": [
    "l = as.list(data_comfort[\"score\"])\n",
    "n = as.numeric(unlist(l))\n",
    "shapiro.test(n)"
   ]
  },
  {
   "cell_type": "code",
   "execution_count": 134,
   "metadata": {},
   "outputs": [
    {
     "data": {
      "text/plain": [
       "       X                 ParticipantID                posture   \n",
       " Min.   :  30.0   participant_1 : 36   Below_Left_Fist_0  : 30  \n",
       " 1st Qu.: 562.2   participant_10: 36   Below_Left_Fist_180: 30  \n",
       " Median :1094.5   participant_11: 36   Below_Left_Fist_90 : 30  \n",
       " Mean   :1094.5   participant_12: 36   Below_Left_Palm_0  : 30  \n",
       " 3rd Qu.:1626.8   participant_13: 36   Below_Left_Palm_180: 30  \n",
       " Max.   :2159.0   participant_14: 36   Below_Left_Palm_90 : 30  \n",
       "                  (Other)       :864   (Other)            :900  \n",
       "     score         surface                dexterity     form     orientation\n",
       " Min.   :1.000   Below :360   Dominant Hand    :540   Fist:540   0  :360    \n",
       " 1st Qu.:2.000   Beside:360   Non Dominant Hand:540   Palm:540   90 :360    \n",
       " Median :3.000   On    :360                                      180:360    \n",
       " Mean   :3.146                                                              \n",
       " 3rd Qu.:4.000                                                              \n",
       " Max.   :5.000                                                              \n",
       "                                                                            \n",
       "        rating    \n",
       " Comfort   :   0  \n",
       " Preference:1080  \n",
       "                  \n",
       "                  \n",
       "                  \n",
       "                  \n",
       "                  "
      ]
     },
     "metadata": {},
     "output_type": "display_data"
    }
   ],
   "source": [
    "data_preference.valid = data_preference\n",
    "data_preference.valid$orientation = as.factor(data_preference.valid$orientation)\n",
    "data_preference.valid$dexterity = as.factor(data_preference.valid$dexterity)\n",
    "data_preference.valid$form = as.factor(data_preference.valid$form)\n",
    "data_preference.valid$surface = as.factor(data_preference.valid$surface)\n",
    "data_preference.valid$ParticipantID = as.factor(data_preference.valid$ParticipantID)\n",
    "data_preference.valid$rating = as.factor(data_preference.valid$rating)\n",
    "summary(data_preference.valid)\n"
   ]
  },
  {
   "cell_type": "code",
   "execution_count": 135,
   "metadata": {},
   "outputs": [
    {
     "data": {
      "text/plain": [
       "       X                 ParticipantID                posture   \n",
       " Min.   :   0.0   participant_1 : 36   Below_Left_Fist_0  : 30  \n",
       " 1st Qu.: 532.2   participant_10: 36   Below_Left_Fist_180: 30  \n",
       " Median :1064.5   participant_11: 36   Below_Left_Fist_90 : 30  \n",
       " Mean   :1064.5   participant_12: 36   Below_Left_Palm_0  : 30  \n",
       " 3rd Qu.:1596.8   participant_13: 36   Below_Left_Palm_180: 30  \n",
       " Max.   :2129.0   participant_14: 36   Below_Left_Palm_90 : 30  \n",
       "                  (Other)       :864   (Other)            :900  \n",
       "     score         surface                dexterity     form      orientation \n",
       " Min.   :1.000   Below :360   Dominant Hand    :540   Fist:540   Min.   :  0  \n",
       " 1st Qu.:2.000   Beside:360   Non Dominant Hand:540   Palm:540   1st Qu.:  0  \n",
       " Median :3.000   On    :360                                      Median : 90  \n",
       " Mean   :3.251                                                   Mean   : 90  \n",
       " 3rd Qu.:4.000                                                   3rd Qu.:180  \n",
       " Max.   :5.000                                                   Max.   :180  \n",
       "                                                                              \n",
       "        rating    \n",
       " Comfort   :1080  \n",
       " Preference:   0  \n",
       "                  \n",
       "                  \n",
       "                  \n",
       "                  \n",
       "                  "
      ]
     },
     "metadata": {},
     "output_type": "display_data"
    }
   ],
   "source": [
    "data_comfort.valid = data_comfort\n",
    "data_comfort.valid$orientation = as.factor(data_comfort.valid$orientation)\n",
    "data_comfort.valid$dexterity = as.factor(data_comfort.valid$dexterity)\n",
    "data_comfort.valid$form = as.factor(data_comfort.valid$form)\n",
    "data_comfort.valid$surface = as.factor(data_comfort.valid$surface)\n",
    "data_comfort.valid$ParticipantID = as.factor(data_comfort.valid$ParticipantID)\n",
    "data_comfort.valid$rating = as.factor(data_comfort.valid$rating)\n",
    "summary(data_comfort)\n"
   ]
  },
  {
   "cell_type": "code",
   "execution_count": 142,
   "metadata": {},
   "outputs": [
    {
     "name": "stderr",
     "output_type": "stream",
     "text": [
      "Warning message:\n",
      "“Collapsing data to cell means. *IF* the requested effects are a subset of the full design, you must use the \"within_full\" argument, else results may be inaccurate.”"
     ]
    },
    {
     "data": {
      "text/html": [
       "<strong>$ANOVA</strong> = <table>\n",
       "<thead><tr><th scope=col>Effect</th><th scope=col>DFn</th><th scope=col>DFd</th><th scope=col>SSn</th><th scope=col>SSd</th><th scope=col>F</th><th scope=col>p</th><th scope=col>p&lt;.05</th><th scope=col>ges</th></tr></thead>\n",
       "<tbody>\n",
       "\t<tr><td>dexterity </td><td>1         </td><td>29        </td><td>0.312963  </td><td>3.291975  </td><td>2.756985  </td><td>0.1076068 </td><td>          </td><td>0.08681507</td></tr>\n",
       "</tbody>\n",
       "</table>\n"
      ],
      "text/latex": [
       "\\textbf{\\$ANOVA} = \\begin{tabular}{r|lllllllll}\n",
       " Effect & DFn & DFd & SSn & SSd & F & p & p<.05 & ges\\\\\n",
       "\\hline\n",
       "\t dexterity  & 1          & 29         & 0.312963   & 3.291975   & 2.756985   & 0.1076068  &            & 0.08681507\\\\\n",
       "\\end{tabular}\n"
      ],
      "text/markdown": [
       "**$ANOVA** = \n",
       "| Effect | DFn | DFd | SSn | SSd | F | p | p<.05 | ges |\n",
       "|---|---|---|---|---|---|---|---|---|\n",
       "| dexterity  | 1          | 29         | 0.312963   | 3.291975   | 2.756985   | 0.1076068  |            | 0.08681507 |\n",
       "\n"
      ],
      "text/plain": [
       "$ANOVA\n",
       "     Effect DFn DFd      SSn      SSd        F         p p<.05        ges\n",
       "1 dexterity   1  29 0.312963 3.291975 2.756985 0.1076068       0.08681507\n"
      ]
     },
     "metadata": {},
     "output_type": "display_data"
    }
   ],
   "source": [
    "ezANOVA(data_preference.valid,dv = score,wid = ParticipantID,within = dexterity, detailed = TRUE, type =1)"
   ]
  },
  {
   "cell_type": "code",
   "execution_count": 140,
   "metadata": {},
   "outputs": [
    {
     "name": "stderr",
     "output_type": "stream",
     "text": [
      "Warning message:\n",
      "“Collapsing data to cell means. *IF* the requested effects are a subset of the full design, you must use the \"within_full\" argument, else results may be inaccurate.”"
     ]
    },
    {
     "data": {
      "text/html": [
       "<strong>$ANOVA</strong> = <table>\n",
       "<thead><tr><th scope=col>Effect</th><th scope=col>DFn</th><th scope=col>DFd</th><th scope=col>SSn</th><th scope=col>SSd</th><th scope=col>F</th><th scope=col>p</th><th scope=col>p&lt;.05</th><th scope=col>ges</th></tr></thead>\n",
       "<tbody>\n",
       "\t<tr><td>form      </td><td>1         </td><td>29        </td><td>0.7782407 </td><td>4.507253  </td><td>5.007259  </td><td>0.03308875</td><td>*         </td><td>0.1472409 </td></tr>\n",
       "</tbody>\n",
       "</table>\n"
      ],
      "text/latex": [
       "\\textbf{\\$ANOVA} = \\begin{tabular}{r|lllllllll}\n",
       " Effect & DFn & DFd & SSn & SSd & F & p & p<.05 & ges\\\\\n",
       "\\hline\n",
       "\t form       & 1          & 29         & 0.7782407  & 4.507253   & 5.007259   & 0.03308875 & *          & 0.1472409 \\\\\n",
       "\\end{tabular}\n"
      ],
      "text/markdown": [
       "**$ANOVA** = \n",
       "| Effect | DFn | DFd | SSn | SSd | F | p | p<.05 | ges |\n",
       "|---|---|---|---|---|---|---|---|---|\n",
       "| form       | 1          | 29         | 0.7782407  | 4.507253   | 5.007259   | 0.03308875 | *          | 0.1472409  |\n",
       "\n"
      ],
      "text/plain": [
       "$ANOVA\n",
       "  Effect DFn DFd       SSn      SSd        F          p p<.05       ges\n",
       "1   form   1  29 0.7782407 4.507253 5.007259 0.03308875     * 0.1472409\n"
      ]
     },
     "metadata": {},
     "output_type": "display_data"
    }
   ],
   "source": [
    "ezANOVA(data_comfort.valid,dv = score,wid = ParticipantID,within = form, detailed = TRUE, type =1)"
   ]
  },
  {
   "cell_type": "code",
   "execution_count": 96,
   "metadata": {},
   "outputs": [
    {
     "name": "stderr",
     "output_type": "stream",
     "text": [
      "Warning message:\n",
      "“Collapsing data to cell means. *IF* the requested effects are a subset of the full design, you must use the \"within_full\" argument, else results may be inaccurate.”"
     ]
    },
    {
     "data": {
      "text/html": [
       "<strong>$ANOVA</strong> = <table>\n",
       "<thead><tr><th scope=col>Effect</th><th scope=col>DFn</th><th scope=col>DFd</th><th scope=col>F</th><th scope=col>p</th><th scope=col>p&lt;.05</th><th scope=col>ges</th></tr></thead>\n",
       "<tbody>\n",
       "\t<tr><td>surface    </td><td>2          </td><td>58         </td><td>5.625062   </td><td>0.005850808</td><td>*          </td><td>0.1624564  </td></tr>\n",
       "</tbody>\n",
       "</table>\n"
      ],
      "text/latex": [
       "\\textbf{\\$ANOVA} = \\begin{tabular}{r|lllllll}\n",
       " Effect & DFn & DFd & F & p & p<.05 & ges\\\\\n",
       "\\hline\n",
       "\t surface     & 2           & 58          & 5.625062    & 0.005850808 & *           & 0.1624564  \\\\\n",
       "\\end{tabular}\n"
      ],
      "text/markdown": [
       "**$ANOVA** = \n",
       "| Effect | DFn | DFd | F | p | p<.05 | ges |\n",
       "|---|---|---|---|---|---|---|\n",
       "| surface     | 2           | 58          | 5.625062    | 0.005850808 | *           | 0.1624564   |\n",
       "\n"
      ],
      "text/plain": [
       "$ANOVA\n",
       "   Effect DFn DFd        F           p p<.05       ges\n",
       "1 surface   2  58 5.625062 0.005850808     * 0.1624564\n"
      ]
     },
     "metadata": {},
     "output_type": "display_data"
    }
   ],
   "source": [
    "ezANOVA(data.valid,dv = score,wid = ParticipantID,within = surface, type=1)"
   ]
  },
  {
   "cell_type": "code",
   "execution_count": 143,
   "metadata": {},
   "outputs": [
    {
     "data": {
      "text/plain": [
       "\n",
       "\tPairwise comparisons using paired t tests \n",
       "\n",
       "data:  data_comfort.valid$score and data.valid$dexterity \n",
       "\n",
       "      Left \n",
       "Right 0.002\n",
       "\n",
       "P value adjustment method: bonferroni "
      ]
     },
     "metadata": {},
     "output_type": "display_data"
    }
   ],
   "source": [
    "pairwise.t.test(data_comfort.valid$score, data.valid$dexterity, paired = T, p.adjust.method = \"bonferroni\")"
   ]
  },
  {
   "cell_type": "raw",
   "metadata": {},
   "source": []
  }
 ],
 "metadata": {
  "kernelspec": {
   "display_name": "R",
   "language": "R",
   "name": "ir"
  },
  "language_info": {
   "codemirror_mode": "r",
   "file_extension": ".r",
   "mimetype": "text/x-r-source",
   "name": "R",
   "pygments_lexer": "r",
   "version": "3.6.1"
  }
 },
 "nbformat": 4,
 "nbformat_minor": 2
}
