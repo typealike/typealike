{
 "cells": [
  {
   "cell_type": "code",
   "execution_count": 1,
   "metadata": {},
   "outputs": [
    {
     "name": "stderr",
     "output_type": "stream",
     "text": [
      "Registered S3 methods overwritten by 'ggplot2':\n",
      "  method         from \n",
      "  [.quosures     rlang\n",
      "  c.quosures     rlang\n",
      "  print.quosures rlang\n",
      "Registered S3 methods overwritten by 'lme4':\n",
      "  method                          from\n",
      "  cooks.distance.influence.merMod car \n",
      "  influence.merMod                car \n",
      "  dfbeta.influence.merMod         car \n",
      "  dfbetas.influence.merMod        car \n",
      "Loading required package: ggplot2\n",
      "Loading required package: magrittr\n",
      "\n",
      "Attaching package: ‘dplyr’\n",
      "\n",
      "The following objects are masked from ‘package:stats’:\n",
      "\n",
      "    filter, lag\n",
      "\n",
      "The following objects are masked from ‘package:base’:\n",
      "\n",
      "    intersect, setdiff, setequal, union\n",
      "\n",
      "Loading required package: survival\n",
      "\n",
      "Attaching package: ‘rlang’\n",
      "\n",
      "The following object is masked from ‘package:magrittr’:\n",
      "\n",
      "    set_names\n",
      "\n"
     ]
    }
   ],
   "source": [
    "# library(afex)\n",
    "# install.packages(\"ez\")\n",
    "# install.packages(\"reprex\")\n",
    "# install.packages(\"ggpubr\")\n",
    "# install.packages(\"matrixStats\")\n",
    "# install.packages(\"coin\")\n",
    "# install.packages(\"nortest\")\n",
    "library(\"ez\")\n",
    "library(ggpubr) \n",
    "library(dplyr)   \n",
    "library(coin)\n",
    "library(dplyr)\n",
    "library(rlang)\n",
    "library(nortest)"
   ]
  },
  {
   "cell_type": "code",
   "execution_count": 5,
   "metadata": {},
   "outputs": [
    {
     "data": {
      "text/html": [
       "<table>\n",
       "<thead><tr><th></th><th scope=col>X</th><th scope=col>Participant</th><th scope=col>Block</th><th scope=col>Sequence</th><th scope=col>Sub_Sequence</th><th scope=col>Trial</th><th scope=col>Target_Type</th><th scope=col>Target_Name</th><th scope=col>Start_Time</th><th scope=col>End_Time</th><th scope=col>...</th><th scope=col>Completion_Time</th><th scope=col>Reference_Action_Count</th><th scope=col>Incorrect_Action_Count</th><th scope=col>Error</th><th scope=col>IV_Surface</th><th scope=col>IV_Orientation</th><th scope=col>IV_Form</th><th scope=col>IV_Hand</th><th scope=col>Previous_Reference_Task</th><th scope=col>Next_Reference_Task</th></tr></thead>\n",
       "<tbody>\n",
       "\t<tr><th scope=row>4793</th><td>14387         </td><td>participant_36</td><td>4             </td><td>9             </td><td>29            </td><td>707           </td><td>shortcut      </td><td>H             </td><td>1.567546e+12  </td><td>1.567546e+12  </td><td>...           </td><td>1133          </td><td>0             </td><td>0             </td><td>False         </td><td>shortcut      </td><td>shortcut      </td><td>shortcut      </td><td>shortcut      </td><td>word          </td><td>click         </td></tr>\n",
       "\t<tr><th scope=row>4794</th><td>14391         </td><td>participant_36</td><td>4             </td><td>9             </td><td>31            </td><td>711           </td><td>shortcut      </td><td>up            </td><td>1.567546e+12  </td><td>1.567546e+12  </td><td>...           </td><td>2038          </td><td>0             </td><td>0             </td><td>False         </td><td>shortcut      </td><td>shortcut      </td><td>shortcut      </td><td>shortcut      </td><td>word          </td><td>word          </td></tr>\n",
       "\t<tr><th scope=row>4795</th><td>14393         </td><td>participant_36</td><td>4             </td><td>9             </td><td>32            </td><td>713           </td><td>shortcut      </td><td>M             </td><td>1.567546e+12  </td><td>1.567546e+12  </td><td>...           </td><td>1367          </td><td>0             </td><td>0             </td><td>False         </td><td>shortcut      </td><td>shortcut      </td><td>shortcut      </td><td>shortcut      </td><td>word          </td><td>click         </td></tr>\n",
       "\t<tr><th scope=row>4796</th><td>14395         </td><td>participant_36</td><td>4             </td><td>9             </td><td>33            </td><td>715           </td><td>shortcut      </td><td>E             </td><td>1.567546e+12  </td><td>1.567546e+12  </td><td>...           </td><td>2066          </td><td>0             </td><td>0             </td><td>False         </td><td>shortcut      </td><td>shortcut      </td><td>shortcut      </td><td>shortcut      </td><td>click         </td><td>word          </td></tr>\n",
       "\t<tr><th scope=row>4797</th><td>14397         </td><td>participant_36</td><td>4             </td><td>9             </td><td>34            </td><td>717           </td><td>shortcut      </td><td>up            </td><td>1.567546e+12  </td><td>1.567546e+12  </td><td>...           </td><td>1164          </td><td>0             </td><td>0             </td><td>False         </td><td>shortcut      </td><td>shortcut      </td><td>shortcut      </td><td>shortcut      </td><td>word          </td><td>click         </td></tr>\n",
       "\t<tr><th scope=row>4798</th><td>14399         </td><td>participant_36</td><td>4             </td><td>9             </td><td>35            </td><td>719           </td><td>shortcut      </td><td>E             </td><td>1.567546e+12  </td><td>1.567546e+12  </td><td>...           </td><td>1436          </td><td>0             </td><td>0             </td><td>False         </td><td>shortcut      </td><td>shortcut      </td><td>shortcut      </td><td>shortcut      </td><td>click         </td><td>NA            </td></tr>\n",
       "</tbody>\n",
       "</table>\n"
      ],
      "text/latex": [
       "\\begin{tabular}{r|llllllllllllllllllllllll}\n",
       "  & X & Participant & Block & Sequence & Sub\\_Sequence & Trial & Target\\_Type & Target\\_Name & Start\\_Time & End\\_Time & ... & Completion\\_Time & Reference\\_Action\\_Count & Incorrect\\_Action\\_Count & Error & IV\\_Surface & IV\\_Orientation & IV\\_Form & IV\\_Hand & Previous\\_Reference\\_Task & Next\\_Reference\\_Task\\\\\n",
       "\\hline\n",
       "\t4793 & 14387            & participant\\_36 & 4                & 9                & 29               & 707              & shortcut         & H                & 1.567546e+12     & 1.567546e+12     & ...              & 1133             & 0                & 0                & False            & shortcut         & shortcut         & shortcut         & shortcut         & word             & click           \\\\\n",
       "\t4794 & 14391            & participant\\_36 & 4                & 9                & 31               & 711              & shortcut         & up               & 1.567546e+12     & 1.567546e+12     & ...              & 2038             & 0                & 0                & False            & shortcut         & shortcut         & shortcut         & shortcut         & word             & word            \\\\\n",
       "\t4795 & 14393            & participant\\_36 & 4                & 9                & 32               & 713              & shortcut         & M                & 1.567546e+12     & 1.567546e+12     & ...              & 1367             & 0                & 0                & False            & shortcut         & shortcut         & shortcut         & shortcut         & word             & click           \\\\\n",
       "\t4796 & 14395            & participant\\_36 & 4                & 9                & 33               & 715              & shortcut         & E                & 1.567546e+12     & 1.567546e+12     & ...              & 2066             & 0                & 0                & False            & shortcut         & shortcut         & shortcut         & shortcut         & click            & word            \\\\\n",
       "\t4797 & 14397            & participant\\_36 & 4                & 9                & 34               & 717              & shortcut         & up               & 1.567546e+12     & 1.567546e+12     & ...              & 1164             & 0                & 0                & False            & shortcut         & shortcut         & shortcut         & shortcut         & word             & click           \\\\\n",
       "\t4798 & 14399            & participant\\_36 & 4                & 9                & 35               & 719              & shortcut         & E                & 1.567546e+12     & 1.567546e+12     & ...              & 1436             & 0                & 0                & False            & shortcut         & shortcut         & shortcut         & shortcut         & click            & NA              \\\\\n",
       "\\end{tabular}\n"
      ],
      "text/markdown": [
       "\n",
       "| <!--/--> | X | Participant | Block | Sequence | Sub_Sequence | Trial | Target_Type | Target_Name | Start_Time | End_Time | ... | Completion_Time | Reference_Action_Count | Incorrect_Action_Count | Error | IV_Surface | IV_Orientation | IV_Form | IV_Hand | Previous_Reference_Task | Next_Reference_Task |\n",
       "|---|---|---|---|---|---|---|---|---|---|---|---|---|---|---|---|---|---|---|---|---|---|\n",
       "| 4793 | 14387          | participant_36 | 4              | 9              | 29             | 707            | shortcut       | H              | 1.567546e+12   | 1.567546e+12   | ...            | 1133           | 0              | 0              | False          | shortcut       | shortcut       | shortcut       | shortcut       | word           | click          |\n",
       "| 4794 | 14391          | participant_36 | 4              | 9              | 31             | 711            | shortcut       | up             | 1.567546e+12   | 1.567546e+12   | ...            | 2038           | 0              | 0              | False          | shortcut       | shortcut       | shortcut       | shortcut       | word           | word           |\n",
       "| 4795 | 14393          | participant_36 | 4              | 9              | 32             | 713            | shortcut       | M              | 1.567546e+12   | 1.567546e+12   | ...            | 1367           | 0              | 0              | False          | shortcut       | shortcut       | shortcut       | shortcut       | word           | click          |\n",
       "| 4796 | 14395          | participant_36 | 4              | 9              | 33             | 715            | shortcut       | E              | 1.567546e+12   | 1.567546e+12   | ...            | 2066           | 0              | 0              | False          | shortcut       | shortcut       | shortcut       | shortcut       | click          | word           |\n",
       "| 4797 | 14397          | participant_36 | 4              | 9              | 34             | 717            | shortcut       | up             | 1.567546e+12   | 1.567546e+12   | ...            | 1164           | 0              | 0              | False          | shortcut       | shortcut       | shortcut       | shortcut       | word           | click          |\n",
       "| 4798 | 14399          | participant_36 | 4              | 9              | 35             | 719            | shortcut       | E              | 1.567546e+12   | 1.567546e+12   | ...            | 1436           | 0              | 0              | False          | shortcut       | shortcut       | shortcut       | shortcut       | click          | NA             |\n",
       "\n"
      ],
      "text/plain": [
       "     X     Participant    Block Sequence Sub_Sequence Trial Target_Type\n",
       "4793 14387 participant_36 4     9        29           707   shortcut   \n",
       "4794 14391 participant_36 4     9        31           711   shortcut   \n",
       "4795 14393 participant_36 4     9        32           713   shortcut   \n",
       "4796 14395 participant_36 4     9        33           715   shortcut   \n",
       "4797 14397 participant_36 4     9        34           717   shortcut   \n",
       "4798 14399 participant_36 4     9        35           719   shortcut   \n",
       "     Target_Name Start_Time   End_Time     ... Completion_Time\n",
       "4793 H           1.567546e+12 1.567546e+12 ... 1133           \n",
       "4794 up          1.567546e+12 1.567546e+12 ... 2038           \n",
       "4795 M           1.567546e+12 1.567546e+12 ... 1367           \n",
       "4796 E           1.567546e+12 1.567546e+12 ... 2066           \n",
       "4797 up          1.567546e+12 1.567546e+12 ... 1164           \n",
       "4798 E           1.567546e+12 1.567546e+12 ... 1436           \n",
       "     Reference_Action_Count Incorrect_Action_Count Error IV_Surface\n",
       "4793 0                      0                      False shortcut  \n",
       "4794 0                      0                      False shortcut  \n",
       "4795 0                      0                      False shortcut  \n",
       "4796 0                      0                      False shortcut  \n",
       "4797 0                      0                      False shortcut  \n",
       "4798 0                      0                      False shortcut  \n",
       "     IV_Orientation IV_Form  IV_Hand  Previous_Reference_Task\n",
       "4793 shortcut       shortcut shortcut word                   \n",
       "4794 shortcut       shortcut shortcut word                   \n",
       "4795 shortcut       shortcut shortcut word                   \n",
       "4796 shortcut       shortcut shortcut click                  \n",
       "4797 shortcut       shortcut shortcut word                   \n",
       "4798 shortcut       shortcut shortcut click                  \n",
       "     Next_Reference_Task\n",
       "4793 click              \n",
       "4794 word               \n",
       "4795 click              \n",
       "4796 word               \n",
       "4797 click              \n",
       "4798 NA                 "
      ]
     },
     "metadata": {},
     "output_type": "display_data"
    },
    {
     "data": {
      "text/html": [
       "4798"
      ],
      "text/latex": [
       "4798"
      ],
      "text/markdown": [
       "4798"
      ],
      "text/plain": [
       "[1] 4798"
      ]
     },
     "metadata": {},
     "output_type": "display_data"
    }
   ],
   "source": [
    "data_1_5 <- read.csv(\"df_error_free_filtered_outliers_1_5.csv\")\n",
    "data_2_5 <- read.csv(\"df_error_free_filtered_outliers_2_5.csv\")\n",
    "# data_comfort <- filter(data, rating == \"Comfort\")\n",
    "# data_preference <- filter(data, rating == \"Preference\")\n",
    "data_current <- data_2_5\n",
    "current_factor_value <- \"Below\"\n",
    "# filter(data_surface, Error == \"True\")\n",
    "# head(data_current)\n",
    "tail(data_current)\n",
    "# nrow(data_current)\n",
    "nrow(data_current)\n",
    "# data_current$Completion_Time"
   ]
  },
  {
   "cell_type": "code",
   "execution_count": 6,
   "metadata": {},
   "outputs": [
    {
     "data": {
      "text/html": [
       "<table>\n",
       "<thead><tr><th></th><th scope=col>X</th><th scope=col>Unnamed..0</th><th scope=col>Participant</th><th scope=col>Block</th><th scope=col>Sequence</th><th scope=col>Sub_Sequence</th><th scope=col>Trial</th><th scope=col>Target_Type</th><th scope=col>Target_Name</th><th scope=col>Start_Time</th><th scope=col>...</th><th scope=col>Mode_Out_Time</th><th scope=col>Execution_Time</th><th scope=col>Reference_Action_Count</th><th scope=col>Incorrect_Action_Count</th><th scope=col>Error</th><th scope=col>IV_Surface</th><th scope=col>IV_Orientation</th><th scope=col>IV_Form</th><th scope=col>IV_Hand</th><th scope=col>Reference_Task</th></tr></thead>\n",
       "<tbody>\n",
       "\t<tr><th scope=row>3545</th><td>14317                </td><td>14317                </td><td>participant_38       </td><td>4                    </td><td>8                    </td><td>30                   </td><td>637                  </td><td>posture              </td><td>Right_Open_90_On     </td><td>1.567625e+12         </td><td>...                  </td><td> 891                 </td><td>2300                 </td><td>25                   </td><td>3                    </td><td>False                </td><td>On                   </td><td>90                   </td><td>Open                 </td><td>Right                </td><td>click                </td></tr>\n",
       "\t<tr><th scope=row>3546</th><td>14319                </td><td>14319                </td><td>participant_38       </td><td>4                    </td><td>8                    </td><td>31                   </td><td>639                  </td><td>posture              </td><td>Right_Open_90_Below  </td><td>1.567625e+12         </td><td>...                  </td><td> 920                 </td><td>3031                 </td><td> 9                   </td><td>8                    </td><td>False                </td><td>Below                </td><td>90                   </td><td>Open                 </td><td>Right                </td><td>word                 </td></tr>\n",
       "\t<tr><th scope=row>3547</th><td>14321                </td><td>14321                </td><td>participant_38       </td><td>4                    </td><td>8                    </td><td>32                   </td><td>641                  </td><td>posture              </td><td>Right_Open_90_Beside </td><td>1.567625e+12         </td><td>...                  </td><td>1922                 </td><td>5267                 </td><td>20                   </td><td>4                    </td><td>False                </td><td>Beside               </td><td>90                   </td><td>Open                 </td><td>Right                </td><td>word                 </td></tr>\n",
       "\t<tr><th scope=row>3548</th><td>14323                </td><td>14323                </td><td>participant_38       </td><td>4                    </td><td>8                    </td><td>33                   </td><td>643                  </td><td>posture              </td><td>Right_Open_180_On    </td><td>1.567625e+12         </td><td>...                  </td><td>1121                 </td><td>2334                 </td><td>20                   </td><td>0                    </td><td>False                </td><td>On                   </td><td> 0                   </td><td>Open                 </td><td>Right                </td><td>click                </td></tr>\n",
       "\t<tr><th scope=row>3549</th><td>14325                </td><td>14325                </td><td>participant_38       </td><td>4                    </td><td>8                    </td><td>34                   </td><td>645                  </td><td>posture              </td><td>Right_Open_180_Below </td><td>1.567625e+12         </td><td>...                  </td><td>2289                 </td><td>3937                 </td><td>27                   </td><td>0                    </td><td>False                </td><td>Below                </td><td> 0                   </td><td>Open                 </td><td>Right                </td><td>word                 </td></tr>\n",
       "\t<tr><th scope=row>3550</th><td>14327                </td><td>14327                </td><td>participant_38       </td><td>4                    </td><td>8                    </td><td>35                   </td><td>647                  </td><td>posture              </td><td>Right_Open_180_Beside</td><td>1.567625e+12         </td><td>...                  </td><td>   0                 </td><td>1041                 </td><td>25                   </td><td>5                    </td><td>False                </td><td>Beside               </td><td> 0                   </td><td>Open                 </td><td>Right                </td><td>click                </td></tr>\n",
       "</tbody>\n",
       "</table>\n"
      ],
      "text/latex": [
       "\\begin{tabular}{r|lllllllllllllllllllllll}\n",
       "  & X & Unnamed..0 & Participant & Block & Sequence & Sub\\_Sequence & Trial & Target\\_Type & Target\\_Name & Start\\_Time & ... & Mode\\_Out\\_Time & Execution\\_Time & Reference\\_Action\\_Count & Incorrect\\_Action\\_Count & Error & IV\\_Surface & IV\\_Orientation & IV\\_Form & IV\\_Hand & Reference\\_Task\\\\\n",
       "\\hline\n",
       "\t3545 & 14317                       & 14317                       & participant\\_38            & 4                           & 8                           & 30                          & 637                         & posture                     & Right\\_Open\\_90\\_On      & 1.567625e+12                & ...                         &  891                        & 2300                        & 25                          & 3                           & False                       & On                          & 90                          & Open                        & Right                       & click                      \\\\\n",
       "\t3546 & 14319                       & 14319                       & participant\\_38            & 4                           & 8                           & 31                          & 639                         & posture                     & Right\\_Open\\_90\\_Below   & 1.567625e+12                & ...                         &  920                        & 3031                        &  9                          & 8                           & False                       & Below                       & 90                          & Open                        & Right                       & word                       \\\\\n",
       "\t3547 & 14321                       & 14321                       & participant\\_38            & 4                           & 8                           & 32                          & 641                         & posture                     & Right\\_Open\\_90\\_Beside  & 1.567625e+12                & ...                         & 1922                        & 5267                        & 20                          & 4                           & False                       & Beside                      & 90                          & Open                        & Right                       & word                       \\\\\n",
       "\t3548 & 14323                       & 14323                       & participant\\_38            & 4                           & 8                           & 33                          & 643                         & posture                     & Right\\_Open\\_180\\_On     & 1.567625e+12                & ...                         & 1121                        & 2334                        & 20                          & 0                           & False                       & On                          &  0                          & Open                        & Right                       & click                      \\\\\n",
       "\t3549 & 14325                       & 14325                       & participant\\_38            & 4                           & 8                           & 34                          & 645                         & posture                     & Right\\_Open\\_180\\_Below  & 1.567625e+12                & ...                         & 2289                        & 3937                        & 27                          & 0                           & False                       & Below                       &  0                          & Open                        & Right                       & word                       \\\\\n",
       "\t3550 & 14327                       & 14327                       & participant\\_38            & 4                           & 8                           & 35                          & 647                         & posture                     & Right\\_Open\\_180\\_Beside & 1.567625e+12                & ...                         &    0                        & 1041                        & 25                          & 5                           & False                       & Beside                      &  0                          & Open                        & Right                       & click                      \\\\\n",
       "\\end{tabular}\n"
      ],
      "text/markdown": [
       "\n",
       "| <!--/--> | X | Unnamed..0 | Participant | Block | Sequence | Sub_Sequence | Trial | Target_Type | Target_Name | Start_Time | ... | Mode_Out_Time | Execution_Time | Reference_Action_Count | Incorrect_Action_Count | Error | IV_Surface | IV_Orientation | IV_Form | IV_Hand | Reference_Task |\n",
       "|---|---|---|---|---|---|---|---|---|---|---|---|---|---|---|---|---|---|---|---|---|---|\n",
       "| 3545 | 14317                 | 14317                 | participant_38        | 4                     | 8                     | 30                    | 637                   | posture               | Right_Open_90_On      | 1.567625e+12          | ...                   |  891                  | 2300                  | 25                    | 3                     | False                 | On                    | 90                    | Open                  | Right                 | click                 |\n",
       "| 3546 | 14319                 | 14319                 | participant_38        | 4                     | 8                     | 31                    | 639                   | posture               | Right_Open_90_Below   | 1.567625e+12          | ...                   |  920                  | 3031                  |  9                    | 8                     | False                 | Below                 | 90                    | Open                  | Right                 | word                  |\n",
       "| 3547 | 14321                 | 14321                 | participant_38        | 4                     | 8                     | 32                    | 641                   | posture               | Right_Open_90_Beside  | 1.567625e+12          | ...                   | 1922                  | 5267                  | 20                    | 4                     | False                 | Beside                | 90                    | Open                  | Right                 | word                  |\n",
       "| 3548 | 14323                 | 14323                 | participant_38        | 4                     | 8                     | 33                    | 643                   | posture               | Right_Open_180_On     | 1.567625e+12          | ...                   | 1121                  | 2334                  | 20                    | 0                     | False                 | On                    |  0                    | Open                  | Right                 | click                 |\n",
       "| 3549 | 14325                 | 14325                 | participant_38        | 4                     | 8                     | 34                    | 645                   | posture               | Right_Open_180_Below  | 1.567625e+12          | ...                   | 2289                  | 3937                  | 27                    | 0                     | False                 | Below                 |  0                    | Open                  | Right                 | word                  |\n",
       "| 3550 | 14327                 | 14327                 | participant_38        | 4                     | 8                     | 35                    | 647                   | posture               | Right_Open_180_Beside | 1.567625e+12          | ...                   |    0                  | 1041                  | 25                    | 5                     | False                 | Beside                |  0                    | Open                  | Right                 | click                 |\n",
       "\n"
      ],
      "text/plain": [
       "     X     Unnamed..0 Participant    Block Sequence Sub_Sequence Trial\n",
       "3545 14317 14317      participant_38 4     8        30           637  \n",
       "3546 14319 14319      participant_38 4     8        31           639  \n",
       "3547 14321 14321      participant_38 4     8        32           641  \n",
       "3548 14323 14323      participant_38 4     8        33           643  \n",
       "3549 14325 14325      participant_38 4     8        34           645  \n",
       "3550 14327 14327      participant_38 4     8        35           647  \n",
       "     Target_Type Target_Name           Start_Time   ... Mode_Out_Time\n",
       "3545 posture     Right_Open_90_On      1.567625e+12 ...  891         \n",
       "3546 posture     Right_Open_90_Below   1.567625e+12 ...  920         \n",
       "3547 posture     Right_Open_90_Beside  1.567625e+12 ... 1922         \n",
       "3548 posture     Right_Open_180_On     1.567625e+12 ... 1121         \n",
       "3549 posture     Right_Open_180_Below  1.567625e+12 ... 2289         \n",
       "3550 posture     Right_Open_180_Beside 1.567625e+12 ...    0         \n",
       "     Execution_Time Reference_Action_Count Incorrect_Action_Count Error\n",
       "3545 2300           25                     3                      False\n",
       "3546 3031            9                     8                      False\n",
       "3547 5267           20                     4                      False\n",
       "3548 2334           20                     0                      False\n",
       "3549 3937           27                     0                      False\n",
       "3550 1041           25                     5                      False\n",
       "     IV_Surface IV_Orientation IV_Form IV_Hand Reference_Task\n",
       "3545 On         90             Open    Right   click         \n",
       "3546 Below      90             Open    Right   word          \n",
       "3547 Beside     90             Open    Right   word          \n",
       "3548 On          0             Open    Right   click         \n",
       "3549 Below       0             Open    Right   word          \n",
       "3550 Beside      0             Open    Right   click         "
      ]
     },
     "metadata": {},
     "output_type": "display_data"
    },
    {
     "data": {
      "text/html": [
       "3550"
      ],
      "text/latex": [
       "3550"
      ],
      "text/markdown": [
       "3550"
      ],
      "text/plain": [
       "[1] 3550"
      ]
     },
     "metadata": {},
     "output_type": "display_data"
    }
   ],
   "source": [
    "data <- read.csv(\"df_all.csv\")\n",
    "data_block <- read.csv(\"data_block.csv\")\n",
    "data_surface <- read.csv(\"data_surface.csv\")\n",
    "data_orientation <- read.csv(\"data_orientation.csv\")\n",
    "data_hand <- read.csv(\"data_hand.csv\")\n",
    "data_form <- read.csv(\"data_form.csv\")\n",
    "# data_comfort <- filter(data, rating == \"Comfort\")\n",
    "# data_preference <- filter(data, rating == \"Preference\")\n",
    "data_current <- data_surface\n",
    "current_factor_value <- \"Below\"\n",
    "# filter(data_surface, Error == \"True\")\n",
    "# head(data_current)\n",
    "tail(data_current)\n",
    "# nrow(data_current)\n",
    "nrow(data_current)"
   ]
  },
  {
   "cell_type": "code",
   "execution_count": 7,
   "metadata": {},
   "outputs": [
    {
     "data": {
      "text/plain": [
       "NULL"
      ]
     },
     "metadata": {},
     "output_type": "display_data"
    }
   ],
   "source": [
    "data_current$Completion_Time"
   ]
  },
  {
   "cell_type": "code",
   "execution_count": 8,
   "metadata": {},
   "outputs": [
    {
     "data": {
      "text/html": [
       "3550"
      ],
      "text/latex": [
       "3550"
      ],
      "text/markdown": [
       "3550"
      ],
      "text/plain": [
       "[1] 3550"
      ]
     },
     "metadata": {},
     "output_type": "display_data"
    }
   ],
   "source": [
    "# data_current<-data_current[!(is.infinite(data_current$Completion_Time)),]\n",
    "nrow(data_current)"
   ]
  },
  {
   "cell_type": "code",
   "execution_count": 9,
   "metadata": {},
   "outputs": [],
   "source": [
    "# Statistical ways to identify normality\n",
    "# data_factor_level <-filter(data_current, IV_Surface==current_factor_value)\n",
    "# Transformations\n",
    "# data_factor_level$Completion_Time <- log(data_factor_level$Completion_Time)\n",
    "# data_factor_level$Mode_In_Time <- log(data_factor_level$Mode_In_Time)\n",
    "# data_current$Completion_Time <- log(data_current$Completion_Time)\n",
    "# data_current$Mode_In_Time <- log(data_current$Mode_In_Time)\n",
    "\n",
    "# l = as.list(data_factor_level[\"Execution_Time\"])\n",
    "# n = as.numeric(unlist(l))\n",
    "# nz<-(n-mean(n))/sd(n)\n",
    "# nl <- log(n)\n",
    "# ad.test(nz)\n",
    "# ad.test(data_factor_level$Execution_Time)\n",
    "# shapiro.test(nz)\n",
    "\n",
    "# shapiro.test(data_current$Completion_Time[1:5000])\n",
    "# ad.test(data_current$Completion_Time)\n",
    "# data_current\n",
    "# Visual ways to identify normality\n",
    "# qqnorm(data_current$Completion_Time, pch = 1, frame = FALSE)\n",
    "# qqline(data_current$Completion_Time, col = \"steelblue\", lwd = 1)\n",
    "# hist(data_surface$Execution_Time)"
   ]
  },
  {
   "cell_type": "code",
   "execution_count": null,
   "metadata": {},
   "outputs": [],
   "source": []
  },
  {
   "cell_type": "code",
   "execution_count": 325,
   "metadata": {},
   "outputs": [],
   "source": [
    "# Statistical ways to identify normality\n",
    "# data_factor_level <-filter(data_clean, IV_Surface==current_factor_value)\n",
    "# Transformations\n",
    "# data_factor_level$Execution_Time <- log(data_factor_level$Execution_Time)\n",
    "# data_factor_level$Mode_In_Time <- log(data_factor_level$Mode_In_Time)\n",
    "# l = as.list(data_factor_level[\"Execution_Time\"])\n",
    "# n = as.numeric(unlist(l))\n",
    "# nz<-(n-mean(n))/sd(n)\n",
    "# nl <- log(n)\n",
    "# ad.test(nz)\n",
    "# ad.test(data_factor_level$Execution_Time)\n",
    "# shapiro.test(nz)\n",
    "\n",
    "# Visual ways to identify normality\n",
    "# qqnorm(data_factor_level$Execution_Time, pch = 1, frame = FALSE)\n",
    "# qqline(data_factor_level$Execution_Time, col = \"steelblue\", lwd = 1)\n",
    "# hist(data_surface$Execution_Time)"
   ]
  },
  {
   "cell_type": "code",
   "execution_count": 4,
   "metadata": {},
   "outputs": [
    {
     "data": {
      "text/html": [
       "<table>\n",
       "<thead><tr><th scope=col>X</th><th scope=col>Unnamed..0</th><th scope=col>Participant</th><th scope=col>Block</th><th scope=col>Sequence</th><th scope=col>Sub_Sequence</th><th scope=col>Trial</th><th scope=col>Target_Type</th><th scope=col>Target_Name</th><th scope=col>Start_Time</th><th scope=col>...</th><th scope=col>Mode_Out_Time</th><th scope=col>Execution_Time</th><th scope=col>Reference_Action_Count</th><th scope=col>Incorrect_Action_Count</th><th scope=col>Error</th><th scope=col>IV_Surface</th><th scope=col>IV_Orientation</th><th scope=col>IV_Form</th><th scope=col>IV_Hand</th><th scope=col>Reference_Task</th></tr></thead>\n",
       "<tbody>\n",
       "\t<tr><td> 1                    </td><td> 1                    </td><td>participant_31        </td><td>0                     </td><td>0                     </td><td> 0                    </td><td> 1                    </td><td>posture               </td><td>Left_Close_0_On       </td><td>1.567119e+12          </td><td>...                   </td><td>1758                  </td><td>3093                  </td><td>26                    </td><td> 4                    </td><td>False                 </td><td>On                    </td><td>180                   </td><td>Close                 </td><td>Left                  </td><td>click                 </td></tr>\n",
       "\t<tr><td> 3                    </td><td> 3                    </td><td>participant_31        </td><td>0                     </td><td>0                     </td><td> 1                    </td><td> 3                    </td><td>posture               </td><td>Left_Close_0_Below    </td><td>1.567119e+12          </td><td>...                   </td><td>2024                  </td><td>4796                  </td><td>24                    </td><td> 0                    </td><td>False                 </td><td>Below                 </td><td>180                   </td><td>Close                 </td><td>Left                  </td><td>word                  </td></tr>\n",
       "\t<tr><td> 5                    </td><td> 5                    </td><td>participant_31        </td><td>0                     </td><td>0                     </td><td> 2                    </td><td> 5                    </td><td>posture               </td><td>Left_Close_0_Beside   </td><td>1.567119e+12          </td><td>...                   </td><td>1523                  </td><td>3201                  </td><td>28                    </td><td> 0                    </td><td>False                 </td><td>Beside                </td><td>180                   </td><td>Close                 </td><td>Left                  </td><td>click                 </td></tr>\n",
       "\t<tr><td> 9                    </td><td> 9                    </td><td>participant_31        </td><td>0                     </td><td>0                     </td><td> 4                    </td><td> 9                    </td><td>posture               </td><td>Left_Close_90_Below   </td><td>1.567119e+12          </td><td>...                   </td><td>1688                  </td><td>5001                  </td><td>23                    </td><td> 8                    </td><td>False                 </td><td>Below                 </td><td> 90                   </td><td>Close                 </td><td>Left                  </td><td>word                  </td></tr>\n",
       "\t<tr><td>11                    </td><td>11                    </td><td>participant_31        </td><td>0                     </td><td>0                     </td><td> 5                    </td><td>11                    </td><td>posture               </td><td>Left_Close_90_Beside  </td><td>1.567119e+12          </td><td>...                   </td><td>1421                  </td><td>3199                  </td><td>27                    </td><td> 0                    </td><td>False                 </td><td>Beside                </td><td> 90                   </td><td>Close                 </td><td>Left                  </td><td>click                 </td></tr>\n",
       "\t<tr><td>13                    </td><td>13                    </td><td>participant_31        </td><td>0                     </td><td>0                     </td><td> 6                    </td><td>13                    </td><td>posture               </td><td>Left_Close_180_On     </td><td>1.567119e+12          </td><td>...                   </td><td>2188                  </td><td>4668                  </td><td>19                    </td><td>14                    </td><td>False                 </td><td>On                    </td><td>  0                   </td><td>Close                 </td><td>Left                  </td><td>word                  </td></tr>\n",
       "\t<tr><td>15                    </td><td>15                    </td><td>participant_31        </td><td>0                     </td><td>0                     </td><td> 7                    </td><td>15                    </td><td>posture               </td><td>Left_Close_180_Below  </td><td>1.567119e+12          </td><td>...                   </td><td>1254                  </td><td>2632                  </td><td>25                    </td><td> 9                    </td><td>False                 </td><td>Below                 </td><td>  0                   </td><td>Close                 </td><td>Left                  </td><td>click                 </td></tr>\n",
       "\t<tr><td>17                    </td><td>17                    </td><td>participant_31        </td><td>0                     </td><td>0                     </td><td> 8                    </td><td>17                    </td><td>posture               </td><td>Left_Close_180_Beside </td><td>1.567119e+12          </td><td>...                   </td><td>1425                  </td><td>3136                  </td><td>18                    </td><td>22                    </td><td>False                 </td><td>Beside                </td><td>  0                   </td><td>Close                 </td><td>Left                  </td><td>click                 </td></tr>\n",
       "\t<tr><td>19                    </td><td>19                    </td><td>participant_31        </td><td>0                     </td><td>0                     </td><td> 9                    </td><td>19                    </td><td>posture               </td><td>Left_Open_0_On        </td><td>1.567119e+12          </td><td>...                   </td><td>1522                  </td><td>4400                  </td><td>20                    </td><td> 7                    </td><td>False                 </td><td>On                    </td><td>180                   </td><td>Open                  </td><td>Left                  </td><td>word                  </td></tr>\n",
       "\t<tr><td>21                    </td><td>21                    </td><td>participant_31        </td><td>0                     </td><td>0                     </td><td>10                    </td><td>21                    </td><td>posture               </td><td>Left_Open_0_Below     </td><td>1.567119e+12          </td><td>...                   </td><td>1486                  </td><td>3999                  </td><td>20                    </td><td> 8                    </td><td>False                 </td><td>Below                 </td><td>180                   </td><td>Open                  </td><td>Left                  </td><td>word                  </td></tr>\n",
       "\t<tr><td>23                    </td><td>23                    </td><td>participant_31        </td><td>0                     </td><td>0                     </td><td>11                    </td><td>23                    </td><td>posture               </td><td>Left_Open_0_Beside    </td><td>1.567119e+12          </td><td>...                   </td><td>1224                  </td><td>2600                  </td><td>25                    </td><td> 0                    </td><td>False                 </td><td>Beside                </td><td>180                   </td><td>Open                  </td><td>Left                  </td><td>click                 </td></tr>\n",
       "\t<tr><td>25                    </td><td>25                    </td><td>participant_31        </td><td>0                     </td><td>0                     </td><td>12                    </td><td>25                    </td><td>posture               </td><td>Left_Open_90_On       </td><td>1.567119e+12          </td><td>...                   </td><td>1956                  </td><td>4733                  </td><td>18                    </td><td> 4                    </td><td>False                 </td><td>On                    </td><td> 90                   </td><td>Open                  </td><td>Left                  </td><td>word                  </td></tr>\n",
       "\t<tr><td>27                    </td><td>27                    </td><td>participant_31        </td><td>0                     </td><td>0                     </td><td>13                    </td><td>27                    </td><td>posture               </td><td>Left_Open_90_Below    </td><td>1.567119e+12          </td><td>...                   </td><td>1260                  </td><td>2504                  </td><td>23                    </td><td> 0                    </td><td>False                 </td><td>Below                 </td><td> 90                   </td><td>Open                  </td><td>Left                  </td><td>click                 </td></tr>\n",
       "\t<tr><td>29                    </td><td>29                    </td><td>participant_31        </td><td>0                     </td><td>0                     </td><td>14                    </td><td>29                    </td><td>posture               </td><td>Left_Open_90_Beside   </td><td>1.567119e+12          </td><td>...                   </td><td>1287                  </td><td>3499                  </td><td>23                    </td><td> 4                    </td><td>False                 </td><td>Beside                </td><td> 90                   </td><td>Open                  </td><td>Left                  </td><td>word                  </td></tr>\n",
       "\t<tr><td>31                    </td><td>31                    </td><td>participant_31        </td><td>0                     </td><td>0                     </td><td>15                    </td><td>31                    </td><td>posture               </td><td>Left_Open_180_On      </td><td>1.567119e+12          </td><td>...                   </td><td> 125                  </td><td>1435                  </td><td> 2                    </td><td> 0                    </td><td>False                 </td><td>On                    </td><td>  0                   </td><td>Open                  </td><td>Left                  </td><td>click                 </td></tr>\n",
       "\t<tr><td>33                    </td><td>33                    </td><td>participant_31        </td><td>0                     </td><td>0                     </td><td>16                    </td><td>33                    </td><td>posture               </td><td>Left_Open_180_Below   </td><td>1.567119e+12          </td><td>...                   </td><td>1196                  </td><td>7668                  </td><td>23                    </td><td>13                    </td><td>False                 </td><td>Below                 </td><td>  0                   </td><td>Open                  </td><td>Left                  </td><td>word                  </td></tr>\n",
       "\t<tr><td>35                    </td><td>35                    </td><td>participant_31        </td><td>0                     </td><td>0                     </td><td>17                    </td><td>35                    </td><td>posture               </td><td>Left_Open_180_Beside  </td><td>1.567119e+12          </td><td>...                   </td><td>2059                  </td><td>5898                  </td><td>21                    </td><td>22                    </td><td>False                 </td><td>Beside                </td><td>  0                   </td><td>Open                  </td><td>Left                  </td><td>word                  </td></tr>\n",
       "\t<tr><td>37                    </td><td>37                    </td><td>participant_31        </td><td>0                     </td><td>0                     </td><td>18                    </td><td>37                    </td><td>posture               </td><td>Right_Close_0_On      </td><td>1.567119e+12          </td><td>...                   </td><td>1457                  </td><td>2967                  </td><td>27                    </td><td> 0                    </td><td>False                 </td><td>On                    </td><td>180                   </td><td>Close                 </td><td>Right                 </td><td>click                 </td></tr>\n",
       "\t<tr><td>39                    </td><td>39                    </td><td>participant_31        </td><td>0                     </td><td>0                     </td><td>19                    </td><td>39                    </td><td>posture               </td><td>Right_Close_0_Below   </td><td>1.567119e+12          </td><td>...                   </td><td>1356                  </td><td>6563                  </td><td>30                    </td><td> 0                    </td><td>False                 </td><td>Below                 </td><td>180                   </td><td>Close                 </td><td>Right                 </td><td>click                 </td></tr>\n",
       "\t<tr><td>41                    </td><td>41                    </td><td>participant_31        </td><td>0                     </td><td>0                     </td><td>20                    </td><td>41                    </td><td>posture               </td><td>Right_Close_0_Beside  </td><td>1.567119e+12          </td><td>...                   </td><td>1360                  </td><td>3937                  </td><td>24                    </td><td> 3                    </td><td>False                 </td><td>Beside                </td><td>180                   </td><td>Close                 </td><td>Right                 </td><td>word                  </td></tr>\n",
       "\t<tr><td>43                    </td><td>43                    </td><td>participant_31        </td><td>0                     </td><td>0                     </td><td>21                    </td><td>43                    </td><td>posture               </td><td>Right_Close_90_On     </td><td>1.567119e+12          </td><td>...                   </td><td>1286                  </td><td>2397                  </td><td>30                    </td><td> 0                    </td><td>False                 </td><td>On                    </td><td> 90                   </td><td>Close                 </td><td>Right                 </td><td>click                 </td></tr>\n",
       "\t<tr><td>45                    </td><td>45                    </td><td>participant_31        </td><td>0                     </td><td>0                     </td><td>22                    </td><td>45                    </td><td>posture               </td><td>Right_Close_90_Below  </td><td>1.567119e+12          </td><td>...                   </td><td>2620                  </td><td>4534                  </td><td>24                    </td><td> 0                    </td><td>False                 </td><td>Below                 </td><td> 90                   </td><td>Close                 </td><td>Right                 </td><td>word                  </td></tr>\n",
       "\t<tr><td>47                    </td><td>47                    </td><td>participant_31        </td><td>0                     </td><td>0                     </td><td>23                    </td><td>47                    </td><td>posture               </td><td>Right_Close_90_Beside </td><td>1.567119e+12          </td><td>...                   </td><td>1452                  </td><td>2898                  </td><td>27                    </td><td> 4                    </td><td>False                 </td><td>Beside                </td><td> 90                   </td><td>Close                 </td><td>Right                 </td><td>click                 </td></tr>\n",
       "\t<tr><td>49                    </td><td>49                    </td><td>participant_31        </td><td>0                     </td><td>0                     </td><td>24                    </td><td>49                    </td><td>posture               </td><td>Right_Close_180_On    </td><td>1.567119e+12          </td><td>...                   </td><td>1519                  </td><td>3002                  </td><td>24                    </td><td> 4                    </td><td>False                 </td><td>On                    </td><td>  0                   </td><td>Close                 </td><td>Right                 </td><td>click                 </td></tr>\n",
       "\t<tr><td>51                    </td><td>51                    </td><td>participant_31        </td><td>0                     </td><td>0                     </td><td>25                    </td><td>51                    </td><td>posture               </td><td>Right_Close_180_Below </td><td>1.567119e+12          </td><td>...                   </td><td>1756                  </td><td>2935                  </td><td>30                    </td><td> 0                    </td><td>False                 </td><td>Below                 </td><td>  0                   </td><td>Close                 </td><td>Right                 </td><td>click                 </td></tr>\n",
       "\t<tr><td>53                    </td><td>53                    </td><td>participant_31        </td><td>0                     </td><td>0                     </td><td>26                    </td><td>53                    </td><td>posture               </td><td>Right_Close_180_Beside</td><td>1.567119e+12          </td><td>...                   </td><td>1390                  </td><td>3699                  </td><td>15                    </td><td>14                    </td><td>False                 </td><td>Beside                </td><td>  0                   </td><td>Close                 </td><td>Right                 </td><td>word                  </td></tr>\n",
       "\t<tr><td>55                    </td><td>55                    </td><td>participant_31        </td><td>0                     </td><td>0                     </td><td>27                    </td><td>55                    </td><td>posture               </td><td>Right_Open_0_On       </td><td>1.567119e+12          </td><td>...                   </td><td>1152                  </td><td>2298                  </td><td>15                    </td><td> 0                    </td><td>False                 </td><td>On                    </td><td>180                   </td><td>Open                  </td><td>Right                 </td><td>click                 </td></tr>\n",
       "\t<tr><td>57                    </td><td>57                    </td><td>participant_31        </td><td>0                     </td><td>0                     </td><td>28                    </td><td>57                    </td><td>posture               </td><td>Right_Open_0_Below    </td><td>1.567119e+12          </td><td>...                   </td><td>1253                  </td><td>6135                  </td><td>30                    </td><td> 0                    </td><td>False                 </td><td>Below                 </td><td>180                   </td><td>Open                  </td><td>Right                 </td><td>word                  </td></tr>\n",
       "\t<tr><td>59                    </td><td>59                    </td><td>participant_31        </td><td>0                     </td><td>0                     </td><td>29                    </td><td>59                    </td><td>posture               </td><td>Right_Open_0_Beside   </td><td>1.567119e+12          </td><td>...                   </td><td>1517                  </td><td>4001                  </td><td>19                    </td><td>12                    </td><td>False                 </td><td>Beside                </td><td>180                   </td><td>Open                  </td><td>Right                 </td><td>word                  </td></tr>\n",
       "\t<tr><td>61                    </td><td>61                    </td><td>participant_31        </td><td>0                     </td><td>0                     </td><td>30                    </td><td>61                    </td><td>posture               </td><td>Right_Open_90_On      </td><td>1.567119e+12          </td><td>...                   </td><td>1156                  </td><td>2334                  </td><td>25                    </td><td> 3                    </td><td>False                 </td><td>On                    </td><td> 90                   </td><td>Open                  </td><td>Right                 </td><td>click                 </td></tr>\n",
       "\t<tr><td>...</td><td>...</td><td>...</td><td>...</td><td>...</td><td>...</td><td>...</td><td>...</td><td>...</td><td>...</td><td>   </td><td>...</td><td>...</td><td>...</td><td>...</td><td>...</td><td>...</td><td>...</td><td>...</td><td>...</td><td>...</td></tr>\n",
       "\t<tr><td>14269                 </td><td>14269                 </td><td>participant_38        </td><td>4                     </td><td>8                     </td><td> 6                    </td><td>589                   </td><td>posture               </td><td>Left_Close_180_On     </td><td>1.567625e+12          </td><td>...                   </td><td>1482                  </td><td>3468                  </td><td>22                    </td><td> 9                    </td><td>False                 </td><td>On                    </td><td>  0                   </td><td>Close                 </td><td>Left                  </td><td>word                  </td></tr>\n",
       "\t<tr><td>14271                 </td><td>14271                 </td><td>participant_38        </td><td>4                     </td><td>8                     </td><td> 7                    </td><td>591                   </td><td>posture               </td><td>Left_Close_180_Below  </td><td>1.567625e+12          </td><td>...                   </td><td>1123                  </td><td>2135                  </td><td>20                    </td><td> 6                    </td><td>False                 </td><td>Below                 </td><td>  0                   </td><td>Close                 </td><td>Left                  </td><td>click                 </td></tr>\n",
       "\t<tr><td>14273                 </td><td>14273                 </td><td>participant_38        </td><td>4                     </td><td>8                     </td><td> 8                    </td><td>593                   </td><td>posture               </td><td>Left_Close_180_Beside </td><td>1.567625e+12          </td><td>...                   </td><td>1093                  </td><td>2169                  </td><td>29                    </td><td> 0                    </td><td>False                 </td><td>Beside                </td><td>  0                   </td><td>Close                 </td><td>Left                  </td><td>click                 </td></tr>\n",
       "\t<tr><td>14275                 </td><td>14275                 </td><td>participant_38        </td><td>4                     </td><td>8                     </td><td> 9                    </td><td>595                   </td><td>posture               </td><td>Left_Open_0_On        </td><td>1.567625e+12          </td><td>...                   </td><td>1083                  </td><td>2662                  </td><td>20                    </td><td> 7                    </td><td>False                 </td><td>On                    </td><td>180                   </td><td>Open                  </td><td>Left                  </td><td>word                  </td></tr>\n",
       "\t<tr><td>14277                 </td><td>14277                 </td><td>participant_38        </td><td>4                     </td><td>8                     </td><td>10                    </td><td>597                   </td><td>posture               </td><td>Left_Open_0_Below     </td><td>1.567625e+12          </td><td>...                   </td><td>1157                  </td><td>3333                  </td><td>20                    </td><td> 8                    </td><td>False                 </td><td>Below                 </td><td>180                   </td><td>Open                  </td><td>Left                  </td><td>word                  </td></tr>\n",
       "\t<tr><td>14279                 </td><td>14279                 </td><td>participant_38        </td><td>4                     </td><td>8                     </td><td>11                    </td><td>599                   </td><td>posture               </td><td>Left_Open_0_Beside    </td><td>1.567625e+12          </td><td>...                   </td><td> 291                  </td><td>1635                  </td><td>23                    </td><td> 0                    </td><td>False                 </td><td>Beside                </td><td>180                   </td><td>Open                  </td><td>Left                  </td><td>click                 </td></tr>\n",
       "\t<tr><td>14281                 </td><td>14281                 </td><td>participant_38        </td><td>4                     </td><td>8                     </td><td>12                    </td><td>601                   </td><td>posture               </td><td>Left_Open_90_On       </td><td>1.567625e+12          </td><td>...                   </td><td>2358                  </td><td>4668                  </td><td>14                    </td><td> 2                    </td><td>False                 </td><td>On                    </td><td> 90                   </td><td>Open                  </td><td>Left                  </td><td>word                  </td></tr>\n",
       "\t<tr><td>14283                 </td><td>14283                 </td><td>participant_38        </td><td>4                     </td><td>8                     </td><td>13                    </td><td>603                   </td><td>posture               </td><td>Left_Open_90_Below    </td><td>1.567625e+12          </td><td>...                   </td><td>1188                  </td><td>2197                  </td><td>20                    </td><td> 0                    </td><td>False                 </td><td>Below                 </td><td> 90                   </td><td>Open                  </td><td>Left                  </td><td>click                 </td></tr>\n",
       "\t<tr><td>14285                 </td><td>14285                 </td><td>participant_38        </td><td>4                     </td><td>8                     </td><td>14                    </td><td>605                   </td><td>posture               </td><td>Left_Open_90_Beside   </td><td>1.567625e+12          </td><td>...                   </td><td>1590                  </td><td>3272                  </td><td>28                    </td><td> 0                    </td><td>False                 </td><td>Beside                </td><td> 90                   </td><td>Open                  </td><td>Left                  </td><td>word                  </td></tr>\n",
       "\t<tr><td>14287                 </td><td>14287                 </td><td>participant_38        </td><td>4                     </td><td>8                     </td><td>15                    </td><td>607                   </td><td>posture               </td><td>Left_Open_180_On      </td><td>1.567625e+12          </td><td>...                   </td><td>1019                  </td><td>2297                  </td><td>27                    </td><td> 0                    </td><td>False                 </td><td>On                    </td><td>  0                   </td><td>Open                  </td><td>Left                  </td><td>click                 </td></tr>\n",
       "\t<tr><td>14289                 </td><td>14289                 </td><td>participant_38        </td><td>4                     </td><td>8                     </td><td>16                    </td><td>609                   </td><td>posture               </td><td>Left_Open_180_Below   </td><td>1.567625e+12          </td><td>...                   </td><td>1022                  </td><td>2867                  </td><td>19                    </td><td>13                    </td><td>False                 </td><td>Below                 </td><td>  0                   </td><td>Open                  </td><td>Left                  </td><td>word                  </td></tr>\n",
       "\t<tr><td>14291                 </td><td>14291                 </td><td>participant_38        </td><td>4                     </td><td>8                     </td><td>17                    </td><td>611                   </td><td>posture               </td><td>Left_Open_180_Beside  </td><td>1.567625e+12          </td><td>...                   </td><td>1658                  </td><td>4037                  </td><td>21                    </td><td> 5                    </td><td>False                 </td><td>Beside                </td><td>  0                   </td><td>Open                  </td><td>Left                  </td><td>word                  </td></tr>\n",
       "\t<tr><td>14293                 </td><td>14293                 </td><td>participant_38        </td><td>4                     </td><td>8                     </td><td>18                    </td><td>613                   </td><td>posture               </td><td>Right_Close_0_On      </td><td>1.567625e+12          </td><td>...                   </td><td>2120                  </td><td>3461                  </td><td>30                    </td><td> 4                    </td><td>False                 </td><td>On                    </td><td>180                   </td><td>Close                 </td><td>Right                 </td><td>click                 </td></tr>\n",
       "\t<tr><td>14295                 </td><td>14295                 </td><td>participant_38        </td><td>4                     </td><td>8                     </td><td>19                    </td><td>615                   </td><td>posture               </td><td>Right_Close_0_Below   </td><td>1.567625e+12          </td><td>...                   </td><td>1023                  </td><td>3872                  </td><td>23                    </td><td> 0                    </td><td>False                 </td><td>Below                 </td><td>180                   </td><td>Close                 </td><td>Right                 </td><td>click                 </td></tr>\n",
       "\t<tr><td>14297                 </td><td>14297                 </td><td>participant_38        </td><td>4                     </td><td>8                     </td><td>20                    </td><td>617                   </td><td>posture               </td><td>Right_Close_0_Beside  </td><td>1.567625e+12          </td><td>...                   </td><td>1387                  </td><td>3498                  </td><td>30                    </td><td> 0                    </td><td>False                 </td><td>Beside                </td><td>180                   </td><td>Close                 </td><td>Right                 </td><td>word                  </td></tr>\n",
       "\t<tr><td>14299                 </td><td>14299                 </td><td>participant_38        </td><td>4                     </td><td>8                     </td><td>21                    </td><td>619                   </td><td>posture               </td><td>Right_Close_90_On     </td><td>1.567625e+12          </td><td>...                   </td><td> 991                  </td><td>2435                  </td><td>22                    </td><td> 8                    </td><td>False                 </td><td>On                    </td><td> 90                   </td><td>Close                 </td><td>Right                 </td><td>click                 </td></tr>\n",
       "\t<tr><td>14301                 </td><td>14301                 </td><td>participant_38        </td><td>4                     </td><td>8                     </td><td>22                    </td><td>621                   </td><td>posture               </td><td>Right_Close_90_Below  </td><td>1.567625e+12          </td><td>...                   </td><td>1452                  </td><td>6016                  </td><td>24                    </td><td> 7                    </td><td>False                 </td><td>Below                 </td><td> 90                   </td><td>Close                 </td><td>Right                 </td><td>word                  </td></tr>\n",
       "\t<tr><td>14303                 </td><td>14303                 </td><td>participant_38        </td><td>4                     </td><td>8                     </td><td>23                    </td><td>623                   </td><td>posture               </td><td>Right_Close_90_Beside </td><td>1.567625e+12          </td><td>...                   </td><td>1589                  </td><td>2769                  </td><td>26                    </td><td> 4                    </td><td>False                 </td><td>Beside                </td><td> 90                   </td><td>Close                 </td><td>Right                 </td><td>click                 </td></tr>\n",
       "\t<tr><td>14305                 </td><td>14305                 </td><td>participant_38        </td><td>4                     </td><td>8                     </td><td>24                    </td><td>625                   </td><td>posture               </td><td>Right_Close_180_On    </td><td>1.567625e+12          </td><td>...                   </td><td>1088                  </td><td>2499                  </td><td>24                    </td><td> 4                    </td><td>False                 </td><td>On                    </td><td>  0                   </td><td>Close                 </td><td>Right                 </td><td>click                 </td></tr>\n",
       "\t<tr><td>14307                 </td><td>14307                 </td><td>participant_38        </td><td>4                     </td><td>8                     </td><td>25                    </td><td>627                   </td><td>posture               </td><td>Right_Close_180_Below </td><td>1.567625e+12          </td><td>...                   </td><td>1085                  </td><td>2266                  </td><td>30                    </td><td> 0                    </td><td>False                 </td><td>Below                 </td><td>  0                   </td><td>Close                 </td><td>Right                 </td><td>click                 </td></tr>\n",
       "\t<tr><td>14309                 </td><td>14309                 </td><td>participant_38        </td><td>4                     </td><td>8                     </td><td>26                    </td><td>629                   </td><td>posture               </td><td>Right_Close_180_Beside</td><td>1.567625e+12          </td><td>...                   </td><td>1186                  </td><td>3635                  </td><td>22                    </td><td> 8                    </td><td>False                 </td><td>Beside                </td><td>  0                   </td><td>Close                 </td><td>Right                 </td><td>word                  </td></tr>\n",
       "\t<tr><td>14311                 </td><td>14311                 </td><td>participant_38        </td><td>4                     </td><td>8                     </td><td>27                    </td><td>631                   </td><td>posture               </td><td>Right_Open_0_On       </td><td>1.567625e+12          </td><td>...                   </td><td>1122                  </td><td>2866                  </td><td>17                    </td><td> 0                    </td><td>False                 </td><td>On                    </td><td>180                   </td><td>Open                  </td><td>Right                 </td><td>click                 </td></tr>\n",
       "\t<tr><td>14313                 </td><td>14313                 </td><td>participant_38        </td><td>4                     </td><td>8                     </td><td>28                    </td><td>633                   </td><td>posture               </td><td>Right_Open_0_Below    </td><td>1.567625e+12          </td><td>...                   </td><td> 922                  </td><td>3032                  </td><td>31                    </td><td> 0                    </td><td>False                 </td><td>Below                 </td><td>180                   </td><td>Open                  </td><td>Right                 </td><td>word                  </td></tr>\n",
       "\t<tr><td>14315                 </td><td>14315                 </td><td>participant_38        </td><td>4                     </td><td>8                     </td><td>29                    </td><td>635                   </td><td>posture               </td><td>Right_Open_0_Beside   </td><td>1.567625e+12          </td><td>...                   </td><td>1292                  </td><td>3269                  </td><td>19                    </td><td>12                    </td><td>False                 </td><td>Beside                </td><td>180                   </td><td>Open                  </td><td>Right                 </td><td>word                  </td></tr>\n",
       "\t<tr><td>14317                 </td><td>14317                 </td><td>participant_38        </td><td>4                     </td><td>8                     </td><td>30                    </td><td>637                   </td><td>posture               </td><td>Right_Open_90_On      </td><td>1.567625e+12          </td><td>...                   </td><td> 891                  </td><td>2300                  </td><td>25                    </td><td> 3                    </td><td>False                 </td><td>On                    </td><td> 90                   </td><td>Open                  </td><td>Right                 </td><td>click                 </td></tr>\n",
       "\t<tr><td>14319                 </td><td>14319                 </td><td>participant_38        </td><td>4                     </td><td>8                     </td><td>31                    </td><td>639                   </td><td>posture               </td><td>Right_Open_90_Below   </td><td>1.567625e+12          </td><td>...                   </td><td> 920                  </td><td>3031                  </td><td> 9                    </td><td> 8                    </td><td>False                 </td><td>Below                 </td><td> 90                   </td><td>Open                  </td><td>Right                 </td><td>word                  </td></tr>\n",
       "\t<tr><td>14321                 </td><td>14321                 </td><td>participant_38        </td><td>4                     </td><td>8                     </td><td>32                    </td><td>641                   </td><td>posture               </td><td>Right_Open_90_Beside  </td><td>1.567625e+12          </td><td>...                   </td><td>1922                  </td><td>5267                  </td><td>20                    </td><td> 4                    </td><td>False                 </td><td>Beside                </td><td> 90                   </td><td>Open                  </td><td>Right                 </td><td>word                  </td></tr>\n",
       "\t<tr><td>14323                 </td><td>14323                 </td><td>participant_38        </td><td>4                     </td><td>8                     </td><td>33                    </td><td>643                   </td><td>posture               </td><td>Right_Open_180_On     </td><td>1.567625e+12          </td><td>...                   </td><td>1121                  </td><td>2334                  </td><td>20                    </td><td> 0                    </td><td>False                 </td><td>On                    </td><td>  0                   </td><td>Open                  </td><td>Right                 </td><td>click                 </td></tr>\n",
       "\t<tr><td>14325                 </td><td>14325                 </td><td>participant_38        </td><td>4                     </td><td>8                     </td><td>34                    </td><td>645                   </td><td>posture               </td><td>Right_Open_180_Below  </td><td>1.567625e+12          </td><td>...                   </td><td>2289                  </td><td>3937                  </td><td>27                    </td><td> 0                    </td><td>False                 </td><td>Below                 </td><td>  0                   </td><td>Open                  </td><td>Right                 </td><td>word                  </td></tr>\n",
       "\t<tr><td>14327                 </td><td>14327                 </td><td>participant_38        </td><td>4                     </td><td>8                     </td><td>35                    </td><td>647                   </td><td>posture               </td><td>Right_Open_180_Beside </td><td>1.567625e+12          </td><td>...                   </td><td>   0                  </td><td>1041                  </td><td>25                    </td><td> 5                    </td><td>False                 </td><td>Beside                </td><td>  0                   </td><td>Open                  </td><td>Right                 </td><td>click                 </td></tr>\n",
       "</tbody>\n",
       "</table>\n"
      ],
      "text/latex": [
       "\\begin{tabular}{r|lllllllllllllllllllllll}\n",
       " X & Unnamed..0 & Participant & Block & Sequence & Sub\\_Sequence & Trial & Target\\_Type & Target\\_Name & Start\\_Time & ... & Mode\\_Out\\_Time & Execution\\_Time & Reference\\_Action\\_Count & Incorrect\\_Action\\_Count & Error & IV\\_Surface & IV\\_Orientation & IV\\_Form & IV\\_Hand & Reference\\_Task\\\\\n",
       "\\hline\n",
       "\t  1                           &  1                           & participant\\_31             & 0                            & 0                            &  0                           &  1                           & posture                      & Left\\_Close\\_0\\_On        & 1.567119e+12                 & ...                          & 1758                         & 3093                         & 26                           &  4                           & False                        & On                           & 180                          & Close                        & Left                         & click                       \\\\\n",
       "\t  3                           &  3                           & participant\\_31             & 0                            & 0                            &  1                           &  3                           & posture                      & Left\\_Close\\_0\\_Below     & 1.567119e+12                 & ...                          & 2024                         & 4796                         & 24                           &  0                           & False                        & Below                        & 180                          & Close                        & Left                         & word                        \\\\\n",
       "\t  5                           &  5                           & participant\\_31             & 0                            & 0                            &  2                           &  5                           & posture                      & Left\\_Close\\_0\\_Beside    & 1.567119e+12                 & ...                          & 1523                         & 3201                         & 28                           &  0                           & False                        & Beside                       & 180                          & Close                        & Left                         & click                       \\\\\n",
       "\t  9                           &  9                           & participant\\_31             & 0                            & 0                            &  4                           &  9                           & posture                      & Left\\_Close\\_90\\_Below    & 1.567119e+12                 & ...                          & 1688                         & 5001                         & 23                           &  8                           & False                        & Below                        &  90                          & Close                        & Left                         & word                        \\\\\n",
       "\t 11                           & 11                           & participant\\_31             & 0                            & 0                            &  5                           & 11                           & posture                      & Left\\_Close\\_90\\_Beside   & 1.567119e+12                 & ...                          & 1421                         & 3199                         & 27                           &  0                           & False                        & Beside                       &  90                          & Close                        & Left                         & click                       \\\\\n",
       "\t 13                           & 13                           & participant\\_31             & 0                            & 0                            &  6                           & 13                           & posture                      & Left\\_Close\\_180\\_On      & 1.567119e+12                 & ...                          & 2188                         & 4668                         & 19                           & 14                           & False                        & On                           &   0                          & Close                        & Left                         & word                        \\\\\n",
       "\t 15                           & 15                           & participant\\_31             & 0                            & 0                            &  7                           & 15                           & posture                      & Left\\_Close\\_180\\_Below   & 1.567119e+12                 & ...                          & 1254                         & 2632                         & 25                           &  9                           & False                        & Below                        &   0                          & Close                        & Left                         & click                       \\\\\n",
       "\t 17                           & 17                           & participant\\_31             & 0                            & 0                            &  8                           & 17                           & posture                      & Left\\_Close\\_180\\_Beside  & 1.567119e+12                 & ...                          & 1425                         & 3136                         & 18                           & 22                           & False                        & Beside                       &   0                          & Close                        & Left                         & click                       \\\\\n",
       "\t 19                           & 19                           & participant\\_31             & 0                            & 0                            &  9                           & 19                           & posture                      & Left\\_Open\\_0\\_On         & 1.567119e+12                 & ...                          & 1522                         & 4400                         & 20                           &  7                           & False                        & On                           & 180                          & Open                         & Left                         & word                        \\\\\n",
       "\t 21                           & 21                           & participant\\_31             & 0                            & 0                            & 10                           & 21                           & posture                      & Left\\_Open\\_0\\_Below      & 1.567119e+12                 & ...                          & 1486                         & 3999                         & 20                           &  8                           & False                        & Below                        & 180                          & Open                         & Left                         & word                        \\\\\n",
       "\t 23                           & 23                           & participant\\_31             & 0                            & 0                            & 11                           & 23                           & posture                      & Left\\_Open\\_0\\_Beside     & 1.567119e+12                 & ...                          & 1224                         & 2600                         & 25                           &  0                           & False                        & Beside                       & 180                          & Open                         & Left                         & click                       \\\\\n",
       "\t 25                           & 25                           & participant\\_31             & 0                            & 0                            & 12                           & 25                           & posture                      & Left\\_Open\\_90\\_On        & 1.567119e+12                 & ...                          & 1956                         & 4733                         & 18                           &  4                           & False                        & On                           &  90                          & Open                         & Left                         & word                        \\\\\n",
       "\t 27                           & 27                           & participant\\_31             & 0                            & 0                            & 13                           & 27                           & posture                      & Left\\_Open\\_90\\_Below     & 1.567119e+12                 & ...                          & 1260                         & 2504                         & 23                           &  0                           & False                        & Below                        &  90                          & Open                         & Left                         & click                       \\\\\n",
       "\t 29                           & 29                           & participant\\_31             & 0                            & 0                            & 14                           & 29                           & posture                      & Left\\_Open\\_90\\_Beside    & 1.567119e+12                 & ...                          & 1287                         & 3499                         & 23                           &  4                           & False                        & Beside                       &  90                          & Open                         & Left                         & word                        \\\\\n",
       "\t 31                           & 31                           & participant\\_31             & 0                            & 0                            & 15                           & 31                           & posture                      & Left\\_Open\\_180\\_On       & 1.567119e+12                 & ...                          &  125                         & 1435                         &  2                           &  0                           & False                        & On                           &   0                          & Open                         & Left                         & click                       \\\\\n",
       "\t 33                           & 33                           & participant\\_31             & 0                            & 0                            & 16                           & 33                           & posture                      & Left\\_Open\\_180\\_Below    & 1.567119e+12                 & ...                          & 1196                         & 7668                         & 23                           & 13                           & False                        & Below                        &   0                          & Open                         & Left                         & word                        \\\\\n",
       "\t 35                           & 35                           & participant\\_31             & 0                            & 0                            & 17                           & 35                           & posture                      & Left\\_Open\\_180\\_Beside   & 1.567119e+12                 & ...                          & 2059                         & 5898                         & 21                           & 22                           & False                        & Beside                       &   0                          & Open                         & Left                         & word                        \\\\\n",
       "\t 37                           & 37                           & participant\\_31             & 0                            & 0                            & 18                           & 37                           & posture                      & Right\\_Close\\_0\\_On       & 1.567119e+12                 & ...                          & 1457                         & 2967                         & 27                           &  0                           & False                        & On                           & 180                          & Close                        & Right                        & click                       \\\\\n",
       "\t 39                           & 39                           & participant\\_31             & 0                            & 0                            & 19                           & 39                           & posture                      & Right\\_Close\\_0\\_Below    & 1.567119e+12                 & ...                          & 1356                         & 6563                         & 30                           &  0                           & False                        & Below                        & 180                          & Close                        & Right                        & click                       \\\\\n",
       "\t 41                           & 41                           & participant\\_31             & 0                            & 0                            & 20                           & 41                           & posture                      & Right\\_Close\\_0\\_Beside   & 1.567119e+12                 & ...                          & 1360                         & 3937                         & 24                           &  3                           & False                        & Beside                       & 180                          & Close                        & Right                        & word                        \\\\\n",
       "\t 43                           & 43                           & participant\\_31             & 0                            & 0                            & 21                           & 43                           & posture                      & Right\\_Close\\_90\\_On      & 1.567119e+12                 & ...                          & 1286                         & 2397                         & 30                           &  0                           & False                        & On                           &  90                          & Close                        & Right                        & click                       \\\\\n",
       "\t 45                           & 45                           & participant\\_31             & 0                            & 0                            & 22                           & 45                           & posture                      & Right\\_Close\\_90\\_Below   & 1.567119e+12                 & ...                          & 2620                         & 4534                         & 24                           &  0                           & False                        & Below                        &  90                          & Close                        & Right                        & word                        \\\\\n",
       "\t 47                           & 47                           & participant\\_31             & 0                            & 0                            & 23                           & 47                           & posture                      & Right\\_Close\\_90\\_Beside  & 1.567119e+12                 & ...                          & 1452                         & 2898                         & 27                           &  4                           & False                        & Beside                       &  90                          & Close                        & Right                        & click                       \\\\\n",
       "\t 49                           & 49                           & participant\\_31             & 0                            & 0                            & 24                           & 49                           & posture                      & Right\\_Close\\_180\\_On     & 1.567119e+12                 & ...                          & 1519                         & 3002                         & 24                           &  4                           & False                        & On                           &   0                          & Close                        & Right                        & click                       \\\\\n",
       "\t 51                           & 51                           & participant\\_31             & 0                            & 0                            & 25                           & 51                           & posture                      & Right\\_Close\\_180\\_Below  & 1.567119e+12                 & ...                          & 1756                         & 2935                         & 30                           &  0                           & False                        & Below                        &   0                          & Close                        & Right                        & click                       \\\\\n",
       "\t 53                           & 53                           & participant\\_31             & 0                            & 0                            & 26                           & 53                           & posture                      & Right\\_Close\\_180\\_Beside & 1.567119e+12                 & ...                          & 1390                         & 3699                         & 15                           & 14                           & False                        & Beside                       &   0                          & Close                        & Right                        & word                        \\\\\n",
       "\t 55                           & 55                           & participant\\_31             & 0                            & 0                            & 27                           & 55                           & posture                      & Right\\_Open\\_0\\_On        & 1.567119e+12                 & ...                          & 1152                         & 2298                         & 15                           &  0                           & False                        & On                           & 180                          & Open                         & Right                        & click                       \\\\\n",
       "\t 57                           & 57                           & participant\\_31             & 0                            & 0                            & 28                           & 57                           & posture                      & Right\\_Open\\_0\\_Below     & 1.567119e+12                 & ...                          & 1253                         & 6135                         & 30                           &  0                           & False                        & Below                        & 180                          & Open                         & Right                        & word                        \\\\\n",
       "\t 59                           & 59                           & participant\\_31             & 0                            & 0                            & 29                           & 59                           & posture                      & Right\\_Open\\_0\\_Beside    & 1.567119e+12                 & ...                          & 1517                         & 4001                         & 19                           & 12                           & False                        & Beside                       & 180                          & Open                         & Right                        & word                        \\\\\n",
       "\t 61                           & 61                           & participant\\_31             & 0                            & 0                            & 30                           & 61                           & posture                      & Right\\_Open\\_90\\_On       & 1.567119e+12                 & ...                          & 1156                         & 2334                         & 25                           &  3                           & False                        & On                           &  90                          & Open                         & Right                        & click                       \\\\\n",
       "\t ... & ... & ... & ... & ... & ... & ... & ... & ... & ... &     & ... & ... & ... & ... & ... & ... & ... & ... & ... & ...\\\\\n",
       "\t 14269                        & 14269                        & participant\\_38             & 4                            & 8                            &  6                           & 589                          & posture                      & Left\\_Close\\_180\\_On      & 1.567625e+12                 & ...                          & 1482                         & 3468                         & 22                           &  9                           & False                        & On                           &   0                          & Close                        & Left                         & word                        \\\\\n",
       "\t 14271                        & 14271                        & participant\\_38             & 4                            & 8                            &  7                           & 591                          & posture                      & Left\\_Close\\_180\\_Below   & 1.567625e+12                 & ...                          & 1123                         & 2135                         & 20                           &  6                           & False                        & Below                        &   0                          & Close                        & Left                         & click                       \\\\\n",
       "\t 14273                        & 14273                        & participant\\_38             & 4                            & 8                            &  8                           & 593                          & posture                      & Left\\_Close\\_180\\_Beside  & 1.567625e+12                 & ...                          & 1093                         & 2169                         & 29                           &  0                           & False                        & Beside                       &   0                          & Close                        & Left                         & click                       \\\\\n",
       "\t 14275                        & 14275                        & participant\\_38             & 4                            & 8                            &  9                           & 595                          & posture                      & Left\\_Open\\_0\\_On         & 1.567625e+12                 & ...                          & 1083                         & 2662                         & 20                           &  7                           & False                        & On                           & 180                          & Open                         & Left                         & word                        \\\\\n",
       "\t 14277                        & 14277                        & participant\\_38             & 4                            & 8                            & 10                           & 597                          & posture                      & Left\\_Open\\_0\\_Below      & 1.567625e+12                 & ...                          & 1157                         & 3333                         & 20                           &  8                           & False                        & Below                        & 180                          & Open                         & Left                         & word                        \\\\\n",
       "\t 14279                        & 14279                        & participant\\_38             & 4                            & 8                            & 11                           & 599                          & posture                      & Left\\_Open\\_0\\_Beside     & 1.567625e+12                 & ...                          &  291                         & 1635                         & 23                           &  0                           & False                        & Beside                       & 180                          & Open                         & Left                         & click                       \\\\\n",
       "\t 14281                        & 14281                        & participant\\_38             & 4                            & 8                            & 12                           & 601                          & posture                      & Left\\_Open\\_90\\_On        & 1.567625e+12                 & ...                          & 2358                         & 4668                         & 14                           &  2                           & False                        & On                           &  90                          & Open                         & Left                         & word                        \\\\\n",
       "\t 14283                        & 14283                        & participant\\_38             & 4                            & 8                            & 13                           & 603                          & posture                      & Left\\_Open\\_90\\_Below     & 1.567625e+12                 & ...                          & 1188                         & 2197                         & 20                           &  0                           & False                        & Below                        &  90                          & Open                         & Left                         & click                       \\\\\n",
       "\t 14285                        & 14285                        & participant\\_38             & 4                            & 8                            & 14                           & 605                          & posture                      & Left\\_Open\\_90\\_Beside    & 1.567625e+12                 & ...                          & 1590                         & 3272                         & 28                           &  0                           & False                        & Beside                       &  90                          & Open                         & Left                         & word                        \\\\\n",
       "\t 14287                        & 14287                        & participant\\_38             & 4                            & 8                            & 15                           & 607                          & posture                      & Left\\_Open\\_180\\_On       & 1.567625e+12                 & ...                          & 1019                         & 2297                         & 27                           &  0                           & False                        & On                           &   0                          & Open                         & Left                         & click                       \\\\\n",
       "\t 14289                        & 14289                        & participant\\_38             & 4                            & 8                            & 16                           & 609                          & posture                      & Left\\_Open\\_180\\_Below    & 1.567625e+12                 & ...                          & 1022                         & 2867                         & 19                           & 13                           & False                        & Below                        &   0                          & Open                         & Left                         & word                        \\\\\n",
       "\t 14291                        & 14291                        & participant\\_38             & 4                            & 8                            & 17                           & 611                          & posture                      & Left\\_Open\\_180\\_Beside   & 1.567625e+12                 & ...                          & 1658                         & 4037                         & 21                           &  5                           & False                        & Beside                       &   0                          & Open                         & Left                         & word                        \\\\\n",
       "\t 14293                        & 14293                        & participant\\_38             & 4                            & 8                            & 18                           & 613                          & posture                      & Right\\_Close\\_0\\_On       & 1.567625e+12                 & ...                          & 2120                         & 3461                         & 30                           &  4                           & False                        & On                           & 180                          & Close                        & Right                        & click                       \\\\\n",
       "\t 14295                        & 14295                        & participant\\_38             & 4                            & 8                            & 19                           & 615                          & posture                      & Right\\_Close\\_0\\_Below    & 1.567625e+12                 & ...                          & 1023                         & 3872                         & 23                           &  0                           & False                        & Below                        & 180                          & Close                        & Right                        & click                       \\\\\n",
       "\t 14297                        & 14297                        & participant\\_38             & 4                            & 8                            & 20                           & 617                          & posture                      & Right\\_Close\\_0\\_Beside   & 1.567625e+12                 & ...                          & 1387                         & 3498                         & 30                           &  0                           & False                        & Beside                       & 180                          & Close                        & Right                        & word                        \\\\\n",
       "\t 14299                        & 14299                        & participant\\_38             & 4                            & 8                            & 21                           & 619                          & posture                      & Right\\_Close\\_90\\_On      & 1.567625e+12                 & ...                          &  991                         & 2435                         & 22                           &  8                           & False                        & On                           &  90                          & Close                        & Right                        & click                       \\\\\n",
       "\t 14301                        & 14301                        & participant\\_38             & 4                            & 8                            & 22                           & 621                          & posture                      & Right\\_Close\\_90\\_Below   & 1.567625e+12                 & ...                          & 1452                         & 6016                         & 24                           &  7                           & False                        & Below                        &  90                          & Close                        & Right                        & word                        \\\\\n",
       "\t 14303                        & 14303                        & participant\\_38             & 4                            & 8                            & 23                           & 623                          & posture                      & Right\\_Close\\_90\\_Beside  & 1.567625e+12                 & ...                          & 1589                         & 2769                         & 26                           &  4                           & False                        & Beside                       &  90                          & Close                        & Right                        & click                       \\\\\n",
       "\t 14305                        & 14305                        & participant\\_38             & 4                            & 8                            & 24                           & 625                          & posture                      & Right\\_Close\\_180\\_On     & 1.567625e+12                 & ...                          & 1088                         & 2499                         & 24                           &  4                           & False                        & On                           &   0                          & Close                        & Right                        & click                       \\\\\n",
       "\t 14307                        & 14307                        & participant\\_38             & 4                            & 8                            & 25                           & 627                          & posture                      & Right\\_Close\\_180\\_Below  & 1.567625e+12                 & ...                          & 1085                         & 2266                         & 30                           &  0                           & False                        & Below                        &   0                          & Close                        & Right                        & click                       \\\\\n",
       "\t 14309                        & 14309                        & participant\\_38             & 4                            & 8                            & 26                           & 629                          & posture                      & Right\\_Close\\_180\\_Beside & 1.567625e+12                 & ...                          & 1186                         & 3635                         & 22                           &  8                           & False                        & Beside                       &   0                          & Close                        & Right                        & word                        \\\\\n",
       "\t 14311                        & 14311                        & participant\\_38             & 4                            & 8                            & 27                           & 631                          & posture                      & Right\\_Open\\_0\\_On        & 1.567625e+12                 & ...                          & 1122                         & 2866                         & 17                           &  0                           & False                        & On                           & 180                          & Open                         & Right                        & click                       \\\\\n",
       "\t 14313                        & 14313                        & participant\\_38             & 4                            & 8                            & 28                           & 633                          & posture                      & Right\\_Open\\_0\\_Below     & 1.567625e+12                 & ...                          &  922                         & 3032                         & 31                           &  0                           & False                        & Below                        & 180                          & Open                         & Right                        & word                        \\\\\n",
       "\t 14315                        & 14315                        & participant\\_38             & 4                            & 8                            & 29                           & 635                          & posture                      & Right\\_Open\\_0\\_Beside    & 1.567625e+12                 & ...                          & 1292                         & 3269                         & 19                           & 12                           & False                        & Beside                       & 180                          & Open                         & Right                        & word                        \\\\\n",
       "\t 14317                        & 14317                        & participant\\_38             & 4                            & 8                            & 30                           & 637                          & posture                      & Right\\_Open\\_90\\_On       & 1.567625e+12                 & ...                          &  891                         & 2300                         & 25                           &  3                           & False                        & On                           &  90                          & Open                         & Right                        & click                       \\\\\n",
       "\t 14319                        & 14319                        & participant\\_38             & 4                            & 8                            & 31                           & 639                          & posture                      & Right\\_Open\\_90\\_Below    & 1.567625e+12                 & ...                          &  920                         & 3031                         &  9                           &  8                           & False                        & Below                        &  90                          & Open                         & Right                        & word                        \\\\\n",
       "\t 14321                        & 14321                        & participant\\_38             & 4                            & 8                            & 32                           & 641                          & posture                      & Right\\_Open\\_90\\_Beside   & 1.567625e+12                 & ...                          & 1922                         & 5267                         & 20                           &  4                           & False                        & Beside                       &  90                          & Open                         & Right                        & word                        \\\\\n",
       "\t 14323                        & 14323                        & participant\\_38             & 4                            & 8                            & 33                           & 643                          & posture                      & Right\\_Open\\_180\\_On      & 1.567625e+12                 & ...                          & 1121                         & 2334                         & 20                           &  0                           & False                        & On                           &   0                          & Open                         & Right                        & click                       \\\\\n",
       "\t 14325                        & 14325                        & participant\\_38             & 4                            & 8                            & 34                           & 645                          & posture                      & Right\\_Open\\_180\\_Below   & 1.567625e+12                 & ...                          & 2289                         & 3937                         & 27                           &  0                           & False                        & Below                        &   0                          & Open                         & Right                        & word                        \\\\\n",
       "\t 14327                        & 14327                        & participant\\_38             & 4                            & 8                            & 35                           & 647                          & posture                      & Right\\_Open\\_180\\_Beside  & 1.567625e+12                 & ...                          &    0                         & 1041                         & 25                           &  5                           & False                        & Beside                       &   0                          & Open                         & Right                        & click                       \\\\\n",
       "\\end{tabular}\n"
      ],
      "text/markdown": [
       "\n",
       "| X | Unnamed..0 | Participant | Block | Sequence | Sub_Sequence | Trial | Target_Type | Target_Name | Start_Time | ... | Mode_Out_Time | Execution_Time | Reference_Action_Count | Incorrect_Action_Count | Error | IV_Surface | IV_Orientation | IV_Form | IV_Hand | Reference_Task |\n",
       "|---|---|---|---|---|---|---|---|---|---|---|---|---|---|---|---|---|---|---|---|---|\n",
       "|  1                     |  1                     | participant_31         | 0                      | 0                      |  0                     |  1                     | posture                | Left_Close_0_On        | 1.567119e+12           | ...                    | 1758                   | 3093                   | 26                     |  4                     | False                  | On                     | 180                    | Close                  | Left                   | click                  |\n",
       "|  3                     |  3                     | participant_31         | 0                      | 0                      |  1                     |  3                     | posture                | Left_Close_0_Below     | 1.567119e+12           | ...                    | 2024                   | 4796                   | 24                     |  0                     | False                  | Below                  | 180                    | Close                  | Left                   | word                   |\n",
       "|  5                     |  5                     | participant_31         | 0                      | 0                      |  2                     |  5                     | posture                | Left_Close_0_Beside    | 1.567119e+12           | ...                    | 1523                   | 3201                   | 28                     |  0                     | False                  | Beside                 | 180                    | Close                  | Left                   | click                  |\n",
       "|  9                     |  9                     | participant_31         | 0                      | 0                      |  4                     |  9                     | posture                | Left_Close_90_Below    | 1.567119e+12           | ...                    | 1688                   | 5001                   | 23                     |  8                     | False                  | Below                  |  90                    | Close                  | Left                   | word                   |\n",
       "| 11                     | 11                     | participant_31         | 0                      | 0                      |  5                     | 11                     | posture                | Left_Close_90_Beside   | 1.567119e+12           | ...                    | 1421                   | 3199                   | 27                     |  0                     | False                  | Beside                 |  90                    | Close                  | Left                   | click                  |\n",
       "| 13                     | 13                     | participant_31         | 0                      | 0                      |  6                     | 13                     | posture                | Left_Close_180_On      | 1.567119e+12           | ...                    | 2188                   | 4668                   | 19                     | 14                     | False                  | On                     |   0                    | Close                  | Left                   | word                   |\n",
       "| 15                     | 15                     | participant_31         | 0                      | 0                      |  7                     | 15                     | posture                | Left_Close_180_Below   | 1.567119e+12           | ...                    | 1254                   | 2632                   | 25                     |  9                     | False                  | Below                  |   0                    | Close                  | Left                   | click                  |\n",
       "| 17                     | 17                     | participant_31         | 0                      | 0                      |  8                     | 17                     | posture                | Left_Close_180_Beside  | 1.567119e+12           | ...                    | 1425                   | 3136                   | 18                     | 22                     | False                  | Beside                 |   0                    | Close                  | Left                   | click                  |\n",
       "| 19                     | 19                     | participant_31         | 0                      | 0                      |  9                     | 19                     | posture                | Left_Open_0_On         | 1.567119e+12           | ...                    | 1522                   | 4400                   | 20                     |  7                     | False                  | On                     | 180                    | Open                   | Left                   | word                   |\n",
       "| 21                     | 21                     | participant_31         | 0                      | 0                      | 10                     | 21                     | posture                | Left_Open_0_Below      | 1.567119e+12           | ...                    | 1486                   | 3999                   | 20                     |  8                     | False                  | Below                  | 180                    | Open                   | Left                   | word                   |\n",
       "| 23                     | 23                     | participant_31         | 0                      | 0                      | 11                     | 23                     | posture                | Left_Open_0_Beside     | 1.567119e+12           | ...                    | 1224                   | 2600                   | 25                     |  0                     | False                  | Beside                 | 180                    | Open                   | Left                   | click                  |\n",
       "| 25                     | 25                     | participant_31         | 0                      | 0                      | 12                     | 25                     | posture                | Left_Open_90_On        | 1.567119e+12           | ...                    | 1956                   | 4733                   | 18                     |  4                     | False                  | On                     |  90                    | Open                   | Left                   | word                   |\n",
       "| 27                     | 27                     | participant_31         | 0                      | 0                      | 13                     | 27                     | posture                | Left_Open_90_Below     | 1.567119e+12           | ...                    | 1260                   | 2504                   | 23                     |  0                     | False                  | Below                  |  90                    | Open                   | Left                   | click                  |\n",
       "| 29                     | 29                     | participant_31         | 0                      | 0                      | 14                     | 29                     | posture                | Left_Open_90_Beside    | 1.567119e+12           | ...                    | 1287                   | 3499                   | 23                     |  4                     | False                  | Beside                 |  90                    | Open                   | Left                   | word                   |\n",
       "| 31                     | 31                     | participant_31         | 0                      | 0                      | 15                     | 31                     | posture                | Left_Open_180_On       | 1.567119e+12           | ...                    |  125                   | 1435                   |  2                     |  0                     | False                  | On                     |   0                    | Open                   | Left                   | click                  |\n",
       "| 33                     | 33                     | participant_31         | 0                      | 0                      | 16                     | 33                     | posture                | Left_Open_180_Below    | 1.567119e+12           | ...                    | 1196                   | 7668                   | 23                     | 13                     | False                  | Below                  |   0                    | Open                   | Left                   | word                   |\n",
       "| 35                     | 35                     | participant_31         | 0                      | 0                      | 17                     | 35                     | posture                | Left_Open_180_Beside   | 1.567119e+12           | ...                    | 2059                   | 5898                   | 21                     | 22                     | False                  | Beside                 |   0                    | Open                   | Left                   | word                   |\n",
       "| 37                     | 37                     | participant_31         | 0                      | 0                      | 18                     | 37                     | posture                | Right_Close_0_On       | 1.567119e+12           | ...                    | 1457                   | 2967                   | 27                     |  0                     | False                  | On                     | 180                    | Close                  | Right                  | click                  |\n",
       "| 39                     | 39                     | participant_31         | 0                      | 0                      | 19                     | 39                     | posture                | Right_Close_0_Below    | 1.567119e+12           | ...                    | 1356                   | 6563                   | 30                     |  0                     | False                  | Below                  | 180                    | Close                  | Right                  | click                  |\n",
       "| 41                     | 41                     | participant_31         | 0                      | 0                      | 20                     | 41                     | posture                | Right_Close_0_Beside   | 1.567119e+12           | ...                    | 1360                   | 3937                   | 24                     |  3                     | False                  | Beside                 | 180                    | Close                  | Right                  | word                   |\n",
       "| 43                     | 43                     | participant_31         | 0                      | 0                      | 21                     | 43                     | posture                | Right_Close_90_On      | 1.567119e+12           | ...                    | 1286                   | 2397                   | 30                     |  0                     | False                  | On                     |  90                    | Close                  | Right                  | click                  |\n",
       "| 45                     | 45                     | participant_31         | 0                      | 0                      | 22                     | 45                     | posture                | Right_Close_90_Below   | 1.567119e+12           | ...                    | 2620                   | 4534                   | 24                     |  0                     | False                  | Below                  |  90                    | Close                  | Right                  | word                   |\n",
       "| 47                     | 47                     | participant_31         | 0                      | 0                      | 23                     | 47                     | posture                | Right_Close_90_Beside  | 1.567119e+12           | ...                    | 1452                   | 2898                   | 27                     |  4                     | False                  | Beside                 |  90                    | Close                  | Right                  | click                  |\n",
       "| 49                     | 49                     | participant_31         | 0                      | 0                      | 24                     | 49                     | posture                | Right_Close_180_On     | 1.567119e+12           | ...                    | 1519                   | 3002                   | 24                     |  4                     | False                  | On                     |   0                    | Close                  | Right                  | click                  |\n",
       "| 51                     | 51                     | participant_31         | 0                      | 0                      | 25                     | 51                     | posture                | Right_Close_180_Below  | 1.567119e+12           | ...                    | 1756                   | 2935                   | 30                     |  0                     | False                  | Below                  |   0                    | Close                  | Right                  | click                  |\n",
       "| 53                     | 53                     | participant_31         | 0                      | 0                      | 26                     | 53                     | posture                | Right_Close_180_Beside | 1.567119e+12           | ...                    | 1390                   | 3699                   | 15                     | 14                     | False                  | Beside                 |   0                    | Close                  | Right                  | word                   |\n",
       "| 55                     | 55                     | participant_31         | 0                      | 0                      | 27                     | 55                     | posture                | Right_Open_0_On        | 1.567119e+12           | ...                    | 1152                   | 2298                   | 15                     |  0                     | False                  | On                     | 180                    | Open                   | Right                  | click                  |\n",
       "| 57                     | 57                     | participant_31         | 0                      | 0                      | 28                     | 57                     | posture                | Right_Open_0_Below     | 1.567119e+12           | ...                    | 1253                   | 6135                   | 30                     |  0                     | False                  | Below                  | 180                    | Open                   | Right                  | word                   |\n",
       "| 59                     | 59                     | participant_31         | 0                      | 0                      | 29                     | 59                     | posture                | Right_Open_0_Beside    | 1.567119e+12           | ...                    | 1517                   | 4001                   | 19                     | 12                     | False                  | Beside                 | 180                    | Open                   | Right                  | word                   |\n",
       "| 61                     | 61                     | participant_31         | 0                      | 0                      | 30                     | 61                     | posture                | Right_Open_90_On       | 1.567119e+12           | ...                    | 1156                   | 2334                   | 25                     |  3                     | False                  | On                     |  90                    | Open                   | Right                  | click                  |\n",
       "| ... | ... | ... | ... | ... | ... | ... | ... | ... | ... |     | ... | ... | ... | ... | ... | ... | ... | ... | ... | ... |\n",
       "| 14269                  | 14269                  | participant_38         | 4                      | 8                      |  6                     | 589                    | posture                | Left_Close_180_On      | 1.567625e+12           | ...                    | 1482                   | 3468                   | 22                     |  9                     | False                  | On                     |   0                    | Close                  | Left                   | word                   |\n",
       "| 14271                  | 14271                  | participant_38         | 4                      | 8                      |  7                     | 591                    | posture                | Left_Close_180_Below   | 1.567625e+12           | ...                    | 1123                   | 2135                   | 20                     |  6                     | False                  | Below                  |   0                    | Close                  | Left                   | click                  |\n",
       "| 14273                  | 14273                  | participant_38         | 4                      | 8                      |  8                     | 593                    | posture                | Left_Close_180_Beside  | 1.567625e+12           | ...                    | 1093                   | 2169                   | 29                     |  0                     | False                  | Beside                 |   0                    | Close                  | Left                   | click                  |\n",
       "| 14275                  | 14275                  | participant_38         | 4                      | 8                      |  9                     | 595                    | posture                | Left_Open_0_On         | 1.567625e+12           | ...                    | 1083                   | 2662                   | 20                     |  7                     | False                  | On                     | 180                    | Open                   | Left                   | word                   |\n",
       "| 14277                  | 14277                  | participant_38         | 4                      | 8                      | 10                     | 597                    | posture                | Left_Open_0_Below      | 1.567625e+12           | ...                    | 1157                   | 3333                   | 20                     |  8                     | False                  | Below                  | 180                    | Open                   | Left                   | word                   |\n",
       "| 14279                  | 14279                  | participant_38         | 4                      | 8                      | 11                     | 599                    | posture                | Left_Open_0_Beside     | 1.567625e+12           | ...                    |  291                   | 1635                   | 23                     |  0                     | False                  | Beside                 | 180                    | Open                   | Left                   | click                  |\n",
       "| 14281                  | 14281                  | participant_38         | 4                      | 8                      | 12                     | 601                    | posture                | Left_Open_90_On        | 1.567625e+12           | ...                    | 2358                   | 4668                   | 14                     |  2                     | False                  | On                     |  90                    | Open                   | Left                   | word                   |\n",
       "| 14283                  | 14283                  | participant_38         | 4                      | 8                      | 13                     | 603                    | posture                | Left_Open_90_Below     | 1.567625e+12           | ...                    | 1188                   | 2197                   | 20                     |  0                     | False                  | Below                  |  90                    | Open                   | Left                   | click                  |\n",
       "| 14285                  | 14285                  | participant_38         | 4                      | 8                      | 14                     | 605                    | posture                | Left_Open_90_Beside    | 1.567625e+12           | ...                    | 1590                   | 3272                   | 28                     |  0                     | False                  | Beside                 |  90                    | Open                   | Left                   | word                   |\n",
       "| 14287                  | 14287                  | participant_38         | 4                      | 8                      | 15                     | 607                    | posture                | Left_Open_180_On       | 1.567625e+12           | ...                    | 1019                   | 2297                   | 27                     |  0                     | False                  | On                     |   0                    | Open                   | Left                   | click                  |\n",
       "| 14289                  | 14289                  | participant_38         | 4                      | 8                      | 16                     | 609                    | posture                | Left_Open_180_Below    | 1.567625e+12           | ...                    | 1022                   | 2867                   | 19                     | 13                     | False                  | Below                  |   0                    | Open                   | Left                   | word                   |\n",
       "| 14291                  | 14291                  | participant_38         | 4                      | 8                      | 17                     | 611                    | posture                | Left_Open_180_Beside   | 1.567625e+12           | ...                    | 1658                   | 4037                   | 21                     |  5                     | False                  | Beside                 |   0                    | Open                   | Left                   | word                   |\n",
       "| 14293                  | 14293                  | participant_38         | 4                      | 8                      | 18                     | 613                    | posture                | Right_Close_0_On       | 1.567625e+12           | ...                    | 2120                   | 3461                   | 30                     |  4                     | False                  | On                     | 180                    | Close                  | Right                  | click                  |\n",
       "| 14295                  | 14295                  | participant_38         | 4                      | 8                      | 19                     | 615                    | posture                | Right_Close_0_Below    | 1.567625e+12           | ...                    | 1023                   | 3872                   | 23                     |  0                     | False                  | Below                  | 180                    | Close                  | Right                  | click                  |\n",
       "| 14297                  | 14297                  | participant_38         | 4                      | 8                      | 20                     | 617                    | posture                | Right_Close_0_Beside   | 1.567625e+12           | ...                    | 1387                   | 3498                   | 30                     |  0                     | False                  | Beside                 | 180                    | Close                  | Right                  | word                   |\n",
       "| 14299                  | 14299                  | participant_38         | 4                      | 8                      | 21                     | 619                    | posture                | Right_Close_90_On      | 1.567625e+12           | ...                    |  991                   | 2435                   | 22                     |  8                     | False                  | On                     |  90                    | Close                  | Right                  | click                  |\n",
       "| 14301                  | 14301                  | participant_38         | 4                      | 8                      | 22                     | 621                    | posture                | Right_Close_90_Below   | 1.567625e+12           | ...                    | 1452                   | 6016                   | 24                     |  7                     | False                  | Below                  |  90                    | Close                  | Right                  | word                   |\n",
       "| 14303                  | 14303                  | participant_38         | 4                      | 8                      | 23                     | 623                    | posture                | Right_Close_90_Beside  | 1.567625e+12           | ...                    | 1589                   | 2769                   | 26                     |  4                     | False                  | Beside                 |  90                    | Close                  | Right                  | click                  |\n",
       "| 14305                  | 14305                  | participant_38         | 4                      | 8                      | 24                     | 625                    | posture                | Right_Close_180_On     | 1.567625e+12           | ...                    | 1088                   | 2499                   | 24                     |  4                     | False                  | On                     |   0                    | Close                  | Right                  | click                  |\n",
       "| 14307                  | 14307                  | participant_38         | 4                      | 8                      | 25                     | 627                    | posture                | Right_Close_180_Below  | 1.567625e+12           | ...                    | 1085                   | 2266                   | 30                     |  0                     | False                  | Below                  |   0                    | Close                  | Right                  | click                  |\n",
       "| 14309                  | 14309                  | participant_38         | 4                      | 8                      | 26                     | 629                    | posture                | Right_Close_180_Beside | 1.567625e+12           | ...                    | 1186                   | 3635                   | 22                     |  8                     | False                  | Beside                 |   0                    | Close                  | Right                  | word                   |\n",
       "| 14311                  | 14311                  | participant_38         | 4                      | 8                      | 27                     | 631                    | posture                | Right_Open_0_On        | 1.567625e+12           | ...                    | 1122                   | 2866                   | 17                     |  0                     | False                  | On                     | 180                    | Open                   | Right                  | click                  |\n",
       "| 14313                  | 14313                  | participant_38         | 4                      | 8                      | 28                     | 633                    | posture                | Right_Open_0_Below     | 1.567625e+12           | ...                    |  922                   | 3032                   | 31                     |  0                     | False                  | Below                  | 180                    | Open                   | Right                  | word                   |\n",
       "| 14315                  | 14315                  | participant_38         | 4                      | 8                      | 29                     | 635                    | posture                | Right_Open_0_Beside    | 1.567625e+12           | ...                    | 1292                   | 3269                   | 19                     | 12                     | False                  | Beside                 | 180                    | Open                   | Right                  | word                   |\n",
       "| 14317                  | 14317                  | participant_38         | 4                      | 8                      | 30                     | 637                    | posture                | Right_Open_90_On       | 1.567625e+12           | ...                    |  891                   | 2300                   | 25                     |  3                     | False                  | On                     |  90                    | Open                   | Right                  | click                  |\n",
       "| 14319                  | 14319                  | participant_38         | 4                      | 8                      | 31                     | 639                    | posture                | Right_Open_90_Below    | 1.567625e+12           | ...                    |  920                   | 3031                   |  9                     |  8                     | False                  | Below                  |  90                    | Open                   | Right                  | word                   |\n",
       "| 14321                  | 14321                  | participant_38         | 4                      | 8                      | 32                     | 641                    | posture                | Right_Open_90_Beside   | 1.567625e+12           | ...                    | 1922                   | 5267                   | 20                     |  4                     | False                  | Beside                 |  90                    | Open                   | Right                  | word                   |\n",
       "| 14323                  | 14323                  | participant_38         | 4                      | 8                      | 33                     | 643                    | posture                | Right_Open_180_On      | 1.567625e+12           | ...                    | 1121                   | 2334                   | 20                     |  0                     | False                  | On                     |   0                    | Open                   | Right                  | click                  |\n",
       "| 14325                  | 14325                  | participant_38         | 4                      | 8                      | 34                     | 645                    | posture                | Right_Open_180_Below   | 1.567625e+12           | ...                    | 2289                   | 3937                   | 27                     |  0                     | False                  | Below                  |   0                    | Open                   | Right                  | word                   |\n",
       "| 14327                  | 14327                  | participant_38         | 4                      | 8                      | 35                     | 647                    | posture                | Right_Open_180_Beside  | 1.567625e+12           | ...                    |    0                   | 1041                   | 25                     |  5                     | False                  | Beside                 |   0                    | Open                   | Right                  | click                  |\n",
       "\n"
      ],
      "text/plain": [
       "     X     Unnamed..0 Participant    Block Sequence Sub_Sequence Trial\n",
       "1     1     1         participant_31 0     0         0            1   \n",
       "2     3     3         participant_31 0     0         1            3   \n",
       "3     5     5         participant_31 0     0         2            5   \n",
       "4     9     9         participant_31 0     0         4            9   \n",
       "5    11    11         participant_31 0     0         5           11   \n",
       "6    13    13         participant_31 0     0         6           13   \n",
       "7    15    15         participant_31 0     0         7           15   \n",
       "8    17    17         participant_31 0     0         8           17   \n",
       "9    19    19         participant_31 0     0         9           19   \n",
       "10   21    21         participant_31 0     0        10           21   \n",
       "11   23    23         participant_31 0     0        11           23   \n",
       "12   25    25         participant_31 0     0        12           25   \n",
       "13   27    27         participant_31 0     0        13           27   \n",
       "14   29    29         participant_31 0     0        14           29   \n",
       "15   31    31         participant_31 0     0        15           31   \n",
       "16   33    33         participant_31 0     0        16           33   \n",
       "17   35    35         participant_31 0     0        17           35   \n",
       "18   37    37         participant_31 0     0        18           37   \n",
       "19   39    39         participant_31 0     0        19           39   \n",
       "20   41    41         participant_31 0     0        20           41   \n",
       "21   43    43         participant_31 0     0        21           43   \n",
       "22   45    45         participant_31 0     0        22           45   \n",
       "23   47    47         participant_31 0     0        23           47   \n",
       "24   49    49         participant_31 0     0        24           49   \n",
       "25   51    51         participant_31 0     0        25           51   \n",
       "26   53    53         participant_31 0     0        26           53   \n",
       "27   55    55         participant_31 0     0        27           55   \n",
       "28   57    57         participant_31 0     0        28           57   \n",
       "29   59    59         participant_31 0     0        29           59   \n",
       "30   61    61         participant_31 0     0        30           61   \n",
       "...  ...   ...        ...            ...   ...      ...          ...  \n",
       "3521 14269 14269      participant_38 4     8         6           589  \n",
       "3522 14271 14271      participant_38 4     8         7           591  \n",
       "3523 14273 14273      participant_38 4     8         8           593  \n",
       "3524 14275 14275      participant_38 4     8         9           595  \n",
       "3525 14277 14277      participant_38 4     8        10           597  \n",
       "3526 14279 14279      participant_38 4     8        11           599  \n",
       "3527 14281 14281      participant_38 4     8        12           601  \n",
       "3528 14283 14283      participant_38 4     8        13           603  \n",
       "3529 14285 14285      participant_38 4     8        14           605  \n",
       "3530 14287 14287      participant_38 4     8        15           607  \n",
       "3531 14289 14289      participant_38 4     8        16           609  \n",
       "3532 14291 14291      participant_38 4     8        17           611  \n",
       "3533 14293 14293      participant_38 4     8        18           613  \n",
       "3534 14295 14295      participant_38 4     8        19           615  \n",
       "3535 14297 14297      participant_38 4     8        20           617  \n",
       "3536 14299 14299      participant_38 4     8        21           619  \n",
       "3537 14301 14301      participant_38 4     8        22           621  \n",
       "3538 14303 14303      participant_38 4     8        23           623  \n",
       "3539 14305 14305      participant_38 4     8        24           625  \n",
       "3540 14307 14307      participant_38 4     8        25           627  \n",
       "3541 14309 14309      participant_38 4     8        26           629  \n",
       "3542 14311 14311      participant_38 4     8        27           631  \n",
       "3543 14313 14313      participant_38 4     8        28           633  \n",
       "3544 14315 14315      participant_38 4     8        29           635  \n",
       "3545 14317 14317      participant_38 4     8        30           637  \n",
       "3546 14319 14319      participant_38 4     8        31           639  \n",
       "3547 14321 14321      participant_38 4     8        32           641  \n",
       "3548 14323 14323      participant_38 4     8        33           643  \n",
       "3549 14325 14325      participant_38 4     8        34           645  \n",
       "3550 14327 14327      participant_38 4     8        35           647  \n",
       "     Target_Type Target_Name            Start_Time   ... Mode_Out_Time\n",
       "1    posture     Left_Close_0_On        1.567119e+12 ... 1758         \n",
       "2    posture     Left_Close_0_Below     1.567119e+12 ... 2024         \n",
       "3    posture     Left_Close_0_Beside    1.567119e+12 ... 1523         \n",
       "4    posture     Left_Close_90_Below    1.567119e+12 ... 1688         \n",
       "5    posture     Left_Close_90_Beside   1.567119e+12 ... 1421         \n",
       "6    posture     Left_Close_180_On      1.567119e+12 ... 2188         \n",
       "7    posture     Left_Close_180_Below   1.567119e+12 ... 1254         \n",
       "8    posture     Left_Close_180_Beside  1.567119e+12 ... 1425         \n",
       "9    posture     Left_Open_0_On         1.567119e+12 ... 1522         \n",
       "10   posture     Left_Open_0_Below      1.567119e+12 ... 1486         \n",
       "11   posture     Left_Open_0_Beside     1.567119e+12 ... 1224         \n",
       "12   posture     Left_Open_90_On        1.567119e+12 ... 1956         \n",
       "13   posture     Left_Open_90_Below     1.567119e+12 ... 1260         \n",
       "14   posture     Left_Open_90_Beside    1.567119e+12 ... 1287         \n",
       "15   posture     Left_Open_180_On       1.567119e+12 ...  125         \n",
       "16   posture     Left_Open_180_Below    1.567119e+12 ... 1196         \n",
       "17   posture     Left_Open_180_Beside   1.567119e+12 ... 2059         \n",
       "18   posture     Right_Close_0_On       1.567119e+12 ... 1457         \n",
       "19   posture     Right_Close_0_Below    1.567119e+12 ... 1356         \n",
       "20   posture     Right_Close_0_Beside   1.567119e+12 ... 1360         \n",
       "21   posture     Right_Close_90_On      1.567119e+12 ... 1286         \n",
       "22   posture     Right_Close_90_Below   1.567119e+12 ... 2620         \n",
       "23   posture     Right_Close_90_Beside  1.567119e+12 ... 1452         \n",
       "24   posture     Right_Close_180_On     1.567119e+12 ... 1519         \n",
       "25   posture     Right_Close_180_Below  1.567119e+12 ... 1756         \n",
       "26   posture     Right_Close_180_Beside 1.567119e+12 ... 1390         \n",
       "27   posture     Right_Open_0_On        1.567119e+12 ... 1152         \n",
       "28   posture     Right_Open_0_Below     1.567119e+12 ... 1253         \n",
       "29   posture     Right_Open_0_Beside    1.567119e+12 ... 1517         \n",
       "30   posture     Right_Open_90_On       1.567119e+12 ... 1156         \n",
       "...  ...         ...                    ...              ...          \n",
       "3521 posture     Left_Close_180_On      1.567625e+12 ... 1482         \n",
       "3522 posture     Left_Close_180_Below   1.567625e+12 ... 1123         \n",
       "3523 posture     Left_Close_180_Beside  1.567625e+12 ... 1093         \n",
       "3524 posture     Left_Open_0_On         1.567625e+12 ... 1083         \n",
       "3525 posture     Left_Open_0_Below      1.567625e+12 ... 1157         \n",
       "3526 posture     Left_Open_0_Beside     1.567625e+12 ...  291         \n",
       "3527 posture     Left_Open_90_On        1.567625e+12 ... 2358         \n",
       "3528 posture     Left_Open_90_Below     1.567625e+12 ... 1188         \n",
       "3529 posture     Left_Open_90_Beside    1.567625e+12 ... 1590         \n",
       "3530 posture     Left_Open_180_On       1.567625e+12 ... 1019         \n",
       "3531 posture     Left_Open_180_Below    1.567625e+12 ... 1022         \n",
       "3532 posture     Left_Open_180_Beside   1.567625e+12 ... 1658         \n",
       "3533 posture     Right_Close_0_On       1.567625e+12 ... 2120         \n",
       "3534 posture     Right_Close_0_Below    1.567625e+12 ... 1023         \n",
       "3535 posture     Right_Close_0_Beside   1.567625e+12 ... 1387         \n",
       "3536 posture     Right_Close_90_On      1.567625e+12 ...  991         \n",
       "3537 posture     Right_Close_90_Below   1.567625e+12 ... 1452         \n",
       "3538 posture     Right_Close_90_Beside  1.567625e+12 ... 1589         \n",
       "3539 posture     Right_Close_180_On     1.567625e+12 ... 1088         \n",
       "3540 posture     Right_Close_180_Below  1.567625e+12 ... 1085         \n",
       "3541 posture     Right_Close_180_Beside 1.567625e+12 ... 1186         \n",
       "3542 posture     Right_Open_0_On        1.567625e+12 ... 1122         \n",
       "3543 posture     Right_Open_0_Below     1.567625e+12 ...  922         \n",
       "3544 posture     Right_Open_0_Beside    1.567625e+12 ... 1292         \n",
       "3545 posture     Right_Open_90_On       1.567625e+12 ...  891         \n",
       "3546 posture     Right_Open_90_Below    1.567625e+12 ...  920         \n",
       "3547 posture     Right_Open_90_Beside   1.567625e+12 ... 1922         \n",
       "3548 posture     Right_Open_180_On      1.567625e+12 ... 1121         \n",
       "3549 posture     Right_Open_180_Below   1.567625e+12 ... 2289         \n",
       "3550 posture     Right_Open_180_Beside  1.567625e+12 ...    0         \n",
       "     Execution_Time Reference_Action_Count Incorrect_Action_Count Error\n",
       "1    3093           26                      4                     False\n",
       "2    4796           24                      0                     False\n",
       "3    3201           28                      0                     False\n",
       "4    5001           23                      8                     False\n",
       "5    3199           27                      0                     False\n",
       "6    4668           19                     14                     False\n",
       "7    2632           25                      9                     False\n",
       "8    3136           18                     22                     False\n",
       "9    4400           20                      7                     False\n",
       "10   3999           20                      8                     False\n",
       "11   2600           25                      0                     False\n",
       "12   4733           18                      4                     False\n",
       "13   2504           23                      0                     False\n",
       "14   3499           23                      4                     False\n",
       "15   1435            2                      0                     False\n",
       "16   7668           23                     13                     False\n",
       "17   5898           21                     22                     False\n",
       "18   2967           27                      0                     False\n",
       "19   6563           30                      0                     False\n",
       "20   3937           24                      3                     False\n",
       "21   2397           30                      0                     False\n",
       "22   4534           24                      0                     False\n",
       "23   2898           27                      4                     False\n",
       "24   3002           24                      4                     False\n",
       "25   2935           30                      0                     False\n",
       "26   3699           15                     14                     False\n",
       "27   2298           15                      0                     False\n",
       "28   6135           30                      0                     False\n",
       "29   4001           19                     12                     False\n",
       "30   2334           25                      3                     False\n",
       "...  ...            ...                    ...                    ...  \n",
       "3521 3468           22                      9                     False\n",
       "3522 2135           20                      6                     False\n",
       "3523 2169           29                      0                     False\n",
       "3524 2662           20                      7                     False\n",
       "3525 3333           20                      8                     False\n",
       "3526 1635           23                      0                     False\n",
       "3527 4668           14                      2                     False\n",
       "3528 2197           20                      0                     False\n",
       "3529 3272           28                      0                     False\n",
       "3530 2297           27                      0                     False\n",
       "3531 2867           19                     13                     False\n",
       "3532 4037           21                      5                     False\n",
       "3533 3461           30                      4                     False\n",
       "3534 3872           23                      0                     False\n",
       "3535 3498           30                      0                     False\n",
       "3536 2435           22                      8                     False\n",
       "3537 6016           24                      7                     False\n",
       "3538 2769           26                      4                     False\n",
       "3539 2499           24                      4                     False\n",
       "3540 2266           30                      0                     False\n",
       "3541 3635           22                      8                     False\n",
       "3542 2866           17                      0                     False\n",
       "3543 3032           31                      0                     False\n",
       "3544 3269           19                     12                     False\n",
       "3545 2300           25                      3                     False\n",
       "3546 3031            9                      8                     False\n",
       "3547 5267           20                      4                     False\n",
       "3548 2334           20                      0                     False\n",
       "3549 3937           27                      0                     False\n",
       "3550 1041           25                      5                     False\n",
       "     IV_Surface IV_Orientation IV_Form IV_Hand Reference_Task\n",
       "1    On         180            Close   Left    click         \n",
       "2    Below      180            Close   Left    word          \n",
       "3    Beside     180            Close   Left    click         \n",
       "4    Below       90            Close   Left    word          \n",
       "5    Beside      90            Close   Left    click         \n",
       "6    On           0            Close   Left    word          \n",
       "7    Below        0            Close   Left    click         \n",
       "8    Beside       0            Close   Left    click         \n",
       "9    On         180            Open    Left    word          \n",
       "10   Below      180            Open    Left    word          \n",
       "11   Beside     180            Open    Left    click         \n",
       "12   On          90            Open    Left    word          \n",
       "13   Below       90            Open    Left    click         \n",
       "14   Beside      90            Open    Left    word          \n",
       "15   On           0            Open    Left    click         \n",
       "16   Below        0            Open    Left    word          \n",
       "17   Beside       0            Open    Left    word          \n",
       "18   On         180            Close   Right   click         \n",
       "19   Below      180            Close   Right   click         \n",
       "20   Beside     180            Close   Right   word          \n",
       "21   On          90            Close   Right   click         \n",
       "22   Below       90            Close   Right   word          \n",
       "23   Beside      90            Close   Right   click         \n",
       "24   On           0            Close   Right   click         \n",
       "25   Below        0            Close   Right   click         \n",
       "26   Beside       0            Close   Right   word          \n",
       "27   On         180            Open    Right   click         \n",
       "28   Below      180            Open    Right   word          \n",
       "29   Beside     180            Open    Right   word          \n",
       "30   On          90            Open    Right   click         \n",
       "...  ...        ...            ...     ...     ...           \n",
       "3521 On           0            Close   Left    word          \n",
       "3522 Below        0            Close   Left    click         \n",
       "3523 Beside       0            Close   Left    click         \n",
       "3524 On         180            Open    Left    word          \n",
       "3525 Below      180            Open    Left    word          \n",
       "3526 Beside     180            Open    Left    click         \n",
       "3527 On          90            Open    Left    word          \n",
       "3528 Below       90            Open    Left    click         \n",
       "3529 Beside      90            Open    Left    word          \n",
       "3530 On           0            Open    Left    click         \n",
       "3531 Below        0            Open    Left    word          \n",
       "3532 Beside       0            Open    Left    word          \n",
       "3533 On         180            Close   Right   click         \n",
       "3534 Below      180            Close   Right   click         \n",
       "3535 Beside     180            Close   Right   word          \n",
       "3536 On          90            Close   Right   click         \n",
       "3537 Below       90            Close   Right   word          \n",
       "3538 Beside      90            Close   Right   click         \n",
       "3539 On           0            Close   Right   click         \n",
       "3540 Below        0            Close   Right   click         \n",
       "3541 Beside       0            Close   Right   word          \n",
       "3542 On         180            Open    Right   click         \n",
       "3543 Below      180            Open    Right   word          \n",
       "3544 Beside     180            Open    Right   word          \n",
       "3545 On          90            Open    Right   click         \n",
       "3546 Below       90            Open    Right   word          \n",
       "3547 Beside      90            Open    Right   word          \n",
       "3548 On           0            Open    Right   click         \n",
       "3549 Below        0            Open    Right   word          \n",
       "3550 Beside       0            Open    Right   click         "
      ]
     },
     "metadata": {},
     "output_type": "display_data"
    }
   ],
   "source": [
    "data_current"
   ]
  },
  {
   "cell_type": "markdown",
   "metadata": {},
   "source": [
    "# ANOVA"
   ]
  },
  {
   "cell_type": "code",
   "execution_count": 326,
   "metadata": {},
   "outputs": [
    {
     "data": {
      "text/html": [
       "<table>\n",
       "<thead><tr><th scope=col>X</th><th scope=col>Participant</th><th scope=col>Block</th><th scope=col>Sequence</th><th scope=col>Sub_Sequence</th><th scope=col>Trial</th><th scope=col>Target_Type</th><th scope=col>Target_Name</th><th scope=col>Start_Time</th><th scope=col>End_Time</th><th scope=col>...</th><th scope=col>Completion_Time</th><th scope=col>Reference_Action_Count</th><th scope=col>Incorrect_Action_Count</th><th scope=col>Error</th><th scope=col>IV_Surface</th><th scope=col>IV_Orientation</th><th scope=col>IV_Form</th><th scope=col>IV_Hand</th><th scope=col>Previous_Reference_Task</th><th scope=col>Next_Reference_Task</th></tr></thead>\n",
       "<tbody>\n",
       "\t<tr><td> 1                  </td><td>participant_31      </td><td>0                   </td><td>0                   </td><td>0                   </td><td> 1                  </td><td>posture             </td><td>Left_Close_0_On     </td><td>1.567119e+12        </td><td>1.567119e+12        </td><td>...                 </td><td>7.180831            </td><td>26                  </td><td>4                   </td><td>False               </td><td>On                  </td><td>0                   </td><td>Close               </td><td>Non Dominant        </td><td>click               </td><td>word                </td></tr>\n",
       "\t<tr><td> 3                  </td><td>participant_31      </td><td>0                   </td><td>0                   </td><td>1                   </td><td> 3                  </td><td>posture             </td><td>Left_Close_0_Below  </td><td>1.567119e+12        </td><td>1.567119e+12        </td><td>...                 </td><td>7.462215            </td><td>24                  </td><td>0                   </td><td>False               </td><td>Below               </td><td>0                   </td><td>Close               </td><td>Non Dominant        </td><td>word                </td><td>click               </td></tr>\n",
       "\t<tr><td> 5                  </td><td>participant_31      </td><td>0                   </td><td>0                   </td><td>2                   </td><td> 5                  </td><td>posture             </td><td>Left_Close_0_Beside </td><td>1.567119e+12        </td><td>1.567119e+12        </td><td>...                 </td><td>7.406711            </td><td>28                  </td><td>0                   </td><td>False               </td><td>Beside              </td><td>0                   </td><td>Close               </td><td>Non Dominant        </td><td>click               </td><td>word                </td></tr>\n",
       "\t<tr><td> 7                  </td><td>participant_31      </td><td>0                   </td><td>0                   </td><td>3                   </td><td> 7                  </td><td>posture             </td><td>Left_Close_90_On    </td><td>1.567119e+12        </td><td>1.567119e+12        </td><td>...                 </td><td>7.181592            </td><td>17                  </td><td>8                   </td><td>False               </td><td>On                  </td><td>90                  </td><td>Close               </td><td>Non Dominant        </td><td>word                </td><td>word                </td></tr>\n",
       "\t<tr><td> 9                  </td><td>participant_31      </td><td>0                   </td><td>0                   </td><td>4                   </td><td> 9                  </td><td>posture             </td><td>Left_Close_90_Below </td><td>1.567119e+12        </td><td>1.567119e+12        </td><td>...                 </td><td>7.252054            </td><td>23                  </td><td>8                   </td><td>False               </td><td>Below               </td><td>90                  </td><td>Close               </td><td>Non Dominant        </td><td>word                </td><td>click               </td></tr>\n",
       "\t<tr><td>11                  </td><td>participant_31      </td><td>0                   </td><td>0                   </td><td>5                   </td><td>11                  </td><td>posture             </td><td>Left_Close_90_Beside</td><td>1.567119e+12        </td><td>1.567119e+12        </td><td>...                 </td><td>7.462789            </td><td>27                  </td><td>0                   </td><td>False               </td><td>Beside              </td><td>90                  </td><td>Close               </td><td>Non Dominant        </td><td>click               </td><td>word                </td></tr>\n",
       "</tbody>\n",
       "</table>\n"
      ],
      "text/latex": [
       "\\begin{tabular}{r|llllllllllllllllllllllll}\n",
       " X & Participant & Block & Sequence & Sub\\_Sequence & Trial & Target\\_Type & Target\\_Name & Start\\_Time & End\\_Time & ... & Completion\\_Time & Reference\\_Action\\_Count & Incorrect\\_Action\\_Count & Error & IV\\_Surface & IV\\_Orientation & IV\\_Form & IV\\_Hand & Previous\\_Reference\\_Task & Next\\_Reference\\_Task\\\\\n",
       "\\hline\n",
       "\t  1                         & participant\\_31           & 0                          & 0                          & 0                          &  1                         & posture                    & Left\\_Close\\_0\\_On      & 1.567119e+12               & 1.567119e+12               & ...                        & 7.180831                   & 26                         & 4                          & False                      & On                         & 0                          & Close                      & Non Dominant               & click                      & word                      \\\\\n",
       "\t  3                         & participant\\_31           & 0                          & 0                          & 1                          &  3                         & posture                    & Left\\_Close\\_0\\_Below   & 1.567119e+12               & 1.567119e+12               & ...                        & 7.462215                   & 24                         & 0                          & False                      & Below                      & 0                          & Close                      & Non Dominant               & word                       & click                     \\\\\n",
       "\t  5                         & participant\\_31           & 0                          & 0                          & 2                          &  5                         & posture                    & Left\\_Close\\_0\\_Beside  & 1.567119e+12               & 1.567119e+12               & ...                        & 7.406711                   & 28                         & 0                          & False                      & Beside                     & 0                          & Close                      & Non Dominant               & click                      & word                      \\\\\n",
       "\t  7                         & participant\\_31           & 0                          & 0                          & 3                          &  7                         & posture                    & Left\\_Close\\_90\\_On     & 1.567119e+12               & 1.567119e+12               & ...                        & 7.181592                   & 17                         & 8                          & False                      & On                         & 90                         & Close                      & Non Dominant               & word                       & word                      \\\\\n",
       "\t  9                         & participant\\_31           & 0                          & 0                          & 4                          &  9                         & posture                    & Left\\_Close\\_90\\_Below  & 1.567119e+12               & 1.567119e+12               & ...                        & 7.252054                   & 23                         & 8                          & False                      & Below                      & 90                         & Close                      & Non Dominant               & word                       & click                     \\\\\n",
       "\t 11                         & participant\\_31           & 0                          & 0                          & 5                          & 11                         & posture                    & Left\\_Close\\_90\\_Beside & 1.567119e+12               & 1.567119e+12               & ...                        & 7.462789                   & 27                         & 0                          & False                      & Beside                     & 90                         & Close                      & Non Dominant               & click                      & word                      \\\\\n",
       "\\end{tabular}\n"
      ],
      "text/markdown": [
       "\n",
       "| X | Participant | Block | Sequence | Sub_Sequence | Trial | Target_Type | Target_Name | Start_Time | End_Time | ... | Completion_Time | Reference_Action_Count | Incorrect_Action_Count | Error | IV_Surface | IV_Orientation | IV_Form | IV_Hand | Previous_Reference_Task | Next_Reference_Task |\n",
       "|---|---|---|---|---|---|---|---|---|---|---|---|---|---|---|---|---|---|---|---|---|\n",
       "|  1                   | participant_31       | 0                    | 0                    | 0                    |  1                   | posture              | Left_Close_0_On      | 1.567119e+12         | 1.567119e+12         | ...                  | 7.180831             | 26                   | 4                    | False                | On                   | 0                    | Close                | Non Dominant         | click                | word                 |\n",
       "|  3                   | participant_31       | 0                    | 0                    | 1                    |  3                   | posture              | Left_Close_0_Below   | 1.567119e+12         | 1.567119e+12         | ...                  | 7.462215             | 24                   | 0                    | False                | Below                | 0                    | Close                | Non Dominant         | word                 | click                |\n",
       "|  5                   | participant_31       | 0                    | 0                    | 2                    |  5                   | posture              | Left_Close_0_Beside  | 1.567119e+12         | 1.567119e+12         | ...                  | 7.406711             | 28                   | 0                    | False                | Beside               | 0                    | Close                | Non Dominant         | click                | word                 |\n",
       "|  7                   | participant_31       | 0                    | 0                    | 3                    |  7                   | posture              | Left_Close_90_On     | 1.567119e+12         | 1.567119e+12         | ...                  | 7.181592             | 17                   | 8                    | False                | On                   | 90                   | Close                | Non Dominant         | word                 | word                 |\n",
       "|  9                   | participant_31       | 0                    | 0                    | 4                    |  9                   | posture              | Left_Close_90_Below  | 1.567119e+12         | 1.567119e+12         | ...                  | 7.252054             | 23                   | 8                    | False                | Below                | 90                   | Close                | Non Dominant         | word                 | click                |\n",
       "| 11                   | participant_31       | 0                    | 0                    | 5                    | 11                   | posture              | Left_Close_90_Beside | 1.567119e+12         | 1.567119e+12         | ...                  | 7.462789             | 27                   | 0                    | False                | Beside               | 90                   | Close                | Non Dominant         | click                | word                 |\n",
       "\n"
      ],
      "text/plain": [
       "  X  Participant    Block Sequence Sub_Sequence Trial Target_Type\n",
       "1  1 participant_31 0     0        0             1    posture    \n",
       "2  3 participant_31 0     0        1             3    posture    \n",
       "3  5 participant_31 0     0        2             5    posture    \n",
       "4  7 participant_31 0     0        3             7    posture    \n",
       "5  9 participant_31 0     0        4             9    posture    \n",
       "6 11 participant_31 0     0        5            11    posture    \n",
       "  Target_Name          Start_Time   End_Time     ... Completion_Time\n",
       "1 Left_Close_0_On      1.567119e+12 1.567119e+12 ... 7.180831       \n",
       "2 Left_Close_0_Below   1.567119e+12 1.567119e+12 ... 7.462215       \n",
       "3 Left_Close_0_Beside  1.567119e+12 1.567119e+12 ... 7.406711       \n",
       "4 Left_Close_90_On     1.567119e+12 1.567119e+12 ... 7.181592       \n",
       "5 Left_Close_90_Below  1.567119e+12 1.567119e+12 ... 7.252054       \n",
       "6 Left_Close_90_Beside 1.567119e+12 1.567119e+12 ... 7.462789       \n",
       "  Reference_Action_Count Incorrect_Action_Count Error IV_Surface IV_Orientation\n",
       "1 26                     4                      False On         0             \n",
       "2 24                     0                      False Below      0             \n",
       "3 28                     0                      False Beside     0             \n",
       "4 17                     8                      False On         90            \n",
       "5 23                     8                      False Below      90            \n",
       "6 27                     0                      False Beside     90            \n",
       "  IV_Form IV_Hand      Previous_Reference_Task Next_Reference_Task\n",
       "1 Close   Non Dominant click                   word               \n",
       "2 Close   Non Dominant word                    click              \n",
       "3 Close   Non Dominant click                   word               \n",
       "4 Close   Non Dominant word                    word               \n",
       "5 Close   Non Dominant word                    click              \n",
       "6 Close   Non Dominant click                   word               "
      ]
     },
     "metadata": {},
     "output_type": "display_data"
    }
   ],
   "source": [
    "head(data_current)"
   ]
  },
  {
   "cell_type": "code",
   "execution_count": 329,
   "metadata": {},
   "outputs": [
    {
     "data": {
      "text/plain": [
       "       X                 Participant       Block          Sequence    \n",
       " Min.   :    1   participant_48: 314   Min.   :0.000   Min.   :0.000  \n",
       " 1st Qu.: 3581   participant_35: 312   1st Qu.:1.000   1st Qu.:2.000  \n",
       " Median : 7173   participant_31: 310   Median :2.000   Median :4.000  \n",
       " Mean   : 7186   participant_36: 310   Mean   :2.001   Mean   :4.458  \n",
       " 3rd Qu.:10775   participant_40: 307   3rd Qu.:3.000   3rd Qu.:7.000  \n",
       " Max.   :14399   participant_37: 301   Max.   :4.000   Max.   :9.000  \n",
       "                 (Other)       :4111                                  \n",
       "  Sub_Sequence      Trial         Target_Type    Target_Name  \n",
       " Min.   : 0.0   Min.   :  1.0   posture :3245   down   : 131  \n",
       " 1st Qu.: 8.0   1st Qu.:177.0   shortcut:2720   M      : 122  \n",
       " Median :17.0   Median :353.0                   up     : 116  \n",
       " Mean   :17.4   Mean   :356.8                   right  : 115  \n",
       " 3rd Qu.:27.0   3rd Qu.:537.0                   H      : 112  \n",
       " Max.   :35.0   Max.   :719.0                   L      : 109  \n",
       "                                                (Other):5260  \n",
       "   Start_Time           End_Time         First_Reaction_Time  Mode_In_Time  \n",
       " Min.   :1.567e+12   Min.   :1.567e+12   Min.   :1.567e+12   Min.   :4.369  \n",
       " 1st Qu.:1.568e+12   1st Qu.:1.568e+12   1st Qu.:1.568e+12   1st Qu.:7.196  \n",
       " Median :1.568e+12   Median :1.568e+12   Median :1.568e+12   Median :7.573  \n",
       " Mean   :1.568e+12   Mean   :1.568e+12   Mean   :1.568e+12   Mean   :7.633  \n",
       " 3rd Qu.:1.568e+12   3rd Qu.:1.568e+12   3rd Qu.:1.568e+12   3rd Qu.:8.032  \n",
       " Max.   :1.568e+12   Max.   :1.568e+12   Max.   :1.568e+12   Max.   :9.051  \n",
       "                                                                            \n",
       " Mode_Out_Time  Execution_Time  Completion_Time Reference_Action_Count\n",
       " Min.   :   0   Min.   :  933   Min.   :3.807   Min.   : 0.00         \n",
       " 1st Qu.: 196   1st Qu.: 2265   1st Qu.:7.018   1st Qu.: 0.00         \n",
       " Median :1218   Median : 3101   Median :7.177   Median :15.00         \n",
       " Mean   :1061   Mean   : 3426   Mean   :7.213   Mean   :12.48         \n",
       " 3rd Qu.:1500   3rd Qu.: 4365   3rd Qu.:7.421   3rd Qu.:24.00         \n",
       " Max.   :3621   Max.   :10365   Max.   :8.081   Max.   :38.00         \n",
       "                                                                      \n",
       " Incorrect_Action_Count   Error         IV_Surface    IV_Orientation\n",
       " Min.   : 0.00          False:5965   Below   :1069   0       :1112  \n",
       " 1st Qu.: 0.00                       Beside  :1107   180     :1008  \n",
       " Median : 0.00                       On      :1069   90      :1125  \n",
       " Mean   : 2.21                       shortcut:2720   shortcut:2720  \n",
       " 3rd Qu.: 4.00                                                      \n",
       " Max.   :16.00                                                      \n",
       "                                                                    \n",
       "     IV_Form             IV_Hand     Previous_Reference_Task\n",
       " Close   :1611   Dominant    :1625   click:2963             \n",
       " Open    :1634   Non Dominant:1620   word :3002             \n",
       " shortcut:2720   shortcut    :2720                          \n",
       "                                                            \n",
       "                                                            \n",
       "                                                            \n",
       "                                                            \n",
       " Next_Reference_Task\n",
       " click:2966         \n",
       " word :2981         \n",
       " NA's :  18         \n",
       "                    \n",
       "                    \n",
       "                    \n",
       "                    "
      ]
     },
     "metadata": {},
     "output_type": "display_data"
    }
   ],
   "source": [
    "data_current.valid = data_current\n",
    "# data_current.valid$Participant = as.factor(data_current.valid$Participant)\n",
    "# data_current.valid$Completion_Time = as.factor(data_current.valid$Completion_Time)\n",
    "data_current.valid$Completion_Time = as.numeric(data_current.valid$Completion_Time)\n",
    "# data_current.valid$Mode_In_Time = as.factor(data_current.valid$Mode_In_Time)\n",
    "# data_current.valid$Mode_Out_Time = as.factor(data_current.valid$Mode_Out_Time)\n",
    "# data_current.valid$Block = as.factor(data_current.valid$Block)\n",
    "summary(data_current.valid)\n"
   ]
  },
  {
   "cell_type": "code",
   "execution_count": 287,
   "metadata": {},
   "outputs": [],
   "source": [
    "# log(data_clean.valid$Execution_Time)"
   ]
  },
  {
   "cell_type": "code",
   "execution_count": 362,
   "metadata": {},
   "outputs": [
    {
     "name": "stderr",
     "output_type": "stream",
     "text": [
      "Warning message:\n",
      "“Collapsing data to cell means. *IF* the requested effects are a subset of the full design, you must use the \"within_full\" argument, else results may be inaccurate.”"
     ]
    },
    {
     "data": {
      "text/html": [
       "<strong>$ANOVA</strong> = <table>\n",
       "<thead><tr><th scope=col>Effect</th><th scope=col>DFn</th><th scope=col>DFd</th><th scope=col>SSn</th><th scope=col>SSd</th><th scope=col>F</th><th scope=col>p</th><th scope=col>p&lt;.05</th><th scope=col>ges</th></tr></thead>\n",
       "<tbody>\n",
       "\t<tr><td>Target_Type </td><td>1           </td><td>19          </td><td>2851936     </td><td>128776.4    </td><td>420.7821    </td><td>2.008699e-14</td><td>*           </td><td>0.9567968   </td></tr>\n",
       "</tbody>\n",
       "</table>\n"
      ],
      "text/latex": [
       "\\textbf{\\$ANOVA} = \\begin{tabular}{r|lllllllll}\n",
       " Effect & DFn & DFd & SSn & SSd & F & p & p<.05 & ges\\\\\n",
       "\\hline\n",
       "\t Target\\_Type & 1             & 19            & 2851936       & 128776.4      & 420.7821      & 2.008699e-14  & *             & 0.9567968    \\\\\n",
       "\\end{tabular}\n"
      ],
      "text/markdown": [
       "**$ANOVA** = \n",
       "| Effect | DFn | DFd | SSn | SSd | F | p | p<.05 | ges |\n",
       "|---|---|---|---|---|---|---|---|---|\n",
       "| Target_Type  | 1            | 19           | 2851936      | 128776.4     | 420.7821     | 2.008699e-14 | *            | 0.9567968    |\n",
       "\n"
      ],
      "text/plain": [
       "$ANOVA\n",
       "       Effect DFn DFd     SSn      SSd        F            p p<.05       ges\n",
       "1 Target_Type   1  19 2851936 128776.4 420.7821 2.008699e-14     * 0.9567968\n"
      ]
     },
     "metadata": {},
     "output_type": "display_data"
    }
   ],
   "source": [
    "ezANOVA(data_current.valid, dv = Mode_Out_Time, wid = Participant, within = Target_Type, detailed = TRUE, type =1)\n"
   ]
  },
  {
   "cell_type": "code",
   "execution_count": 365,
   "metadata": {},
   "outputs": [
    {
     "data": {
      "text/plain": [
       "\n",
       "\tPairwise comparisons using t tests with pooled SD \n",
       "\n",
       "data:  data_current.valid$Completion_Time and data_current.valid$Block \n",
       "\n",
       "  0       1       2       3      \n",
       "1 1.7e-13 -       -       -      \n",
       "2 < 2e-16 0.30868 -       -      \n",
       "3 < 2e-16 0.04527 1.00000 -      \n",
       "4 < 2e-16 0.00052 0.59635 1.00000\n",
       "\n",
       "P value adjustment method: bonferroni "
      ]
     },
     "metadata": {},
     "output_type": "display_data"
    }
   ],
   "source": [
    "pairwise.t.test(data_current.valid$Completion_Time, data_current.valid$Block, p.adjust.method = \"bonferroni\")\n"
   ]
  },
  {
   "cell_type": "code",
   "execution_count": null,
   "metadata": {},
   "outputs": [],
   "source": []
  },
  {
   "cell_type": "code",
   "execution_count": null,
   "metadata": {},
   "outputs": [],
   "source": []
  },
  {
   "cell_type": "code",
   "execution_count": 31,
   "metadata": {},
   "outputs": [
    {
     "name": "stderr",
     "output_type": "stream",
     "text": [
      "Warning message:\n",
      "“Collapsing data to cell means. *IF* the requested effects are a subset of the full design, you must use the \"within_full\" argument, else results may be inaccurate.”"
     ]
    },
    {
     "data": {
      "text/html": [
       "<strong>$ANOVA</strong> = <table>\n",
       "<thead><tr><th scope=col>Effect</th><th scope=col>DFn</th><th scope=col>DFd</th><th scope=col>SSn</th><th scope=col>SSd</th><th scope=col>F</th><th scope=col>p</th><th scope=col>p&lt;.05</th><th scope=col>ges</th></tr></thead>\n",
       "<tbody>\n",
       "\t<tr><td>form      </td><td>1         </td><td>29        </td><td>0.7782407 </td><td>4.507253  </td><td>5.007259  </td><td>0.03308875</td><td>*         </td><td>0.1472409 </td></tr>\n",
       "</tbody>\n",
       "</table>\n"
      ],
      "text/latex": [
       "\\textbf{\\$ANOVA} = \\begin{tabular}{r|lllllllll}\n",
       " Effect & DFn & DFd & SSn & SSd & F & p & p<.05 & ges\\\\\n",
       "\\hline\n",
       "\t form       & 1          & 29         & 0.7782407  & 4.507253   & 5.007259   & 0.03308875 & *          & 0.1472409 \\\\\n",
       "\\end{tabular}\n"
      ],
      "text/markdown": [
       "**$ANOVA** = \n",
       "| Effect | DFn | DFd | SSn | SSd | F | p | p<.05 | ges |\n",
       "|---|---|---|---|---|---|---|---|---|\n",
       "| form       | 1          | 29         | 0.7782407  | 4.507253   | 5.007259   | 0.03308875 | *          | 0.1472409  |\n",
       "\n"
      ],
      "text/plain": [
       "$ANOVA\n",
       "  Effect DFn DFd       SSn      SSd        F          p p<.05       ges\n",
       "1   form   1  29 0.7782407 4.507253 5.007259 0.03308875     * 0.1472409\n"
      ]
     },
     "metadata": {},
     "output_type": "display_data"
    }
   ],
   "source": [
    "ezANOVA(data_comfort.valid,dv = score,wid = ParticipantID,within = form, detailed = TRUE, type =1)"
   ]
  },
  {
   "cell_type": "code",
   "execution_count": 32,
   "metadata": {},
   "outputs": [
    {
     "ename": "ERROR",
     "evalue": "Error in ezANOVA(data.valid, dv = score, wid = ParticipantID, within = surface, : object 'data.valid' not found\n",
     "output_type": "error",
     "traceback": [
      "Error in ezANOVA(data.valid, dv = score, wid = ParticipantID, within = surface, : object 'data.valid' not found\nTraceback:\n",
      "1. ezANOVA(data.valid, dv = score, wid = ParticipantID, within = surface, \n .     type = 1)"
     ]
    }
   ],
   "source": [
    "ezANOVA(data.valid,dv = score,wid = ParticipantID,within = surface, type=1)"
   ]
  },
  {
   "cell_type": "code",
   "execution_count": 33,
   "metadata": {},
   "outputs": [
    {
     "ename": "ERROR",
     "evalue": "Error in factor(g): object 'data.valid' not found\n",
     "output_type": "error",
     "traceback": [
      "Error in factor(g): object 'data.valid' not found\nTraceback:\n",
      "1. pairwise.t.test(data_comfort.valid$score, data.valid$dexterity, \n .     paired = T, p.adjust.method = \"bonferroni\")",
      "2. factor(g)"
     ]
    }
   ],
   "source": [
    "pairwise.t.test(data_comfort.valid$score, data.valid$dexterity, paired = T, p.adjust.method = \"bonferroni\")"
   ]
  },
  {
   "cell_type": "code",
   "execution_count": null,
   "metadata": {},
   "outputs": [],
   "source": []
  },
  {
   "cell_type": "code",
   "execution_count": null,
   "metadata": {},
   "outputs": [],
   "source": []
  },
  {
   "cell_type": "code",
   "execution_count": null,
   "metadata": {},
   "outputs": [],
   "source": []
  },
  {
   "cell_type": "code",
   "execution_count": null,
   "metadata": {},
   "outputs": [],
   "source": []
  }
 ],
 "metadata": {
  "kernelspec": {
   "display_name": "R",
   "language": "R",
   "name": "ir"
  },
  "language_info": {
   "codemirror_mode": "r",
   "file_extension": ".r",
   "mimetype": "text/x-r-source",
   "name": "R",
   "pygments_lexer": "r",
   "version": "3.6.1"
  }
 },
 "nbformat": 4,
 "nbformat_minor": 2
}
