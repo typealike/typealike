{
  "nbformat": 4,
  "nbformat_minor": 0,
  "metadata": {
    "kernelspec": {
      "display_name": "R",
      "language": "R",
      "name": "ir"
    },
    "language_info": {
      "codemirror_mode": "r",
      "file_extension": ".r",
      "mimetype": "text/x-r-source",
      "name": "R",
      "pygments_lexer": "r",
      "version": "3.6.1"
    },
    "colab": {
      "name": "analysis-2.ipynb",
      "provenance": []
    }
  },
  "cells": [
    {
      "cell_type": "code",
      "metadata": {
        "id": "gNelnohtWPjj",
        "outputId": "977758cf-cf89-45ed-c39c-839ff7e7bce6",
        "colab": {
          "base_uri": "https://localhost:8080/"
        }
      },
      "source": [
        "# install.packages(\"googledrive\")\n",
        "install.packages(\"ez\")\n",
        "install.packages(\"reprex\")\n",
        "install.packages(\"ggpubr\")\n",
        "install.packages(\"matrixStats\")\n",
        "install.packages(\"coin\")\n",
        "install.packages(\"nortest\")"
      ],
      "execution_count": 80,
      "outputs": [
        {
          "output_type": "stream",
          "text": [
            "Installing package into ‘/usr/local/lib/R/site-library’\n",
            "(as ‘lib’ is unspecified)\n",
            "\n",
            "Installing package into ‘/usr/local/lib/R/site-library’\n",
            "(as ‘lib’ is unspecified)\n",
            "\n",
            "Installing package into ‘/usr/local/lib/R/site-library’\n",
            "(as ‘lib’ is unspecified)\n",
            "\n",
            "Installing package into ‘/usr/local/lib/R/site-library’\n",
            "(as ‘lib’ is unspecified)\n",
            "\n",
            "Installing package into ‘/usr/local/lib/R/site-library’\n",
            "(as ‘lib’ is unspecified)\n",
            "\n",
            "Installing package into ‘/usr/local/lib/R/site-library’\n",
            "(as ‘lib’ is unspecified)\n",
            "\n"
          ],
          "name": "stderr"
        }
      ]
    },
    {
      "cell_type": "code",
      "metadata": {
        "id": "_3sAFs_WZcz5"
      },
      "source": [
        "# library(afex)\n",
        "# library(\"googledrive\")\n",
        "library(\"ez\")\n",
        "library(ggpubr) \n",
        "library(dplyr)   \n",
        "library(coin)\n",
        "library(dplyr)\n",
        "library(rlang)\n",
        "library(nortest)"
      ],
      "execution_count": 81,
      "outputs": []
    },
    {
      "cell_type": "code",
      "metadata": {
        "id": "1MFV7irhWPjy",
        "outputId": "4ad78e6b-0dbe-4b5f-ffec-5f1b5eb3ad5a",
        "colab": {
          "base_uri": "https://localhost:8080/",
          "height": 320
        }
      },
      "source": [
        "# data_1_5 <- read.csv(\"df_error_free_filtered_outliers_1_5.csv\")\n",
        "data_1_5 <- read.csv(sprintf(\"https://docs.google.com/uc?id=%s&export=download\", \"1U8UOepS91LaEQoOVa2Pm8197OghRmwE4\"))\n",
        "# data_2_5 <- read.csv(\"df_error_free_filtered_outliers_2_5.csv\")\n",
        "data_2_5 <- read.csv(sprintf(\"https://docs.google.com/uc?id=%s&export=download\", \"1itwRekqxM6WJWJI_idEeyGFIEXT73U0G\"))\n",
        "# data_comfort <- filter(data, rating == \"Comfort\")\n",
        "# data_preference <- filter(data, rating == \"Preference\")\n",
        "data_current <- data_2_5\n",
        "current_factor_value <- \"Below\"\n",
        "# filter(data_surface, Error == \"True\")\n",
        "# head(data_current)\n",
        "tail(data_current)\n",
        "# nrow(data_current)\n",
        "nrow(data_current)\n",
        "# data_current$Completion_Time"
      ],
      "execution_count": 82,
      "outputs": [
        {
          "output_type": "display_data",
          "data": {
            "text/plain": [
              "     X     Participant    Block Sequence Sub_Sequence Trial Target_Type\n",
              "4793 14387 participant_36 4     9        29           707   shortcut   \n",
              "4794 14391 participant_36 4     9        31           711   shortcut   \n",
              "4795 14393 participant_36 4     9        32           713   shortcut   \n",
              "4796 14395 participant_36 4     9        33           715   shortcut   \n",
              "4797 14397 participant_36 4     9        34           717   shortcut   \n",
              "4798 14399 participant_36 4     9        35           719   shortcut   \n",
              "     Target_Name Start_Time   End_Time     ⋯ Completion_Time\n",
              "4793 H           1.567546e+12 1.567546e+12 ⋯ 1133           \n",
              "4794 up          1.567546e+12 1.567546e+12 ⋯ 2038           \n",
              "4795 M           1.567546e+12 1.567546e+12 ⋯ 1367           \n",
              "4796 E           1.567546e+12 1.567546e+12 ⋯ 2066           \n",
              "4797 up          1.567546e+12 1.567546e+12 ⋯ 1164           \n",
              "4798 E           1.567546e+12 1.567546e+12 ⋯ 1436           \n",
              "     Reference_Action_Count Incorrect_Action_Count Error IV_Surface\n",
              "4793 0                      0                      False shortcut  \n",
              "4794 0                      0                      False shortcut  \n",
              "4795 0                      0                      False shortcut  \n",
              "4796 0                      0                      False shortcut  \n",
              "4797 0                      0                      False shortcut  \n",
              "4798 0                      0                      False shortcut  \n",
              "     IV_Orientation IV_Form  IV_Hand  Previous_Reference_Task\n",
              "4793 shortcut       shortcut shortcut word                   \n",
              "4794 shortcut       shortcut shortcut word                   \n",
              "4795 shortcut       shortcut shortcut word                   \n",
              "4796 shortcut       shortcut shortcut click                  \n",
              "4797 shortcut       shortcut shortcut word                   \n",
              "4798 shortcut       shortcut shortcut click                  \n",
              "     Next_Reference_Task\n",
              "4793 click              \n",
              "4794 word               \n",
              "4795 click              \n",
              "4796 word               \n",
              "4797 click              \n",
              "4798 NA                 "
            ],
            "text/latex": "A data.frame: 6 × 24\n\\begin{tabular}{r|lllllllllllllllllllll}\n  & X & Participant & Block & Sequence & Sub\\_Sequence & Trial & Target\\_Type & Target\\_Name & Start\\_Time & End\\_Time & ⋯ & Completion\\_Time & Reference\\_Action\\_Count & Incorrect\\_Action\\_Count & Error & IV\\_Surface & IV\\_Orientation & IV\\_Form & IV\\_Hand & Previous\\_Reference\\_Task & Next\\_Reference\\_Task\\\\\n  & <int> & <chr> & <int> & <int> & <int> & <int> & <chr> & <chr> & <dbl> & <dbl> & ⋯ & <int> & <int> & <int> & <chr> & <chr> & <chr> & <chr> & <chr> & <chr> & <chr>\\\\\n\\hline\n\t4793 & 14387 & participant\\_36 & 4 & 9 & 29 & 707 & shortcut & H  & 1.567546e+12 & 1.567546e+12 & ⋯ & 1133 & 0 & 0 & False & shortcut & shortcut & shortcut & shortcut & word  & click\\\\\n\t4794 & 14391 & participant\\_36 & 4 & 9 & 31 & 711 & shortcut & up & 1.567546e+12 & 1.567546e+12 & ⋯ & 2038 & 0 & 0 & False & shortcut & shortcut & shortcut & shortcut & word  & word \\\\\n\t4795 & 14393 & participant\\_36 & 4 & 9 & 32 & 713 & shortcut & M  & 1.567546e+12 & 1.567546e+12 & ⋯ & 1367 & 0 & 0 & False & shortcut & shortcut & shortcut & shortcut & word  & click\\\\\n\t4796 & 14395 & participant\\_36 & 4 & 9 & 33 & 715 & shortcut & E  & 1.567546e+12 & 1.567546e+12 & ⋯ & 2066 & 0 & 0 & False & shortcut & shortcut & shortcut & shortcut & click & word \\\\\n\t4797 & 14397 & participant\\_36 & 4 & 9 & 34 & 717 & shortcut & up & 1.567546e+12 & 1.567546e+12 & ⋯ & 1164 & 0 & 0 & False & shortcut & shortcut & shortcut & shortcut & word  & click\\\\\n\t4798 & 14399 & participant\\_36 & 4 & 9 & 35 & 719 & shortcut & E  & 1.567546e+12 & 1.567546e+12 & ⋯ & 1436 & 0 & 0 & False & shortcut & shortcut & shortcut & shortcut & click & NA   \\\\\n\\end{tabular}\n",
            "text/markdown": "\nA data.frame: 6 × 24\n\n| <!--/--> | X &lt;int&gt; | Participant &lt;chr&gt; | Block &lt;int&gt; | Sequence &lt;int&gt; | Sub_Sequence &lt;int&gt; | Trial &lt;int&gt; | Target_Type &lt;chr&gt; | Target_Name &lt;chr&gt; | Start_Time &lt;dbl&gt; | End_Time &lt;dbl&gt; | ⋯ ⋯ | Completion_Time &lt;int&gt; | Reference_Action_Count &lt;int&gt; | Incorrect_Action_Count &lt;int&gt; | Error &lt;chr&gt; | IV_Surface &lt;chr&gt; | IV_Orientation &lt;chr&gt; | IV_Form &lt;chr&gt; | IV_Hand &lt;chr&gt; | Previous_Reference_Task &lt;chr&gt; | Next_Reference_Task &lt;chr&gt; |\n|---|---|---|---|---|---|---|---|---|---|---|---|---|---|---|---|---|---|---|---|---|---|\n| 4793 | 14387 | participant_36 | 4 | 9 | 29 | 707 | shortcut | H  | 1.567546e+12 | 1.567546e+12 | ⋯ | 1133 | 0 | 0 | False | shortcut | shortcut | shortcut | shortcut | word  | click |\n| 4794 | 14391 | participant_36 | 4 | 9 | 31 | 711 | shortcut | up | 1.567546e+12 | 1.567546e+12 | ⋯ | 2038 | 0 | 0 | False | shortcut | shortcut | shortcut | shortcut | word  | word  |\n| 4795 | 14393 | participant_36 | 4 | 9 | 32 | 713 | shortcut | M  | 1.567546e+12 | 1.567546e+12 | ⋯ | 1367 | 0 | 0 | False | shortcut | shortcut | shortcut | shortcut | word  | click |\n| 4796 | 14395 | participant_36 | 4 | 9 | 33 | 715 | shortcut | E  | 1.567546e+12 | 1.567546e+12 | ⋯ | 2066 | 0 | 0 | False | shortcut | shortcut | shortcut | shortcut | click | word  |\n| 4797 | 14397 | participant_36 | 4 | 9 | 34 | 717 | shortcut | up | 1.567546e+12 | 1.567546e+12 | ⋯ | 1164 | 0 | 0 | False | shortcut | shortcut | shortcut | shortcut | word  | click |\n| 4798 | 14399 | participant_36 | 4 | 9 | 35 | 719 | shortcut | E  | 1.567546e+12 | 1.567546e+12 | ⋯ | 1436 | 0 | 0 | False | shortcut | shortcut | shortcut | shortcut | click | NA    |\n\n",
            "text/html": [
              "<table class=\"dataframe\">\n",
              "<caption>A data.frame: 6 × 24</caption>\n",
              "<thead>\n",
              "\t<tr><th></th><th scope=col>X</th><th scope=col>Participant</th><th scope=col>Block</th><th scope=col>Sequence</th><th scope=col>Sub_Sequence</th><th scope=col>Trial</th><th scope=col>Target_Type</th><th scope=col>Target_Name</th><th scope=col>Start_Time</th><th scope=col>End_Time</th><th scope=col>⋯</th><th scope=col>Completion_Time</th><th scope=col>Reference_Action_Count</th><th scope=col>Incorrect_Action_Count</th><th scope=col>Error</th><th scope=col>IV_Surface</th><th scope=col>IV_Orientation</th><th scope=col>IV_Form</th><th scope=col>IV_Hand</th><th scope=col>Previous_Reference_Task</th><th scope=col>Next_Reference_Task</th></tr>\n",
              "\t<tr><th></th><th scope=col>&lt;int&gt;</th><th scope=col>&lt;chr&gt;</th><th scope=col>&lt;int&gt;</th><th scope=col>&lt;int&gt;</th><th scope=col>&lt;int&gt;</th><th scope=col>&lt;int&gt;</th><th scope=col>&lt;chr&gt;</th><th scope=col>&lt;chr&gt;</th><th scope=col>&lt;dbl&gt;</th><th scope=col>&lt;dbl&gt;</th><th scope=col>⋯</th><th scope=col>&lt;int&gt;</th><th scope=col>&lt;int&gt;</th><th scope=col>&lt;int&gt;</th><th scope=col>&lt;chr&gt;</th><th scope=col>&lt;chr&gt;</th><th scope=col>&lt;chr&gt;</th><th scope=col>&lt;chr&gt;</th><th scope=col>&lt;chr&gt;</th><th scope=col>&lt;chr&gt;</th><th scope=col>&lt;chr&gt;</th></tr>\n",
              "</thead>\n",
              "<tbody>\n",
              "\t<tr><th scope=row>4793</th><td>14387</td><td>participant_36</td><td>4</td><td>9</td><td>29</td><td>707</td><td>shortcut</td><td>H </td><td>1.567546e+12</td><td>1.567546e+12</td><td>⋯</td><td>1133</td><td>0</td><td>0</td><td>False</td><td>shortcut</td><td>shortcut</td><td>shortcut</td><td>shortcut</td><td>word </td><td>click</td></tr>\n",
              "\t<tr><th scope=row>4794</th><td>14391</td><td>participant_36</td><td>4</td><td>9</td><td>31</td><td>711</td><td>shortcut</td><td>up</td><td>1.567546e+12</td><td>1.567546e+12</td><td>⋯</td><td>2038</td><td>0</td><td>0</td><td>False</td><td>shortcut</td><td>shortcut</td><td>shortcut</td><td>shortcut</td><td>word </td><td>word </td></tr>\n",
              "\t<tr><th scope=row>4795</th><td>14393</td><td>participant_36</td><td>4</td><td>9</td><td>32</td><td>713</td><td>shortcut</td><td>M </td><td>1.567546e+12</td><td>1.567546e+12</td><td>⋯</td><td>1367</td><td>0</td><td>0</td><td>False</td><td>shortcut</td><td>shortcut</td><td>shortcut</td><td>shortcut</td><td>word </td><td>click</td></tr>\n",
              "\t<tr><th scope=row>4796</th><td>14395</td><td>participant_36</td><td>4</td><td>9</td><td>33</td><td>715</td><td>shortcut</td><td>E </td><td>1.567546e+12</td><td>1.567546e+12</td><td>⋯</td><td>2066</td><td>0</td><td>0</td><td>False</td><td>shortcut</td><td>shortcut</td><td>shortcut</td><td>shortcut</td><td>click</td><td>word </td></tr>\n",
              "\t<tr><th scope=row>4797</th><td>14397</td><td>participant_36</td><td>4</td><td>9</td><td>34</td><td>717</td><td>shortcut</td><td>up</td><td>1.567546e+12</td><td>1.567546e+12</td><td>⋯</td><td>1164</td><td>0</td><td>0</td><td>False</td><td>shortcut</td><td>shortcut</td><td>shortcut</td><td>shortcut</td><td>word </td><td>click</td></tr>\n",
              "\t<tr><th scope=row>4798</th><td>14399</td><td>participant_36</td><td>4</td><td>9</td><td>35</td><td>719</td><td>shortcut</td><td>E </td><td>1.567546e+12</td><td>1.567546e+12</td><td>⋯</td><td>1436</td><td>0</td><td>0</td><td>False</td><td>shortcut</td><td>shortcut</td><td>shortcut</td><td>shortcut</td><td>click</td><td>NA   </td></tr>\n",
              "</tbody>\n",
              "</table>\n"
            ]
          },
          "metadata": {
            "tags": []
          }
        },
        {
          "output_type": "display_data",
          "data": {
            "text/plain": [
              "[1] 4798"
            ],
            "text/latex": "4798",
            "text/markdown": "4798",
            "text/html": [
              "4798"
            ]
          },
          "metadata": {
            "tags": []
          }
        }
      ]
    },
    {
      "cell_type": "code",
      "metadata": {
        "id": "ID-h18YvWPjz",
        "outputId": "544a2088-53f7-4a5e-a604-685fa12997c7",
        "colab": {
          "base_uri": "https://localhost:8080/",
          "height": 320
        }
      },
      "source": [
        "# data <- read.csv(\"df_all.csv\")\n",
        "data <- read.csv(sprintf(\"https://docs.google.com/uc?id=%s&export=download\", \"1QMiiqM9nbKMrA4Kwk6AgZR3HvNX5GOaT\"))\n",
        "# data_block <- read.csv(\"data_block.csv\")\n",
        "data_block <- read.csv(sprintf(\"https://docs.google.com/uc?id=%s&export=download\", \"14aPEKEwGfBGJK-Cl7npWEZ5043rs3hGM\"))\n",
        "# data_surface <- read.csv(\"data_surface.csv\")\n",
        "data_surface <- read.csv(sprintf(\"https://docs.google.com/uc?id=%s&export=download\", \"18XxDvyK99DGtUptYAT9U5buZuOpFcg7L\"))\n",
        "# data_orientation <- read.csv(\"data_orientation.csv\")\n",
        "data_orientation <- read.csv(sprintf(\"https://docs.google.com/uc?id=%s&export=download\", \"1Bw7qqjB_8Sr4vNwy0g6mYMgOWz45q_VK\"))\n",
        "# data_hand <- read.csv(\"data_hand.csv\")\n",
        "data_hand <- read.csv(sprintf(\"https://docs.google.com/uc?id=%s&export=download\", \"1JT-NNixiv0hUpBKibnCPswYQ3uh_GdfM\"))\n",
        "# data_form <- read.csv(\"data_form.csv\")\n",
        "data_form <- read.csv(sprintf(\"https://docs.google.com/uc?id=%s&export=download\", \"1bntdEucabt69-Ydi5p1_l7uwFNupVMVO\"))\n",
        "# data_comfort <- filter(data, rating == \"Comfort\")\n",
        "# data_preference <- filter(data, rating == \"Preference\")\n",
        "# data_current <- data_surface\n",
        "current_factor_value <- \"Below\"\n",
        "# filter(data_surface, Error == \"True\")\n",
        "# head(data_current)\n",
        "tail(data_current)\n",
        "# nrow(data_current)\n",
        "nrow(data_current)"
      ],
      "execution_count": 83,
      "outputs": [
        {
          "output_type": "display_data",
          "data": {
            "text/plain": [
              "     X     Participant    Block Sequence Sub_Sequence Trial Target_Type\n",
              "4793 14387 participant_36 4     9        29           707   shortcut   \n",
              "4794 14391 participant_36 4     9        31           711   shortcut   \n",
              "4795 14393 participant_36 4     9        32           713   shortcut   \n",
              "4796 14395 participant_36 4     9        33           715   shortcut   \n",
              "4797 14397 participant_36 4     9        34           717   shortcut   \n",
              "4798 14399 participant_36 4     9        35           719   shortcut   \n",
              "     Target_Name Start_Time   End_Time     ⋯ Completion_Time\n",
              "4793 H           1.567546e+12 1.567546e+12 ⋯ 1133           \n",
              "4794 up          1.567546e+12 1.567546e+12 ⋯ 2038           \n",
              "4795 M           1.567546e+12 1.567546e+12 ⋯ 1367           \n",
              "4796 E           1.567546e+12 1.567546e+12 ⋯ 2066           \n",
              "4797 up          1.567546e+12 1.567546e+12 ⋯ 1164           \n",
              "4798 E           1.567546e+12 1.567546e+12 ⋯ 1436           \n",
              "     Reference_Action_Count Incorrect_Action_Count Error IV_Surface\n",
              "4793 0                      0                      False shortcut  \n",
              "4794 0                      0                      False shortcut  \n",
              "4795 0                      0                      False shortcut  \n",
              "4796 0                      0                      False shortcut  \n",
              "4797 0                      0                      False shortcut  \n",
              "4798 0                      0                      False shortcut  \n",
              "     IV_Orientation IV_Form  IV_Hand  Previous_Reference_Task\n",
              "4793 shortcut       shortcut shortcut word                   \n",
              "4794 shortcut       shortcut shortcut word                   \n",
              "4795 shortcut       shortcut shortcut word                   \n",
              "4796 shortcut       shortcut shortcut click                  \n",
              "4797 shortcut       shortcut shortcut word                   \n",
              "4798 shortcut       shortcut shortcut click                  \n",
              "     Next_Reference_Task\n",
              "4793 click              \n",
              "4794 word               \n",
              "4795 click              \n",
              "4796 word               \n",
              "4797 click              \n",
              "4798 NA                 "
            ],
            "text/latex": "A data.frame: 6 × 24\n\\begin{tabular}{r|lllllllllllllllllllll}\n  & X & Participant & Block & Sequence & Sub\\_Sequence & Trial & Target\\_Type & Target\\_Name & Start\\_Time & End\\_Time & ⋯ & Completion\\_Time & Reference\\_Action\\_Count & Incorrect\\_Action\\_Count & Error & IV\\_Surface & IV\\_Orientation & IV\\_Form & IV\\_Hand & Previous\\_Reference\\_Task & Next\\_Reference\\_Task\\\\\n  & <int> & <chr> & <int> & <int> & <int> & <int> & <chr> & <chr> & <dbl> & <dbl> & ⋯ & <int> & <int> & <int> & <chr> & <chr> & <chr> & <chr> & <chr> & <chr> & <chr>\\\\\n\\hline\n\t4793 & 14387 & participant\\_36 & 4 & 9 & 29 & 707 & shortcut & H  & 1.567546e+12 & 1.567546e+12 & ⋯ & 1133 & 0 & 0 & False & shortcut & shortcut & shortcut & shortcut & word  & click\\\\\n\t4794 & 14391 & participant\\_36 & 4 & 9 & 31 & 711 & shortcut & up & 1.567546e+12 & 1.567546e+12 & ⋯ & 2038 & 0 & 0 & False & shortcut & shortcut & shortcut & shortcut & word  & word \\\\\n\t4795 & 14393 & participant\\_36 & 4 & 9 & 32 & 713 & shortcut & M  & 1.567546e+12 & 1.567546e+12 & ⋯ & 1367 & 0 & 0 & False & shortcut & shortcut & shortcut & shortcut & word  & click\\\\\n\t4796 & 14395 & participant\\_36 & 4 & 9 & 33 & 715 & shortcut & E  & 1.567546e+12 & 1.567546e+12 & ⋯ & 2066 & 0 & 0 & False & shortcut & shortcut & shortcut & shortcut & click & word \\\\\n\t4797 & 14397 & participant\\_36 & 4 & 9 & 34 & 717 & shortcut & up & 1.567546e+12 & 1.567546e+12 & ⋯ & 1164 & 0 & 0 & False & shortcut & shortcut & shortcut & shortcut & word  & click\\\\\n\t4798 & 14399 & participant\\_36 & 4 & 9 & 35 & 719 & shortcut & E  & 1.567546e+12 & 1.567546e+12 & ⋯ & 1436 & 0 & 0 & False & shortcut & shortcut & shortcut & shortcut & click & NA   \\\\\n\\end{tabular}\n",
            "text/markdown": "\nA data.frame: 6 × 24\n\n| <!--/--> | X &lt;int&gt; | Participant &lt;chr&gt; | Block &lt;int&gt; | Sequence &lt;int&gt; | Sub_Sequence &lt;int&gt; | Trial &lt;int&gt; | Target_Type &lt;chr&gt; | Target_Name &lt;chr&gt; | Start_Time &lt;dbl&gt; | End_Time &lt;dbl&gt; | ⋯ ⋯ | Completion_Time &lt;int&gt; | Reference_Action_Count &lt;int&gt; | Incorrect_Action_Count &lt;int&gt; | Error &lt;chr&gt; | IV_Surface &lt;chr&gt; | IV_Orientation &lt;chr&gt; | IV_Form &lt;chr&gt; | IV_Hand &lt;chr&gt; | Previous_Reference_Task &lt;chr&gt; | Next_Reference_Task &lt;chr&gt; |\n|---|---|---|---|---|---|---|---|---|---|---|---|---|---|---|---|---|---|---|---|---|---|\n| 4793 | 14387 | participant_36 | 4 | 9 | 29 | 707 | shortcut | H  | 1.567546e+12 | 1.567546e+12 | ⋯ | 1133 | 0 | 0 | False | shortcut | shortcut | shortcut | shortcut | word  | click |\n| 4794 | 14391 | participant_36 | 4 | 9 | 31 | 711 | shortcut | up | 1.567546e+12 | 1.567546e+12 | ⋯ | 2038 | 0 | 0 | False | shortcut | shortcut | shortcut | shortcut | word  | word  |\n| 4795 | 14393 | participant_36 | 4 | 9 | 32 | 713 | shortcut | M  | 1.567546e+12 | 1.567546e+12 | ⋯ | 1367 | 0 | 0 | False | shortcut | shortcut | shortcut | shortcut | word  | click |\n| 4796 | 14395 | participant_36 | 4 | 9 | 33 | 715 | shortcut | E  | 1.567546e+12 | 1.567546e+12 | ⋯ | 2066 | 0 | 0 | False | shortcut | shortcut | shortcut | shortcut | click | word  |\n| 4797 | 14397 | participant_36 | 4 | 9 | 34 | 717 | shortcut | up | 1.567546e+12 | 1.567546e+12 | ⋯ | 1164 | 0 | 0 | False | shortcut | shortcut | shortcut | shortcut | word  | click |\n| 4798 | 14399 | participant_36 | 4 | 9 | 35 | 719 | shortcut | E  | 1.567546e+12 | 1.567546e+12 | ⋯ | 1436 | 0 | 0 | False | shortcut | shortcut | shortcut | shortcut | click | NA    |\n\n",
            "text/html": [
              "<table class=\"dataframe\">\n",
              "<caption>A data.frame: 6 × 24</caption>\n",
              "<thead>\n",
              "\t<tr><th></th><th scope=col>X</th><th scope=col>Participant</th><th scope=col>Block</th><th scope=col>Sequence</th><th scope=col>Sub_Sequence</th><th scope=col>Trial</th><th scope=col>Target_Type</th><th scope=col>Target_Name</th><th scope=col>Start_Time</th><th scope=col>End_Time</th><th scope=col>⋯</th><th scope=col>Completion_Time</th><th scope=col>Reference_Action_Count</th><th scope=col>Incorrect_Action_Count</th><th scope=col>Error</th><th scope=col>IV_Surface</th><th scope=col>IV_Orientation</th><th scope=col>IV_Form</th><th scope=col>IV_Hand</th><th scope=col>Previous_Reference_Task</th><th scope=col>Next_Reference_Task</th></tr>\n",
              "\t<tr><th></th><th scope=col>&lt;int&gt;</th><th scope=col>&lt;chr&gt;</th><th scope=col>&lt;int&gt;</th><th scope=col>&lt;int&gt;</th><th scope=col>&lt;int&gt;</th><th scope=col>&lt;int&gt;</th><th scope=col>&lt;chr&gt;</th><th scope=col>&lt;chr&gt;</th><th scope=col>&lt;dbl&gt;</th><th scope=col>&lt;dbl&gt;</th><th scope=col>⋯</th><th scope=col>&lt;int&gt;</th><th scope=col>&lt;int&gt;</th><th scope=col>&lt;int&gt;</th><th scope=col>&lt;chr&gt;</th><th scope=col>&lt;chr&gt;</th><th scope=col>&lt;chr&gt;</th><th scope=col>&lt;chr&gt;</th><th scope=col>&lt;chr&gt;</th><th scope=col>&lt;chr&gt;</th><th scope=col>&lt;chr&gt;</th></tr>\n",
              "</thead>\n",
              "<tbody>\n",
              "\t<tr><th scope=row>4793</th><td>14387</td><td>participant_36</td><td>4</td><td>9</td><td>29</td><td>707</td><td>shortcut</td><td>H </td><td>1.567546e+12</td><td>1.567546e+12</td><td>⋯</td><td>1133</td><td>0</td><td>0</td><td>False</td><td>shortcut</td><td>shortcut</td><td>shortcut</td><td>shortcut</td><td>word </td><td>click</td></tr>\n",
              "\t<tr><th scope=row>4794</th><td>14391</td><td>participant_36</td><td>4</td><td>9</td><td>31</td><td>711</td><td>shortcut</td><td>up</td><td>1.567546e+12</td><td>1.567546e+12</td><td>⋯</td><td>2038</td><td>0</td><td>0</td><td>False</td><td>shortcut</td><td>shortcut</td><td>shortcut</td><td>shortcut</td><td>word </td><td>word </td></tr>\n",
              "\t<tr><th scope=row>4795</th><td>14393</td><td>participant_36</td><td>4</td><td>9</td><td>32</td><td>713</td><td>shortcut</td><td>M </td><td>1.567546e+12</td><td>1.567546e+12</td><td>⋯</td><td>1367</td><td>0</td><td>0</td><td>False</td><td>shortcut</td><td>shortcut</td><td>shortcut</td><td>shortcut</td><td>word </td><td>click</td></tr>\n",
              "\t<tr><th scope=row>4796</th><td>14395</td><td>participant_36</td><td>4</td><td>9</td><td>33</td><td>715</td><td>shortcut</td><td>E </td><td>1.567546e+12</td><td>1.567546e+12</td><td>⋯</td><td>2066</td><td>0</td><td>0</td><td>False</td><td>shortcut</td><td>shortcut</td><td>shortcut</td><td>shortcut</td><td>click</td><td>word </td></tr>\n",
              "\t<tr><th scope=row>4797</th><td>14397</td><td>participant_36</td><td>4</td><td>9</td><td>34</td><td>717</td><td>shortcut</td><td>up</td><td>1.567546e+12</td><td>1.567546e+12</td><td>⋯</td><td>1164</td><td>0</td><td>0</td><td>False</td><td>shortcut</td><td>shortcut</td><td>shortcut</td><td>shortcut</td><td>word </td><td>click</td></tr>\n",
              "\t<tr><th scope=row>4798</th><td>14399</td><td>participant_36</td><td>4</td><td>9</td><td>35</td><td>719</td><td>shortcut</td><td>E </td><td>1.567546e+12</td><td>1.567546e+12</td><td>⋯</td><td>1436</td><td>0</td><td>0</td><td>False</td><td>shortcut</td><td>shortcut</td><td>shortcut</td><td>shortcut</td><td>click</td><td>NA   </td></tr>\n",
              "</tbody>\n",
              "</table>\n"
            ]
          },
          "metadata": {
            "tags": []
          }
        },
        {
          "output_type": "display_data",
          "data": {
            "text/plain": [
              "[1] 4798"
            ],
            "text/latex": "4798",
            "text/markdown": "4798",
            "text/html": [
              "4798"
            ]
          },
          "metadata": {
            "tags": []
          }
        }
      ]
    },
    {
      "cell_type": "code",
      "metadata": {
        "id": "VUaD5WbHWPjz",
        "outputId": "a26ae3a0-6bff-4425-c3de-ea0ade4abf77",
        "colab": {
          "base_uri": "https://localhost:8080/",
          "height": 204
        }
      },
      "source": [
        "data_current$Completion_Time"
      ],
      "execution_count": 84,
      "outputs": [
        {
          "output_type": "display_data",
          "data": {
            "text/plain": [
              "   [1] 1378 2042 1275 1013 1012 1243 1414 1178 1615 1111 1218 1245 1327  977\n",
              "  [15] 1216 1275 1113 1277 1275 1077 1143 1011 1347 1178 1209 1176 1145 1008\n",
              "  [29] 1075 1876 1279 1648 1999 1700 1733 1834 1768 1901 1800 2301 1700 2133\n",
              "  [43] 1696 1937 2202 1769 2299 2002 1539 2336 1835 2100 1902 1499 2138 2333\n",
              "  [57] 2369 1700 2101 1736 1637 1868 1178 1483 1278 1082  979 1877 1213 1142\n",
              "  [71] 1284 1073 1310  913 1216 1113 1148 1112 1444 1744 2043 1085 1177 1079\n",
              "  [85] 1145 1074 1180 1111 1545 1179 1115 1046 1378 1046 1209 1347 1802 2035\n",
              "  [99] 1936 1468 2135 1437 1705 1867 2135 1967 1796 1602 1634 1767 1336 2037\n",
              " [113] 1604 1432 1666 2033 2033 1766 1634 2001 2071 2065 1965 1632 1177 1315\n",
              " [127] 1078 1113 1007 1949 1312 1145 1117  946 1176 1211  877 1209 2013 1247\n",
              " [141] 1044 1076  945 1277 1278 1149 1309 1216 1243 1244 1043 1076 1075 2047\n",
              " [155] 1448 1633 1871 1571 1663 1834 1568 1501 1838 1733 1667 1564 1830 2266\n",
              " [169] 1801 1535 1836 1969 1900 1636 1467 1433 1537 2202 2003 1767 1567 1733\n",
              " [183] 2104 1898 2034 1213 1411 1112 1141 1040 1608 1278 1149 1280  913 1146\n",
              " [197] 1179 1047 1242 1079 1143 1812 1314 1346 1145 1044 1050 1580 2107  944\n",
              " [211] 1310  981 1176 1577 1177 1784 2441 2098 2168 1730 2239 2198 2135 1702\n",
              " [225] 2368 2203 1935 1967 1936 1635 1804 2297 1804 1869 2335 2197 1465 2506\n",
              " [239] 1904 1635 1768 1664 1834 1536 2501 2203 1935 1446 1380 1876 1514 1879\n",
              " [253] 1407 1546 1246 1176 1143 1681 1244 1307  916 1079 1144 1441 1341 1411\n",
              " [267] 1248 1513 1307 2075 1346 1275 1076 1444 1312 1678 1144 2213  479 1176\n",
              " [281] 1217  442 1212 1933 2035 2299 1597 1704 2365 1769 1899 2133 1634 1469\n",
              " [295] 1400 1703 2004 1966 1898 1903 1538 1204 1767 2033 1738 1533 1237 2370\n",
              " [309] 2003 1300 2076 1210 1083 1111 1008 1012 1343  882 1241 1240 1309 1345\n",
              " [323] 1177  912 1174 1282 1410 1179 1744 1250 1813 1377 1914 1244 1375 1447\n",
              " [337] 1279 1414 1349  343 1044 1442 1608 1478 1697 1266 1933 1268 1205 2364\n",
              " [351] 2004 2067 1935 1367 2398 2136 1371 1768 2103 1367 2501 2501 1172 1568\n",
              " [365] 2200 1734 1436 2264 1368 1450 1111 1143 1246 1045 1313 1217 1011 1247\n",
              " [379] 1075 1211 1347 1214  577 1047 1109 1177 1143 1344 1280 1412 1310 1245\n",
              " [393] 1413 1411 1213 1246 1112 1110  445 1079 1275 1345 1570 2030 1997 2063\n",
              " [407] 1734 1830 1603 1336 1968 2067 1397 1802 1701 1597 1803 1733 1933 1600\n",
              " [421] 1702 1268 1466 1599 1870 1566 1500 1346 1046 1142 1112  841 1115 1214\n",
              " [435]  908 1311 1147 1181 1245 1119  477 1176 1113 1313 1345 1213  946 1113\n",
              " [449] 1180 2079 1276 1247  950 1181 1444 1377 1014  345 1075 1510 1510 2303\n",
              " [463] 1669 2436 1302 1637 1303 1166 2002 2067 1368 1401 1571 1234 1303 2232\n",
              " [477] 1634 2133 1398 2106 2236 1568 1904 1368 1331 2466 1610 2278 1545 1211\n",
              " [491] 1247 1044 1247 1848 1245 1246 1510 1243 1047 1208 1213 2248 1613 1113\n",
              " [505] 1110 1576 2111 1045 1976 1143 1145 1277 1115 1213 1411 1245 1298 1465\n",
              " [519] 1398 1365 1769 1736 1601 2163 1234 1567 1335 1133 1168 1497 1633 1234\n",
              " [533] 1167 1568 1568 1438 1797 1665 1369 1465 1370 1170 1304 1802 1203 1167\n",
              " [547] 1763 1047 1143 1143 1113 1244 1211 1141 1350 1249 1144 1308 1443  978\n",
              " [561] 1041 1079 1413 1242 1144 2009 1346 1879 1475 1177 1645 1411 1345 1177\n",
              " [575] 1176 1343 1632 1536 1638 1271 1901 1439 1269 1299 1203 1700 1501 2165\n",
              " [589] 1369 1068 1502 1401 1705 1666 1434 2069 1834 1472 1667 1864 1069 1534\n",
              " [603] 1334 1201 1102 1141 1217 1077 1176 1145 1211 1210 1111 1180 1210  980\n",
              " [617] 1111 1142 1278 1343 1080 1478 1544 1282 1043 1278 1348 1077 1176 1345\n",
              " [631] 1277 1335 1170 1067 1134 1432 1064  998 1000 1069 1169 1564 1565 1470\n",
              " [645] 1099 1698 1499 1567 1334 1102 1464  968 1566 1202 1200 1931 1498 1269\n",
              " [659] 1298  913 2043 1107 1213 1212 1143 1575 1313 1281 1442 1178 1008 1277\n",
              " [673] 1177 1477 1109 2013 1749 2079 2016 1317 1012 2081 1177 1210 1443 1241\n",
              " [687] 1277 1279 1138 1701 1003 1399 1202 1566 1368 1902 1202 1767 1935 1237\n",
              " [701] 1769 1135 1966 1267 1630 1268 1201 1634 1564 1203 1799 1336 1470 1630\n",
              " [715] 1271 1299 1135 1732 1409 1277 1177 1246 1013 1277 1276 1011 1078 1076\n",
              " [729] 1046  980 1146  911 1412 1045 1344 1613 1076 1342 1482 1007 1177 1217\n",
              " [743] 2544 1914 1078 1475 1276 1279 1314 1482 2001 1601 1463 2471 2671 2302\n",
              " [757] 2134 1399 2533 2035 1232 1962 1833 2267 2633 2167 2500 2169 1505 2700\n",
              " [771] 2368 1568 1212 1212  983 1212 1010 1143 1212 1077 1245  985  943 1249\n",
              " [785] 1045  876 1277  980 1441 1342 1546  313 1745 1075  913 1011 1308 1046\n",
              " [799] 1377 1343 1780 1315  343 1143 1380 2649 2665 2070 2033 1265 2800 2267\n",
              " [813] 1838 2537 1734 1802 2033 2699 1934 2638 2735 2365 1935 1800 2700 1937\n",
              " [827] 2635 2203 2066 2167 1311  979 1049 1177  880 1148 1146 1146 1112 1146\n",
              " [841] 1013 1112 1243  978 1078 2376 1343 1911 1209 1474 1177 1143  945 1046\n",
              " [855] 1247 1446 1512 1281 1211  376 1175 1279 1713 2467 1634 1932 1137 1465\n",
              " [869] 2137 1904 2034 2303 2133 1801 1201 2369 1967 1632 1904 1333 2501 1701\n",
              " [883] 2034 1835 2402 1535 1966 1444 1382 1176 1242 1014 1178 1212 1178 1181\n",
              " [897] 1742 1478 1310 1207  810 1209 1251 1182 1247 1611 1141 1678 1310 1078\n",
              " [911] 1015 1240 1711 1379 1479 1216  409 1115 1112 1708 1474 1765 2198 2332\n",
              " [925] 2136 2266 1696 1570 1736 2071 1704 1768 2501 2364 2537 2601 1335 2430\n",
              " [939] 2436 2032 2401 1801 2433 2600 1969 1308 1280 1610    0 1278 1045 1182\n",
              " [953] 1210 1349 1081 1210 1111 1310 1141 1079 1111 1374 1342 1408 1251 1275\n",
              " [967] 1148 1142 1180 1211 1478 1210 1413 1246 1175 1144 1247 1268 1503 1465\n",
              " [981] 1436 1330 1466 1034 1869 1268 1100 2033 1633 1834 1839 1837 1867 1066\n",
              " [995] 1199 1136 1336 1738 1868 1531 1236 1569 1201 1529 1164 1671 1134 1244\n",
              "[1009] 1178 1279 1081 1777 1144 1348 1011 1178 1050 1210 1145 1010  946 1045\n",
              "[1023] 1008 1245 1341 1280 1545 1014 1042 1011 1115 1247 1277 1409 1442 1407\n",
              "[1037] 1141 1182 1145 1902 1263 1634 1902 1836 1733 1832 1638 1934 1300 1263\n",
              "[1051] 1233 1866 1266 1335 1002 1536 1570 1634 1402 1634 1530 1233 1168 1198\n",
              "[1065] 1102 1764 1799  897 1863 1235 1249 1146 1340 1109 1075  913 1183 1177\n",
              "[1079] 1145 1010 1046 1149 1007 1045 1011  875 1211 1511 1141 1280 1476  945\n",
              "[1093] 1312 1107 1047 1044 1216 1081 1178 1282 1044 1646 1180 1375 1149 1332\n",
              "[1107] 1669 1701 1367 1336 1434 1265 1200 1768 1499 1403 1402 1499 1203 1670\n",
              "[1121] 1401 1167 1634 1370 1701 1630 1298 1569 1365 1267 1201 1532 1198 1133\n",
              "[1135] 1298 1265 1168 1279 1280 1279 1083 1044 1111 1344 1211 1178 1177 1251\n",
              "[1149] 1180  977  946 1008  977 1408 1175 1178 1375 1144 1282 1280 1148 1177\n",
              "[1163] 1145 1145 1149 1113 1414 1178 1180 1397 1205 1634 1265 1237 1532 1266\n",
              "[1177] 1332 1067 1002 1266 1101 1334 1404 1297 1132 1536 1065 1034 1334 1500\n",
              "[1191] 1171 1599 1104 1204 1132 1533 1331 1403 1134 1165 1115 1117 1148 1080\n",
              "[1205]  751 1179 1180 1013 1513 1807 1282 1308 1283 1207 1278 1381 1481 1445\n",
              "[1219] 1277 1643 1045 1915 1045 1247 1180 1281 1548 1177 1112 1315 1311 1242\n",
              "[1233] 1243 1345 1867 1368 2102 1704 2133 1864 1631 1766 1805 2003 2000 1168\n",
              "[1247] 1536 1464 1336 2167 2132 1803 1897 1467 1401 1963 1235 1272 1703 1903\n",
              "[1261] 1901 1112 1246 1278 1112  577 1709 1084 1076 1877 1208   79 1147 1115\n",
              "[1275] 1078 1112 1209 1112 1344 1346 1176 1843  911 1751 1013 1244 1244 1312\n",
              "[1289] 1144 1579 1311 1112 1278 1279 1442 1710 1615 1433 1464 1401 1199 1236\n",
              "[1303] 1267 1331 1933 1401 1235 1803 1299 1865 1601 1934 1933 1671 1597 2037\n",
              "[1317] 2035 1938 1970 1301 1333 1268 1232 1340 1079 1046 1145  849  945 1341\n",
              "[1331]  942 1109 1244 1114 1379  711 1078 1112 1212 1079 1408 1246 1278 1113\n",
              "[1345] 1008 1276 1275 1313 1248 1179 1113 1216 1246 1344 1467 1065 1302 1201\n",
              "[1359] 1399 1465 1331 1002 1167 1233 1265 1168 1401 1200 1201  932 1368 1368\n",
              "[1373] 1262 1138 1199 1134 1599 1130 1135 1012  978 1344 1177  642 1079 1178\n",
              "[1387] 1147 1178 1176 1215 1209 1111    0 1012 1181 1010 1212 1309 1282 1110\n",
              "[1401] 1142  945 1111 1276 1514 1110 1347 1313  977 1079 1312 1678 1383 1209\n",
              "[1415] 1468 1733 1067 1332 1637 1698 1302 1169 1700 1231 1266 1336 1567 1203\n",
              "[1429] 1101 1001 1101 1369 1765 1336 1467 1200 1700 1206 1044 1178 1182 1047\n",
              "[1443] 1245 1113 1043 1242 1043  979  915 1145    0 1176 1614 1040 1813 1177\n",
              "[1457] 1111 1178 1509  979 1212 1011 1010  814 1016 1310  948 1143  578 1211\n",
              "[1471] 1235 1764 1640 1900 1335 1897 2065 1869 1870 1706 1900 1969 1331 1967\n",
              "[1485] 1168 1466 1301 1371 1172 1097 1336 1839 1198 1215  843 1149 1011 1010\n",
              "[1499] 1011 1047 1179 1177  942 1116  844 1048   48  946  943 1644 1014 1078\n",
              "[1513] 1215 1380 1812 1047 2148 1143 1176  779  975 1115  941 1141 1043 1144\n",
              "[1527] 1343 1300 1533 1872 1370 1566 1967 1436 1972 1801 1902 1933 1901 2134\n",
              "[1541] 2235 1938 1901 1603 1402  971  967 2036 1369 1236 1632 2101 1532 1997\n",
              "[1555] 1536 1566 1446 1011 1113  978  943 1078  977 1116  976 1049  945 1007\n",
              "[1569]  880 1243 1148  943 1212 2048 1046 1079 1348 1181 1046  943 1343  876\n",
              "[1583] 1146 1109  576 1144 1112   77 1842 1701 1335 1000 2068 1567 1602 1069\n",
              "[1597] 1700 1836 1333 2000 1268 1930 1131 2166 1499 1437 1402 1569 1269 1166\n",
              "[1611] 1333 2038 1097 1302 1464 1731 1803 1178 1249 1010 1077  910 1080 1083\n",
              "[1625] 1181 1074 1078 1009  978  513  980 1215  942 1275 1046 1079  982 1048\n",
              "[1639] 1742 1079  976 1081 1115  879 1113  911  545 1744 1334 1601 1435 1900\n",
              "[1653] 1774 1529 1132 1098 1832 1632 1666 1669 1304 1368 2064 1897 1869 2140\n",
              "[1667] 1430 1400 1833 1670 1065 1667 1869 1368 1035 1666 1168 1901 1482 1411\n",
              "[1681] 1276 1378 1076 1314 1149 1107 1545 1446 1147   79 1385 1247 1345 1181\n",
              "[1695] 1676 2182 1377 1414 1012 1114 1046  979 1146 1443 1049  913  976 1112\n",
              "[1709] 1799 1167 1267 1431 2164 1968 1130 1768 1734 1301 2237 1501 1269 1034\n",
              "[1723] 1535 1933 1499 1231 1204 1301 2334 1838 2333 1501 1236 1968 1937 2267\n",
              "[1737] 2034 1334 1278 1414 1243 1146 1776 1948 1078  980 1145 1816  181 1274\n",
              "[1751]  980  714 1311 1208 1073 1144 1247  946 1175 1077 1145 1412 1016 1110\n",
              "[1765] 1080  979 1011  980 1110 1113 1366 1130 2033 1903 1401 1870 1701 1368\n",
              "[1779] 1202  996 1401 1069 1765 1200 1668 1268 2233 1401 1969 1532 1171 1633\n",
              "[1793] 1434 1335 1945 1347 1745 1076 1014 1177 1179  712 1113 1349 1247 1343\n",
              "[1807]  912    0 1012 1145 1173 2713 2411 1114 1347 1209 1015  944 1347 1148\n",
              "[1821] 1676 1080  946 1314 1215  978  945 1701 2032 1230 1867 1500 2538 2400\n",
              "[1835] 1301 2599 2067 2066 1468 1568 2103 1604 1332 1603 2666 1332 2271 1401\n",
              "[1849] 1330 2030 1567 1366 1463 2265 2333 1266 2238 1343 1410 1043  979  910\n",
              "[1863]  912 1708 1012 1041  977 1114 2108  912    0 1110 1078 1177 1176 1146\n",
              "[1877] 1314 1645  877 1141 1111 1044 1047 1680 1045  776 1144 1014 1144 1113\n",
              "[1891] 1530 1401 1634 1335 1502 2034 1301 1434 1169 2033 1267 1735 1467 1437\n",
              "[1905] 1333 1634 1403 1102 1770 1203 1198 1197 1233 1277   76 1345 1177 1080\n",
              "[1919] 1008 1080 1045 1215 1142 1248 1148 1545  912 1179 1112 1212 1412 1347\n",
              "[1933] 1212 1277 1079 1075  949 1143 1122 1179  978 1077 1213 1543 1079 1077\n",
              "[1947] 1014 1214 1309 1901 1764 1065 1065 1299 1266  966 1068 1365 1333 1333\n",
              "[1961] 1336 1400 1905 1299 1432 1567 1400 1069 1004 1436 1200 1198 1104 1098\n",
              "[1975] 1168 1132 1402 1113 1177 1184 1240  878 1184 1278 1082 1218 1052 1145\n",
              "[1989] 1178 1180 1247 1081 1247 1309 1211 1109 1075 1242 1210 1013 1176 1111\n",
              "[2003] 1077  979 1113  977 1044 1409 1113 1410 1636 1099 1864 1639 1470 1202\n",
              "[2017] 1265 1601 1198 1736 1406 1300 1301 1434 1405 1267 1134 1301 1035 1200\n",
              "[2031] 1235 1136 1633 1298 1232 1634 1237 1567 1171 1044 1215 1079 1042 1014\n",
              "[2045] 1045 1212 1014 1140  945 1249 1141 1112 1342 1143 1044 1143 1340 1043\n",
              "[2059] 1180 1145 1048  979 1274 1250 1076 1211 1146 1106 1212  948 1176 1310\n",
              "[2073] 1666 1265 1270 1734 1734 1165 1631 1203 1564 1068 1235 1301 1570 1269\n",
              "[2087] 1566 1200 1697 1766 1533 1539 1364  999 1638 1234 1197 1363 1372 1185\n",
              "[2101] 1076 1178 1115  910 1045 1178  976 1143  947  910  980 1173 1042 1011\n",
              "[2115] 1647 1182 1176 1243 1246 1174 1144 1073 1414 1212 1209 1281 1207 1046\n",
              "[2129]  910  943 1243 1412 1333 1466 1301 1366 1435 1404 1236 1300 1063 1136\n",
              "[2143] 1700 1301 1565 1465 1201 1701 1401 1133 1372 1068 1662 1467 1264 1335\n",
              "[2157] 1335 1236 1502  978 1280 1276 1041 1172 1779 1279 1176 1310 1145 1076\n",
              "[2171] 1017  875    0  980  978 1643 1145 1211  910 1077 1015 1146 1015 1075\n",
              "[2185]  976 1842  978 1113 1079 1282 1314 1010 1077 1080 1636 1268 1635 1496\n",
              "[2199] 2401 2498 1670 1765 1464 1665 1667 2064 1369 2001 1501 1967 1766 2100\n",
              "[2213] 1298 1401 1332 2503 1770 2070 1900 1869 1371 1467 2097  915 1006 1248\n",
              "[2227] 1042 1213 1047 1080  944  683  477  845 1042  882   52  914  911 1816\n",
              "[2241]  910  977 1081 1241  980 1679 1180 1118 1113 1148  844 1216 1075  981\n",
              "[2255] 1541 1014 1146 1077 1281 1165 2138 1870 2006 1399 1497 1066 1101 2034\n",
              "[2269] 1271 1564  965 1600 1539 1301 1967 1269 1533 1605 1769 1531 1115 1145\n",
              "[2283] 1043 1143  941  879 1210 1113  910 1043  946  943  950    0 1178 1015\n",
              "[2297] 1247 1044 1016  941 1208 1045 1546 1014 1044 1015  910  914 1014 1143\n",
              "[2311]  978 1245  940  911  846 1006 1635 1737 1600 1729 1471 1763 1303 1502\n",
              "[2325] 1836 1733 1703 1800 1831 2005 2097 2098 1535 1771 1833 1663 1233 2031\n",
              "[2339] 1628 1245 1048 1380  982 1081 1177 1114  915 1781    0 1049 1042 1277\n",
              "[2353]    0 1041 1244 1145 1110 1041 1178 1044  911  945 1012 1106 1019  980\n",
              "[2367] 1077  979 1176  946 1046  909 1380 1834 1200 2300 1866 2134 1230 1835\n",
              "[2381] 1500 1335 1667 1234 2169 1202 2265 2035 1662 2102 1536 2063 1737 2201\n",
              "[2395] 2101 1131 1538 1481 1211 1279 1344 1213 1143 1542 1181 1213 1208 1250\n",
              "[2409] 1277 1046  909 1044 1082 1075 1546 1246 1314 1207 1079 1049 1079 1276\n",
              "[2423] 1175  951 1111 1313 1144  946  916 1112 1309 1182 2331 2034 1534 2203\n",
              "[2437] 2006 2369 1505 2235 2334 1896 1970 1633 1965 1831 1898 1737 1803 1869\n",
              "[2451] 1604 1870 2130 1866 1998 1500 1997 1701 1770 1548 1310 1210 1079  978\n",
              "[2465] 1207 1148 1112 1215 1146  914 1244  978 1015  981 1041 1380 1145  983\n",
              "[2479] 1010 1114 1042 1245 1212 1143  978 1145  945  979 1210 1215 1178 1800\n",
              "[2493] 1333 2100 1932 1367 2306 2297 2170 1533 1267 2035 2203 1366 1499 2131\n",
              "[2507] 2433 1567 1434 1531 1199 2399 1100 1570 1369 1170 1276  879 1177 1011\n",
              "[2521] 1010 1145 1050 2045 1045 1007 1381 1183 1310  981 1479 1178 1007 1380\n",
              "[2535]  915 1045 1012  915 1146 1044 1048 1012  973  945 1014  977 1177 1014\n",
              "[2549] 1212 1277 2134 1667 1664 1136 1304  998 1598 1672 1669 1636 1500 1401\n",
              "[2563] 2167 2100 1938 1467 1499 2001 1935 1301 1634 1931 1834 1734 1266 1674\n",
              "[2577] 1117 1145 1141 1011 1111 1045 1044 2210  980 1042  909 1111  847 1013\n",
              "[2591]  910 1008 1275 1110 1076  979  876  850  943 1079  976 1012 1048  911\n",
              "[2605] 1112 1012  944 1209 1012 1378 1832 2234 2201 1570 1498 1571 1503 1835\n",
              "[2619] 1568 1167 2203 1502 1696 2235 1536 1333 2069 1134 2001 1869 1801 2003\n",
              "[2633] 1767 1137 1615 1008 1076  910  979 1046  988 2012  479 1882 1349 1008\n",
              "[2647]  278 1181 1012 1246 2085 1077 1077 1146 1115 1042 1146 1021 1048 1211\n",
              "[2661] 1207 1184  946 1042 1177 1308 1213 2565 1968 1732 1699 1567 2598 2067\n",
              "[2675] 1703 2133 2201 1535 1835 1632 1502 1435 1168 2265 1768 2436 2703 1404\n",
              "[2689] 2132 2633 2599 1563 1900 2078 1013 1348 1208  976 1012 1141 1014 2645\n",
              "[2703]  412 1081 1478 1914  447  909  977 1876 1142 1311 1245 1780 1081 1713\n",
              "[2717] 1150 1177 1051  946 1015 1311 1147 1076 1839 2272 2634 2268 1897 1835\n",
              "[2731] 2266 2102 2402 2135 1464 2138 2233 2804 2401 1536 1934 2532 1435 1104\n",
              "[2745] 2802 2101 1634 2469 1464 2330 2011 1011 1007 1081  841 1412 1010  840\n",
              "[2759] 1045  482 1179 1045  882  977  912 1176  908 1281 2641 1048  981 1283\n",
              "[2773] 1244 1613 2011 1843 1040 1249 1043 1116 1010 1947 1208 1210 2067 1865\n",
              "[2787] 2735 2667 2068 1866 2266 1436 1803 2164 1868 1768 2833 1733 2939 2769\n",
              "[2801] 1498 2966 1900 2434 1834 2169 1935 2299 2467 2504 1800 1110 1409 1111\n",
              "[2815]  876  914  843  981  944 1050  446 1383 2145  844  741 1009  943 1785\n",
              "[2829] 1409 2313 1080 1042  844 1180 1246 1948 2378 1276 1246  909 1075 1912\n",
              "[2843] 1780 1083 1930 1537 1503 1901 2134 1934 2570 1536 1833 1534 1435 2235\n",
              "[2857] 1733 1966 2034 1967 1432 1970 1899 2435 2136 2565 1869 1601 1600 1868\n",
              "[2871] 1430 1732 1737 1178 1245 1044 1116 1114 1041 1177 1011  946 1073  980\n",
              "[2885]  880 1044 1013 1079 1112 1178  982 1078 1174 1015  978 1050 1010 1074\n",
              "[2899] 1116  914  978  978 1043 1143 1636 1730 1768 1633 1530 1601 1268 1201\n",
              "[2913] 1335 1532 2003 1836 1202 1467 1467 1771 1363 1433 1099  970 1765 1597\n",
              "[2927] 1468 1401 1333 1431 1438 1564 1671 1498 1170 1099 1836 1049  946 1074\n",
              "[2941] 1010  914  980 1176  983 1641 1176  950  879  849  910  878 1743 1346\n",
              "[2955] 1748 1109 1016 1045 1242  948 1045 1009 1176 1012 1078 1148  944  946\n",
              "[2969]  944  976 1371 1105 1132 1736 1105 1002 1500 1136  929 1501 1668 1569\n",
              "[2983] 1301 1299 1301 1369 1134 1800 1503 1168 1534 1300  971 1235 1203 1498\n",
              "[2997] 1167  866 1201 1203 1203  977 1179 1045 1077 1013  910 1010 1144 1047\n",
              "[3011] 1510  978 1181  976 1179 1013 1144 1712 1141  977 1012  913 1014 1178\n",
              "[3025] 1147 1046 1107  947 1075  910  846 1080 1449 1147 1501 1198 1302 1305\n",
              "[3039] 1166 1200 1705 1101 1034 1072 1468 1035 1632 1672 1769 1102 1036 1066\n",
              "[3053]  933 1466 1134 1435  937  902 1805  937  979  743  881  947 1008  977\n",
              "[3067] 1083 1014 1675 1015 1578  950  880 1007 1010 1044 1144 1180 1411  878\n",
              "[3081]  964  979  911  779 1050  944  979 1114  914 1012 1042  948  979 1310\n",
              "[3095] 1679 1372 1031 1400  966  863 1368  966 1069 1269 1401 1068 1235 1502\n",
              "[3109]  966 1005 1300 1136 1069 1071  901 1166 1537  836 1400 1402 1332 1805\n",
              "[3123]  967  932  902 2110 1343 1008 1244 2176 1082  881 2508 1642 1179 1082\n",
              "[3137] 1143 1276 1045 1045 1177 1247 2578 1147 1080 1077 1145 1142 1076 1047\n",
              "[3151]  880  911 1042 1142  846 1144 1075 1708 1077 1599 1733 2236 1936 2432\n",
              "[3165] 2333 2001 2298 1868 1736 2400 2366 1433 1300 1903 2071 1668 1305 1735\n",
              "[3179] 1197 1166 1669 2402 1434 1731 1072 1367 1934 1601 1366 1209 1176 1146\n",
              "[3193] 1176 1077 1075  944 1112 1047 1003 1078 1116 1477  982  943 1147 2076\n",
              "[3207] 1280 1244 1179 1116 1015 1380 1111 1077 1082 1013  309 1144  245 1112\n",
              "[3221] 1534 1569 1167 2098 1198 1670 1468 2204 1262 1902 1270 2234 1201 1370\n",
              "[3235] 1934 2100 1531 1536 1937 1103 2006 1295 1166 1768 1665 1233 2101 1601\n",
              "[3249] 1246 1281 1309 1115 1409 1110  913 1146  978  978  946 1048  880  981\n",
              "[3263] 1042 1010 1011 1711 2045 1049 1017 1013 1046 1111 1011 1143  945 1379\n",
              "[3277] 1114 1145  443 1516 1146  347 1212 1636 1202 1068 1533 1838 2135 1797\n",
              "[3291] 1197  867 1401  838 1164 1367 1835 1133 1135  866 1898 1900 1031 2003\n",
              "[3305] 2100 2135 1565 1113 1283 1249 1913  910  813 1045 1177  884 1079  852\n",
              "[3319]  879  914 1079 1016 1148 1675 1310  947 1143 1243 1011 1143 1078 1079\n",
              "[3333] 1045  981  412 1446 1179  281 1046 1504 1364 1069 1104 1067 1532 1033\n",
              "[3347] 1601  964 1434 1537 1270 1768 1767 1299 1101 1634 1433 1104 1433 1035\n",
              "[3361] 1937 1332 2003 1301 1904 1246 1146 1309 1084 1113 1177 1178 1151 1180\n",
              "[3375] 1108 1147 1145  377    0 1113 1177 1509 1745 1242 1682 1914 1281 1212\n",
              "[3389] 1107 1041 1411 1249 1346 1611 1079 1213 1146 1208 1111 1932 2100 2034\n",
              "[3403] 1605 1733 1637 1433 1466 1203 1967 2067 2101 1503 1269 2269 1464 1466\n",
              "[3417] 1499 1370 1867 1969 1833 2271 1600 2270 1308 1014 1340 1045 1079 1208\n",
              "[3431] 1212 1081 1415 1045 1010 1113  210    0 1146 1378 1275 1146 1207 1848\n",
              "[3445] 1508 1043  978 1179 1175  977 1079 1343  879 1081 1441 1109 1632 1431\n",
              "[3459] 1300 1996 1432 2201 1900 1734 1769 1932 1703 1934 1931 1505 1899 1269\n",
              "[3473] 1233 2299 1835 1404 2032 2302 1132 1736 1869 1664 1145 1045 1542 1078\n",
              "[3487] 1677 1179  947 2082  981 1049  480 1014 1042 1176 1714 1476 1208 1142\n",
              "[3501] 1145 1013  981 1045 1075  913 1048 1249 1039  978 1241 1081 1701 1301\n",
              "[3515] 1171 1237 1268 2067 2069 2100 1832 1932 1232 2139 1632 2337 1965 2031\n",
              "[3529] 2139 2066 1369 1867 1400 2201 1835 1934 1968 2335 2268 1636 1148 1075\n",
              "[3543] 1309 1014  946 1079 1185  978 1043  985  939 1310  442  980 1082 1248\n",
              "[3557] 1244 1545 1314 1316 1412 1147 1379 1146 1249 1713 1174 1208 1374 1312\n",
              "[3571] 1279 1176 1046 1010 1397 1630 1703 1366 1532 2000 2136 1865 1799 1667\n",
              "[3585] 2066 1600 1701 2167 2067 1764 2168 2032 1299 1932 1266 1901 1865 1469\n",
              "[3599] 1267 1969 1733 1177 1215 1046 1044 1641 1114 1179 1680 1308 1085 1077\n",
              "[3613]  975 1043  977 1177 1282 1306 1379 1176 1045 1045 1945 1144 1178 1176\n",
              "[3627]  978 1214 1508 1283 1638 1338 1467 1467 1469 1168 1603 1166 1469 1401\n",
              "[3641] 1266 1236 1136 1498 1771 1470 1533 1768 1733 2097 1398 1437 1232 1269\n",
              "[3655] 1435 1171 2112 1313 1515 1346 1312 1109 1449 1244 1344 1048 1177 1380\n",
              "[3669] 1348 1045 1146 1175 1311 2011 2109 1413 1212 1111 1213 1414 1213 1211\n",
              "[3683] 1713 1344 1046  977 1115 1141 1474 1177 2069 1604 1901 1435 1467 1803\n",
              "[3697] 1301 1298 1334 1468 1633 1272 1900 1234 1438 1467 1169 1868 1100 1432\n",
              "[3711] 1668 1539 2032 1498 1371 1902 1444 1244 1284 1180 1011 1074 1109 1114\n",
              "[3725] 1077 1110 1045  912 1042  978 1250 1181 1915 1243 1248 1110 1079 1111\n",
              "[3739] 1046 1178 1074 1379 1180  978 1013 1045 1245 1513 1111 1865 1669 1301\n",
              "[3753] 1838 1069 1330 1235 1502 2065 1467 1701 1902 1100 1901 1432 1201 1334\n",
              "[3767] 1934 1135 1336 1933 1371 1606 1304 1370 1301 1971 1369 1903 1149 1212\n",
              "[3781] 1210 1179 1447 1146 1016 1007 1115 1278  978 1175 1146  977 1577 1311\n",
              "[3795] 1413 1408 1013  909 1776 1116 1215 1111 1208 1215 1715  980 1382 1147\n",
              "[3809] 1179 1336 1837 1498 1334 1568 1367 1566 1266 1301 1401 1602 1806 1738\n",
              "[3823] 1702 1435 2070 1565 1935 1269 1433 1133 1735 1699 1235 1898 1235 1469\n",
              "[3837] 2034 1177 1211  941  977 1007 1043 1146 1011 1044 1041 1077 1276 1008\n",
              "[3851] 1647 1143 1013 1674 1609 1814 1174  910 1048 1179 1209 1178  947 1678\n",
              "[3865] 1480 1013  810  912 1079 1179 1403  998 1336 1701 1833 1833 1270 1739\n",
              "[3879]  936 1369 1772 1136 1232 1368 1231 1468 1270 1267 1801 1864 1438 1066\n",
              "[3893] 1501 1202 1429 1133 1278 1287 1013 1113 1209  943 1176 1079  912 1145\n",
              "[3907] 1213 1075  945 1045 1013 1044 1510 1177 1445 1277 1346 1080  975 1609\n",
              "[3921] 1780 1246 1281 1743  911 1142 1047 1146  947 1430 1930 1635 1365 1265\n",
              "[3935] 1463 1199 1862 1671 1436 1431 1296 1533 1135 1471 1266 2133 1032 1669\n",
              "[3949] 1066 1869 1930 1767 1798 2069 1966 1168 1197 2034 1083 1316  910 1080\n",
              "[3963]  981  913 1211  976 1044 1480 1110 1279 1011 1410 1478 1178 1516 1312\n",
              "[3977] 1080  881  846 1043 1249 1076 1211 1913 1078  915 1009 1345  945 1617\n",
              "[3991] 1299 1598 1237 1366 1471 1033 1069 2100 1168 1899  968 1467 1500 1597\n",
              "[4005] 1101 2171 1336 1969  969 1701 1872 1235 1600 1800 1937 1736 1138 1935\n",
              "[4019] 1464 1044 1075  879  511 1009  743 1083  846  944 1077 1310  208  944\n",
              "[4033]  946  878 1045 1042 1274 1312 1243 1147  913  979 1512  880 1012 1113\n",
              "[4047] 1080 1315 1949 1044  908 1047  982 1308 1968 1268 1299 1068 1468 1635\n",
              "[4061] 1434 1235 1199 1769 1234 1000 1001 1100 1668  800 1501 1733 1304 1737\n",
              "[4075] 1104 1267 1165 2067 1032 1245 1245 1611 1246 1107  947 1315 1108  912\n",
              "[4089] 1443 1275  979 1115  974 1080 1181 1312  808 1677 1079 1011  979 1244\n",
              "[4103] 1111 1117 1544 1443 1108 1080  945 1042 1412 1175 1996 1737 1999 2201\n",
              "[4117] 1431 1467 2367 2200 1568 1496 1669 1369 2031 1098 1566 1300 2200 1600\n",
              "[4131] 1731 1864 2135 1297 2000 1966 1632 1802 1364 1137 1402 1346 1042 1409\n",
              "[4145] 1181 1009  976 1177 1045 1007 1010 1244  913  978 1010  746 1047 1411\n",
              "[4159] 1443 1113 1080 1107 1214 1214 1079 1209 1042 1711 1777 1078  340  983\n",
              "[4173] 1147 1044 1301 2037 1568 2005 1633 1468 2069 1799 1566 1801 1299 2102\n",
              "[4187] 1535 2169 1202 1537 1999 2067 1435 1634 1532 1401 2134 1565 1665 1869\n",
              "[4201] 1832 1277 1180 1076 1013 1012 1311 1115 1310 1276 1280  943  846  977\n",
              "[4215] 1011 1246 1508 2111 2215 1544 1244 1115 1079 1347 1843 1147 1144 1009\n",
              "[4229] 1211 1209  581 1011 1508 1378 1176 2101 1869 1801 2102 1367 1932 1601\n",
              "[4243] 2137 1932 1334 1737 1534 1533 2071 1737 1801 1966 1829 1364 1930 1733\n",
              "[4257] 1135 1834 1338 1966 1433 1212 1048 1247 1077 1112 1346 1180 1078 1312\n",
              "[4271] 1580 1145  947  976 1177 1382 1375 1814 1111 1312 1277 1278 1207 1676\n",
              "[4285] 1207 1143 1447 1046 1046  975 1117 1479 2215 1404 1469 1704 1637 1601\n",
              "[4299] 1665 1265 1967 1435 2168 1933 1632 1635 1832 1362 1572 1106 1200 1637\n",
              "[4313] 2267 1368 1401 1498 2004 2101 1371 1366 1099 1515  949 1279   45 1180\n",
              "[4327] 1145 1248 1109 1143 1043 1247 1347  247 1078  981 1075 1479 1211 1010\n",
              "[4341] 1482 1214 1384 1211 1109 1312 1150 1146 1012 1343  944  979 1345 1014\n",
              "[4355] 2037 2169 1502 1570 2129 1431 1533 2233 2201 1400 2200 1699 2330 1404\n",
              "[4369] 1703 1397 1429 2034 2300 1630 2067 1866 2339 1266 1336 2269 2247 1212\n",
              "[4383] 1142  912  947 1049 1179 1014 1675 1013 1109 1017 1246 1311 1076 1247\n",
              "[4397] 1374 1347  980 1178 1214 1812  982 1843 1276 1083 1176 1312 1142  913\n",
              "[4411] 1079 1181 1177 1482 1568 1365 1296 1333 1235 1235 1269 1768 1267 1205\n",
              "[4425] 2201 1900 1635 1765 2232 1802 1397 1900 2069 1238 1902 1568 2233 1271\n",
              "[4439] 1041  978 1142 1010 1149 1178 1145 1114 1142 1345  945  980 1048 1114\n",
              "[4453] 1116 1346 2145 1143 1381 1144 1075 1143 1211 1215 1150 1279 1047 1411\n",
              "[4467]  977 1073 1444 1640 1598 1800 2100 1967 1964 2432 1897 2267 1434 1333\n",
              "[4481] 2066 1304 1397 1772 1901 1197 2369 2037 1370 2230 1998 1301 1035 2099\n",
              "[4495] 1397 1470 1117 1046 1148  844  109 1246  944  981 1176 1379 1145  977\n",
              "[4509]    0 1041 1011 1179 1580 1050 1179 1242  914 1014 1245 2078 1276 1113\n",
              "[4523]  975 1146 1144  977 1079 1576 1311 1316 1967 2334 1568 1867 1097 1968\n",
              "[4537] 1935 1435 1905 2034 1030 1437 1703 2431 1901 1231 1235 1865 1867 1315\n",
              "[4551] 1414 1681 1178 1008 1184 1076  882 1242 1111 1408  978 1010    0  950\n",
              "[4565] 1042 1376 1282 1012 1147 1012 1045 1211 1216 1013 1150 1148  976  814\n",
              "[4579]  847 1178 1046 1903 1670 1605 1365 1603 1736 1637 1603 1768 1871 1367\n",
              "[4593] 1334 1169 1067 1638 1268 1167 1062 1234 1169 1802 1069 1202 1333 1898\n",
              "[4607] 1701 1469 1367 1734 1065 1611 1546 1312 1374 1145  944  977 1048 1476\n",
              "[4621] 1477  881    0 1010 1843  911 1012 1076  982 1115 1051  910 2043  950\n",
              "[4635]  878 1446  812  815 1376 1904 1435 1370 1440 1239 1337 1030 1865 1966\n",
              "[4649] 1229 1099 1831 1203 1832 2068 1069 1368 1900 1303 1398 1932 1902 1835\n",
              "[4663] 1302 2101 1235 1166 1600 1302 1898 1200 1015  911 1143 1074 1044 1208\n",
              "[4677]  844 1046  974  908  981  809 1045 1283  983 1178 1143 1310 1307 1240\n",
              "[4691] 1019 1212  941 1081 1078 1274  976  912  908 1010  812 1010 1410 1202\n",
              "[4705] 1100 1503 1467 1367 1768 1400 1602 1367 1666 1666 1533 1335 1835 1367\n",
              "[4719] 1769 1805 1839 1467 1497 1301 1301 1939 1737 1996 1432 1673 1868 1471\n",
              "[4733] 1767 1566 1269 1177  946  880 1248  643 1014 1116 1075 1077 1050  945\n",
              "[4747]  879  114  879  978 1178 1176  946 1177 1146  912  809 1208 1043 1079\n",
              "[4761] 1645 1110 1210  776  978 1012 1334 1064 1364 1468 1401 1533 1466 1501\n",
              "[4775] 1264 1568 1597 1697 1134 1434 1097 1533 1771 1365 1500 1901 1199 1431\n",
              "[4789] 1300 1763 1199 1299 1133 2038 1367 2066 1164 1436"
            ],
            "text/latex": "\\begin{enumerate*}\n\\item 1378\n\\item 2042\n\\item 1275\n\\item 1013\n\\item 1012\n\\item 1243\n\\item 1414\n\\item 1178\n\\item 1615\n\\item 1111\n\\item 1218\n\\item 1245\n\\item 1327\n\\item 977\n\\item 1216\n\\item 1275\n\\item 1113\n\\item 1277\n\\item 1275\n\\item 1077\n\\item 1143\n\\item 1011\n\\item 1347\n\\item 1178\n\\item 1209\n\\item 1176\n\\item 1145\n\\item 1008\n\\item 1075\n\\item 1876\n\\item 1279\n\\item 1648\n\\item 1999\n\\item 1700\n\\item 1733\n\\item 1834\n\\item 1768\n\\item 1901\n\\item 1800\n\\item 2301\n\\item 1700\n\\item 2133\n\\item 1696\n\\item 1937\n\\item 2202\n\\item 1769\n\\item 2299\n\\item 2002\n\\item 1539\n\\item 2336\n\\item 1835\n\\item 2100\n\\item 1902\n\\item 1499\n\\item 2138\n\\item 2333\n\\item 2369\n\\item 1700\n\\item 2101\n\\item 1736\n\\item 1637\n\\item 1868\n\\item 1178\n\\item 1483\n\\item 1278\n\\item 1082\n\\item 979\n\\item 1877\n\\item 1213\n\\item 1142\n\\item 1284\n\\item 1073\n\\item 1310\n\\item 913\n\\item 1216\n\\item 1113\n\\item 1148\n\\item 1112\n\\item 1444\n\\item 1744\n\\item 2043\n\\item 1085\n\\item 1177\n\\item 1079\n\\item 1145\n\\item 1074\n\\item 1180\n\\item 1111\n\\item 1545\n\\item 1179\n\\item 1115\n\\item 1046\n\\item 1378\n\\item 1046\n\\item 1209\n\\item 1347\n\\item 1802\n\\item 2035\n\\item 1936\n\\item 1468\n\\item 2135\n\\item 1437\n\\item 1705\n\\item 1867\n\\item 2135\n\\item 1967\n\\item 1796\n\\item 1602\n\\item 1634\n\\item 1767\n\\item 1336\n\\item 2037\n\\item 1604\n\\item 1432\n\\item 1666\n\\item 2033\n\\item 2033\n\\item 1766\n\\item 1634\n\\item 2001\n\\item 2071\n\\item 2065\n\\item 1965\n\\item 1632\n\\item 1177\n\\item 1315\n\\item 1078\n\\item 1113\n\\item 1007\n\\item 1949\n\\item 1312\n\\item 1145\n\\item 1117\n\\item 946\n\\item 1176\n\\item 1211\n\\item 877\n\\item 1209\n\\item 2013\n\\item 1247\n\\item 1044\n\\item 1076\n\\item 945\n\\item 1277\n\\item 1278\n\\item 1149\n\\item 1309\n\\item 1216\n\\item 1243\n\\item 1244\n\\item 1043\n\\item 1076\n\\item 1075\n\\item 2047\n\\item 1448\n\\item 1633\n\\item 1871\n\\item 1571\n\\item 1663\n\\item 1834\n\\item 1568\n\\item 1501\n\\item 1838\n\\item 1733\n\\item 1667\n\\item 1564\n\\item 1830\n\\item 2266\n\\item 1801\n\\item 1535\n\\item 1836\n\\item 1969\n\\item 1900\n\\item 1636\n\\item 1467\n\\item 1433\n\\item 1537\n\\item 2202\n\\item 2003\n\\item 1767\n\\item 1567\n\\item 1733\n\\item 2104\n\\item 1898\n\\item 2034\n\\item 1213\n\\item 1411\n\\item 1112\n\\item 1141\n\\item 1040\n\\item 1608\n\\item 1278\n\\item 1149\n\\item 1280\n\\item 913\n\\item 1146\n\\item 1179\n\\item 1047\n\\item 1242\n\\item 1079\n\\item ⋯\n\\item 1062\n\\item 1234\n\\item 1169\n\\item 1802\n\\item 1069\n\\item 1202\n\\item 1333\n\\item 1898\n\\item 1701\n\\item 1469\n\\item 1367\n\\item 1734\n\\item 1065\n\\item 1611\n\\item 1546\n\\item 1312\n\\item 1374\n\\item 1145\n\\item 944\n\\item 977\n\\item 1048\n\\item 1476\n\\item 1477\n\\item 881\n\\item 0\n\\item 1010\n\\item 1843\n\\item 911\n\\item 1012\n\\item 1076\n\\item 982\n\\item 1115\n\\item 1051\n\\item 910\n\\item 2043\n\\item 950\n\\item 878\n\\item 1446\n\\item 812\n\\item 815\n\\item 1376\n\\item 1904\n\\item 1435\n\\item 1370\n\\item 1440\n\\item 1239\n\\item 1337\n\\item 1030\n\\item 1865\n\\item 1966\n\\item 1229\n\\item 1099\n\\item 1831\n\\item 1203\n\\item 1832\n\\item 2068\n\\item 1069\n\\item 1368\n\\item 1900\n\\item 1303\n\\item 1398\n\\item 1932\n\\item 1902\n\\item 1835\n\\item 1302\n\\item 2101\n\\item 1235\n\\item 1166\n\\item 1600\n\\item 1302\n\\item 1898\n\\item 1200\n\\item 1015\n\\item 911\n\\item 1143\n\\item 1074\n\\item 1044\n\\item 1208\n\\item 844\n\\item 1046\n\\item 974\n\\item 908\n\\item 981\n\\item 809\n\\item 1045\n\\item 1283\n\\item 983\n\\item 1178\n\\item 1143\n\\item 1310\n\\item 1307\n\\item 1240\n\\item 1019\n\\item 1212\n\\item 941\n\\item 1081\n\\item 1078\n\\item 1274\n\\item 976\n\\item 912\n\\item 908\n\\item 1010\n\\item 812\n\\item 1010\n\\item 1410\n\\item 1202\n\\item 1100\n\\item 1503\n\\item 1467\n\\item 1367\n\\item 1768\n\\item 1400\n\\item 1602\n\\item 1367\n\\item 1666\n\\item 1666\n\\item 1533\n\\item 1335\n\\item 1835\n\\item 1367\n\\item 1769\n\\item 1805\n\\item 1839\n\\item 1467\n\\item 1497\n\\item 1301\n\\item 1301\n\\item 1939\n\\item 1737\n\\item 1996\n\\item 1432\n\\item 1673\n\\item 1868\n\\item 1471\n\\item 1767\n\\item 1566\n\\item 1269\n\\item 1177\n\\item 946\n\\item 880\n\\item 1248\n\\item 643\n\\item 1014\n\\item 1116\n\\item 1075\n\\item 1077\n\\item 1050\n\\item 945\n\\item 879\n\\item 114\n\\item 879\n\\item 978\n\\item 1178\n\\item 1176\n\\item 946\n\\item 1177\n\\item 1146\n\\item 912\n\\item 809\n\\item 1208\n\\item 1043\n\\item 1079\n\\item 1645\n\\item 1110\n\\item 1210\n\\item 776\n\\item 978\n\\item 1012\n\\item 1334\n\\item 1064\n\\item 1364\n\\item 1468\n\\item 1401\n\\item 1533\n\\item 1466\n\\item 1501\n\\item 1264\n\\item 1568\n\\item 1597\n\\item 1697\n\\item 1134\n\\item 1434\n\\item 1097\n\\item 1533\n\\item 1771\n\\item 1365\n\\item 1500\n\\item 1901\n\\item 1199\n\\item 1431\n\\item 1300\n\\item 1763\n\\item 1199\n\\item 1299\n\\item 1133\n\\item 2038\n\\item 1367\n\\item 2066\n\\item 1164\n\\item 1436\n\\end{enumerate*}\n",
            "text/markdown": "1. 1378\n2. 2042\n3. 1275\n4. 1013\n5. 1012\n6. 1243\n7. 1414\n8. 1178\n9. 1615\n10. 1111\n11. 1218\n12. 1245\n13. 1327\n14. 977\n15. 1216\n16. 1275\n17. 1113\n18. 1277\n19. 1275\n20. 1077\n21. 1143\n22. 1011\n23. 1347\n24. 1178\n25. 1209\n26. 1176\n27. 1145\n28. 1008\n29. 1075\n30. 1876\n31. 1279\n32. 1648\n33. 1999\n34. 1700\n35. 1733\n36. 1834\n37. 1768\n38. 1901\n39. 1800\n40. 2301\n41. 1700\n42. 2133\n43. 1696\n44. 1937\n45. 2202\n46. 1769\n47. 2299\n48. 2002\n49. 1539\n50. 2336\n51. 1835\n52. 2100\n53. 1902\n54. 1499\n55. 2138\n56. 2333\n57. 2369\n58. 1700\n59. 2101\n60. 1736\n61. 1637\n62. 1868\n63. 1178\n64. 1483\n65. 1278\n66. 1082\n67. 979\n68. 1877\n69. 1213\n70. 1142\n71. 1284\n72. 1073\n73. 1310\n74. 913\n75. 1216\n76. 1113\n77. 1148\n78. 1112\n79. 1444\n80. 1744\n81. 2043\n82. 1085\n83. 1177\n84. 1079\n85. 1145\n86. 1074\n87. 1180\n88. 1111\n89. 1545\n90. 1179\n91. 1115\n92. 1046\n93. 1378\n94. 1046\n95. 1209\n96. 1347\n97. 1802\n98. 2035\n99. 1936\n100. 1468\n101. 2135\n102. 1437\n103. 1705\n104. 1867\n105. 2135\n106. 1967\n107. 1796\n108. 1602\n109. 1634\n110. 1767\n111. 1336\n112. 2037\n113. 1604\n114. 1432\n115. 1666\n116. 2033\n117. 2033\n118. 1766\n119. 1634\n120. 2001\n121. 2071\n122. 2065\n123. 1965\n124. 1632\n125. 1177\n126. 1315\n127. 1078\n128. 1113\n129. 1007\n130. 1949\n131. 1312\n132. 1145\n133. 1117\n134. 946\n135. 1176\n136. 1211\n137. 877\n138. 1209\n139. 2013\n140. 1247\n141. 1044\n142. 1076\n143. 945\n144. 1277\n145. 1278\n146. 1149\n147. 1309\n148. 1216\n149. 1243\n150. 1244\n151. 1043\n152. 1076\n153. 1075\n154. 2047\n155. 1448\n156. 1633\n157. 1871\n158. 1571\n159. 1663\n160. 1834\n161. 1568\n162. 1501\n163. 1838\n164. 1733\n165. 1667\n166. 1564\n167. 1830\n168. 2266\n169. 1801\n170. 1535\n171. 1836\n172. 1969\n173. 1900\n174. 1636\n175. 1467\n176. 1433\n177. 1537\n178. 2202\n179. 2003\n180. 1767\n181. 1567\n182. 1733\n183. 2104\n184. 1898\n185. 2034\n186. 1213\n187. 1411\n188. 1112\n189. 1141\n190. 1040\n191. 1608\n192. 1278\n193. 1149\n194. 1280\n195. 913\n196. 1146\n197. 1179\n198. 1047\n199. 1242\n200. 1079\n201. ⋯\n202. 1062\n203. 1234\n204. 1169\n205. 1802\n206. 1069\n207. 1202\n208. 1333\n209. 1898\n210. 1701\n211. 1469\n212. 1367\n213. 1734\n214. 1065\n215. 1611\n216. 1546\n217. 1312\n218. 1374\n219. 1145\n220. 944\n221. 977\n222. 1048\n223. 1476\n224. 1477\n225. 881\n226. 0\n227. 1010\n228. 1843\n229. 911\n230. 1012\n231. 1076\n232. 982\n233. 1115\n234. 1051\n235. 910\n236. 2043\n237. 950\n238. 878\n239. 1446\n240. 812\n241. 815\n242. 1376\n243. 1904\n244. 1435\n245. 1370\n246. 1440\n247. 1239\n248. 1337\n249. 1030\n250. 1865\n251. 1966\n252. 1229\n253. 1099\n254. 1831\n255. 1203\n256. 1832\n257. 2068\n258. 1069\n259. 1368\n260. 1900\n261. 1303\n262. 1398\n263. 1932\n264. 1902\n265. 1835\n266. 1302\n267. 2101\n268. 1235\n269. 1166\n270. 1600\n271. 1302\n272. 1898\n273. 1200\n274. 1015\n275. 911\n276. 1143\n277. 1074\n278. 1044\n279. 1208\n280. 844\n281. 1046\n282. 974\n283. 908\n284. 981\n285. 809\n286. 1045\n287. 1283\n288. 983\n289. 1178\n290. 1143\n291. 1310\n292. 1307\n293. 1240\n294. 1019\n295. 1212\n296. 941\n297. 1081\n298. 1078\n299. 1274\n300. 976\n301. 912\n302. 908\n303. 1010\n304. 812\n305. 1010\n306. 1410\n307. 1202\n308. 1100\n309. 1503\n310. 1467\n311. 1367\n312. 1768\n313. 1400\n314. 1602\n315. 1367\n316. 1666\n317. 1666\n318. 1533\n319. 1335\n320. 1835\n321. 1367\n322. 1769\n323. 1805\n324. 1839\n325. 1467\n326. 1497\n327. 1301\n328. 1301\n329. 1939\n330. 1737\n331. 1996\n332. 1432\n333. 1673\n334. 1868\n335. 1471\n336. 1767\n337. 1566\n338. 1269\n339. 1177\n340. 946\n341. 880\n342. 1248\n343. 643\n344. 1014\n345. 1116\n346. 1075\n347. 1077\n348. 1050\n349. 945\n350. 879\n351. 114\n352. 879\n353. 978\n354. 1178\n355. 1176\n356. 946\n357. 1177\n358. 1146\n359. 912\n360. 809\n361. 1208\n362. 1043\n363. 1079\n364. 1645\n365. 1110\n366. 1210\n367. 776\n368. 978\n369. 1012\n370. 1334\n371. 1064\n372. 1364\n373. 1468\n374. 1401\n375. 1533\n376. 1466\n377. 1501\n378. 1264\n379. 1568\n380. 1597\n381. 1697\n382. 1134\n383. 1434\n384. 1097\n385. 1533\n386. 1771\n387. 1365\n388. 1500\n389. 1901\n390. 1199\n391. 1431\n392. 1300\n393. 1763\n394. 1199\n395. 1299\n396. 1133\n397. 2038\n398. 1367\n399. 2066\n400. 1164\n401. 1436\n\n\n",
            "text/html": [
              "<style>\n",
              ".list-inline {list-style: none; margin:0; padding: 0}\n",
              ".list-inline>li {display: inline-block}\n",
              ".list-inline>li:not(:last-child)::after {content: \"\\00b7\"; padding: 0 .5ex}\n",
              "</style>\n",
              "<ol class=list-inline><li>1378</li><li>2042</li><li>1275</li><li>1013</li><li>1012</li><li>1243</li><li>1414</li><li>1178</li><li>1615</li><li>1111</li><li>1218</li><li>1245</li><li>1327</li><li>977</li><li>1216</li><li>1275</li><li>1113</li><li>1277</li><li>1275</li><li>1077</li><li>1143</li><li>1011</li><li>1347</li><li>1178</li><li>1209</li><li>1176</li><li>1145</li><li>1008</li><li>1075</li><li>1876</li><li>1279</li><li>1648</li><li>1999</li><li>1700</li><li>1733</li><li>1834</li><li>1768</li><li>1901</li><li>1800</li><li>2301</li><li>1700</li><li>2133</li><li>1696</li><li>1937</li><li>2202</li><li>1769</li><li>2299</li><li>2002</li><li>1539</li><li>2336</li><li>1835</li><li>2100</li><li>1902</li><li>1499</li><li>2138</li><li>2333</li><li>2369</li><li>1700</li><li>2101</li><li>1736</li><li>1637</li><li>1868</li><li>1178</li><li>1483</li><li>1278</li><li>1082</li><li>979</li><li>1877</li><li>1213</li><li>1142</li><li>1284</li><li>1073</li><li>1310</li><li>913</li><li>1216</li><li>1113</li><li>1148</li><li>1112</li><li>1444</li><li>1744</li><li>2043</li><li>1085</li><li>1177</li><li>1079</li><li>1145</li><li>1074</li><li>1180</li><li>1111</li><li>1545</li><li>1179</li><li>1115</li><li>1046</li><li>1378</li><li>1046</li><li>1209</li><li>1347</li><li>1802</li><li>2035</li><li>1936</li><li>1468</li><li>2135</li><li>1437</li><li>1705</li><li>1867</li><li>2135</li><li>1967</li><li>1796</li><li>1602</li><li>1634</li><li>1767</li><li>1336</li><li>2037</li><li>1604</li><li>1432</li><li>1666</li><li>2033</li><li>2033</li><li>1766</li><li>1634</li><li>2001</li><li>2071</li><li>2065</li><li>1965</li><li>1632</li><li>1177</li><li>1315</li><li>1078</li><li>1113</li><li>1007</li><li>1949</li><li>1312</li><li>1145</li><li>1117</li><li>946</li><li>1176</li><li>1211</li><li>877</li><li>1209</li><li>2013</li><li>1247</li><li>1044</li><li>1076</li><li>945</li><li>1277</li><li>1278</li><li>1149</li><li>1309</li><li>1216</li><li>1243</li><li>1244</li><li>1043</li><li>1076</li><li>1075</li><li>2047</li><li>1448</li><li>1633</li><li>1871</li><li>1571</li><li>1663</li><li>1834</li><li>1568</li><li>1501</li><li>1838</li><li>1733</li><li>1667</li><li>1564</li><li>1830</li><li>2266</li><li>1801</li><li>1535</li><li>1836</li><li>1969</li><li>1900</li><li>1636</li><li>1467</li><li>1433</li><li>1537</li><li>2202</li><li>2003</li><li>1767</li><li>1567</li><li>1733</li><li>2104</li><li>1898</li><li>2034</li><li>1213</li><li>1411</li><li>1112</li><li>1141</li><li>1040</li><li>1608</li><li>1278</li><li>1149</li><li>1280</li><li>913</li><li>1146</li><li>1179</li><li>1047</li><li>1242</li><li>1079</li><li>⋯</li><li>1062</li><li>1234</li><li>1169</li><li>1802</li><li>1069</li><li>1202</li><li>1333</li><li>1898</li><li>1701</li><li>1469</li><li>1367</li><li>1734</li><li>1065</li><li>1611</li><li>1546</li><li>1312</li><li>1374</li><li>1145</li><li>944</li><li>977</li><li>1048</li><li>1476</li><li>1477</li><li>881</li><li>0</li><li>1010</li><li>1843</li><li>911</li><li>1012</li><li>1076</li><li>982</li><li>1115</li><li>1051</li><li>910</li><li>2043</li><li>950</li><li>878</li><li>1446</li><li>812</li><li>815</li><li>1376</li><li>1904</li><li>1435</li><li>1370</li><li>1440</li><li>1239</li><li>1337</li><li>1030</li><li>1865</li><li>1966</li><li>1229</li><li>1099</li><li>1831</li><li>1203</li><li>1832</li><li>2068</li><li>1069</li><li>1368</li><li>1900</li><li>1303</li><li>1398</li><li>1932</li><li>1902</li><li>1835</li><li>1302</li><li>2101</li><li>1235</li><li>1166</li><li>1600</li><li>1302</li><li>1898</li><li>1200</li><li>1015</li><li>911</li><li>1143</li><li>1074</li><li>1044</li><li>1208</li><li>844</li><li>1046</li><li>974</li><li>908</li><li>981</li><li>809</li><li>1045</li><li>1283</li><li>983</li><li>1178</li><li>1143</li><li>1310</li><li>1307</li><li>1240</li><li>1019</li><li>1212</li><li>941</li><li>1081</li><li>1078</li><li>1274</li><li>976</li><li>912</li><li>908</li><li>1010</li><li>812</li><li>1010</li><li>1410</li><li>1202</li><li>1100</li><li>1503</li><li>1467</li><li>1367</li><li>1768</li><li>1400</li><li>1602</li><li>1367</li><li>1666</li><li>1666</li><li>1533</li><li>1335</li><li>1835</li><li>1367</li><li>1769</li><li>1805</li><li>1839</li><li>1467</li><li>1497</li><li>1301</li><li>1301</li><li>1939</li><li>1737</li><li>1996</li><li>1432</li><li>1673</li><li>1868</li><li>1471</li><li>1767</li><li>1566</li><li>1269</li><li>1177</li><li>946</li><li>880</li><li>1248</li><li>643</li><li>1014</li><li>1116</li><li>1075</li><li>1077</li><li>1050</li><li>945</li><li>879</li><li>114</li><li>879</li><li>978</li><li>1178</li><li>1176</li><li>946</li><li>1177</li><li>1146</li><li>912</li><li>809</li><li>1208</li><li>1043</li><li>1079</li><li>1645</li><li>1110</li><li>1210</li><li>776</li><li>978</li><li>1012</li><li>1334</li><li>1064</li><li>1364</li><li>1468</li><li>1401</li><li>1533</li><li>1466</li><li>1501</li><li>1264</li><li>1568</li><li>1597</li><li>1697</li><li>1134</li><li>1434</li><li>1097</li><li>1533</li><li>1771</li><li>1365</li><li>1500</li><li>1901</li><li>1199</li><li>1431</li><li>1300</li><li>1763</li><li>1199</li><li>1299</li><li>1133</li><li>2038</li><li>1367</li><li>2066</li><li>1164</li><li>1436</li></ol>\n"
            ]
          },
          "metadata": {
            "tags": []
          }
        }
      ]
    },
    {
      "cell_type": "code",
      "metadata": {
        "id": "UnSmyT16WPj0",
        "outputId": "348579e8-530d-4e97-f4c5-0e97a685d008",
        "colab": {
          "base_uri": "https://localhost:8080/",
          "height": 34
        }
      },
      "source": [
        "# data_current<-data_current[!(is.infinite(data_current$Completion_Time)),]\n",
        "nrow(data_current)"
      ],
      "execution_count": 85,
      "outputs": [
        {
          "output_type": "display_data",
          "data": {
            "text/plain": [
              "[1] 4798"
            ],
            "text/latex": "4798",
            "text/markdown": "4798",
            "text/html": [
              "4798"
            ]
          },
          "metadata": {
            "tags": []
          }
        }
      ]
    },
    {
      "cell_type": "code",
      "metadata": {
        "id": "FfjQAeOlWPj0"
      },
      "source": [
        "# Statistical ways to identify normality\n",
        "# data_factor_level <-filter(data_current, IV_Surface==current_factor_value)\n",
        "# Transformations\n",
        "# data_factor_level$Completion_Time <- log(data_factor_level$Completion_Time)\n",
        "# data_factor_level$Mode_In_Time <- log(data_factor_level$Mode_In_Time)\n",
        "# data_current$Completion_Time <- log(data_current$Completion_Time)\n",
        "# data_current$Mode_In_Time <- log(data_current$Mode_In_Time)\n",
        "\n",
        "# l = as.list(data_factor_level[\"Execution_Time\"])\n",
        "# n = as.numeric(unlist(l))\n",
        "# nz<-(n-mean(n))/sd(n)\n",
        "# nl <- log(n)\n",
        "# ad.test(nz)\n",
        "# ad.test(data_factor_level$Execution_Time)\n",
        "# shapiro.test(nz)\n",
        "\n",
        "# shapiro.test(data_current$Completion_Time[1:5000])\n",
        "# ad.test(data_current$Completion_Time)\n",
        "# data_current\n",
        "# Visual ways to identify normality\n",
        "# qqnorm(data_current$Completion_Time, pch = 1, frame = FALSE)\n",
        "# qqline(data_current$Completion_Time, col = \"steelblue\", lwd = 1)\n",
        "# hist(data_surface$Execution_Time)"
      ],
      "execution_count": 86,
      "outputs": []
    },
    {
      "cell_type": "code",
      "metadata": {
        "id": "vcFIBpMyWPj0"
      },
      "source": [
        ""
      ],
      "execution_count": 87,
      "outputs": []
    },
    {
      "cell_type": "code",
      "metadata": {
        "id": "OOJZ85PcWPj1"
      },
      "source": [
        "# Statistical ways to identify normality\n",
        "# data_factor_level <-filter(data_clean, IV_Surface==current_factor_value)\n",
        "# Transformations\n",
        "# data_factor_level$Execution_Time <- log(data_factor_level$Execution_Time)\n",
        "# data_factor_level$Mode_In_Time <- log(data_factor_level$Mode_In_Time)\n",
        "# l = as.list(data_factor_level[\"Execution_Time\"])\n",
        "# n = as.numeric(unlist(l))\n",
        "# nz<-(n-mean(n))/sd(n)\n",
        "# nl <- log(n)\n",
        "# ad.test(nz)\n",
        "# ad.test(data_factor_level$Execution_Time)\n",
        "# shapiro.test(nz)\n",
        "\n",
        "# Visual ways to identify normality\n",
        "# qqnorm(data_factor_level$Execution_Time, pch = 1, frame = FALSE)\n",
        "# qqline(data_factor_level$Execution_Time, col = \"steelblue\", lwd = 1)\n",
        "# hist(data_surface$Execution_Time)"
      ],
      "execution_count": 88,
      "outputs": []
    },
    {
      "cell_type": "code",
      "metadata": {
        "id": "Ms4KjzvNWPj1",
        "outputId": "bbabb562-70e2-4baf-f2a8-1aed16a88bcc",
        "colab": {
          "base_uri": "https://localhost:8080/",
          "height": 1000
        }
      },
      "source": [
        "data_current"
      ],
      "execution_count": 89,
      "outputs": [
        {
          "output_type": "display_data",
          "data": {
            "text/plain": [
              "     X     Participant    Block Sequence Sub_Sequence Trial Target_Type\n",
              "1    145   participant_31 1     2         0           145   posture    \n",
              "2    147   participant_31 1     2         1           147   posture    \n",
              "3    149   participant_31 1     2         2           149   posture    \n",
              "4    151   participant_31 1     2         3           151   posture    \n",
              "5    153   participant_31 1     2         4           153   posture    \n",
              "6    155   participant_31 1     2         5           155   posture    \n",
              "7    157   participant_31 1     2         6           157   posture    \n",
              "8    159   participant_31 1     2         7           159   posture    \n",
              "9    161   participant_31 1     2         8           161   posture    \n",
              "10   163   participant_31 1     2         9           163   posture    \n",
              "11   165   participant_31 1     2        10           165   posture    \n",
              "12   167   participant_31 1     2        11           167   posture    \n",
              "13   169   participant_31 1     2        12           169   posture    \n",
              "14   171   participant_31 1     2        13           171   posture    \n",
              "15   173   participant_31 1     2        14           173   posture    \n",
              "16   175   participant_31 1     2        15           175   posture    \n",
              "17   177   participant_31 1     2        16           177   posture    \n",
              "18   181   participant_31 1     2        18           181   posture    \n",
              "19   185   participant_31 1     2        20           185   posture    \n",
              "20   187   participant_31 1     2        21           187   posture    \n",
              "21   189   participant_31 1     2        22           189   posture    \n",
              "22   191   participant_31 1     2        23           191   posture    \n",
              "23   193   participant_31 1     2        24           193   posture    \n",
              "24   197   participant_31 1     2        26           197   posture    \n",
              "25   199   participant_31 1     2        27           199   posture    \n",
              "26   201   participant_31 1     2        28           201   posture    \n",
              "27   203   participant_31 1     2        29           203   posture    \n",
              "28   205   participant_31 1     2        30           205   posture    \n",
              "29   207   participant_31 1     2        31           207   posture    \n",
              "30   209   participant_31 1     2        32           209   posture    \n",
              "⋮    ⋮     ⋮              ⋮     ⋮        ⋮            ⋮     ⋮          \n",
              "4769 14333 participant_36 4     9         2           653   shortcut   \n",
              "4770 14335 participant_36 4     9         3           655   shortcut   \n",
              "4771 14337 participant_36 4     9         4           657   shortcut   \n",
              "4772 14341 participant_36 4     9         6           661   shortcut   \n",
              "4773 14343 participant_36 4     9         7           663   shortcut   \n",
              "4774 14345 participant_36 4     9         8           665   shortcut   \n",
              "4775 14347 participant_36 4     9         9           667   shortcut   \n",
              "4776 14349 participant_36 4     9        10           669   shortcut   \n",
              "4777 14351 participant_36 4     9        11           671   shortcut   \n",
              "4778 14353 participant_36 4     9        12           673   shortcut   \n",
              "4779 14355 participant_36 4     9        13           675   shortcut   \n",
              "4780 14357 participant_36 4     9        14           677   shortcut   \n",
              "4781 14359 participant_36 4     9        15           679   shortcut   \n",
              "4782 14361 participant_36 4     9        16           681   shortcut   \n",
              "4783 14363 participant_36 4     9        17           683   shortcut   \n",
              "4784 14367 participant_36 4     9        19           687   shortcut   \n",
              "4785 14369 participant_36 4     9        20           689   shortcut   \n",
              "4786 14373 participant_36 4     9        22           693   shortcut   \n",
              "4787 14375 participant_36 4     9        23           695   shortcut   \n",
              "4788 14377 participant_36 4     9        24           697   shortcut   \n",
              "4789 14379 participant_36 4     9        25           699   shortcut   \n",
              "4790 14381 participant_36 4     9        26           701   shortcut   \n",
              "4791 14383 participant_36 4     9        27           703   shortcut   \n",
              "4792 14385 participant_36 4     9        28           705   shortcut   \n",
              "4793 14387 participant_36 4     9        29           707   shortcut   \n",
              "4794 14391 participant_36 4     9        31           711   shortcut   \n",
              "4795 14393 participant_36 4     9        32           713   shortcut   \n",
              "4796 14395 participant_36 4     9        33           715   shortcut   \n",
              "4797 14397 participant_36 4     9        34           717   shortcut   \n",
              "4798 14399 participant_36 4     9        35           719   shortcut   \n",
              "     Target_Name            Start_Time   End_Time     ⋯ Completion_Time\n",
              "1    Left_Close_0_On        1.567119e+12 1.567119e+12 ⋯ 1378           \n",
              "2    Left_Close_0_Below     1.567119e+12 1.567119e+12 ⋯ 2042           \n",
              "3    Left_Close_0_Beside    1.567119e+12 1.567119e+12 ⋯ 1275           \n",
              "4    Left_Close_90_On       1.567119e+12 1.567119e+12 ⋯ 1013           \n",
              "5    Left_Close_90_Below    1.567119e+12 1.567119e+12 ⋯ 1012           \n",
              "6    Left_Close_90_Beside   1.567119e+12 1.567119e+12 ⋯ 1243           \n",
              "7    Left_Close_180_On      1.567119e+12 1.567119e+12 ⋯ 1414           \n",
              "8    Left_Close_180_Below   1.567119e+12 1.567119e+12 ⋯ 1178           \n",
              "9    Left_Close_180_Beside  1.567119e+12 1.567119e+12 ⋯ 1615           \n",
              "10   Left_Open_0_On         1.567119e+12 1.567119e+12 ⋯ 1111           \n",
              "11   Left_Open_0_Below      1.567119e+12 1.567119e+12 ⋯ 1218           \n",
              "12   Left_Open_0_Beside     1.567119e+12 1.567119e+12 ⋯ 1245           \n",
              "13   Left_Open_90_On        1.567119e+12 1.567119e+12 ⋯ 1327           \n",
              "14   Left_Open_90_Below     1.567119e+12 1.567119e+12 ⋯  977           \n",
              "15   Left_Open_90_Beside    1.567119e+12 1.567119e+12 ⋯ 1216           \n",
              "16   Left_Open_180_On       1.567119e+12 1.567119e+12 ⋯ 1275           \n",
              "17   Left_Open_180_Below    1.567119e+12 1.567119e+12 ⋯ 1113           \n",
              "18   Right_Close_0_On       1.567119e+12 1.567119e+12 ⋯ 1277           \n",
              "19   Right_Close_0_Beside   1.567119e+12 1.567119e+12 ⋯ 1275           \n",
              "20   Right_Close_90_On      1.567119e+12 1.567119e+12 ⋯ 1077           \n",
              "21   Right_Close_90_Below   1.567119e+12 1.567119e+12 ⋯ 1143           \n",
              "22   Right_Close_90_Beside  1.567119e+12 1.567119e+12 ⋯ 1011           \n",
              "23   Right_Close_180_On     1.567119e+12 1.567119e+12 ⋯ 1347           \n",
              "24   Right_Close_180_Beside 1.567119e+12 1.567119e+12 ⋯ 1178           \n",
              "25   Right_Open_0_On        1.567119e+12 1.567119e+12 ⋯ 1209           \n",
              "26   Right_Open_0_Below     1.567119e+12 1.567119e+12 ⋯ 1176           \n",
              "27   Right_Open_0_Beside    1.567119e+12 1.567119e+12 ⋯ 1145           \n",
              "28   Right_Open_90_On       1.567119e+12 1.567119e+12 ⋯ 1008           \n",
              "29   Right_Open_90_Below    1.567119e+12 1.567119e+12 ⋯ 1075           \n",
              "30   Right_Open_90_Beside   1.567119e+12 1.567119e+12 ⋯ 1876           \n",
              "⋮    ⋮                      ⋮            ⋮            ⋱ ⋮              \n",
              "4769 D                      1.567546e+12 1.567546e+12 ⋯ 1364           \n",
              "4770 A                      1.567546e+12 1.567546e+12 ⋯ 1468           \n",
              "4771 M                      1.567546e+12 1.567546e+12 ⋯ 1401           \n",
              "4772 B                      1.567546e+12 1.567546e+12 ⋯ 1533           \n",
              "4773 O                      1.567546e+12 1.567546e+12 ⋯ 1466           \n",
              "4774 O                      1.567546e+12 1.567546e+12 ⋯ 1501           \n",
              "4775 Y                      1.567546e+12 1.567546e+12 ⋯ 1264           \n",
              "4776 Y                      1.567546e+12 1.567546e+12 ⋯ 1568           \n",
              "4777 T                      1.567546e+12 1.567546e+12 ⋯ 1597           \n",
              "4778 Z                      1.567546e+12 1.567546e+12 ⋯ 1697           \n",
              "4779 down                   1.567546e+12 1.567546e+12 ⋯ 1134           \n",
              "4780 down                   1.567546e+12 1.567546e+12 ⋯ 1434           \n",
              "4781 H                      1.567546e+12 1.567546e+12 ⋯ 1097           \n",
              "4782 O                      1.567546e+12 1.567546e+12 ⋯ 1533           \n",
              "4783 L                      1.567546e+12 1.567546e+12 ⋯ 1771           \n",
              "4784 down                   1.567546e+12 1.567546e+12 ⋯ 1365           \n",
              "4785 A                      1.567546e+12 1.567546e+12 ⋯ 1500           \n",
              "4786 P                      1.567546e+12 1.567546e+12 ⋯ 1901           \n",
              "4787 V                      1.567546e+12 1.567546e+12 ⋯ 1199           \n",
              "4788 K                      1.567546e+12 1.567546e+12 ⋯ 1431           \n",
              "4789 C                      1.567546e+12 1.567546e+12 ⋯ 1300           \n",
              "4790 R                      1.567546e+12 1.567546e+12 ⋯ 1763           \n",
              "4791 O                      1.567546e+12 1.567546e+12 ⋯ 1199           \n",
              "4792 H                      1.567546e+12 1.567546e+12 ⋯ 1299           \n",
              "4793 H                      1.567546e+12 1.567546e+12 ⋯ 1133           \n",
              "4794 up                     1.567546e+12 1.567546e+12 ⋯ 2038           \n",
              "4795 M                      1.567546e+12 1.567546e+12 ⋯ 1367           \n",
              "4796 E                      1.567546e+12 1.567546e+12 ⋯ 2066           \n",
              "4797 up                     1.567546e+12 1.567546e+12 ⋯ 1164           \n",
              "4798 E                      1.567546e+12 1.567546e+12 ⋯ 1436           \n",
              "     Reference_Action_Count Incorrect_Action_Count Error IV_Surface\n",
              "1    33                      0                     False On        \n",
              "2    19                      8                     False Below     \n",
              "3    28                      0                     False Beside    \n",
              "4    24                      4                     False On        \n",
              "5    20                      1                     False Below     \n",
              "6    28                      0                     False Beside    \n",
              "7    19                     13                     False On        \n",
              "8    25                      8                     False Below     \n",
              "9    25                      4                     False Beside    \n",
              "10   29                      0                     False On        \n",
              "11   28                      3                     False Below     \n",
              "12   23                      0                     False Beside    \n",
              "13   18                      4                     False On        \n",
              "14   21                      4                     False Below     \n",
              "15   22                      8                     False Beside    \n",
              "16   24                      0                     False On        \n",
              "17   19                      5                     False Below     \n",
              "18   30                      4                     False On        \n",
              "19   24                      3                     False Beside    \n",
              "20   26                      4                     False On        \n",
              "21   24                      0                     False Below     \n",
              "22   23                      4                     False Beside    \n",
              "23   25                      8                     False On        \n",
              "24   22                      8                     False Beside    \n",
              "25   16                      0                     False On        \n",
              "26   30                      0                     False Below     \n",
              "27   14                     12                     False Beside    \n",
              "28   23                      4                     False On        \n",
              "29   19                      8                     False Below     \n",
              "30   20                      4                     False Beside    \n",
              "⋮    ⋮                      ⋮                      ⋮     ⋮         \n",
              "4769 0                      0                      False shortcut  \n",
              "4770 0                      0                      False shortcut  \n",
              "4771 0                      0                      False shortcut  \n",
              "4772 0                      0                      False shortcut  \n",
              "4773 0                      0                      False shortcut  \n",
              "4774 0                      0                      False shortcut  \n",
              "4775 0                      0                      False shortcut  \n",
              "4776 0                      0                      False shortcut  \n",
              "4777 0                      0                      False shortcut  \n",
              "4778 0                      0                      False shortcut  \n",
              "4779 0                      0                      False shortcut  \n",
              "4780 0                      0                      False shortcut  \n",
              "4781 0                      0                      False shortcut  \n",
              "4782 0                      0                      False shortcut  \n",
              "4783 0                      0                      False shortcut  \n",
              "4784 0                      0                      False shortcut  \n",
              "4785 0                      0                      False shortcut  \n",
              "4786 0                      0                      False shortcut  \n",
              "4787 0                      0                      False shortcut  \n",
              "4788 0                      0                      False shortcut  \n",
              "4789 0                      0                      False shortcut  \n",
              "4790 0                      0                      False shortcut  \n",
              "4791 0                      0                      False shortcut  \n",
              "4792 0                      0                      False shortcut  \n",
              "4793 0                      0                      False shortcut  \n",
              "4794 0                      0                      False shortcut  \n",
              "4795 0                      0                      False shortcut  \n",
              "4796 0                      0                      False shortcut  \n",
              "4797 0                      0                      False shortcut  \n",
              "4798 0                      0                      False shortcut  \n",
              "     IV_Orientation IV_Form  IV_Hand      Previous_Reference_Task\n",
              "1    0              Close    Non Dominant click                  \n",
              "2    0              Close    Non Dominant word                   \n",
              "3    0              Close    Non Dominant click                  \n",
              "4    90             Close    Non Dominant word                   \n",
              "5    90             Close    Non Dominant word                   \n",
              "6    90             Close    Non Dominant click                  \n",
              "7    180            Close    Non Dominant word                   \n",
              "8    180            Close    Non Dominant click                  \n",
              "9    180            Close    Non Dominant click                  \n",
              "10   0              Open     Non Dominant word                   \n",
              "11   0              Open     Non Dominant word                   \n",
              "12   0              Open     Non Dominant click                  \n",
              "13   90             Open     Non Dominant word                   \n",
              "14   90             Open     Non Dominant click                  \n",
              "15   90             Open     Non Dominant word                   \n",
              "16   180            Open     Non Dominant click                  \n",
              "17   180            Open     Non Dominant word                   \n",
              "18   0              Close    Dominant     click                  \n",
              "19   0              Close    Dominant     word                   \n",
              "20   90             Close    Dominant     click                  \n",
              "21   90             Close    Dominant     word                   \n",
              "22   90             Close    Dominant     click                  \n",
              "23   180            Close    Dominant     click                  \n",
              "24   180            Close    Dominant     word                   \n",
              "25   0              Open     Dominant     click                  \n",
              "26   0              Open     Dominant     word                   \n",
              "27   0              Open     Dominant     word                   \n",
              "28   90             Open     Dominant     click                  \n",
              "29   90             Open     Dominant     word                   \n",
              "30   90             Open     Dominant     word                   \n",
              "⋮    ⋮              ⋮        ⋮            ⋮                      \n",
              "4769 shortcut       shortcut shortcut     click                  \n",
              "4770 shortcut       shortcut shortcut     word                   \n",
              "4771 shortcut       shortcut shortcut     word                   \n",
              "4772 shortcut       shortcut shortcut     word                   \n",
              "4773 shortcut       shortcut shortcut     click                  \n",
              "4774 shortcut       shortcut shortcut     click                  \n",
              "4775 shortcut       shortcut shortcut     word                   \n",
              "4776 shortcut       shortcut shortcut     word                   \n",
              "4777 shortcut       shortcut shortcut     click                  \n",
              "4778 shortcut       shortcut shortcut     word                   \n",
              "4779 shortcut       shortcut shortcut     click                  \n",
              "4780 shortcut       shortcut shortcut     word                   \n",
              "4781 shortcut       shortcut shortcut     click                  \n",
              "4782 shortcut       shortcut shortcut     word                   \n",
              "4783 shortcut       shortcut shortcut     word                   \n",
              "4784 shortcut       shortcut shortcut     click                  \n",
              "4785 shortcut       shortcut shortcut     word                   \n",
              "4786 shortcut       shortcut shortcut     word                   \n",
              "4787 shortcut       shortcut shortcut     click                  \n",
              "4788 shortcut       shortcut shortcut     click                  \n",
              "4789 shortcut       shortcut shortcut     click                  \n",
              "4790 shortcut       shortcut shortcut     word                   \n",
              "4791 shortcut       shortcut shortcut     click                  \n",
              "4792 shortcut       shortcut shortcut     word                   \n",
              "4793 shortcut       shortcut shortcut     word                   \n",
              "4794 shortcut       shortcut shortcut     word                   \n",
              "4795 shortcut       shortcut shortcut     word                   \n",
              "4796 shortcut       shortcut shortcut     click                  \n",
              "4797 shortcut       shortcut shortcut     word                   \n",
              "4798 shortcut       shortcut shortcut     click                  \n",
              "     Next_Reference_Task\n",
              "1    word               \n",
              "2    click              \n",
              "3    word               \n",
              "4    word               \n",
              "5    click              \n",
              "6    word               \n",
              "7    click              \n",
              "8    click              \n",
              "9    word               \n",
              "10   word               \n",
              "11   click              \n",
              "12   word               \n",
              "13   click              \n",
              "14   word               \n",
              "15   click              \n",
              "16   word               \n",
              "17   word               \n",
              "18   click              \n",
              "19   click              \n",
              "20   word               \n",
              "21   click              \n",
              "22   click              \n",
              "23   click              \n",
              "24   click              \n",
              "25   word               \n",
              "26   word               \n",
              "27   click              \n",
              "28   word               \n",
              "29   word               \n",
              "30   click              \n",
              "⋮    ⋮                  \n",
              "4769 word               \n",
              "4770 word               \n",
              "4771 click              \n",
              "4772 click              \n",
              "4773 click              \n",
              "4774 word               \n",
              "4775 word               \n",
              "4776 click              \n",
              "4777 word               \n",
              "4778 click              \n",
              "4779 word               \n",
              "4780 click              \n",
              "4781 word               \n",
              "4782 word               \n",
              "4783 click              \n",
              "4784 word               \n",
              "4785 click              \n",
              "4786 click              \n",
              "4787 click              \n",
              "4788 click              \n",
              "4789 word               \n",
              "4790 click              \n",
              "4791 word               \n",
              "4792 word               \n",
              "4793 click              \n",
              "4794 word               \n",
              "4795 click              \n",
              "4796 word               \n",
              "4797 click              \n",
              "4798 NA                 "
            ],
            "text/latex": "A data.frame: 4798 × 24\n\\begin{tabular}{lllllllllllllllllllll}\n X & Participant & Block & Sequence & Sub\\_Sequence & Trial & Target\\_Type & Target\\_Name & Start\\_Time & End\\_Time & ⋯ & Completion\\_Time & Reference\\_Action\\_Count & Incorrect\\_Action\\_Count & Error & IV\\_Surface & IV\\_Orientation & IV\\_Form & IV\\_Hand & Previous\\_Reference\\_Task & Next\\_Reference\\_Task\\\\\n <int> & <chr> & <int> & <int> & <int> & <int> & <chr> & <chr> & <dbl> & <dbl> & ⋯ & <int> & <int> & <int> & <chr> & <chr> & <chr> & <chr> & <chr> & <chr> & <chr>\\\\\n\\hline\n\t 145 & participant\\_31 & 1 & 2 &  0 & 145 & posture & Left\\_Close\\_0\\_On        & 1.567119e+12 & 1.567119e+12 & ⋯ & 1378 & 33 &  0 & False & On     & 0   & Close & Non Dominant & click & word \\\\\n\t 147 & participant\\_31 & 1 & 2 &  1 & 147 & posture & Left\\_Close\\_0\\_Below     & 1.567119e+12 & 1.567119e+12 & ⋯ & 2042 & 19 &  8 & False & Below  & 0   & Close & Non Dominant & word  & click\\\\\n\t 149 & participant\\_31 & 1 & 2 &  2 & 149 & posture & Left\\_Close\\_0\\_Beside    & 1.567119e+12 & 1.567119e+12 & ⋯ & 1275 & 28 &  0 & False & Beside & 0   & Close & Non Dominant & click & word \\\\\n\t 151 & participant\\_31 & 1 & 2 &  3 & 151 & posture & Left\\_Close\\_90\\_On       & 1.567119e+12 & 1.567119e+12 & ⋯ & 1013 & 24 &  4 & False & On     & 90  & Close & Non Dominant & word  & word \\\\\n\t 153 & participant\\_31 & 1 & 2 &  4 & 153 & posture & Left\\_Close\\_90\\_Below    & 1.567119e+12 & 1.567119e+12 & ⋯ & 1012 & 20 &  1 & False & Below  & 90  & Close & Non Dominant & word  & click\\\\\n\t 155 & participant\\_31 & 1 & 2 &  5 & 155 & posture & Left\\_Close\\_90\\_Beside   & 1.567119e+12 & 1.567119e+12 & ⋯ & 1243 & 28 &  0 & False & Beside & 90  & Close & Non Dominant & click & word \\\\\n\t 157 & participant\\_31 & 1 & 2 &  6 & 157 & posture & Left\\_Close\\_180\\_On      & 1.567119e+12 & 1.567119e+12 & ⋯ & 1414 & 19 & 13 & False & On     & 180 & Close & Non Dominant & word  & click\\\\\n\t 159 & participant\\_31 & 1 & 2 &  7 & 159 & posture & Left\\_Close\\_180\\_Below   & 1.567119e+12 & 1.567119e+12 & ⋯ & 1178 & 25 &  8 & False & Below  & 180 & Close & Non Dominant & click & click\\\\\n\t 161 & participant\\_31 & 1 & 2 &  8 & 161 & posture & Left\\_Close\\_180\\_Beside  & 1.567119e+12 & 1.567119e+12 & ⋯ & 1615 & 25 &  4 & False & Beside & 180 & Close & Non Dominant & click & word \\\\\n\t 163 & participant\\_31 & 1 & 2 &  9 & 163 & posture & Left\\_Open\\_0\\_On         & 1.567119e+12 & 1.567119e+12 & ⋯ & 1111 & 29 &  0 & False & On     & 0   & Open  & Non Dominant & word  & word \\\\\n\t 165 & participant\\_31 & 1 & 2 & 10 & 165 & posture & Left\\_Open\\_0\\_Below      & 1.567119e+12 & 1.567119e+12 & ⋯ & 1218 & 28 &  3 & False & Below  & 0   & Open  & Non Dominant & word  & click\\\\\n\t 167 & participant\\_31 & 1 & 2 & 11 & 167 & posture & Left\\_Open\\_0\\_Beside     & 1.567119e+12 & 1.567119e+12 & ⋯ & 1245 & 23 &  0 & False & Beside & 0   & Open  & Non Dominant & click & word \\\\\n\t 169 & participant\\_31 & 1 & 2 & 12 & 169 & posture & Left\\_Open\\_90\\_On        & 1.567119e+12 & 1.567119e+12 & ⋯ & 1327 & 18 &  4 & False & On     & 90  & Open  & Non Dominant & word  & click\\\\\n\t 171 & participant\\_31 & 1 & 2 & 13 & 171 & posture & Left\\_Open\\_90\\_Below     & 1.567119e+12 & 1.567119e+12 & ⋯ &  977 & 21 &  4 & False & Below  & 90  & Open  & Non Dominant & click & word \\\\\n\t 173 & participant\\_31 & 1 & 2 & 14 & 173 & posture & Left\\_Open\\_90\\_Beside    & 1.567119e+12 & 1.567119e+12 & ⋯ & 1216 & 22 &  8 & False & Beside & 90  & Open  & Non Dominant & word  & click\\\\\n\t 175 & participant\\_31 & 1 & 2 & 15 & 175 & posture & Left\\_Open\\_180\\_On       & 1.567119e+12 & 1.567119e+12 & ⋯ & 1275 & 24 &  0 & False & On     & 180 & Open  & Non Dominant & click & word \\\\\n\t 177 & participant\\_31 & 1 & 2 & 16 & 177 & posture & Left\\_Open\\_180\\_Below    & 1.567119e+12 & 1.567119e+12 & ⋯ & 1113 & 19 &  5 & False & Below  & 180 & Open  & Non Dominant & word  & word \\\\\n\t 181 & participant\\_31 & 1 & 2 & 18 & 181 & posture & Right\\_Close\\_0\\_On       & 1.567119e+12 & 1.567119e+12 & ⋯ & 1277 & 30 &  4 & False & On     & 0   & Close & Dominant     & click & click\\\\\n\t 185 & participant\\_31 & 1 & 2 & 20 & 185 & posture & Right\\_Close\\_0\\_Beside   & 1.567119e+12 & 1.567119e+12 & ⋯ & 1275 & 24 &  3 & False & Beside & 0   & Close & Dominant     & word  & click\\\\\n\t 187 & participant\\_31 & 1 & 2 & 21 & 187 & posture & Right\\_Close\\_90\\_On      & 1.567119e+12 & 1.567119e+12 & ⋯ & 1077 & 26 &  4 & False & On     & 90  & Close & Dominant     & click & word \\\\\n\t 189 & participant\\_31 & 1 & 2 & 22 & 189 & posture & Right\\_Close\\_90\\_Below   & 1.567119e+12 & 1.567119e+12 & ⋯ & 1143 & 24 &  0 & False & Below  & 90  & Close & Dominant     & word  & click\\\\\n\t 191 & participant\\_31 & 1 & 2 & 23 & 191 & posture & Right\\_Close\\_90\\_Beside  & 1.567119e+12 & 1.567119e+12 & ⋯ & 1011 & 23 &  4 & False & Beside & 90  & Close & Dominant     & click & click\\\\\n\t 193 & participant\\_31 & 1 & 2 & 24 & 193 & posture & Right\\_Close\\_180\\_On     & 1.567119e+12 & 1.567119e+12 & ⋯ & 1347 & 25 &  8 & False & On     & 180 & Close & Dominant     & click & click\\\\\n\t 197 & participant\\_31 & 1 & 2 & 26 & 197 & posture & Right\\_Close\\_180\\_Beside & 1.567119e+12 & 1.567119e+12 & ⋯ & 1178 & 22 &  8 & False & Beside & 180 & Close & Dominant     & word  & click\\\\\n\t 199 & participant\\_31 & 1 & 2 & 27 & 199 & posture & Right\\_Open\\_0\\_On        & 1.567119e+12 & 1.567119e+12 & ⋯ & 1209 & 16 &  0 & False & On     & 0   & Open  & Dominant     & click & word \\\\\n\t 201 & participant\\_31 & 1 & 2 & 28 & 201 & posture & Right\\_Open\\_0\\_Below     & 1.567119e+12 & 1.567119e+12 & ⋯ & 1176 & 30 &  0 & False & Below  & 0   & Open  & Dominant     & word  & word \\\\\n\t 203 & participant\\_31 & 1 & 2 & 29 & 203 & posture & Right\\_Open\\_0\\_Beside    & 1.567119e+12 & 1.567119e+12 & ⋯ & 1145 & 14 & 12 & False & Beside & 0   & Open  & Dominant     & word  & click\\\\\n\t 205 & participant\\_31 & 1 & 2 & 30 & 205 & posture & Right\\_Open\\_90\\_On       & 1.567119e+12 & 1.567119e+12 & ⋯ & 1008 & 23 &  4 & False & On     & 90  & Open  & Dominant     & click & word \\\\\n\t 207 & participant\\_31 & 1 & 2 & 31 & 207 & posture & Right\\_Open\\_90\\_Below    & 1.567119e+12 & 1.567119e+12 & ⋯ & 1075 & 19 &  8 & False & Below  & 90  & Open  & Dominant     & word  & word \\\\\n\t 209 & participant\\_31 & 1 & 2 & 32 & 209 & posture & Right\\_Open\\_90\\_Beside   & 1.567119e+12 & 1.567119e+12 & ⋯ & 1876 & 20 &  4 & False & Beside & 90  & Open  & Dominant     & word  & click\\\\\n\t ⋮ & ⋮ & ⋮ & ⋮ & ⋮ & ⋮ & ⋮ & ⋮ & ⋮ & ⋮ & ⋱ & ⋮ & ⋮ & ⋮ & ⋮ & ⋮ & ⋮ & ⋮ & ⋮ & ⋮ & ⋮\\\\\n\t 14333 & participant\\_36 & 4 & 9 &  2 & 653 & shortcut & D    & 1.567546e+12 & 1.567546e+12 & ⋯ & 1364 & 0 & 0 & False & shortcut & shortcut & shortcut & shortcut & click & word \\\\\n\t 14335 & participant\\_36 & 4 & 9 &  3 & 655 & shortcut & A    & 1.567546e+12 & 1.567546e+12 & ⋯ & 1468 & 0 & 0 & False & shortcut & shortcut & shortcut & shortcut & word  & word \\\\\n\t 14337 & participant\\_36 & 4 & 9 &  4 & 657 & shortcut & M    & 1.567546e+12 & 1.567546e+12 & ⋯ & 1401 & 0 & 0 & False & shortcut & shortcut & shortcut & shortcut & word  & click\\\\\n\t 14341 & participant\\_36 & 4 & 9 &  6 & 661 & shortcut & B    & 1.567546e+12 & 1.567546e+12 & ⋯ & 1533 & 0 & 0 & False & shortcut & shortcut & shortcut & shortcut & word  & click\\\\\n\t 14343 & participant\\_36 & 4 & 9 &  7 & 663 & shortcut & O    & 1.567546e+12 & 1.567546e+12 & ⋯ & 1466 & 0 & 0 & False & shortcut & shortcut & shortcut & shortcut & click & click\\\\\n\t 14345 & participant\\_36 & 4 & 9 &  8 & 665 & shortcut & O    & 1.567546e+12 & 1.567546e+12 & ⋯ & 1501 & 0 & 0 & False & shortcut & shortcut & shortcut & shortcut & click & word \\\\\n\t 14347 & participant\\_36 & 4 & 9 &  9 & 667 & shortcut & Y    & 1.567546e+12 & 1.567546e+12 & ⋯ & 1264 & 0 & 0 & False & shortcut & shortcut & shortcut & shortcut & word  & word \\\\\n\t 14349 & participant\\_36 & 4 & 9 & 10 & 669 & shortcut & Y    & 1.567546e+12 & 1.567546e+12 & ⋯ & 1568 & 0 & 0 & False & shortcut & shortcut & shortcut & shortcut & word  & click\\\\\n\t 14351 & participant\\_36 & 4 & 9 & 11 & 671 & shortcut & T    & 1.567546e+12 & 1.567546e+12 & ⋯ & 1597 & 0 & 0 & False & shortcut & shortcut & shortcut & shortcut & click & word \\\\\n\t 14353 & participant\\_36 & 4 & 9 & 12 & 673 & shortcut & Z    & 1.567546e+12 & 1.567546e+12 & ⋯ & 1697 & 0 & 0 & False & shortcut & shortcut & shortcut & shortcut & word  & click\\\\\n\t 14355 & participant\\_36 & 4 & 9 & 13 & 675 & shortcut & down & 1.567546e+12 & 1.567546e+12 & ⋯ & 1134 & 0 & 0 & False & shortcut & shortcut & shortcut & shortcut & click & word \\\\\n\t 14357 & participant\\_36 & 4 & 9 & 14 & 677 & shortcut & down & 1.567546e+12 & 1.567546e+12 & ⋯ & 1434 & 0 & 0 & False & shortcut & shortcut & shortcut & shortcut & word  & click\\\\\n\t 14359 & participant\\_36 & 4 & 9 & 15 & 679 & shortcut & H    & 1.567546e+12 & 1.567546e+12 & ⋯ & 1097 & 0 & 0 & False & shortcut & shortcut & shortcut & shortcut & click & word \\\\\n\t 14361 & participant\\_36 & 4 & 9 & 16 & 681 & shortcut & O    & 1.567546e+12 & 1.567546e+12 & ⋯ & 1533 & 0 & 0 & False & shortcut & shortcut & shortcut & shortcut & word  & word \\\\\n\t 14363 & participant\\_36 & 4 & 9 & 17 & 683 & shortcut & L    & 1.567546e+12 & 1.567546e+12 & ⋯ & 1771 & 0 & 0 & False & shortcut & shortcut & shortcut & shortcut & word  & click\\\\\n\t 14367 & participant\\_36 & 4 & 9 & 19 & 687 & shortcut & down & 1.567546e+12 & 1.567546e+12 & ⋯ & 1365 & 0 & 0 & False & shortcut & shortcut & shortcut & shortcut & click & word \\\\\n\t 14369 & participant\\_36 & 4 & 9 & 20 & 689 & shortcut & A    & 1.567546e+12 & 1.567546e+12 & ⋯ & 1500 & 0 & 0 & False & shortcut & shortcut & shortcut & shortcut & word  & click\\\\\n\t 14373 & participant\\_36 & 4 & 9 & 22 & 693 & shortcut & P    & 1.567546e+12 & 1.567546e+12 & ⋯ & 1901 & 0 & 0 & False & shortcut & shortcut & shortcut & shortcut & word  & click\\\\\n\t 14375 & participant\\_36 & 4 & 9 & 23 & 695 & shortcut & V    & 1.567546e+12 & 1.567546e+12 & ⋯ & 1199 & 0 & 0 & False & shortcut & shortcut & shortcut & shortcut & click & click\\\\\n\t 14377 & participant\\_36 & 4 & 9 & 24 & 697 & shortcut & K    & 1.567546e+12 & 1.567546e+12 & ⋯ & 1431 & 0 & 0 & False & shortcut & shortcut & shortcut & shortcut & click & click\\\\\n\t 14379 & participant\\_36 & 4 & 9 & 25 & 699 & shortcut & C    & 1.567546e+12 & 1.567546e+12 & ⋯ & 1300 & 0 & 0 & False & shortcut & shortcut & shortcut & shortcut & click & word \\\\\n\t 14381 & participant\\_36 & 4 & 9 & 26 & 701 & shortcut & R    & 1.567546e+12 & 1.567546e+12 & ⋯ & 1763 & 0 & 0 & False & shortcut & shortcut & shortcut & shortcut & word  & click\\\\\n\t 14383 & participant\\_36 & 4 & 9 & 27 & 703 & shortcut & O    & 1.567546e+12 & 1.567546e+12 & ⋯ & 1199 & 0 & 0 & False & shortcut & shortcut & shortcut & shortcut & click & word \\\\\n\t 14385 & participant\\_36 & 4 & 9 & 28 & 705 & shortcut & H    & 1.567546e+12 & 1.567546e+12 & ⋯ & 1299 & 0 & 0 & False & shortcut & shortcut & shortcut & shortcut & word  & word \\\\\n\t 14387 & participant\\_36 & 4 & 9 & 29 & 707 & shortcut & H    & 1.567546e+12 & 1.567546e+12 & ⋯ & 1133 & 0 & 0 & False & shortcut & shortcut & shortcut & shortcut & word  & click\\\\\n\t 14391 & participant\\_36 & 4 & 9 & 31 & 711 & shortcut & up   & 1.567546e+12 & 1.567546e+12 & ⋯ & 2038 & 0 & 0 & False & shortcut & shortcut & shortcut & shortcut & word  & word \\\\\n\t 14393 & participant\\_36 & 4 & 9 & 32 & 713 & shortcut & M    & 1.567546e+12 & 1.567546e+12 & ⋯ & 1367 & 0 & 0 & False & shortcut & shortcut & shortcut & shortcut & word  & click\\\\\n\t 14395 & participant\\_36 & 4 & 9 & 33 & 715 & shortcut & E    & 1.567546e+12 & 1.567546e+12 & ⋯ & 2066 & 0 & 0 & False & shortcut & shortcut & shortcut & shortcut & click & word \\\\\n\t 14397 & participant\\_36 & 4 & 9 & 34 & 717 & shortcut & up   & 1.567546e+12 & 1.567546e+12 & ⋯ & 1164 & 0 & 0 & False & shortcut & shortcut & shortcut & shortcut & word  & click\\\\\n\t 14399 & participant\\_36 & 4 & 9 & 35 & 719 & shortcut & E    & 1.567546e+12 & 1.567546e+12 & ⋯ & 1436 & 0 & 0 & False & shortcut & shortcut & shortcut & shortcut & click & NA   \\\\\n\\end{tabular}\n",
            "text/markdown": "\nA data.frame: 4798 × 24\n\n| X &lt;int&gt; | Participant &lt;chr&gt; | Block &lt;int&gt; | Sequence &lt;int&gt; | Sub_Sequence &lt;int&gt; | Trial &lt;int&gt; | Target_Type &lt;chr&gt; | Target_Name &lt;chr&gt; | Start_Time &lt;dbl&gt; | End_Time &lt;dbl&gt; | ⋯ ⋯ | Completion_Time &lt;int&gt; | Reference_Action_Count &lt;int&gt; | Incorrect_Action_Count &lt;int&gt; | Error &lt;chr&gt; | IV_Surface &lt;chr&gt; | IV_Orientation &lt;chr&gt; | IV_Form &lt;chr&gt; | IV_Hand &lt;chr&gt; | Previous_Reference_Task &lt;chr&gt; | Next_Reference_Task &lt;chr&gt; |\n|---|---|---|---|---|---|---|---|---|---|---|---|---|---|---|---|---|---|---|---|---|\n| 145 | participant_31 | 1 | 2 |  0 | 145 | posture | Left_Close_0_On        | 1.567119e+12 | 1.567119e+12 | ⋯ | 1378 | 33 |  0 | False | On     | 0   | Close | Non Dominant | click | word  |\n| 147 | participant_31 | 1 | 2 |  1 | 147 | posture | Left_Close_0_Below     | 1.567119e+12 | 1.567119e+12 | ⋯ | 2042 | 19 |  8 | False | Below  | 0   | Close | Non Dominant | word  | click |\n| 149 | participant_31 | 1 | 2 |  2 | 149 | posture | Left_Close_0_Beside    | 1.567119e+12 | 1.567119e+12 | ⋯ | 1275 | 28 |  0 | False | Beside | 0   | Close | Non Dominant | click | word  |\n| 151 | participant_31 | 1 | 2 |  3 | 151 | posture | Left_Close_90_On       | 1.567119e+12 | 1.567119e+12 | ⋯ | 1013 | 24 |  4 | False | On     | 90  | Close | Non Dominant | word  | word  |\n| 153 | participant_31 | 1 | 2 |  4 | 153 | posture | Left_Close_90_Below    | 1.567119e+12 | 1.567119e+12 | ⋯ | 1012 | 20 |  1 | False | Below  | 90  | Close | Non Dominant | word  | click |\n| 155 | participant_31 | 1 | 2 |  5 | 155 | posture | Left_Close_90_Beside   | 1.567119e+12 | 1.567119e+12 | ⋯ | 1243 | 28 |  0 | False | Beside | 90  | Close | Non Dominant | click | word  |\n| 157 | participant_31 | 1 | 2 |  6 | 157 | posture | Left_Close_180_On      | 1.567119e+12 | 1.567119e+12 | ⋯ | 1414 | 19 | 13 | False | On     | 180 | Close | Non Dominant | word  | click |\n| 159 | participant_31 | 1 | 2 |  7 | 159 | posture | Left_Close_180_Below   | 1.567119e+12 | 1.567119e+12 | ⋯ | 1178 | 25 |  8 | False | Below  | 180 | Close | Non Dominant | click | click |\n| 161 | participant_31 | 1 | 2 |  8 | 161 | posture | Left_Close_180_Beside  | 1.567119e+12 | 1.567119e+12 | ⋯ | 1615 | 25 |  4 | False | Beside | 180 | Close | Non Dominant | click | word  |\n| 163 | participant_31 | 1 | 2 |  9 | 163 | posture | Left_Open_0_On         | 1.567119e+12 | 1.567119e+12 | ⋯ | 1111 | 29 |  0 | False | On     | 0   | Open  | Non Dominant | word  | word  |\n| 165 | participant_31 | 1 | 2 | 10 | 165 | posture | Left_Open_0_Below      | 1.567119e+12 | 1.567119e+12 | ⋯ | 1218 | 28 |  3 | False | Below  | 0   | Open  | Non Dominant | word  | click |\n| 167 | participant_31 | 1 | 2 | 11 | 167 | posture | Left_Open_0_Beside     | 1.567119e+12 | 1.567119e+12 | ⋯ | 1245 | 23 |  0 | False | Beside | 0   | Open  | Non Dominant | click | word  |\n| 169 | participant_31 | 1 | 2 | 12 | 169 | posture | Left_Open_90_On        | 1.567119e+12 | 1.567119e+12 | ⋯ | 1327 | 18 |  4 | False | On     | 90  | Open  | Non Dominant | word  | click |\n| 171 | participant_31 | 1 | 2 | 13 | 171 | posture | Left_Open_90_Below     | 1.567119e+12 | 1.567119e+12 | ⋯ |  977 | 21 |  4 | False | Below  | 90  | Open  | Non Dominant | click | word  |\n| 173 | participant_31 | 1 | 2 | 14 | 173 | posture | Left_Open_90_Beside    | 1.567119e+12 | 1.567119e+12 | ⋯ | 1216 | 22 |  8 | False | Beside | 90  | Open  | Non Dominant | word  | click |\n| 175 | participant_31 | 1 | 2 | 15 | 175 | posture | Left_Open_180_On       | 1.567119e+12 | 1.567119e+12 | ⋯ | 1275 | 24 |  0 | False | On     | 180 | Open  | Non Dominant | click | word  |\n| 177 | participant_31 | 1 | 2 | 16 | 177 | posture | Left_Open_180_Below    | 1.567119e+12 | 1.567119e+12 | ⋯ | 1113 | 19 |  5 | False | Below  | 180 | Open  | Non Dominant | word  | word  |\n| 181 | participant_31 | 1 | 2 | 18 | 181 | posture | Right_Close_0_On       | 1.567119e+12 | 1.567119e+12 | ⋯ | 1277 | 30 |  4 | False | On     | 0   | Close | Dominant     | click | click |\n| 185 | participant_31 | 1 | 2 | 20 | 185 | posture | Right_Close_0_Beside   | 1.567119e+12 | 1.567119e+12 | ⋯ | 1275 | 24 |  3 | False | Beside | 0   | Close | Dominant     | word  | click |\n| 187 | participant_31 | 1 | 2 | 21 | 187 | posture | Right_Close_90_On      | 1.567119e+12 | 1.567119e+12 | ⋯ | 1077 | 26 |  4 | False | On     | 90  | Close | Dominant     | click | word  |\n| 189 | participant_31 | 1 | 2 | 22 | 189 | posture | Right_Close_90_Below   | 1.567119e+12 | 1.567119e+12 | ⋯ | 1143 | 24 |  0 | False | Below  | 90  | Close | Dominant     | word  | click |\n| 191 | participant_31 | 1 | 2 | 23 | 191 | posture | Right_Close_90_Beside  | 1.567119e+12 | 1.567119e+12 | ⋯ | 1011 | 23 |  4 | False | Beside | 90  | Close | Dominant     | click | click |\n| 193 | participant_31 | 1 | 2 | 24 | 193 | posture | Right_Close_180_On     | 1.567119e+12 | 1.567119e+12 | ⋯ | 1347 | 25 |  8 | False | On     | 180 | Close | Dominant     | click | click |\n| 197 | participant_31 | 1 | 2 | 26 | 197 | posture | Right_Close_180_Beside | 1.567119e+12 | 1.567119e+12 | ⋯ | 1178 | 22 |  8 | False | Beside | 180 | Close | Dominant     | word  | click |\n| 199 | participant_31 | 1 | 2 | 27 | 199 | posture | Right_Open_0_On        | 1.567119e+12 | 1.567119e+12 | ⋯ | 1209 | 16 |  0 | False | On     | 0   | Open  | Dominant     | click | word  |\n| 201 | participant_31 | 1 | 2 | 28 | 201 | posture | Right_Open_0_Below     | 1.567119e+12 | 1.567119e+12 | ⋯ | 1176 | 30 |  0 | False | Below  | 0   | Open  | Dominant     | word  | word  |\n| 203 | participant_31 | 1 | 2 | 29 | 203 | posture | Right_Open_0_Beside    | 1.567119e+12 | 1.567119e+12 | ⋯ | 1145 | 14 | 12 | False | Beside | 0   | Open  | Dominant     | word  | click |\n| 205 | participant_31 | 1 | 2 | 30 | 205 | posture | Right_Open_90_On       | 1.567119e+12 | 1.567119e+12 | ⋯ | 1008 | 23 |  4 | False | On     | 90  | Open  | Dominant     | click | word  |\n| 207 | participant_31 | 1 | 2 | 31 | 207 | posture | Right_Open_90_Below    | 1.567119e+12 | 1.567119e+12 | ⋯ | 1075 | 19 |  8 | False | Below  | 90  | Open  | Dominant     | word  | word  |\n| 209 | participant_31 | 1 | 2 | 32 | 209 | posture | Right_Open_90_Beside   | 1.567119e+12 | 1.567119e+12 | ⋯ | 1876 | 20 |  4 | False | Beside | 90  | Open  | Dominant     | word  | click |\n| ⋮ | ⋮ | ⋮ | ⋮ | ⋮ | ⋮ | ⋮ | ⋮ | ⋮ | ⋮ | ⋱ | ⋮ | ⋮ | ⋮ | ⋮ | ⋮ | ⋮ | ⋮ | ⋮ | ⋮ | ⋮ |\n| 14333 | participant_36 | 4 | 9 |  2 | 653 | shortcut | D    | 1.567546e+12 | 1.567546e+12 | ⋯ | 1364 | 0 | 0 | False | shortcut | shortcut | shortcut | shortcut | click | word  |\n| 14335 | participant_36 | 4 | 9 |  3 | 655 | shortcut | A    | 1.567546e+12 | 1.567546e+12 | ⋯ | 1468 | 0 | 0 | False | shortcut | shortcut | shortcut | shortcut | word  | word  |\n| 14337 | participant_36 | 4 | 9 |  4 | 657 | shortcut | M    | 1.567546e+12 | 1.567546e+12 | ⋯ | 1401 | 0 | 0 | False | shortcut | shortcut | shortcut | shortcut | word  | click |\n| 14341 | participant_36 | 4 | 9 |  6 | 661 | shortcut | B    | 1.567546e+12 | 1.567546e+12 | ⋯ | 1533 | 0 | 0 | False | shortcut | shortcut | shortcut | shortcut | word  | click |\n| 14343 | participant_36 | 4 | 9 |  7 | 663 | shortcut | O    | 1.567546e+12 | 1.567546e+12 | ⋯ | 1466 | 0 | 0 | False | shortcut | shortcut | shortcut | shortcut | click | click |\n| 14345 | participant_36 | 4 | 9 |  8 | 665 | shortcut | O    | 1.567546e+12 | 1.567546e+12 | ⋯ | 1501 | 0 | 0 | False | shortcut | shortcut | shortcut | shortcut | click | word  |\n| 14347 | participant_36 | 4 | 9 |  9 | 667 | shortcut | Y    | 1.567546e+12 | 1.567546e+12 | ⋯ | 1264 | 0 | 0 | False | shortcut | shortcut | shortcut | shortcut | word  | word  |\n| 14349 | participant_36 | 4 | 9 | 10 | 669 | shortcut | Y    | 1.567546e+12 | 1.567546e+12 | ⋯ | 1568 | 0 | 0 | False | shortcut | shortcut | shortcut | shortcut | word  | click |\n| 14351 | participant_36 | 4 | 9 | 11 | 671 | shortcut | T    | 1.567546e+12 | 1.567546e+12 | ⋯ | 1597 | 0 | 0 | False | shortcut | shortcut | shortcut | shortcut | click | word  |\n| 14353 | participant_36 | 4 | 9 | 12 | 673 | shortcut | Z    | 1.567546e+12 | 1.567546e+12 | ⋯ | 1697 | 0 | 0 | False | shortcut | shortcut | shortcut | shortcut | word  | click |\n| 14355 | participant_36 | 4 | 9 | 13 | 675 | shortcut | down | 1.567546e+12 | 1.567546e+12 | ⋯ | 1134 | 0 | 0 | False | shortcut | shortcut | shortcut | shortcut | click | word  |\n| 14357 | participant_36 | 4 | 9 | 14 | 677 | shortcut | down | 1.567546e+12 | 1.567546e+12 | ⋯ | 1434 | 0 | 0 | False | shortcut | shortcut | shortcut | shortcut | word  | click |\n| 14359 | participant_36 | 4 | 9 | 15 | 679 | shortcut | H    | 1.567546e+12 | 1.567546e+12 | ⋯ | 1097 | 0 | 0 | False | shortcut | shortcut | shortcut | shortcut | click | word  |\n| 14361 | participant_36 | 4 | 9 | 16 | 681 | shortcut | O    | 1.567546e+12 | 1.567546e+12 | ⋯ | 1533 | 0 | 0 | False | shortcut | shortcut | shortcut | shortcut | word  | word  |\n| 14363 | participant_36 | 4 | 9 | 17 | 683 | shortcut | L    | 1.567546e+12 | 1.567546e+12 | ⋯ | 1771 | 0 | 0 | False | shortcut | shortcut | shortcut | shortcut | word  | click |\n| 14367 | participant_36 | 4 | 9 | 19 | 687 | shortcut | down | 1.567546e+12 | 1.567546e+12 | ⋯ | 1365 | 0 | 0 | False | shortcut | shortcut | shortcut | shortcut | click | word  |\n| 14369 | participant_36 | 4 | 9 | 20 | 689 | shortcut | A    | 1.567546e+12 | 1.567546e+12 | ⋯ | 1500 | 0 | 0 | False | shortcut | shortcut | shortcut | shortcut | word  | click |\n| 14373 | participant_36 | 4 | 9 | 22 | 693 | shortcut | P    | 1.567546e+12 | 1.567546e+12 | ⋯ | 1901 | 0 | 0 | False | shortcut | shortcut | shortcut | shortcut | word  | click |\n| 14375 | participant_36 | 4 | 9 | 23 | 695 | shortcut | V    | 1.567546e+12 | 1.567546e+12 | ⋯ | 1199 | 0 | 0 | False | shortcut | shortcut | shortcut | shortcut | click | click |\n| 14377 | participant_36 | 4 | 9 | 24 | 697 | shortcut | K    | 1.567546e+12 | 1.567546e+12 | ⋯ | 1431 | 0 | 0 | False | shortcut | shortcut | shortcut | shortcut | click | click |\n| 14379 | participant_36 | 4 | 9 | 25 | 699 | shortcut | C    | 1.567546e+12 | 1.567546e+12 | ⋯ | 1300 | 0 | 0 | False | shortcut | shortcut | shortcut | shortcut | click | word  |\n| 14381 | participant_36 | 4 | 9 | 26 | 701 | shortcut | R    | 1.567546e+12 | 1.567546e+12 | ⋯ | 1763 | 0 | 0 | False | shortcut | shortcut | shortcut | shortcut | word  | click |\n| 14383 | participant_36 | 4 | 9 | 27 | 703 | shortcut | O    | 1.567546e+12 | 1.567546e+12 | ⋯ | 1199 | 0 | 0 | False | shortcut | shortcut | shortcut | shortcut | click | word  |\n| 14385 | participant_36 | 4 | 9 | 28 | 705 | shortcut | H    | 1.567546e+12 | 1.567546e+12 | ⋯ | 1299 | 0 | 0 | False | shortcut | shortcut | shortcut | shortcut | word  | word  |\n| 14387 | participant_36 | 4 | 9 | 29 | 707 | shortcut | H    | 1.567546e+12 | 1.567546e+12 | ⋯ | 1133 | 0 | 0 | False | shortcut | shortcut | shortcut | shortcut | word  | click |\n| 14391 | participant_36 | 4 | 9 | 31 | 711 | shortcut | up   | 1.567546e+12 | 1.567546e+12 | ⋯ | 2038 | 0 | 0 | False | shortcut | shortcut | shortcut | shortcut | word  | word  |\n| 14393 | participant_36 | 4 | 9 | 32 | 713 | shortcut | M    | 1.567546e+12 | 1.567546e+12 | ⋯ | 1367 | 0 | 0 | False | shortcut | shortcut | shortcut | shortcut | word  | click |\n| 14395 | participant_36 | 4 | 9 | 33 | 715 | shortcut | E    | 1.567546e+12 | 1.567546e+12 | ⋯ | 2066 | 0 | 0 | False | shortcut | shortcut | shortcut | shortcut | click | word  |\n| 14397 | participant_36 | 4 | 9 | 34 | 717 | shortcut | up   | 1.567546e+12 | 1.567546e+12 | ⋯ | 1164 | 0 | 0 | False | shortcut | shortcut | shortcut | shortcut | word  | click |\n| 14399 | participant_36 | 4 | 9 | 35 | 719 | shortcut | E    | 1.567546e+12 | 1.567546e+12 | ⋯ | 1436 | 0 | 0 | False | shortcut | shortcut | shortcut | shortcut | click | NA    |\n\n",
            "text/html": [
              "<table class=\"dataframe\">\n",
              "<caption>A data.frame: 4798 × 24</caption>\n",
              "<thead>\n",
              "\t<tr><th scope=col>X</th><th scope=col>Participant</th><th scope=col>Block</th><th scope=col>Sequence</th><th scope=col>Sub_Sequence</th><th scope=col>Trial</th><th scope=col>Target_Type</th><th scope=col>Target_Name</th><th scope=col>Start_Time</th><th scope=col>End_Time</th><th scope=col>⋯</th><th scope=col>Completion_Time</th><th scope=col>Reference_Action_Count</th><th scope=col>Incorrect_Action_Count</th><th scope=col>Error</th><th scope=col>IV_Surface</th><th scope=col>IV_Orientation</th><th scope=col>IV_Form</th><th scope=col>IV_Hand</th><th scope=col>Previous_Reference_Task</th><th scope=col>Next_Reference_Task</th></tr>\n",
              "\t<tr><th scope=col>&lt;int&gt;</th><th scope=col>&lt;chr&gt;</th><th scope=col>&lt;int&gt;</th><th scope=col>&lt;int&gt;</th><th scope=col>&lt;int&gt;</th><th scope=col>&lt;int&gt;</th><th scope=col>&lt;chr&gt;</th><th scope=col>&lt;chr&gt;</th><th scope=col>&lt;dbl&gt;</th><th scope=col>&lt;dbl&gt;</th><th scope=col>⋯</th><th scope=col>&lt;int&gt;</th><th scope=col>&lt;int&gt;</th><th scope=col>&lt;int&gt;</th><th scope=col>&lt;chr&gt;</th><th scope=col>&lt;chr&gt;</th><th scope=col>&lt;chr&gt;</th><th scope=col>&lt;chr&gt;</th><th scope=col>&lt;chr&gt;</th><th scope=col>&lt;chr&gt;</th><th scope=col>&lt;chr&gt;</th></tr>\n",
              "</thead>\n",
              "<tbody>\n",
              "\t<tr><td>145</td><td>participant_31</td><td>1</td><td>2</td><td> 0</td><td>145</td><td>posture</td><td>Left_Close_0_On       </td><td>1.567119e+12</td><td>1.567119e+12</td><td>⋯</td><td>1378</td><td>33</td><td> 0</td><td>False</td><td>On    </td><td>0  </td><td>Close</td><td>Non Dominant</td><td>click</td><td>word </td></tr>\n",
              "\t<tr><td>147</td><td>participant_31</td><td>1</td><td>2</td><td> 1</td><td>147</td><td>posture</td><td>Left_Close_0_Below    </td><td>1.567119e+12</td><td>1.567119e+12</td><td>⋯</td><td>2042</td><td>19</td><td> 8</td><td>False</td><td>Below </td><td>0  </td><td>Close</td><td>Non Dominant</td><td>word </td><td>click</td></tr>\n",
              "\t<tr><td>149</td><td>participant_31</td><td>1</td><td>2</td><td> 2</td><td>149</td><td>posture</td><td>Left_Close_0_Beside   </td><td>1.567119e+12</td><td>1.567119e+12</td><td>⋯</td><td>1275</td><td>28</td><td> 0</td><td>False</td><td>Beside</td><td>0  </td><td>Close</td><td>Non Dominant</td><td>click</td><td>word </td></tr>\n",
              "\t<tr><td>151</td><td>participant_31</td><td>1</td><td>2</td><td> 3</td><td>151</td><td>posture</td><td>Left_Close_90_On      </td><td>1.567119e+12</td><td>1.567119e+12</td><td>⋯</td><td>1013</td><td>24</td><td> 4</td><td>False</td><td>On    </td><td>90 </td><td>Close</td><td>Non Dominant</td><td>word </td><td>word </td></tr>\n",
              "\t<tr><td>153</td><td>participant_31</td><td>1</td><td>2</td><td> 4</td><td>153</td><td>posture</td><td>Left_Close_90_Below   </td><td>1.567119e+12</td><td>1.567119e+12</td><td>⋯</td><td>1012</td><td>20</td><td> 1</td><td>False</td><td>Below </td><td>90 </td><td>Close</td><td>Non Dominant</td><td>word </td><td>click</td></tr>\n",
              "\t<tr><td>155</td><td>participant_31</td><td>1</td><td>2</td><td> 5</td><td>155</td><td>posture</td><td>Left_Close_90_Beside  </td><td>1.567119e+12</td><td>1.567119e+12</td><td>⋯</td><td>1243</td><td>28</td><td> 0</td><td>False</td><td>Beside</td><td>90 </td><td>Close</td><td>Non Dominant</td><td>click</td><td>word </td></tr>\n",
              "\t<tr><td>157</td><td>participant_31</td><td>1</td><td>2</td><td> 6</td><td>157</td><td>posture</td><td>Left_Close_180_On     </td><td>1.567119e+12</td><td>1.567119e+12</td><td>⋯</td><td>1414</td><td>19</td><td>13</td><td>False</td><td>On    </td><td>180</td><td>Close</td><td>Non Dominant</td><td>word </td><td>click</td></tr>\n",
              "\t<tr><td>159</td><td>participant_31</td><td>1</td><td>2</td><td> 7</td><td>159</td><td>posture</td><td>Left_Close_180_Below  </td><td>1.567119e+12</td><td>1.567119e+12</td><td>⋯</td><td>1178</td><td>25</td><td> 8</td><td>False</td><td>Below </td><td>180</td><td>Close</td><td>Non Dominant</td><td>click</td><td>click</td></tr>\n",
              "\t<tr><td>161</td><td>participant_31</td><td>1</td><td>2</td><td> 8</td><td>161</td><td>posture</td><td>Left_Close_180_Beside </td><td>1.567119e+12</td><td>1.567119e+12</td><td>⋯</td><td>1615</td><td>25</td><td> 4</td><td>False</td><td>Beside</td><td>180</td><td>Close</td><td>Non Dominant</td><td>click</td><td>word </td></tr>\n",
              "\t<tr><td>163</td><td>participant_31</td><td>1</td><td>2</td><td> 9</td><td>163</td><td>posture</td><td>Left_Open_0_On        </td><td>1.567119e+12</td><td>1.567119e+12</td><td>⋯</td><td>1111</td><td>29</td><td> 0</td><td>False</td><td>On    </td><td>0  </td><td>Open </td><td>Non Dominant</td><td>word </td><td>word </td></tr>\n",
              "\t<tr><td>165</td><td>participant_31</td><td>1</td><td>2</td><td>10</td><td>165</td><td>posture</td><td>Left_Open_0_Below     </td><td>1.567119e+12</td><td>1.567119e+12</td><td>⋯</td><td>1218</td><td>28</td><td> 3</td><td>False</td><td>Below </td><td>0  </td><td>Open </td><td>Non Dominant</td><td>word </td><td>click</td></tr>\n",
              "\t<tr><td>167</td><td>participant_31</td><td>1</td><td>2</td><td>11</td><td>167</td><td>posture</td><td>Left_Open_0_Beside    </td><td>1.567119e+12</td><td>1.567119e+12</td><td>⋯</td><td>1245</td><td>23</td><td> 0</td><td>False</td><td>Beside</td><td>0  </td><td>Open </td><td>Non Dominant</td><td>click</td><td>word </td></tr>\n",
              "\t<tr><td>169</td><td>participant_31</td><td>1</td><td>2</td><td>12</td><td>169</td><td>posture</td><td>Left_Open_90_On       </td><td>1.567119e+12</td><td>1.567119e+12</td><td>⋯</td><td>1327</td><td>18</td><td> 4</td><td>False</td><td>On    </td><td>90 </td><td>Open </td><td>Non Dominant</td><td>word </td><td>click</td></tr>\n",
              "\t<tr><td>171</td><td>participant_31</td><td>1</td><td>2</td><td>13</td><td>171</td><td>posture</td><td>Left_Open_90_Below    </td><td>1.567119e+12</td><td>1.567119e+12</td><td>⋯</td><td> 977</td><td>21</td><td> 4</td><td>False</td><td>Below </td><td>90 </td><td>Open </td><td>Non Dominant</td><td>click</td><td>word </td></tr>\n",
              "\t<tr><td>173</td><td>participant_31</td><td>1</td><td>2</td><td>14</td><td>173</td><td>posture</td><td>Left_Open_90_Beside   </td><td>1.567119e+12</td><td>1.567119e+12</td><td>⋯</td><td>1216</td><td>22</td><td> 8</td><td>False</td><td>Beside</td><td>90 </td><td>Open </td><td>Non Dominant</td><td>word </td><td>click</td></tr>\n",
              "\t<tr><td>175</td><td>participant_31</td><td>1</td><td>2</td><td>15</td><td>175</td><td>posture</td><td>Left_Open_180_On      </td><td>1.567119e+12</td><td>1.567119e+12</td><td>⋯</td><td>1275</td><td>24</td><td> 0</td><td>False</td><td>On    </td><td>180</td><td>Open </td><td>Non Dominant</td><td>click</td><td>word </td></tr>\n",
              "\t<tr><td>177</td><td>participant_31</td><td>1</td><td>2</td><td>16</td><td>177</td><td>posture</td><td>Left_Open_180_Below   </td><td>1.567119e+12</td><td>1.567119e+12</td><td>⋯</td><td>1113</td><td>19</td><td> 5</td><td>False</td><td>Below </td><td>180</td><td>Open </td><td>Non Dominant</td><td>word </td><td>word </td></tr>\n",
              "\t<tr><td>181</td><td>participant_31</td><td>1</td><td>2</td><td>18</td><td>181</td><td>posture</td><td>Right_Close_0_On      </td><td>1.567119e+12</td><td>1.567119e+12</td><td>⋯</td><td>1277</td><td>30</td><td> 4</td><td>False</td><td>On    </td><td>0  </td><td>Close</td><td>Dominant    </td><td>click</td><td>click</td></tr>\n",
              "\t<tr><td>185</td><td>participant_31</td><td>1</td><td>2</td><td>20</td><td>185</td><td>posture</td><td>Right_Close_0_Beside  </td><td>1.567119e+12</td><td>1.567119e+12</td><td>⋯</td><td>1275</td><td>24</td><td> 3</td><td>False</td><td>Beside</td><td>0  </td><td>Close</td><td>Dominant    </td><td>word </td><td>click</td></tr>\n",
              "\t<tr><td>187</td><td>participant_31</td><td>1</td><td>2</td><td>21</td><td>187</td><td>posture</td><td>Right_Close_90_On     </td><td>1.567119e+12</td><td>1.567119e+12</td><td>⋯</td><td>1077</td><td>26</td><td> 4</td><td>False</td><td>On    </td><td>90 </td><td>Close</td><td>Dominant    </td><td>click</td><td>word </td></tr>\n",
              "\t<tr><td>189</td><td>participant_31</td><td>1</td><td>2</td><td>22</td><td>189</td><td>posture</td><td>Right_Close_90_Below  </td><td>1.567119e+12</td><td>1.567119e+12</td><td>⋯</td><td>1143</td><td>24</td><td> 0</td><td>False</td><td>Below </td><td>90 </td><td>Close</td><td>Dominant    </td><td>word </td><td>click</td></tr>\n",
              "\t<tr><td>191</td><td>participant_31</td><td>1</td><td>2</td><td>23</td><td>191</td><td>posture</td><td>Right_Close_90_Beside </td><td>1.567119e+12</td><td>1.567119e+12</td><td>⋯</td><td>1011</td><td>23</td><td> 4</td><td>False</td><td>Beside</td><td>90 </td><td>Close</td><td>Dominant    </td><td>click</td><td>click</td></tr>\n",
              "\t<tr><td>193</td><td>participant_31</td><td>1</td><td>2</td><td>24</td><td>193</td><td>posture</td><td>Right_Close_180_On    </td><td>1.567119e+12</td><td>1.567119e+12</td><td>⋯</td><td>1347</td><td>25</td><td> 8</td><td>False</td><td>On    </td><td>180</td><td>Close</td><td>Dominant    </td><td>click</td><td>click</td></tr>\n",
              "\t<tr><td>197</td><td>participant_31</td><td>1</td><td>2</td><td>26</td><td>197</td><td>posture</td><td>Right_Close_180_Beside</td><td>1.567119e+12</td><td>1.567119e+12</td><td>⋯</td><td>1178</td><td>22</td><td> 8</td><td>False</td><td>Beside</td><td>180</td><td>Close</td><td>Dominant    </td><td>word </td><td>click</td></tr>\n",
              "\t<tr><td>199</td><td>participant_31</td><td>1</td><td>2</td><td>27</td><td>199</td><td>posture</td><td>Right_Open_0_On       </td><td>1.567119e+12</td><td>1.567119e+12</td><td>⋯</td><td>1209</td><td>16</td><td> 0</td><td>False</td><td>On    </td><td>0  </td><td>Open </td><td>Dominant    </td><td>click</td><td>word </td></tr>\n",
              "\t<tr><td>201</td><td>participant_31</td><td>1</td><td>2</td><td>28</td><td>201</td><td>posture</td><td>Right_Open_0_Below    </td><td>1.567119e+12</td><td>1.567119e+12</td><td>⋯</td><td>1176</td><td>30</td><td> 0</td><td>False</td><td>Below </td><td>0  </td><td>Open </td><td>Dominant    </td><td>word </td><td>word </td></tr>\n",
              "\t<tr><td>203</td><td>participant_31</td><td>1</td><td>2</td><td>29</td><td>203</td><td>posture</td><td>Right_Open_0_Beside   </td><td>1.567119e+12</td><td>1.567119e+12</td><td>⋯</td><td>1145</td><td>14</td><td>12</td><td>False</td><td>Beside</td><td>0  </td><td>Open </td><td>Dominant    </td><td>word </td><td>click</td></tr>\n",
              "\t<tr><td>205</td><td>participant_31</td><td>1</td><td>2</td><td>30</td><td>205</td><td>posture</td><td>Right_Open_90_On      </td><td>1.567119e+12</td><td>1.567119e+12</td><td>⋯</td><td>1008</td><td>23</td><td> 4</td><td>False</td><td>On    </td><td>90 </td><td>Open </td><td>Dominant    </td><td>click</td><td>word </td></tr>\n",
              "\t<tr><td>207</td><td>participant_31</td><td>1</td><td>2</td><td>31</td><td>207</td><td>posture</td><td>Right_Open_90_Below   </td><td>1.567119e+12</td><td>1.567119e+12</td><td>⋯</td><td>1075</td><td>19</td><td> 8</td><td>False</td><td>Below </td><td>90 </td><td>Open </td><td>Dominant    </td><td>word </td><td>word </td></tr>\n",
              "\t<tr><td>209</td><td>participant_31</td><td>1</td><td>2</td><td>32</td><td>209</td><td>posture</td><td>Right_Open_90_Beside  </td><td>1.567119e+12</td><td>1.567119e+12</td><td>⋯</td><td>1876</td><td>20</td><td> 4</td><td>False</td><td>Beside</td><td>90 </td><td>Open </td><td>Dominant    </td><td>word </td><td>click</td></tr>\n",
              "\t<tr><td>⋮</td><td>⋮</td><td>⋮</td><td>⋮</td><td>⋮</td><td>⋮</td><td>⋮</td><td>⋮</td><td>⋮</td><td>⋮</td><td>⋱</td><td>⋮</td><td>⋮</td><td>⋮</td><td>⋮</td><td>⋮</td><td>⋮</td><td>⋮</td><td>⋮</td><td>⋮</td><td>⋮</td></tr>\n",
              "\t<tr><td>14333</td><td>participant_36</td><td>4</td><td>9</td><td> 2</td><td>653</td><td>shortcut</td><td>D   </td><td>1.567546e+12</td><td>1.567546e+12</td><td>⋯</td><td>1364</td><td>0</td><td>0</td><td>False</td><td>shortcut</td><td>shortcut</td><td>shortcut</td><td>shortcut</td><td>click</td><td>word </td></tr>\n",
              "\t<tr><td>14335</td><td>participant_36</td><td>4</td><td>9</td><td> 3</td><td>655</td><td>shortcut</td><td>A   </td><td>1.567546e+12</td><td>1.567546e+12</td><td>⋯</td><td>1468</td><td>0</td><td>0</td><td>False</td><td>shortcut</td><td>shortcut</td><td>shortcut</td><td>shortcut</td><td>word </td><td>word </td></tr>\n",
              "\t<tr><td>14337</td><td>participant_36</td><td>4</td><td>9</td><td> 4</td><td>657</td><td>shortcut</td><td>M   </td><td>1.567546e+12</td><td>1.567546e+12</td><td>⋯</td><td>1401</td><td>0</td><td>0</td><td>False</td><td>shortcut</td><td>shortcut</td><td>shortcut</td><td>shortcut</td><td>word </td><td>click</td></tr>\n",
              "\t<tr><td>14341</td><td>participant_36</td><td>4</td><td>9</td><td> 6</td><td>661</td><td>shortcut</td><td>B   </td><td>1.567546e+12</td><td>1.567546e+12</td><td>⋯</td><td>1533</td><td>0</td><td>0</td><td>False</td><td>shortcut</td><td>shortcut</td><td>shortcut</td><td>shortcut</td><td>word </td><td>click</td></tr>\n",
              "\t<tr><td>14343</td><td>participant_36</td><td>4</td><td>9</td><td> 7</td><td>663</td><td>shortcut</td><td>O   </td><td>1.567546e+12</td><td>1.567546e+12</td><td>⋯</td><td>1466</td><td>0</td><td>0</td><td>False</td><td>shortcut</td><td>shortcut</td><td>shortcut</td><td>shortcut</td><td>click</td><td>click</td></tr>\n",
              "\t<tr><td>14345</td><td>participant_36</td><td>4</td><td>9</td><td> 8</td><td>665</td><td>shortcut</td><td>O   </td><td>1.567546e+12</td><td>1.567546e+12</td><td>⋯</td><td>1501</td><td>0</td><td>0</td><td>False</td><td>shortcut</td><td>shortcut</td><td>shortcut</td><td>shortcut</td><td>click</td><td>word </td></tr>\n",
              "\t<tr><td>14347</td><td>participant_36</td><td>4</td><td>9</td><td> 9</td><td>667</td><td>shortcut</td><td>Y   </td><td>1.567546e+12</td><td>1.567546e+12</td><td>⋯</td><td>1264</td><td>0</td><td>0</td><td>False</td><td>shortcut</td><td>shortcut</td><td>shortcut</td><td>shortcut</td><td>word </td><td>word </td></tr>\n",
              "\t<tr><td>14349</td><td>participant_36</td><td>4</td><td>9</td><td>10</td><td>669</td><td>shortcut</td><td>Y   </td><td>1.567546e+12</td><td>1.567546e+12</td><td>⋯</td><td>1568</td><td>0</td><td>0</td><td>False</td><td>shortcut</td><td>shortcut</td><td>shortcut</td><td>shortcut</td><td>word </td><td>click</td></tr>\n",
              "\t<tr><td>14351</td><td>participant_36</td><td>4</td><td>9</td><td>11</td><td>671</td><td>shortcut</td><td>T   </td><td>1.567546e+12</td><td>1.567546e+12</td><td>⋯</td><td>1597</td><td>0</td><td>0</td><td>False</td><td>shortcut</td><td>shortcut</td><td>shortcut</td><td>shortcut</td><td>click</td><td>word </td></tr>\n",
              "\t<tr><td>14353</td><td>participant_36</td><td>4</td><td>9</td><td>12</td><td>673</td><td>shortcut</td><td>Z   </td><td>1.567546e+12</td><td>1.567546e+12</td><td>⋯</td><td>1697</td><td>0</td><td>0</td><td>False</td><td>shortcut</td><td>shortcut</td><td>shortcut</td><td>shortcut</td><td>word </td><td>click</td></tr>\n",
              "\t<tr><td>14355</td><td>participant_36</td><td>4</td><td>9</td><td>13</td><td>675</td><td>shortcut</td><td>down</td><td>1.567546e+12</td><td>1.567546e+12</td><td>⋯</td><td>1134</td><td>0</td><td>0</td><td>False</td><td>shortcut</td><td>shortcut</td><td>shortcut</td><td>shortcut</td><td>click</td><td>word </td></tr>\n",
              "\t<tr><td>14357</td><td>participant_36</td><td>4</td><td>9</td><td>14</td><td>677</td><td>shortcut</td><td>down</td><td>1.567546e+12</td><td>1.567546e+12</td><td>⋯</td><td>1434</td><td>0</td><td>0</td><td>False</td><td>shortcut</td><td>shortcut</td><td>shortcut</td><td>shortcut</td><td>word </td><td>click</td></tr>\n",
              "\t<tr><td>14359</td><td>participant_36</td><td>4</td><td>9</td><td>15</td><td>679</td><td>shortcut</td><td>H   </td><td>1.567546e+12</td><td>1.567546e+12</td><td>⋯</td><td>1097</td><td>0</td><td>0</td><td>False</td><td>shortcut</td><td>shortcut</td><td>shortcut</td><td>shortcut</td><td>click</td><td>word </td></tr>\n",
              "\t<tr><td>14361</td><td>participant_36</td><td>4</td><td>9</td><td>16</td><td>681</td><td>shortcut</td><td>O   </td><td>1.567546e+12</td><td>1.567546e+12</td><td>⋯</td><td>1533</td><td>0</td><td>0</td><td>False</td><td>shortcut</td><td>shortcut</td><td>shortcut</td><td>shortcut</td><td>word </td><td>word </td></tr>\n",
              "\t<tr><td>14363</td><td>participant_36</td><td>4</td><td>9</td><td>17</td><td>683</td><td>shortcut</td><td>L   </td><td>1.567546e+12</td><td>1.567546e+12</td><td>⋯</td><td>1771</td><td>0</td><td>0</td><td>False</td><td>shortcut</td><td>shortcut</td><td>shortcut</td><td>shortcut</td><td>word </td><td>click</td></tr>\n",
              "\t<tr><td>14367</td><td>participant_36</td><td>4</td><td>9</td><td>19</td><td>687</td><td>shortcut</td><td>down</td><td>1.567546e+12</td><td>1.567546e+12</td><td>⋯</td><td>1365</td><td>0</td><td>0</td><td>False</td><td>shortcut</td><td>shortcut</td><td>shortcut</td><td>shortcut</td><td>click</td><td>word </td></tr>\n",
              "\t<tr><td>14369</td><td>participant_36</td><td>4</td><td>9</td><td>20</td><td>689</td><td>shortcut</td><td>A   </td><td>1.567546e+12</td><td>1.567546e+12</td><td>⋯</td><td>1500</td><td>0</td><td>0</td><td>False</td><td>shortcut</td><td>shortcut</td><td>shortcut</td><td>shortcut</td><td>word </td><td>click</td></tr>\n",
              "\t<tr><td>14373</td><td>participant_36</td><td>4</td><td>9</td><td>22</td><td>693</td><td>shortcut</td><td>P   </td><td>1.567546e+12</td><td>1.567546e+12</td><td>⋯</td><td>1901</td><td>0</td><td>0</td><td>False</td><td>shortcut</td><td>shortcut</td><td>shortcut</td><td>shortcut</td><td>word </td><td>click</td></tr>\n",
              "\t<tr><td>14375</td><td>participant_36</td><td>4</td><td>9</td><td>23</td><td>695</td><td>shortcut</td><td>V   </td><td>1.567546e+12</td><td>1.567546e+12</td><td>⋯</td><td>1199</td><td>0</td><td>0</td><td>False</td><td>shortcut</td><td>shortcut</td><td>shortcut</td><td>shortcut</td><td>click</td><td>click</td></tr>\n",
              "\t<tr><td>14377</td><td>participant_36</td><td>4</td><td>9</td><td>24</td><td>697</td><td>shortcut</td><td>K   </td><td>1.567546e+12</td><td>1.567546e+12</td><td>⋯</td><td>1431</td><td>0</td><td>0</td><td>False</td><td>shortcut</td><td>shortcut</td><td>shortcut</td><td>shortcut</td><td>click</td><td>click</td></tr>\n",
              "\t<tr><td>14379</td><td>participant_36</td><td>4</td><td>9</td><td>25</td><td>699</td><td>shortcut</td><td>C   </td><td>1.567546e+12</td><td>1.567546e+12</td><td>⋯</td><td>1300</td><td>0</td><td>0</td><td>False</td><td>shortcut</td><td>shortcut</td><td>shortcut</td><td>shortcut</td><td>click</td><td>word </td></tr>\n",
              "\t<tr><td>14381</td><td>participant_36</td><td>4</td><td>9</td><td>26</td><td>701</td><td>shortcut</td><td>R   </td><td>1.567546e+12</td><td>1.567546e+12</td><td>⋯</td><td>1763</td><td>0</td><td>0</td><td>False</td><td>shortcut</td><td>shortcut</td><td>shortcut</td><td>shortcut</td><td>word </td><td>click</td></tr>\n",
              "\t<tr><td>14383</td><td>participant_36</td><td>4</td><td>9</td><td>27</td><td>703</td><td>shortcut</td><td>O   </td><td>1.567546e+12</td><td>1.567546e+12</td><td>⋯</td><td>1199</td><td>0</td><td>0</td><td>False</td><td>shortcut</td><td>shortcut</td><td>shortcut</td><td>shortcut</td><td>click</td><td>word </td></tr>\n",
              "\t<tr><td>14385</td><td>participant_36</td><td>4</td><td>9</td><td>28</td><td>705</td><td>shortcut</td><td>H   </td><td>1.567546e+12</td><td>1.567546e+12</td><td>⋯</td><td>1299</td><td>0</td><td>0</td><td>False</td><td>shortcut</td><td>shortcut</td><td>shortcut</td><td>shortcut</td><td>word </td><td>word </td></tr>\n",
              "\t<tr><td>14387</td><td>participant_36</td><td>4</td><td>9</td><td>29</td><td>707</td><td>shortcut</td><td>H   </td><td>1.567546e+12</td><td>1.567546e+12</td><td>⋯</td><td>1133</td><td>0</td><td>0</td><td>False</td><td>shortcut</td><td>shortcut</td><td>shortcut</td><td>shortcut</td><td>word </td><td>click</td></tr>\n",
              "\t<tr><td>14391</td><td>participant_36</td><td>4</td><td>9</td><td>31</td><td>711</td><td>shortcut</td><td>up  </td><td>1.567546e+12</td><td>1.567546e+12</td><td>⋯</td><td>2038</td><td>0</td><td>0</td><td>False</td><td>shortcut</td><td>shortcut</td><td>shortcut</td><td>shortcut</td><td>word </td><td>word </td></tr>\n",
              "\t<tr><td>14393</td><td>participant_36</td><td>4</td><td>9</td><td>32</td><td>713</td><td>shortcut</td><td>M   </td><td>1.567546e+12</td><td>1.567546e+12</td><td>⋯</td><td>1367</td><td>0</td><td>0</td><td>False</td><td>shortcut</td><td>shortcut</td><td>shortcut</td><td>shortcut</td><td>word </td><td>click</td></tr>\n",
              "\t<tr><td>14395</td><td>participant_36</td><td>4</td><td>9</td><td>33</td><td>715</td><td>shortcut</td><td>E   </td><td>1.567546e+12</td><td>1.567546e+12</td><td>⋯</td><td>2066</td><td>0</td><td>0</td><td>False</td><td>shortcut</td><td>shortcut</td><td>shortcut</td><td>shortcut</td><td>click</td><td>word </td></tr>\n",
              "\t<tr><td>14397</td><td>participant_36</td><td>4</td><td>9</td><td>34</td><td>717</td><td>shortcut</td><td>up  </td><td>1.567546e+12</td><td>1.567546e+12</td><td>⋯</td><td>1164</td><td>0</td><td>0</td><td>False</td><td>shortcut</td><td>shortcut</td><td>shortcut</td><td>shortcut</td><td>word </td><td>click</td></tr>\n",
              "\t<tr><td>14399</td><td>participant_36</td><td>4</td><td>9</td><td>35</td><td>719</td><td>shortcut</td><td>E   </td><td>1.567546e+12</td><td>1.567546e+12</td><td>⋯</td><td>1436</td><td>0</td><td>0</td><td>False</td><td>shortcut</td><td>shortcut</td><td>shortcut</td><td>shortcut</td><td>click</td><td>NA   </td></tr>\n",
              "</tbody>\n",
              "</table>\n"
            ]
          },
          "metadata": {
            "tags": []
          }
        }
      ]
    },
    {
      "cell_type": "markdown",
      "metadata": {
        "id": "_FXJyDqvWPj1"
      },
      "source": [
        "# ANOVA"
      ]
    },
    {
      "cell_type": "code",
      "metadata": {
        "id": "mfUmB7N4WPj2",
        "outputId": "1185f1b1-eebf-43a5-80f0-b3d82fec8ec8",
        "colab": {
          "base_uri": "https://localhost:8080/",
          "height": 405
        }
      },
      "source": [
        "head(data_current)"
      ],
      "execution_count": 90,
      "outputs": [
        {
          "output_type": "display_data",
          "data": {
            "text/plain": [
              "  X   Participant    Block Sequence Sub_Sequence Trial Target_Type\n",
              "1 145 participant_31 1     2        0            145   posture    \n",
              "2 147 participant_31 1     2        1            147   posture    \n",
              "3 149 participant_31 1     2        2            149   posture    \n",
              "4 151 participant_31 1     2        3            151   posture    \n",
              "5 153 participant_31 1     2        4            153   posture    \n",
              "6 155 participant_31 1     2        5            155   posture    \n",
              "  Target_Name          Start_Time   End_Time     ⋯ Completion_Time\n",
              "1 Left_Close_0_On      1.567119e+12 1.567119e+12 ⋯ 1378           \n",
              "2 Left_Close_0_Below   1.567119e+12 1.567119e+12 ⋯ 2042           \n",
              "3 Left_Close_0_Beside  1.567119e+12 1.567119e+12 ⋯ 1275           \n",
              "4 Left_Close_90_On     1.567119e+12 1.567119e+12 ⋯ 1013           \n",
              "5 Left_Close_90_Below  1.567119e+12 1.567119e+12 ⋯ 1012           \n",
              "6 Left_Close_90_Beside 1.567119e+12 1.567119e+12 ⋯ 1243           \n",
              "  Reference_Action_Count Incorrect_Action_Count Error IV_Surface IV_Orientation\n",
              "1 33                     0                      False On         0             \n",
              "2 19                     8                      False Below      0             \n",
              "3 28                     0                      False Beside     0             \n",
              "4 24                     4                      False On         90            \n",
              "5 20                     1                      False Below      90            \n",
              "6 28                     0                      False Beside     90            \n",
              "  IV_Form IV_Hand      Previous_Reference_Task Next_Reference_Task\n",
              "1 Close   Non Dominant click                   word               \n",
              "2 Close   Non Dominant word                    click              \n",
              "3 Close   Non Dominant click                   word               \n",
              "4 Close   Non Dominant word                    word               \n",
              "5 Close   Non Dominant word                    click              \n",
              "6 Close   Non Dominant click                   word               "
            ],
            "text/latex": "A data.frame: 6 × 24\n\\begin{tabular}{r|lllllllllllllllllllll}\n  & X & Participant & Block & Sequence & Sub\\_Sequence & Trial & Target\\_Type & Target\\_Name & Start\\_Time & End\\_Time & ⋯ & Completion\\_Time & Reference\\_Action\\_Count & Incorrect\\_Action\\_Count & Error & IV\\_Surface & IV\\_Orientation & IV\\_Form & IV\\_Hand & Previous\\_Reference\\_Task & Next\\_Reference\\_Task\\\\\n  & <int> & <chr> & <int> & <int> & <int> & <int> & <chr> & <chr> & <dbl> & <dbl> & ⋯ & <int> & <int> & <int> & <chr> & <chr> & <chr> & <chr> & <chr> & <chr> & <chr>\\\\\n\\hline\n\t1 & 145 & participant\\_31 & 1 & 2 & 0 & 145 & posture & Left\\_Close\\_0\\_On      & 1.567119e+12 & 1.567119e+12 & ⋯ & 1378 & 33 & 0 & False & On     & 0  & Close & Non Dominant & click & word \\\\\n\t2 & 147 & participant\\_31 & 1 & 2 & 1 & 147 & posture & Left\\_Close\\_0\\_Below   & 1.567119e+12 & 1.567119e+12 & ⋯ & 2042 & 19 & 8 & False & Below  & 0  & Close & Non Dominant & word  & click\\\\\n\t3 & 149 & participant\\_31 & 1 & 2 & 2 & 149 & posture & Left\\_Close\\_0\\_Beside  & 1.567119e+12 & 1.567119e+12 & ⋯ & 1275 & 28 & 0 & False & Beside & 0  & Close & Non Dominant & click & word \\\\\n\t4 & 151 & participant\\_31 & 1 & 2 & 3 & 151 & posture & Left\\_Close\\_90\\_On     & 1.567119e+12 & 1.567119e+12 & ⋯ & 1013 & 24 & 4 & False & On     & 90 & Close & Non Dominant & word  & word \\\\\n\t5 & 153 & participant\\_31 & 1 & 2 & 4 & 153 & posture & Left\\_Close\\_90\\_Below  & 1.567119e+12 & 1.567119e+12 & ⋯ & 1012 & 20 & 1 & False & Below  & 90 & Close & Non Dominant & word  & click\\\\\n\t6 & 155 & participant\\_31 & 1 & 2 & 5 & 155 & posture & Left\\_Close\\_90\\_Beside & 1.567119e+12 & 1.567119e+12 & ⋯ & 1243 & 28 & 0 & False & Beside & 90 & Close & Non Dominant & click & word \\\\\n\\end{tabular}\n",
            "text/markdown": "\nA data.frame: 6 × 24\n\n| <!--/--> | X &lt;int&gt; | Participant &lt;chr&gt; | Block &lt;int&gt; | Sequence &lt;int&gt; | Sub_Sequence &lt;int&gt; | Trial &lt;int&gt; | Target_Type &lt;chr&gt; | Target_Name &lt;chr&gt; | Start_Time &lt;dbl&gt; | End_Time &lt;dbl&gt; | ⋯ ⋯ | Completion_Time &lt;int&gt; | Reference_Action_Count &lt;int&gt; | Incorrect_Action_Count &lt;int&gt; | Error &lt;chr&gt; | IV_Surface &lt;chr&gt; | IV_Orientation &lt;chr&gt; | IV_Form &lt;chr&gt; | IV_Hand &lt;chr&gt; | Previous_Reference_Task &lt;chr&gt; | Next_Reference_Task &lt;chr&gt; |\n|---|---|---|---|---|---|---|---|---|---|---|---|---|---|---|---|---|---|---|---|---|---|\n| 1 | 145 | participant_31 | 1 | 2 | 0 | 145 | posture | Left_Close_0_On      | 1.567119e+12 | 1.567119e+12 | ⋯ | 1378 | 33 | 0 | False | On     | 0  | Close | Non Dominant | click | word  |\n| 2 | 147 | participant_31 | 1 | 2 | 1 | 147 | posture | Left_Close_0_Below   | 1.567119e+12 | 1.567119e+12 | ⋯ | 2042 | 19 | 8 | False | Below  | 0  | Close | Non Dominant | word  | click |\n| 3 | 149 | participant_31 | 1 | 2 | 2 | 149 | posture | Left_Close_0_Beside  | 1.567119e+12 | 1.567119e+12 | ⋯ | 1275 | 28 | 0 | False | Beside | 0  | Close | Non Dominant | click | word  |\n| 4 | 151 | participant_31 | 1 | 2 | 3 | 151 | posture | Left_Close_90_On     | 1.567119e+12 | 1.567119e+12 | ⋯ | 1013 | 24 | 4 | False | On     | 90 | Close | Non Dominant | word  | word  |\n| 5 | 153 | participant_31 | 1 | 2 | 4 | 153 | posture | Left_Close_90_Below  | 1.567119e+12 | 1.567119e+12 | ⋯ | 1012 | 20 | 1 | False | Below  | 90 | Close | Non Dominant | word  | click |\n| 6 | 155 | participant_31 | 1 | 2 | 5 | 155 | posture | Left_Close_90_Beside | 1.567119e+12 | 1.567119e+12 | ⋯ | 1243 | 28 | 0 | False | Beside | 90 | Close | Non Dominant | click | word  |\n\n",
            "text/html": [
              "<table class=\"dataframe\">\n",
              "<caption>A data.frame: 6 × 24</caption>\n",
              "<thead>\n",
              "\t<tr><th></th><th scope=col>X</th><th scope=col>Participant</th><th scope=col>Block</th><th scope=col>Sequence</th><th scope=col>Sub_Sequence</th><th scope=col>Trial</th><th scope=col>Target_Type</th><th scope=col>Target_Name</th><th scope=col>Start_Time</th><th scope=col>End_Time</th><th scope=col>⋯</th><th scope=col>Completion_Time</th><th scope=col>Reference_Action_Count</th><th scope=col>Incorrect_Action_Count</th><th scope=col>Error</th><th scope=col>IV_Surface</th><th scope=col>IV_Orientation</th><th scope=col>IV_Form</th><th scope=col>IV_Hand</th><th scope=col>Previous_Reference_Task</th><th scope=col>Next_Reference_Task</th></tr>\n",
              "\t<tr><th></th><th scope=col>&lt;int&gt;</th><th scope=col>&lt;chr&gt;</th><th scope=col>&lt;int&gt;</th><th scope=col>&lt;int&gt;</th><th scope=col>&lt;int&gt;</th><th scope=col>&lt;int&gt;</th><th scope=col>&lt;chr&gt;</th><th scope=col>&lt;chr&gt;</th><th scope=col>&lt;dbl&gt;</th><th scope=col>&lt;dbl&gt;</th><th scope=col>⋯</th><th scope=col>&lt;int&gt;</th><th scope=col>&lt;int&gt;</th><th scope=col>&lt;int&gt;</th><th scope=col>&lt;chr&gt;</th><th scope=col>&lt;chr&gt;</th><th scope=col>&lt;chr&gt;</th><th scope=col>&lt;chr&gt;</th><th scope=col>&lt;chr&gt;</th><th scope=col>&lt;chr&gt;</th><th scope=col>&lt;chr&gt;</th></tr>\n",
              "</thead>\n",
              "<tbody>\n",
              "\t<tr><th scope=row>1</th><td>145</td><td>participant_31</td><td>1</td><td>2</td><td>0</td><td>145</td><td>posture</td><td>Left_Close_0_On     </td><td>1.567119e+12</td><td>1.567119e+12</td><td>⋯</td><td>1378</td><td>33</td><td>0</td><td>False</td><td>On    </td><td>0 </td><td>Close</td><td>Non Dominant</td><td>click</td><td>word </td></tr>\n",
              "\t<tr><th scope=row>2</th><td>147</td><td>participant_31</td><td>1</td><td>2</td><td>1</td><td>147</td><td>posture</td><td>Left_Close_0_Below  </td><td>1.567119e+12</td><td>1.567119e+12</td><td>⋯</td><td>2042</td><td>19</td><td>8</td><td>False</td><td>Below </td><td>0 </td><td>Close</td><td>Non Dominant</td><td>word </td><td>click</td></tr>\n",
              "\t<tr><th scope=row>3</th><td>149</td><td>participant_31</td><td>1</td><td>2</td><td>2</td><td>149</td><td>posture</td><td>Left_Close_0_Beside </td><td>1.567119e+12</td><td>1.567119e+12</td><td>⋯</td><td>1275</td><td>28</td><td>0</td><td>False</td><td>Beside</td><td>0 </td><td>Close</td><td>Non Dominant</td><td>click</td><td>word </td></tr>\n",
              "\t<tr><th scope=row>4</th><td>151</td><td>participant_31</td><td>1</td><td>2</td><td>3</td><td>151</td><td>posture</td><td>Left_Close_90_On    </td><td>1.567119e+12</td><td>1.567119e+12</td><td>⋯</td><td>1013</td><td>24</td><td>4</td><td>False</td><td>On    </td><td>90</td><td>Close</td><td>Non Dominant</td><td>word </td><td>word </td></tr>\n",
              "\t<tr><th scope=row>5</th><td>153</td><td>participant_31</td><td>1</td><td>2</td><td>4</td><td>153</td><td>posture</td><td>Left_Close_90_Below </td><td>1.567119e+12</td><td>1.567119e+12</td><td>⋯</td><td>1012</td><td>20</td><td>1</td><td>False</td><td>Below </td><td>90</td><td>Close</td><td>Non Dominant</td><td>word </td><td>click</td></tr>\n",
              "\t<tr><th scope=row>6</th><td>155</td><td>participant_31</td><td>1</td><td>2</td><td>5</td><td>155</td><td>posture</td><td>Left_Close_90_Beside</td><td>1.567119e+12</td><td>1.567119e+12</td><td>⋯</td><td>1243</td><td>28</td><td>0</td><td>False</td><td>Beside</td><td>90</td><td>Close</td><td>Non Dominant</td><td>click</td><td>word </td></tr>\n",
              "</tbody>\n",
              "</table>\n"
            ]
          },
          "metadata": {
            "tags": []
          }
        }
      ]
    },
    {
      "cell_type": "code",
      "metadata": {
        "id": "KmjwE_GQWPj2",
        "outputId": "f316f6fb-ee04-4e3e-efb7-bf767cf6ba89",
        "colab": {
          "base_uri": "https://localhost:8080/",
          "height": 850
        }
      },
      "source": [
        "data_current.valid = data_current\n",
        "# data_current.valid$Participant = as.factor(data_current.valid$Participant)\n",
        "# data_current.valid$Completion_Time = as.factor(data_current.valid$Completion_Time)\n",
        "\n",
        "# data_current.valid$Completion_Time = as.numeric(data_current.valid$Completion_Time)\n",
        "# data_current.valid$Mode_In_Time = as.factor(data_current.valid$Mode_In_Time)\n",
        "# data_current.valid$Mode_Out_Time = as.factor(data_current.valid$Mode_Out_Time)\n",
        "# data_current.valid$Block = as.factor(data_current.valid$Block)\n",
        "summary(data_current.valid)\n"
      ],
      "execution_count": 91,
      "outputs": [
        {
          "output_type": "display_data",
          "data": {
            "text/plain": [
              "       X         Participant            Block          Sequence    \n",
              " Min.   :  145   Length:4798        Min.   :1.000   Min.   :2.000  \n",
              " 1st Qu.: 3636   Class :character   1st Qu.:1.000   1st Qu.:3.000  \n",
              " Median : 7348   Mode  :character   Median :2.000   Median :5.000  \n",
              " Mean   : 7270                      Mean   :2.495   Mean   :5.442  \n",
              " 3rd Qu.:10790                      3rd Qu.:3.000   3rd Qu.:7.000  \n",
              " Max.   :14399                      Max.   :4.000   Max.   :9.000  \n",
              "  Sub_Sequence       Trial       Target_Type        Target_Name       \n",
              " Min.   : 0.00   Min.   :145.0   Length:4798        Length:4798       \n",
              " 1st Qu.: 8.00   1st Qu.:287.0   Class :character   Class :character  \n",
              " Median :17.00   Median :431.0   Mode  :character   Mode  :character  \n",
              " Mean   :17.34   Mean   :427.5                                        \n",
              " 3rd Qu.:27.00   3rd Qu.:575.0                                        \n",
              " Max.   :35.00   Max.   :719.0                                        \n",
              "   Start_Time           End_Time         First_Reaction_Time  Mode_In_Time \n",
              " Min.   :1.567e+12   Min.   :1.567e+12   Min.   :1.567e+12   Min.   :  31  \n",
              " 1st Qu.:1.568e+12   1st Qu.:1.568e+12   1st Qu.:1.568e+12   1st Qu.:1301  \n",
              " Median :1.568e+12   Median :1.568e+12   Median :1.568e+12   Median :1909  \n",
              " Mean   :1.568e+12   Mean   :1.568e+12   Mean   :1.568e+12   Mean   :2299  \n",
              " 3rd Qu.:1.568e+12   3rd Qu.:1.568e+12   3rd Qu.:1.568e+12   3rd Qu.:3003  \n",
              " Max.   :1.568e+12   Max.   :1.568e+12   Max.   :1.568e+12   Max.   :8436  \n",
              " Mode_Out_Time    Execution_Time  Completion_Time Reference_Action_Count\n",
              " Min.   :   0.0   Min.   :  864   Min.   :   0    Min.   : 0.00         \n",
              " 1st Qu.: 201.2   1st Qu.: 2204   1st Qu.:1103    1st Qu.: 0.00         \n",
              " Median :1188.0   Median : 3031   Median :1274    Median :15.00         \n",
              " Mean   :1037.6   Mean   : 3336   Mean   :1377    Mean   :12.45         \n",
              " 3rd Qu.:1467.0   3rd Qu.: 4232   3rd Qu.:1630    3rd Qu.:24.00         \n",
              " Max.   :3457.0   Max.   :10365   Max.   :2966    Max.   :37.00         \n",
              " Incorrect_Action_Count    Error            IV_Surface       \n",
              " Min.   : 0.000         Length:4798        Length:4798       \n",
              " 1st Qu.: 0.000         Class :character   Class :character  \n",
              " Median : 0.000         Mode  :character   Mode  :character  \n",
              " Mean   : 2.203                                              \n",
              " 3rd Qu.: 4.000                                              \n",
              " Max.   :16.000                                              \n",
              " IV_Orientation       IV_Form            IV_Hand         \n",
              " Length:4798        Length:4798        Length:4798       \n",
              " Class :character   Class :character   Class :character  \n",
              " Mode  :character   Mode  :character   Mode  :character  \n",
              "                                                         \n",
              "                                                         \n",
              "                                                         \n",
              " Previous_Reference_Task Next_Reference_Task\n",
              " Length:4798             Length:4798        \n",
              " Class :character        Class :character   \n",
              " Mode  :character        Mode  :character   \n",
              "                                            \n",
              "                                            \n",
              "                                            "
            ]
          },
          "metadata": {
            "tags": []
          }
        }
      ]
    },
    {
      "cell_type": "code",
      "metadata": {
        "id": "IjqGLYmBWPj2"
      },
      "source": [
        "# log(data_clean.valid$Execution_Time)"
      ],
      "execution_count": 92,
      "outputs": []
    },
    {
      "cell_type": "code",
      "metadata": {
        "id": "jerMDwZbWPj3",
        "outputId": "8594cb76-4588-4ce8-a8fd-20c7c1ac4452",
        "colab": {
          "base_uri": "https://localhost:8080/",
          "height": 377
        }
      },
      "source": [
        "# ezANOVA(data=data, dv=.(Time), wid=.(Participant), within=.(Technique, Device), type=3)\n",
        "ezANOVA(data_current.valid, dv = Mode_Out_Time, wid = Participant, within = .(Target_Type,Next_Reference_Task), detailed = TRUE, type =1)\n"
      ],
      "execution_count": 94,
      "outputs": [
        {
          "output_type": "stream",
          "text": [
            "Warning message:\n",
            "“Converting \"Participant\" to factor for ANOVA.”\n",
            "Warning message:\n",
            "“Converting \"Target_Type\" to factor for ANOVA.”\n",
            "Warning message:\n",
            "“Converting \"Next_Reference_Task\" to factor for ANOVA.”\n",
            "Warning message:\n",
            "“You have removed one or more levels from variable \"Next_Reference_Task\". Refactoring for ANOVA.”\n",
            "Warning message:\n",
            "“Collapsing data to cell means. *IF* the requested effects are a subset of the full design, you must use the \"within_full\" argument, else results may be inaccurate.”\n"
          ],
          "name": "stderr"
        },
        {
          "output_type": "display_data",
          "data": {
            "text/plain": [
              "$ANOVA\n",
              "                           Effect DFn DFd      SSn      SSd         F\n",
              "1                     Target_Type   1  19  4780837 220271.3  412.3819\n",
              "2             Next_Reference_Task   1  19 12221504 269158.7  862.7201\n",
              "3 Target_Type:Next_Reference_Task   1  19  6251052 117453.4 1011.2095\n",
              "             p p<.05       ges\n",
              "1 2.413544e-14     * 0.8873580\n",
              "2 2.683149e-17     * 0.9526922\n",
              "3 6.107625e-18     * 0.9115064\n"
            ],
            "text/latex": "\\textbf{\\$ANOVA} = A data.frame: 3 × 9\n\\begin{tabular}{r|lllllllll}\n  & Effect & DFn & DFd & SSn & SSd & F & p & p<.05 & ges\\\\\n  & <chr> & <dbl> & <dbl> & <dbl> & <dbl> & <dbl> & <dbl> & <chr> & <dbl>\\\\\n\\hline\n\t1 & Target\\_Type                     & 1 & 19 &  4780837 & 220271.3 &  412.3819 & 2.413544e-14 & * & 0.8873580\\\\\n\t2 & Next\\_Reference\\_Task             & 1 & 19 & 12221504 & 269158.7 &  862.7201 & 2.683149e-17 & * & 0.9526922\\\\\n\t3 & Target\\_Type:Next\\_Reference\\_Task & 1 & 19 &  6251052 & 117453.4 & 1011.2095 & 6.107625e-18 & * & 0.9115064\\\\\n\\end{tabular}\n",
            "text/markdown": "**$ANOVA** = \nA data.frame: 3 × 9\n\n| <!--/--> | Effect &lt;chr&gt; | DFn &lt;dbl&gt; | DFd &lt;dbl&gt; | SSn &lt;dbl&gt; | SSd &lt;dbl&gt; | F &lt;dbl&gt; | p &lt;dbl&gt; | p&lt;.05 &lt;chr&gt; | ges &lt;dbl&gt; |\n|---|---|---|---|---|---|---|---|---|---|\n| 1 | Target_Type                     | 1 | 19 |  4780837 | 220271.3 |  412.3819 | 2.413544e-14 | * | 0.8873580 |\n| 2 | Next_Reference_Task             | 1 | 19 | 12221504 | 269158.7 |  862.7201 | 2.683149e-17 | * | 0.9526922 |\n| 3 | Target_Type:Next_Reference_Task | 1 | 19 |  6251052 | 117453.4 | 1011.2095 | 6.107625e-18 | * | 0.9115064 |\n\n",
            "text/html": [
              "<strong>$ANOVA</strong> = <table class=\"dataframe\">\n",
              "<caption>A data.frame: 3 × 9</caption>\n",
              "<thead>\n",
              "\t<tr><th></th><th scope=col>Effect</th><th scope=col>DFn</th><th scope=col>DFd</th><th scope=col>SSn</th><th scope=col>SSd</th><th scope=col>F</th><th scope=col>p</th><th scope=col>p&lt;.05</th><th scope=col>ges</th></tr>\n",
              "\t<tr><th></th><th scope=col>&lt;chr&gt;</th><th scope=col>&lt;dbl&gt;</th><th scope=col>&lt;dbl&gt;</th><th scope=col>&lt;dbl&gt;</th><th scope=col>&lt;dbl&gt;</th><th scope=col>&lt;dbl&gt;</th><th scope=col>&lt;dbl&gt;</th><th scope=col>&lt;chr&gt;</th><th scope=col>&lt;dbl&gt;</th></tr>\n",
              "</thead>\n",
              "<tbody>\n",
              "\t<tr><th scope=row>1</th><td>Target_Type                    </td><td>1</td><td>19</td><td> 4780837</td><td>220271.3</td><td> 412.3819</td><td>2.413544e-14</td><td>*</td><td>0.8873580</td></tr>\n",
              "\t<tr><th scope=row>2</th><td>Next_Reference_Task            </td><td>1</td><td>19</td><td>12221504</td><td>269158.7</td><td> 862.7201</td><td>2.683149e-17</td><td>*</td><td>0.9526922</td></tr>\n",
              "\t<tr><th scope=row>3</th><td>Target_Type:Next_Reference_Task</td><td>1</td><td>19</td><td> 6251052</td><td>117453.4</td><td>1011.2095</td><td>6.107625e-18</td><td>*</td><td>0.9115064</td></tr>\n",
              "</tbody>\n",
              "</table>\n"
            ]
          },
          "metadata": {
            "tags": []
          }
        }
      ]
    },
    {
      "cell_type": "code",
      "metadata": {
        "id": "9Q4bmiwfLQNr",
        "outputId": "359a5199-8e03-4957-bc65-8a04531e0bde",
        "colab": {
          "base_uri": "https://localhost:8080/",
          "height": 343
        }
      },
      "source": [
        "ezANOVA(data_current.valid, dv = Mode_In_Time, wid = Participant, within = .(Target_Type,Previous_Reference_Task), detailed = TRUE, type =1)"
      ],
      "execution_count": 95,
      "outputs": [
        {
          "output_type": "stream",
          "text": [
            "Warning message:\n",
            "“Converting \"Participant\" to factor for ANOVA.”\n",
            "Warning message:\n",
            "“Converting \"Target_Type\" to factor for ANOVA.”\n",
            "Warning message:\n",
            "“Converting \"Previous_Reference_Task\" to factor for ANOVA.”\n",
            "Warning message:\n",
            "“Collapsing data to cell means. *IF* the requested effects are a subset of the full design, you must use the \"within_full\" argument, else results may be inaccurate.”\n"
          ],
          "name": "stderr"
        },
        {
          "output_type": "display_data",
          "data": {
            "text/plain": [
              "$ANOVA\n",
              "                               Effect DFn DFd      SSn       SSd        F\n",
              "1                         Target_Type   1  19 21189882 1467402.5 274.3676\n",
              "2             Previous_Reference_Task   1  19 67935188 2205602.2 585.2228\n",
              "3 Target_Type:Previous_Reference_Task   1  19  7626326  448441.1 323.1198\n",
              "             p p<.05       ges\n",
              "1 9.499761e-13     * 0.8371699\n",
              "2 9.770286e-16     * 0.9428027\n",
              "3 2.195413e-13     * 0.6491721\n"
            ],
            "text/latex": "\\textbf{\\$ANOVA} = A data.frame: 3 × 9\n\\begin{tabular}{r|lllllllll}\n  & Effect & DFn & DFd & SSn & SSd & F & p & p<.05 & ges\\\\\n  & <chr> & <dbl> & <dbl> & <dbl> & <dbl> & <dbl> & <dbl> & <chr> & <dbl>\\\\\n\\hline\n\t1 & Target\\_Type                         & 1 & 19 & 21189882 & 1467402.5 & 274.3676 & 9.499761e-13 & * & 0.8371699\\\\\n\t2 & Previous\\_Reference\\_Task             & 1 & 19 & 67935188 & 2205602.2 & 585.2228 & 9.770286e-16 & * & 0.9428027\\\\\n\t3 & Target\\_Type:Previous\\_Reference\\_Task & 1 & 19 &  7626326 &  448441.1 & 323.1198 & 2.195413e-13 & * & 0.6491721\\\\\n\\end{tabular}\n",
            "text/markdown": "**$ANOVA** = \nA data.frame: 3 × 9\n\n| <!--/--> | Effect &lt;chr&gt; | DFn &lt;dbl&gt; | DFd &lt;dbl&gt; | SSn &lt;dbl&gt; | SSd &lt;dbl&gt; | F &lt;dbl&gt; | p &lt;dbl&gt; | p&lt;.05 &lt;chr&gt; | ges &lt;dbl&gt; |\n|---|---|---|---|---|---|---|---|---|---|\n| 1 | Target_Type                         | 1 | 19 | 21189882 | 1467402.5 | 274.3676 | 9.499761e-13 | * | 0.8371699 |\n| 2 | Previous_Reference_Task             | 1 | 19 | 67935188 | 2205602.2 | 585.2228 | 9.770286e-16 | * | 0.9428027 |\n| 3 | Target_Type:Previous_Reference_Task | 1 | 19 |  7626326 |  448441.1 | 323.1198 | 2.195413e-13 | * | 0.6491721 |\n\n",
            "text/html": [
              "<strong>$ANOVA</strong> = <table class=\"dataframe\">\n",
              "<caption>A data.frame: 3 × 9</caption>\n",
              "<thead>\n",
              "\t<tr><th></th><th scope=col>Effect</th><th scope=col>DFn</th><th scope=col>DFd</th><th scope=col>SSn</th><th scope=col>SSd</th><th scope=col>F</th><th scope=col>p</th><th scope=col>p&lt;.05</th><th scope=col>ges</th></tr>\n",
              "\t<tr><th></th><th scope=col>&lt;chr&gt;</th><th scope=col>&lt;dbl&gt;</th><th scope=col>&lt;dbl&gt;</th><th scope=col>&lt;dbl&gt;</th><th scope=col>&lt;dbl&gt;</th><th scope=col>&lt;dbl&gt;</th><th scope=col>&lt;dbl&gt;</th><th scope=col>&lt;chr&gt;</th><th scope=col>&lt;dbl&gt;</th></tr>\n",
              "</thead>\n",
              "<tbody>\n",
              "\t<tr><th scope=row>1</th><td>Target_Type                        </td><td>1</td><td>19</td><td>21189882</td><td>1467402.5</td><td>274.3676</td><td>9.499761e-13</td><td>*</td><td>0.8371699</td></tr>\n",
              "\t<tr><th scope=row>2</th><td>Previous_Reference_Task            </td><td>1</td><td>19</td><td>67935188</td><td>2205602.2</td><td>585.2228</td><td>9.770286e-16</td><td>*</td><td>0.9428027</td></tr>\n",
              "\t<tr><th scope=row>3</th><td>Target_Type:Previous_Reference_Task</td><td>1</td><td>19</td><td> 7626326</td><td> 448441.1</td><td>323.1198</td><td>2.195413e-13</td><td>*</td><td>0.6491721</td></tr>\n",
              "</tbody>\n",
              "</table>\n"
            ]
          },
          "metadata": {
            "tags": []
          }
        }
      ]
    },
    {
      "cell_type": "code",
      "metadata": {
        "id": "SOsm0-9PtEtN"
      },
      "source": [
        "ezANOVA(data_current.valid, dv = Mode_Out_Time, wid = Participant, within = Target_Type, detailed = TRUE, type =1)"
      ],
      "execution_count": null,
      "outputs": []
    },
    {
      "cell_type": "code",
      "metadata": {
        "id": "PwFqRFskWPj3",
        "outputId": "7a5c4cb2-4f97-49a8-d9c4-68c901a897c3"
      },
      "source": [
        "l;'\n",
        "pairwise.t.test(data_current.valid$Completion_Time, data_current.valid$Block, p.adjust.method = \"bonferroni\")\n"
      ],
      "execution_count": null,
      "outputs": [
        {
          "output_type": "display_data",
          "data": {
            "text/plain": [
              "\n",
              "\tPairwise comparisons using t tests with pooled SD \n",
              "\n",
              "data:  data_current.valid$Completion_Time and data_current.valid$Block \n",
              "\n",
              "  0       1       2       3      \n",
              "1 1.7e-13 -       -       -      \n",
              "2 < 2e-16 0.30868 -       -      \n",
              "3 < 2e-16 0.04527 1.00000 -      \n",
              "4 < 2e-16 0.00052 0.59635 1.00000\n",
              "\n",
              "P value adjustment method: bonferroni "
            ]
          },
          "metadata": {
            "tags": []
          }
        }
      ]
    },
    {
      "cell_type": "code",
      "metadata": {
        "id": "Ux8m4lASWPj3"
      },
      "source": [
        ""
      ],
      "execution_count": null,
      "outputs": []
    },
    {
      "cell_type": "code",
      "metadata": {
        "id": "e8dyNM_WWPj3"
      },
      "source": [
        ""
      ],
      "execution_count": null,
      "outputs": []
    },
    {
      "cell_type": "code",
      "metadata": {
        "id": "HeCS9zQcWPj3",
        "outputId": "b13e1a3f-af43-48ea-e5d0-e26f544a9998"
      },
      "source": [
        "ezANOVA(data_comfort.valid,dv = score,wid = ParticipantID,within = form, detailed = TRUE, type =1)"
      ],
      "execution_count": null,
      "outputs": [
        {
          "output_type": "stream",
          "text": [
            "Warning message:\n",
            "“Collapsing data to cell means. *IF* the requested effects are a subset of the full design, you must use the \"within_full\" argument, else results may be inaccurate.”"
          ],
          "name": "stderr"
        },
        {
          "output_type": "display_data",
          "data": {
            "text/html": [
              "<strong>$ANOVA</strong> = <table>\n",
              "<thead><tr><th scope=col>Effect</th><th scope=col>DFn</th><th scope=col>DFd</th><th scope=col>SSn</th><th scope=col>SSd</th><th scope=col>F</th><th scope=col>p</th><th scope=col>p&lt;.05</th><th scope=col>ges</th></tr></thead>\n",
              "<tbody>\n",
              "\t<tr><td>form      </td><td>1         </td><td>29        </td><td>0.7782407 </td><td>4.507253  </td><td>5.007259  </td><td>0.03308875</td><td>*         </td><td>0.1472409 </td></tr>\n",
              "</tbody>\n",
              "</table>\n"
            ],
            "text/latex": "\\textbf{\\$ANOVA} = \\begin{tabular}{r|lllllllll}\n Effect & DFn & DFd & SSn & SSd & F & p & p<.05 & ges\\\\\n\\hline\n\t form       & 1          & 29         & 0.7782407  & 4.507253   & 5.007259   & 0.03308875 & *          & 0.1472409 \\\\\n\\end{tabular}\n",
            "text/markdown": "**$ANOVA** = \n| Effect | DFn | DFd | SSn | SSd | F | p | p<.05 | ges |\n|---|---|---|---|---|---|---|---|---|\n| form       | 1          | 29         | 0.7782407  | 4.507253   | 5.007259   | 0.03308875 | *          | 0.1472409  |\n\n",
            "text/plain": [
              "$ANOVA\n",
              "  Effect DFn DFd       SSn      SSd        F          p p<.05       ges\n",
              "1   form   1  29 0.7782407 4.507253 5.007259 0.03308875     * 0.1472409\n"
            ]
          },
          "metadata": {
            "tags": []
          }
        }
      ]
    },
    {
      "cell_type": "code",
      "metadata": {
        "id": "O5fg61hYWPj4",
        "outputId": "2316a032-4956-4fc8-c50e-5a6f39fd2629"
      },
      "source": [
        "ezANOVA(data.valid,dv = score,wid = ParticipantID,within = surface, type=1)"
      ],
      "execution_count": null,
      "outputs": [
        {
          "output_type": "error",
          "ename": "ERROR",
          "evalue": "Error in ezANOVA(data.valid, dv = score, wid = ParticipantID, within = surface, : object 'data.valid' not found\n",
          "traceback": [
            "Error in ezANOVA(data.valid, dv = score, wid = ParticipantID, within = surface, : object 'data.valid' not found\nTraceback:\n",
            "1. ezANOVA(data.valid, dv = score, wid = ParticipantID, within = surface, \n .     type = 1)"
          ]
        }
      ]
    },
    {
      "cell_type": "code",
      "metadata": {
        "id": "avbEPbtWWPj4",
        "outputId": "35c0ffc9-314d-45ab-fa86-cf1969d19732"
      },
      "source": [
        "pairwise.t.test(data_comfort.valid$score, data.valid$dexterity, paired = T, p.adjust.method = \"bonferroni\")"
      ],
      "execution_count": null,
      "outputs": [
        {
          "output_type": "error",
          "ename": "ERROR",
          "evalue": "Error in factor(g): object 'data.valid' not found\n",
          "traceback": [
            "Error in factor(g): object 'data.valid' not found\nTraceback:\n",
            "1. pairwise.t.test(data_comfort.valid$score, data.valid$dexterity, \n .     paired = T, p.adjust.method = \"bonferroni\")",
            "2. factor(g)"
          ]
        }
      ]
    },
    {
      "cell_type": "code",
      "metadata": {
        "id": "6B43bMU1WPj4"
      },
      "source": [
        ""
      ],
      "execution_count": null,
      "outputs": []
    },
    {
      "cell_type": "code",
      "metadata": {
        "id": "F8bthmC4WPj4"
      },
      "source": [
        ""
      ],
      "execution_count": null,
      "outputs": []
    },
    {
      "cell_type": "code",
      "metadata": {
        "id": "Z__gQtdrWPj5"
      },
      "source": [
        ""
      ],
      "execution_count": null,
      "outputs": []
    },
    {
      "cell_type": "code",
      "metadata": {
        "id": "UXuujiZ9WPj5"
      },
      "source": [
        ""
      ],
      "execution_count": null,
      "outputs": []
    }
  ]
}