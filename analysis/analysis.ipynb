{
 "cells": [
  {
   "cell_type": "code",
   "execution_count": 1,
   "metadata": {},
   "outputs": [
    {
     "name": "stderr",
     "output_type": "stream",
     "text": [
      "Loading required package: lme4\n",
      "Loading required package: Matrix\n",
      "Registered S3 methods overwritten by 'car':\n",
      "  method                          from\n",
      "  influence.merMod                lme4\n",
      "  cooks.distance.influence.merMod lme4\n",
      "  dfbeta.influence.merMod         lme4\n",
      "  dfbetas.influence.merMod        lme4\n",
      "Registered S3 methods overwritten by 'ggplot2':\n",
      "  method         from \n",
      "  [.quosures     rlang\n",
      "  c.quosures     rlang\n",
      "  print.quosures rlang\n",
      "************\n",
      "Welcome to afex. For support visit: http://afex.singmann.science/\n",
      "- Functions for ANOVAs: aov_car(), aov_ez(), and aov_4()\n",
      "- Methods for calculating p-values with mixed(): 'KR', 'S', 'LRT', and 'PB'\n",
      "- 'afex_aov' and 'mixed' objects can be passed to emmeans() for follow-up tests\n",
      "- NEWS: library('emmeans') now needs to be called explicitly!\n",
      "- Get and set global package options with: afex_options()\n",
      "- Set orthogonal sum-to-zero contrasts globally: set_sum_contrasts()\n",
      "- For example analyses see: browseVignettes(\"afex\")\n",
      "************\n",
      "\n",
      "Attaching package: ‘afex’\n",
      "\n",
      "The following object is masked from ‘package:lme4’:\n",
      "\n",
      "    lmer\n",
      "\n"
     ]
    }
   ],
   "source": [
    "library(afex)"
   ]
  },
  {
   "cell_type": "code",
   "execution_count": 4,
   "metadata": {},
   "outputs": [],
   "source": [
    "help(aov_ez)"
   ]
  },
  {
   "cell_type": "code",
   "execution_count": 5,
   "metadata": {},
   "outputs": [],
   "source": [
    "data <- read.csv(\"http://raw.githubusercontent.com/marsja/jupyter/master/Python_ANOVA/rmAOV2way.csv\")\n"
   ]
  },
  {
   "cell_type": "code",
   "execution_count": 6,
   "metadata": {},
   "outputs": [
    {
     "data": {
      "text/html": [
       "<table>\n",
       "<thead><tr><th scope=col>Sub_id</th><th scope=col>rt</th><th scope=col>iv1</th><th scope=col>iv2</th></tr></thead>\n",
       "<tbody>\n",
       "\t<tr><td>1        </td><td>1082.9866</td><td>noise    </td><td>down     </td></tr>\n",
       "\t<tr><td>2        </td><td> 938.7997</td><td>noise    </td><td>down     </td></tr>\n",
       "\t<tr><td>3        </td><td>1101.4710</td><td>noise    </td><td>down     </td></tr>\n",
       "\t<tr><td>4        </td><td>1123.0303</td><td>noise    </td><td>down     </td></tr>\n",
       "\t<tr><td>5        </td><td> 938.0516</td><td>noise    </td><td>down     </td></tr>\n",
       "\t<tr><td>6        </td><td> 864.4438</td><td>noise    </td><td>down     </td></tr>\n",
       "</tbody>\n",
       "</table>\n"
      ],
      "text/latex": [
       "\\begin{tabular}{r|llll}\n",
       " Sub\\_id & rt & iv1 & iv2\\\\\n",
       "\\hline\n",
       "\t 1         & 1082.9866 & noise     & down     \\\\\n",
       "\t 2         &  938.7997 & noise     & down     \\\\\n",
       "\t 3         & 1101.4710 & noise     & down     \\\\\n",
       "\t 4         & 1123.0303 & noise     & down     \\\\\n",
       "\t 5         &  938.0516 & noise     & down     \\\\\n",
       "\t 6         &  864.4438 & noise     & down     \\\\\n",
       "\\end{tabular}\n"
      ],
      "text/markdown": [
       "\n",
       "| Sub_id | rt | iv1 | iv2 |\n",
       "|---|---|---|---|\n",
       "| 1         | 1082.9866 | noise     | down      |\n",
       "| 2         |  938.7997 | noise     | down      |\n",
       "| 3         | 1101.4710 | noise     | down      |\n",
       "| 4         | 1123.0303 | noise     | down      |\n",
       "| 5         |  938.0516 | noise     | down      |\n",
       "| 6         |  864.4438 | noise     | down      |\n",
       "\n"
      ],
      "text/plain": [
       "  Sub_id rt        iv1   iv2 \n",
       "1 1      1082.9866 noise down\n",
       "2 2       938.7997 noise down\n",
       "3 3      1101.4710 noise down\n",
       "4 4      1123.0303 noise down\n",
       "5 5       938.0516 noise down\n",
       "6 6       864.4438 noise down"
      ]
     },
     "metadata": {},
     "output_type": "display_data"
    }
   ],
   "source": [
    "head(data)"
   ]
  },
  {
   "cell_type": "code",
   "execution_count": null,
   "metadata": {},
   "outputs": [],
   "source": []
  }
 ],
 "metadata": {
  "kernelspec": {
   "display_name": "R",
   "language": "R",
   "name": "ir"
  },
  "language_info": {
   "codemirror_mode": "r",
   "file_extension": ".r",
   "mimetype": "text/x-r-source",
   "name": "R",
   "pygments_lexer": "r",
   "version": "3.6.1"
  }
 },
 "nbformat": 4,
 "nbformat_minor": 2
}
