{
  "nbformat": 4,
  "nbformat_minor": 0,
  "metadata": {
    "kernelspec": {
      "display_name": "Python 3",
      "language": "python",
      "name": "python3"
    },
    "language_info": {
      "codemirror_mode": {
        "name": "ipython",
        "version": 3
      },
      "file_extension": ".py",
      "mimetype": "text/x-python",
      "name": "python",
      "nbconvert_exporter": "python",
      "pygments_lexer": "ipython3",
      "version": "3.6.7"
    },
    "colab": {
      "name": "study_1.ipynb",
      "version": "0.3.2",
      "provenance": []
    }
  },
  "cells": [
    {
      "cell_type": "markdown",
      "metadata": {
        "id": "Cf7BC6tpPFZo",
        "colab_type": "text"
      },
      "source": [
        "# Imports"
      ]
    },
    {
      "cell_type": "code",
      "metadata": {
        "id": "ivaT6E025pjY",
        "colab_type": "code",
        "colab": {}
      },
      "source": [
        "import pandas as pd \n",
        "import requests\n",
        "import io\n",
        "import re"
      ],
      "execution_count": 0,
      "outputs": []
    },
    {
      "cell_type": "markdown",
      "metadata": {
        "id": "N7iiXKZhO7ep",
        "colab_type": "text"
      },
      "source": [
        "# Load Data"
      ]
    },
    {
      "cell_type": "code",
      "metadata": {
        "id": "z_jy5dIH5r34",
        "colab_type": "code",
        "outputId": "7fe300a4-efa3-4930-b12e-a0f4184ab3d9",
        "colab": {
          "base_uri": "https://localhost:8080/",
          "height": 105
        }
      },
      "source": [
        "BASE_URL = \"https://docs.google.com/spreadsheets/d/1VpLXByvbTfbgupDNWcUaBxdk72cW9FRExs0AgRVaF1g/export?format=csv&\"\n",
        "URL_PARTICIPANTS = BASE_URL+\"gid=611260429\"\n",
        "URL_POSTURES = BASE_URL+\"gid=961690077\"\n",
        "content_participants = requests.get(URL_PARTICIPANTS, verify=False).content\n",
        "content_postures = requests.get(URL_POSTURES, verify=False).content\n",
        "df_participants = pd.read_csv(io.StringIO(content_participants.decode('utf-8'))) \n",
        "df_postures = pd.read_csv(io.StringIO(content_postures.decode('utf-8'))) "
      ],
      "execution_count": 2,
      "outputs": [
        {
          "output_type": "stream",
          "text": [
            "/usr/local/lib/python3.6/dist-packages/urllib3/connectionpool.py:847: InsecureRequestWarning: Unverified HTTPS request is being made. Adding certificate verification is strongly advised. See: https://urllib3.readthedocs.io/en/latest/advanced-usage.html#ssl-warnings\n",
            "  InsecureRequestWarning)\n",
            "/usr/local/lib/python3.6/dist-packages/urllib3/connectionpool.py:847: InsecureRequestWarning: Unverified HTTPS request is being made. Adding certificate verification is strongly advised. See: https://urllib3.readthedocs.io/en/latest/advanced-usage.html#ssl-warnings\n",
            "  InsecureRequestWarning)\n"
          ],
          "name": "stderr"
        }
      ]
    },
    {
      "cell_type": "code",
      "metadata": {
        "id": "AA0NFF_8bA5n",
        "colab_type": "code",
        "outputId": "d335ced7-f92d-42ad-877a-37a3eedafabc",
        "colab": {
          "base_uri": "https://localhost:8080/",
          "height": 80
        }
      },
      "source": [
        "df_participants.head(1)"
      ],
      "execution_count": 3,
      "outputs": [
        {
          "output_type": "execute_result",
          "data": {
            "text/html": [
              "<div>\n",
              "<style scoped>\n",
              "    .dataframe tbody tr th:only-of-type {\n",
              "        vertical-align: middle;\n",
              "    }\n",
              "\n",
              "    .dataframe tbody tr th {\n",
              "        vertical-align: top;\n",
              "    }\n",
              "\n",
              "    .dataframe thead th {\n",
              "        text-align: right;\n",
              "    }\n",
              "</style>\n",
              "<table border=\"1\" class=\"dataframe\">\n",
              "  <thead>\n",
              "    <tr style=\"text-align: right;\">\n",
              "      <th></th>\n",
              "      <th>ParticipantID</th>\n",
              "      <th>Age</th>\n",
              "      <th>Gender</th>\n",
              "      <th>DominantHand</th>\n",
              "      <th>AvgTimeSpent</th>\n",
              "      <th>WordsPerMinute</th>\n",
              "      <th>WordCount</th>\n",
              "      <th>Errors</th>\n",
              "      <th>TimeTakenS</th>\n",
              "      <th>TimeTakenM</th>\n",
              "      <th>MeanError</th>\n",
              "      <th>totalwords</th>\n",
              "      <th>time</th>\n",
              "      <th>sec</th>\n",
              "    </tr>\n",
              "  </thead>\n",
              "  <tbody>\n",
              "    <tr>\n",
              "      <th>0</th>\n",
              "      <td>participant_1</td>\n",
              "      <td>27.0</td>\n",
              "      <td>Male</td>\n",
              "      <td>Right</td>\n",
              "      <td>10.0</td>\n",
              "      <td>57.0</td>\n",
              "      <td>89.0</td>\n",
              "      <td>15.0</td>\n",
              "      <td>94.0</td>\n",
              "      <td>1.561404</td>\n",
              "      <td>9.606742</td>\n",
              "      <td>104.0</td>\n",
              "      <td>1.561404</td>\n",
              "      <td>93.684211</td>\n",
              "    </tr>\n",
              "  </tbody>\n",
              "</table>\n",
              "</div>"
            ],
            "text/plain": [
              "   ParticipantID   Age Gender  ... totalwords      time        sec\n",
              "0  participant_1  27.0   Male  ...      104.0  1.561404  93.684211\n",
              "\n",
              "[1 rows x 14 columns]"
            ]
          },
          "metadata": {
            "tags": []
          },
          "execution_count": 3
        }
      ]
    },
    {
      "cell_type": "code",
      "metadata": {
        "id": "F1QKl121bDQ7",
        "colab_type": "code",
        "outputId": "8df37071-b3aa-423c-ce23-4a48b621e2b9",
        "colab": {
          "base_uri": "https://localhost:8080/",
          "height": 100
        }
      },
      "source": [
        "df_postures.head(1)"
      ],
      "execution_count": 4,
      "outputs": [
        {
          "output_type": "execute_result",
          "data": {
            "text/html": [
              "<div>\n",
              "<style scoped>\n",
              "    .dataframe tbody tr th:only-of-type {\n",
              "        vertical-align: middle;\n",
              "    }\n",
              "\n",
              "    .dataframe tbody tr th {\n",
              "        vertical-align: top;\n",
              "    }\n",
              "\n",
              "    .dataframe thead th {\n",
              "        text-align: right;\n",
              "    }\n",
              "</style>\n",
              "<table border=\"1\" class=\"dataframe\">\n",
              "  <thead>\n",
              "    <tr style=\"text-align: right;\">\n",
              "      <th></th>\n",
              "      <th>ParticipantID</th>\n",
              "      <th>Comfort_Below_Left_Fist_0</th>\n",
              "      <th>Preference_Below_Left_Fist_0</th>\n",
              "      <th>Comfort_Below_Right_Fist_0</th>\n",
              "      <th>Preference_Below_Right_Fist_0</th>\n",
              "      <th>Comfort_Below_Left_Fist_90</th>\n",
              "      <th>Preference_Below_Left_Fist_90</th>\n",
              "      <th>Comfort_Below_Right_Fist_90</th>\n",
              "      <th>Preference_Below_Right_Fist_90</th>\n",
              "      <th>Comfort_Below_Left_Fist_360</th>\n",
              "      <th>Preference_Below_Left_Fist_360</th>\n",
              "      <th>Comfort_Below_Right_Fist_360</th>\n",
              "      <th>Preference_Below_Right_Fist_360</th>\n",
              "      <th>Comfort_Below_Left_Palm_0</th>\n",
              "      <th>Preference_Below_Left_Palm_0</th>\n",
              "      <th>Comfort_Below_Right_Palm_0</th>\n",
              "      <th>Preference_Below_Right_Palm_0</th>\n",
              "      <th>Comfort_Below_Left_Palm_90</th>\n",
              "      <th>Preference_Below_Left_Palm_90</th>\n",
              "      <th>Comfort_Below_Right_Palm_90</th>\n",
              "      <th>Preference_Below_Right_Palm_90</th>\n",
              "      <th>Comfort_Below_Left_Palm_360</th>\n",
              "      <th>Preference_Below_Left_Palm_360</th>\n",
              "      <th>Comfort_Below_Right_Palm_360</th>\n",
              "      <th>Preference_Below_Right_Palm_360</th>\n",
              "      <th>Comfort_On_Left_Fist_0</th>\n",
              "      <th>Preference_On_Left_Fist_0</th>\n",
              "      <th>Comfort_On_Right_Fist_0</th>\n",
              "      <th>Preference_On_Right_Fist_0</th>\n",
              "      <th>Comfort_On_Left_Fist_90</th>\n",
              "      <th>Preference_On_Left_Fist_90</th>\n",
              "      <th>Comfort_On_Right_Fist_90</th>\n",
              "      <th>Preference_On_Right_Fist_90</th>\n",
              "      <th>Comfort_On_Left_Fist_360</th>\n",
              "      <th>Preference_On_Left_Fist_360</th>\n",
              "      <th>Comfort_On_Right_Fist_360</th>\n",
              "      <th>Preference_On_Right_Fist_360</th>\n",
              "      <th>Comfort_On_Left_Palm_0</th>\n",
              "      <th>Preference_On_Left_Palm_0</th>\n",
              "      <th>Comfort_On_Right_Palm_0</th>\n",
              "      <th>Preference_On_Right_Palm_0</th>\n",
              "      <th>Comfort_On_Left_Palm_90</th>\n",
              "      <th>Preference_On_Left_Palm_90</th>\n",
              "      <th>Comfort_On_Right_Palm_90</th>\n",
              "      <th>Preference_On_Right_Palm_90</th>\n",
              "      <th>Comfort_On_Left_Palm_360</th>\n",
              "      <th>Preference_On_Left_Palm_360</th>\n",
              "      <th>Comfort_On_Right_Palm_360</th>\n",
              "      <th>Preference_On_Right_Palm_360</th>\n",
              "      <th>Comfort_Beside_Left_Fist_0</th>\n",
              "      <th>Preference_Beside_Left_Fist_0</th>\n",
              "      <th>Comfort_Beside_Right_Fist_0</th>\n",
              "      <th>Preference_Beside_Right_Fist_0</th>\n",
              "      <th>Comfort_Beside_Left_Fist_90</th>\n",
              "      <th>Preference_Beside_Left_Fist_90</th>\n",
              "      <th>Comfort_Beside_Right_Fist_90</th>\n",
              "      <th>Preference_Beside_Right_Fist_90</th>\n",
              "      <th>Comfort_Beside_Left_Fist_360</th>\n",
              "      <th>Preference_Beside_Left_Fist_360</th>\n",
              "      <th>Comfort_Beside_Right_Fist_360</th>\n",
              "      <th>Preference_Beside_Right_Fist_360</th>\n",
              "      <th>Comfort_Beside_Left_Palm_0</th>\n",
              "      <th>Preference_Beside_Left_Palm_0</th>\n",
              "      <th>Comfort_Beside_Right_Palm_0</th>\n",
              "      <th>Preference_Beside_Right_Palm_0</th>\n",
              "      <th>Comfort_Beside_Left_Palm_90</th>\n",
              "      <th>Preference_Beside_Left_Palm_90</th>\n",
              "      <th>Comfort_Beside_Right_Palm_90</th>\n",
              "      <th>Preference_Beside_Right_Palm_90</th>\n",
              "      <th>Comfort_Beside_Left_Palm_360</th>\n",
              "      <th>Preference_Beside_Left_Palm_360</th>\n",
              "      <th>Comfort_Beside_Right_Palm_360</th>\n",
              "      <th>Preference_Beside_Right_Palm_360</th>\n",
              "    </tr>\n",
              "  </thead>\n",
              "  <tbody>\n",
              "    <tr>\n",
              "      <th>0</th>\n",
              "      <td>participant_1</td>\n",
              "      <td>3</td>\n",
              "      <td>2</td>\n",
              "      <td>4</td>\n",
              "      <td>4</td>\n",
              "      <td>2</td>\n",
              "      <td>2</td>\n",
              "      <td>4</td>\n",
              "      <td>4</td>\n",
              "      <td>1</td>\n",
              "      <td>1</td>\n",
              "      <td>2</td>\n",
              "      <td>2</td>\n",
              "      <td>3</td>\n",
              "      <td>3</td>\n",
              "      <td>5</td>\n",
              "      <td>5</td>\n",
              "      <td>3</td>\n",
              "      <td>3</td>\n",
              "      <td>4</td>\n",
              "      <td>4</td>\n",
              "      <td>1</td>\n",
              "      <td>1</td>\n",
              "      <td>2</td>\n",
              "      <td>2</td>\n",
              "      <td>2</td>\n",
              "      <td>2</td>\n",
              "      <td>4</td>\n",
              "      <td>4</td>\n",
              "      <td>1</td>\n",
              "      <td>1</td>\n",
              "      <td>4</td>\n",
              "      <td>4</td>\n",
              "      <td>1</td>\n",
              "      <td>1</td>\n",
              "      <td>2</td>\n",
              "      <td>2</td>\n",
              "      <td>3</td>\n",
              "      <td>3</td>\n",
              "      <td>4</td>\n",
              "      <td>4</td>\n",
              "      <td>2</td>\n",
              "      <td>2</td>\n",
              "      <td>4</td>\n",
              "      <td>4</td>\n",
              "      <td>1</td>\n",
              "      <td>1</td>\n",
              "      <td>1</td>\n",
              "      <td>1</td>\n",
              "      <td>2</td>\n",
              "      <td>2</td>\n",
              "      <td>3</td>\n",
              "      <td>3</td>\n",
              "      <td>2</td>\n",
              "      <td>2</td>\n",
              "      <td>4</td>\n",
              "      <td>4.0</td>\n",
              "      <td>1</td>\n",
              "      <td>1</td>\n",
              "      <td>1</td>\n",
              "      <td>1</td>\n",
              "      <td>3</td>\n",
              "      <td>3</td>\n",
              "      <td>4</td>\n",
              "      <td>4</td>\n",
              "      <td>3</td>\n",
              "      <td>3</td>\n",
              "      <td>4</td>\n",
              "      <td>4</td>\n",
              "      <td>1</td>\n",
              "      <td>1</td>\n",
              "      <td>1</td>\n",
              "      <td>1</td>\n",
              "    </tr>\n",
              "  </tbody>\n",
              "</table>\n",
              "</div>"
            ],
            "text/plain": [
              "   ParticipantID  ...  Preference_Beside_Right_Palm_360\n",
              "0  participant_1  ...                                 1\n",
              "\n",
              "[1 rows x 73 columns]"
            ]
          },
          "metadata": {
            "tags": []
          },
          "execution_count": 4
        }
      ]
    },
    {
      "cell_type": "markdown",
      "metadata": {
        "id": "Q1lgVpX9OHm9",
        "colab_type": "text"
      },
      "source": [
        "# Analysis"
      ]
    },
    {
      "cell_type": "markdown",
      "metadata": {
        "id": "IaNXIlABaF5-",
        "colab_type": "text"
      },
      "source": [
        "## Participants"
      ]
    },
    {
      "cell_type": "code",
      "metadata": {
        "id": "HN_n_-7PMoYy",
        "colab_type": "code",
        "outputId": "81da9274-2cdc-4063-c3f1-7b6b573ffffb",
        "colab": {
          "base_uri": "https://localhost:8080/",
          "height": 68
        }
      },
      "source": [
        "# GENDER DISTRIBUTION\n",
        "df_participants.Gender.value_counts()"
      ],
      "execution_count": 5,
      "outputs": [
        {
          "output_type": "execute_result",
          "data": {
            "text/plain": [
              "Male      20\n",
              "Female    10\n",
              "Name: Gender, dtype: int64"
            ]
          },
          "metadata": {
            "tags": []
          },
          "execution_count": 5
        }
      ]
    },
    {
      "cell_type": "code",
      "metadata": {
        "id": "5TGe20gGMmev",
        "colab_type": "code",
        "outputId": "2c5c4a60-4122-4ab0-a615-2b172fdf7fcc",
        "colab": {
          "base_uri": "https://localhost:8080/",
          "height": 51
        }
      },
      "source": [
        "# AVERAGE AGE\n",
        "print(\"MEAN: \",df_participants[\"Age\"].mean())\n",
        "print(\"STD: \",df_participants[\"Age\"].std())"
      ],
      "execution_count": 6,
      "outputs": [
        {
          "output_type": "stream",
          "text": [
            "MEAN:  24.566666666666666\n",
            "STD:  2.4023455970813385\n"
          ],
          "name": "stdout"
        }
      ]
    },
    {
      "cell_type": "code",
      "metadata": {
        "id": "qZcRqcv2MT5A",
        "colab_type": "code",
        "outputId": "804df99b-5691-4841-cd41-e0f4ce2338b4",
        "colab": {
          "base_uri": "https://localhost:8080/",
          "height": 51
        }
      },
      "source": [
        "# AVERAGE USAGE\n",
        "print(\"MEAN: \",df_participants[\"AvgTimeSpent\"].mean())\n",
        "print(\"STD: \",df_participants[\"AvgTimeSpent\"].std())"
      ],
      "execution_count": 7,
      "outputs": [
        {
          "output_type": "stream",
          "text": [
            "MEAN:  7.0\n",
            "STD:  3.723179953415795\n"
          ],
          "name": "stdout"
        }
      ]
    },
    {
      "cell_type": "code",
      "metadata": {
        "id": "14sBgUmWMIYk",
        "colab_type": "code",
        "outputId": "5e848a2b-bfcb-4935-eeab-bfcd888f919e",
        "colab": {
          "base_uri": "https://localhost:8080/",
          "height": 51
        }
      },
      "source": [
        "# AVERAGE TYPING SPEED\n",
        "print(\"MEAN: \",df_participants[\"WordsPerMinute\"].mean())\n",
        "print(\"STD: \",df_participants[\"WordsPerMinute\"].std())"
      ],
      "execution_count": 8,
      "outputs": [
        {
          "output_type": "stream",
          "text": [
            "MEAN:  34.9\n",
            "STD:  9.531617078855561\n"
          ],
          "name": "stdout"
        }
      ]
    },
    {
      "cell_type": "code",
      "metadata": {
        "id": "-kKPRTVKMs3D",
        "colab_type": "code",
        "outputId": "c79435e9-af4c-4501-b0a4-c4397d288786",
        "colab": {
          "base_uri": "https://localhost:8080/",
          "height": 51
        }
      },
      "source": [
        "# AVERAGE ERROR RATE\n",
        "print(\"MEAN: \",df_participants[\"MeanError\"].mean())\n",
        "print(\"STD: \",df_participants[\"MeanError\"].std())"
      ],
      "execution_count": 9,
      "outputs": [
        {
          "output_type": "stream",
          "text": [
            "MEAN:  5.735205992738709\n",
            "STD:  2.6533760931418673\n"
          ],
          "name": "stdout"
        }
      ]
    },
    {
      "cell_type": "markdown",
      "metadata": {
        "id": "-6gF5gdGaK1d",
        "colab_type": "text"
      },
      "source": [
        "## Postures"
      ]
    },
    {
      "cell_type": "code",
      "metadata": {
        "id": "DLMhsuzFhMUJ",
        "colab_type": "code",
        "colab": {}
      },
      "source": [
        "df_postures_comfort = df_postures.filter(regex='Comfort_')\n",
        "df_postures_preference = df_postures.filter(regex='Preference_')\n",
        "\n",
        "df_postures_comfort_mean = df_postures_comfort.mean()\n",
        "df_postures_preference_mean = df_postures_preference.mean()\n",
        "# df_postures_preference_mean.to_frame().transpose()"
      ],
      "execution_count": 0,
      "outputs": []
    },
    {
      "cell_type": "code",
      "metadata": {
        "id": "KWhV6XLWd-f2",
        "colab_type": "code",
        "outputId": "e5e39107-e755-40dd-97c3-05e51a660ed3",
        "colab": {
          "base_uri": "https://localhost:8080/",
          "height": 119
        }
      },
      "source": [
        "df_postures_preference_mean.sort_values(ascending=False).head(5)"
      ],
      "execution_count": 11,
      "outputs": [
        {
          "output_type": "execute_result",
          "data": {
            "text/plain": [
              "Preference_On_Right_Palm_0        4.366667\n",
              "Preference_Below_Right_Palm_0     4.300000\n",
              "Preference_Below_Right_Fist_90    4.200000\n",
              "Preference_Below_Left_Palm_0      3.933333\n",
              "Preference_On_Left_Palm_0         3.933333\n",
              "dtype: float64"
            ]
          },
          "metadata": {
            "tags": []
          },
          "execution_count": 11
        }
      ]
    },
    {
      "cell_type": "code",
      "metadata": {
        "id": "BwrYbbi-eCB-",
        "colab_type": "code",
        "colab": {}
      },
      "source": [
        "# pandas sort_values in reverse (higher score is better)\n",
        "# Convert Pandas Series to Python Str, remove alll extra whitespaces and split by \\n to get list of Strings\n",
        "# Match whitespace but not newlines: https://stackoverflow.com/questions/3469080/match-whitespace-but-not-newlines \n",
        "\n",
        "l1= re.sub(r'\\s+[^\\S\\r\\n]', ' = ',str(df_postures_comfort_mean.sort_values(ascending=False))).split(\"\\n\")\n",
        "l2= re.sub(r'\\s+[^\\S\\r\\n]', ' = ',str(df_postures_preference_mean.sort_values(ascending=False))).split(\"\\n\")"
      ],
      "execution_count": 0,
      "outputs": []
    },
    {
      "cell_type": "code",
      "metadata": {
        "id": "xNQD_kfXmaAs",
        "colab_type": "code",
        "colab": {}
      },
      "source": [
        "# construct a new dataframe\n",
        "posture_comparison = pd.DataFrame(list(zip(l1,l2)), columns = ['Comfort' , 'Preference'])"
      ],
      "execution_count": 0,
      "outputs": []
    },
    {
      "cell_type": "code",
      "metadata": {
        "id": "8s9xdQk2pcze",
        "colab_type": "code",
        "outputId": "bf86f072-136d-4706-d984-0319a136c045",
        "colab": {
          "base_uri": "https://localhost:8080/",
          "height": 1000
        }
      },
      "source": [
        "# remove string value from column in pandas dataframe: https://stackoverflow.com/questions/33413249/how-to-remove-string-value-from-column-in-pandas-dataframe\n",
        "posture_comparison[\"Comfort\"] = posture_comparison.Comfort.str.replace(\"Comfort_\",'')\n",
        "posture_comparison[\"Preference\"] = posture_comparison.Preference.str.replace(\"Preference_\",'')\n",
        "posture_comparison.head(36)"
      ],
      "execution_count": 14,
      "outputs": [
        {
          "output_type": "execute_result",
          "data": {
            "text/html": [
              "<div>\n",
              "<style scoped>\n",
              "    .dataframe tbody tr th:only-of-type {\n",
              "        vertical-align: middle;\n",
              "    }\n",
              "\n",
              "    .dataframe tbody tr th {\n",
              "        vertical-align: top;\n",
              "    }\n",
              "\n",
              "    .dataframe thead th {\n",
              "        text-align: right;\n",
              "    }\n",
              "</style>\n",
              "<table border=\"1\" class=\"dataframe\">\n",
              "  <thead>\n",
              "    <tr style=\"text-align: right;\">\n",
              "      <th></th>\n",
              "      <th>Comfort</th>\n",
              "      <th>Preference</th>\n",
              "    </tr>\n",
              "  </thead>\n",
              "  <tbody>\n",
              "    <tr>\n",
              "      <th>0</th>\n",
              "      <td>On_Right_Palm_0 = 4.366667</td>\n",
              "      <td>On_Right_Palm_0 = 4.366667</td>\n",
              "    </tr>\n",
              "    <tr>\n",
              "      <th>1</th>\n",
              "      <td>Below_Right_Palm_0 = 4.333333</td>\n",
              "      <td>Below_Right_Palm_0 = 4.300000</td>\n",
              "    </tr>\n",
              "    <tr>\n",
              "      <th>2</th>\n",
              "      <td>Below_Right_Fist_90 = 4.300000</td>\n",
              "      <td>Below_Right_Fist_90 = 4.200000</td>\n",
              "    </tr>\n",
              "    <tr>\n",
              "      <th>3</th>\n",
              "      <td>Below_Left_Palm_0 = 4.133333</td>\n",
              "      <td>Below_Left_Palm_0 = 3.933333</td>\n",
              "    </tr>\n",
              "    <tr>\n",
              "      <th>4</th>\n",
              "      <td>On_Left_Palm_0 = 4.066667</td>\n",
              "      <td>On_Left_Palm_0 = 3.933333</td>\n",
              "    </tr>\n",
              "    <tr>\n",
              "      <th>5</th>\n",
              "      <td>Beside_Right_Palm_0 = 4.033333</td>\n",
              "      <td>On_Right_Palm_90 = 3.800000</td>\n",
              "    </tr>\n",
              "    <tr>\n",
              "      <th>6</th>\n",
              "      <td>Below_Right_Palm_90 = 3.966667</td>\n",
              "      <td>Below_Right_Fist_0 = 3.733333</td>\n",
              "    </tr>\n",
              "    <tr>\n",
              "      <th>7</th>\n",
              "      <td>Below_Right_Fist_0 = 3.933333</td>\n",
              "      <td>Below_Right_Palm_90 = 3.700000</td>\n",
              "    </tr>\n",
              "    <tr>\n",
              "      <th>8</th>\n",
              "      <td>Beside_Right_Palm_90 = 3.866667</td>\n",
              "      <td>Below_Left_Fist_90 = 3.666667</td>\n",
              "    </tr>\n",
              "    <tr>\n",
              "      <th>9</th>\n",
              "      <td>Beside_Left_Palm_0 = 3.866667</td>\n",
              "      <td>On_Right_Fist_90 = 3.600000</td>\n",
              "    </tr>\n",
              "    <tr>\n",
              "      <th>10</th>\n",
              "      <td>Below_Left_Fist_90 = 3.866667</td>\n",
              "      <td>Beside_Right_Palm_0 = 3.566667</td>\n",
              "    </tr>\n",
              "    <tr>\n",
              "      <th>11</th>\n",
              "      <td>On_Right_Fist_90 = 3.766667</td>\n",
              "      <td>Beside_Right_Palm_90 = 3.533333</td>\n",
              "    </tr>\n",
              "    <tr>\n",
              "      <th>12</th>\n",
              "      <td>On_Right_Palm_90 = 3.766667</td>\n",
              "      <td>On_Right_Fist_0 = 3.533333</td>\n",
              "    </tr>\n",
              "    <tr>\n",
              "      <th>13</th>\n",
              "      <td>Beside_Right_Fist_90 = 3.733333</td>\n",
              "      <td>Below_Left_Palm_90 = 3.533333</td>\n",
              "    </tr>\n",
              "    <tr>\n",
              "      <th>14</th>\n",
              "      <td>Below_Left_Fist_0 = 3.700000</td>\n",
              "      <td>Below_Left_Fist_0 = 3.466667</td>\n",
              "    </tr>\n",
              "    <tr>\n",
              "      <th>15</th>\n",
              "      <td>On_Right_Fist_0 = 3.666667</td>\n",
              "      <td>Beside_Left_Palm_0 = 3.400000</td>\n",
              "    </tr>\n",
              "    <tr>\n",
              "      <th>16</th>\n",
              "      <td>Below_Left_Palm_90 = 3.666667</td>\n",
              "      <td>On_Left_Palm_90 = 3.366667</td>\n",
              "    </tr>\n",
              "    <tr>\n",
              "      <th>17</th>\n",
              "      <td>Beside_Left_Palm_90 = 3.566667</td>\n",
              "      <td>On_Left_Fist_0 = 3.366667</td>\n",
              "    </tr>\n",
              "    <tr>\n",
              "      <th>18</th>\n",
              "      <td>On_Left_Palm_90 = 3.500000</td>\n",
              "      <td>On_Left_Fist_90 = 3.333333</td>\n",
              "    </tr>\n",
              "    <tr>\n",
              "      <th>19</th>\n",
              "      <td>Beside_Left_Fist_90 = 3.500000</td>\n",
              "      <td>Beside_Left_Palm_90 = 3.333333</td>\n",
              "    </tr>\n",
              "    <tr>\n",
              "      <th>20</th>\n",
              "      <td>On_Left_Fist_0 = 3.433333</td>\n",
              "      <td>Beside_Right_Fist_90 = 3.241379</td>\n",
              "    </tr>\n",
              "    <tr>\n",
              "      <th>21</th>\n",
              "      <td>Beside_Right_Fist_0 = 3.400000</td>\n",
              "      <td>Beside_Right_Fist_0 = 3.200000</td>\n",
              "    </tr>\n",
              "    <tr>\n",
              "      <th>22</th>\n",
              "      <td>On_Left_Fist_90 = 3.366667</td>\n",
              "      <td>Beside_Left_Fist_90 = 3.033333</td>\n",
              "    </tr>\n",
              "    <tr>\n",
              "      <th>23</th>\n",
              "      <td>Beside_Left_Fist_0 = 3.233333</td>\n",
              "      <td>Beside_Left_Fist_0 = 2.933333</td>\n",
              "    </tr>\n",
              "    <tr>\n",
              "      <th>24</th>\n",
              "      <td>Below_Right_Fist_360 = 2.500000</td>\n",
              "      <td>Below_Right_Fist_360 = 2.500000</td>\n",
              "    </tr>\n",
              "    <tr>\n",
              "      <th>25</th>\n",
              "      <td>Below_Left_Palm_360 = 2.366667</td>\n",
              "      <td>Below_Left_Palm_360 = 2.466667</td>\n",
              "    </tr>\n",
              "    <tr>\n",
              "      <th>26</th>\n",
              "      <td>On_Right_Palm_360 = 2.333333</td>\n",
              "      <td>Below_Right_Palm_360 = 2.433333</td>\n",
              "    </tr>\n",
              "    <tr>\n",
              "      <th>27</th>\n",
              "      <td>Below_Right_Palm_360 = 2.300000</td>\n",
              "      <td>On_Right_Fist_360 = 2.366667</td>\n",
              "    </tr>\n",
              "    <tr>\n",
              "      <th>28</th>\n",
              "      <td>On_Left_Palm_360 = 2.200000</td>\n",
              "      <td>On_Right_Palm_360 = 2.366667</td>\n",
              "    </tr>\n",
              "    <tr>\n",
              "      <th>29</th>\n",
              "      <td>Beside_Right_Palm_360 = 2.166667</td>\n",
              "      <td>On_Left_Palm_360 = 2.300000</td>\n",
              "    </tr>\n",
              "    <tr>\n",
              "      <th>30</th>\n",
              "      <td>On_Right_Fist_360 = 2.166667</td>\n",
              "      <td>Below_Left_Fist_360 = 2.300000</td>\n",
              "    </tr>\n",
              "    <tr>\n",
              "      <th>31</th>\n",
              "      <td>Below_Left_Fist_360 = 2.133333</td>\n",
              "      <td>Beside_Right_Palm_360 = 2.233333</td>\n",
              "    </tr>\n",
              "    <tr>\n",
              "      <th>32</th>\n",
              "      <td>Beside_Left_Palm_360 = 2.066667</td>\n",
              "      <td>On_Left_Fist_360 = 2.100000</td>\n",
              "    </tr>\n",
              "    <tr>\n",
              "      <th>33</th>\n",
              "      <td>Beside_Right_Fist_360 = 2.066667</td>\n",
              "      <td>Beside_Left_Palm_360 = 2.066667</td>\n",
              "    </tr>\n",
              "    <tr>\n",
              "      <th>34</th>\n",
              "      <td>On_Left_Fist_360 = 1.900000</td>\n",
              "      <td>Beside_Left_Fist_360 = 2.033333</td>\n",
              "    </tr>\n",
              "    <tr>\n",
              "      <th>35</th>\n",
              "      <td>Beside_Left_Fist_360 = 1.800000</td>\n",
              "      <td>Beside_Right_Fist_360 = 2.033333</td>\n",
              "    </tr>\n",
              "  </tbody>\n",
              "</table>\n",
              "</div>"
            ],
            "text/plain": [
              "                             Comfort                        Preference\n",
              "0         On_Right_Palm_0 = 4.366667        On_Right_Palm_0 = 4.366667\n",
              "1      Below_Right_Palm_0 = 4.333333     Below_Right_Palm_0 = 4.300000\n",
              "2     Below_Right_Fist_90 = 4.300000    Below_Right_Fist_90 = 4.200000\n",
              "3       Below_Left_Palm_0 = 4.133333      Below_Left_Palm_0 = 3.933333\n",
              "4          On_Left_Palm_0 = 4.066667         On_Left_Palm_0 = 3.933333\n",
              "5     Beside_Right_Palm_0 = 4.033333       On_Right_Palm_90 = 3.800000\n",
              "6     Below_Right_Palm_90 = 3.966667     Below_Right_Fist_0 = 3.733333\n",
              "7      Below_Right_Fist_0 = 3.933333    Below_Right_Palm_90 = 3.700000\n",
              "8    Beside_Right_Palm_90 = 3.866667     Below_Left_Fist_90 = 3.666667\n",
              "9      Beside_Left_Palm_0 = 3.866667       On_Right_Fist_90 = 3.600000\n",
              "10     Below_Left_Fist_90 = 3.866667    Beside_Right_Palm_0 = 3.566667\n",
              "11       On_Right_Fist_90 = 3.766667   Beside_Right_Palm_90 = 3.533333\n",
              "12       On_Right_Palm_90 = 3.766667        On_Right_Fist_0 = 3.533333\n",
              "13   Beside_Right_Fist_90 = 3.733333     Below_Left_Palm_90 = 3.533333\n",
              "14      Below_Left_Fist_0 = 3.700000      Below_Left_Fist_0 = 3.466667\n",
              "15        On_Right_Fist_0 = 3.666667     Beside_Left_Palm_0 = 3.400000\n",
              "16     Below_Left_Palm_90 = 3.666667        On_Left_Palm_90 = 3.366667\n",
              "17    Beside_Left_Palm_90 = 3.566667         On_Left_Fist_0 = 3.366667\n",
              "18        On_Left_Palm_90 = 3.500000        On_Left_Fist_90 = 3.333333\n",
              "19    Beside_Left_Fist_90 = 3.500000    Beside_Left_Palm_90 = 3.333333\n",
              "20         On_Left_Fist_0 = 3.433333   Beside_Right_Fist_90 = 3.241379\n",
              "21    Beside_Right_Fist_0 = 3.400000    Beside_Right_Fist_0 = 3.200000\n",
              "22        On_Left_Fist_90 = 3.366667    Beside_Left_Fist_90 = 3.033333\n",
              "23     Beside_Left_Fist_0 = 3.233333     Beside_Left_Fist_0 = 2.933333\n",
              "24   Below_Right_Fist_360 = 2.500000   Below_Right_Fist_360 = 2.500000\n",
              "25    Below_Left_Palm_360 = 2.366667    Below_Left_Palm_360 = 2.466667\n",
              "26      On_Right_Palm_360 = 2.333333   Below_Right_Palm_360 = 2.433333\n",
              "27   Below_Right_Palm_360 = 2.300000      On_Right_Fist_360 = 2.366667\n",
              "28       On_Left_Palm_360 = 2.200000      On_Right_Palm_360 = 2.366667\n",
              "29  Beside_Right_Palm_360 = 2.166667       On_Left_Palm_360 = 2.300000\n",
              "30      On_Right_Fist_360 = 2.166667    Below_Left_Fist_360 = 2.300000\n",
              "31    Below_Left_Fist_360 = 2.133333  Beside_Right_Palm_360 = 2.233333\n",
              "32   Beside_Left_Palm_360 = 2.066667       On_Left_Fist_360 = 2.100000\n",
              "33  Beside_Right_Fist_360 = 2.066667   Beside_Left_Palm_360 = 2.066667\n",
              "34       On_Left_Fist_360 = 1.900000   Beside_Left_Fist_360 = 2.033333\n",
              "35   Beside_Left_Fist_360 = 1.800000  Beside_Right_Fist_360 = 2.033333"
            ]
          },
          "metadata": {
            "tags": []
          },
          "execution_count": 14
        }
      ]
    },
    {
      "cell_type": "markdown",
      "metadata": {
        "id": "Vl6rti5mw94s",
        "colab_type": "text"
      },
      "source": [
        "**To do**\n",
        "\n",
        "- Compare postures across different dimensions (SURFACE, WRIST_ORIENTATION, HAND_FORM & DEXTERITY)\n",
        "- Give design recomendations based on above^"
      ]
    },
    {
      "cell_type": "code",
      "metadata": {
        "id": "TapYNke0xA_O",
        "colab_type": "code",
        "colab": {}
      },
      "source": [
        ""
      ],
      "execution_count": 0,
      "outputs": []
    }
  ]
}