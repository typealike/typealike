{
  "nbformat": 4,
  "nbformat_minor": 0,
  "metadata": {
    "kernelspec": {
      "display_name": "Python 3",
      "language": "python",
      "name": "python3"
    },
    "language_info": {
      "codemirror_mode": {
        "name": "ipython",
        "version": 3
      },
      "file_extension": ".py",
      "mimetype": "text/x-python",
      "name": "python",
      "nbconvert_exporter": "python",
      "pygments_lexer": "ipython3",
      "version": "3.6.7"
    },
    "colab": {
      "name": "study_1.ipynb",
      "version": "0.3.2",
      "provenance": []
    }
  },
  "cells": [
    {
      "cell_type": "markdown",
      "metadata": {
        "id": "Cf7BC6tpPFZo",
        "colab_type": "text"
      },
      "source": [
        "# Imports"
      ]
    },
    {
      "cell_type": "code",
      "metadata": {
        "id": "ivaT6E025pjY",
        "colab_type": "code",
        "colab": {}
      },
      "source": [
        "import pandas as pd \n",
        "import numpy as np\n",
        "import requests\n",
        "import io\n",
        "import re\n",
        "import seaborn as sns\n",
        "import matplotlib.pyplot as plt"
      ],
      "execution_count": 0,
      "outputs": []
    },
    {
      "cell_type": "markdown",
      "metadata": {
        "id": "N7iiXKZhO7ep",
        "colab_type": "text"
      },
      "source": [
        "# Load Data"
      ]
    },
    {
      "cell_type": "code",
      "metadata": {
        "id": "z_jy5dIH5r34",
        "colab_type": "code",
        "outputId": "979279db-ac87-4884-c12f-ab62fd83b938",
        "colab": {
          "base_uri": "https://localhost:8080/",
          "height": 105
        }
      },
      "source": [
        "BASE_URL = \"https://docs.google.com/spreadsheets/d/1VpLXByvbTfbgupDNWcUaBxdk72cW9FRExs0AgRVaF1g/export?format=csv&\"\n",
        "URL_PARTICIPANTS = BASE_URL+\"gid=611260429\"\n",
        "URL_POSTURES = BASE_URL+\"gid=961690077\"\n",
        "content_participants = requests.get(URL_PARTICIPANTS, verify=False).content\n",
        "content_postures = requests.get(URL_POSTURES, verify=False).content\n",
        "df_participants = pd.read_csv(io.StringIO(content_participants.decode('utf-8'))) \n",
        "df_postures = pd.read_csv(io.StringIO(content_postures.decode('utf-8'))) \n",
        "plt.rcParams['figure.dpi'] = 100"
      ],
      "execution_count": 2,
      "outputs": [
        {
          "output_type": "stream",
          "text": [
            "/usr/local/lib/python3.6/dist-packages/urllib3/connectionpool.py:847: InsecureRequestWarning: Unverified HTTPS request is being made. Adding certificate verification is strongly advised. See: https://urllib3.readthedocs.io/en/latest/advanced-usage.html#ssl-warnings\n",
            "  InsecureRequestWarning)\n",
            "/usr/local/lib/python3.6/dist-packages/urllib3/connectionpool.py:847: InsecureRequestWarning: Unverified HTTPS request is being made. Adding certificate verification is strongly advised. See: https://urllib3.readthedocs.io/en/latest/advanced-usage.html#ssl-warnings\n",
            "  InsecureRequestWarning)\n"
          ],
          "name": "stderr"
        }
      ]
    },
    {
      "cell_type": "code",
      "metadata": {
        "id": "AA0NFF_8bA5n",
        "colab_type": "code",
        "outputId": "6e4b302a-53e3-4862-e860-030ccb312cd2",
        "colab": {
          "base_uri": "https://localhost:8080/",
          "height": 80
        }
      },
      "source": [
        "df_participants.head(1)"
      ],
      "execution_count": 3,
      "outputs": [
        {
          "output_type": "execute_result",
          "data": {
            "text/html": [
              "<div>\n",
              "<style scoped>\n",
              "    .dataframe tbody tr th:only-of-type {\n",
              "        vertical-align: middle;\n",
              "    }\n",
              "\n",
              "    .dataframe tbody tr th {\n",
              "        vertical-align: top;\n",
              "    }\n",
              "\n",
              "    .dataframe thead th {\n",
              "        text-align: right;\n",
              "    }\n",
              "</style>\n",
              "<table border=\"1\" class=\"dataframe\">\n",
              "  <thead>\n",
              "    <tr style=\"text-align: right;\">\n",
              "      <th></th>\n",
              "      <th>ParticipantID</th>\n",
              "      <th>Age</th>\n",
              "      <th>Gender</th>\n",
              "      <th>DominantHand</th>\n",
              "      <th>AvgTimeSpent</th>\n",
              "      <th>WordsPerMinute</th>\n",
              "      <th>WordCount</th>\n",
              "      <th>Errors</th>\n",
              "      <th>TimeTakenS</th>\n",
              "      <th>TimeTakenM</th>\n",
              "      <th>MeanError</th>\n",
              "      <th>totalwords</th>\n",
              "      <th>time</th>\n",
              "      <th>sec</th>\n",
              "    </tr>\n",
              "  </thead>\n",
              "  <tbody>\n",
              "    <tr>\n",
              "      <th>0</th>\n",
              "      <td>participant_1</td>\n",
              "      <td>27.0</td>\n",
              "      <td>Male</td>\n",
              "      <td>Right</td>\n",
              "      <td>10.0</td>\n",
              "      <td>57.0</td>\n",
              "      <td>89.0</td>\n",
              "      <td>15.0</td>\n",
              "      <td>94.0</td>\n",
              "      <td>1.561404</td>\n",
              "      <td>9.606742</td>\n",
              "      <td>104.0</td>\n",
              "      <td>1.561404</td>\n",
              "      <td>93.684211</td>\n",
              "    </tr>\n",
              "  </tbody>\n",
              "</table>\n",
              "</div>"
            ],
            "text/plain": [
              "   ParticipantID   Age Gender  ... totalwords      time        sec\n",
              "0  participant_1  27.0   Male  ...      104.0  1.561404  93.684211\n",
              "\n",
              "[1 rows x 14 columns]"
            ]
          },
          "metadata": {
            "tags": []
          },
          "execution_count": 3
        }
      ]
    },
    {
      "cell_type": "code",
      "metadata": {
        "id": "F1QKl121bDQ7",
        "colab_type": "code",
        "outputId": "2dca8f96-b6b7-497c-c3a4-a6d7161a71a9",
        "colab": {
          "base_uri": "https://localhost:8080/",
          "height": 100
        }
      },
      "source": [
        "df_postures.head(1)"
      ],
      "execution_count": 4,
      "outputs": [
        {
          "output_type": "execute_result",
          "data": {
            "text/html": [
              "<div>\n",
              "<style scoped>\n",
              "    .dataframe tbody tr th:only-of-type {\n",
              "        vertical-align: middle;\n",
              "    }\n",
              "\n",
              "    .dataframe tbody tr th {\n",
              "        vertical-align: top;\n",
              "    }\n",
              "\n",
              "    .dataframe thead th {\n",
              "        text-align: right;\n",
              "    }\n",
              "</style>\n",
              "<table border=\"1\" class=\"dataframe\">\n",
              "  <thead>\n",
              "    <tr style=\"text-align: right;\">\n",
              "      <th></th>\n",
              "      <th>ParticipantID</th>\n",
              "      <th>Comfort_Below_Left_Fist_0</th>\n",
              "      <th>Preference_Below_Left_Fist_0</th>\n",
              "      <th>Comfort_Below_Right_Fist_0</th>\n",
              "      <th>Preference_Below_Right_Fist_0</th>\n",
              "      <th>Comfort_Below_Left_Fist_90</th>\n",
              "      <th>Preference_Below_Left_Fist_90</th>\n",
              "      <th>Comfort_Below_Right_Fist_90</th>\n",
              "      <th>Preference_Below_Right_Fist_90</th>\n",
              "      <th>Comfort_Below_Left_Fist_180</th>\n",
              "      <th>Preference_Below_Left_Fist_180</th>\n",
              "      <th>Comfort_Below_Right_Fist_180</th>\n",
              "      <th>Preference_Below_Right_Fist_180</th>\n",
              "      <th>Comfort_Below_Left_Palm_0</th>\n",
              "      <th>Preference_Below_Left_Palm_0</th>\n",
              "      <th>Comfort_Below_Right_Palm_0</th>\n",
              "      <th>Preference_Below_Right_Palm_0</th>\n",
              "      <th>Comfort_Below_Left_Palm_90</th>\n",
              "      <th>Preference_Below_Left_Palm_90</th>\n",
              "      <th>Comfort_Below_Right_Palm_90</th>\n",
              "      <th>Preference_Below_Right_Palm_90</th>\n",
              "      <th>Comfort_Below_Left_Palm_180</th>\n",
              "      <th>Preference_Below_Left_Palm_180</th>\n",
              "      <th>Comfort_Below_Right_Palm_180</th>\n",
              "      <th>Preference_Below_Right_Palm_180</th>\n",
              "      <th>Comfort_On_Left_Fist_0</th>\n",
              "      <th>Preference_On_Left_Fist_0</th>\n",
              "      <th>Comfort_On_Right_Fist_0</th>\n",
              "      <th>Preference_On_Right_Fist_0</th>\n",
              "      <th>Comfort_On_Left_Fist_90</th>\n",
              "      <th>Preference_On_Left_Fist_90</th>\n",
              "      <th>Comfort_On_Right_Fist_90</th>\n",
              "      <th>Preference_On_Right_Fist_90</th>\n",
              "      <th>Comfort_On_Left_Fist_180</th>\n",
              "      <th>Preference_On_Left_Fist_180</th>\n",
              "      <th>Comfort_On_Right_Fist_180</th>\n",
              "      <th>Preference_On_Right_Fist_180</th>\n",
              "      <th>Comfort_On_Left_Palm_0</th>\n",
              "      <th>Preference_On_Left_Palm_0</th>\n",
              "      <th>Comfort_On_Right_Palm_0</th>\n",
              "      <th>Preference_On_Right_Palm_0</th>\n",
              "      <th>Comfort_On_Left_Palm_90</th>\n",
              "      <th>Preference_On_Left_Palm_90</th>\n",
              "      <th>Comfort_On_Right_Palm_90</th>\n",
              "      <th>Preference_On_Right_Palm_90</th>\n",
              "      <th>Comfort_On_Left_Palm_180</th>\n",
              "      <th>Preference_On_Left_Palm_180</th>\n",
              "      <th>Comfort_On_Right_Palm_180</th>\n",
              "      <th>Preference_On_Right_Palm_180</th>\n",
              "      <th>Comfort_Beside_Left_Fist_0</th>\n",
              "      <th>Preference_Beside_Left_Fist_0</th>\n",
              "      <th>Comfort_Beside_Right_Fist_0</th>\n",
              "      <th>Preference_Beside_Right_Fist_0</th>\n",
              "      <th>Comfort_Beside_Left_Fist_90</th>\n",
              "      <th>Preference_Beside_Left_Fist_90</th>\n",
              "      <th>Comfort_Beside_Right_Fist_90</th>\n",
              "      <th>Preference_Beside_Right_Fist_90</th>\n",
              "      <th>Comfort_Beside_Left_Fist_180</th>\n",
              "      <th>Preference_Beside_Left_Fist_180</th>\n",
              "      <th>Comfort_Beside_Right_Fist_180</th>\n",
              "      <th>Preference_Beside_Right_Fist_180</th>\n",
              "      <th>Comfort_Beside_Left_Palm_0</th>\n",
              "      <th>Preference_Beside_Left_Palm_0</th>\n",
              "      <th>Comfort_Beside_Right_Palm_0</th>\n",
              "      <th>Preference_Beside_Right_Palm_0</th>\n",
              "      <th>Comfort_Beside_Left_Palm_90</th>\n",
              "      <th>Preference_Beside_Left_Palm_90</th>\n",
              "      <th>Comfort_Beside_Right_Palm_90</th>\n",
              "      <th>Preference_Beside_Right_Palm_90</th>\n",
              "      <th>Comfort_Beside_Left_Palm_180</th>\n",
              "      <th>Preference_Beside_Left_Palm_180</th>\n",
              "      <th>Comfort_Beside_Right_Palm_180</th>\n",
              "      <th>Preference_Beside_Right_Palm_180</th>\n",
              "    </tr>\n",
              "  </thead>\n",
              "  <tbody>\n",
              "    <tr>\n",
              "      <th>0</th>\n",
              "      <td>participant_1</td>\n",
              "      <td>3</td>\n",
              "      <td>2</td>\n",
              "      <td>4</td>\n",
              "      <td>4</td>\n",
              "      <td>2</td>\n",
              "      <td>2</td>\n",
              "      <td>4</td>\n",
              "      <td>4</td>\n",
              "      <td>1</td>\n",
              "      <td>1</td>\n",
              "      <td>2</td>\n",
              "      <td>2</td>\n",
              "      <td>3</td>\n",
              "      <td>3</td>\n",
              "      <td>5</td>\n",
              "      <td>5</td>\n",
              "      <td>3</td>\n",
              "      <td>3</td>\n",
              "      <td>4</td>\n",
              "      <td>4</td>\n",
              "      <td>1</td>\n",
              "      <td>1</td>\n",
              "      <td>2</td>\n",
              "      <td>2</td>\n",
              "      <td>2</td>\n",
              "      <td>2</td>\n",
              "      <td>4</td>\n",
              "      <td>4</td>\n",
              "      <td>1</td>\n",
              "      <td>1</td>\n",
              "      <td>4</td>\n",
              "      <td>4</td>\n",
              "      <td>1</td>\n",
              "      <td>1</td>\n",
              "      <td>2</td>\n",
              "      <td>2</td>\n",
              "      <td>3</td>\n",
              "      <td>3</td>\n",
              "      <td>4</td>\n",
              "      <td>4</td>\n",
              "      <td>2</td>\n",
              "      <td>2</td>\n",
              "      <td>4</td>\n",
              "      <td>4</td>\n",
              "      <td>1</td>\n",
              "      <td>1</td>\n",
              "      <td>1</td>\n",
              "      <td>1</td>\n",
              "      <td>2</td>\n",
              "      <td>2</td>\n",
              "      <td>3</td>\n",
              "      <td>3</td>\n",
              "      <td>2</td>\n",
              "      <td>2</td>\n",
              "      <td>4</td>\n",
              "      <td>4</td>\n",
              "      <td>1</td>\n",
              "      <td>1</td>\n",
              "      <td>1</td>\n",
              "      <td>1</td>\n",
              "      <td>3</td>\n",
              "      <td>3</td>\n",
              "      <td>4</td>\n",
              "      <td>4</td>\n",
              "      <td>3</td>\n",
              "      <td>3</td>\n",
              "      <td>4</td>\n",
              "      <td>4</td>\n",
              "      <td>1</td>\n",
              "      <td>1</td>\n",
              "      <td>1</td>\n",
              "      <td>1</td>\n",
              "    </tr>\n",
              "  </tbody>\n",
              "</table>\n",
              "</div>"
            ],
            "text/plain": [
              "   ParticipantID  ...  Preference_Beside_Right_Palm_180\n",
              "0  participant_1  ...                                 1\n",
              "\n",
              "[1 rows x 73 columns]"
            ]
          },
          "metadata": {
            "tags": []
          },
          "execution_count": 4
        }
      ]
    },
    {
      "cell_type": "markdown",
      "metadata": {
        "id": "Q1lgVpX9OHm9",
        "colab_type": "text"
      },
      "source": [
        "# Analysis"
      ]
    },
    {
      "cell_type": "markdown",
      "metadata": {
        "id": "IaNXIlABaF5-",
        "colab_type": "text"
      },
      "source": [
        "## Participants"
      ]
    },
    {
      "cell_type": "code",
      "metadata": {
        "id": "HN_n_-7PMoYy",
        "colab_type": "code",
        "outputId": "bd8adc3c-af69-40b6-e375-0e079fe1e132",
        "colab": {
          "base_uri": "https://localhost:8080/",
          "height": 68
        }
      },
      "source": [
        "# GENDER DISTRIBUTION\n",
        "df_participants.Gender.value_counts()"
      ],
      "execution_count": 5,
      "outputs": [
        {
          "output_type": "execute_result",
          "data": {
            "text/plain": [
              "Male      20\n",
              "Female    10\n",
              "Name: Gender, dtype: int64"
            ]
          },
          "metadata": {
            "tags": []
          },
          "execution_count": 5
        }
      ]
    },
    {
      "cell_type": "code",
      "metadata": {
        "id": "5TGe20gGMmev",
        "colab_type": "code",
        "outputId": "879d0bf3-804e-435f-8be9-419914f0dd5f",
        "colab": {
          "base_uri": "https://localhost:8080/",
          "height": 51
        }
      },
      "source": [
        "# AVERAGE AGE\n",
        "print(\"MEAN: \",df_participants[\"Age\"].mean())\n",
        "print(\"STD: \",df_participants[\"Age\"].std())"
      ],
      "execution_count": 6,
      "outputs": [
        {
          "output_type": "stream",
          "text": [
            "MEAN:  24.566666666666666\n",
            "STD:  2.4023455970813385\n"
          ],
          "name": "stdout"
        }
      ]
    },
    {
      "cell_type": "code",
      "metadata": {
        "id": "qZcRqcv2MT5A",
        "colab_type": "code",
        "outputId": "6a34b9f5-768f-4aeb-f918-d9ecf48ba9c7",
        "colab": {
          "base_uri": "https://localhost:8080/",
          "height": 51
        }
      },
      "source": [
        "# AVERAGE USAGE\n",
        "print(\"MEAN: \",df_participants[\"AvgTimeSpent\"].mean())\n",
        "print(\"STD: \",df_participants[\"AvgTimeSpent\"].std())"
      ],
      "execution_count": 7,
      "outputs": [
        {
          "output_type": "stream",
          "text": [
            "MEAN:  7.0\n",
            "STD:  3.723179953415795\n"
          ],
          "name": "stdout"
        }
      ]
    },
    {
      "cell_type": "code",
      "metadata": {
        "id": "14sBgUmWMIYk",
        "colab_type": "code",
        "outputId": "b988a0c6-b1ce-4447-8fcb-ecb20514ed05",
        "colab": {
          "base_uri": "https://localhost:8080/",
          "height": 51
        }
      },
      "source": [
        "# AVERAGE TYPING SPEED\n",
        "print(\"MEAN: \",df_participants[\"WordsPerMinute\"].mean())\n",
        "print(\"STD: \",df_participants[\"WordsPerMinute\"].std())"
      ],
      "execution_count": 8,
      "outputs": [
        {
          "output_type": "stream",
          "text": [
            "MEAN:  34.9\n",
            "STD:  9.531617078855561\n"
          ],
          "name": "stdout"
        }
      ]
    },
    {
      "cell_type": "code",
      "metadata": {
        "id": "-kKPRTVKMs3D",
        "colab_type": "code",
        "outputId": "57226a4c-6847-4f1a-c0ca-a9d5bd0dc3c6",
        "colab": {
          "base_uri": "https://localhost:8080/",
          "height": 51
        }
      },
      "source": [
        "# AVERAGE ERROR RATE\n",
        "print(\"MEAN: \",df_participants[\"MeanError\"].mean())\n",
        "print(\"STD: \",df_participants[\"MeanError\"].std())"
      ],
      "execution_count": 9,
      "outputs": [
        {
          "output_type": "stream",
          "text": [
            "MEAN:  5.735205992738709\n",
            "STD:  2.6533760931418673\n"
          ],
          "name": "stdout"
        }
      ]
    },
    {
      "cell_type": "markdown",
      "metadata": {
        "id": "-6gF5gdGaK1d",
        "colab_type": "text"
      },
      "source": [
        "## Postures"
      ]
    },
    {
      "cell_type": "code",
      "metadata": {
        "id": "DLMhsuzFhMUJ",
        "colab_type": "code",
        "outputId": "f4c8204f-4817-4a58-f1af-d724902fd173",
        "colab": {
          "base_uri": "https://localhost:8080/",
          "height": 221
        }
      },
      "source": [
        "df_postures_comfort = df_postures.filter(regex='Comfort_')\n",
        "df_postures_preference = df_postures.filter(regex='Preference_')\n",
        "\n",
        "df_postures_comfort_stats = pd.DataFrame(columns=['posture', 'mean', 'std'])\n",
        "df_postures_comfort_stats[\"posture\"] = [i.replace(\"Comfort_\",\"\") for i in df_postures_comfort.keys()]\n",
        "df_postures_comfort_stats[\"mean\"] = df_postures_comfort.mean().values\n",
        "df_postures_comfort_stats[\"std\"] = df_postures_comfort.std().values\n",
        "\n",
        "df_postures_preference_stats = pd.DataFrame(columns=['posture', 'mean', 'std'])\n",
        "df_postures_preference_stats[\"posture\"] = [i.replace(\"Preference_\",\"\") for i in df_postures_preference.keys()]\n",
        "df_postures_preference_stats[\"mean\"] = df_postures_preference.mean().values\n",
        "df_postures_preference_stats[\"std\"] = df_postures_preference.std().values\n",
        "\n",
        "# df_postures_comfort_stats= df_postures_comfort_stats.sort_values(by = \"mean\", ascending=False)\n",
        "# df_postures_preference_stats= df_postures_preference_stats.sort_values(by = \"mean\", ascending=False)\n",
        "df_postures_comfort_stats['rating']='comfort'\n",
        "df_postures_preference_stats['rating']='preference'\n",
        "# df = pd.DataFrame(columns=['mean', 'std'])\n",
        "print(df_postures_comfort_stats.head())\n",
        "print(df_postures_preference_stats.head())"
      ],
      "execution_count": 10,
      "outputs": [
        {
          "output_type": "stream",
          "text": [
            "               posture      mean       std   rating\n",
            "0    Below_Left_Fist_0  3.700000  1.087547  comfort\n",
            "1   Below_Right_Fist_0  3.933333  1.048261  comfort\n",
            "2   Below_Left_Fist_90  3.866667  1.252125  comfort\n",
            "3  Below_Right_Fist_90  4.300000  0.952311  comfort\n",
            "4  Below_Left_Fist_180  2.133333  0.973204  comfort\n",
            "               posture      mean       std      rating\n",
            "0    Below_Left_Fist_0  3.466667  0.899553  preference\n",
            "1   Below_Right_Fist_0  3.733333  0.980265  preference\n",
            "2   Below_Left_Fist_90  3.666667  1.321789  preference\n",
            "3  Below_Right_Fist_90  4.200000  1.095445  preference\n",
            "4  Below_Left_Fist_180  2.300000  1.235956  preference\n"
          ],
          "name": "stdout"
        }
      ]
    },
    {
      "cell_type": "code",
      "metadata": {
        "id": "qpFvHPeQWCie",
        "colab_type": "code",
        "colab": {}
      },
      "source": [
        ""
      ],
      "execution_count": 0,
      "outputs": []
    },
    {
      "cell_type": "code",
      "metadata": {
        "id": "WbewN9oSYY9m",
        "colab_type": "code",
        "outputId": "4c7b0e79-7ee4-4011-b84f-edf02c2aa123",
        "colab": {
          "base_uri": "https://localhost:8080/",
          "height": 235
        }
      },
      "source": [
        "all_postures_stats=pd.merge(df_postures_comfort_stats, df_postures_preference_stats, how=\"outer\", on=['posture','rating','mean','std'])\n",
        "all_postures_stats_melted = pd.melt(all_postures_stats, id_vars =['posture','mean','std'], value_vars =['rating']).groupby(\"value\").apply(lambda x: (x.sort_values('mean', ascending=False)))\n",
        "all_postures_stats_melted.head()"
      ],
      "execution_count": 11,
      "outputs": [
        {
          "output_type": "execute_result",
          "data": {
            "text/html": [
              "<div>\n",
              "<style scoped>\n",
              "    .dataframe tbody tr th:only-of-type {\n",
              "        vertical-align: middle;\n",
              "    }\n",
              "\n",
              "    .dataframe tbody tr th {\n",
              "        vertical-align: top;\n",
              "    }\n",
              "\n",
              "    .dataframe thead th {\n",
              "        text-align: right;\n",
              "    }\n",
              "</style>\n",
              "<table border=\"1\" class=\"dataframe\">\n",
              "  <thead>\n",
              "    <tr style=\"text-align: right;\">\n",
              "      <th></th>\n",
              "      <th></th>\n",
              "      <th>posture</th>\n",
              "      <th>mean</th>\n",
              "      <th>std</th>\n",
              "      <th>variable</th>\n",
              "      <th>value</th>\n",
              "    </tr>\n",
              "    <tr>\n",
              "      <th>value</th>\n",
              "      <th></th>\n",
              "      <th></th>\n",
              "      <th></th>\n",
              "      <th></th>\n",
              "      <th></th>\n",
              "      <th></th>\n",
              "    </tr>\n",
              "  </thead>\n",
              "  <tbody>\n",
              "    <tr>\n",
              "      <th rowspan=\"5\" valign=\"top\">comfort</th>\n",
              "      <th>19</th>\n",
              "      <td>On_Right_Palm_0</td>\n",
              "      <td>4.366667</td>\n",
              "      <td>0.999425</td>\n",
              "      <td>rating</td>\n",
              "      <td>comfort</td>\n",
              "    </tr>\n",
              "    <tr>\n",
              "      <th>7</th>\n",
              "      <td>Below_Right_Palm_0</td>\n",
              "      <td>4.333333</td>\n",
              "      <td>0.660895</td>\n",
              "      <td>rating</td>\n",
              "      <td>comfort</td>\n",
              "    </tr>\n",
              "    <tr>\n",
              "      <th>3</th>\n",
              "      <td>Below_Right_Fist_90</td>\n",
              "      <td>4.300000</td>\n",
              "      <td>0.952311</td>\n",
              "      <td>rating</td>\n",
              "      <td>comfort</td>\n",
              "    </tr>\n",
              "    <tr>\n",
              "      <th>6</th>\n",
              "      <td>Below_Left_Palm_0</td>\n",
              "      <td>4.133333</td>\n",
              "      <td>0.860366</td>\n",
              "      <td>rating</td>\n",
              "      <td>comfort</td>\n",
              "    </tr>\n",
              "    <tr>\n",
              "      <th>18</th>\n",
              "      <td>On_Left_Palm_0</td>\n",
              "      <td>4.066667</td>\n",
              "      <td>0.980265</td>\n",
              "      <td>rating</td>\n",
              "      <td>comfort</td>\n",
              "    </tr>\n",
              "  </tbody>\n",
              "</table>\n",
              "</div>"
            ],
            "text/plain": [
              "                        posture      mean       std variable    value\n",
              "value                                                                \n",
              "comfort 19      On_Right_Palm_0  4.366667  0.999425   rating  comfort\n",
              "        7    Below_Right_Palm_0  4.333333  0.660895   rating  comfort\n",
              "        3   Below_Right_Fist_90  4.300000  0.952311   rating  comfort\n",
              "        6     Below_Left_Palm_0  4.133333  0.860366   rating  comfort\n",
              "        18       On_Left_Palm_0  4.066667  0.980265   rating  comfort"
            ]
          },
          "metadata": {
            "tags": []
          },
          "execution_count": 11
        }
      ]
    },
    {
      "cell_type": "code",
      "metadata": {
        "colab_type": "code",
        "outputId": "837e7ec6-8539-4cb6-fbe2-bfc9c56b69c3",
        "id": "_CmFL9Xf4rwA",
        "colab": {
          "base_uri": "https://localhost:8080/",
          "height": 563
        }
      },
      "source": [
        "sns.set(style=\"whitegrid\")\n",
        "plt.figure(figsize=(16,4))\n",
        "plt.xticks(rotation=90)\n",
        "# plt.setp(ax.get_xticklabels(), rotation=90)\n",
        "ax = sns.barplot(x=\"posture\", y=\"mean\", hue=\"value\", data=all_postures_stats_melted, yerr=[all_postures_stats_melted[\"std\"][:36],all_postures_stats_melted[\"std\"][36:]],capsize=10)"
      ],
      "execution_count": 25,
      "outputs": [
        {
          "output_type": "display_data",
          "data": {
            "image/png": "[encoded data removed]",
            "text/plain": [
              "<Figure size 1600x400 with 1 Axes>"
            ]
          },
          "metadata": {
            "tags": []
          }
        }
      ]
    },
    {
      "cell_type": "code",
      "metadata": {
        "id": "4F1FNIeqkAli",
        "colab_type": "code",
        "outputId": "b44b2194-8d2b-4fb1-e9fa-cfbdd6debf14",
        "colab": {
          "base_uri": "https://localhost:8080/",
          "height": 235
        }
      },
      "source": [
        "postures_orientation_0 = all_postures_stats_melted[all_postures_stats_melted.posture.str.contains('_0')]\n",
        "postures_orientation_90 = all_postures_stats_melted[all_postures_stats_melted.posture.str.contains('_90')]\n",
        "postures_orientation_180 = all_postures_stats_melted[all_postures_stats_melted.posture.str.contains('_180')]\n",
        "# postures_orientation_stats \n",
        "df = postures_orientation_0.groupby(level='value').mean().reset_index()\n",
        "df[\"orientation\"] = 0\n",
        "postures_orientation_stats = pd.concat([df])\n",
        "df = postures_orientation_90.groupby(level='value').mean().reset_index()\n",
        "df[\"orientation\"] = 90\n",
        "postures_orientation_stats = pd.concat([postures_orientation_stats, df])\n",
        "df = postures_orientation_180.groupby(level='value').mean().reset_index()\n",
        "df[\"orientation\"] = 180\n",
        "postures_orientation_stats = pd.concat([postures_orientation_stats, df])\n",
        "\n",
        "postures_orientation_stats = pd.melt(postures_orientation_stats, id_vars =['orientation', 'mean','std'], value_vars=['value']).groupby(\"value\").apply(lambda x: (x.sort_values('mean', ascending=False)))\n",
        "# postures_orientation_stats.head()"
      ],
      "execution_count": 186,
      "outputs": [
        {
          "output_type": "execute_result",
          "data": {
            "text/html": [
              "<div>\n",
              "<style scoped>\n",
              "    .dataframe tbody tr th:only-of-type {\n",
              "        vertical-align: middle;\n",
              "    }\n",
              "\n",
              "    .dataframe tbody tr th {\n",
              "        vertical-align: top;\n",
              "    }\n",
              "\n",
              "    .dataframe thead th {\n",
              "        text-align: right;\n",
              "    }\n",
              "</style>\n",
              "<table border=\"1\" class=\"dataframe\">\n",
              "  <thead>\n",
              "    <tr style=\"text-align: right;\">\n",
              "      <th></th>\n",
              "      <th></th>\n",
              "      <th>orientation</th>\n",
              "      <th>mean</th>\n",
              "      <th>std</th>\n",
              "      <th>variable</th>\n",
              "      <th>value</th>\n",
              "    </tr>\n",
              "    <tr>\n",
              "      <th>value</th>\n",
              "      <th></th>\n",
              "      <th></th>\n",
              "      <th></th>\n",
              "      <th></th>\n",
              "      <th></th>\n",
              "      <th></th>\n",
              "    </tr>\n",
              "  </thead>\n",
              "  <tbody>\n",
              "    <tr>\n",
              "      <th rowspan=\"3\" valign=\"top\">comfort</th>\n",
              "      <th>0</th>\n",
              "      <td>0</td>\n",
              "      <td>3.847222</td>\n",
              "      <td>1.005567</td>\n",
              "      <td>value</td>\n",
              "      <td>comfort</td>\n",
              "    </tr>\n",
              "    <tr>\n",
              "      <th>2</th>\n",
              "      <td>90</td>\n",
              "      <td>3.738889</td>\n",
              "      <td>1.094179</td>\n",
              "      <td>value</td>\n",
              "      <td>comfort</td>\n",
              "    </tr>\n",
              "    <tr>\n",
              "      <th>4</th>\n",
              "      <td>180</td>\n",
              "      <td>2.166667</td>\n",
              "      <td>1.069071</td>\n",
              "      <td>value</td>\n",
              "      <td>comfort</td>\n",
              "    </tr>\n",
              "    <tr>\n",
              "      <th rowspan=\"2\" valign=\"top\">preference</th>\n",
              "      <th>1</th>\n",
              "      <td>0</td>\n",
              "      <td>3.644444</td>\n",
              "      <td>1.028165</td>\n",
              "      <td>value</td>\n",
              "      <td>preference</td>\n",
              "    </tr>\n",
              "    <tr>\n",
              "      <th>3</th>\n",
              "      <td>90</td>\n",
              "      <td>3.527778</td>\n",
              "      <td>1.173942</td>\n",
              "      <td>value</td>\n",
              "      <td>preference</td>\n",
              "    </tr>\n",
              "  </tbody>\n",
              "</table>\n",
              "</div>"
            ],
            "text/plain": [
              "              orientation      mean       std variable       value\n",
              "value                                                             \n",
              "comfort    0            0  3.847222  1.005567    value     comfort\n",
              "           2           90  3.738889  1.094179    value     comfort\n",
              "           4          180  2.166667  1.069071    value     comfort\n",
              "preference 1            0  3.644444  1.028165    value  preference\n",
              "           3           90  3.527778  1.173942    value  preference"
            ]
          },
          "metadata": {
            "tags": []
          },
          "execution_count": 186
        }
      ]
    },
    {
      "cell_type": "code",
      "metadata": {
        "id": "xF78zksUoJkd",
        "colab_type": "code",
        "colab": {
          "base_uri": "https://localhost:8080/",
          "height": 396
        },
        "outputId": "49ecec0d-95a3-4463-9776-e5dc0061b5ab"
      },
      "source": [
        "sns.set(style=\"whitegrid\")\n",
        "plt.figure(figsize=(6,4))\n",
        "# plt.xticks(rotation=90)\n",
        "# plt.setp(ax.get_xticklabels(), rotation=90)\n",
        "ax = sns.barplot(x=\"orientation\", y=\"mean\", hue=\"value\", data=postures_orientation_stats, yerr=[postures_orientation_stats[\"std\"][:3],postures_orientation_stats[\"std\"][3:]])"
      ],
      "execution_count": 205,
      "outputs": [
        {
          "output_type": "display_data",
          "data": {
            "image/png": "[encoded data removed]",
            "text/plain": [
              "<Figure size 600x400 with 1 Axes>"
            ]
          },
          "metadata": {
            "tags": []
          }
        }
      ]
    },
    {
      "cell_type": "code",
      "metadata": {
        "id": "EorCsdohGavQ",
        "colab_type": "code",
        "outputId": "fec0672c-dbda-48bb-fb69-e2580618f1f5",
        "colab": {
          "base_uri": "https://localhost:8080/",
          "height": 235
        }
      },
      "source": [
        "postures_surface_on = all_postures_stats_melted[all_postures_stats_melted.posture.str.contains('On_')]\n",
        "postures_surface_below = all_postures_stats_melted[all_postures_stats_melted.posture.str.contains('Below_')]\n",
        "postures_surface_beside = all_postures_stats_melted[all_postures_stats_melted.posture.str.contains('Beside_')]\n",
        "# postures_orientation_stats \n",
        "df = postures_surface_on.groupby(level='value').mean().reset_index()\n",
        "df[\"surface\"] = \"on\"\n",
        "postures_surface_stats = pd.concat([df])\n",
        "df = postures_surface_below.groupby(level='value').mean().reset_index()\n",
        "df[\"surface\"] =\"below\"\n",
        "postures_surface_stats = pd.concat([postures_surface_stats, df])\n",
        "df = postures_surface_beside.groupby(level='value').mean().reset_index()\n",
        "df[\"surface\"] = \"beside\"\n",
        "postures_surface_stats = pd.concat([postures_surface_stats, df])\n",
        "\n",
        "postures_surface_stats = pd.melt(postures_surface_stats, id_vars =['surface', 'mean','std'], value_vars=['value']).groupby(\"value\").apply(lambda x: (x.sort_values('mean', ascending=False)))\n",
        "postures_surface_stats.head()"
      ],
      "execution_count": 193,
      "outputs": [
        {
          "output_type": "execute_result",
          "data": {
            "text/html": [
              "<div>\n",
              "<style scoped>\n",
              "    .dataframe tbody tr th:only-of-type {\n",
              "        vertical-align: middle;\n",
              "    }\n",
              "\n",
              "    .dataframe tbody tr th {\n",
              "        vertical-align: top;\n",
              "    }\n",
              "\n",
              "    .dataframe thead th {\n",
              "        text-align: right;\n",
              "    }\n",
              "</style>\n",
              "<table border=\"1\" class=\"dataframe\">\n",
              "  <thead>\n",
              "    <tr style=\"text-align: right;\">\n",
              "      <th></th>\n",
              "      <th></th>\n",
              "      <th>surface</th>\n",
              "      <th>mean</th>\n",
              "      <th>std</th>\n",
              "      <th>variable</th>\n",
              "      <th>value</th>\n",
              "    </tr>\n",
              "    <tr>\n",
              "      <th>value</th>\n",
              "      <th></th>\n",
              "      <th></th>\n",
              "      <th></th>\n",
              "      <th></th>\n",
              "      <th></th>\n",
              "      <th></th>\n",
              "    </tr>\n",
              "  </thead>\n",
              "  <tbody>\n",
              "    <tr>\n",
              "      <th rowspan=\"3\" valign=\"top\">comfort</th>\n",
              "      <th>2</th>\n",
              "      <td>below</td>\n",
              "      <td>3.433333</td>\n",
              "      <td>1.017749</td>\n",
              "      <td>value</td>\n",
              "      <td>comfort</td>\n",
              "    </tr>\n",
              "    <tr>\n",
              "      <th>0</th>\n",
              "      <td>on</td>\n",
              "      <td>3.211111</td>\n",
              "      <td>1.039844</td>\n",
              "      <td>value</td>\n",
              "      <td>comfort</td>\n",
              "    </tr>\n",
              "    <tr>\n",
              "      <th>4</th>\n",
              "      <td>beside</td>\n",
              "      <td>3.108333</td>\n",
              "      <td>1.111224</td>\n",
              "      <td>value</td>\n",
              "      <td>comfort</td>\n",
              "    </tr>\n",
              "    <tr>\n",
              "      <th rowspan=\"2\" valign=\"top\">preference</th>\n",
              "      <th>3</th>\n",
              "      <td>below</td>\n",
              "      <td>3.352778</td>\n",
              "      <td>1.075438</td>\n",
              "      <td>value</td>\n",
              "      <td>preference</td>\n",
              "    </tr>\n",
              "    <tr>\n",
              "      <th>1</th>\n",
              "      <td>on</td>\n",
              "      <td>3.202778</td>\n",
              "      <td>1.138841</td>\n",
              "      <td>value</td>\n",
              "      <td>preference</td>\n",
              "    </tr>\n",
              "  </tbody>\n",
              "</table>\n",
              "</div>"
            ],
            "text/plain": [
              "             surface      mean       std variable       value\n",
              "value                                                        \n",
              "comfort    2   below  3.433333  1.017749    value     comfort\n",
              "           0      on  3.211111  1.039844    value     comfort\n",
              "           4  beside  3.108333  1.111224    value     comfort\n",
              "preference 3   below  3.352778  1.075438    value  preference\n",
              "           1      on  3.202778  1.138841    value  preference"
            ]
          },
          "metadata": {
            "tags": []
          },
          "execution_count": 193
        }
      ]
    },
    {
      "cell_type": "code",
      "metadata": {
        "id": "VKPXVUGJqK7F",
        "colab_type": "code",
        "colab": {
          "base_uri": "https://localhost:8080/",
          "height": 396
        },
        "outputId": "3644940d-5598-44eb-b7e4-3a3b40b35afc"
      },
      "source": [
        "sns.set(style=\"whitegrid\")\n",
        "plt.figure(figsize=(6,4))\n",
        "# plt.xticks(rotation=90)\n",
        "# plt.setp(ax.get_xticklabels(), rotation=90)\n",
        "ax = sns.barplot(x=\"surface\", y=\"mean\", hue=\"value\", data=postures_surface_stats, yerr=[postures_surface_stats[\"std\"][:3],postures_surface_stats[\"std\"][3:]])"
      ],
      "execution_count": 204,
      "outputs": [
        {
          "output_type": "display_data",
          "data": {
            "image/png": "[encoded data removed]",
            "text/plain": [
              "<Figure size 600x400 with 1 Axes>"
            ]
          },
          "metadata": {
            "tags": []
          }
        }
      ]
    },
    {
      "cell_type": "code",
      "metadata": {
        "id": "a9ebh8uMGxon",
        "colab_type": "code",
        "outputId": "0485d461-e6f5-4d2e-dc62-694ebd7996db",
        "colab": {
          "base_uri": "https://localhost:8080/",
          "height": 204
        }
      },
      "source": [
        "postures_left_hand = all_postures_stats_melted.loc[all_postures_stats_melted.posture.str.contains('_Left_')]\n",
        "postures_right_hand = all_postures_stats_melted.loc[all_postures_stats_melted.posture.str.contains('_Right_')]\n",
        "# postures_orientation_stats \n",
        "df = postures_left_hand.groupby(level='value').mean().reset_index()\n",
        "df[\"dexterity\"] = \"left\"\n",
        "postures_dexterity_stats = pd.concat([df])\n",
        "df = postures_right_hand.groupby(level='value').mean().reset_index()\n",
        "df[\"dexterity\"] =\"right\"\n",
        "postures_dexterity_stats = pd.concat([postures_dexterity_stats, df])\n",
        "\n",
        "postures_dexterity_stats = pd.melt(postures_dexterity_stats, id_vars =['dexterity', 'mean','std'], value_vars=['value']).groupby(\"value\").apply(lambda x: (x.sort_values('mean', ascending=False)))\n",
        "postures_dexterity_stats.head()"
      ],
      "execution_count": 199,
      "outputs": [
        {
          "output_type": "execute_result",
          "data": {
            "text/html": [
              "<div>\n",
              "<style scoped>\n",
              "    .dataframe tbody tr th:only-of-type {\n",
              "        vertical-align: middle;\n",
              "    }\n",
              "\n",
              "    .dataframe tbody tr th {\n",
              "        vertical-align: top;\n",
              "    }\n",
              "\n",
              "    .dataframe thead th {\n",
              "        text-align: right;\n",
              "    }\n",
              "</style>\n",
              "<table border=\"1\" class=\"dataframe\">\n",
              "  <thead>\n",
              "    <tr style=\"text-align: right;\">\n",
              "      <th></th>\n",
              "      <th></th>\n",
              "      <th>dexterity</th>\n",
              "      <th>mean</th>\n",
              "      <th>std</th>\n",
              "      <th>variable</th>\n",
              "      <th>value</th>\n",
              "    </tr>\n",
              "    <tr>\n",
              "      <th>value</th>\n",
              "      <th></th>\n",
              "      <th></th>\n",
              "      <th></th>\n",
              "      <th></th>\n",
              "      <th></th>\n",
              "      <th></th>\n",
              "    </tr>\n",
              "  </thead>\n",
              "  <tbody>\n",
              "    <tr>\n",
              "      <th rowspan=\"2\" valign=\"top\">comfort</th>\n",
              "      <th>2</th>\n",
              "      <td>right</td>\n",
              "      <td>3.370370</td>\n",
              "      <td>1.000327</td>\n",
              "      <td>value</td>\n",
              "      <td>comfort</td>\n",
              "    </tr>\n",
              "    <tr>\n",
              "      <th>0</th>\n",
              "      <td>left</td>\n",
              "      <td>3.131481</td>\n",
              "      <td>1.112217</td>\n",
              "      <td>value</td>\n",
              "      <td>comfort</td>\n",
              "    </tr>\n",
              "    <tr>\n",
              "      <th rowspan=\"2\" valign=\"top\">preference</th>\n",
              "      <th>3</th>\n",
              "      <td>right</td>\n",
              "      <td>3.261111</td>\n",
              "      <td>1.091534</td>\n",
              "      <td>value</td>\n",
              "      <td>preference</td>\n",
              "    </tr>\n",
              "    <tr>\n",
              "      <th>1</th>\n",
              "      <td>left</td>\n",
              "      <td>3.031481</td>\n",
              "      <td>1.187975</td>\n",
              "      <td>value</td>\n",
              "      <td>preference</td>\n",
              "    </tr>\n",
              "  </tbody>\n",
              "</table>\n",
              "</div>"
            ],
            "text/plain": [
              "             dexterity      mean       std variable       value\n",
              "value                                                          \n",
              "comfort    2     right  3.370370  1.000327    value     comfort\n",
              "           0      left  3.131481  1.112217    value     comfort\n",
              "preference 3     right  3.261111  1.091534    value  preference\n",
              "           1      left  3.031481  1.187975    value  preference"
            ]
          },
          "metadata": {
            "tags": []
          },
          "execution_count": 199
        }
      ]
    },
    {
      "cell_type": "code",
      "metadata": {
        "id": "s_-SZ90_rIUZ",
        "colab_type": "code",
        "colab": {
          "base_uri": "https://localhost:8080/",
          "height": 396
        },
        "outputId": "d18ae837-1b1e-4695-d535-9a0aec4f2987"
      },
      "source": [
        "sns.set(style=\"whitegrid\")\n",
        "plt.figure(figsize=(6,4))\n",
        "# plt.xticks(rotation=90)\n",
        "# plt.setp(ax.get_xticklabels(), rotation=90)\n",
        "ax = sns.barplot(x=\"dexterity\", y=\"mean\", hue=\"value\", data=postures_dexterity_stats, yerr=[postures_dexterity_stats[\"std\"][:2],postures_dexterity_stats[\"std\"][2:]])"
      ],
      "execution_count": 206,
      "outputs": [
        {
          "output_type": "display_data",
          "data": {
            "image/png": "[encoded data removed]",
            "text/plain": [
              "<Figure size 600x400 with 1 Axes>"
            ]
          },
          "metadata": {
            "tags": []
          }
        }
      ]
    },
    {
      "cell_type": "code",
      "metadata": {
        "id": "xDfHuRenG_2X",
        "colab_type": "code",
        "outputId": "d7822a09-cdda-445e-dea7-e2945365aefd",
        "colab": {
          "base_uri": "https://localhost:8080/",
          "height": 204
        }
      },
      "source": [
        "postures_open_form = all_postures_stats_melted[all_postures_stats_melted.posture.str.contains('_Palm_')]\n",
        "postures_close_form = all_postures_stats_melted[all_postures_stats_melted.posture.str.contains('_Fist_')]\n",
        "# postures_orientation_stats \n",
        "df = postures_open_form.groupby(level='value').mean().reset_index()\n",
        "df[\"hand form\"] = \"open\"\n",
        "postures_handform_stats = pd.concat([df])\n",
        "df = postures_close_form.groupby(level='value').mean().reset_index()\n",
        "df[\"hand form\"] =\"close\"\n",
        "postures_handform_stats = pd.concat([postures_handform_stats, df])\n",
        "\n",
        "postures_handform_stats = pd.melt(postures_handform_stats, id_vars =['hand form', 'mean','std'], value_vars=['value']).groupby(\"value\").apply(lambda x: (x.sort_values('mean', ascending=False)))\n",
        "postures_handform_stats.head()"
      ],
      "execution_count": 208,
      "outputs": [
        {
          "output_type": "execute_result",
          "data": {
            "text/html": [
              "<div>\n",
              "<style scoped>\n",
              "    .dataframe tbody tr th:only-of-type {\n",
              "        vertical-align: middle;\n",
              "    }\n",
              "\n",
              "    .dataframe tbody tr th {\n",
              "        vertical-align: top;\n",
              "    }\n",
              "\n",
              "    .dataframe thead th {\n",
              "        text-align: right;\n",
              "    }\n",
              "</style>\n",
              "<table border=\"1\" class=\"dataframe\">\n",
              "  <thead>\n",
              "    <tr style=\"text-align: right;\">\n",
              "      <th></th>\n",
              "      <th></th>\n",
              "      <th>hand form</th>\n",
              "      <th>mean</th>\n",
              "      <th>std</th>\n",
              "      <th>variable</th>\n",
              "      <th>value</th>\n",
              "    </tr>\n",
              "    <tr>\n",
              "      <th>value</th>\n",
              "      <th></th>\n",
              "      <th></th>\n",
              "      <th></th>\n",
              "      <th></th>\n",
              "      <th></th>\n",
              "      <th></th>\n",
              "    </tr>\n",
              "  </thead>\n",
              "  <tbody>\n",
              "    <tr>\n",
              "      <th rowspan=\"2\" valign=\"top\">comfort</th>\n",
              "      <th>0</th>\n",
              "      <td>open</td>\n",
              "      <td>3.364815</td>\n",
              "      <td>1.058407</td>\n",
              "      <td>value</td>\n",
              "      <td>comfort</td>\n",
              "    </tr>\n",
              "    <tr>\n",
              "      <th>2</th>\n",
              "      <td>close</td>\n",
              "      <td>3.137037</td>\n",
              "      <td>1.054137</td>\n",
              "      <td>value</td>\n",
              "      <td>comfort</td>\n",
              "    </tr>\n",
              "    <tr>\n",
              "      <th rowspan=\"2\" valign=\"top\">preference</th>\n",
              "      <th>1</th>\n",
              "      <td>open</td>\n",
              "      <td>3.257407</td>\n",
              "      <td>1.152518</td>\n",
              "      <td>value</td>\n",
              "      <td>preference</td>\n",
              "    </tr>\n",
              "    <tr>\n",
              "      <th>3</th>\n",
              "      <td>close</td>\n",
              "      <td>3.035185</td>\n",
              "      <td>1.126991</td>\n",
              "      <td>value</td>\n",
              "      <td>preference</td>\n",
              "    </tr>\n",
              "  </tbody>\n",
              "</table>\n",
              "</div>"
            ],
            "text/plain": [
              "             hand form      mean       std variable       value\n",
              "value                                                          \n",
              "comfort    0      open  3.364815  1.058407    value     comfort\n",
              "           2     close  3.137037  1.054137    value     comfort\n",
              "preference 1      open  3.257407  1.152518    value  preference\n",
              "           3     close  3.035185  1.126991    value  preference"
            ]
          },
          "metadata": {
            "tags": []
          },
          "execution_count": 208
        }
      ]
    },
    {
      "cell_type": "code",
      "metadata": {
        "id": "D90byUBUsLCv",
        "colab_type": "code",
        "colab": {
          "base_uri": "https://localhost:8080/",
          "height": 396
        },
        "outputId": "06d7cbfc-1648-4ebe-8b7a-42f6ec9ae007"
      },
      "source": [
        "sns.set(style=\"whitegrid\")\n",
        "plt.figure(figsize=(6,4))\n",
        "# plt.xticks(rotation=90)\n",
        "# plt.setp(ax.get_xticklabels(), rotation=90)\n",
        "ax = sns.barplot(x=\"hand form\", y=\"mean\", hue=\"value\", data=postures_handform_stats, yerr=[postures_handform_stats[\"std\"][:2],postures_handform_stats[\"std\"][2:]])"
      ],
      "execution_count": 209,
      "outputs": [
        {
          "output_type": "display_data",
          "data": {
            "image/png": "[encoded data removed]",
            "text/plain": [
              "<Figure size 600x400 with 1 Axes>"
            ]
          },
          "metadata": {
            "tags": []
          }
        }
      ]
    },
    {
      "cell_type": "code",
      "metadata": {
        "id": "8VroqseDrFx_",
        "colab_type": "code",
        "colab": {}
      },
      "source": [
        ""
      ],
      "execution_count": 0,
      "outputs": []
    },
    {
      "cell_type": "markdown",
      "metadata": {
        "id": "Vl6rti5mw94s",
        "colab_type": "text"
      },
      "source": [
        "**To do**\n",
        "\n",
        "- Compare postures across different dimensions (SURFACE, WRIST_ORIENTATION, HAND_FORM & DEXTERITY)\n",
        "- Give design recomendations based on above^^"
      ]
    },
    {
      "cell_type": "code",
      "metadata": {
        "id": "P9HBwBDV_19a",
        "colab_type": "code",
        "colab": {}
      },
      "source": [
        ""
      ],
      "execution_count": 0,
      "outputs": []
    }
  ]
}