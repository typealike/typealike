{
  "nbformat": 4,
  "nbformat_minor": 0,
  "metadata": {
    "kernelspec": {
      "display_name": "Python 3",
      "language": "python",
      "name": "python3"
    },
    "language_info": {
      "codemirror_mode": {
        "name": "ipython",
        "version": 3
      },
      "file_extension": ".py",
      "mimetype": "text/x-python",
      "name": "python",
      "nbconvert_exporter": "python",
      "pygments_lexer": "ipython3",
      "version": "3.6.7"
    },
    "colab": {
      "name": "study_1.ipynb",
      "version": "0.3.2",
      "provenance": []
    }
  },
  "cells": [
    {
      "cell_type": "code",
      "metadata": {
        "id": "ivaT6E025pjY",
        "colab_type": "code",
        "colab": {}
      },
      "source": [
        "import pandas as pd \n",
        "import requests\n",
        "import io"
      ],
      "execution_count": 0,
      "outputs": []
    },
    {
      "cell_type": "code",
      "metadata": {
        "id": "z_jy5dIH5r34",
        "colab_type": "code",
        "colab": {
          "base_uri": "https://localhost:8080/",
          "height": 71
        },
        "outputId": "6427c54e-6f73-4935-a4bc-1ea0b8a596db"
      },
      "source": [
        "ENVIRONMENT = \"COLAB\"\n",
        "\n",
        "if ENVIRONMENT is \"LOCAL\":\n",
        "    URL_DEMOGRAPHIC_SHEET = \"demographics.csv\"\n",
        "    data = pd.read_csv(URL_DEMOGRAPHIC_SHEET)\n",
        "else:    \n",
        "    URL_DEMOGRAPHIC_SHEET = \"https://gist.githubusercontent.com/Nalinc/bd62cc63a7e78f6e87861c79eebd2b4c/raw/adc1185791fdf07c5aeee8e883e84633fe444329/study_1_demographics.csv\"\n",
        "    s = requests.get(URL_DEMOGRAPHIC_SHEET, verify=False).content\n",
        "    data = pd.read_csv(io.StringIO(s.decode('utf-8'))) \n",
        "\n"
      ],
      "execution_count": 2,
      "outputs": [
        {
          "output_type": "stream",
          "text": [
            "/usr/local/lib/python3.6/dist-packages/urllib3/connectionpool.py:847: InsecureRequestWarning: Unverified HTTPS request is being made. Adding certificate verification is strongly advised. See: https://urllib3.readthedocs.io/en/latest/advanced-usage.html#ssl-warnings\n",
            "  InsecureRequestWarning)\n"
          ],
          "name": "stderr"
        }
      ]
    },
    {
      "cell_type": "code",
      "metadata": {
        "id": "ti6mIQrq5zV_",
        "colab_type": "code",
        "colab": {
          "base_uri": "https://localhost:8080/",
          "height": 204
        },
        "outputId": "00868f3e-6e9c-467c-f742-fab14814055c"
      },
      "source": [
        "data.head()"
      ],
      "execution_count": 3,
      "outputs": [
        {
          "output_type": "execute_result",
          "data": {
            "text/html": [
              "<div>\n",
              "<style scoped>\n",
              "    .dataframe tbody tr th:only-of-type {\n",
              "        vertical-align: middle;\n",
              "    }\n",
              "\n",
              "    .dataframe tbody tr th {\n",
              "        vertical-align: top;\n",
              "    }\n",
              "\n",
              "    .dataframe thead th {\n",
              "        text-align: right;\n",
              "    }\n",
              "</style>\n",
              "<table border=\"1\" class=\"dataframe\">\n",
              "  <thead>\n",
              "    <tr style=\"text-align: right;\">\n",
              "      <th></th>\n",
              "      <th>ParticipantID</th>\n",
              "      <th>Age</th>\n",
              "      <th>Gender</th>\n",
              "      <th>DominantHand</th>\n",
              "      <th>AvgTimeSpent</th>\n",
              "      <th>WordsPerMinute</th>\n",
              "      <th>WordCount</th>\n",
              "      <th>Errors</th>\n",
              "      <th>Time (sec)</th>\n",
              "    </tr>\n",
              "  </thead>\n",
              "  <tbody>\n",
              "    <tr>\n",
              "      <th>0</th>\n",
              "      <td>participant_1</td>\n",
              "      <td>27</td>\n",
              "      <td>Male</td>\n",
              "      <td>Right</td>\n",
              "      <td>10</td>\n",
              "      <td>57</td>\n",
              "      <td>89</td>\n",
              "      <td>26</td>\n",
              "      <td>NaN</td>\n",
              "    </tr>\n",
              "    <tr>\n",
              "      <th>1</th>\n",
              "      <td>participant_2</td>\n",
              "      <td>26</td>\n",
              "      <td>Male</td>\n",
              "      <td>Right</td>\n",
              "      <td>6</td>\n",
              "      <td>38</td>\n",
              "      <td>89</td>\n",
              "      <td>13</td>\n",
              "      <td>NaN</td>\n",
              "    </tr>\n",
              "    <tr>\n",
              "      <th>2</th>\n",
              "      <td>participant_3</td>\n",
              "      <td>19</td>\n",
              "      <td>Male</td>\n",
              "      <td>Right</td>\n",
              "      <td>1</td>\n",
              "      <td>31</td>\n",
              "      <td>89</td>\n",
              "      <td>45</td>\n",
              "      <td>NaN</td>\n",
              "    </tr>\n",
              "    <tr>\n",
              "      <th>3</th>\n",
              "      <td>participant_4</td>\n",
              "      <td>22</td>\n",
              "      <td>Female</td>\n",
              "      <td>Left</td>\n",
              "      <td>8</td>\n",
              "      <td>47</td>\n",
              "      <td>89</td>\n",
              "      <td>43</td>\n",
              "      <td>NaN</td>\n",
              "    </tr>\n",
              "    <tr>\n",
              "      <th>4</th>\n",
              "      <td>participant_5</td>\n",
              "      <td>22</td>\n",
              "      <td>Male</td>\n",
              "      <td>Right</td>\n",
              "      <td>2</td>\n",
              "      <td>27</td>\n",
              "      <td>89</td>\n",
              "      <td>16</td>\n",
              "      <td>NaN</td>\n",
              "    </tr>\n",
              "  </tbody>\n",
              "</table>\n",
              "</div>"
            ],
            "text/plain": [
              "   ParticipantID  Age  Gender  ... WordCount  Errors  Time (sec)\n",
              "0  participant_1   27    Male  ...        89      26         NaN\n",
              "1  participant_2   26    Male  ...        89      13         NaN\n",
              "2  participant_3   19    Male  ...        89      45         NaN\n",
              "3  participant_4   22  Female  ...        89      43         NaN\n",
              "4  participant_5   22    Male  ...        89      16         NaN\n",
              "\n",
              "[5 rows x 9 columns]"
            ]
          },
          "metadata": {
            "tags": []
          },
          "execution_count": 3
        }
      ]
    },
    {
      "cell_type": "code",
      "metadata": {
        "id": "HLZ2JNXt6B4x",
        "colab_type": "code",
        "colab": {}
      },
      "source": [
        ""
      ],
      "execution_count": 0,
      "outputs": []
    }
  ]
}