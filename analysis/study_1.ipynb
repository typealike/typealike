{
  "nbformat": 4,
  "nbformat_minor": 0,
  "metadata": {
    "kernelspec": {
      "display_name": "Python 3",
      "language": "python",
      "name": "python3"
    },
    "language_info": {
      "codemirror_mode": {
        "name": "ipython",
        "version": 3
      },
      "file_extension": ".py",
      "mimetype": "text/x-python",
      "name": "python",
      "nbconvert_exporter": "python",
      "pygments_lexer": "ipython3",
      "version": "3.6.7"
    },
    "colab": {
      "name": "study_1.ipynb",
      "provenance": []
    }
  },
  "cells": [
    {
      "cell_type": "markdown",
      "metadata": {
        "id": "Cf7BC6tpPFZo",
        "colab_type": "text"
      },
      "source": [
        "# Imports"
      ]
    },
    {
      "cell_type": "code",
      "metadata": {
        "id": "ivaT6E025pjY",
        "colab_type": "code",
        "colab": {
          "base_uri": "https://localhost:8080/",
          "height": 72
        },
        "outputId": "364b478e-1cbb-47cf-afdc-9ff0ff23d443"
      },
      "source": [
        "import pandas as pd \n",
        "import numpy as np\n",
        "import requests\n",
        "import io\n",
        "import re\n",
        "import seaborn as sns\n",
        "import matplotlib.pyplot as plt\n",
        "from google.colab import files\n"
      ],
      "execution_count": 1,
      "outputs": [
        {
          "output_type": "stream",
          "text": [
            "/usr/local/lib/python3.6/dist-packages/statsmodels/tools/_testing.py:19: FutureWarning: pandas.util.testing is deprecated. Use the functions in the public API at pandas.testing instead.\n",
            "  import pandas.util.testing as tm\n"
          ],
          "name": "stderr"
        }
      ]
    },
    {
      "cell_type": "markdown",
      "metadata": {
        "id": "N7iiXKZhO7ep",
        "colab_type": "text"
      },
      "source": [
        "# Load Data"
      ]
    },
    {
      "cell_type": "code",
      "metadata": {
        "id": "z_jy5dIH5r34",
        "colab_type": "code",
        "colab": {
          "base_uri": "https://localhost:8080/",
          "height": 175
        },
        "outputId": "61f01523-e190-4418-f9e5-eafd62cb968d"
      },
      "source": [
        "BASE_URL = \"https://docs.google.com/spreadsheets/d/1VpLXByvbTfbgupDNWcUaBxdk72cW9FRExs0AgRVaF1g/export?format=csv&\"\n",
        "URL_PARTICIPANTS = BASE_URL+\"gid=611260429\"\n",
        "URL_POSTURES = BASE_URL+\"gid=961690077\"\n",
        "content_participants = requests.get(URL_PARTICIPANTS, verify=False).content\n",
        "content_postures = requests.get(URL_POSTURES, verify=False).content\n",
        "df_participants = pd.read_csv(io.StringIO(content_participants.decode('utf-8'))) \n",
        "df_postures = pd.read_csv(io.StringIO(content_postures.decode('utf-8'))) \n",
        "plt.rcParams['figure.dpi'] = 100"
      ],
      "execution_count": 2,
      "outputs": [
        {
          "output_type": "stream",
          "text": [
            "/usr/local/lib/python3.6/dist-packages/urllib3/connectionpool.py:847: InsecureRequestWarning: Unverified HTTPS request is being made. Adding certificate verification is strongly advised. See: https://urllib3.readthedocs.io/en/latest/advanced-usage.html#ssl-warnings\n",
            "  InsecureRequestWarning)\n",
            "/usr/local/lib/python3.6/dist-packages/urllib3/connectionpool.py:847: InsecureRequestWarning: Unverified HTTPS request is being made. Adding certificate verification is strongly advised. See: https://urllib3.readthedocs.io/en/latest/advanced-usage.html#ssl-warnings\n",
            "  InsecureRequestWarning)\n",
            "/usr/local/lib/python3.6/dist-packages/urllib3/connectionpool.py:847: InsecureRequestWarning: Unverified HTTPS request is being made. Adding certificate verification is strongly advised. See: https://urllib3.readthedocs.io/en/latest/advanced-usage.html#ssl-warnings\n",
            "  InsecureRequestWarning)\n",
            "/usr/local/lib/python3.6/dist-packages/urllib3/connectionpool.py:847: InsecureRequestWarning: Unverified HTTPS request is being made. Adding certificate verification is strongly advised. See: https://urllib3.readthedocs.io/en/latest/advanced-usage.html#ssl-warnings\n",
            "  InsecureRequestWarning)\n"
          ],
          "name": "stderr"
        }
      ]
    },
    {
      "cell_type": "code",
      "metadata": {
        "id": "AA0NFF_8bA5n",
        "colab_type": "code",
        "colab": {
          "base_uri": "https://localhost:8080/",
          "height": 78
        },
        "outputId": "06766586-106b-4e4e-87ca-675fe338b55d"
      },
      "source": [
        "df_participants.head(1)"
      ],
      "execution_count": 3,
      "outputs": [
        {
          "output_type": "execute_result",
          "data": {
            "text/html": [
              "<div>\n",
              "<style scoped>\n",
              "    .dataframe tbody tr th:only-of-type {\n",
              "        vertical-align: middle;\n",
              "    }\n",
              "\n",
              "    .dataframe tbody tr th {\n",
              "        vertical-align: top;\n",
              "    }\n",
              "\n",
              "    .dataframe thead th {\n",
              "        text-align: right;\n",
              "    }\n",
              "</style>\n",
              "<table border=\"1\" class=\"dataframe\">\n",
              "  <thead>\n",
              "    <tr style=\"text-align: right;\">\n",
              "      <th></th>\n",
              "      <th>ParticipantID</th>\n",
              "      <th>Age</th>\n",
              "      <th>Gender</th>\n",
              "      <th>DominantHand</th>\n",
              "      <th>AvgTimeSpent</th>\n",
              "      <th>WordsPerMinute</th>\n",
              "      <th>WordCount</th>\n",
              "      <th>Errors</th>\n",
              "      <th>TimeTakenS</th>\n",
              "      <th>TimeTakenM</th>\n",
              "      <th>MeanError</th>\n",
              "      <th>totalwords</th>\n",
              "      <th>time</th>\n",
              "      <th>sec</th>\n",
              "    </tr>\n",
              "  </thead>\n",
              "  <tbody>\n",
              "    <tr>\n",
              "      <th>0</th>\n",
              "      <td>participant_1</td>\n",
              "      <td>27.0</td>\n",
              "      <td>Male</td>\n",
              "      <td>Right</td>\n",
              "      <td>10.0</td>\n",
              "      <td>57.0</td>\n",
              "      <td>89.0</td>\n",
              "      <td>15.0</td>\n",
              "      <td>94.0</td>\n",
              "      <td>1.561404</td>\n",
              "      <td>9.606742</td>\n",
              "      <td>104.0</td>\n",
              "      <td>1.561404</td>\n",
              "      <td>93.684211</td>\n",
              "    </tr>\n",
              "  </tbody>\n",
              "</table>\n",
              "</div>"
            ],
            "text/plain": [
              "   ParticipantID   Age Gender  ... totalwords      time        sec\n",
              "0  participant_1  27.0   Male  ...      104.0  1.561404  93.684211\n",
              "\n",
              "[1 rows x 14 columns]"
            ]
          },
          "metadata": {
            "tags": []
          },
          "execution_count": 3
        }
      ]
    },
    {
      "cell_type": "code",
      "metadata": {
        "id": "F1QKl121bDQ7",
        "colab_type": "code",
        "colab": {
          "base_uri": "https://localhost:8080/",
          "height": 98
        },
        "outputId": "900d73cd-423e-4100-c0cf-da65a2ecd29d"
      },
      "source": [
        "df_postures.head(1)"
      ],
      "execution_count": 4,
      "outputs": [
        {
          "output_type": "execute_result",
          "data": {
            "text/html": [
              "<div>\n",
              "<style scoped>\n",
              "    .dataframe tbody tr th:only-of-type {\n",
              "        vertical-align: middle;\n",
              "    }\n",
              "\n",
              "    .dataframe tbody tr th {\n",
              "        vertical-align: top;\n",
              "    }\n",
              "\n",
              "    .dataframe thead th {\n",
              "        text-align: right;\n",
              "    }\n",
              "</style>\n",
              "<table border=\"1\" class=\"dataframe\">\n",
              "  <thead>\n",
              "    <tr style=\"text-align: right;\">\n",
              "      <th></th>\n",
              "      <th>ParticipantID</th>\n",
              "      <th>Comfort_Below_Left_Fist_0</th>\n",
              "      <th>Preference_Below_Left_Fist_0</th>\n",
              "      <th>Comfort_Below_Right_Fist_0</th>\n",
              "      <th>Preference_Below_Right_Fist_0</th>\n",
              "      <th>Comfort_Below_Left_Fist_90</th>\n",
              "      <th>Preference_Below_Left_Fist_90</th>\n",
              "      <th>Comfort_Below_Right_Fist_90</th>\n",
              "      <th>Preference_Below_Right_Fist_90</th>\n",
              "      <th>Comfort_Below_Left_Fist_180</th>\n",
              "      <th>Preference_Below_Left_Fist_180</th>\n",
              "      <th>Comfort_Below_Right_Fist_180</th>\n",
              "      <th>Preference_Below_Right_Fist_180</th>\n",
              "      <th>Comfort_Below_Left_Palm_0</th>\n",
              "      <th>Preference_Below_Left_Palm_0</th>\n",
              "      <th>Comfort_Below_Right_Palm_0</th>\n",
              "      <th>Preference_Below_Right_Palm_0</th>\n",
              "      <th>Comfort_Below_Left_Palm_90</th>\n",
              "      <th>Preference_Below_Left_Palm_90</th>\n",
              "      <th>Comfort_Below_Right_Palm_90</th>\n",
              "      <th>Preference_Below_Right_Palm_90</th>\n",
              "      <th>Comfort_Below_Left_Palm_180</th>\n",
              "      <th>Preference_Below_Left_Palm_180</th>\n",
              "      <th>Comfort_Below_Right_Palm_180</th>\n",
              "      <th>Preference_Below_Right_Palm_180</th>\n",
              "      <th>Comfort_On_Left_Fist_0</th>\n",
              "      <th>Preference_On_Left_Fist_0</th>\n",
              "      <th>Comfort_On_Right_Fist_0</th>\n",
              "      <th>Preference_On_Right_Fist_0</th>\n",
              "      <th>Comfort_On_Left_Fist_90</th>\n",
              "      <th>Preference_On_Left_Fist_90</th>\n",
              "      <th>Comfort_On_Right_Fist_90</th>\n",
              "      <th>Preference_On_Right_Fist_90</th>\n",
              "      <th>Comfort_On_Left_Fist_180</th>\n",
              "      <th>Preference_On_Left_Fist_180</th>\n",
              "      <th>Comfort_On_Right_Fist_180</th>\n",
              "      <th>Preference_On_Right_Fist_180</th>\n",
              "      <th>Comfort_On_Left_Palm_0</th>\n",
              "      <th>Preference_On_Left_Palm_0</th>\n",
              "      <th>Comfort_On_Right_Palm_0</th>\n",
              "      <th>Preference_On_Right_Palm_0</th>\n",
              "      <th>Comfort_On_Left_Palm_90</th>\n",
              "      <th>Preference_On_Left_Palm_90</th>\n",
              "      <th>Comfort_On_Right_Palm_90</th>\n",
              "      <th>Preference_On_Right_Palm_90</th>\n",
              "      <th>Comfort_On_Left_Palm_180</th>\n",
              "      <th>Preference_On_Left_Palm_180</th>\n",
              "      <th>Comfort_On_Right_Palm_180</th>\n",
              "      <th>Preference_On_Right_Palm_180</th>\n",
              "      <th>Comfort_Beside_Left_Fist_0</th>\n",
              "      <th>Preference_Beside_Left_Fist_0</th>\n",
              "      <th>Comfort_Beside_Right_Fist_0</th>\n",
              "      <th>Preference_Beside_Right_Fist_0</th>\n",
              "      <th>Comfort_Beside_Left_Fist_90</th>\n",
              "      <th>Preference_Beside_Left_Fist_90</th>\n",
              "      <th>Comfort_Beside_Right_Fist_90</th>\n",
              "      <th>Preference_Beside_Right_Fist_90</th>\n",
              "      <th>Comfort_Beside_Left_Fist_180</th>\n",
              "      <th>Preference_Beside_Left_Fist_180</th>\n",
              "      <th>Comfort_Beside_Right_Fist_180</th>\n",
              "      <th>Preference_Beside_Right_Fist_180</th>\n",
              "      <th>Comfort_Beside_Left_Palm_0</th>\n",
              "      <th>Preference_Beside_Left_Palm_0</th>\n",
              "      <th>Comfort_Beside_Right_Palm_0</th>\n",
              "      <th>Preference_Beside_Right_Palm_0</th>\n",
              "      <th>Comfort_Beside_Left_Palm_90</th>\n",
              "      <th>Preference_Beside_Left_Palm_90</th>\n",
              "      <th>Comfort_Beside_Right_Palm_90</th>\n",
              "      <th>Preference_Beside_Right_Palm_90</th>\n",
              "      <th>Comfort_Beside_Left_Palm_180</th>\n",
              "      <th>Preference_Beside_Left_Palm_180</th>\n",
              "      <th>Comfort_Beside_Right_Palm_180</th>\n",
              "      <th>Preference_Beside_Right_Palm_180</th>\n",
              "    </tr>\n",
              "  </thead>\n",
              "  <tbody>\n",
              "    <tr>\n",
              "      <th>0</th>\n",
              "      <td>participant_1</td>\n",
              "      <td>3</td>\n",
              "      <td>2</td>\n",
              "      <td>4</td>\n",
              "      <td>4</td>\n",
              "      <td>2</td>\n",
              "      <td>2</td>\n",
              "      <td>4</td>\n",
              "      <td>4</td>\n",
              "      <td>1</td>\n",
              "      <td>1</td>\n",
              "      <td>2</td>\n",
              "      <td>2</td>\n",
              "      <td>3</td>\n",
              "      <td>3</td>\n",
              "      <td>5</td>\n",
              "      <td>5</td>\n",
              "      <td>3</td>\n",
              "      <td>3</td>\n",
              "      <td>4</td>\n",
              "      <td>4</td>\n",
              "      <td>1</td>\n",
              "      <td>1</td>\n",
              "      <td>2</td>\n",
              "      <td>2</td>\n",
              "      <td>2</td>\n",
              "      <td>2</td>\n",
              "      <td>4</td>\n",
              "      <td>4</td>\n",
              "      <td>1</td>\n",
              "      <td>1</td>\n",
              "      <td>4</td>\n",
              "      <td>4</td>\n",
              "      <td>1</td>\n",
              "      <td>1</td>\n",
              "      <td>2</td>\n",
              "      <td>2</td>\n",
              "      <td>3</td>\n",
              "      <td>3</td>\n",
              "      <td>4</td>\n",
              "      <td>4</td>\n",
              "      <td>2</td>\n",
              "      <td>2</td>\n",
              "      <td>4</td>\n",
              "      <td>4</td>\n",
              "      <td>1</td>\n",
              "      <td>1</td>\n",
              "      <td>1</td>\n",
              "      <td>1</td>\n",
              "      <td>2</td>\n",
              "      <td>2</td>\n",
              "      <td>3</td>\n",
              "      <td>3</td>\n",
              "      <td>2</td>\n",
              "      <td>2</td>\n",
              "      <td>4</td>\n",
              "      <td>4</td>\n",
              "      <td>1</td>\n",
              "      <td>1</td>\n",
              "      <td>1</td>\n",
              "      <td>1</td>\n",
              "      <td>3</td>\n",
              "      <td>3</td>\n",
              "      <td>4</td>\n",
              "      <td>4</td>\n",
              "      <td>3</td>\n",
              "      <td>3</td>\n",
              "      <td>4</td>\n",
              "      <td>4</td>\n",
              "      <td>1</td>\n",
              "      <td>1</td>\n",
              "      <td>1</td>\n",
              "      <td>1</td>\n",
              "    </tr>\n",
              "  </tbody>\n",
              "</table>\n",
              "</div>"
            ],
            "text/plain": [
              "   ParticipantID  ...  Preference_Beside_Right_Palm_180\n",
              "0  participant_1  ...                                 1\n",
              "\n",
              "[1 rows x 73 columns]"
            ]
          },
          "metadata": {
            "tags": []
          },
          "execution_count": 4
        }
      ]
    },
    {
      "cell_type": "markdown",
      "metadata": {
        "id": "Q1lgVpX9OHm9",
        "colab_type": "text"
      },
      "source": [
        "# Analysis"
      ]
    },
    {
      "cell_type": "markdown",
      "metadata": {
        "id": "IaNXIlABaF5-",
        "colab_type": "text"
      },
      "source": [
        "## Participants"
      ]
    },
    {
      "cell_type": "code",
      "metadata": {
        "id": "HN_n_-7PMoYy",
        "colab_type": "code",
        "colab": {
          "base_uri": "https://localhost:8080/",
          "height": 69
        },
        "outputId": "9d17da00-c2b7-435a-bcae-0fe2b4805e27"
      },
      "source": [
        "# GENDER DISTRIBUTION\n",
        "df_participants.Gender.value_counts()"
      ],
      "execution_count": 5,
      "outputs": [
        {
          "output_type": "execute_result",
          "data": {
            "text/plain": [
              "Male      20\n",
              "Female    10\n",
              "Name: Gender, dtype: int64"
            ]
          },
          "metadata": {
            "tags": []
          },
          "execution_count": 5
        }
      ]
    },
    {
      "cell_type": "code",
      "metadata": {
        "id": "5TGe20gGMmev",
        "colab_type": "code",
        "colab": {
          "base_uri": "https://localhost:8080/",
          "height": 52
        },
        "outputId": "f3a73cfb-75ba-4db1-91f4-d78785ddbbcb"
      },
      "source": [
        "# AVERAGE AGE\n",
        "print(\"MEAN: \",df_participants[\"Age\"].mean())\n",
        "print(\"STD: \",df_participants[\"Age\"].std())"
      ],
      "execution_count": 6,
      "outputs": [
        {
          "output_type": "stream",
          "text": [
            "MEAN:  24.566666666666666\n",
            "STD:  2.4023455970813385\n"
          ],
          "name": "stdout"
        }
      ]
    },
    {
      "cell_type": "code",
      "metadata": {
        "id": "qZcRqcv2MT5A",
        "colab_type": "code",
        "colab": {
          "base_uri": "https://localhost:8080/",
          "height": 52
        },
        "outputId": "2314c389-4554-460f-d887-b8cd1f1bfc5e"
      },
      "source": [
        "# AVERAGE USAGE\n",
        "print(\"MEAN: \",df_participants[\"AvgTimeSpent\"].mean())\n",
        "print(\"STD: \",df_participants[\"AvgTimeSpent\"].std())"
      ],
      "execution_count": 7,
      "outputs": [
        {
          "output_type": "stream",
          "text": [
            "MEAN:  7.0\n",
            "STD:  3.723179953415795\n"
          ],
          "name": "stdout"
        }
      ]
    },
    {
      "cell_type": "code",
      "metadata": {
        "id": "14sBgUmWMIYk",
        "colab_type": "code",
        "colab": {
          "base_uri": "https://localhost:8080/",
          "height": 52
        },
        "outputId": "2c835d62-01ea-4b86-9148-655f87ef1721"
      },
      "source": [
        "# AVERAGE TYPING SPEED\n",
        "print(\"MEAN: \",df_participants[\"WordsPerMinute\"].mean())\n",
        "print(\"STD: \",df_participants[\"WordsPerMinute\"].std())"
      ],
      "execution_count": 8,
      "outputs": [
        {
          "output_type": "stream",
          "text": [
            "MEAN:  34.9\n",
            "STD:  9.531617078855561\n"
          ],
          "name": "stdout"
        }
      ]
    },
    {
      "cell_type": "code",
      "metadata": {
        "id": "-kKPRTVKMs3D",
        "colab_type": "code",
        "colab": {
          "base_uri": "https://localhost:8080/",
          "height": 52
        },
        "outputId": "d4528b99-8d96-45da-eabe-135816ae6edc"
      },
      "source": [
        "# AVERAGE ERROR RATE\n",
        "print(\"MEAN: \",df_participants[\"MeanError\"].mean())\n",
        "print(\"STD: \",df_participants[\"MeanError\"].std())"
      ],
      "execution_count": 9,
      "outputs": [
        {
          "output_type": "stream",
          "text": [
            "MEAN:  5.735205992738709\n",
            "STD:  2.6533760931418673\n"
          ],
          "name": "stdout"
        }
      ]
    },
    {
      "cell_type": "markdown",
      "metadata": {
        "id": "-6gF5gdGaK1d",
        "colab_type": "text"
      },
      "source": [
        "## Postures"
      ]
    },
    {
      "cell_type": "code",
      "metadata": {
        "id": "pk0mHXTh0bUm",
        "colab_type": "code",
        "colab": {
          "base_uri": "https://localhost:8080/",
          "height": 198
        },
        "outputId": "75b52fba-a729-4b88-c542-95414f2046a3"
      },
      "source": [
        "pd.melt(df_postures, id_vars=['ParticipantID'], var_name='posture', value_name='score').tail()"
      ],
      "execution_count": 10,
      "outputs": [
        {
          "output_type": "execute_result",
          "data": {
            "text/html": [
              "<div>\n",
              "<style scoped>\n",
              "    .dataframe tbody tr th:only-of-type {\n",
              "        vertical-align: middle;\n",
              "    }\n",
              "\n",
              "    .dataframe tbody tr th {\n",
              "        vertical-align: top;\n",
              "    }\n",
              "\n",
              "    .dataframe thead th {\n",
              "        text-align: right;\n",
              "    }\n",
              "</style>\n",
              "<table border=\"1\" class=\"dataframe\">\n",
              "  <thead>\n",
              "    <tr style=\"text-align: right;\">\n",
              "      <th></th>\n",
              "      <th>ParticipantID</th>\n",
              "      <th>posture</th>\n",
              "      <th>score</th>\n",
              "    </tr>\n",
              "  </thead>\n",
              "  <tbody>\n",
              "    <tr>\n",
              "      <th>2155</th>\n",
              "      <td>participant_26</td>\n",
              "      <td>Preference_Beside_Right_Palm_180</td>\n",
              "      <td>2</td>\n",
              "    </tr>\n",
              "    <tr>\n",
              "      <th>2156</th>\n",
              "      <td>participant_27</td>\n",
              "      <td>Preference_Beside_Right_Palm_180</td>\n",
              "      <td>4</td>\n",
              "    </tr>\n",
              "    <tr>\n",
              "      <th>2157</th>\n",
              "      <td>participant_28</td>\n",
              "      <td>Preference_Beside_Right_Palm_180</td>\n",
              "      <td>2</td>\n",
              "    </tr>\n",
              "    <tr>\n",
              "      <th>2158</th>\n",
              "      <td>participant_29</td>\n",
              "      <td>Preference_Beside_Right_Palm_180</td>\n",
              "      <td>1</td>\n",
              "    </tr>\n",
              "    <tr>\n",
              "      <th>2159</th>\n",
              "      <td>participant_30</td>\n",
              "      <td>Preference_Beside_Right_Palm_180</td>\n",
              "      <td>3</td>\n",
              "    </tr>\n",
              "  </tbody>\n",
              "</table>\n",
              "</div>"
            ],
            "text/plain": [
              "       ParticipantID                           posture  score\n",
              "2155  participant_26  Preference_Beside_Right_Palm_180      2\n",
              "2156  participant_27  Preference_Beside_Right_Palm_180      4\n",
              "2157  participant_28  Preference_Beside_Right_Palm_180      2\n",
              "2158  participant_29  Preference_Beside_Right_Palm_180      1\n",
              "2159  participant_30  Preference_Beside_Right_Palm_180      3"
            ]
          },
          "metadata": {
            "tags": []
          },
          "execution_count": 10
        }
      ]
    },
    {
      "cell_type": "code",
      "metadata": {
        "id": "DLMhsuzFhMUJ",
        "colab_type": "code",
        "colab": {
          "base_uri": "https://localhost:8080/",
          "height": 391
        },
        "outputId": "053aa18d-b708-4299-a8a8-4512ad6fd1e4"
      },
      "source": [
        "# creating a blank series \n",
        "surface_list = pd.Series([]) \n",
        "orientation_list = pd.Series([]) \n",
        "form_list = pd.Series([]) \n",
        "dexterity_list = pd.Series([]) \n",
        "rating_list = pd.Series([]) \n",
        "\n",
        "df_postures_stats = pd.melt(df_postures, id_vars=['ParticipantID'], var_name='posture', value_name='score')\n",
        "participant_handedness={\n",
        "    \"participant_1\":\"Right\",\n",
        "    \"participant_2\":\"Right\",\n",
        "    \"participant_3\":\"Right\",\n",
        "    \"participant_4\":\"Left\",\n",
        "    \"participant_5\":\"Right\",\n",
        "    \"participant_6\":\"Left\",\n",
        "    \"participant_7\":\"Right\",\n",
        "    \"participant_8\":\"Left\",\n",
        "    \"participant_9\":\"Right\",\n",
        "    \"participant_10\":\"Right\",\n",
        "    \"participant_11\":\"Right\",\n",
        "    \"participant_12\":\"Right\",\n",
        "    \"participant_13\":\"Right\",\n",
        "    \"participant_14\":\"Right\",\n",
        "    \"participant_15\":\"Right\",\n",
        "    \"participant_16\":\"Right\",\n",
        "    \"participant_17\":\"Right\",\n",
        "    \"participant_18\":\"Left\",\n",
        "    \"participant_19\":\"Left\",\n",
        "    \"participant_20\":\"Right\",\n",
        "    \"participant_21\":\"Right\",\n",
        "    \"participant_22\":\"Right\",\n",
        "    \"participant_23\":\"Right\",\n",
        "    \"participant_24\":\"Right\",\n",
        "    \"participant_25\":\"Right\",\n",
        "    \"participant_26\":\"Right\",\n",
        "    \"participant_27\":\"Right\",\n",
        "    \"participant_28\":\"Right\",\n",
        "    \"participant_29\":\"Right\",\n",
        "    \"participant_30\":\"Right\",\n",
        "}\n",
        "for i in range(len(df_postures_stats)): \n",
        "  independent_variable = df_postures_stats[\"posture\"][i].split(\"_\")\n",
        "  rating_list[i] = independent_variable[0]\n",
        "  surface_list[i] = independent_variable[1]\n",
        "#   print(df_postures_stats[\"ParticipantID\"][i])\n",
        "  dexterity_list[i] = \"Dominant\" if independent_variable[2] == participant_handedness[df_postures_stats[\"ParticipantID\"][i]] else \"Non Dominant\"\n",
        "  form_list[i] = \"Close\" if independent_variable[3] == \"Fist\" else \"Open\"\n",
        "  orientation_list[i] = independent_variable[4]\n",
        "\n",
        "  \n",
        "df_postures_stats.insert(3, \"surface\", surface_list)\n",
        "df_postures_stats.insert(4, \"dexterity\", dexterity_list)\n",
        "df_postures_stats.insert(5, \"form\", form_list)\n",
        "df_postures_stats.insert(6, \"orientation\", orientation_list)\n",
        "df_postures_stats.insert(7, \"rating\", rating_list)\n",
        "df_postures_stats[\"posture\"] = df_postures_stats[\"posture\"].map(lambda x: x.lstrip('Comfort_').lstrip('Preference_')) #[i.replace(\"Comfort_|Preference_\",\"\") for i in df_postures_stats[\"posture\"]]\n",
        "df_postures_stats.head()\n"
      ],
      "execution_count": 11,
      "outputs": [
        {
          "output_type": "stream",
          "text": [
            "/usr/local/lib/python3.6/dist-packages/ipykernel_launcher.py:2: DeprecationWarning: The default dtype for empty Series will be 'object' instead of 'float64' in a future version. Specify a dtype explicitly to silence this warning.\n",
            "  \n",
            "/usr/local/lib/python3.6/dist-packages/ipykernel_launcher.py:3: DeprecationWarning: The default dtype for empty Series will be 'object' instead of 'float64' in a future version. Specify a dtype explicitly to silence this warning.\n",
            "  This is separate from the ipykernel package so we can avoid doing imports until\n",
            "/usr/local/lib/python3.6/dist-packages/ipykernel_launcher.py:4: DeprecationWarning: The default dtype for empty Series will be 'object' instead of 'float64' in a future version. Specify a dtype explicitly to silence this warning.\n",
            "  after removing the cwd from sys.path.\n",
            "/usr/local/lib/python3.6/dist-packages/ipykernel_launcher.py:5: DeprecationWarning: The default dtype for empty Series will be 'object' instead of 'float64' in a future version. Specify a dtype explicitly to silence this warning.\n",
            "  \"\"\"\n",
            "/usr/local/lib/python3.6/dist-packages/ipykernel_launcher.py:6: DeprecationWarning: The default dtype for empty Series will be 'object' instead of 'float64' in a future version. Specify a dtype explicitly to silence this warning.\n",
            "  \n"
          ],
          "name": "stderr"
        },
        {
          "output_type": "execute_result",
          "data": {
            "text/html": [
              "<div>\n",
              "<style scoped>\n",
              "    .dataframe tbody tr th:only-of-type {\n",
              "        vertical-align: middle;\n",
              "    }\n",
              "\n",
              "    .dataframe tbody tr th {\n",
              "        vertical-align: top;\n",
              "    }\n",
              "\n",
              "    .dataframe thead th {\n",
              "        text-align: right;\n",
              "    }\n",
              "</style>\n",
              "<table border=\"1\" class=\"dataframe\">\n",
              "  <thead>\n",
              "    <tr style=\"text-align: right;\">\n",
              "      <th></th>\n",
              "      <th>ParticipantID</th>\n",
              "      <th>posture</th>\n",
              "      <th>score</th>\n",
              "      <th>surface</th>\n",
              "      <th>dexterity</th>\n",
              "      <th>form</th>\n",
              "      <th>orientation</th>\n",
              "      <th>rating</th>\n",
              "    </tr>\n",
              "  </thead>\n",
              "  <tbody>\n",
              "    <tr>\n",
              "      <th>0</th>\n",
              "      <td>participant_1</td>\n",
              "      <td>Below_Left_Fist_0</td>\n",
              "      <td>3</td>\n",
              "      <td>Below</td>\n",
              "      <td>Non Dominant</td>\n",
              "      <td>Close</td>\n",
              "      <td>0</td>\n",
              "      <td>Comfort</td>\n",
              "    </tr>\n",
              "    <tr>\n",
              "      <th>1</th>\n",
              "      <td>participant_2</td>\n",
              "      <td>Below_Left_Fist_0</td>\n",
              "      <td>4</td>\n",
              "      <td>Below</td>\n",
              "      <td>Non Dominant</td>\n",
              "      <td>Close</td>\n",
              "      <td>0</td>\n",
              "      <td>Comfort</td>\n",
              "    </tr>\n",
              "    <tr>\n",
              "      <th>2</th>\n",
              "      <td>participant_3</td>\n",
              "      <td>Below_Left_Fist_0</td>\n",
              "      <td>4</td>\n",
              "      <td>Below</td>\n",
              "      <td>Non Dominant</td>\n",
              "      <td>Close</td>\n",
              "      <td>0</td>\n",
              "      <td>Comfort</td>\n",
              "    </tr>\n",
              "    <tr>\n",
              "      <th>3</th>\n",
              "      <td>participant_4</td>\n",
              "      <td>Below_Left_Fist_0</td>\n",
              "      <td>4</td>\n",
              "      <td>Below</td>\n",
              "      <td>Dominant</td>\n",
              "      <td>Close</td>\n",
              "      <td>0</td>\n",
              "      <td>Comfort</td>\n",
              "    </tr>\n",
              "    <tr>\n",
              "      <th>4</th>\n",
              "      <td>participant_5</td>\n",
              "      <td>Below_Left_Fist_0</td>\n",
              "      <td>2</td>\n",
              "      <td>Below</td>\n",
              "      <td>Non Dominant</td>\n",
              "      <td>Close</td>\n",
              "      <td>0</td>\n",
              "      <td>Comfort</td>\n",
              "    </tr>\n",
              "  </tbody>\n",
              "</table>\n",
              "</div>"
            ],
            "text/plain": [
              "   ParticipantID            posture  score  ...   form orientation   rating\n",
              "0  participant_1  Below_Left_Fist_0      3  ...  Close           0  Comfort\n",
              "1  participant_2  Below_Left_Fist_0      4  ...  Close           0  Comfort\n",
              "2  participant_3  Below_Left_Fist_0      4  ...  Close           0  Comfort\n",
              "3  participant_4  Below_Left_Fist_0      4  ...  Close           0  Comfort\n",
              "4  participant_5  Below_Left_Fist_0      2  ...  Close           0  Comfort\n",
              "\n",
              "[5 rows x 8 columns]"
            ]
          },
          "metadata": {
            "tags": []
          },
          "execution_count": 11
        }
      ]
    },
    {
      "cell_type": "code",
      "metadata": {
        "id": "D_pIe8OkFMc4",
        "colab_type": "code",
        "colab": {
          "base_uri": "https://localhost:8080/",
          "height": 173
        },
        "outputId": "0f8d23b1-359b-465d-d354-5391ef8af96d"
      },
      "source": [
        "df_postures_stats_melted = pd.melt(df_postures_stats,id_vars=[\"ParticipantID\",\"surface\",\"score\",\"orientation\",\"dexterity\",\"form\", \"rating\"]).groupby(\"value\").apply(lambda x: (x.sort_values('score', ascending=False)))\n",
        "print(df_postures_stats_melted.head())\n",
        "# print(df_orientation_postures_stats.head())\n",
        "# print(df_handform_postures_stats.head())\n",
        "# print(df_dexterity_postures_stats.head())\n"
      ],
      "execution_count": 12,
      "outputs": [
        {
          "output_type": "stream",
          "text": [
            "                       ParticipantID surface  ...  variable              value\n",
            "value                                         ...                             \n",
            "Below_Left_Fist_0 20  participant_21   Below  ...   posture  Below_Left_Fist_0\n",
            "                  12  participant_13   Below  ...   posture  Below_Left_Fist_0\n",
            "                  42  participant_13   Below  ...   posture  Below_Left_Fist_0\n",
            "                  35   participant_6   Below  ...   posture  Below_Left_Fist_0\n",
            "                  45  participant_16   Below  ...   posture  Below_Left_Fist_0\n",
            "\n",
            "[5 rows x 9 columns]\n"
          ],
          "name": "stdout"
        }
      ]
    },
    {
      "cell_type": "code",
      "metadata": {
        "colab_type": "code",
        "id": "_CmFL9Xf4rwA",
        "colab": {
          "base_uri": "https://localhost:8080/",
          "height": 574
        },
        "outputId": "8d5f1da2-e4c9-4200-9e83-7ca04513c5ff"
      },
      "source": [
        "sns.set(style=\"whitegrid\")\n",
        "plt.figure(figsize=(16,4))\n",
        "plt.xticks(rotation=90)\n",
        "ax = sns.barplot(x=\"posture\", y=\"score\", hue=\"rating\", data=df_postures_stats, capsize=0.1)\n",
        "ax.legend(loc='lower right')"
      ],
      "execution_count": 13,
      "outputs": [
        {
          "output_type": "execute_result",
          "data": {
            "text/plain": [
              "<matplotlib.legend.Legend at 0x7fb33c378048>"
            ]
          },
          "metadata": {
            "tags": []
          },
          "execution_count": 13
        },
        {
          "output_type": "display_data",
          "data": {
            "image/png": "[encoded data removed]",
            "text/plain": [
              "<Figure size 1600x400 with 1 Axes>"
            ]
          },
          "metadata": {
            "tags": []
          }
        }
      ]
    },
    {
      "cell_type": "code",
      "metadata": {
        "id": "MTRe5WOJrkI8",
        "colab_type": "code",
        "colab": {
          "base_uri": "https://localhost:8080/",
          "height": 615
        },
        "outputId": "fc663d1c-a98f-4929-c9f2-048217899206"
      },
      "source": [
        "sns.set(style=\"whitegrid\")\n",
        "plt.figure(figsize=(6,4))\n",
        "ax = sns.barplot(x=\"surface\", y=\"score\", hue=\"rating\", data=df_postures_stats, capsize=0.1, order= [\"Below\", \"Beside\", \"On\"])\n",
        "ax.legend(loc='lower right')\n",
        "print(\"comfort \\n\", df_postures_stats.loc[df_postures_stats[\"rating\"]==\"Comfort\"].groupby(\"surface\").mean())\n",
        "print(\"-----\")\n",
        "print(\"preference \\n\", df_postures_stats.loc[df_postures_stats[\"rating\"]==\"Preference\"].groupby(\"surface\").mean())"
      ],
      "execution_count": 14,
      "outputs": [
        {
          "output_type": "stream",
          "text": [
            "comfort \n",
            "             score\n",
            "surface          \n",
            "Below    3.433333\n",
            "Beside   3.108333\n",
            "On       3.211111\n",
            "-----\n",
            "preference \n",
            "             score\n",
            "surface          \n",
            "Below    3.352778\n",
            "Beside   2.883333\n",
            "On       3.202778\n"
          ],
          "name": "stdout"
        },
        {
          "output_type": "display_data",
          "data": {
            "image/png": "[encoded data removed]",
            "text/plain": [
              "<Figure size 600x400 with 1 Axes>"
            ]
          },
          "metadata": {
            "tags": []
          }
        }
      ]
    },
    {
      "cell_type": "code",
      "metadata": {
        "id": "EorCsdohGavQ",
        "colab_type": "code",
        "colab": {
          "base_uri": "https://localhost:8080/",
          "height": 615
        },
        "outputId": "95656363-6f36-48f1-a8b0-f666db57f655"
      },
      "source": [
        "sns.set(style=\"whitegrid\")\n",
        "plt.figure(figsize=(6,4))\n",
        "ax = sns.barplot(x=\"orientation\", y=\"score\", hue=\"rating\", data=df_postures_stats, capsize=0.1)\n",
        "ax.legend(loc='lower right')\n",
        "print(\"comfort \\n\", df_postures_stats.loc[df_postures_stats[\"rating\"]==\"Comfort\"].groupby(\"orientation\").mean())\n",
        "print(\"-----\")\n",
        "print(\"preference \\n\", df_postures_stats.loc[df_postures_stats[\"rating\"]==\"Preference\"].groupby(\"orientation\").mean())"
      ],
      "execution_count": 15,
      "outputs": [
        {
          "output_type": "stream",
          "text": [
            "comfort \n",
            "                 score\n",
            "orientation          \n",
            "0            3.847222\n",
            "180          2.166667\n",
            "90           3.738889\n",
            "-----\n",
            "preference \n",
            "                 score\n",
            "orientation          \n",
            "0            3.644444\n",
            "180          2.266667\n",
            "90           3.527778\n"
          ],
          "name": "stdout"
        },
        {
          "output_type": "display_data",
          "data": {
            "image/png": "[encoded data removed]",
            "text/plain": [
              "<Figure size 600x400 with 1 Axes>"
            ]
          },
          "metadata": {
            "tags": []
          }
        }
      ]
    },
    {
      "cell_type": "code",
      "metadata": {
        "id": "VKPXVUGJqK7F",
        "colab_type": "code",
        "colab": {
          "base_uri": "https://localhost:8080/",
          "height": 580
        },
        "outputId": "adf231f4-c406-4ec0-f3c0-d29723d15fb5"
      },
      "source": [
        "sns.set(style=\"whitegrid\")\n",
        "plt.figure(figsize=(6,4))\n",
        "ax = sns.barplot(x=\"dexterity\", y=\"score\", hue=\"rating\", data=df_postures_stats, capsize=0.1)\n",
        "ax.legend(loc='lower right')\n",
        "print(\"comfort \\n\", df_postures_stats.loc[df_postures_stats[\"rating\"]==\"Comfort\"].groupby(\"dexterity\").mean())\n",
        "print(\"-----\")\n",
        "print(\"preference \\n\", df_postures_stats.loc[df_postures_stats[\"rating\"]==\"Preference\"].groupby(\"dexterity\").mean())"
      ],
      "execution_count": 16,
      "outputs": [
        {
          "output_type": "stream",
          "text": [
            "comfort \n",
            "                  score\n",
            "dexterity             \n",
            "Dominant      3.329630\n",
            "Non Dominant  3.172222\n",
            "-----\n",
            "preference \n",
            "                  score\n",
            "dexterity             \n",
            "Dominant      3.218519\n",
            "Non Dominant  3.074074\n"
          ],
          "name": "stdout"
        },
        {
          "output_type": "display_data",
          "data": {
            "image/png": "[encoded data removed]",
            "text/plain": [
              "<Figure size 600x400 with 1 Axes>"
            ]
          },
          "metadata": {
            "tags": []
          }
        }
      ]
    },
    {
      "cell_type": "code",
      "metadata": {
        "id": "a9ebh8uMGxon",
        "colab_type": "code",
        "colab": {
          "base_uri": "https://localhost:8080/",
          "height": 580
        },
        "outputId": "8385dcbd-f39f-4b03-c250-c195500e7d41"
      },
      "source": [
        "sns.set(style=\"whitegrid\")\n",
        "plt.figure(figsize=(6,4))\n",
        "ax = sns.barplot(x=\"form\", y=\"score\", hue=\"rating\", data=df_postures_stats, capsize=0.1)\n",
        "ax.legend(loc='lower right')\n",
        "print(\"comfort \\n\", df_postures_stats.loc[df_postures_stats[\"rating\"]==\"Comfort\"].groupby(\"form\").mean())\n",
        "print(\"-----\")\n",
        "print(\"preference \\n\", df_postures_stats.loc[df_postures_stats[\"rating\"]==\"Preference\"].groupby(\"form\").mean())"
      ],
      "execution_count": 17,
      "outputs": [
        {
          "output_type": "stream",
          "text": [
            "comfort \n",
            "           score\n",
            "form           \n",
            "Close  3.137037\n",
            "Open   3.364815\n",
            "-----\n",
            "preference \n",
            "           score\n",
            "form           \n",
            "Close  3.035185\n",
            "Open   3.257407\n"
          ],
          "name": "stdout"
        },
        {
          "output_type": "display_data",
          "data": {
            "image/png": "[encoded data removed]",
            "text/plain": [
              "<Figure size 600x400 with 1 Axes>"
            ]
          },
          "metadata": {
            "tags": []
          }
        }
      ]
    },
    {
      "cell_type": "markdown",
      "metadata": {
        "id": "Vl6rti5mw94s",
        "colab_type": "text"
      },
      "source": [
        "**To do**\n",
        "\n",
        "- ~Compare postures across different dimensions (SURFACE, WRIST_ORIENTATION, HAND_FORM & DEXTERITY)~\n",
        "- Give design recomendations based on above^^"
      ]
    },
    {
      "cell_type": "code",
      "metadata": {
        "id": "6VA0r-7vqySV",
        "colab_type": "code",
        "colab": {
          "base_uri": "https://localhost:8080/",
          "height": 48
        },
        "outputId": "ab37f234-3f87-4de8-d6ca-060524518569"
      },
      "source": [
        "# \"Preference_Beside_Right_Fist_Side\"\n",
        "# df_postures_stats.loc[(df_postures_stats[\"ParticipantID\"] == \"participant_4\") & (df_postures_stats[\"posture\"] == \"Beside_Right_Fist_90\")]\n",
        "# df_postures_stats.head()\n",
        "df_postures_stats.loc[(df_postures_stats[\"score\"].isnull())]"
      ],
      "execution_count": 18,
      "outputs": [
        {
          "output_type": "execute_result",
          "data": {
            "text/html": [
              "<div>\n",
              "<style scoped>\n",
              "    .dataframe tbody tr th:only-of-type {\n",
              "        vertical-align: middle;\n",
              "    }\n",
              "\n",
              "    .dataframe tbody tr th {\n",
              "        vertical-align: top;\n",
              "    }\n",
              "\n",
              "    .dataframe thead th {\n",
              "        text-align: right;\n",
              "    }\n",
              "</style>\n",
              "<table border=\"1\" class=\"dataframe\">\n",
              "  <thead>\n",
              "    <tr style=\"text-align: right;\">\n",
              "      <th></th>\n",
              "      <th>ParticipantID</th>\n",
              "      <th>posture</th>\n",
              "      <th>score</th>\n",
              "      <th>surface</th>\n",
              "      <th>dexterity</th>\n",
              "      <th>form</th>\n",
              "      <th>orientation</th>\n",
              "      <th>rating</th>\n",
              "    </tr>\n",
              "  </thead>\n",
              "  <tbody>\n",
              "  </tbody>\n",
              "</table>\n",
              "</div>"
            ],
            "text/plain": [
              "Empty DataFrame\n",
              "Columns: [ParticipantID, posture, score, surface, dexterity, form, orientation, rating]\n",
              "Index: []"
            ]
          },
          "metadata": {
            "tags": []
          },
          "execution_count": 18
        }
      ]
    },
    {
      "cell_type": "code",
      "metadata": {
        "id": "JlihPwvWxNhm",
        "colab_type": "code",
        "colab": {
          "base_uri": "https://localhost:8080/",
          "height": 601
        },
        "outputId": "3c949f49-7fd5-4033-8b48-97bbbd270e72"
      },
      "source": [
        "sns.set(style=\"whitegrid\")\n",
        "\n",
        "# Set up the matplotlib figure\n",
        "f, axes = plt.subplots(2, 2, figsize=(6, 6), sharey=True)\n",
        "# sns.despine(top=True, right=True)\n",
        "# sns.set_style(\"whitegrid\", {'grid.linestyle': '--'})\n",
        "\n",
        "# Generate a random univariate dataset\n",
        "# d = rs.normal(size=100)\n",
        "\n",
        "# Plot a simple histogram with binsize determined automatically\n",
        "# sns.barplot(x=\"form\", y=\"score\", hue=\"rating\", data=df_postures_stats, capsize=0.1, ax=axes[0, 0])\n",
        "ax1 = sns.barplot(x=\"orientation\", y=\"score\", hue=\"rating\", data=df_postures_stats, capsize=0.1, ax=axes[0, 0], order=[\"0\",\"90\", \"180\"])\n",
        "ax2 = sns.barplot(x=\"form\", y=\"score\", hue=\"rating\", data=df_postures_stats, capsize=0.1, ax=axes[0, 1], order=[\"Open\",\"Close\"])\n",
        "ax3 = sns.barplot(x=\"dexterity\", y=\"score\", hue=\"rating\", data=df_postures_stats, capsize=0.1, ax=axes[1, 0], order=[\"Dominant\",\"Non Dominant\"])\n",
        "ax4 = sns.barplot(x=\"surface\", y=\"score\", hue=\"rating\", data=df_postures_stats, capsize=0.1, ax=axes[1, 1], order=[\"Below\",\"On\", \"Beside\"])\n",
        "\n",
        "ax1.get_legend().set_visible(False)\n",
        "ax2.get_legend().set_visible(False)\n",
        "ax3.get_legend().set_visible(False)\n",
        "ax4.get_legend().set_visible(False)\n",
        "ax2.set_ylabel('') \n",
        "ax4.set_ylabel('') \n",
        "\n",
        "ax2.legend(loc='upper right', bbox_to_anchor=(1, 1), ncol=1)\n",
        "\n",
        "ax1.set_xlabel('Wrist Orientation') \n",
        "ax2.set_xlabel('Hand Form') \n",
        "ax3.set_xlabel('Dexterity') \n",
        "ax4.set_xlabel('Surface') \n",
        "\n",
        "plt.setp(axes, yticks=[0,1,2,3,4,5])\n",
        "plt.tight_layout()"
      ],
      "execution_count": 34,
      "outputs": [
        {
          "output_type": "display_data",
          "data": {
            "image/png": "[encoded data removed]",
            "text/plain": [
              "<Figure size 600x600 with 4 Axes>"
            ]
          },
          "metadata": {
            "tags": []
          }
        }
      ]
    },
    {
      "cell_type": "code",
      "metadata": {
        "id": "VRQHEc2dGuM-",
        "colab_type": "code",
        "colab": {
          "base_uri": "https://localhost:8080/",
          "height": 601
        },
        "outputId": "e6806d16-ef42-4572-de01-d4b638d9f103"
      },
      "source": [
        "sns.set(style=\"whitegrid\")\n",
        "\n",
        "# Set up the matplotlib figure\n",
        "f, axes = plt.subplots(2, 2, figsize=(6, 6), sharey=True)\n",
        "# sns.despine(top=True, right=True)\n",
        "# sns.set_style(\"whitegrid\", {'grid.linestyle': '--'})\n",
        "\n",
        "# Generate a random univariate dataset\n",
        "# d = rs.normal(size=100)\n",
        "\n",
        "# Plot a simple histogram with binsize determined automatically\n",
        "sns.barplot(x=\"form\", y=\"score\", hue=\"rating\", data=df_postures_stats, capsize=0.1, ax=axes[0, 0])\n",
        "ax1 = sns.barplot(x=\"form\", y=\"score\", hue=\"rating\", data=df_postures_stats, capsize=0.1, ax=axes[0, 0])\n",
        "ax2 = sns.barplot(x=\"dexterity\", y=\"score\", hue=\"rating\", data=df_postures_stats, capsize=0.1, ax=axes[0, 1])\n",
        "ax3 = sns.barplot(x=\"orientation\", y=\"score\", hue=\"rating\", data=df_postures_stats, capsize=0.1, ax=axes[1, 0], order=[\"0\",\"90\", \"180\"])\n",
        "ax4 = sns.barplot(x=\"surface\", y=\"score\", hue=\"rating\", data=df_postures_stats, capsize=0.1, ax=axes[1, 1])\n",
        "\n",
        "ax1.get_legend().set_visible(False)\n",
        "ax2.get_legend().set_visible(False)\n",
        "ax3.get_legend().set_visible(False)\n",
        "ax4.get_legend().set_visible(False)\n",
        "ax2.set_ylabel('') \n",
        "ax4.set_ylabel('') \n",
        "\n",
        "plt.setp(axes, yticks=[0,1,2,3,4,5])\n",
        "plt.tight_layout()"
      ],
      "execution_count": null,
      "outputs": [
        {
          "output_type": "display_data",
          "data": {
            "image/png": "[encoded data removed]",
            "text/plain": [
              "<Figure size 600x600 with 4 Axes>"
            ]
          },
          "metadata": {
            "tags": []
          }
        }
      ]
    },
    {
      "cell_type": "code",
      "metadata": {
        "id": "iihE4xyKuwNM",
        "colab_type": "code",
        "colab": {}
      },
      "source": [
        "df_postures_stats.to_csv('df_postures_stats.csv') \n",
        "files.download('df_postures_stats.csv')"
      ],
      "execution_count": null,
      "outputs": []
    },
    {
      "cell_type": "code",
      "metadata": {
        "id": "Ei8RmQEJxQBh",
        "colab_type": "code",
        "colab": {
          "base_uri": "https://localhost:8080/",
          "height": 204
        },
        "outputId": "130a6334-799f-42ee-b7dc-429e57fedab7"
      },
      "source": [
        "df_postures_stats['ParticipantID'] = [c.replace(\"participant_\",\"\") for c in df_postures_stats['ParticipantID'].astype(str)]\n",
        "df_postures_stats.head()"
      ],
      "execution_count": null,
      "outputs": [
        {
          "output_type": "execute_result",
          "data": {
            "text/html": [
              "<div>\n",
              "<style scoped>\n",
              "    .dataframe tbody tr th:only-of-type {\n",
              "        vertical-align: middle;\n",
              "    }\n",
              "\n",
              "    .dataframe tbody tr th {\n",
              "        vertical-align: top;\n",
              "    }\n",
              "\n",
              "    .dataframe thead th {\n",
              "        text-align: right;\n",
              "    }\n",
              "</style>\n",
              "<table border=\"1\" class=\"dataframe\">\n",
              "  <thead>\n",
              "    <tr style=\"text-align: right;\">\n",
              "      <th></th>\n",
              "      <th>ParticipantID</th>\n",
              "      <th>posture</th>\n",
              "      <th>score</th>\n",
              "      <th>surface</th>\n",
              "      <th>dexterity</th>\n",
              "      <th>form</th>\n",
              "      <th>orientation</th>\n",
              "      <th>rating</th>\n",
              "    </tr>\n",
              "  </thead>\n",
              "  <tbody>\n",
              "    <tr>\n",
              "      <th>0</th>\n",
              "      <td>1</td>\n",
              "      <td>Below_Left_Fist_0</td>\n",
              "      <td>3</td>\n",
              "      <td>Below</td>\n",
              "      <td>Non Dominant</td>\n",
              "      <td>Close</td>\n",
              "      <td>0</td>\n",
              "      <td>Comfort</td>\n",
              "    </tr>\n",
              "    <tr>\n",
              "      <th>1</th>\n",
              "      <td>2</td>\n",
              "      <td>Below_Left_Fist_0</td>\n",
              "      <td>4</td>\n",
              "      <td>Below</td>\n",
              "      <td>Non Dominant</td>\n",
              "      <td>Close</td>\n",
              "      <td>0</td>\n",
              "      <td>Comfort</td>\n",
              "    </tr>\n",
              "    <tr>\n",
              "      <th>2</th>\n",
              "      <td>3</td>\n",
              "      <td>Below_Left_Fist_0</td>\n",
              "      <td>4</td>\n",
              "      <td>Below</td>\n",
              "      <td>Non Dominant</td>\n",
              "      <td>Close</td>\n",
              "      <td>0</td>\n",
              "      <td>Comfort</td>\n",
              "    </tr>\n",
              "    <tr>\n",
              "      <th>3</th>\n",
              "      <td>4</td>\n",
              "      <td>Below_Left_Fist_0</td>\n",
              "      <td>4</td>\n",
              "      <td>Below</td>\n",
              "      <td>Dominant</td>\n",
              "      <td>Close</td>\n",
              "      <td>0</td>\n",
              "      <td>Comfort</td>\n",
              "    </tr>\n",
              "    <tr>\n",
              "      <th>4</th>\n",
              "      <td>5</td>\n",
              "      <td>Below_Left_Fist_0</td>\n",
              "      <td>2</td>\n",
              "      <td>Below</td>\n",
              "      <td>Non Dominant</td>\n",
              "      <td>Close</td>\n",
              "      <td>0</td>\n",
              "      <td>Comfort</td>\n",
              "    </tr>\n",
              "  </tbody>\n",
              "</table>\n",
              "</div>"
            ],
            "text/plain": [
              "  ParticipantID            posture  score  ...   form orientation   rating\n",
              "0             1  Below_Left_Fist_0      3  ...  Close           0  Comfort\n",
              "1             2  Below_Left_Fist_0      4  ...  Close           0  Comfort\n",
              "2             3  Below_Left_Fist_0      4  ...  Close           0  Comfort\n",
              "3             4  Below_Left_Fist_0      4  ...  Close           0  Comfort\n",
              "4             5  Below_Left_Fist_0      2  ...  Close           0  Comfort\n",
              "\n",
              "[5 rows x 8 columns]"
            ]
          },
          "metadata": {
            "tags": []
          },
          "execution_count": 25
        }
      ]
    },
    {
      "cell_type": "code",
      "metadata": {
        "id": "WjK88M_LqyCm",
        "colab_type": "code",
        "colab": {}
      },
      "source": [
        ""
      ],
      "execution_count": null,
      "outputs": []
    },
    {
      "cell_type": "code",
      "metadata": {
        "id": "Zy7FjREMxrC_",
        "colab_type": "code",
        "colab": {
          "base_uri": "https://localhost:8080/",
          "height": 204
        },
        "outputId": "d689ab94-b34a-498e-94f0-16e0748b1c13"
      },
      "source": [
        "df_postures_stats.head()"
      ],
      "execution_count": null,
      "outputs": [
        {
          "output_type": "execute_result",
          "data": {
            "text/html": [
              "<div>\n",
              "<style scoped>\n",
              "    .dataframe tbody tr th:only-of-type {\n",
              "        vertical-align: middle;\n",
              "    }\n",
              "\n",
              "    .dataframe tbody tr th {\n",
              "        vertical-align: top;\n",
              "    }\n",
              "\n",
              "    .dataframe thead th {\n",
              "        text-align: right;\n",
              "    }\n",
              "</style>\n",
              "<table border=\"1\" class=\"dataframe\">\n",
              "  <thead>\n",
              "    <tr style=\"text-align: right;\">\n",
              "      <th></th>\n",
              "      <th>ParticipantID</th>\n",
              "      <th>posture</th>\n",
              "      <th>score</th>\n",
              "      <th>surface</th>\n",
              "      <th>dexterity</th>\n",
              "      <th>form</th>\n",
              "      <th>orientation</th>\n",
              "      <th>rating</th>\n",
              "    </tr>\n",
              "  </thead>\n",
              "  <tbody>\n",
              "    <tr>\n",
              "      <th>0</th>\n",
              "      <td>1</td>\n",
              "      <td>Below_Left_Fist_0</td>\n",
              "      <td>3</td>\n",
              "      <td>Below</td>\n",
              "      <td>Non Dominant</td>\n",
              "      <td>Close</td>\n",
              "      <td>0</td>\n",
              "      <td>Comfort</td>\n",
              "    </tr>\n",
              "    <tr>\n",
              "      <th>1</th>\n",
              "      <td>2</td>\n",
              "      <td>Below_Left_Fist_0</td>\n",
              "      <td>4</td>\n",
              "      <td>Below</td>\n",
              "      <td>Non Dominant</td>\n",
              "      <td>Close</td>\n",
              "      <td>0</td>\n",
              "      <td>Comfort</td>\n",
              "    </tr>\n",
              "    <tr>\n",
              "      <th>2</th>\n",
              "      <td>3</td>\n",
              "      <td>Below_Left_Fist_0</td>\n",
              "      <td>4</td>\n",
              "      <td>Below</td>\n",
              "      <td>Non Dominant</td>\n",
              "      <td>Close</td>\n",
              "      <td>0</td>\n",
              "      <td>Comfort</td>\n",
              "    </tr>\n",
              "    <tr>\n",
              "      <th>3</th>\n",
              "      <td>4</td>\n",
              "      <td>Below_Left_Fist_0</td>\n",
              "      <td>4</td>\n",
              "      <td>Below</td>\n",
              "      <td>Dominant</td>\n",
              "      <td>Close</td>\n",
              "      <td>0</td>\n",
              "      <td>Comfort</td>\n",
              "    </tr>\n",
              "    <tr>\n",
              "      <th>4</th>\n",
              "      <td>5</td>\n",
              "      <td>Below_Left_Fist_0</td>\n",
              "      <td>2</td>\n",
              "      <td>Below</td>\n",
              "      <td>Non Dominant</td>\n",
              "      <td>Close</td>\n",
              "      <td>0</td>\n",
              "      <td>Comfort</td>\n",
              "    </tr>\n",
              "  </tbody>\n",
              "</table>\n",
              "</div>"
            ],
            "text/plain": [
              "  ParticipantID            posture  score  ...   form orientation   rating\n",
              "0             1  Below_Left_Fist_0      3  ...  Close           0  Comfort\n",
              "1             2  Below_Left_Fist_0      4  ...  Close           0  Comfort\n",
              "2             3  Below_Left_Fist_0      4  ...  Close           0  Comfort\n",
              "3             4  Below_Left_Fist_0      4  ...  Close           0  Comfort\n",
              "4             5  Below_Left_Fist_0      2  ...  Close           0  Comfort\n",
              "\n",
              "[5 rows x 8 columns]"
            ]
          },
          "metadata": {
            "tags": []
          },
          "execution_count": 29
        }
      ]
    },
    {
      "cell_type": "code",
      "metadata": {
        "id": "w8RMba9bzxUa",
        "colab_type": "code",
        "colab": {}
      },
      "source": [
        "columns = [\"ParticipantID\", \"posture\",\"surface\",\"dexterity\",\"form\",\"orientation\",\"comfort_rating\",\"preference_rating\"]\n",
        "df_postures_stats_new = pd.DataFrame(index=range(1080), columns=columns)\n",
        "df_comfort = df_postures_stats.loc[df_postures_stats[\"rating\"] == \"Comfort\"]\n",
        "df_comfort = df_comfort.reset_index()\n",
        "for i in range(len(df_comfort)):\n",
        "#   if i == len(df_comfort):\n",
        "#     break;\n",
        "  df_postures_stats_new[\"ParticipantID\"][i] = df_comfort[\"ParticipantID\"][i]\n",
        "  df_postures_stats_new[\"posture\"][i] = df_comfort[\"posture\"][i]\n",
        "  df_postures_stats_new[\"surface\"][i] = df_comfort[\"surface\"][i]\n",
        "  df_postures_stats_new[\"dexterity\"][i] = df_comfort[\"dexterity\"][i]\n",
        "  df_postures_stats_new[\"form\"][i] = df_comfort[\"form\"][i]\n",
        "  df_postures_stats_new[\"orientation\"][i] = df_comfort[\"orientation\"][i]\n",
        "  df_postures_stats_new[\"comfort_rating\"][i] = df_comfort[\"score\"][i]\n",
        "#   df_postures_stats_new[\"preference_rating\"][i] = df_comfort[\"preference_rating\"][i]\n",
        "#   print(i)\n",
        "\n",
        "# df_postures_stats_new\n",
        "# df_comfort"
      ],
      "execution_count": null,
      "outputs": []
    },
    {
      "cell_type": "code",
      "metadata": {
        "id": "jAi5Ci_21Eev",
        "colab_type": "code",
        "colab": {}
      },
      "source": [
        "df_preference = df_postures_stats.loc[df_postures_stats[\"rating\"] == \"Preference\"]\n",
        "df_preference = df_preference.reset_index()\n",
        "df_preference\n",
        "for i in range(len(df_preference)):\n",
        "  if df_postures_stats_new[\"ParticipantID\"][i] == df_preference[\"ParticipantID\"][i]:\n",
        "    df_postures_stats_new[\"preference_rating\"][i] = df_preference[\"score\"][i]\n",
        "  else:\n",
        "    print(\"SHIT\")\n",
        "\n",
        "\n",
        "# df_comfort"
      ],
      "execution_count": null,
      "outputs": []
    },
    {
      "cell_type": "code",
      "metadata": {
        "id": "R5Qljz465oxN",
        "colab_type": "code",
        "colab": {
          "base_uri": "https://localhost:8080/",
          "height": 204
        },
        "outputId": "04c18207-1179-449b-9c84-e1b0042d85d7"
      },
      "source": [
        "df_postures_stats_new.head()"
      ],
      "execution_count": null,
      "outputs": [
        {
          "output_type": "execute_result",
          "data": {
            "text/html": [
              "<div>\n",
              "<style scoped>\n",
              "    .dataframe tbody tr th:only-of-type {\n",
              "        vertical-align: middle;\n",
              "    }\n",
              "\n",
              "    .dataframe tbody tr th {\n",
              "        vertical-align: top;\n",
              "    }\n",
              "\n",
              "    .dataframe thead th {\n",
              "        text-align: right;\n",
              "    }\n",
              "</style>\n",
              "<table border=\"1\" class=\"dataframe\">\n",
              "  <thead>\n",
              "    <tr style=\"text-align: right;\">\n",
              "      <th></th>\n",
              "      <th>ParticipantID</th>\n",
              "      <th>posture</th>\n",
              "      <th>surface</th>\n",
              "      <th>dexterity</th>\n",
              "      <th>form</th>\n",
              "      <th>orientation</th>\n",
              "      <th>comfort_rating</th>\n",
              "      <th>preference_rating</th>\n",
              "    </tr>\n",
              "  </thead>\n",
              "  <tbody>\n",
              "    <tr>\n",
              "      <th>0</th>\n",
              "      <td>1</td>\n",
              "      <td>Below_Left_Fist_0</td>\n",
              "      <td>Below</td>\n",
              "      <td>Non Dominant</td>\n",
              "      <td>Close</td>\n",
              "      <td>0</td>\n",
              "      <td>3</td>\n",
              "      <td>2</td>\n",
              "    </tr>\n",
              "    <tr>\n",
              "      <th>1</th>\n",
              "      <td>2</td>\n",
              "      <td>Below_Left_Fist_0</td>\n",
              "      <td>Below</td>\n",
              "      <td>Non Dominant</td>\n",
              "      <td>Close</td>\n",
              "      <td>0</td>\n",
              "      <td>4</td>\n",
              "      <td>4</td>\n",
              "    </tr>\n",
              "    <tr>\n",
              "      <th>2</th>\n",
              "      <td>3</td>\n",
              "      <td>Below_Left_Fist_0</td>\n",
              "      <td>Below</td>\n",
              "      <td>Non Dominant</td>\n",
              "      <td>Close</td>\n",
              "      <td>0</td>\n",
              "      <td>4</td>\n",
              "      <td>3</td>\n",
              "    </tr>\n",
              "    <tr>\n",
              "      <th>3</th>\n",
              "      <td>4</td>\n",
              "      <td>Below_Left_Fist_0</td>\n",
              "      <td>Below</td>\n",
              "      <td>Dominant</td>\n",
              "      <td>Close</td>\n",
              "      <td>0</td>\n",
              "      <td>4</td>\n",
              "      <td>4</td>\n",
              "    </tr>\n",
              "    <tr>\n",
              "      <th>4</th>\n",
              "      <td>5</td>\n",
              "      <td>Below_Left_Fist_0</td>\n",
              "      <td>Below</td>\n",
              "      <td>Non Dominant</td>\n",
              "      <td>Close</td>\n",
              "      <td>0</td>\n",
              "      <td>2</td>\n",
              "      <td>3</td>\n",
              "    </tr>\n",
              "  </tbody>\n",
              "</table>\n",
              "</div>"
            ],
            "text/plain": [
              "  ParticipantID            posture  ... comfort_rating preference_rating\n",
              "0             1  Below_Left_Fist_0  ...              3                 2\n",
              "1             2  Below_Left_Fist_0  ...              4                 4\n",
              "2             3  Below_Left_Fist_0  ...              4                 3\n",
              "3             4  Below_Left_Fist_0  ...              4                 4\n",
              "4             5  Below_Left_Fist_0  ...              2                 3\n",
              "\n",
              "[5 rows x 8 columns]"
            ]
          },
          "metadata": {
            "tags": []
          },
          "execution_count": 76
        }
      ]
    },
    {
      "cell_type": "code",
      "metadata": {
        "id": "SpR_WLfg5_2G",
        "colab_type": "code",
        "colab": {}
      },
      "source": [
        "df_postures_stats_new.to_csv('df_postures_stats.csv') \n",
        "files.download('df_postures_stats.csv')"
      ],
      "execution_count": null,
      "outputs": []
    },
    {
      "cell_type": "code",
      "metadata": {
        "id": "LX31qTXA8Lpl",
        "colab_type": "code",
        "colab": {}
      },
      "source": [
        ""
      ],
      "execution_count": null,
      "outputs": []
    }
  ]
}