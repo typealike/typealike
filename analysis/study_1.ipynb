{
  "nbformat": 4,
  "nbformat_minor": 0,
  "metadata": {
    "kernelspec": {
      "display_name": "Python 3",
      "language": "python",
      "name": "python3"
    },
    "language_info": {
      "codemirror_mode": {
        "name": "ipython",
        "version": 3
      },
      "file_extension": ".py",
      "mimetype": "text/x-python",
      "name": "python",
      "nbconvert_exporter": "python",
      "pygments_lexer": "ipython3",
      "version": "3.6.7"
    },
    "colab": {
      "name": "study_1.ipynb",
      "version": "0.3.2",
      "provenance": []
    }
  },
  "cells": [
    {
      "cell_type": "markdown",
      "metadata": {
        "id": "Cf7BC6tpPFZo",
        "colab_type": "text"
      },
      "source": [
        "# Imports"
      ]
    },
    {
      "cell_type": "code",
      "metadata": {
        "id": "ivaT6E025pjY",
        "colab_type": "code",
        "colab": {}
      },
      "source": [
        "import pandas as pd \n",
        "import requests\n",
        "import io"
      ],
      "execution_count": 0,
      "outputs": []
    },
    {
      "cell_type": "markdown",
      "metadata": {
        "id": "N7iiXKZhO7ep",
        "colab_type": "text"
      },
      "source": [
        "# Load Data"
      ]
    },
    {
      "cell_type": "code",
      "metadata": {
        "id": "z_jy5dIH5r34",
        "colab_type": "code",
        "outputId": "324aa2ea-9bfa-4f39-fa7b-3a7cc7c97d05",
        "colab": {
          "base_uri": "https://localhost:8080/",
          "height": 105
        }
      },
      "source": [
        "BASE_URL = \"https://docs.google.com/spreadsheets/d/1VpLXByvbTfbgupDNWcUaBxdk72cW9FRExs0AgRVaF1g/export?format=csv&\"\n",
        "URL_DEMOGRAPHICS = BASE_URL+\"gid=611260429\"\n",
        "URL_PREFERENCES = BASE_URL+\"gid=961690077\"\n",
        "content_demographics = requests.get(URL_DEMOGRAPHICS, verify=False).content\n",
        "content_preference = requests.get(URL_PREFERENCES, verify=False).content\n",
        "df_demographics = pd.read_csv(io.StringIO(content_demographics.decode('utf-8'))) \n",
        "df_preference = pd.read_csv(io.StringIO(content_preference.decode('utf-8'))) "
      ],
      "execution_count": 14,
      "outputs": [
        {
          "output_type": "stream",
          "text": [
            "/usr/local/lib/python3.6/dist-packages/urllib3/connectionpool.py:847: InsecureRequestWarning: Unverified HTTPS request is being made. Adding certificate verification is strongly advised. See: https://urllib3.readthedocs.io/en/latest/advanced-usage.html#ssl-warnings\n",
            "  InsecureRequestWarning)\n",
            "/usr/local/lib/python3.6/dist-packages/urllib3/connectionpool.py:847: InsecureRequestWarning: Unverified HTTPS request is being made. Adding certificate verification is strongly advised. See: https://urllib3.readthedocs.io/en/latest/advanced-usage.html#ssl-warnings\n",
            "  InsecureRequestWarning)\n"
          ],
          "name": "stderr"
        }
      ]
    },
    {
      "cell_type": "code",
      "metadata": {
        "id": "AA0NFF_8bA5n",
        "colab_type": "code",
        "colab": {
          "base_uri": "https://localhost:8080/",
          "height": 80
        },
        "outputId": "42d6edd4-8d01-45c6-fe14-fcdb0ab05a77"
      },
      "source": [
        "df_demographics.head(1)"
      ],
      "execution_count": 15,
      "outputs": [
        {
          "output_type": "execute_result",
          "data": {
            "text/html": [
              "<div>\n",
              "<style scoped>\n",
              "    .dataframe tbody tr th:only-of-type {\n",
              "        vertical-align: middle;\n",
              "    }\n",
              "\n",
              "    .dataframe tbody tr th {\n",
              "        vertical-align: top;\n",
              "    }\n",
              "\n",
              "    .dataframe thead th {\n",
              "        text-align: right;\n",
              "    }\n",
              "</style>\n",
              "<table border=\"1\" class=\"dataframe\">\n",
              "  <thead>\n",
              "    <tr style=\"text-align: right;\">\n",
              "      <th></th>\n",
              "      <th>ParticipantID</th>\n",
              "      <th>Age</th>\n",
              "      <th>Gender</th>\n",
              "      <th>DominantHand</th>\n",
              "      <th>AvgTimeSpent</th>\n",
              "      <th>WordsPerMinute</th>\n",
              "      <th>WordCount</th>\n",
              "      <th>Errors</th>\n",
              "      <th>TimeTakenS</th>\n",
              "      <th>TimeTakenM</th>\n",
              "      <th>MeanError</th>\n",
              "      <th>totalwords</th>\n",
              "      <th>time</th>\n",
              "      <th>sec</th>\n",
              "    </tr>\n",
              "  </thead>\n",
              "  <tbody>\n",
              "    <tr>\n",
              "      <th>0</th>\n",
              "      <td>participant_1</td>\n",
              "      <td>27.0</td>\n",
              "      <td>Male</td>\n",
              "      <td>Right</td>\n",
              "      <td>10.0</td>\n",
              "      <td>57.0</td>\n",
              "      <td>89.0</td>\n",
              "      <td>15.0</td>\n",
              "      <td>94.0</td>\n",
              "      <td>1.561404</td>\n",
              "      <td>9.606742</td>\n",
              "      <td>104.0</td>\n",
              "      <td>1.561404</td>\n",
              "      <td>93.684211</td>\n",
              "    </tr>\n",
              "  </tbody>\n",
              "</table>\n",
              "</div>"
            ],
            "text/plain": [
              "   ParticipantID   Age Gender  ... totalwords      time        sec\n",
              "0  participant_1  27.0   Male  ...      104.0  1.561404  93.684211\n",
              "\n",
              "[1 rows x 14 columns]"
            ]
          },
          "metadata": {
            "tags": []
          },
          "execution_count": 15
        }
      ]
    },
    {
      "cell_type": "code",
      "metadata": {
        "id": "F1QKl121bDQ7",
        "colab_type": "code",
        "colab": {
          "base_uri": "https://localhost:8080/",
          "height": 117
        },
        "outputId": "d5c348b1-cb73-46b1-f57f-a4fddd66839c"
      },
      "source": [
        "df_preference.head(1)"
      ],
      "execution_count": 13,
      "outputs": [
        {
          "output_type": "execute_result",
          "data": {
            "text/html": [
              "<div>\n",
              "<style scoped>\n",
              "    .dataframe tbody tr th:only-of-type {\n",
              "        vertical-align: middle;\n",
              "    }\n",
              "\n",
              "    .dataframe tbody tr th {\n",
              "        vertical-align: top;\n",
              "    }\n",
              "\n",
              "    .dataframe thead th {\n",
              "        text-align: right;\n",
              "    }\n",
              "</style>\n",
              "<table border=\"1\" class=\"dataframe\">\n",
              "  <thead>\n",
              "    <tr style=\"text-align: right;\">\n",
              "      <th></th>\n",
              "      <th>Participant Id</th>\n",
              "      <th>Comfort_Below_Left_Fist_Down</th>\n",
              "      <th>Preference_Below_Left_Fist_Down</th>\n",
              "      <th>Comfort_Below_Right_Fist_Down</th>\n",
              "      <th>Preference_Below_Right_Fist_Down</th>\n",
              "      <th>Comfort_Below_Left_Fist_Side</th>\n",
              "      <th>Preference_Below_Left_Fist_Side</th>\n",
              "      <th>Comfort_Below_Right_Fist_Side</th>\n",
              "      <th>Preference_Below_Right_Fist_Side</th>\n",
              "      <th>Comfort_Below_Left_Fist_Up</th>\n",
              "      <th>Preference_Below_Left_Fist_Up</th>\n",
              "      <th>Comfort_Below_Right_Fist_Up</th>\n",
              "      <th>Preference_Below_Right_Fist_Up</th>\n",
              "      <th>Comfort_Below_Left_Palm_Down</th>\n",
              "      <th>Preference_Below_Left_Palm_Down</th>\n",
              "      <th>Comfort_Below_Right_Palm_Down</th>\n",
              "      <th>Preference_Below_Right_Palm_Down</th>\n",
              "      <th>Comfort_Below_Left_Palm_Side</th>\n",
              "      <th>Preference_Below_Left_Palm_Side</th>\n",
              "      <th>Comfort_Below_Right_Palm_Side</th>\n",
              "      <th>Preference_Below_Right_Palm_Side</th>\n",
              "      <th>Comfort_Below_Left_Palm_Up</th>\n",
              "      <th>Preference_Below_Left_Palm_Up</th>\n",
              "      <th>Comfort_Below_Right_Palm_Up</th>\n",
              "      <th>Preference_Below_Right_Palm_Up</th>\n",
              "      <th>Comfort_On_Left_Fist_Down</th>\n",
              "      <th>Preference_On_Left_Fist_Down</th>\n",
              "      <th>Comfort_On_Right_Fist_Down</th>\n",
              "      <th>Preference_On_Right_Fist_Down</th>\n",
              "      <th>Comfort_On_Left_Fist_Side</th>\n",
              "      <th>Preference_On_Left_Fist_Side</th>\n",
              "      <th>Comfort_On_Right_Fist_Side</th>\n",
              "      <th>Preference_On_Right_Fist_Side</th>\n",
              "      <th>Comfort_On_Left_Fist_Up</th>\n",
              "      <th>Preference_On_Left_Fist_Up</th>\n",
              "      <th>Comfort_On_Right_Fist_Up</th>\n",
              "      <th>Preference_On_Right_Fist_Up</th>\n",
              "      <th>Comfort_On_Left_Palm_Down</th>\n",
              "      <th>Preference_On_Left_Palm_Down</th>\n",
              "      <th>Comfort_On_Right_Palm_Down</th>\n",
              "      <th>Preference_On_Right_Palm_Down</th>\n",
              "      <th>Comfort_On_Left_Palm_Side</th>\n",
              "      <th>Preference_On_Left_Palm_Side</th>\n",
              "      <th>Comfort_On_Right_Palm_Side</th>\n",
              "      <th>Preference_On_Right_Palm_Side</th>\n",
              "      <th>Comfort_On_Left_Palm_Up</th>\n",
              "      <th>Preference_On_Left_Palm_Up</th>\n",
              "      <th>Comfort_On_Right_Palm_Up</th>\n",
              "      <th>Preference_On_Right_Palm_Up</th>\n",
              "      <th>Comfort_Beside_Left_Fist_Down</th>\n",
              "      <th>Preference_Beside_Left_Fist_Down</th>\n",
              "      <th>Comfort_Beside_Right_Fist_Down</th>\n",
              "      <th>Preference_Beside_Right_Fist_Down</th>\n",
              "      <th>Comfort_Beside_Left_Fist_Side</th>\n",
              "      <th>Preference_Beside_Left_Fist_Side</th>\n",
              "      <th>Comfort_Beside_Right_Fist_Side</th>\n",
              "      <th>Preference_On_Right_Fist_Side.1</th>\n",
              "      <th>Comfort_Beside_Left_Fist_Up</th>\n",
              "      <th>Preference_Beside_Left_Fist_Up</th>\n",
              "      <th>Comfort_Beside_Right_Fist_Up</th>\n",
              "      <th>Preference_Beside_Right_Fist_Up</th>\n",
              "      <th>Comfort_Beside_Left_Palm_Down</th>\n",
              "      <th>Preference_Beside_Left_Palm_Down</th>\n",
              "      <th>Comfort_Beside_Right_Palm_Down</th>\n",
              "      <th>Preference_Beside_Right_Palm_Down</th>\n",
              "      <th>Comfort_Beside_Left_Palm_Side</th>\n",
              "      <th>Preference_Beside_Left_Palm_Side</th>\n",
              "      <th>Comfort_Beside_Right_Palm_Side</th>\n",
              "      <th>Preference_Beside_Right_Palm_Side</th>\n",
              "      <th>Comfort_Beside_Left_Palm_Up</th>\n",
              "      <th>Preference_Beside_Left_Palm_Up</th>\n",
              "      <th>Comfort_Beside_Right_Palm_Up</th>\n",
              "      <th>Preference_Beside_Right_Palm_Up</th>\n",
              "    </tr>\n",
              "  </thead>\n",
              "  <tbody>\n",
              "    <tr>\n",
              "      <th>0</th>\n",
              "      <td>participant_1</td>\n",
              "      <td>3</td>\n",
              "      <td>2</td>\n",
              "      <td>4</td>\n",
              "      <td>4</td>\n",
              "      <td>2</td>\n",
              "      <td>2</td>\n",
              "      <td>4</td>\n",
              "      <td>4</td>\n",
              "      <td>1</td>\n",
              "      <td>1</td>\n",
              "      <td>2</td>\n",
              "      <td>2</td>\n",
              "      <td>3</td>\n",
              "      <td>3</td>\n",
              "      <td>5</td>\n",
              "      <td>5</td>\n",
              "      <td>3</td>\n",
              "      <td>3</td>\n",
              "      <td>4</td>\n",
              "      <td>4</td>\n",
              "      <td>1</td>\n",
              "      <td>1</td>\n",
              "      <td>2</td>\n",
              "      <td>2</td>\n",
              "      <td>2</td>\n",
              "      <td>2</td>\n",
              "      <td>4</td>\n",
              "      <td>4</td>\n",
              "      <td>1</td>\n",
              "      <td>1</td>\n",
              "      <td>4</td>\n",
              "      <td>4</td>\n",
              "      <td>1</td>\n",
              "      <td>1</td>\n",
              "      <td>2</td>\n",
              "      <td>2</td>\n",
              "      <td>3</td>\n",
              "      <td>3</td>\n",
              "      <td>4</td>\n",
              "      <td>4</td>\n",
              "      <td>2</td>\n",
              "      <td>2</td>\n",
              "      <td>4</td>\n",
              "      <td>4</td>\n",
              "      <td>1</td>\n",
              "      <td>1</td>\n",
              "      <td>1</td>\n",
              "      <td>1</td>\n",
              "      <td>2</td>\n",
              "      <td>2</td>\n",
              "      <td>3</td>\n",
              "      <td>3</td>\n",
              "      <td>2</td>\n",
              "      <td>2</td>\n",
              "      <td>4</td>\n",
              "      <td>4.0</td>\n",
              "      <td>1</td>\n",
              "      <td>1</td>\n",
              "      <td>1</td>\n",
              "      <td>1</td>\n",
              "      <td>3</td>\n",
              "      <td>3</td>\n",
              "      <td>4</td>\n",
              "      <td>4</td>\n",
              "      <td>3</td>\n",
              "      <td>3</td>\n",
              "      <td>4</td>\n",
              "      <td>4</td>\n",
              "      <td>1</td>\n",
              "      <td>1</td>\n",
              "      <td>1</td>\n",
              "      <td>1</td>\n",
              "    </tr>\n",
              "  </tbody>\n",
              "</table>\n",
              "</div>"
            ],
            "text/plain": [
              "  Participant Id  ...  Preference_Beside_Right_Palm_Up\n",
              "0  participant_1  ...                                1\n",
              "\n",
              "[1 rows x 73 columns]"
            ]
          },
          "metadata": {
            "tags": []
          },
          "execution_count": 13
        }
      ]
    },
    {
      "cell_type": "markdown",
      "metadata": {
        "id": "Q1lgVpX9OHm9",
        "colab_type": "text"
      },
      "source": [
        "# Analysis"
      ]
    },
    {
      "cell_type": "markdown",
      "metadata": {
        "id": "IaNXIlABaF5-",
        "colab_type": "text"
      },
      "source": [
        "## Demographics"
      ]
    },
    {
      "cell_type": "code",
      "metadata": {
        "id": "HN_n_-7PMoYy",
        "colab_type": "code",
        "outputId": "921bd1e5-2cd9-41e8-8885-960725a364f2",
        "colab": {
          "base_uri": "https://localhost:8080/",
          "height": 68
        }
      },
      "source": [
        "# GENDER DISTRIBUTION\n",
        "data.Gender.value_counts()"
      ],
      "execution_count": 3,
      "outputs": [
        {
          "output_type": "execute_result",
          "data": {
            "text/plain": [
              "Male      20\n",
              "Female    10\n",
              "Name: Gender, dtype: int64"
            ]
          },
          "metadata": {
            "tags": []
          },
          "execution_count": 3
        }
      ]
    },
    {
      "cell_type": "code",
      "metadata": {
        "id": "5TGe20gGMmev",
        "colab_type": "code",
        "outputId": "d9e915b3-097e-4e92-b243-e5974cea533d",
        "colab": {
          "base_uri": "https://localhost:8080/",
          "height": 51
        }
      },
      "source": [
        "# AVERAGE AGE\n",
        "print(\"MEAN: \",data[\"Age\"].mean())\n",
        "print(\"STD: \",data[\"Age\"].std())"
      ],
      "execution_count": 4,
      "outputs": [
        {
          "output_type": "stream",
          "text": [
            "MEAN:  24.566666666666666\n",
            "STD:  2.4023455970813385\n"
          ],
          "name": "stdout"
        }
      ]
    },
    {
      "cell_type": "code",
      "metadata": {
        "id": "qZcRqcv2MT5A",
        "colab_type": "code",
        "colab": {
          "base_uri": "https://localhost:8080/",
          "height": 51
        },
        "outputId": "468a2a0a-dc5f-4ee6-e635-f9b95b4e432c"
      },
      "source": [
        "# AVERAGE USAGE\n",
        "print(\"MEAN: \",data[\"AvgTimeSpent\"].mean())\n",
        "print(\"STD: \",data[\"AvgTimeSpent\"].std())"
      ],
      "execution_count": 6,
      "outputs": [
        {
          "output_type": "stream",
          "text": [
            "MEAN:  7.0\n",
            "STD:  3.723179953415795\n"
          ],
          "name": "stdout"
        }
      ]
    },
    {
      "cell_type": "code",
      "metadata": {
        "id": "14sBgUmWMIYk",
        "colab_type": "code",
        "outputId": "10152f33-cb77-4c7c-e8e9-2810aef07efc",
        "colab": {
          "base_uri": "https://localhost:8080/",
          "height": 51
        }
      },
      "source": [
        "# AVERAGE TYPING SPEED\n",
        "print(\"MEAN: \",data[\"WordsPerMinute\"].mean())\n",
        "print(\"STD: \",data[\"WordsPerMinute\"].std())"
      ],
      "execution_count": 5,
      "outputs": [
        {
          "output_type": "stream",
          "text": [
            "MEAN:  34.9\n",
            "STD:  9.531617078855561\n"
          ],
          "name": "stdout"
        }
      ]
    },
    {
      "cell_type": "code",
      "metadata": {
        "id": "-kKPRTVKMs3D",
        "colab_type": "code",
        "colab": {
          "base_uri": "https://localhost:8080/",
          "height": 51
        },
        "outputId": "b26ed210-7aef-4166-de42-e529168fbb40"
      },
      "source": [
        "# AVERAGE ERROR RATE\n",
        "print(\"MEAN: \",data[\"MeanError\"].mean())\n",
        "print(\"STD: \",data[\"MeanError\"].std())"
      ],
      "execution_count": 7,
      "outputs": [
        {
          "output_type": "stream",
          "text": [
            "MEAN:  5.735205992738709\n",
            "STD:  2.6533760931418673\n"
          ],
          "name": "stdout"
        }
      ]
    },
    {
      "cell_type": "code",
      "metadata": {
        "id": "ugF1iJQfZ9Wt",
        "colab_type": "code",
        "colab": {}
      },
      "source": [
        ""
      ],
      "execution_count": 0,
      "outputs": []
    },
    {
      "cell_type": "markdown",
      "metadata": {
        "id": "-6gF5gdGaK1d",
        "colab_type": "text"
      },
      "source": [
        "## Preference"
      ]
    },
    {
      "cell_type": "code",
      "metadata": {
        "id": "in2owHjkaNlp",
        "colab_type": "code",
        "colab": {}
      },
      "source": [
        "df_preference_mean = df_preference.mean()"
      ],
      "execution_count": 0,
      "outputs": []
    },
    {
      "cell_type": "code",
      "metadata": {
        "id": "vhYG28ppcI3P",
        "colab_type": "code",
        "colab": {
          "base_uri": "https://localhost:8080/",
          "height": 100
        },
        "outputId": "9ba017b7-5458-4106-a5d0-f2d0b82d4c84"
      },
      "source": [
        "df_preference_mean.to_frame().transpose()"
      ],
      "execution_count": 43,
      "outputs": [
        {
          "output_type": "execute_result",
          "data": {
            "text/html": [
              "<div>\n",
              "<style scoped>\n",
              "    .dataframe tbody tr th:only-of-type {\n",
              "        vertical-align: middle;\n",
              "    }\n",
              "\n",
              "    .dataframe tbody tr th {\n",
              "        vertical-align: top;\n",
              "    }\n",
              "\n",
              "    .dataframe thead th {\n",
              "        text-align: right;\n",
              "    }\n",
              "</style>\n",
              "<table border=\"1\" class=\"dataframe\">\n",
              "  <thead>\n",
              "    <tr style=\"text-align: right;\">\n",
              "      <th></th>\n",
              "      <th>Comfort_Below_Left_Fist_Down</th>\n",
              "      <th>Preference_Below_Left_Fist_Down</th>\n",
              "      <th>Comfort_Below_Right_Fist_Down</th>\n",
              "      <th>Preference_Below_Right_Fist_Down</th>\n",
              "      <th>Comfort_Below_Left_Fist_Side</th>\n",
              "      <th>Preference_Below_Left_Fist_Side</th>\n",
              "      <th>Comfort_Below_Right_Fist_Side</th>\n",
              "      <th>Preference_Below_Right_Fist_Side</th>\n",
              "      <th>Comfort_Below_Left_Fist_Up</th>\n",
              "      <th>Preference_Below_Left_Fist_Up</th>\n",
              "      <th>Comfort_Below_Right_Fist_Up</th>\n",
              "      <th>Preference_Below_Right_Fist_Up</th>\n",
              "      <th>Comfort_Below_Left_Palm_Down</th>\n",
              "      <th>Preference_Below_Left_Palm_Down</th>\n",
              "      <th>Comfort_Below_Right_Palm_Down</th>\n",
              "      <th>Preference_Below_Right_Palm_Down</th>\n",
              "      <th>Comfort_Below_Left_Palm_Side</th>\n",
              "      <th>Preference_Below_Left_Palm_Side</th>\n",
              "      <th>Comfort_Below_Right_Palm_Side</th>\n",
              "      <th>Preference_Below_Right_Palm_Side</th>\n",
              "      <th>Comfort_Below_Left_Palm_Up</th>\n",
              "      <th>Preference_Below_Left_Palm_Up</th>\n",
              "      <th>Comfort_Below_Right_Palm_Up</th>\n",
              "      <th>Preference_Below_Right_Palm_Up</th>\n",
              "      <th>Comfort_On_Left_Fist_Down</th>\n",
              "      <th>Preference_On_Left_Fist_Down</th>\n",
              "      <th>Comfort_On_Right_Fist_Down</th>\n",
              "      <th>Preference_On_Right_Fist_Down</th>\n",
              "      <th>Comfort_On_Left_Fist_Side</th>\n",
              "      <th>Preference_On_Left_Fist_Side</th>\n",
              "      <th>Comfort_On_Right_Fist_Side</th>\n",
              "      <th>Preference_On_Right_Fist_Side</th>\n",
              "      <th>Comfort_On_Left_Fist_Up</th>\n",
              "      <th>Preference_On_Left_Fist_Up</th>\n",
              "      <th>Comfort_On_Right_Fist_Up</th>\n",
              "      <th>Preference_On_Right_Fist_Up</th>\n",
              "      <th>Comfort_On_Left_Palm_Down</th>\n",
              "      <th>Preference_On_Left_Palm_Down</th>\n",
              "      <th>Comfort_On_Right_Palm_Down</th>\n",
              "      <th>Preference_On_Right_Palm_Down</th>\n",
              "      <th>Comfort_On_Left_Palm_Side</th>\n",
              "      <th>Preference_On_Left_Palm_Side</th>\n",
              "      <th>Comfort_On_Right_Palm_Side</th>\n",
              "      <th>Preference_On_Right_Palm_Side</th>\n",
              "      <th>Comfort_On_Left_Palm_Up</th>\n",
              "      <th>Preference_On_Left_Palm_Up</th>\n",
              "      <th>Comfort_On_Right_Palm_Up</th>\n",
              "      <th>Preference_On_Right_Palm_Up</th>\n",
              "      <th>Comfort_Beside_Left_Fist_Down</th>\n",
              "      <th>Preference_Beside_Left_Fist_Down</th>\n",
              "      <th>Comfort_Beside_Right_Fist_Down</th>\n",
              "      <th>Preference_Beside_Right_Fist_Down</th>\n",
              "      <th>Comfort_Beside_Left_Fist_Side</th>\n",
              "      <th>Preference_Beside_Left_Fist_Side</th>\n",
              "      <th>Comfort_Beside_Right_Fist_Side</th>\n",
              "      <th>Preference_On_Right_Fist_Side.1</th>\n",
              "      <th>Comfort_Beside_Left_Fist_Up</th>\n",
              "      <th>Preference_Beside_Left_Fist_Up</th>\n",
              "      <th>Comfort_Beside_Right_Fist_Up</th>\n",
              "      <th>Preference_Beside_Right_Fist_Up</th>\n",
              "      <th>Comfort_Beside_Left_Palm_Down</th>\n",
              "      <th>Preference_Beside_Left_Palm_Down</th>\n",
              "      <th>Comfort_Beside_Right_Palm_Down</th>\n",
              "      <th>Preference_Beside_Right_Palm_Down</th>\n",
              "      <th>Comfort_Beside_Left_Palm_Side</th>\n",
              "      <th>Preference_Beside_Left_Palm_Side</th>\n",
              "      <th>Comfort_Beside_Right_Palm_Side</th>\n",
              "      <th>Preference_Beside_Right_Palm_Side</th>\n",
              "      <th>Comfort_Beside_Left_Palm_Up</th>\n",
              "      <th>Preference_Beside_Left_Palm_Up</th>\n",
              "      <th>Comfort_Beside_Right_Palm_Up</th>\n",
              "      <th>Preference_Beside_Right_Palm_Up</th>\n",
              "    </tr>\n",
              "  </thead>\n",
              "  <tbody>\n",
              "    <tr>\n",
              "      <th>0</th>\n",
              "      <td>3.7</td>\n",
              "      <td>3.466667</td>\n",
              "      <td>3.933333</td>\n",
              "      <td>3.733333</td>\n",
              "      <td>3.866667</td>\n",
              "      <td>3.666667</td>\n",
              "      <td>4.3</td>\n",
              "      <td>4.2</td>\n",
              "      <td>2.133333</td>\n",
              "      <td>2.3</td>\n",
              "      <td>2.5</td>\n",
              "      <td>2.5</td>\n",
              "      <td>4.133333</td>\n",
              "      <td>3.933333</td>\n",
              "      <td>4.333333</td>\n",
              "      <td>4.3</td>\n",
              "      <td>3.666667</td>\n",
              "      <td>3.533333</td>\n",
              "      <td>3.966667</td>\n",
              "      <td>3.7</td>\n",
              "      <td>2.366667</td>\n",
              "      <td>2.466667</td>\n",
              "      <td>2.3</td>\n",
              "      <td>2.433333</td>\n",
              "      <td>3.433333</td>\n",
              "      <td>3.366667</td>\n",
              "      <td>3.666667</td>\n",
              "      <td>3.533333</td>\n",
              "      <td>3.366667</td>\n",
              "      <td>3.333333</td>\n",
              "      <td>3.766667</td>\n",
              "      <td>3.6</td>\n",
              "      <td>1.9</td>\n",
              "      <td>2.1</td>\n",
              "      <td>2.166667</td>\n",
              "      <td>2.366667</td>\n",
              "      <td>4.066667</td>\n",
              "      <td>3.933333</td>\n",
              "      <td>4.366667</td>\n",
              "      <td>4.366667</td>\n",
              "      <td>3.5</td>\n",
              "      <td>3.366667</td>\n",
              "      <td>3.766667</td>\n",
              "      <td>3.8</td>\n",
              "      <td>2.2</td>\n",
              "      <td>2.3</td>\n",
              "      <td>2.333333</td>\n",
              "      <td>2.366667</td>\n",
              "      <td>3.233333</td>\n",
              "      <td>2.933333</td>\n",
              "      <td>3.4</td>\n",
              "      <td>3.2</td>\n",
              "      <td>3.5</td>\n",
              "      <td>3.033333</td>\n",
              "      <td>3.733333</td>\n",
              "      <td>3.241379</td>\n",
              "      <td>1.8</td>\n",
              "      <td>2.033333</td>\n",
              "      <td>2.066667</td>\n",
              "      <td>2.033333</td>\n",
              "      <td>3.866667</td>\n",
              "      <td>3.4</td>\n",
              "      <td>4.033333</td>\n",
              "      <td>3.566667</td>\n",
              "      <td>3.566667</td>\n",
              "      <td>3.333333</td>\n",
              "      <td>3.866667</td>\n",
              "      <td>3.533333</td>\n",
              "      <td>2.066667</td>\n",
              "      <td>2.066667</td>\n",
              "      <td>2.166667</td>\n",
              "      <td>2.233333</td>\n",
              "    </tr>\n",
              "  </tbody>\n",
              "</table>\n",
              "</div>"
            ],
            "text/plain": [
              "   Comfort_Below_Left_Fist_Down  ...  Preference_Beside_Right_Palm_Up\n",
              "0                           3.7  ...                         2.233333\n",
              "\n",
              "[1 rows x 72 columns]"
            ]
          },
          "metadata": {
            "tags": []
          },
          "execution_count": 43
        }
      ]
    },
    {
      "cell_type": "code",
      "metadata": {
        "id": "lfLgVsvHd32N",
        "colab_type": "code",
        "colab": {
          "base_uri": "https://localhost:8080/",
          "height": 646
        },
        "outputId": "1978466c-e310-468a-b74a-f892cbe6d92b"
      },
      "source": [
        "df_preference_mean.sort_values().head(36)"
      ],
      "execution_count": 53,
      "outputs": [
        {
          "output_type": "execute_result",
          "data": {
            "text/plain": [
              "Comfort_Beside_Left_Fist_Up          1.800000\n",
              "Comfort_On_Left_Fist_Up              1.900000\n",
              "Preference_Beside_Right_Fist_Up      2.033333\n",
              "Preference_Beside_Left_Fist_Up       2.033333\n",
              "Preference_Beside_Left_Palm_Up       2.066667\n",
              "Comfort_Beside_Left_Palm_Up          2.066667\n",
              "Comfort_Beside_Right_Fist_Up         2.066667\n",
              "Preference_On_Left_Fist_Up           2.100000\n",
              "Comfort_Below_Left_Fist_Up           2.133333\n",
              "Comfort_On_Right_Fist_Up             2.166667\n",
              "Comfort_Beside_Right_Palm_Up         2.166667\n",
              "Comfort_On_Left_Palm_Up              2.200000\n",
              "Preference_Beside_Right_Palm_Up      2.233333\n",
              "Preference_Below_Left_Fist_Up        2.300000\n",
              "Comfort_Below_Right_Palm_Up          2.300000\n",
              "Preference_On_Left_Palm_Up           2.300000\n",
              "Comfort_On_Right_Palm_Up             2.333333\n",
              "Preference_On_Right_Palm_Up          2.366667\n",
              "Comfort_Below_Left_Palm_Up           2.366667\n",
              "Preference_On_Right_Fist_Up          2.366667\n",
              "Preference_Below_Right_Palm_Up       2.433333\n",
              "Preference_Below_Left_Palm_Up        2.466667\n",
              "Preference_Below_Right_Fist_Up       2.500000\n",
              "Comfort_Below_Right_Fist_Up          2.500000\n",
              "Preference_Beside_Left_Fist_Down     2.933333\n",
              "Preference_Beside_Left_Fist_Side     3.033333\n",
              "Preference_Beside_Right_Fist_Down    3.200000\n",
              "Comfort_Beside_Left_Fist_Down        3.233333\n",
              "Preference_On_Right_Fist_Side.1      3.241379\n",
              "Preference_Beside_Left_Palm_Side     3.333333\n",
              "Preference_On_Left_Fist_Side         3.333333\n",
              "Preference_On_Left_Fist_Down         3.366667\n",
              "Preference_On_Left_Palm_Side         3.366667\n",
              "Comfort_On_Left_Fist_Side            3.366667\n",
              "Preference_Beside_Left_Palm_Down     3.400000\n",
              "Comfort_Beside_Right_Fist_Down       3.400000\n",
              "dtype: float64"
            ]
          },
          "metadata": {
            "tags": []
          },
          "execution_count": 53
        }
      ]
    },
    {
      "cell_type": "code",
      "metadata": {
        "id": "KWhV6XLWd-f2",
        "colab_type": "code",
        "colab": {
          "base_uri": "https://localhost:8080/",
          "height": 646
        },
        "outputId": "af59e326-aaf4-4e26-fdc0-3b3f14d78dfd"
      },
      "source": [
        "df_preference_mean.sort_values().tail(36)"
      ],
      "execution_count": 54,
      "outputs": [
        {
          "output_type": "execute_result",
          "data": {
            "text/plain": [
              "Comfort_On_Left_Fist_Down            3.433333\n",
              "Preference_Below_Left_Fist_Down      3.466667\n",
              "Comfort_On_Left_Palm_Side            3.500000\n",
              "Comfort_Beside_Left_Fist_Side        3.500000\n",
              "Preference_On_Right_Fist_Down        3.533333\n",
              "Preference_Below_Left_Palm_Side      3.533333\n",
              "Preference_Beside_Right_Palm_Side    3.533333\n",
              "Comfort_Beside_Left_Palm_Side        3.566667\n",
              "Preference_Beside_Right_Palm_Down    3.566667\n",
              "Preference_On_Right_Fist_Side        3.600000\n",
              "Comfort_On_Right_Fist_Down           3.666667\n",
              "Comfort_Below_Left_Palm_Side         3.666667\n",
              "Preference_Below_Left_Fist_Side      3.666667\n",
              "Comfort_Below_Left_Fist_Down         3.700000\n",
              "Preference_Below_Right_Palm_Side     3.700000\n",
              "Comfort_Beside_Right_Fist_Side       3.733333\n",
              "Preference_Below_Right_Fist_Down     3.733333\n",
              "Comfort_On_Right_Fist_Side           3.766667\n",
              "Comfort_On_Right_Palm_Side           3.766667\n",
              "Preference_On_Right_Palm_Side        3.800000\n",
              "Comfort_Beside_Right_Palm_Side       3.866667\n",
              "Comfort_Below_Left_Fist_Side         3.866667\n",
              "Comfort_Beside_Left_Palm_Down        3.866667\n",
              "Preference_On_Left_Palm_Down         3.933333\n",
              "Preference_Below_Left_Palm_Down      3.933333\n",
              "Comfort_Below_Right_Fist_Down        3.933333\n",
              "Comfort_Below_Right_Palm_Side        3.966667\n",
              "Comfort_Beside_Right_Palm_Down       4.033333\n",
              "Comfort_On_Left_Palm_Down            4.066667\n",
              "Comfort_Below_Left_Palm_Down         4.133333\n",
              "Preference_Below_Right_Fist_Side     4.200000\n",
              "Comfort_Below_Right_Fist_Side        4.300000\n",
              "Preference_Below_Right_Palm_Down     4.300000\n",
              "Comfort_Below_Right_Palm_Down        4.333333\n",
              "Preference_On_Right_Palm_Down        4.366667\n",
              "Comfort_On_Right_Palm_Down           4.366667\n",
              "dtype: float64"
            ]
          },
          "metadata": {
            "tags": []
          },
          "execution_count": 54
        }
      ]
    },
    {
      "cell_type": "code",
      "metadata": {
        "id": "BwrYbbi-eCB-",
        "colab_type": "code",
        "colab": {}
      },
      "source": [
        ""
      ],
      "execution_count": 0,
      "outputs": []
    }
  ]
}