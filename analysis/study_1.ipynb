{
  "nbformat": 4,
  "nbformat_minor": 0,
  "metadata": {
    "kernelspec": {
      "display_name": "Python 3",
      "language": "python",
      "name": "python3"
    },
    "language_info": {
      "codemirror_mode": {
        "name": "ipython",
        "version": 3
      },
      "file_extension": ".py",
      "mimetype": "text/x-python",
      "name": "python",
      "nbconvert_exporter": "python",
      "pygments_lexer": "ipython3",
      "version": "3.6.7"
    },
    "colab": {
      "name": "study_1.ipynb",
      "version": "0.3.2",
      "provenance": []
    }
  },
  "cells": [
    {
      "cell_type": "markdown",
      "metadata": {
        "id": "Cf7BC6tpPFZo",
        "colab_type": "text"
      },
      "source": [
        "# Imports"
      ]
    },
    {
      "cell_type": "code",
      "metadata": {
        "id": "ivaT6E025pjY",
        "colab_type": "code",
        "colab": {}
      },
      "source": [
        "import pandas as pd \n",
        "import numpy as np\n",
        "import requests\n",
        "import io\n",
        "import re\n",
        "import seaborn as sns\n",
        "import matplotlib.pyplot as plt\n",
        "from google.colab import files\n"
      ],
      "execution_count": 0,
      "outputs": []
    },
    {
      "cell_type": "markdown",
      "metadata": {
        "id": "N7iiXKZhO7ep",
        "colab_type": "text"
      },
      "source": [
        "# Load Data"
      ]
    },
    {
      "cell_type": "code",
      "metadata": {
        "id": "z_jy5dIH5r34",
        "colab_type": "code",
        "outputId": "ac4c6805-58c3-416c-fc1e-5781f6817201",
        "colab": {
          "base_uri": "https://localhost:8080/",
          "height": 105
        }
      },
      "source": [
        "BASE_URL = \"https://docs.google.com/spreadsheets/d/1VpLXByvbTfbgupDNWcUaBxdk72cW9FRExs0AgRVaF1g/export?format=csv&\"\n",
        "URL_PARTICIPANTS = BASE_URL+\"gid=611260429\"\n",
        "URL_POSTURES = BASE_URL+\"gid=961690077\"\n",
        "content_participants = requests.get(URL_PARTICIPANTS, verify=False).content\n",
        "content_postures = requests.get(URL_POSTURES, verify=False).content\n",
        "df_participants = pd.read_csv(io.StringIO(content_participants.decode('utf-8'))) \n",
        "df_postures = pd.read_csv(io.StringIO(content_postures.decode('utf-8'))) \n",
        "plt.rcParams['figure.dpi'] = 100"
      ],
      "execution_count": 78,
      "outputs": [
        {
          "output_type": "stream",
          "text": [
            "/usr/local/lib/python3.6/dist-packages/urllib3/connectionpool.py:847: InsecureRequestWarning: Unverified HTTPS request is being made. Adding certificate verification is strongly advised. See: https://urllib3.readthedocs.io/en/latest/advanced-usage.html#ssl-warnings\n",
            "  InsecureRequestWarning)\n",
            "/usr/local/lib/python3.6/dist-packages/urllib3/connectionpool.py:847: InsecureRequestWarning: Unverified HTTPS request is being made. Adding certificate verification is strongly advised. See: https://urllib3.readthedocs.io/en/latest/advanced-usage.html#ssl-warnings\n",
            "  InsecureRequestWarning)\n"
          ],
          "name": "stderr"
        }
      ]
    },
    {
      "cell_type": "code",
      "metadata": {
        "id": "AA0NFF_8bA5n",
        "colab_type": "code",
        "outputId": "b96901ae-df83-4155-a93c-3d86c0c7b221",
        "colab": {
          "base_uri": "https://localhost:8080/",
          "height": 80
        }
      },
      "source": [
        "df_participants.head(1)"
      ],
      "execution_count": 79,
      "outputs": [
        {
          "output_type": "execute_result",
          "data": {
            "text/html": [
              "<div>\n",
              "<style scoped>\n",
              "    .dataframe tbody tr th:only-of-type {\n",
              "        vertical-align: middle;\n",
              "    }\n",
              "\n",
              "    .dataframe tbody tr th {\n",
              "        vertical-align: top;\n",
              "    }\n",
              "\n",
              "    .dataframe thead th {\n",
              "        text-align: right;\n",
              "    }\n",
              "</style>\n",
              "<table border=\"1\" class=\"dataframe\">\n",
              "  <thead>\n",
              "    <tr style=\"text-align: right;\">\n",
              "      <th></th>\n",
              "      <th>ParticipantID</th>\n",
              "      <th>Age</th>\n",
              "      <th>Gender</th>\n",
              "      <th>DominantHand</th>\n",
              "      <th>AvgTimeSpent</th>\n",
              "      <th>WordsPerMinute</th>\n",
              "      <th>WordCount</th>\n",
              "      <th>Errors</th>\n",
              "      <th>TimeTakenS</th>\n",
              "      <th>TimeTakenM</th>\n",
              "      <th>MeanError</th>\n",
              "      <th>totalwords</th>\n",
              "      <th>time</th>\n",
              "      <th>sec</th>\n",
              "    </tr>\n",
              "  </thead>\n",
              "  <tbody>\n",
              "    <tr>\n",
              "      <th>0</th>\n",
              "      <td>participant_1</td>\n",
              "      <td>27.0</td>\n",
              "      <td>Male</td>\n",
              "      <td>Right</td>\n",
              "      <td>10.0</td>\n",
              "      <td>57.0</td>\n",
              "      <td>89.0</td>\n",
              "      <td>15.0</td>\n",
              "      <td>94.0</td>\n",
              "      <td>1.561404</td>\n",
              "      <td>9.606742</td>\n",
              "      <td>104.0</td>\n",
              "      <td>1.561404</td>\n",
              "      <td>93.684211</td>\n",
              "    </tr>\n",
              "  </tbody>\n",
              "</table>\n",
              "</div>"
            ],
            "text/plain": [
              "   ParticipantID   Age Gender  ... totalwords      time        sec\n",
              "0  participant_1  27.0   Male  ...      104.0  1.561404  93.684211\n",
              "\n",
              "[1 rows x 14 columns]"
            ]
          },
          "metadata": {
            "tags": []
          },
          "execution_count": 79
        }
      ]
    },
    {
      "cell_type": "code",
      "metadata": {
        "id": "F1QKl121bDQ7",
        "colab_type": "code",
        "outputId": "eec187de-1f73-4f24-81c6-941208dc7cd0",
        "colab": {
          "base_uri": "https://localhost:8080/",
          "height": 100
        }
      },
      "source": [
        "df_postures.head(1)"
      ],
      "execution_count": 80,
      "outputs": [
        {
          "output_type": "execute_result",
          "data": {
            "text/html": [
              "<div>\n",
              "<style scoped>\n",
              "    .dataframe tbody tr th:only-of-type {\n",
              "        vertical-align: middle;\n",
              "    }\n",
              "\n",
              "    .dataframe tbody tr th {\n",
              "        vertical-align: top;\n",
              "    }\n",
              "\n",
              "    .dataframe thead th {\n",
              "        text-align: right;\n",
              "    }\n",
              "</style>\n",
              "<table border=\"1\" class=\"dataframe\">\n",
              "  <thead>\n",
              "    <tr style=\"text-align: right;\">\n",
              "      <th></th>\n",
              "      <th>ParticipantID</th>\n",
              "      <th>Comfort_Below_Left_Fist_0</th>\n",
              "      <th>Preference_Below_Left_Fist_0</th>\n",
              "      <th>Comfort_Below_Right_Fist_0</th>\n",
              "      <th>Preference_Below_Right_Fist_0</th>\n",
              "      <th>Comfort_Below_Left_Fist_90</th>\n",
              "      <th>Preference_Below_Left_Fist_90</th>\n",
              "      <th>Comfort_Below_Right_Fist_90</th>\n",
              "      <th>Preference_Below_Right_Fist_90</th>\n",
              "      <th>Comfort_Below_Left_Fist_180</th>\n",
              "      <th>Preference_Below_Left_Fist_180</th>\n",
              "      <th>Comfort_Below_Right_Fist_180</th>\n",
              "      <th>Preference_Below_Right_Fist_180</th>\n",
              "      <th>Comfort_Below_Left_Palm_0</th>\n",
              "      <th>Preference_Below_Left_Palm_0</th>\n",
              "      <th>Comfort_Below_Right_Palm_0</th>\n",
              "      <th>Preference_Below_Right_Palm_0</th>\n",
              "      <th>Comfort_Below_Left_Palm_90</th>\n",
              "      <th>Preference_Below_Left_Palm_90</th>\n",
              "      <th>Comfort_Below_Right_Palm_90</th>\n",
              "      <th>Preference_Below_Right_Palm_90</th>\n",
              "      <th>Comfort_Below_Left_Palm_180</th>\n",
              "      <th>Preference_Below_Left_Palm_180</th>\n",
              "      <th>Comfort_Below_Right_Palm_180</th>\n",
              "      <th>Preference_Below_Right_Palm_180</th>\n",
              "      <th>Comfort_On_Left_Fist_0</th>\n",
              "      <th>Preference_On_Left_Fist_0</th>\n",
              "      <th>Comfort_On_Right_Fist_0</th>\n",
              "      <th>Preference_On_Right_Fist_0</th>\n",
              "      <th>Comfort_On_Left_Fist_90</th>\n",
              "      <th>Preference_On_Left_Fist_90</th>\n",
              "      <th>Comfort_On_Right_Fist_90</th>\n",
              "      <th>Preference_On_Right_Fist_90</th>\n",
              "      <th>Comfort_On_Left_Fist_180</th>\n",
              "      <th>Preference_On_Left_Fist_180</th>\n",
              "      <th>Comfort_On_Right_Fist_180</th>\n",
              "      <th>Preference_On_Right_Fist_180</th>\n",
              "      <th>Comfort_On_Left_Palm_0</th>\n",
              "      <th>Preference_On_Left_Palm_0</th>\n",
              "      <th>Comfort_On_Right_Palm_0</th>\n",
              "      <th>Preference_On_Right_Palm_0</th>\n",
              "      <th>Comfort_On_Left_Palm_90</th>\n",
              "      <th>Preference_On_Left_Palm_90</th>\n",
              "      <th>Comfort_On_Right_Palm_90</th>\n",
              "      <th>Preference_On_Right_Palm_90</th>\n",
              "      <th>Comfort_On_Left_Palm_180</th>\n",
              "      <th>Preference_On_Left_Palm_180</th>\n",
              "      <th>Comfort_On_Right_Palm_180</th>\n",
              "      <th>Preference_On_Right_Palm_180</th>\n",
              "      <th>Comfort_Beside_Left_Fist_0</th>\n",
              "      <th>Preference_Beside_Left_Fist_0</th>\n",
              "      <th>Comfort_Beside_Right_Fist_0</th>\n",
              "      <th>Preference_Beside_Right_Fist_0</th>\n",
              "      <th>Comfort_Beside_Left_Fist_90</th>\n",
              "      <th>Preference_Beside_Left_Fist_90</th>\n",
              "      <th>Comfort_Beside_Right_Fist_90</th>\n",
              "      <th>Preference_Beside_Right_Fist_90</th>\n",
              "      <th>Comfort_Beside_Left_Fist_180</th>\n",
              "      <th>Preference_Beside_Left_Fist_180</th>\n",
              "      <th>Comfort_Beside_Right_Fist_180</th>\n",
              "      <th>Preference_Beside_Right_Fist_180</th>\n",
              "      <th>Comfort_Beside_Left_Palm_0</th>\n",
              "      <th>Preference_Beside_Left_Palm_0</th>\n",
              "      <th>Comfort_Beside_Right_Palm_0</th>\n",
              "      <th>Preference_Beside_Right_Palm_0</th>\n",
              "      <th>Comfort_Beside_Left_Palm_90</th>\n",
              "      <th>Preference_Beside_Left_Palm_90</th>\n",
              "      <th>Comfort_Beside_Right_Palm_90</th>\n",
              "      <th>Preference_Beside_Right_Palm_90</th>\n",
              "      <th>Comfort_Beside_Left_Palm_180</th>\n",
              "      <th>Preference_Beside_Left_Palm_180</th>\n",
              "      <th>Comfort_Beside_Right_Palm_180</th>\n",
              "      <th>Preference_Beside_Right_Palm_180</th>\n",
              "    </tr>\n",
              "  </thead>\n",
              "  <tbody>\n",
              "    <tr>\n",
              "      <th>0</th>\n",
              "      <td>participant_1</td>\n",
              "      <td>3</td>\n",
              "      <td>2</td>\n",
              "      <td>4</td>\n",
              "      <td>4</td>\n",
              "      <td>2</td>\n",
              "      <td>2</td>\n",
              "      <td>4</td>\n",
              "      <td>4</td>\n",
              "      <td>1</td>\n",
              "      <td>1</td>\n",
              "      <td>2</td>\n",
              "      <td>2</td>\n",
              "      <td>3</td>\n",
              "      <td>3</td>\n",
              "      <td>5</td>\n",
              "      <td>5</td>\n",
              "      <td>3</td>\n",
              "      <td>3</td>\n",
              "      <td>4</td>\n",
              "      <td>4</td>\n",
              "      <td>1</td>\n",
              "      <td>1</td>\n",
              "      <td>2</td>\n",
              "      <td>2</td>\n",
              "      <td>2</td>\n",
              "      <td>2</td>\n",
              "      <td>4</td>\n",
              "      <td>4</td>\n",
              "      <td>1</td>\n",
              "      <td>1</td>\n",
              "      <td>4</td>\n",
              "      <td>4</td>\n",
              "      <td>1</td>\n",
              "      <td>1</td>\n",
              "      <td>2</td>\n",
              "      <td>2</td>\n",
              "      <td>3</td>\n",
              "      <td>3</td>\n",
              "      <td>4</td>\n",
              "      <td>4</td>\n",
              "      <td>2</td>\n",
              "      <td>2</td>\n",
              "      <td>4</td>\n",
              "      <td>4</td>\n",
              "      <td>1</td>\n",
              "      <td>1</td>\n",
              "      <td>1</td>\n",
              "      <td>1</td>\n",
              "      <td>2</td>\n",
              "      <td>2</td>\n",
              "      <td>3</td>\n",
              "      <td>3</td>\n",
              "      <td>2</td>\n",
              "      <td>2</td>\n",
              "      <td>4</td>\n",
              "      <td>4</td>\n",
              "      <td>1</td>\n",
              "      <td>1</td>\n",
              "      <td>1</td>\n",
              "      <td>1</td>\n",
              "      <td>3</td>\n",
              "      <td>3</td>\n",
              "      <td>4</td>\n",
              "      <td>4</td>\n",
              "      <td>3</td>\n",
              "      <td>3</td>\n",
              "      <td>4</td>\n",
              "      <td>4</td>\n",
              "      <td>1</td>\n",
              "      <td>1</td>\n",
              "      <td>1</td>\n",
              "      <td>1</td>\n",
              "    </tr>\n",
              "  </tbody>\n",
              "</table>\n",
              "</div>"
            ],
            "text/plain": [
              "   ParticipantID  ...  Preference_Beside_Right_Palm_180\n",
              "0  participant_1  ...                                 1\n",
              "\n",
              "[1 rows x 73 columns]"
            ]
          },
          "metadata": {
            "tags": []
          },
          "execution_count": 80
        }
      ]
    },
    {
      "cell_type": "markdown",
      "metadata": {
        "id": "Q1lgVpX9OHm9",
        "colab_type": "text"
      },
      "source": [
        "# Analysis"
      ]
    },
    {
      "cell_type": "markdown",
      "metadata": {
        "id": "IaNXIlABaF5-",
        "colab_type": "text"
      },
      "source": [
        "## Participants"
      ]
    },
    {
      "cell_type": "code",
      "metadata": {
        "id": "HN_n_-7PMoYy",
        "colab_type": "code",
        "outputId": "e9d9b977-ce8f-4b0e-b626-c3327d118488",
        "colab": {
          "base_uri": "https://localhost:8080/",
          "height": 68
        }
      },
      "source": [
        "# GENDER DISTRIBUTION\n",
        "df_participants.Gender.value_counts()"
      ],
      "execution_count": 81,
      "outputs": [
        {
          "output_type": "execute_result",
          "data": {
            "text/plain": [
              "Male      20\n",
              "Female    10\n",
              "Name: Gender, dtype: int64"
            ]
          },
          "metadata": {
            "tags": []
          },
          "execution_count": 81
        }
      ]
    },
    {
      "cell_type": "code",
      "metadata": {
        "id": "5TGe20gGMmev",
        "colab_type": "code",
        "outputId": "11cb13d2-8acd-4260-ce1d-18a1ce92f335",
        "colab": {
          "base_uri": "https://localhost:8080/",
          "height": 51
        }
      },
      "source": [
        "# AVERAGE AGE\n",
        "print(\"MEAN: \",df_participants[\"Age\"].mean())\n",
        "print(\"STD: \",df_participants[\"Age\"].std())"
      ],
      "execution_count": 82,
      "outputs": [
        {
          "output_type": "stream",
          "text": [
            "MEAN:  24.566666666666666\n",
            "STD:  2.4023455970813385\n"
          ],
          "name": "stdout"
        }
      ]
    },
    {
      "cell_type": "code",
      "metadata": {
        "id": "qZcRqcv2MT5A",
        "colab_type": "code",
        "outputId": "a6fceb48-ed0a-4ad6-f2d6-f813844ebf6b",
        "colab": {
          "base_uri": "https://localhost:8080/",
          "height": 51
        }
      },
      "source": [
        "# AVERAGE USAGE\n",
        "print(\"MEAN: \",df_participants[\"AvgTimeSpent\"].mean())\n",
        "print(\"STD: \",df_participants[\"AvgTimeSpent\"].std())"
      ],
      "execution_count": 83,
      "outputs": [
        {
          "output_type": "stream",
          "text": [
            "MEAN:  7.0\n",
            "STD:  3.723179953415795\n"
          ],
          "name": "stdout"
        }
      ]
    },
    {
      "cell_type": "code",
      "metadata": {
        "id": "14sBgUmWMIYk",
        "colab_type": "code",
        "outputId": "33f936f4-026e-4a80-e966-c5107fe40e6a",
        "colab": {
          "base_uri": "https://localhost:8080/",
          "height": 51
        }
      },
      "source": [
        "# AVERAGE TYPING SPEED\n",
        "print(\"MEAN: \",df_participants[\"WordsPerMinute\"].mean())\n",
        "print(\"STD: \",df_participants[\"WordsPerMinute\"].std())"
      ],
      "execution_count": 84,
      "outputs": [
        {
          "output_type": "stream",
          "text": [
            "MEAN:  34.9\n",
            "STD:  9.531617078855561\n"
          ],
          "name": "stdout"
        }
      ]
    },
    {
      "cell_type": "code",
      "metadata": {
        "id": "-kKPRTVKMs3D",
        "colab_type": "code",
        "outputId": "de15c4ed-49c6-4f17-bcaf-b39a2a2f26f7",
        "colab": {
          "base_uri": "https://localhost:8080/",
          "height": 51
        }
      },
      "source": [
        "# AVERAGE ERROR RATE\n",
        "print(\"MEAN: \",df_participants[\"MeanError\"].mean())\n",
        "print(\"STD: \",df_participants[\"MeanError\"].std())"
      ],
      "execution_count": 85,
      "outputs": [
        {
          "output_type": "stream",
          "text": [
            "MEAN:  5.735205992738709\n",
            "STD:  2.6533760931418673\n"
          ],
          "name": "stdout"
        }
      ]
    },
    {
      "cell_type": "markdown",
      "metadata": {
        "id": "-6gF5gdGaK1d",
        "colab_type": "text"
      },
      "source": [
        "## Postures"
      ]
    },
    {
      "cell_type": "code",
      "metadata": {
        "id": "pk0mHXTh0bUm",
        "colab_type": "code",
        "colab": {
          "base_uri": "https://localhost:8080/",
          "height": 204
        },
        "outputId": "fd1fbb40-47a2-4323-d92d-973f2daeaa44"
      },
      "source": [
        "pd.melt(df_postures, id_vars=['ParticipantID'], var_name='posture', value_name='score').tail()"
      ],
      "execution_count": 86,
      "outputs": [
        {
          "output_type": "execute_result",
          "data": {
            "text/html": [
              "<div>\n",
              "<style scoped>\n",
              "    .dataframe tbody tr th:only-of-type {\n",
              "        vertical-align: middle;\n",
              "    }\n",
              "\n",
              "    .dataframe tbody tr th {\n",
              "        vertical-align: top;\n",
              "    }\n",
              "\n",
              "    .dataframe thead th {\n",
              "        text-align: right;\n",
              "    }\n",
              "</style>\n",
              "<table border=\"1\" class=\"dataframe\">\n",
              "  <thead>\n",
              "    <tr style=\"text-align: right;\">\n",
              "      <th></th>\n",
              "      <th>ParticipantID</th>\n",
              "      <th>posture</th>\n",
              "      <th>score</th>\n",
              "    </tr>\n",
              "  </thead>\n",
              "  <tbody>\n",
              "    <tr>\n",
              "      <th>2155</th>\n",
              "      <td>participant_26</td>\n",
              "      <td>Preference_Beside_Right_Palm_180</td>\n",
              "      <td>2</td>\n",
              "    </tr>\n",
              "    <tr>\n",
              "      <th>2156</th>\n",
              "      <td>participant_27</td>\n",
              "      <td>Preference_Beside_Right_Palm_180</td>\n",
              "      <td>4</td>\n",
              "    </tr>\n",
              "    <tr>\n",
              "      <th>2157</th>\n",
              "      <td>participant_28</td>\n",
              "      <td>Preference_Beside_Right_Palm_180</td>\n",
              "      <td>2</td>\n",
              "    </tr>\n",
              "    <tr>\n",
              "      <th>2158</th>\n",
              "      <td>participant_29</td>\n",
              "      <td>Preference_Beside_Right_Palm_180</td>\n",
              "      <td>1</td>\n",
              "    </tr>\n",
              "    <tr>\n",
              "      <th>2159</th>\n",
              "      <td>participant_30</td>\n",
              "      <td>Preference_Beside_Right_Palm_180</td>\n",
              "      <td>3</td>\n",
              "    </tr>\n",
              "  </tbody>\n",
              "</table>\n",
              "</div>"
            ],
            "text/plain": [
              "       ParticipantID                           posture  score\n",
              "2155  participant_26  Preference_Beside_Right_Palm_180      2\n",
              "2156  participant_27  Preference_Beside_Right_Palm_180      4\n",
              "2157  participant_28  Preference_Beside_Right_Palm_180      2\n",
              "2158  participant_29  Preference_Beside_Right_Palm_180      1\n",
              "2159  participant_30  Preference_Beside_Right_Palm_180      3"
            ]
          },
          "metadata": {
            "tags": []
          },
          "execution_count": 86
        }
      ]
    },
    {
      "cell_type": "code",
      "metadata": {
        "id": "DLMhsuzFhMUJ",
        "colab_type": "code",
        "outputId": "57fb08c3-37d4-4cb8-8377-804015a489c0",
        "colab": {
          "base_uri": "https://localhost:8080/",
          "height": 204
        }
      },
      "source": [
        "# creating a blank series \n",
        "surface_list = pd.Series([]) \n",
        "orientation_list = pd.Series([]) \n",
        "form_list = pd.Series([]) \n",
        "dexterity_list = pd.Series([]) \n",
        "rating_list = pd.Series([]) \n",
        "\n",
        "df_postures_stats = pd.melt(df_postures, id_vars=['ParticipantID'], var_name='posture', value_name='score')\n",
        "participant_handedness={\n",
        "    \"participant_1\":\"Right\",\n",
        "    \"participant_2\":\"Right\",\n",
        "    \"participant_3\":\"Right\",\n",
        "    \"participant_4\":\"Left\",\n",
        "    \"participant_5\":\"Right\",\n",
        "    \"participant_6\":\"Left\",\n",
        "    \"participant_7\":\"Right\",\n",
        "    \"participant_8\":\"Left\",\n",
        "    \"participant_9\":\"Right\",\n",
        "    \"participant_10\":\"Right\",\n",
        "    \"participant_11\":\"Right\",\n",
        "    \"participant_12\":\"Right\",\n",
        "    \"participant_13\":\"Right\",\n",
        "    \"participant_14\":\"Right\",\n",
        "    \"participant_15\":\"Right\",\n",
        "    \"participant_16\":\"Right\",\n",
        "    \"participant_17\":\"Right\",\n",
        "    \"participant_18\":\"Left\",\n",
        "    \"participant_19\":\"Left\",\n",
        "    \"participant_20\":\"Right\",\n",
        "    \"participant_21\":\"Right\",\n",
        "    \"participant_22\":\"Right\",\n",
        "    \"participant_23\":\"Right\",\n",
        "    \"participant_24\":\"Right\",\n",
        "    \"participant_25\":\"Right\",\n",
        "    \"participant_26\":\"Right\",\n",
        "    \"participant_27\":\"Right\",\n",
        "    \"participant_28\":\"Right\",\n",
        "    \"participant_29\":\"Right\",\n",
        "    \"participant_30\":\"Right\",\n",
        "}\n",
        "for i in range(len(df_postures_stats)): \n",
        "  independent_variable = df_postures_stats[\"posture\"][i].split(\"_\")\n",
        "  rating_list[i] = independent_variable[0]\n",
        "  surface_list[i] = independent_variable[1]\n",
        "#   print(df_postures_stats[\"ParticipantID\"][i])\n",
        "  dexterity_list[i] = \"Dominant\" if independent_variable[2] == participant_handedness[df_postures_stats[\"ParticipantID\"][i]] else \"Non Dominant\"\n",
        "  form_list[i] = \"Close\" if independent_variable[3] == \"Fist\" else \"Open\"\n",
        "  orientation_list[i] = independent_variable[4]\n",
        "\n",
        "  \n",
        "df_postures_stats.insert(3, \"surface\", surface_list)\n",
        "df_postures_stats.insert(4, \"dexterity\", dexterity_list)\n",
        "df_postures_stats.insert(5, \"form\", form_list)\n",
        "df_postures_stats.insert(6, \"orientation\", orientation_list)\n",
        "df_postures_stats.insert(7, \"rating\", rating_list)\n",
        "df_postures_stats[\"posture\"] = df_postures_stats[\"posture\"].map(lambda x: x.lstrip('Comfort_').lstrip('Preference_')) #[i.replace(\"Comfort_|Preference_\",\"\") for i in df_postures_stats[\"posture\"]]\n",
        "df_postures_stats.head()\n"
      ],
      "execution_count": 89,
      "outputs": [
        {
          "output_type": "execute_result",
          "data": {
            "text/html": [
              "<div>\n",
              "<style scoped>\n",
              "    .dataframe tbody tr th:only-of-type {\n",
              "        vertical-align: middle;\n",
              "    }\n",
              "\n",
              "    .dataframe tbody tr th {\n",
              "        vertical-align: top;\n",
              "    }\n",
              "\n",
              "    .dataframe thead th {\n",
              "        text-align: right;\n",
              "    }\n",
              "</style>\n",
              "<table border=\"1\" class=\"dataframe\">\n",
              "  <thead>\n",
              "    <tr style=\"text-align: right;\">\n",
              "      <th></th>\n",
              "      <th>ParticipantID</th>\n",
              "      <th>posture</th>\n",
              "      <th>score</th>\n",
              "      <th>surface</th>\n",
              "      <th>dexterity</th>\n",
              "      <th>form</th>\n",
              "      <th>orientation</th>\n",
              "      <th>rating</th>\n",
              "    </tr>\n",
              "  </thead>\n",
              "  <tbody>\n",
              "    <tr>\n",
              "      <th>0</th>\n",
              "      <td>participant_1</td>\n",
              "      <td>Below_Left_Fist_0</td>\n",
              "      <td>3</td>\n",
              "      <td>Below</td>\n",
              "      <td>Non Dominant</td>\n",
              "      <td>Close</td>\n",
              "      <td>0</td>\n",
              "      <td>Comfort</td>\n",
              "    </tr>\n",
              "    <tr>\n",
              "      <th>1</th>\n",
              "      <td>participant_2</td>\n",
              "      <td>Below_Left_Fist_0</td>\n",
              "      <td>4</td>\n",
              "      <td>Below</td>\n",
              "      <td>Non Dominant</td>\n",
              "      <td>Close</td>\n",
              "      <td>0</td>\n",
              "      <td>Comfort</td>\n",
              "    </tr>\n",
              "    <tr>\n",
              "      <th>2</th>\n",
              "      <td>participant_3</td>\n",
              "      <td>Below_Left_Fist_0</td>\n",
              "      <td>4</td>\n",
              "      <td>Below</td>\n",
              "      <td>Non Dominant</td>\n",
              "      <td>Close</td>\n",
              "      <td>0</td>\n",
              "      <td>Comfort</td>\n",
              "    </tr>\n",
              "    <tr>\n",
              "      <th>3</th>\n",
              "      <td>participant_4</td>\n",
              "      <td>Below_Left_Fist_0</td>\n",
              "      <td>4</td>\n",
              "      <td>Below</td>\n",
              "      <td>Dominant</td>\n",
              "      <td>Close</td>\n",
              "      <td>0</td>\n",
              "      <td>Comfort</td>\n",
              "    </tr>\n",
              "    <tr>\n",
              "      <th>4</th>\n",
              "      <td>participant_5</td>\n",
              "      <td>Below_Left_Fist_0</td>\n",
              "      <td>2</td>\n",
              "      <td>Below</td>\n",
              "      <td>Non Dominant</td>\n",
              "      <td>Close</td>\n",
              "      <td>0</td>\n",
              "      <td>Comfort</td>\n",
              "    </tr>\n",
              "  </tbody>\n",
              "</table>\n",
              "</div>"
            ],
            "text/plain": [
              "   ParticipantID            posture  score  ...   form orientation   rating\n",
              "0  participant_1  Below_Left_Fist_0      3  ...  Close           0  Comfort\n",
              "1  participant_2  Below_Left_Fist_0      4  ...  Close           0  Comfort\n",
              "2  participant_3  Below_Left_Fist_0      4  ...  Close           0  Comfort\n",
              "3  participant_4  Below_Left_Fist_0      4  ...  Close           0  Comfort\n",
              "4  participant_5  Below_Left_Fist_0      2  ...  Close           0  Comfort\n",
              "\n",
              "[5 rows x 8 columns]"
            ]
          },
          "metadata": {
            "tags": []
          },
          "execution_count": 89
        }
      ]
    },
    {
      "cell_type": "code",
      "metadata": {
        "id": "D_pIe8OkFMc4",
        "colab_type": "code",
        "outputId": "e8e90d5f-22dc-4319-d9e3-d1cd4abca1f3",
        "colab": {
          "base_uri": "https://localhost:8080/",
          "height": 170
        }
      },
      "source": [
        "df_postures_stats_melted = pd.melt(df_postures_stats,id_vars=[\"ParticipantID\",\"surface\",\"score\",\"orientation\",\"dexterity\",\"form\", \"rating\"]).groupby(\"value\").apply(lambda x: (x.sort_values('score', ascending=False)))\n",
        "print(df_postures_stats_melted.head())\n",
        "# print(df_orientation_postures_stats.head())\n",
        "# print(df_handform_postures_stats.head())\n",
        "# print(df_dexterity_postures_stats.head())\n"
      ],
      "execution_count": 90,
      "outputs": [
        {
          "output_type": "stream",
          "text": [
            "                       ParticipantID surface  ...  variable              value\n",
            "value                                         ...                             \n",
            "Below_Left_Fist_0 20  participant_21   Below  ...   posture  Below_Left_Fist_0\n",
            "                  12  participant_13   Below  ...   posture  Below_Left_Fist_0\n",
            "                  42  participant_13   Below  ...   posture  Below_Left_Fist_0\n",
            "                  35   participant_6   Below  ...   posture  Below_Left_Fist_0\n",
            "                  45  participant_16   Below  ...   posture  Below_Left_Fist_0\n",
            "\n",
            "[5 rows x 9 columns]\n"
          ],
          "name": "stdout"
        }
      ]
    },
    {
      "cell_type": "code",
      "metadata": {
        "colab_type": "code",
        "outputId": "5273eb8b-b4fd-4bd3-cd59-bba73456240a",
        "id": "_CmFL9Xf4rwA",
        "colab": {
          "base_uri": "https://localhost:8080/",
          "height": 580
        }
      },
      "source": [
        "sns.set(style=\"whitegrid\")\n",
        "plt.figure(figsize=(16,4))\n",
        "plt.xticks(rotation=90)\n",
        "ax = sns.barplot(x=\"posture\", y=\"score\", hue=\"rating\", data=df_postures_stats, capsize=0.1)\n",
        "ax.legend(loc='lower right')"
      ],
      "execution_count": 91,
      "outputs": [
        {
          "output_type": "execute_result",
          "data": {
            "text/plain": [
              "<matplotlib.legend.Legend at 0x7ff1fbb5b518>"
            ]
          },
          "metadata": {
            "tags": []
          },
          "execution_count": 91
        },
        {
          "output_type": "display_data",
          "data": {
            "image/png": "[encoded data removed]",
            "text/plain": [
              "<Figure size 1600x400 with 1 Axes>"
            ]
          },
          "metadata": {
            "tags": []
          }
        }
      ]
    },
    {
      "cell_type": "code",
      "metadata": {
        "id": "MTRe5WOJrkI8",
        "colab_type": "code",
        "colab": {
          "base_uri": "https://localhost:8080/",
          "height": 617
        },
        "outputId": "15938d06-a769-40d0-af90-acbd0bd2bb6f"
      },
      "source": [
        "sns.set(style=\"whitegrid\")\n",
        "plt.figure(figsize=(6,4))\n",
        "ax = sns.barplot(x=\"surface\", y=\"score\", hue=\"rating\", data=df_postures_stats, capsize=0.1, order= [\"Below\", \"Beside\", \"On\"])\n",
        "ax.legend(loc='lower right')\n",
        "print(\"comfort \\n\", df_postures_stats.loc[df_postures_stats[\"rating\"]==\"Comfort\"].groupby(\"surface\").mean())\n",
        "print(\"-----\")\n",
        "print(\"preference \\n\", df_postures_stats.loc[df_postures_stats[\"rating\"]==\"Preference\"].groupby(\"surface\").mean())"
      ],
      "execution_count": 92,
      "outputs": [
        {
          "output_type": "stream",
          "text": [
            "comfort \n",
            "             score\n",
            "surface          \n",
            "Below    3.433333\n",
            "Beside   3.108333\n",
            "On       3.211111\n",
            "-----\n",
            "preference \n",
            "             score\n",
            "surface          \n",
            "Below    3.352778\n",
            "Beside   2.883333\n",
            "On       3.202778\n"
          ],
          "name": "stdout"
        },
        {
          "output_type": "display_data",
          "data": {
            "image/png": "[encoded data removed]",
            "text/plain": [
              "<Figure size 600x400 with 1 Axes>"
            ]
          },
          "metadata": {
            "tags": []
          }
        }
      ]
    },
    {
      "cell_type": "code",
      "metadata": {
        "id": "EorCsdohGavQ",
        "colab_type": "code",
        "outputId": "72559a4a-c1bf-433c-df92-06e8c376dedf",
        "colab": {
          "base_uri": "https://localhost:8080/",
          "height": 617
        }
      },
      "source": [
        "sns.set(style=\"whitegrid\")\n",
        "plt.figure(figsize=(6,4))\n",
        "ax = sns.barplot(x=\"orientation\", y=\"score\", hue=\"rating\", data=df_postures_stats, capsize=0.1)\n",
        "ax.legend(loc='lower right')\n",
        "print(\"comfort \\n\", df_postures_stats.loc[df_postures_stats[\"rating\"]==\"Comfort\"].groupby(\"orientation\").mean())\n",
        "print(\"-----\")\n",
        "print(\"preference \\n\", df_postures_stats.loc[df_postures_stats[\"rating\"]==\"Preference\"].groupby(\"orientation\").mean())"
      ],
      "execution_count": 93,
      "outputs": [
        {
          "output_type": "stream",
          "text": [
            "comfort \n",
            "                 score\n",
            "orientation          \n",
            "0            3.847222\n",
            "180          2.166667\n",
            "90           3.738889\n",
            "-----\n",
            "preference \n",
            "                 score\n",
            "orientation          \n",
            "0            3.644444\n",
            "180          2.266667\n",
            "90           3.527778\n"
          ],
          "name": "stdout"
        },
        {
          "output_type": "display_data",
          "data": {
            "image/png": "[encoded data removed]",
            "text/plain": [
              "<Figure size 600x400 with 1 Axes>"
            ]
          },
          "metadata": {
            "tags": []
          }
        }
      ]
    },
    {
      "cell_type": "code",
      "metadata": {
        "id": "VKPXVUGJqK7F",
        "colab_type": "code",
        "outputId": "9ddb0ea5-8393-4b95-f23e-54ba5d169dcc",
        "colab": {
          "base_uri": "https://localhost:8080/",
          "height": 583
        }
      },
      "source": [
        "sns.set(style=\"whitegrid\")\n",
        "plt.figure(figsize=(6,4))\n",
        "ax = sns.barplot(x=\"dexterity\", y=\"score\", hue=\"rating\", data=df_postures_stats, capsize=0.1)\n",
        "ax.legend(loc='lower right')\n",
        "print(\"comfort \\n\", df_postures_stats.loc[df_postures_stats[\"rating\"]==\"Comfort\"].groupby(\"dexterity\").mean())\n",
        "print(\"-----\")\n",
        "print(\"preference \\n\", df_postures_stats.loc[df_postures_stats[\"rating\"]==\"Preference\"].groupby(\"dexterity\").mean())"
      ],
      "execution_count": 94,
      "outputs": [
        {
          "output_type": "stream",
          "text": [
            "comfort \n",
            "                  score\n",
            "dexterity             \n",
            "Dominant      3.329630\n",
            "Non Dominant  3.172222\n",
            "-----\n",
            "preference \n",
            "                  score\n",
            "dexterity             \n",
            "Dominant      3.218519\n",
            "Non Dominant  3.074074\n"
          ],
          "name": "stdout"
        },
        {
          "output_type": "display_data",
          "data": {
            "image/png": "[encoded data removed]",
            "text/plain": [
              "<Figure size 600x400 with 1 Axes>"
            ]
          },
          "metadata": {
            "tags": []
          }
        }
      ]
    },
    {
      "cell_type": "code",
      "metadata": {
        "id": "a9ebh8uMGxon",
        "colab_type": "code",
        "outputId": "fd7458ce-7e21-4cf9-bca1-e219e6fdca5b",
        "colab": {
          "base_uri": "https://localhost:8080/",
          "height": 583
        }
      },
      "source": [
        "sns.set(style=\"whitegrid\")\n",
        "plt.figure(figsize=(6,4))\n",
        "ax = sns.barplot(x=\"form\", y=\"score\", hue=\"rating\", data=df_postures_stats, capsize=0.1)\n",
        "ax.legend(loc='lower right')\n",
        "print(\"comfort \\n\", df_postures_stats.loc[df_postures_stats[\"rating\"]==\"Comfort\"].groupby(\"form\").mean())\n",
        "print(\"-----\")\n",
        "print(\"preference \\n\", df_postures_stats.loc[df_postures_stats[\"rating\"]==\"Preference\"].groupby(\"form\").mean())"
      ],
      "execution_count": 95,
      "outputs": [
        {
          "output_type": "stream",
          "text": [
            "comfort \n",
            "           score\n",
            "form           \n",
            "Close  3.137037\n",
            "Open   3.364815\n",
            "-----\n",
            "preference \n",
            "           score\n",
            "form           \n",
            "Close  3.035185\n",
            "Open   3.257407\n"
          ],
          "name": "stdout"
        },
        {
          "output_type": "display_data",
          "data": {
            "image/png": "[encoded data removed]",
            "text/plain": [
              "<Figure size 600x400 with 1 Axes>"
            ]
          },
          "metadata": {
            "tags": []
          }
        }
      ]
    },
    {
      "cell_type": "markdown",
      "metadata": {
        "id": "Vl6rti5mw94s",
        "colab_type": "text"
      },
      "source": [
        "**To do**\n",
        "\n",
        "- ~Compare postures across different dimensions (SURFACE, WRIST_ORIENTATION, HAND_FORM & DEXTERITY)~\n",
        "- Give design recomendations based on above^^"
      ]
    },
    {
      "cell_type": "code",
      "metadata": {
        "id": "6VA0r-7vqySV",
        "colab_type": "code",
        "colab": {
          "base_uri": "https://localhost:8080/",
          "height": 49
        },
        "outputId": "1a4e0ef0-6fe0-45bf-99ea-98b8a10641c8"
      },
      "source": [
        "# \"Preference_Beside_Right_Fist_Side\"\n",
        "# df_postures_stats.loc[(df_postures_stats[\"ParticipantID\"] == \"participant_4\") & (df_postures_stats[\"posture\"] == \"Beside_Right_Fist_90\")]\n",
        "# df_postures_stats.head()\n",
        "df_postures_stats.loc[(df_postures_stats[\"score\"].isnull())]"
      ],
      "execution_count": 96,
      "outputs": [
        {
          "output_type": "execute_result",
          "data": {
            "text/html": [
              "<div>\n",
              "<style scoped>\n",
              "    .dataframe tbody tr th:only-of-type {\n",
              "        vertical-align: middle;\n",
              "    }\n",
              "\n",
              "    .dataframe tbody tr th {\n",
              "        vertical-align: top;\n",
              "    }\n",
              "\n",
              "    .dataframe thead th {\n",
              "        text-align: right;\n",
              "    }\n",
              "</style>\n",
              "<table border=\"1\" class=\"dataframe\">\n",
              "  <thead>\n",
              "    <tr style=\"text-align: right;\">\n",
              "      <th></th>\n",
              "      <th>ParticipantID</th>\n",
              "      <th>posture</th>\n",
              "      <th>score</th>\n",
              "      <th>surface</th>\n",
              "      <th>dexterity</th>\n",
              "      <th>form</th>\n",
              "      <th>orientation</th>\n",
              "      <th>rating</th>\n",
              "    </tr>\n",
              "  </thead>\n",
              "  <tbody>\n",
              "  </tbody>\n",
              "</table>\n",
              "</div>"
            ],
            "text/plain": [
              "Empty DataFrame\n",
              "Columns: [ParticipantID, posture, score, surface, dexterity, form, orientation, rating]\n",
              "Index: []"
            ]
          },
          "metadata": {
            "tags": []
          },
          "execution_count": 96
        }
      ]
    },
    {
      "cell_type": "code",
      "metadata": {
        "id": "JlihPwvWxNhm",
        "colab_type": "code",
        "colab": {
          "base_uri": "https://localhost:8080/",
          "height": 601
        },
        "outputId": "e4973faf-e47b-43d5-a0e5-90ac7dafc0d2"
      },
      "source": [
        "sns.set(style=\"whitegrid\")\n",
        "\n",
        "# Set up the matplotlib figure\n",
        "f, axes = plt.subplots(2, 2, figsize=(6, 6), sharey=True)\n",
        "# sns.despine(top=True, right=True)\n",
        "# sns.set_style(\"whitegrid\", {'grid.linestyle': '--'})\n",
        "\n",
        "# Generate a random univariate dataset\n",
        "# d = rs.normal(size=100)\n",
        "\n",
        "# Plot a simple histogram with binsize determined automatically\n",
        "sns.barplot(x=\"form\", y=\"score\", hue=\"rating\", data=df_postures_stats, capsize=0.1, ax=axes[0, 0])\n",
        "ax1 = sns.barplot(x=\"form\", y=\"score\", hue=\"rating\", data=df_postures_stats, capsize=0.1, ax=axes[0, 0])\n",
        "ax2 = sns.barplot(x=\"dexterity\", y=\"score\", hue=\"rating\", data=df_postures_stats, capsize=0.1, ax=axes[0, 1])\n",
        "ax3 = sns.barplot(x=\"orientation\", y=\"score\", hue=\"rating\", data=df_postures_stats, capsize=0.1, ax=axes[1, 0], order=[\"0\",\"90\", \"180\"])\n",
        "ax4 = sns.barplot(x=\"surface\", y=\"score\", hue=\"rating\", data=df_postures_stats, capsize=0.1, ax=axes[1, 1])\n",
        "\n",
        "ax1.get_legend().set_visible(False)\n",
        "ax2.get_legend().set_visible(False)\n",
        "ax3.get_legend().set_visible(False)\n",
        "ax4.get_legend().set_visible(False)\n",
        "ax2.set_ylabel('') \n",
        "ax4.set_ylabel('') \n",
        "\n",
        "ax2.legend(loc='upper right', bbox_to_anchor=(1, 1), ncol=1)\n",
        "\n",
        "plt.setp(axes, yticks=[0,1,2,3,4,5])\n",
        "plt.tight_layout()"
      ],
      "execution_count": 106,
      "outputs": [
        {
          "output_type": "display_data",
          "data": {
            "image/png": "[encoded data removed]",
            "text/plain": [
              "<Figure size 600x600 with 4 Axes>"
            ]
          },
          "metadata": {
            "tags": []
          }
        }
      ]
    },
    {
      "cell_type": "code",
      "metadata": {
        "id": "VRQHEc2dGuM-",
        "colab_type": "code",
        "colab": {
          "base_uri": "https://localhost:8080/",
          "height": 601
        },
        "outputId": "e6806d16-ef42-4572-de01-d4b638d9f103"
      },
      "source": [
        "sns.set(style=\"whitegrid\")\n",
        "\n",
        "# Set up the matplotlib figure\n",
        "f, axes = plt.subplots(2, 2, figsize=(6, 6), sharey=True)\n",
        "# sns.despine(top=True, right=True)\n",
        "# sns.set_style(\"whitegrid\", {'grid.linestyle': '--'})\n",
        "\n",
        "# Generate a random univariate dataset\n",
        "# d = rs.normal(size=100)\n",
        "\n",
        "# Plot a simple histogram with binsize determined automatically\n",
        "sns.barplot(x=\"form\", y=\"score\", hue=\"rating\", data=df_postures_stats, capsize=0.1, ax=axes[0, 0])\n",
        "ax1 = sns.barplot(x=\"form\", y=\"score\", hue=\"rating\", data=df_postures_stats, capsize=0.1, ax=axes[0, 0])\n",
        "ax2 = sns.barplot(x=\"dexterity\", y=\"score\", hue=\"rating\", data=df_postures_stats, capsize=0.1, ax=axes[0, 1])\n",
        "ax3 = sns.barplot(x=\"orientation\", y=\"score\", hue=\"rating\", data=df_postures_stats, capsize=0.1, ax=axes[1, 0], order=[\"0\",\"90\", \"180\"])\n",
        "ax4 = sns.barplot(x=\"surface\", y=\"score\", hue=\"rating\", data=df_postures_stats, capsize=0.1, ax=axes[1, 1])\n",
        "\n",
        "ax1.get_legend().set_visible(False)\n",
        "ax2.get_legend().set_visible(False)\n",
        "ax3.get_legend().set_visible(False)\n",
        "ax4.get_legend().set_visible(False)\n",
        "ax2.set_ylabel('') \n",
        "ax4.set_ylabel('') \n",
        "\n",
        "plt.setp(axes, yticks=[0,1,2,3,4,5])\n",
        "plt.tight_layout()"
      ],
      "execution_count": 98,
      "outputs": [
        {
          "output_type": "display_data",
          "data": {
            "image/png": "[encoded data removed]",
            "text/plain": [
              "<Figure size 600x600 with 4 Axes>"
            ]
          },
          "metadata": {
            "tags": []
          }
        }
      ]
    },
    {
      "cell_type": "code",
      "metadata": {
        "id": "iihE4xyKuwNM",
        "colab_type": "code",
        "colab": {}
      },
      "source": [
        "df_postures_stats.to_csv('df_postures_stats.csv') \n",
        "files.download('df_postures_stats.csv')"
      ],
      "execution_count": 0,
      "outputs": []
    },
    {
      "cell_type": "code",
      "metadata": {
        "id": "Ei8RmQEJxQBh",
        "colab_type": "code",
        "colab": {
          "base_uri": "https://localhost:8080/",
          "height": 204
        },
        "outputId": "130a6334-799f-42ee-b7dc-429e57fedab7"
      },
      "source": [
        "df_postures_stats['ParticipantID'] = [c.replace(\"participant_\",\"\") for c in df_postures_stats['ParticipantID'].astype(str)]\n",
        "df_postures_stats.head()"
      ],
      "execution_count": 25,
      "outputs": [
        {
          "output_type": "execute_result",
          "data": {
            "text/html": [
              "<div>\n",
              "<style scoped>\n",
              "    .dataframe tbody tr th:only-of-type {\n",
              "        vertical-align: middle;\n",
              "    }\n",
              "\n",
              "    .dataframe tbody tr th {\n",
              "        vertical-align: top;\n",
              "    }\n",
              "\n",
              "    .dataframe thead th {\n",
              "        text-align: right;\n",
              "    }\n",
              "</style>\n",
              "<table border=\"1\" class=\"dataframe\">\n",
              "  <thead>\n",
              "    <tr style=\"text-align: right;\">\n",
              "      <th></th>\n",
              "      <th>ParticipantID</th>\n",
              "      <th>posture</th>\n",
              "      <th>score</th>\n",
              "      <th>surface</th>\n",
              "      <th>dexterity</th>\n",
              "      <th>form</th>\n",
              "      <th>orientation</th>\n",
              "      <th>rating</th>\n",
              "    </tr>\n",
              "  </thead>\n",
              "  <tbody>\n",
              "    <tr>\n",
              "      <th>0</th>\n",
              "      <td>1</td>\n",
              "      <td>Below_Left_Fist_0</td>\n",
              "      <td>3</td>\n",
              "      <td>Below</td>\n",
              "      <td>Non Dominant</td>\n",
              "      <td>Close</td>\n",
              "      <td>0</td>\n",
              "      <td>Comfort</td>\n",
              "    </tr>\n",
              "    <tr>\n",
              "      <th>1</th>\n",
              "      <td>2</td>\n",
              "      <td>Below_Left_Fist_0</td>\n",
              "      <td>4</td>\n",
              "      <td>Below</td>\n",
              "      <td>Non Dominant</td>\n",
              "      <td>Close</td>\n",
              "      <td>0</td>\n",
              "      <td>Comfort</td>\n",
              "    </tr>\n",
              "    <tr>\n",
              "      <th>2</th>\n",
              "      <td>3</td>\n",
              "      <td>Below_Left_Fist_0</td>\n",
              "      <td>4</td>\n",
              "      <td>Below</td>\n",
              "      <td>Non Dominant</td>\n",
              "      <td>Close</td>\n",
              "      <td>0</td>\n",
              "      <td>Comfort</td>\n",
              "    </tr>\n",
              "    <tr>\n",
              "      <th>3</th>\n",
              "      <td>4</td>\n",
              "      <td>Below_Left_Fist_0</td>\n",
              "      <td>4</td>\n",
              "      <td>Below</td>\n",
              "      <td>Dominant</td>\n",
              "      <td>Close</td>\n",
              "      <td>0</td>\n",
              "      <td>Comfort</td>\n",
              "    </tr>\n",
              "    <tr>\n",
              "      <th>4</th>\n",
              "      <td>5</td>\n",
              "      <td>Below_Left_Fist_0</td>\n",
              "      <td>2</td>\n",
              "      <td>Below</td>\n",
              "      <td>Non Dominant</td>\n",
              "      <td>Close</td>\n",
              "      <td>0</td>\n",
              "      <td>Comfort</td>\n",
              "    </tr>\n",
              "  </tbody>\n",
              "</table>\n",
              "</div>"
            ],
            "text/plain": [
              "  ParticipantID            posture  score  ...   form orientation   rating\n",
              "0             1  Below_Left_Fist_0      3  ...  Close           0  Comfort\n",
              "1             2  Below_Left_Fist_0      4  ...  Close           0  Comfort\n",
              "2             3  Below_Left_Fist_0      4  ...  Close           0  Comfort\n",
              "3             4  Below_Left_Fist_0      4  ...  Close           0  Comfort\n",
              "4             5  Below_Left_Fist_0      2  ...  Close           0  Comfort\n",
              "\n",
              "[5 rows x 8 columns]"
            ]
          },
          "metadata": {
            "tags": []
          },
          "execution_count": 25
        }
      ]
    },
    {
      "cell_type": "code",
      "metadata": {
        "id": "WjK88M_LqyCm",
        "colab_type": "code",
        "colab": {}
      },
      "source": [
        ""
      ],
      "execution_count": 0,
      "outputs": []
    },
    {
      "cell_type": "code",
      "metadata": {
        "id": "Zy7FjREMxrC_",
        "colab_type": "code",
        "colab": {
          "base_uri": "https://localhost:8080/",
          "height": 204
        },
        "outputId": "d689ab94-b34a-498e-94f0-16e0748b1c13"
      },
      "source": [
        "df_postures_stats.head()"
      ],
      "execution_count": 29,
      "outputs": [
        {
          "output_type": "execute_result",
          "data": {
            "text/html": [
              "<div>\n",
              "<style scoped>\n",
              "    .dataframe tbody tr th:only-of-type {\n",
              "        vertical-align: middle;\n",
              "    }\n",
              "\n",
              "    .dataframe tbody tr th {\n",
              "        vertical-align: top;\n",
              "    }\n",
              "\n",
              "    .dataframe thead th {\n",
              "        text-align: right;\n",
              "    }\n",
              "</style>\n",
              "<table border=\"1\" class=\"dataframe\">\n",
              "  <thead>\n",
              "    <tr style=\"text-align: right;\">\n",
              "      <th></th>\n",
              "      <th>ParticipantID</th>\n",
              "      <th>posture</th>\n",
              "      <th>score</th>\n",
              "      <th>surface</th>\n",
              "      <th>dexterity</th>\n",
              "      <th>form</th>\n",
              "      <th>orientation</th>\n",
              "      <th>rating</th>\n",
              "    </tr>\n",
              "  </thead>\n",
              "  <tbody>\n",
              "    <tr>\n",
              "      <th>0</th>\n",
              "      <td>1</td>\n",
              "      <td>Below_Left_Fist_0</td>\n",
              "      <td>3</td>\n",
              "      <td>Below</td>\n",
              "      <td>Non Dominant</td>\n",
              "      <td>Close</td>\n",
              "      <td>0</td>\n",
              "      <td>Comfort</td>\n",
              "    </tr>\n",
              "    <tr>\n",
              "      <th>1</th>\n",
              "      <td>2</td>\n",
              "      <td>Below_Left_Fist_0</td>\n",
              "      <td>4</td>\n",
              "      <td>Below</td>\n",
              "      <td>Non Dominant</td>\n",
              "      <td>Close</td>\n",
              "      <td>0</td>\n",
              "      <td>Comfort</td>\n",
              "    </tr>\n",
              "    <tr>\n",
              "      <th>2</th>\n",
              "      <td>3</td>\n",
              "      <td>Below_Left_Fist_0</td>\n",
              "      <td>4</td>\n",
              "      <td>Below</td>\n",
              "      <td>Non Dominant</td>\n",
              "      <td>Close</td>\n",
              "      <td>0</td>\n",
              "      <td>Comfort</td>\n",
              "    </tr>\n",
              "    <tr>\n",
              "      <th>3</th>\n",
              "      <td>4</td>\n",
              "      <td>Below_Left_Fist_0</td>\n",
              "      <td>4</td>\n",
              "      <td>Below</td>\n",
              "      <td>Dominant</td>\n",
              "      <td>Close</td>\n",
              "      <td>0</td>\n",
              "      <td>Comfort</td>\n",
              "    </tr>\n",
              "    <tr>\n",
              "      <th>4</th>\n",
              "      <td>5</td>\n",
              "      <td>Below_Left_Fist_0</td>\n",
              "      <td>2</td>\n",
              "      <td>Below</td>\n",
              "      <td>Non Dominant</td>\n",
              "      <td>Close</td>\n",
              "      <td>0</td>\n",
              "      <td>Comfort</td>\n",
              "    </tr>\n",
              "  </tbody>\n",
              "</table>\n",
              "</div>"
            ],
            "text/plain": [
              "  ParticipantID            posture  score  ...   form orientation   rating\n",
              "0             1  Below_Left_Fist_0      3  ...  Close           0  Comfort\n",
              "1             2  Below_Left_Fist_0      4  ...  Close           0  Comfort\n",
              "2             3  Below_Left_Fist_0      4  ...  Close           0  Comfort\n",
              "3             4  Below_Left_Fist_0      4  ...  Close           0  Comfort\n",
              "4             5  Below_Left_Fist_0      2  ...  Close           0  Comfort\n",
              "\n",
              "[5 rows x 8 columns]"
            ]
          },
          "metadata": {
            "tags": []
          },
          "execution_count": 29
        }
      ]
    },
    {
      "cell_type": "code",
      "metadata": {
        "id": "w8RMba9bzxUa",
        "colab_type": "code",
        "colab": {}
      },
      "source": [
        "columns = [\"ParticipantID\", \"posture\",\"surface\",\"dexterity\",\"form\",\"orientation\",\"comfort_rating\",\"preference_rating\"]\n",
        "df_postures_stats_new = pd.DataFrame(index=range(1080), columns=columns)\n",
        "df_comfort = df_postures_stats.loc[df_postures_stats[\"rating\"] == \"Comfort\"]\n",
        "df_comfort = df_comfort.reset_index()\n",
        "for i in range(len(df_comfort)):\n",
        "#   if i == len(df_comfort):\n",
        "#     break;\n",
        "  df_postures_stats_new[\"ParticipantID\"][i] = df_comfort[\"ParticipantID\"][i]\n",
        "  df_postures_stats_new[\"posture\"][i] = df_comfort[\"posture\"][i]\n",
        "  df_postures_stats_new[\"surface\"][i] = df_comfort[\"surface\"][i]\n",
        "  df_postures_stats_new[\"dexterity\"][i] = df_comfort[\"dexterity\"][i]\n",
        "  df_postures_stats_new[\"form\"][i] = df_comfort[\"form\"][i]\n",
        "  df_postures_stats_new[\"orientation\"][i] = df_comfort[\"orientation\"][i]\n",
        "  df_postures_stats_new[\"comfort_rating\"][i] = df_comfort[\"score\"][i]\n",
        "#   df_postures_stats_new[\"preference_rating\"][i] = df_comfort[\"preference_rating\"][i]\n",
        "#   print(i)\n",
        "\n",
        "# df_postures_stats_new\n",
        "# df_comfort"
      ],
      "execution_count": 0,
      "outputs": []
    },
    {
      "cell_type": "code",
      "metadata": {
        "id": "jAi5Ci_21Eev",
        "colab_type": "code",
        "colab": {}
      },
      "source": [
        "df_preference = df_postures_stats.loc[df_postures_stats[\"rating\"] == \"Preference\"]\n",
        "df_preference = df_preference.reset_index()\n",
        "df_preference\n",
        "for i in range(len(df_preference)):\n",
        "  if df_postures_stats_new[\"ParticipantID\"][i] == df_preference[\"ParticipantID\"][i]:\n",
        "    df_postures_stats_new[\"preference_rating\"][i] = df_preference[\"score\"][i]\n",
        "  else:\n",
        "    print(\"SHIT\")\n",
        "\n",
        "\n",
        "# df_comfort"
      ],
      "execution_count": 0,
      "outputs": []
    },
    {
      "cell_type": "code",
      "metadata": {
        "id": "R5Qljz465oxN",
        "colab_type": "code",
        "colab": {
          "base_uri": "https://localhost:8080/",
          "height": 204
        },
        "outputId": "04c18207-1179-449b-9c84-e1b0042d85d7"
      },
      "source": [
        "df_postures_stats_new.head()"
      ],
      "execution_count": 76,
      "outputs": [
        {
          "output_type": "execute_result",
          "data": {
            "text/html": [
              "<div>\n",
              "<style scoped>\n",
              "    .dataframe tbody tr th:only-of-type {\n",
              "        vertical-align: middle;\n",
              "    }\n",
              "\n",
              "    .dataframe tbody tr th {\n",
              "        vertical-align: top;\n",
              "    }\n",
              "\n",
              "    .dataframe thead th {\n",
              "        text-align: right;\n",
              "    }\n",
              "</style>\n",
              "<table border=\"1\" class=\"dataframe\">\n",
              "  <thead>\n",
              "    <tr style=\"text-align: right;\">\n",
              "      <th></th>\n",
              "      <th>ParticipantID</th>\n",
              "      <th>posture</th>\n",
              "      <th>surface</th>\n",
              "      <th>dexterity</th>\n",
              "      <th>form</th>\n",
              "      <th>orientation</th>\n",
              "      <th>comfort_rating</th>\n",
              "      <th>preference_rating</th>\n",
              "    </tr>\n",
              "  </thead>\n",
              "  <tbody>\n",
              "    <tr>\n",
              "      <th>0</th>\n",
              "      <td>1</td>\n",
              "      <td>Below_Left_Fist_0</td>\n",
              "      <td>Below</td>\n",
              "      <td>Non Dominant</td>\n",
              "      <td>Close</td>\n",
              "      <td>0</td>\n",
              "      <td>3</td>\n",
              "      <td>2</td>\n",
              "    </tr>\n",
              "    <tr>\n",
              "      <th>1</th>\n",
              "      <td>2</td>\n",
              "      <td>Below_Left_Fist_0</td>\n",
              "      <td>Below</td>\n",
              "      <td>Non Dominant</td>\n",
              "      <td>Close</td>\n",
              "      <td>0</td>\n",
              "      <td>4</td>\n",
              "      <td>4</td>\n",
              "    </tr>\n",
              "    <tr>\n",
              "      <th>2</th>\n",
              "      <td>3</td>\n",
              "      <td>Below_Left_Fist_0</td>\n",
              "      <td>Below</td>\n",
              "      <td>Non Dominant</td>\n",
              "      <td>Close</td>\n",
              "      <td>0</td>\n",
              "      <td>4</td>\n",
              "      <td>3</td>\n",
              "    </tr>\n",
              "    <tr>\n",
              "      <th>3</th>\n",
              "      <td>4</td>\n",
              "      <td>Below_Left_Fist_0</td>\n",
              "      <td>Below</td>\n",
              "      <td>Dominant</td>\n",
              "      <td>Close</td>\n",
              "      <td>0</td>\n",
              "      <td>4</td>\n",
              "      <td>4</td>\n",
              "    </tr>\n",
              "    <tr>\n",
              "      <th>4</th>\n",
              "      <td>5</td>\n",
              "      <td>Below_Left_Fist_0</td>\n",
              "      <td>Below</td>\n",
              "      <td>Non Dominant</td>\n",
              "      <td>Close</td>\n",
              "      <td>0</td>\n",
              "      <td>2</td>\n",
              "      <td>3</td>\n",
              "    </tr>\n",
              "  </tbody>\n",
              "</table>\n",
              "</div>"
            ],
            "text/plain": [
              "  ParticipantID            posture  ... comfort_rating preference_rating\n",
              "0             1  Below_Left_Fist_0  ...              3                 2\n",
              "1             2  Below_Left_Fist_0  ...              4                 4\n",
              "2             3  Below_Left_Fist_0  ...              4                 3\n",
              "3             4  Below_Left_Fist_0  ...              4                 4\n",
              "4             5  Below_Left_Fist_0  ...              2                 3\n",
              "\n",
              "[5 rows x 8 columns]"
            ]
          },
          "metadata": {
            "tags": []
          },
          "execution_count": 76
        }
      ]
    },
    {
      "cell_type": "code",
      "metadata": {
        "id": "SpR_WLfg5_2G",
        "colab_type": "code",
        "colab": {}
      },
      "source": [
        "df_postures_stats_new.to_csv('df_postures_stats.csv') \n",
        "files.download('df_postures_stats.csv')"
      ],
      "execution_count": 0,
      "outputs": []
    },
    {
      "cell_type": "code",
      "metadata": {
        "id": "LX31qTXA8Lpl",
        "colab_type": "code",
        "colab": {}
      },
      "source": [
        ""
      ],
      "execution_count": 0,
      "outputs": []
    }
  ]
}