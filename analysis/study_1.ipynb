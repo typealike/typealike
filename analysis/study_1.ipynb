{
  "nbformat": 4,
  "nbformat_minor": 0,
  "metadata": {
    "kernelspec": {
      "display_name": "Python 3",
      "language": "python",
      "name": "python3"
    },
    "language_info": {
      "codemirror_mode": {
        "name": "ipython",
        "version": 3
      },
      "file_extension": ".py",
      "mimetype": "text/x-python",
      "name": "python",
      "nbconvert_exporter": "python",
      "pygments_lexer": "ipython3",
      "version": "3.6.7"
    },
    "colab": {
      "name": "study_1.ipynb",
      "version": "0.3.2",
      "provenance": []
    }
  },
  "cells": [
    {
      "cell_type": "markdown",
      "metadata": {
        "id": "Cf7BC6tpPFZo",
        "colab_type": "text"
      },
      "source": [
        "# Imports"
      ]
    },
    {
      "cell_type": "code",
      "metadata": {
        "id": "ivaT6E025pjY",
        "colab_type": "code",
        "colab": {}
      },
      "source": [
        "import pandas as pd \n",
        "import requests\n",
        "import io"
      ],
      "execution_count": 0,
      "outputs": []
    },
    {
      "cell_type": "markdown",
      "metadata": {
        "id": "N7iiXKZhO7ep",
        "colab_type": "text"
      },
      "source": [
        "# Load Data"
      ]
    },
    {
      "cell_type": "code",
      "metadata": {
        "id": "5U3wK8FrPukR",
        "colab_type": "code",
        "colab": {}
      },
      "source": [
        ""
      ],
      "execution_count": 0,
      "outputs": []
    },
    {
      "cell_type": "code",
      "metadata": {
        "id": "z_jy5dIH5r34",
        "colab_type": "code",
        "outputId": "4240b2a9-567c-4ce8-e618-69db4cf4d8ab",
        "colab": {
          "base_uri": "https://localhost:8080/",
          "height": 258
        }
      },
      "source": [
        "BASE_URL = \"https://docs.google.com/spreadsheets/d/1VpLXByvbTfbgupDNWcUaBxdk72cW9FRExs0AgRVaF1g/export?format=csv&\"\n",
        "URL_DEMOGRAPHICS = BASE_URL+\"gid=611260429\"\n",
        "URL_PREFERENCES = BASE_URL+\"gid=961690077\"\n",
        "s = requests.get(URL_DEMOGRAPHICS, verify=False).content\n",
        "data = pd.read_csv(io.StringIO(s.decode('utf-8'))) \n",
        "data.head()"
      ],
      "execution_count": 27,
      "outputs": [
        {
          "output_type": "stream",
          "text": [
            "/usr/local/lib/python3.6/dist-packages/urllib3/connectionpool.py:847: InsecureRequestWarning: Unverified HTTPS request is being made. Adding certificate verification is strongly advised. See: https://urllib3.readthedocs.io/en/latest/advanced-usage.html#ssl-warnings\n",
            "  InsecureRequestWarning)\n"
          ],
          "name": "stderr"
        },
        {
          "output_type": "execute_result",
          "data": {
            "text/html": [
              "<div>\n",
              "<style scoped>\n",
              "    .dataframe tbody tr th:only-of-type {\n",
              "        vertical-align: middle;\n",
              "    }\n",
              "\n",
              "    .dataframe tbody tr th {\n",
              "        vertical-align: top;\n",
              "    }\n",
              "\n",
              "    .dataframe thead th {\n",
              "        text-align: right;\n",
              "    }\n",
              "</style>\n",
              "<table border=\"1\" class=\"dataframe\">\n",
              "  <thead>\n",
              "    <tr style=\"text-align: right;\">\n",
              "      <th></th>\n",
              "      <th>ParticipantID</th>\n",
              "      <th>Age</th>\n",
              "      <th>Gender</th>\n",
              "      <th>DominantHand</th>\n",
              "      <th>AvgTimeSpent</th>\n",
              "      <th>WordsPerMinute</th>\n",
              "      <th>WordCount</th>\n",
              "      <th>Errors</th>\n",
              "      <th>Time (sec)</th>\n",
              "    </tr>\n",
              "  </thead>\n",
              "  <tbody>\n",
              "    <tr>\n",
              "      <th>0</th>\n",
              "      <td>participant_1</td>\n",
              "      <td>27</td>\n",
              "      <td>Male</td>\n",
              "      <td>Right</td>\n",
              "      <td>10</td>\n",
              "      <td>57</td>\n",
              "      <td>89</td>\n",
              "      <td>26</td>\n",
              "      <td>NaN</td>\n",
              "    </tr>\n",
              "    <tr>\n",
              "      <th>1</th>\n",
              "      <td>participant_2</td>\n",
              "      <td>26</td>\n",
              "      <td>Male</td>\n",
              "      <td>Right</td>\n",
              "      <td>6</td>\n",
              "      <td>38</td>\n",
              "      <td>89</td>\n",
              "      <td>13</td>\n",
              "      <td>NaN</td>\n",
              "    </tr>\n",
              "    <tr>\n",
              "      <th>2</th>\n",
              "      <td>participant_3</td>\n",
              "      <td>19</td>\n",
              "      <td>Male</td>\n",
              "      <td>Right</td>\n",
              "      <td>1</td>\n",
              "      <td>31</td>\n",
              "      <td>89</td>\n",
              "      <td>45</td>\n",
              "      <td>NaN</td>\n",
              "    </tr>\n",
              "    <tr>\n",
              "      <th>3</th>\n",
              "      <td>participant_4</td>\n",
              "      <td>22</td>\n",
              "      <td>Female</td>\n",
              "      <td>Left</td>\n",
              "      <td>8</td>\n",
              "      <td>47</td>\n",
              "      <td>89</td>\n",
              "      <td>43</td>\n",
              "      <td>NaN</td>\n",
              "    </tr>\n",
              "    <tr>\n",
              "      <th>4</th>\n",
              "      <td>participant_5</td>\n",
              "      <td>22</td>\n",
              "      <td>Male</td>\n",
              "      <td>Right</td>\n",
              "      <td>2</td>\n",
              "      <td>27</td>\n",
              "      <td>89</td>\n",
              "      <td>16</td>\n",
              "      <td>NaN</td>\n",
              "    </tr>\n",
              "  </tbody>\n",
              "</table>\n",
              "</div>"
            ],
            "text/plain": [
              "   ParticipantID  Age  Gender  ... WordCount  Errors  Time (sec)\n",
              "0  participant_1   27    Male  ...        89      26         NaN\n",
              "1  participant_2   26    Male  ...        89      13         NaN\n",
              "2  participant_3   19    Male  ...        89      45         NaN\n",
              "3  participant_4   22  Female  ...        89      43         NaN\n",
              "4  participant_5   22    Male  ...        89      16         NaN\n",
              "\n",
              "[5 rows x 9 columns]"
            ]
          },
          "metadata": {
            "tags": []
          },
          "execution_count": 27
        }
      ]
    },
    {
      "cell_type": "markdown",
      "metadata": {
        "id": "Q1lgVpX9OHm9",
        "colab_type": "text"
      },
      "source": [
        "# Analysis"
      ]
    },
    {
      "cell_type": "code",
      "metadata": {
        "id": "HN_n_-7PMoYy",
        "colab_type": "code",
        "colab": {
          "base_uri": "https://localhost:8080/",
          "height": 68
        },
        "outputId": "6273badf-80ed-4387-9721-be185589393e"
      },
      "source": [
        "# GENDER DISTRIBUTION\n",
        "data.Gender.value_counts()"
      ],
      "execution_count": 18,
      "outputs": [
        {
          "output_type": "execute_result",
          "data": {
            "text/plain": [
              "Male      20\n",
              "Female    10\n",
              "Name: Gender, dtype: int64"
            ]
          },
          "metadata": {
            "tags": []
          },
          "execution_count": 18
        }
      ]
    },
    {
      "cell_type": "code",
      "metadata": {
        "id": "5TGe20gGMmev",
        "colab_type": "code",
        "colab": {
          "base_uri": "https://localhost:8080/",
          "height": 51
        },
        "outputId": "aeccaf80-189f-4f10-c89c-a2c49c5842a8"
      },
      "source": [
        "# AVERAGE AGE\n",
        "print(\"MEAN: \",data[\"Age\"].mean())\n",
        "print(\"STD: \",data[\"Age\"].std())"
      ],
      "execution_count": 25,
      "outputs": [
        {
          "output_type": "stream",
          "text": [
            "MEAN:  24.566666666666666\n",
            "STD:  2.4023455970813385\n"
          ],
          "name": "stdout"
        }
      ]
    },
    {
      "cell_type": "code",
      "metadata": {
        "id": "14sBgUmWMIYk",
        "colab_type": "code",
        "colab": {
          "base_uri": "https://localhost:8080/",
          "height": 51
        },
        "outputId": "216b27f7-503c-47a2-8d08-9c3373aa60a0"
      },
      "source": [
        "# AVERAGE TYPING SPEED\n",
        "print(\"MEAN: \",data[\"WordsPerMinute\"].mean())\n",
        "print(\"STD: \",data[\"WordsPerMinute\"].std())"
      ],
      "execution_count": 26,
      "outputs": [
        {
          "output_type": "stream",
          "text": [
            "MEAN:  34.9\n",
            "STD:  9.531617078855561\n"
          ],
          "name": "stdout"
        }
      ]
    },
    {
      "cell_type": "code",
      "metadata": {
        "id": "qZcRqcv2MT5A",
        "colab_type": "code",
        "colab": {}
      },
      "source": [
        ""
      ],
      "execution_count": 0,
      "outputs": []
    },
    {
      "cell_type": "code",
      "metadata": {
        "id": "-kKPRTVKMs3D",
        "colab_type": "code",
        "colab": {}
      },
      "source": [
        ""
      ],
      "execution_count": 0,
      "outputs": []
    }
  ]
}