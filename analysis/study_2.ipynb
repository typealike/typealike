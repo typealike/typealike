{
  "nbformat": 4,
  "nbformat_minor": 0,
  "metadata": {
    "kernelspec": {
      "display_name": "Python 3",
      "language": "python",
      "name": "python3"
    },
    "language_info": {
      "codemirror_mode": {
        "name": "ipython",
        "version": 3
      },
      "file_extension": ".py",
      "mimetype": "text/x-python",
      "name": "python",
      "nbconvert_exporter": "python",
      "pygments_lexer": "ipython3",
      "version": "3.6.7"
    },
    "colab": {
      "name": "study_2.ipynb",
      "provenance": [],
      "toc_visible": true
    }
  },
  "cells": [
    {
      "cell_type": "markdown",
      "metadata": {
        "id": "Cf7BC6tpPFZo",
        "colab_type": "text"
      },
      "source": [
        "# Imports"
      ]
    },
    {
      "cell_type": "code",
      "metadata": {
        "id": "ivaT6E025pjY",
        "colab_type": "code",
        "colab": {
          "base_uri": "https://localhost:8080/",
          "height": 72
        },
        "outputId": "9e26b0a6-b364-4ad6-b65d-32d7ed6f84ac"
      },
      "source": [
        "import pandas as pd \n",
        "import numpy as np\n",
        "import requests\n",
        "import io\n",
        "import re\n",
        "import seaborn as sns\n",
        "import matplotlib.pyplot as plt\n",
        "import matplotlib.patches as patches\n",
        "from google.colab import drive, files\n",
        "import os\n",
        "import json\n",
        "import random"
      ],
      "execution_count": 1,
      "outputs": [
        {
          "output_type": "stream",
          "text": [
            "/usr/local/lib/python3.6/dist-packages/statsmodels/tools/_testing.py:19: FutureWarning: pandas.util.testing is deprecated. Use the functions in the public API at pandas.testing instead.\n",
            "  import pandas.util.testing as tm\n"
          ],
          "name": "stderr"
        }
      ]
    },
    {
      "cell_type": "code",
      "metadata": {
        "id": "SIP6vFwVvejT",
        "colab_type": "code",
        "colab": {
          "base_uri": "https://localhost:8080/",
          "height": 35
        },
        "outputId": "2762089e-dbeb-43be-bc4d-1e0cd1390a4d"
      },
      "source": [
        "drive.mount('/content/drive/')"
      ],
      "execution_count": 2,
      "outputs": [
        {
          "output_type": "stream",
          "text": [
            "Mounted at /content/drive/\n"
          ],
          "name": "stdout"
        }
      ]
    },
    {
      "cell_type": "markdown",
      "metadata": {
        "id": "juoXb23X6SPN",
        "colab_type": "text"
      },
      "source": [
        "# Helper Functions"
      ]
    },
    {
      "cell_type": "code",
      "metadata": {
        "id": "3ukq6XV0pF1P",
        "colab_type": "code",
        "colab": {}
      },
      "source": [
        "logpath = 'drive/My Drive/mmath_cs/CHI_2020/Typealike/study_2/logs/'\n",
        "logfns = os.listdir(logpath)\n",
        "\n",
        "# these are columns that define a single trial\n",
        "columns = ['Participant',            # participant id (P01, P02, ...)\n",
        "           'TempBlock',\n",
        "           'Block',                  # upto 3\n",
        "           'Sequence',               # upto 360\n",
        "           'Trial',                  # upto 720\n",
        "           'Target_Type',              # what condition this particpant did (typing, pointing, gesture)\n",
        "           'Target_Name',                  # whats the specific label of this target\n",
        "           'Start_Time',\n",
        "           'End_Time',\n",
        "           'First_Reaction_Time',\n",
        "           'Mode_In_Time',  #time in ms\n",
        "           'Mode_Out_Time',\n",
        "           'Execution_Time', # mode_in_time + mode_out_time\n",
        "           'Completion_Time', # End_Time + Start_Time\n",
        "           'Reference_Action_Count',\n",
        "           'Incorrect_Action_Count',\n",
        "           'Error',\n",
        "           'IV_Surface',\n",
        "           'IV_Orientation',\n",
        "           'IV_Form',\n",
        "           'IV_Hand',\n",
        "           'Previous_Reference_Task',\n",
        "           'Next_Reference_Task'\n",
        "            ]\n",
        "\n",
        "# time format in the example log is like 2018/07/10-16:41:54.4902\n",
        "# see https://docs.python.org/2/library/datetime.html#strftime-and-strptime-behavior\n",
        "# time_format = '%Y/%m/%d-%H:%M:%S.%f'\n",
        "time_format = '%Y-%m-%d %H:%M:%S.%f'\n",
        "\n",
        "\n",
        "\n",
        "# Utilities for typical data analysis in ipython notebook\n",
        "\n",
        "import pandas as pd\n",
        "import numpy as np\n",
        "import matplotlib.pyplot as plt\n",
        "from scipy import stats\n",
        "import seaborn as sns\n",
        "import math\n",
        "import sys\n",
        "import subprocess\n",
        "\n",
        "def remove_outliers(d, col, aggregateby, threshold = 3, verbose = False):\n",
        "    \"\"\"Remove outlying data points from datatable.\n",
        "\n",
        "    d -- pandas DataFrame\n",
        "    col -- column in d (must be numberic)\n",
        "    aggregateby -- list of column names to aggregate col values by\n",
        "    threshold -- number of standard deviations to consider an outlier (default 3)\n",
        "    verbose -- print summary of col values before and after removal (defaul False)\n",
        "    returns a new datatable without outliers\n",
        "    \"\"\"\n",
        "\n",
        "    df = d.copy()\n",
        "    # create columns for mean and stddev by aggregation\n",
        "    df['TEMP_Mean'] = df.groupby(aggregateby)[col].transform('mean')\n",
        "    df['TEMP_Std'] = df.groupby(aggregateby)[col].transform('std')\n",
        "\n",
        "    # filter when more than thresh stddev away from mean\n",
        "    df = df[(df[col] < df['TEMP_Mean'] + (threshold * df['TEMP_Std']))]\n",
        "\n",
        "    # drop the temporary columns\n",
        "    del(df['TEMP_Mean'])\n",
        "    del(df['TEMP_Std'])\n",
        "\n",
        "    if verbose:\n",
        "        n = len(d)\n",
        "        m = n - len(df)\n",
        "        print('{} ({}%) outliers removed.'.format(m,m/float(n)))\n",
        "        print('before')\n",
        "        print(d.groupby(aggregateby)[col].agg([np.mean, np.std, np.max, len]))\n",
        "        print('after')\n",
        "        print(df.groupby(aggregateby)[col].agg([np.mean, np.std, np.max, len]))\n",
        "    return df\n",
        "\n",
        "def run_r(d, script, fn = '__temp__', verbose = False):\n",
        "    \"\"\"Runs R script file against data in DataFrame\n",
        "    d -- DataFrame to save as file for R script\n",
        "    fn -- filename to use for data csv and R script file\n",
        "    \"\"\"\n",
        "    if verbose:\n",
        "        print(script)\n",
        "\n",
        "    # write data file\n",
        "    d.to_csv(fn + '.csv', index = False)\n",
        "\n",
        "    # write it out\n",
        "    with open(fn + '.R', 'w') as f:\n",
        "         f.write(script)\n",
        "\n",
        "    # call it\n",
        "    try:\n",
        "        output = subprocess.check_output(['RScript ' + fn + '.R'], \n",
        "                                         stderr = subprocess.STDOUT, \n",
        "                                         shell = True, \n",
        "                                         universal_newlines = True)\n",
        "\n",
        "    except subprocess.CalledProcessError as exc:\n",
        "        print(\"FAIL {} {}\\n{}\".format(fn + '.R', exc.returncode, exc.output))\n",
        "        return False\n",
        "\n",
        "    else:\n",
        "        return output\n",
        "\n",
        "def posthoc(d, dv, factor1, factor1levels, factor2, showScript = True):\n",
        "    \"\"\"Runs R post hoc tests. Note p-values are adjusted separately for each\n",
        "    call to pairwise.t.test. Would be better to adjust across all comparisons,\n",
        "    but I have not idea how to do that in R (could be done manually). \n",
        "       \n",
        "    d -- pandas DataFrame\n",
        "    dv -- dependent variable, like 'Time' or 'ErrorRate'\n",
        "    factor1 -- the factor you want to compare individual levels, e.g. 'Technique'\n",
        "    factor1levels -- list of levels of that factor, e.g. ['Mouse', 'Pen', 'Touch']\n",
        "    factor2 -- the factor to compare to\n",
        "    \"\"\"\n",
        "\n",
        "    fn = '__temp__'\n",
        "\n",
        "    script = \"\"\"\n",
        "\n",
        "        ## must be installed\n",
        "        library(ez)\n",
        "\n",
        "        df = read.csv(\"{datafn}\")\n",
        "\n",
        "        # force categorical\n",
        "        df${factor1} = as.factor(df${factor1})\n",
        "        df${factor2} = as.factor(df${factor2})\n",
        "\n",
        "        \"\"\".format(datafn = fn + '.csv', \n",
        "                   factor1 = factor1, \n",
        "                   factor2 = factor2)\n",
        "\n",
        "    for level in factor1levels:\n",
        "\n",
        "        script += \"\"\"\n",
        "\n",
        "        cat('\\n')\n",
        "        print('{level}')\n",
        "        pairwise.t.test(df${dv}[df${factor1} == '{level}'], \n",
        "                                df${factor2}[df${factor1} == '{level}'], \n",
        "                                p.adj=\"holm\", \n",
        "                                paired=T)\n",
        "\n",
        "        \"\"\".format(dv = dv, \n",
        "                   factor1 = factor1,\n",
        "                   level = level,\n",
        "                   factor2 = factor2\n",
        "                   )\n",
        "\n",
        "    output = run_r(d, script, fn)\n",
        "\n",
        "    # Would be neat to parse the data in Python and format results for paper\n",
        "    # or do additional manipulation of data (like manual adj of p-value for \n",
        "    # multiple pairwise comparisons)\n",
        "\n",
        "    # Instead, we just dump it all out\n",
        "    print(output)\n",
        "\n",
        "def anova(d, dv, wid, within, showScript = True):\n",
        "    \"\"\"Runs R ezAnova repeated measures and post hoc test if one within factor.\n",
        "\n",
        "    d -- pandas DataFrame\n",
        "    dv -- dependent variable, like 'Time' or 'ErrorRate'\n",
        "    wid -- within subject id, your 'Participant' column (P1, P2, ...)\n",
        "    within -- the within factor(s) you wish to analyze, like 'Technique' or 'Block'\n",
        "              use a list to pass multiple factors for interaction testing, \n",
        "              like ['Technique', 'Time']\n",
        "    \"\"\"\n",
        "    fn = '__temp__'\n",
        "\n",
        "    # make factors consistent\n",
        "    if type(within) is not list:\n",
        "        within = [ within ]\n",
        "\n",
        "    num_factors = len(within)\n",
        "\n",
        "    if num_factors > 1:\n",
        "        within_factors = '.({})'.format(','.join(within))\n",
        "    else:\n",
        "        within_factors = within[0]\n",
        "\n",
        "    within_force_categorical = ''\n",
        "    for w in within:\n",
        "        within_force_categorical += '    df${f} = as.factor(df${f})\\n'.format(f = w)\n",
        "\n",
        "    # make script\n",
        "    script = '''\n",
        "\n",
        "    ## must be installed\n",
        "    library(ez)\n",
        "\n",
        "    df = read.csv(\"{datafn}\")\n",
        "\n",
        "    # force categorical\n",
        "    df${wid} = as.factor(df${wid})\n",
        "\n",
        "{within_force_categorical}\n",
        "\n",
        "    # run anoval\n",
        "    ezANOVA(data = df,\n",
        "                dv = {dv},\n",
        "                wid = {wid},\n",
        "                within = {within_factors})\n",
        "\n",
        "    '''.format(datafn = fn + '.csv', dv = dv, wid = wid, within_factors = within_factors,\n",
        "              within_force_categorical = within_force_categorical)\n",
        "    \n",
        "    # add post hoc tests for main effects (one within factor)\n",
        "    if num_factors == 1:\n",
        "        script += '''\n",
        "        pairwise.t.test(df${dv}, df${within_factors}, p.adj=\"holm\", paired=T)\n",
        "        '''.format(dv = dv, within_factors = within_factors)\n",
        "    else:\n",
        "        print('NOTE: post hoc tests must be conducted manually for multiple factors\\n')\n",
        "\n",
        "    output = run_r(d, script, fn)\n",
        "\n",
        "    # Would be neat to parse the data in Python and format results for paper\n",
        "    # or do additional manipulation of data (like manual adj of p-value for \n",
        "    # multiple pairwise comparisons)\n",
        "\n",
        "    # Instead, we just dump it all out\n",
        "    print(output)\n"
      ],
      "execution_count": 3,
      "outputs": []
    },
    {
      "cell_type": "code",
      "metadata": {
        "id": "APetTIqMVz7_",
        "colab_type": "code",
        "colab": {}
      },
      "source": [
        "# helper functions\n",
        "\n",
        "# https://stackoverflow.com/questions/17060039/split-string-at-nth-occurrence-of-a-given-character\n",
        "def splitn(string, spliton, n):\n",
        "    \"\"\"split 'string' on nth occurence of 'spliton'\n",
        "    \"\"\"\n",
        "    groups = string.split(spliton)\n",
        "    return spliton.join(groups[:n]), spliton.join(groups[n:])\n",
        "\n",
        "\n",
        "def ms_delta(t):\n",
        "    \"\"\"convert timedelta t to milliseconds\n",
        "    \"\"\"\n",
        "    return round(t.seconds * 1000 + t.microseconds / 1000)"
      ],
      "execution_count": 4,
      "outputs": []
    },
    {
      "cell_type": "code",
      "metadata": {
        "id": "oXIg0QcOpgPi",
        "colab_type": "code",
        "colab": {
          "base_uri": "https://localhost:8080/",
          "height": 35
        },
        "outputId": "3185396d-f2d5-4c5d-fc0b-06892ff3caaf"
      },
      "source": [
        "logpath"
      ],
      "execution_count": 5,
      "outputs": [
        {
          "output_type": "execute_result",
          "data": {
            "application/vnd.google.colaboratory.intrinsic+json": {
              "type": "string"
            },
            "text/plain": [
              "'drive/My Drive/mmath_cs/CHI_2020/Typealike/study_2/logs/'"
            ]
          },
          "metadata": {
            "tags": []
          },
          "execution_count": 5
        }
      ]
    },
    {
      "cell_type": "markdown",
      "metadata": {
        "id": "Bn9ZuiXGX5UY",
        "colab_type": "text"
      },
      "source": [
        "## Create CSV from log files based on the above format"
      ]
    },
    {
      "cell_type": "code",
      "metadata": {
        "id": "BmJrT1CzvZ9D",
        "colab_type": "code",
        "colab": {
          "base_uri": "https://localhost:8080/",
          "height": 363
        },
        "outputId": "3287a9c7-cc10-41d6-8fec-4aa226cb542b"
      },
      "source": [
        "# data = open(logpath+'../mode_switching.csv', 'w')\n",
        "# data.write(','.join(columns) + '\\n')\n",
        "\n",
        "for logfn in logfns:\n",
        "\n",
        "#     print(logfn)\n",
        "    filename = logfn.replace(\".txt\",\".csv\")\n",
        "    data = open(logpath+'../csv/'+filename, 'w')\n",
        "    data.write(','.join(columns) + '\\n')\n",
        "    \n",
        "    modeSwitch=False\n",
        "    currentTaskFirstAttempt=0;\n",
        "    previousTaskEndTime=0;\n",
        "    nextTaskStart=False;\n",
        "    prev_task=\"\"\n",
        "    \n",
        "    log = open(logpath + logfn, 'r')\n",
        "    \n",
        "#     initalize a dictionary of values we'll write to the datafile\n",
        "    d = {e:0 for e in columns}\n",
        "    \n",
        "    # initalize temporary values\n",
        "    trial_start_time = 0\n",
        "\n",
        "    # we'll go through line-by-line\n",
        "    line_num = 0\n",
        "    trial = 0\n",
        "    trial_started = False\n",
        "    first_reaction_recorded = False\n",
        "    reference_action_count = 0\n",
        "    incorrect_action_count = 0\n",
        "    keys_list = []\n",
        "    for row in log:\n",
        "#         print(row)\n",
        "        if row[0] == '#':             \n",
        "            continue\n",
        "        line_num += 1\n",
        "        # split the line\n",
        "        row_list = row.strip().split(',')\n",
        "#         if row_list[1] == :\n",
        "#           pass\n",
        "#         if row_list[2]\n",
        "        if trial_started:\n",
        "          \n",
        "          if row_list[1] == 'I':\n",
        "            if row_list[2] == \"posture\" and d['Target_Name'] != row_list[3]:\n",
        "              if row_list[3] not in [\"typing\", \"no_posture\"]:\n",
        "                incorrect_action_count +=1\n",
        "              else:\n",
        "                reference_action_count +=1\n",
        "                \n",
        "            if not first_reaction_recorded and row_list[2] == 'keyboard':\n",
        "              first_reaction_time = row_list[0]\n",
        "              first_reaction_recorded = True\n",
        "            if d['Target_Type'] == \"shortcut\":\n",
        "              if row_list[3] == \"keypressed\":\n",
        "                keys_list.append(row_list[4])\n",
        "              elif row_list[3] == \"mousepressed\":\n",
        "                keys_list.append(\"mousepressed\")\n",
        "#                 incorrect_action_count +=1\n",
        "    \n",
        "        if row_list[1] == 'E':\n",
        "          row_split_list = splitn(row, ',', 3)\n",
        "  #         experiment_block = (row_list[1], row_list[2])\n",
        "          row_inner_dict = {}\n",
        "          try:\n",
        "              # parse the json event data\n",
        "  #                 print(\"PARSIG JSON\")\n",
        "  #                 print(r[1])\n",
        "#               print(row_split_list)\n",
        "              row_inner_dict = json.loads(row_split_list[1])\n",
        "          except Exception as e:\n",
        "              print('error parsing json event data on row{}: {}\\n{}'.format(line_num, row_list[3], e))\n",
        "\n",
        "          if row_list[2] == \"experiment\":\n",
        "            d['Participant'] = row_inner_dict['participantid']\n",
        "\n",
        "          if row_list[2] == \"trial\":\n",
        "#             print(row)\n",
        "\n",
        "            if row_inner_dict[\"type\"] == \"start\":\n",
        "              trial_started = True\n",
        "              first_reaction_recorded = False\n",
        "              d['Start_Time'] = row_list[0]\n",
        "  #             d['Participant'] = row_inner_dict['participantid']\n",
        "              d['Target_Type'] = row_inner_dict[\"targetType\"]\n",
        "              d['Target_Name'] = row_inner_dict[\"label\"]\n",
        "              d['Block'] = row_inner_dict[\"blockNum\"]\n",
        "              d['Sequence'] = row_inner_dict[\"sequenceNum\"]\n",
        "              d['Trial'] = trial\n",
        "#               if row_inner_dict[\"type\"] == \"posture\":\n",
        "#               if row_inner_dict[\"targetType\"] == \"posture\":\n",
        "                \n",
        "  \n",
        "              trial+=1\n",
        "            elif row_inner_dict[\"type\"] == \"end\":\n",
        "              trial_started = False\n",
        "              d['End_Time'] = row_list[0]\n",
        "              d['First_Reaction_Time'] = first_reaction_time if d['Target_Type'] == 'word' else row_list[0] # [\"shortcut\", \"posture\", \"click\"]\n",
        "#               d['Mode_In_Time'] = int(d['First_Reaction_Time']) - int(d['Start_Time'])\n",
        "              d['Reference_Action_Count'] = reference_action_count\n",
        "              d['Incorrect_Action_Count'] = incorrect_action_count\n",
        "              d['Error'] = False if row_inner_dict[\"action\"] == \"hit\" else True\n",
        "              if d[\"Target_Type\"] == \"shortcut\" and len(keys_list) > 1:\n",
        "#                 if :\n",
        "                d['Incorrect_Action_Count'] = 1\n",
        "\n",
        "              reference_action_count = 0\n",
        "              incorrect_action_count = 0\n",
        "              keys_list = []\n",
        "  \n",
        "\n",
        "              # save to log\n",
        "              datarow = [d[k] for k in columns]\n",
        "              datarow_csv = ','.join(str(i) for i in datarow)\n",
        "    #                     print(datarow_csv)\n",
        "              data.write(datarow_csv + '\\n')\n",
        "            \n",
        "    data.close()\n",
        "    print(filename)"
      ],
      "execution_count": 6,
      "outputs": [
        {
          "output_type": "stream",
          "text": [
            "participant_31_experiment_2019-08-29-18-49-40.csv\n",
            "participant_50_experiment_2019-09-10-14-21-34.csv\n",
            "participant_49_experiment_2019-09-06-20-00-11.csv\n",
            "participant_48_experiment_2019-09-06-18-51-31.csv\n",
            "participant_47_experiment_2019-09-06-16-47-27.csv\n",
            "participant_45_experiment_2019-09-05-18-50-20.csv\n",
            "participant_44_experiment_2019-09-05-17-25-07.csv\n",
            "participant_43_experiment_2019-09-05-16-01-45.csv\n",
            "participant_42_experiment_2019-09-05-14-19-57.csv\n",
            "participant_41_experiment_2019-09-04-19-05-57.csv\n",
            "participant_40_experiment_2019-09-04-18-12-17.csv\n",
            "participant_39_experiment_2019-09-04-16-12-13.csv\n",
            "participant_38_experiment_2019-09-04-14-54-31.csv\n",
            "participant_37_experiment_2019-09-03-23-06-46.csv\n",
            "participant_36_experiment_2019-09-03-16-58-26.csv\n",
            "participant_35_experiment_2019-09-03-15-57-34.csv\n",
            "participant_34_experiment_2019-09-02-17-51-29.csv\n",
            "participant_33_experiment_2019-09-02-15-48-35.csv\n",
            "participant_32_experiment_2019-08-30-16-52-53.csv\n",
            "participant_46_experiment_2019-09-05-22-37-21.csv\n"
          ],
          "name": "stdout"
        }
      ]
    },
    {
      "cell_type": "code",
      "metadata": {
        "id": "Z-yLWo_2z-xn",
        "colab_type": "code",
        "colab": {
          "base_uri": "https://localhost:8080/",
          "height": 427
        },
        "outputId": "81323666-7f24-433c-d0d0-1aa60f75a680"
      },
      "source": [
        "f = \"/content/drive/My Drive/mmath_cs/CHI_2020/Typealike/study_2/csv/participant_45_experiment_2019-09-05-18-50-20.csv\"\n",
        "df = pd.read_csv(f)\n",
        "# df.loc[(df[\"Target_Type\"]==\"word\")&(df[\"Block\"]==5) & (df[\"Sequence\"]==6)]#.count()#.sort_values(by=[\"Block\",\"Sequence\"])#\"Block\",\"Sequence\").head(36)\n",
        "df.loc[(df[\"Target_Type\"] == \"shortcut\")]# & (df[\"Incorrect_Action_Count\"] > 0)]"
      ],
      "execution_count": 7,
      "outputs": [
        {
          "output_type": "execute_result",
          "data": {
            "text/html": [
              "<div>\n",
              "<style scoped>\n",
              "    .dataframe tbody tr th:only-of-type {\n",
              "        vertical-align: middle;\n",
              "    }\n",
              "\n",
              "    .dataframe tbody tr th {\n",
              "        vertical-align: top;\n",
              "    }\n",
              "\n",
              "    .dataframe thead th {\n",
              "        text-align: right;\n",
              "    }\n",
              "</style>\n",
              "<table border=\"1\" class=\"dataframe\">\n",
              "  <thead>\n",
              "    <tr style=\"text-align: right;\">\n",
              "      <th></th>\n",
              "      <th>Participant</th>\n",
              "      <th>TempBlock</th>\n",
              "      <th>Block</th>\n",
              "      <th>Sequence</th>\n",
              "      <th>Trial</th>\n",
              "      <th>Target_Type</th>\n",
              "      <th>Target_Name</th>\n",
              "      <th>Start_Time</th>\n",
              "      <th>End_Time</th>\n",
              "      <th>First_Reaction_Time</th>\n",
              "      <th>Mode_In_Time</th>\n",
              "      <th>Mode_Out_Time</th>\n",
              "      <th>Execution_Time</th>\n",
              "      <th>Completion_Time</th>\n",
              "      <th>Reference_Action_Count</th>\n",
              "      <th>Incorrect_Action_Count</th>\n",
              "      <th>Error</th>\n",
              "      <th>IV_Surface</th>\n",
              "      <th>IV_Orientation</th>\n",
              "      <th>IV_Form</th>\n",
              "      <th>IV_Hand</th>\n",
              "      <th>Previous_Reference_Task</th>\n",
              "      <th>Next_Reference_Task</th>\n",
              "    </tr>\n",
              "  </thead>\n",
              "  <tbody>\n",
              "    <tr>\n",
              "      <th>73</th>\n",
              "      <td>participant_45</td>\n",
              "      <td>0</td>\n",
              "      <td>1</td>\n",
              "      <td>0</td>\n",
              "      <td>73</td>\n",
              "      <td>shortcut</td>\n",
              "      <td>D</td>\n",
              "      <td>1567723978202</td>\n",
              "      <td>1567723980434</td>\n",
              "      <td>1567723980434</td>\n",
              "      <td>0</td>\n",
              "      <td>0</td>\n",
              "      <td>0</td>\n",
              "      <td>0</td>\n",
              "      <td>0</td>\n",
              "      <td>0</td>\n",
              "      <td>False</td>\n",
              "      <td>0</td>\n",
              "      <td>0</td>\n",
              "      <td>0</td>\n",
              "      <td>0</td>\n",
              "      <td>0</td>\n",
              "      <td>0</td>\n",
              "    </tr>\n",
              "    <tr>\n",
              "      <th>75</th>\n",
              "      <td>participant_45</td>\n",
              "      <td>0</td>\n",
              "      <td>1</td>\n",
              "      <td>1</td>\n",
              "      <td>75</td>\n",
              "      <td>shortcut</td>\n",
              "      <td>D</td>\n",
              "      <td>1567723982736</td>\n",
              "      <td>1567723984603</td>\n",
              "      <td>1567723984603</td>\n",
              "      <td>0</td>\n",
              "      <td>0</td>\n",
              "      <td>0</td>\n",
              "      <td>0</td>\n",
              "      <td>0</td>\n",
              "      <td>0</td>\n",
              "      <td>False</td>\n",
              "      <td>0</td>\n",
              "      <td>0</td>\n",
              "      <td>0</td>\n",
              "      <td>0</td>\n",
              "      <td>0</td>\n",
              "      <td>0</td>\n",
              "    </tr>\n",
              "    <tr>\n",
              "      <th>77</th>\n",
              "      <td>participant_45</td>\n",
              "      <td>0</td>\n",
              "      <td>1</td>\n",
              "      <td>2</td>\n",
              "      <td>77</td>\n",
              "      <td>shortcut</td>\n",
              "      <td>J</td>\n",
              "      <td>1567723986468</td>\n",
              "      <td>1567723988302</td>\n",
              "      <td>1567723988302</td>\n",
              "      <td>0</td>\n",
              "      <td>0</td>\n",
              "      <td>0</td>\n",
              "      <td>0</td>\n",
              "      <td>0</td>\n",
              "      <td>0</td>\n",
              "      <td>False</td>\n",
              "      <td>0</td>\n",
              "      <td>0</td>\n",
              "      <td>0</td>\n",
              "      <td>0</td>\n",
              "      <td>0</td>\n",
              "      <td>0</td>\n",
              "    </tr>\n",
              "    <tr>\n",
              "      <th>79</th>\n",
              "      <td>participant_45</td>\n",
              "      <td>0</td>\n",
              "      <td>1</td>\n",
              "      <td>3</td>\n",
              "      <td>79</td>\n",
              "      <td>shortcut</td>\n",
              "      <td>J</td>\n",
              "      <td>1567723990400</td>\n",
              "      <td>1567723992001</td>\n",
              "      <td>1567723992001</td>\n",
              "      <td>0</td>\n",
              "      <td>0</td>\n",
              "      <td>0</td>\n",
              "      <td>0</td>\n",
              "      <td>0</td>\n",
              "      <td>0</td>\n",
              "      <td>False</td>\n",
              "      <td>0</td>\n",
              "      <td>0</td>\n",
              "      <td>0</td>\n",
              "      <td>0</td>\n",
              "      <td>0</td>\n",
              "      <td>0</td>\n",
              "    </tr>\n",
              "    <tr>\n",
              "      <th>81</th>\n",
              "      <td>participant_45</td>\n",
              "      <td>0</td>\n",
              "      <td>1</td>\n",
              "      <td>4</td>\n",
              "      <td>81</td>\n",
              "      <td>shortcut</td>\n",
              "      <td>O</td>\n",
              "      <td>1567723994868</td>\n",
              "      <td>1567724000901</td>\n",
              "      <td>1567724000901</td>\n",
              "      <td>0</td>\n",
              "      <td>0</td>\n",
              "      <td>0</td>\n",
              "      <td>0</td>\n",
              "      <td>0</td>\n",
              "      <td>0</td>\n",
              "      <td>True</td>\n",
              "      <td>0</td>\n",
              "      <td>0</td>\n",
              "      <td>0</td>\n",
              "      <td>0</td>\n",
              "      <td>0</td>\n",
              "      <td>0</td>\n",
              "    </tr>\n",
              "    <tr>\n",
              "      <th>...</th>\n",
              "      <td>...</td>\n",
              "      <td>...</td>\n",
              "      <td>...</td>\n",
              "      <td>...</td>\n",
              "      <td>...</td>\n",
              "      <td>...</td>\n",
              "      <td>...</td>\n",
              "      <td>...</td>\n",
              "      <td>...</td>\n",
              "      <td>...</td>\n",
              "      <td>...</td>\n",
              "      <td>...</td>\n",
              "      <td>...</td>\n",
              "      <td>...</td>\n",
              "      <td>...</td>\n",
              "      <td>...</td>\n",
              "      <td>...</td>\n",
              "      <td>...</td>\n",
              "      <td>...</td>\n",
              "      <td>...</td>\n",
              "      <td>...</td>\n",
              "      <td>...</td>\n",
              "      <td>...</td>\n",
              "    </tr>\n",
              "    <tr>\n",
              "      <th>711</th>\n",
              "      <td>participant_45</td>\n",
              "      <td>0</td>\n",
              "      <td>9</td>\n",
              "      <td>31</td>\n",
              "      <td>711</td>\n",
              "      <td>shortcut</td>\n",
              "      <td>O</td>\n",
              "      <td>1567725293583</td>\n",
              "      <td>1567725295384</td>\n",
              "      <td>1567725295384</td>\n",
              "      <td>0</td>\n",
              "      <td>0</td>\n",
              "      <td>0</td>\n",
              "      <td>0</td>\n",
              "      <td>0</td>\n",
              "      <td>0</td>\n",
              "      <td>False</td>\n",
              "      <td>0</td>\n",
              "      <td>0</td>\n",
              "      <td>0</td>\n",
              "      <td>0</td>\n",
              "      <td>0</td>\n",
              "      <td>0</td>\n",
              "    </tr>\n",
              "    <tr>\n",
              "      <th>713</th>\n",
              "      <td>participant_45</td>\n",
              "      <td>0</td>\n",
              "      <td>9</td>\n",
              "      <td>32</td>\n",
              "      <td>713</td>\n",
              "      <td>shortcut</td>\n",
              "      <td>D</td>\n",
              "      <td>1567725297947</td>\n",
              "      <td>1567725299950</td>\n",
              "      <td>1567725299950</td>\n",
              "      <td>0</td>\n",
              "      <td>0</td>\n",
              "      <td>0</td>\n",
              "      <td>0</td>\n",
              "      <td>0</td>\n",
              "      <td>0</td>\n",
              "      <td>False</td>\n",
              "      <td>0</td>\n",
              "      <td>0</td>\n",
              "      <td>0</td>\n",
              "      <td>0</td>\n",
              "      <td>0</td>\n",
              "      <td>0</td>\n",
              "    </tr>\n",
              "    <tr>\n",
              "      <th>715</th>\n",
              "      <td>participant_45</td>\n",
              "      <td>0</td>\n",
              "      <td>9</td>\n",
              "      <td>33</td>\n",
              "      <td>715</td>\n",
              "      <td>shortcut</td>\n",
              "      <td>M</td>\n",
              "      <td>1567725301184</td>\n",
              "      <td>1567725303717</td>\n",
              "      <td>1567725303717</td>\n",
              "      <td>0</td>\n",
              "      <td>0</td>\n",
              "      <td>0</td>\n",
              "      <td>0</td>\n",
              "      <td>0</td>\n",
              "      <td>0</td>\n",
              "      <td>False</td>\n",
              "      <td>0</td>\n",
              "      <td>0</td>\n",
              "      <td>0</td>\n",
              "      <td>0</td>\n",
              "      <td>0</td>\n",
              "      <td>0</td>\n",
              "    </tr>\n",
              "    <tr>\n",
              "      <th>717</th>\n",
              "      <td>participant_45</td>\n",
              "      <td>0</td>\n",
              "      <td>9</td>\n",
              "      <td>34</td>\n",
              "      <td>717</td>\n",
              "      <td>shortcut</td>\n",
              "      <td>U</td>\n",
              "      <td>1567725305782</td>\n",
              "      <td>1567725307549</td>\n",
              "      <td>1567725307549</td>\n",
              "      <td>0</td>\n",
              "      <td>0</td>\n",
              "      <td>0</td>\n",
              "      <td>0</td>\n",
              "      <td>0</td>\n",
              "      <td>0</td>\n",
              "      <td>False</td>\n",
              "      <td>0</td>\n",
              "      <td>0</td>\n",
              "      <td>0</td>\n",
              "      <td>0</td>\n",
              "      <td>0</td>\n",
              "      <td>0</td>\n",
              "    </tr>\n",
              "    <tr>\n",
              "      <th>719</th>\n",
              "      <td>participant_45</td>\n",
              "      <td>0</td>\n",
              "      <td>9</td>\n",
              "      <td>35</td>\n",
              "      <td>719</td>\n",
              "      <td>shortcut</td>\n",
              "      <td>down</td>\n",
              "      <td>1567725308814</td>\n",
              "      <td>1567725309951</td>\n",
              "      <td>1567725309951</td>\n",
              "      <td>0</td>\n",
              "      <td>0</td>\n",
              "      <td>0</td>\n",
              "      <td>0</td>\n",
              "      <td>0</td>\n",
              "      <td>0</td>\n",
              "      <td>False</td>\n",
              "      <td>0</td>\n",
              "      <td>0</td>\n",
              "      <td>0</td>\n",
              "      <td>0</td>\n",
              "      <td>0</td>\n",
              "      <td>0</td>\n",
              "    </tr>\n",
              "  </tbody>\n",
              "</table>\n",
              "<p>180 rows × 23 columns</p>\n",
              "</div>"
            ],
            "text/plain": [
              "        Participant  TempBlock  ...  Previous_Reference_Task  Next_Reference_Task\n",
              "73   participant_45          0  ...                        0                    0\n",
              "75   participant_45          0  ...                        0                    0\n",
              "77   participant_45          0  ...                        0                    0\n",
              "79   participant_45          0  ...                        0                    0\n",
              "81   participant_45          0  ...                        0                    0\n",
              "..              ...        ...  ...                      ...                  ...\n",
              "711  participant_45          0  ...                        0                    0\n",
              "713  participant_45          0  ...                        0                    0\n",
              "715  participant_45          0  ...                        0                    0\n",
              "717  participant_45          0  ...                        0                    0\n",
              "719  participant_45          0  ...                        0                    0\n",
              "\n",
              "[180 rows x 23 columns]"
            ]
          },
          "metadata": {
            "tags": []
          },
          "execution_count": 7
        }
      ]
    },
    {
      "cell_type": "markdown",
      "metadata": {
        "id": "ryJ0BZpQYFxN",
        "colab_type": "text"
      },
      "source": [
        "\n",
        "## Form a single big dataframe for all participants"
      ]
    },
    {
      "cell_type": "markdown",
      "metadata": {
        "id": "SadT8oPVLgIh",
        "colab_type": "text"
      },
      "source": [
        "### helper function"
      ]
    },
    {
      "cell_type": "code",
      "metadata": {
        "id": "gzD3zVPQLbxK",
        "colab_type": "code",
        "colab": {}
      },
      "source": [
        "def get_mode_in_out_time(df):\n",
        "  mode_in_time_list = pd.Series([])\n",
        "  mode_out_time_list = pd.Series([])\n",
        "  execution_time_list = pd.Series([])\n",
        "  completion_time_list = pd.Series([])\n",
        "  exp_block_list = pd.Series([])\n",
        "  prev_ref_task_list = pd.Series([])\n",
        "  next_ref_task_list = pd.Series([])\n",
        "  surface_iv_list = pd.Series([])\n",
        "  hand_iv_list = pd.Series([])\n",
        "  form_iv_list = pd.Series([])\n",
        "  orientation_iv_list = pd.Series([])\n",
        "\n",
        "  participant_handedness={\n",
        "    \"participant_31\":\"Right\",\n",
        "    \"participant_32\":\"Right\",\n",
        "    \"participant_33\":\"Right\",\n",
        "    \"participant_34\":\"Right\",\n",
        "    \"participant_35\":\"Right\",\n",
        "    \"participant_36\":\"Right\",\n",
        "    \"participant_37\":\"Right\",\n",
        "    \"participant_38\":\"Right\",\n",
        "    \"participant_39\":\"Right\",\n",
        "    \"participant_40\":\"Left\",\n",
        "    \"participant_41\":\"Right\",\n",
        "    \"participant_42\":\"Right\",\n",
        "    \"participant_43\":\"Right\",\n",
        "    \"participant_44\":\"Right\",\n",
        "    \"participant_45\":\"Right\",\n",
        "    \"participant_46\":\"Right\",\n",
        "    \"participant_47\":\"Right\",\n",
        "    \"participant_48\":\"Right\",\n",
        "    \"participant_49\":\"Left\",\n",
        "    \"participant_50\":\"Left\",\n",
        "\n",
        "  }\n",
        "  \n",
        "  for i in range(len(df)): \n",
        "    start_time = df[\"Start_Time\"][i]\n",
        "    end_time = df[\"End_Time\"][i]\n",
        "    first_reaction_time = df[\"First_Reaction_Time\"][i]\n",
        "    mode_in_time_list[i] = 0 if i == 0 else mode_out_time_list[i-1]\n",
        "    #   print(i, \" \", len(df))\n",
        "    mode_out_time_list[i] = 0 if (i+1 == len(df) or  df[\"Block\"][i] != df[\"Block\"][i+1]) else (df[\"First_Reaction_Time\"][i+1] - df[\"End_Time\"][i])\n",
        "    exp_block_list[i] = int(df[\"Block\"][i]/2)\n",
        "    execution_time_list[i] = mode_in_time_list[i] + mode_out_time_list[i]\n",
        "    completion_time_list[i] = df[\"End_Time\"][i] - df[\"Start_Time\"][i]\n",
        "    \n",
        "    if i+1 != len(df):\n",
        "      if df[\"Target_Type\"][i+1] in [\"posture\", \"shortcut\"]:\n",
        "        next_ref_task_list[i] = \"NA\"\n",
        "      else:\n",
        "        if df[\"Target_Type\"][i+1] == \"word\":\n",
        "          next_ref_task_list[i] = \"word\"\n",
        "        elif df[\"Target_Type\"][i+1] == \"click\":\n",
        "          next_ref_task_list[i] = \"click\"\n",
        "    else:\n",
        "      next_ref_task_list[i] = \"NA\"\n",
        "      \n",
        "    if df[\"Target_Type\"][i] in [\"word\", \"click\"]:\n",
        "      prev_ref_task_list[i] = \"NA\"\n",
        "      surface_iv_list[i] = \"NA\"\n",
        "      hand_iv_list[i] = \"NA\"\n",
        "      form_iv_list[i] = \"NA\"\n",
        "      orientation_iv_list[i] = \"NA\"\n",
        "    else:\n",
        "      prev_ref_task_list[i] = df[\"Target_Type\"][i-1]\n",
        "      if df[\"Target_Type\"][i] == \"shortcut\":\n",
        "        surface_iv_list[i] = \"shortcut\"\n",
        "        hand_iv_list[i] = \"shortcut\"\n",
        "        form_iv_list[i] = \"shortcut\"\n",
        "        orientation_iv_list[i] = \"shortcut\"\n",
        "      else:\n",
        "        t_n_split = df[\"Target_Name\"][i].split('_')\n",
        "        #  t_n_split[0] ##chsnge left/right\n",
        "        hand_iv_list[i] = \"Dominant\" if t_n_split[0] == participant_handedness[df[\"Participant\"][i]] else \"Non Dominant\"\n",
        "        form_iv_list[i] = t_n_split[1]\n",
        "        orientation_iv_list[i] = t_n_split[2]#\"180\" if t_n_split[2] == \"0\" else \"0\" if t_n_split[2] ==\"180\" else \"90\"\n",
        "        surface_iv_list[i] = t_n_split[3]\n",
        "        \n",
        "        \n",
        "#   df_usable.insert(4, \"TempBlock\", exp_block_list)\n",
        "#   df_usable.insert(10, \"Mode_In_Time\", mode_in_time_list)\n",
        "#   df_usable.insert(11, \"Mode_Out_Time\", mode_out_time_list)\n",
        "  df[\"TempBlock\"] = exp_block_list.values\n",
        "  df[\"Mode_In_Time\"] = mode_in_time_list.values\n",
        "  df[\"Mode_Out_Time\"] = mode_out_time_list.values\n",
        "  df[\"Execution_Time\"] = execution_time_list.values\n",
        "  df[\"Completion_Time\"] = completion_time_list.values\n",
        "  df[\"Previous_Reference_Task\"] = prev_ref_task_list.values\n",
        "  df[\"Next_Reference_Task\"] = next_ref_task_list.values\n",
        "  df[\"IV_Surface\"] = surface_iv_list.values\n",
        "  df[\"IV_Orientation\"] = orientation_iv_list.values\n",
        "  df[\"IV_Form\"] = form_iv_list.values\n",
        "  df[\"IV_Hand\"] = hand_iv_list.values\n",
        "  \n",
        "#   df_usable = df_usable.rename(columns={\"Sequence\":\"Sub_Sequence\", \"Block\":\"Sequence\", \"TempBlock\": \"Block\"})"
      ],
      "execution_count": 8,
      "outputs": []
    },
    {
      "cell_type": "markdown",
      "metadata": {
        "id": "X5zqaoWmLjGm",
        "colab_type": "text"
      },
      "source": [
        "### now read and merge"
      ]
    },
    {
      "cell_type": "code",
      "metadata": {
        "id": "I9-zinpjyCye",
        "colab_type": "code",
        "colab": {
          "base_uri": "https://localhost:8080/",
          "height": 745
        },
        "outputId": "dc6859c1-271a-4a1c-8f86-a8b032a6793e"
      },
      "source": [
        "f = \"/content/drive/My Drive/mmath_cs/CHI_2020/Typealike/study_2/csv/participant_31_experiment_2019-08-29-18-49-40.csv\"\n",
        "df_all = pd.read_csv(f)\n",
        "get_mode_in_out_time(df_all)\n",
        "csv_Path = \"/content/drive/My Drive/mmath_cs/CHI_2020/Typealike/study_2/csv/\"\n",
        "csv_files = os.listdir(csv_Path)\n",
        "\n",
        "for csv in csv_files:\n",
        "  df = pd.read_csv(csv_Path+csv)\n",
        "  if df[\"Participant\"][0] == \"participant_31\" or df[\"Participant\"][0] == \"pilot_nalin\":\n",
        "    continue\n",
        "#   print()\n",
        "  get_mode_in_out_time(df)\n",
        "  df_all = df_all.append(df, ignore_index=True)\n",
        "#   print(df[\"Participant\"][0])\n",
        "#   if df[\"Participant\"][0] == \"participant_44\":\n",
        "#     dd = df.loc[df[\"Reference_Action_Count\"] < df[\"Incorrect_Action_Count\"]]\n",
        "#     break\n",
        "  print(df[\"Participant\"][0], df.loc[df[\"Reference_Action_Count\"] < df[\"Incorrect_Action_Count\"]][\"Incorrect_Action_Count\"].count())\n",
        "# df_all.loc[(df_all[\"Reference_Action_Count\"] < df_all[\"Incorrect_Action_Count\"]) & (df_all[\"Target_Name\"]==\"Left_Open_180_Below\")].groupby([\"Participant\",\"Block\"]).first()#.groupby([\"Block\",\"Sequence\"]).first()\n",
        "# set(df_all.loc[(df_all[\"Reference_Action_Count\"] < df_all[\"Incorrect_Action_Count\"])][\"Target_Name\"])#) & (df_all[\"Target_Name\"]==\"Right_Close_0_Below\")]\n",
        "# {'Right_Close_0_Below', 'Right_Close_180_Beside', 'Right_Open_180_Below'}\n",
        "# df_all.loc[(df_all[\"Reference_Action_Count\"] < df_all[\"Incorrect_Action_Count\"])]"
      ],
      "execution_count": 9,
      "outputs": [
        {
          "output_type": "stream",
          "text": [
            "/usr/local/lib/python3.6/dist-packages/ipykernel_launcher.py:2: DeprecationWarning: The default dtype for empty Series will be 'object' instead of 'float64' in a future version. Specify a dtype explicitly to silence this warning.\n",
            "  \n",
            "/usr/local/lib/python3.6/dist-packages/ipykernel_launcher.py:3: DeprecationWarning: The default dtype for empty Series will be 'object' instead of 'float64' in a future version. Specify a dtype explicitly to silence this warning.\n",
            "  This is separate from the ipykernel package so we can avoid doing imports until\n",
            "/usr/local/lib/python3.6/dist-packages/ipykernel_launcher.py:4: DeprecationWarning: The default dtype for empty Series will be 'object' instead of 'float64' in a future version. Specify a dtype explicitly to silence this warning.\n",
            "  after removing the cwd from sys.path.\n",
            "/usr/local/lib/python3.6/dist-packages/ipykernel_launcher.py:5: DeprecationWarning: The default dtype for empty Series will be 'object' instead of 'float64' in a future version. Specify a dtype explicitly to silence this warning.\n",
            "  \"\"\"\n",
            "/usr/local/lib/python3.6/dist-packages/ipykernel_launcher.py:6: DeprecationWarning: The default dtype for empty Series will be 'object' instead of 'float64' in a future version. Specify a dtype explicitly to silence this warning.\n",
            "  \n",
            "/usr/local/lib/python3.6/dist-packages/ipykernel_launcher.py:7: DeprecationWarning: The default dtype for empty Series will be 'object' instead of 'float64' in a future version. Specify a dtype explicitly to silence this warning.\n",
            "  import sys\n",
            "/usr/local/lib/python3.6/dist-packages/ipykernel_launcher.py:8: DeprecationWarning: The default dtype for empty Series will be 'object' instead of 'float64' in a future version. Specify a dtype explicitly to silence this warning.\n",
            "  \n",
            "/usr/local/lib/python3.6/dist-packages/ipykernel_launcher.py:9: DeprecationWarning: The default dtype for empty Series will be 'object' instead of 'float64' in a future version. Specify a dtype explicitly to silence this warning.\n",
            "  if __name__ == '__main__':\n",
            "/usr/local/lib/python3.6/dist-packages/ipykernel_launcher.py:10: DeprecationWarning: The default dtype for empty Series will be 'object' instead of 'float64' in a future version. Specify a dtype explicitly to silence this warning.\n",
            "  # Remove the CWD from sys.path while we load stuff.\n",
            "/usr/local/lib/python3.6/dist-packages/ipykernel_launcher.py:11: DeprecationWarning: The default dtype for empty Series will be 'object' instead of 'float64' in a future version. Specify a dtype explicitly to silence this warning.\n",
            "  # This is added back by InteractiveShellApp.init_path()\n",
            "/usr/local/lib/python3.6/dist-packages/ipykernel_launcher.py:12: DeprecationWarning: The default dtype for empty Series will be 'object' instead of 'float64' in a future version. Specify a dtype explicitly to silence this warning.\n",
            "  if sys.path[0] == '':\n"
          ],
          "name": "stderr"
        },
        {
          "output_type": "stream",
          "text": [
            "participant_48 8\n",
            "participant_43 10\n",
            "participant_50 13\n",
            "participant_47 13\n",
            "participant_49 15\n",
            "participant_41 12\n",
            "participant_45 12\n",
            "participant_42 13\n",
            "participant_44 19\n",
            "participant_40 13\n",
            "participant_38 11\n",
            "participant_37 14\n",
            "participant_39 12\n",
            "participant_36 8\n",
            "participant_34 18\n",
            "participant_35 15\n",
            "participant_33 11\n",
            "participant_32 16\n",
            "participant_46 12\n"
          ],
          "name": "stdout"
        }
      ]
    },
    {
      "cell_type": "code",
      "metadata": {
        "id": "EJ0Qm6kA2u0p",
        "colab_type": "code",
        "colab": {
          "base_uri": "https://localhost:8080/",
          "height": 253
        },
        "outputId": "268ecc12-e950-4b2d-9d59-164d32bae2d9"
      },
      "source": [
        "df_all.head()"
      ],
      "execution_count": 18,
      "outputs": [
        {
          "output_type": "execute_result",
          "data": {
            "text/html": [
              "<div>\n",
              "<style scoped>\n",
              "    .dataframe tbody tr th:only-of-type {\n",
              "        vertical-align: middle;\n",
              "    }\n",
              "\n",
              "    .dataframe tbody tr th {\n",
              "        vertical-align: top;\n",
              "    }\n",
              "\n",
              "    .dataframe thead th {\n",
              "        text-align: right;\n",
              "    }\n",
              "</style>\n",
              "<table border=\"1\" class=\"dataframe\">\n",
              "  <thead>\n",
              "    <tr style=\"text-align: right;\">\n",
              "      <th></th>\n",
              "      <th>Participant</th>\n",
              "      <th>TempBlock</th>\n",
              "      <th>Block</th>\n",
              "      <th>Sequence</th>\n",
              "      <th>Trial</th>\n",
              "      <th>Target_Type</th>\n",
              "      <th>Target_Name</th>\n",
              "      <th>Start_Time</th>\n",
              "      <th>End_Time</th>\n",
              "      <th>First_Reaction_Time</th>\n",
              "      <th>Mode_In_Time</th>\n",
              "      <th>Mode_Out_Time</th>\n",
              "      <th>Execution_Time</th>\n",
              "      <th>Completion_Time</th>\n",
              "      <th>Reference_Action_Count</th>\n",
              "      <th>Incorrect_Action_Count</th>\n",
              "      <th>Error</th>\n",
              "      <th>IV_Surface</th>\n",
              "      <th>IV_Orientation</th>\n",
              "      <th>IV_Form</th>\n",
              "      <th>IV_Hand</th>\n",
              "      <th>Previous_Reference_Task</th>\n",
              "      <th>Next_Reference_Task</th>\n",
              "    </tr>\n",
              "  </thead>\n",
              "  <tbody>\n",
              "    <tr>\n",
              "      <th>0</th>\n",
              "      <td>participant_31</td>\n",
              "      <td>0</td>\n",
              "      <td>0</td>\n",
              "      <td>0</td>\n",
              "      <td>0</td>\n",
              "      <td>click</td>\n",
              "      <td>click me</td>\n",
              "      <td>1567118993864</td>\n",
              "      <td>1567118995310</td>\n",
              "      <td>1567118995310</td>\n",
              "      <td>0</td>\n",
              "      <td>1335</td>\n",
              "      <td>1335</td>\n",
              "      <td>1446</td>\n",
              "      <td>0</td>\n",
              "      <td>0</td>\n",
              "      <td>False</td>\n",
              "      <td>NA</td>\n",
              "      <td>NA</td>\n",
              "      <td>NA</td>\n",
              "      <td>NA</td>\n",
              "      <td>NA</td>\n",
              "      <td>NA</td>\n",
              "    </tr>\n",
              "    <tr>\n",
              "      <th>1</th>\n",
              "      <td>participant_31</td>\n",
              "      <td>0</td>\n",
              "      <td>0</td>\n",
              "      <td>0</td>\n",
              "      <td>1</td>\n",
              "      <td>posture</td>\n",
              "      <td>Left_Close_0_On</td>\n",
              "      <td>1567118995331</td>\n",
              "      <td>1567118996645</td>\n",
              "      <td>1567118996645</td>\n",
              "      <td>1335</td>\n",
              "      <td>1758</td>\n",
              "      <td>3093</td>\n",
              "      <td>1314</td>\n",
              "      <td>26</td>\n",
              "      <td>4</td>\n",
              "      <td>False</td>\n",
              "      <td>On</td>\n",
              "      <td>0</td>\n",
              "      <td>Close</td>\n",
              "      <td>Non Dominant</td>\n",
              "      <td>click</td>\n",
              "      <td>word</td>\n",
              "    </tr>\n",
              "    <tr>\n",
              "      <th>2</th>\n",
              "      <td>participant_31</td>\n",
              "      <td>0</td>\n",
              "      <td>0</td>\n",
              "      <td>1</td>\n",
              "      <td>2</td>\n",
              "      <td>word</td>\n",
              "      <td>fully</td>\n",
              "      <td>1567118996665</td>\n",
              "      <td>1567118999400</td>\n",
              "      <td>1567118998403</td>\n",
              "      <td>1758</td>\n",
              "      <td>1775</td>\n",
              "      <td>3533</td>\n",
              "      <td>2735</td>\n",
              "      <td>0</td>\n",
              "      <td>0</td>\n",
              "      <td>False</td>\n",
              "      <td>NA</td>\n",
              "      <td>NA</td>\n",
              "      <td>NA</td>\n",
              "      <td>NA</td>\n",
              "      <td>NA</td>\n",
              "      <td>NA</td>\n",
              "    </tr>\n",
              "    <tr>\n",
              "      <th>3</th>\n",
              "      <td>participant_31</td>\n",
              "      <td>0</td>\n",
              "      <td>0</td>\n",
              "      <td>1</td>\n",
              "      <td>3</td>\n",
              "      <td>posture</td>\n",
              "      <td>Left_Close_0_Below</td>\n",
              "      <td>1567118999434</td>\n",
              "      <td>1567119001175</td>\n",
              "      <td>1567119001175</td>\n",
              "      <td>1775</td>\n",
              "      <td>2024</td>\n",
              "      <td>3799</td>\n",
              "      <td>1741</td>\n",
              "      <td>24</td>\n",
              "      <td>0</td>\n",
              "      <td>False</td>\n",
              "      <td>Below</td>\n",
              "      <td>0</td>\n",
              "      <td>Close</td>\n",
              "      <td>Non Dominant</td>\n",
              "      <td>word</td>\n",
              "      <td>click</td>\n",
              "    </tr>\n",
              "    <tr>\n",
              "      <th>4</th>\n",
              "      <td>participant_31</td>\n",
              "      <td>0</td>\n",
              "      <td>0</td>\n",
              "      <td>2</td>\n",
              "      <td>4</td>\n",
              "      <td>click</td>\n",
              "      <td>click me</td>\n",
              "      <td>1567119001198</td>\n",
              "      <td>1567119003199</td>\n",
              "      <td>1567119003199</td>\n",
              "      <td>2024</td>\n",
              "      <td>1678</td>\n",
              "      <td>3702</td>\n",
              "      <td>2001</td>\n",
              "      <td>0</td>\n",
              "      <td>0</td>\n",
              "      <td>False</td>\n",
              "      <td>NA</td>\n",
              "      <td>NA</td>\n",
              "      <td>NA</td>\n",
              "      <td>NA</td>\n",
              "      <td>NA</td>\n",
              "      <td>NA</td>\n",
              "    </tr>\n",
              "  </tbody>\n",
              "</table>\n",
              "</div>"
            ],
            "text/plain": [
              "      Participant  TempBlock  ...  Previous_Reference_Task  Next_Reference_Task\n",
              "0  participant_31          0  ...                       NA                   NA\n",
              "1  participant_31          0  ...                    click                 word\n",
              "2  participant_31          0  ...                       NA                   NA\n",
              "3  participant_31          0  ...                     word                click\n",
              "4  participant_31          0  ...                       NA                   NA\n",
              "\n",
              "[5 rows x 23 columns]"
            ]
          },
          "metadata": {
            "tags": []
          },
          "execution_count": 18
        }
      ]
    },
    {
      "cell_type": "markdown",
      "metadata": {
        "id": "USAnbgwsgauP",
        "colab_type": "text"
      },
      "source": [
        "# Analysis"
      ]
    },
    {
      "cell_type": "markdown",
      "metadata": {
        "id": "tTIhnM0Egp06",
        "colab_type": "text"
      },
      "source": [
        "## Participants"
      ]
    },
    {
      "cell_type": "markdown",
      "metadata": {
        "id": "SmYVhHTXgtUx",
        "colab_type": "text"
      },
      "source": [
        "## Postures"
      ]
    },
    {
      "cell_type": "markdown",
      "metadata": {
        "id": "UX_U-tmzg-kc",
        "colab_type": "text"
      },
      "source": [
        "### How many mode-errors are there for each task type\n",
        "\n"
      ]
    },
    {
      "cell_type": "code",
      "metadata": {
        "id": "HDfxQcNBPz2i",
        "colab_type": "code",
        "colab": {
          "base_uri": "https://localhost:8080/",
          "height": 121
        },
        "outputId": "54b5766d-00d9-4705-cd92-117029bf3399"
      },
      "source": [
        "df_all.loc[(df_all[\"Reference_Action_Count\"] >= df_all[\"Incorrect_Action_Count\"])].groupby(\"Target_Type\")[\"Participant\"].count()"
      ],
      "execution_count": 19,
      "outputs": [
        {
          "output_type": "execute_result",
          "data": {
            "text/plain": [
              "Target_Type\n",
              "click       3600\n",
              "posture     3455\n",
              "shortcut    3489\n",
              "word        3600\n",
              "Name: Participant, dtype: int64"
            ]
          },
          "metadata": {
            "tags": []
          },
          "execution_count": 19
        }
      ]
    },
    {
      "cell_type": "code",
      "metadata": {
        "id": "l7pQ3IHSeY_1",
        "colab_type": "code",
        "colab": {}
      },
      "source": [
        "# df_all.loc[(df_all[\"Participant\"] == \"participant_36\") & (df_all[\"Target_Type\"]==\"word\")]#.groupby(\"Target_Type\")[\"Participant\"]\n",
        "# df_all.loc[(df_all[\"Target_Type\"]==\"shortcut\")]#.groupby(\"Target_Type\")[\"Participant\"]\n",
        "# df_all.loc[(df_all[\"Participant\"] == \"participant_36\") & (df_all[\"Target_Type\"]==\"shortcut\")].count()"
      ],
      "execution_count": 20,
      "outputs": []
    },
    {
      "cell_type": "markdown",
      "metadata": {
        "id": "4v6sC1MDj5pB",
        "colab_type": "text"
      },
      "source": [
        "### How many task-errors are there for each task type?"
      ]
    },
    {
      "cell_type": "code",
      "metadata": {
        "id": "KGKl3JsetFgb",
        "colab_type": "code",
        "colab": {
          "base_uri": "https://localhost:8080/",
          "height": 35
        },
        "outputId": "191836e5-34c6-4a0f-cd95-c5323e240b65"
      },
      "source": [
        "# df_all.loc[(df_all[\"Error\"]==True) & (df_all[\"Target_Type\"]==\"posture\")]#.groupby(\"Target_Type\").count()\n",
        "# # print(\"Task Error\")\n",
        "e = df_all.loc[(df_all[\"Error\"]==True)].groupby(\"Target_Type\")[\"Participant\"].count()\n",
        "p_id = (\"posture\",\"shortcut\",\"word\")\n",
        "[(p_id[i],e[i]) for i in range(3)]"
      ],
      "execution_count": 21,
      "outputs": [
        {
          "output_type": "execute_result",
          "data": {
            "text/plain": [
              "[('posture', 6), ('shortcut', 13), ('word', 74)]"
            ]
          },
          "metadata": {
            "tags": []
          },
          "execution_count": 21
        }
      ]
    },
    {
      "cell_type": "code",
      "metadata": {
        "id": "4HFPZZNzdZ-z",
        "colab_type": "code",
        "colab": {
          "base_uri": "https://localhost:8080/",
          "height": 317
        },
        "outputId": "51ee1d74-ed55-4ec7-a9ab-86e2927caf22"
      },
      "source": [
        "df_all.loc[(df_all[\"Error\"]==True) & (df_all[\"Target_Type\"]==\"posture\")]"
      ],
      "execution_count": 22,
      "outputs": [
        {
          "output_type": "execute_result",
          "data": {
            "text/html": [
              "<div>\n",
              "<style scoped>\n",
              "    .dataframe tbody tr th:only-of-type {\n",
              "        vertical-align: middle;\n",
              "    }\n",
              "\n",
              "    .dataframe tbody tr th {\n",
              "        vertical-align: top;\n",
              "    }\n",
              "\n",
              "    .dataframe thead th {\n",
              "        text-align: right;\n",
              "    }\n",
              "</style>\n",
              "<table border=\"1\" class=\"dataframe\">\n",
              "  <thead>\n",
              "    <tr style=\"text-align: right;\">\n",
              "      <th></th>\n",
              "      <th>Participant</th>\n",
              "      <th>TempBlock</th>\n",
              "      <th>Block</th>\n",
              "      <th>Sequence</th>\n",
              "      <th>Trial</th>\n",
              "      <th>Target_Type</th>\n",
              "      <th>Target_Name</th>\n",
              "      <th>Start_Time</th>\n",
              "      <th>End_Time</th>\n",
              "      <th>First_Reaction_Time</th>\n",
              "      <th>Mode_In_Time</th>\n",
              "      <th>Mode_Out_Time</th>\n",
              "      <th>Execution_Time</th>\n",
              "      <th>Completion_Time</th>\n",
              "      <th>Reference_Action_Count</th>\n",
              "      <th>Incorrect_Action_Count</th>\n",
              "      <th>Error</th>\n",
              "      <th>IV_Surface</th>\n",
              "      <th>IV_Orientation</th>\n",
              "      <th>IV_Form</th>\n",
              "      <th>IV_Hand</th>\n",
              "      <th>Previous_Reference_Task</th>\n",
              "      <th>Next_Reference_Task</th>\n",
              "    </tr>\n",
              "  </thead>\n",
              "  <tbody>\n",
              "    <tr>\n",
              "      <th>3053</th>\n",
              "      <td>participant_47</td>\n",
              "      <td>1</td>\n",
              "      <td>2</td>\n",
              "      <td>14</td>\n",
              "      <td>173</td>\n",
              "      <td>posture</td>\n",
              "      <td>Left_Open_90_Beside</td>\n",
              "      <td>1567803261888</td>\n",
              "      <td>1567803267900</td>\n",
              "      <td>1567803267900</td>\n",
              "      <td>6042</td>\n",
              "      <td>1691</td>\n",
              "      <td>7733</td>\n",
              "      <td>6012</td>\n",
              "      <td>0</td>\n",
              "      <td>0</td>\n",
              "      <td>True</td>\n",
              "      <td>Beside</td>\n",
              "      <td>90</td>\n",
              "      <td>Open</td>\n",
              "      <td>Non Dominant</td>\n",
              "      <td>word</td>\n",
              "      <td>click</td>\n",
              "    </tr>\n",
              "    <tr>\n",
              "      <th>10113</th>\n",
              "      <td>participant_36</td>\n",
              "      <td>0</td>\n",
              "      <td>0</td>\n",
              "      <td>16</td>\n",
              "      <td>33</td>\n",
              "      <td>posture</td>\n",
              "      <td>Left_Open_180_Below</td>\n",
              "      <td>1567544393502</td>\n",
              "      <td>1567544399511</td>\n",
              "      <td>1567544399511</td>\n",
              "      <td>6041</td>\n",
              "      <td>2294</td>\n",
              "      <td>8335</td>\n",
              "      <td>6009</td>\n",
              "      <td>0</td>\n",
              "      <td>0</td>\n",
              "      <td>True</td>\n",
              "      <td>Below</td>\n",
              "      <td>180</td>\n",
              "      <td>Open</td>\n",
              "      <td>Non Dominant</td>\n",
              "      <td>word</td>\n",
              "      <td>word</td>\n",
              "    </tr>\n",
              "    <tr>\n",
              "      <th>10257</th>\n",
              "      <td>participant_36</td>\n",
              "      <td>1</td>\n",
              "      <td>2</td>\n",
              "      <td>16</td>\n",
              "      <td>177</td>\n",
              "      <td>posture</td>\n",
              "      <td>Left_Open_180_Below</td>\n",
              "      <td>1567544735081</td>\n",
              "      <td>1567544741090</td>\n",
              "      <td>1567544741090</td>\n",
              "      <td>6043</td>\n",
              "      <td>1757</td>\n",
              "      <td>7800</td>\n",
              "      <td>6009</td>\n",
              "      <td>0</td>\n",
              "      <td>0</td>\n",
              "      <td>True</td>\n",
              "      <td>Below</td>\n",
              "      <td>180</td>\n",
              "      <td>Open</td>\n",
              "      <td>Non Dominant</td>\n",
              "      <td>word</td>\n",
              "      <td>word</td>\n",
              "    </tr>\n",
              "    <tr>\n",
              "      <th>10401</th>\n",
              "      <td>participant_36</td>\n",
              "      <td>2</td>\n",
              "      <td>4</td>\n",
              "      <td>16</td>\n",
              "      <td>321</td>\n",
              "      <td>posture</td>\n",
              "      <td>Left_Open_180_Below</td>\n",
              "      <td>1567545046692</td>\n",
              "      <td>1567545052701</td>\n",
              "      <td>1567545052701</td>\n",
              "      <td>6040</td>\n",
              "      <td>1292</td>\n",
              "      <td>7332</td>\n",
              "      <td>6009</td>\n",
              "      <td>0</td>\n",
              "      <td>0</td>\n",
              "      <td>True</td>\n",
              "      <td>Below</td>\n",
              "      <td>180</td>\n",
              "      <td>Open</td>\n",
              "      <td>Non Dominant</td>\n",
              "      <td>word</td>\n",
              "      <td>word</td>\n",
              "    </tr>\n",
              "    <tr>\n",
              "      <th>13031</th>\n",
              "      <td>participant_32</td>\n",
              "      <td>0</td>\n",
              "      <td>0</td>\n",
              "      <td>35</td>\n",
              "      <td>71</td>\n",
              "      <td>posture</td>\n",
              "      <td>Right_Open_180_Beside</td>\n",
              "      <td>1567198587616</td>\n",
              "      <td>1567198593625</td>\n",
              "      <td>1567198593625</td>\n",
              "      <td>6041</td>\n",
              "      <td>0</td>\n",
              "      <td>6041</td>\n",
              "      <td>6009</td>\n",
              "      <td>0</td>\n",
              "      <td>0</td>\n",
              "      <td>True</td>\n",
              "      <td>Beside</td>\n",
              "      <td>180</td>\n",
              "      <td>Open</td>\n",
              "      <td>Dominant</td>\n",
              "      <td>click</td>\n",
              "      <td>click</td>\n",
              "    </tr>\n",
              "    <tr>\n",
              "      <th>13175</th>\n",
              "      <td>participant_32</td>\n",
              "      <td>1</td>\n",
              "      <td>2</td>\n",
              "      <td>35</td>\n",
              "      <td>215</td>\n",
              "      <td>posture</td>\n",
              "      <td>Right_Open_180_Beside</td>\n",
              "      <td>1567198879461</td>\n",
              "      <td>1567198885471</td>\n",
              "      <td>1567198885471</td>\n",
              "      <td>6046</td>\n",
              "      <td>0</td>\n",
              "      <td>6046</td>\n",
              "      <td>6010</td>\n",
              "      <td>0</td>\n",
              "      <td>0</td>\n",
              "      <td>True</td>\n",
              "      <td>Beside</td>\n",
              "      <td>180</td>\n",
              "      <td>Open</td>\n",
              "      <td>Dominant</td>\n",
              "      <td>click</td>\n",
              "      <td>click</td>\n",
              "    </tr>\n",
              "  </tbody>\n",
              "</table>\n",
              "</div>"
            ],
            "text/plain": [
              "          Participant  TempBlock  ...  Previous_Reference_Task  Next_Reference_Task\n",
              "3053   participant_47          1  ...                     word                click\n",
              "10113  participant_36          0  ...                     word                 word\n",
              "10257  participant_36          1  ...                     word                 word\n",
              "10401  participant_36          2  ...                     word                 word\n",
              "13031  participant_32          0  ...                    click                click\n",
              "13175  participant_32          1  ...                    click                click\n",
              "\n",
              "[6 rows x 23 columns]"
            ]
          },
          "metadata": {
            "tags": []
          },
          "execution_count": 22
        }
      ]
    },
    {
      "cell_type": "code",
      "metadata": {
        "id": "KazM3DuTrx5U",
        "colab_type": "code",
        "colab": {
          "base_uri": "https://localhost:8080/",
          "height": 253
        },
        "outputId": "d6098238-d3d8-4993-a81c-6c57c6fb4f17"
      },
      "source": [
        "# Rename columns\n",
        "# df_all = df_all.rename(columns={\"Sequence\":\"Sub_Sequence\", \"Block\":\"Sequence\", \"TempBlock\": \"Block\"})\n",
        "df_all.head()"
      ],
      "execution_count": 23,
      "outputs": [
        {
          "output_type": "execute_result",
          "data": {
            "text/html": [
              "<div>\n",
              "<style scoped>\n",
              "    .dataframe tbody tr th:only-of-type {\n",
              "        vertical-align: middle;\n",
              "    }\n",
              "\n",
              "    .dataframe tbody tr th {\n",
              "        vertical-align: top;\n",
              "    }\n",
              "\n",
              "    .dataframe thead th {\n",
              "        text-align: right;\n",
              "    }\n",
              "</style>\n",
              "<table border=\"1\" class=\"dataframe\">\n",
              "  <thead>\n",
              "    <tr style=\"text-align: right;\">\n",
              "      <th></th>\n",
              "      <th>Participant</th>\n",
              "      <th>TempBlock</th>\n",
              "      <th>Block</th>\n",
              "      <th>Sequence</th>\n",
              "      <th>Trial</th>\n",
              "      <th>Target_Type</th>\n",
              "      <th>Target_Name</th>\n",
              "      <th>Start_Time</th>\n",
              "      <th>End_Time</th>\n",
              "      <th>First_Reaction_Time</th>\n",
              "      <th>Mode_In_Time</th>\n",
              "      <th>Mode_Out_Time</th>\n",
              "      <th>Execution_Time</th>\n",
              "      <th>Completion_Time</th>\n",
              "      <th>Reference_Action_Count</th>\n",
              "      <th>Incorrect_Action_Count</th>\n",
              "      <th>Error</th>\n",
              "      <th>IV_Surface</th>\n",
              "      <th>IV_Orientation</th>\n",
              "      <th>IV_Form</th>\n",
              "      <th>IV_Hand</th>\n",
              "      <th>Previous_Reference_Task</th>\n",
              "      <th>Next_Reference_Task</th>\n",
              "    </tr>\n",
              "  </thead>\n",
              "  <tbody>\n",
              "    <tr>\n",
              "      <th>0</th>\n",
              "      <td>participant_31</td>\n",
              "      <td>0</td>\n",
              "      <td>0</td>\n",
              "      <td>0</td>\n",
              "      <td>0</td>\n",
              "      <td>click</td>\n",
              "      <td>click me</td>\n",
              "      <td>1567118993864</td>\n",
              "      <td>1567118995310</td>\n",
              "      <td>1567118995310</td>\n",
              "      <td>0</td>\n",
              "      <td>1335</td>\n",
              "      <td>1335</td>\n",
              "      <td>1446</td>\n",
              "      <td>0</td>\n",
              "      <td>0</td>\n",
              "      <td>False</td>\n",
              "      <td>NA</td>\n",
              "      <td>NA</td>\n",
              "      <td>NA</td>\n",
              "      <td>NA</td>\n",
              "      <td>NA</td>\n",
              "      <td>NA</td>\n",
              "    </tr>\n",
              "    <tr>\n",
              "      <th>1</th>\n",
              "      <td>participant_31</td>\n",
              "      <td>0</td>\n",
              "      <td>0</td>\n",
              "      <td>0</td>\n",
              "      <td>1</td>\n",
              "      <td>posture</td>\n",
              "      <td>Left_Close_0_On</td>\n",
              "      <td>1567118995331</td>\n",
              "      <td>1567118996645</td>\n",
              "      <td>1567118996645</td>\n",
              "      <td>1335</td>\n",
              "      <td>1758</td>\n",
              "      <td>3093</td>\n",
              "      <td>1314</td>\n",
              "      <td>26</td>\n",
              "      <td>4</td>\n",
              "      <td>False</td>\n",
              "      <td>On</td>\n",
              "      <td>0</td>\n",
              "      <td>Close</td>\n",
              "      <td>Non Dominant</td>\n",
              "      <td>click</td>\n",
              "      <td>word</td>\n",
              "    </tr>\n",
              "    <tr>\n",
              "      <th>2</th>\n",
              "      <td>participant_31</td>\n",
              "      <td>0</td>\n",
              "      <td>0</td>\n",
              "      <td>1</td>\n",
              "      <td>2</td>\n",
              "      <td>word</td>\n",
              "      <td>fully</td>\n",
              "      <td>1567118996665</td>\n",
              "      <td>1567118999400</td>\n",
              "      <td>1567118998403</td>\n",
              "      <td>1758</td>\n",
              "      <td>1775</td>\n",
              "      <td>3533</td>\n",
              "      <td>2735</td>\n",
              "      <td>0</td>\n",
              "      <td>0</td>\n",
              "      <td>False</td>\n",
              "      <td>NA</td>\n",
              "      <td>NA</td>\n",
              "      <td>NA</td>\n",
              "      <td>NA</td>\n",
              "      <td>NA</td>\n",
              "      <td>NA</td>\n",
              "    </tr>\n",
              "    <tr>\n",
              "      <th>3</th>\n",
              "      <td>participant_31</td>\n",
              "      <td>0</td>\n",
              "      <td>0</td>\n",
              "      <td>1</td>\n",
              "      <td>3</td>\n",
              "      <td>posture</td>\n",
              "      <td>Left_Close_0_Below</td>\n",
              "      <td>1567118999434</td>\n",
              "      <td>1567119001175</td>\n",
              "      <td>1567119001175</td>\n",
              "      <td>1775</td>\n",
              "      <td>2024</td>\n",
              "      <td>3799</td>\n",
              "      <td>1741</td>\n",
              "      <td>24</td>\n",
              "      <td>0</td>\n",
              "      <td>False</td>\n",
              "      <td>Below</td>\n",
              "      <td>0</td>\n",
              "      <td>Close</td>\n",
              "      <td>Non Dominant</td>\n",
              "      <td>word</td>\n",
              "      <td>click</td>\n",
              "    </tr>\n",
              "    <tr>\n",
              "      <th>4</th>\n",
              "      <td>participant_31</td>\n",
              "      <td>0</td>\n",
              "      <td>0</td>\n",
              "      <td>2</td>\n",
              "      <td>4</td>\n",
              "      <td>click</td>\n",
              "      <td>click me</td>\n",
              "      <td>1567119001198</td>\n",
              "      <td>1567119003199</td>\n",
              "      <td>1567119003199</td>\n",
              "      <td>2024</td>\n",
              "      <td>1678</td>\n",
              "      <td>3702</td>\n",
              "      <td>2001</td>\n",
              "      <td>0</td>\n",
              "      <td>0</td>\n",
              "      <td>False</td>\n",
              "      <td>NA</td>\n",
              "      <td>NA</td>\n",
              "      <td>NA</td>\n",
              "      <td>NA</td>\n",
              "      <td>NA</td>\n",
              "      <td>NA</td>\n",
              "    </tr>\n",
              "  </tbody>\n",
              "</table>\n",
              "</div>"
            ],
            "text/plain": [
              "      Participant  TempBlock  ...  Previous_Reference_Task  Next_Reference_Task\n",
              "0  participant_31          0  ...                       NA                   NA\n",
              "1  participant_31          0  ...                    click                 word\n",
              "2  participant_31          0  ...                       NA                   NA\n",
              "3  participant_31          0  ...                     word                click\n",
              "4  participant_31          0  ...                       NA                   NA\n",
              "\n",
              "[5 rows x 23 columns]"
            ]
          },
          "metadata": {
            "tags": []
          },
          "execution_count": 23
        }
      ]
    },
    {
      "cell_type": "markdown",
      "metadata": {
        "id": "Ys4L5lI2Nf_D",
        "colab_type": "text"
      },
      "source": [
        "### Pre processing"
      ]
    },
    {
      "cell_type": "code",
      "metadata": {
        "id": "DXp0vqY6P_tj",
        "colab_type": "code",
        "colab": {}
      },
      "source": [
        "# Separate erraneous trials\n",
        "df_error = df_all.loc[(df_all[\"Reference_Action_Count\"] < df_all[\"Incorrect_Action_Count\"]) & (df_all[\"Error\"]==True)]\n",
        "df_error_filtered = df_error.loc[(df_error[\"Target_Type\"]==\"shortcut\")|(df_error[\"Target_Type\"]==\"posture\")]\n",
        "df_error_filtered_outliers = remove_outliers(df_error_filtered, 'Completion_Time', aggregateby=['Block','Participant'], threshold=1)\n",
        "\n",
        "# Separate error-free trials\n",
        "df_error_free = df_all.loc[(df_all[\"Reference_Action_Count\"] >= df_all[\"Incorrect_Action_Count\"]) & (df_all[\"Error\"]==False)]\n",
        "df_error_free_filtered = df_error_free.loc[(df_error_free[\"Target_Type\"]==\"shortcut\")|(df_error_free[\"Target_Type\"]==\"posture\")]\n",
        "df_error_free_filtered_outliers = remove_outliers(df_error_free_filtered, 'Completion_Time', aggregateby=['Block','Participant'], threshold=1)\n",
        "df_error_free_filtered_outliers_2_5= df_error_free_filtered_outliers.loc[df_error_free_filtered_outliers[\"Block\"]!=0]\n"
      ],
      "execution_count": 68,
      "outputs": []
    },
    {
      "cell_type": "code",
      "metadata": {
        "id": "qsck67v9yOj_",
        "colab_type": "code",
        "colab": {
          "base_uri": "https://localhost:8080/",
          "height": 52
        },
        "outputId": "a5cedd65-ff40-46e3-8556-1a3a159fbd67"
      },
      "source": [
        "print(df_error_free_filtered.count()[0])\n",
        "print(df_error_free_filtered_outliers.count()[0])"
      ],
      "execution_count": 25,
      "outputs": [
        {
          "output_type": "stream",
          "text": [
            "6927\n",
            "6083\n"
          ],
          "name": "stdout"
        }
      ]
    },
    {
      "cell_type": "code",
      "metadata": {
        "id": "xRlAfNjtYLUp",
        "colab_type": "code",
        "colab": {
          "base_uri": "https://localhost:8080/",
          "height": 86
        },
        "outputId": "9e215fe9-2740-46f1-d1c7-1aa76550a644"
      },
      "source": [
        "# print(df_2_to_5.loc[(df_2_to_5[\"Target_Type\"]==\"posture\") & (df_2_to_5[\"Reference_Task\"]==\"click\")][\"Completion_Time\"].mean())\n",
        "# print(df_2_to_5.loc[(df_2_to_5[\"Target_Type\"]==\"shortcut\") & (df_2_to_5[\"Reference_Task\"]==\"click\")][\"Completion_Time\"].mean())\n",
        "print(df_error_free_filtered_outliers_2_5.loc[(df_error_free_filtered_outliers_2_5[\"Target_Type\"]==\"posture\")][\"Completion_Time\"].mean())\n",
        "print(df_error_free_filtered_outliers_2_5.loc[(df_error_free_filtered_outliers_2_5[\"Target_Type\"]==\"posture\")][\"Completion_Time\"].std())\n",
        "print(df_error_free_filtered_outliers_2_5.loc[(df_error_free_filtered_outliers_2_5[\"Target_Type\"]==\"shortcut\")][\"Completion_Time\"].mean())\n",
        "print(df_error_free_filtered_outliers_2_5.loc[(df_error_free_filtered_outliers_2_5[\"Target_Type\"]==\"shortcut\")][\"Completion_Time\"].std())\n",
        "# print(list(df_2_to_5.loc[(df_2_to_5[\"Target_Type\"]==\"posture\") & (df_2_to_5[\"Reference_Task\"]==\"click\")][\"Completion_Time\"]))\n",
        "\n",
        "# data_filtered.loc[(data_filtered[\"Target_Type\"]==\"shortcut\") & (data_filtered[\"Reference_Task\"]==\"click\")].groupby(\"Block\")[\"Completion_Time\"].mean()\n"
      ],
      "execution_count": 26,
      "outputs": [
        {
          "output_type": "stream",
          "text": [
            "1139.050963081862\n",
            "244.23082260852794\n",
            "1738.7931954636424\n",
            "458.3144445215732\n"
          ],
          "name": "stdout"
        }
      ]
    },
    {
      "cell_type": "code",
      "metadata": {
        "id": "JdZTzWkkQoSq",
        "colab_type": "code",
        "colab": {
          "base_uri": "https://localhost:8080/",
          "height": 17
        },
        "outputId": "62607972-df34-42bd-d3b0-8af7fefe7f3f"
      },
      "source": [
        "# Download errenous\n",
        "df_error_filtered_outliers.to_csv('df_error_filtered_outliers.csv') \n",
        "files.download('df_error_filtered_outliers.csv')"
      ],
      "execution_count": 30,
      "outputs": [
        {
          "output_type": "display_data",
          "data": {
            "application/javascript": [
              "\n",
              "    async function download(id, filename, size) {\n",
              "      if (!google.colab.kernel.accessAllowed) {\n",
              "        return;\n",
              "      }\n",
              "      const div = document.createElement('div');\n",
              "      const label = document.createElement('label');\n",
              "      label.textContent = `Downloading \"${filename}\": `;\n",
              "      div.appendChild(label);\n",
              "      const progress = document.createElement('progress');\n",
              "      progress.max = size;\n",
              "      div.appendChild(progress);\n",
              "      document.body.appendChild(div);\n",
              "\n",
              "      const buffers = [];\n",
              "      let downloaded = 0;\n",
              "\n",
              "      const channel = await google.colab.kernel.comms.open(id);\n",
              "      // Send a message to notify the kernel that we're ready.\n",
              "      channel.send({})\n",
              "\n",
              "      for await (const message of channel.messages) {\n",
              "        // Send a message to notify the kernel that we're ready.\n",
              "        channel.send({})\n",
              "        if (message.buffers) {\n",
              "          for (const buffer of message.buffers) {\n",
              "            buffers.push(buffer);\n",
              "            downloaded += buffer.byteLength;\n",
              "            progress.value = downloaded;\n",
              "          }\n",
              "        }\n",
              "      }\n",
              "      const blob = new Blob(buffers, {type: 'application/binary'});\n",
              "      const a = document.createElement('a');\n",
              "      a.href = window.URL.createObjectURL(blob);\n",
              "      a.download = filename;\n",
              "      div.appendChild(a);\n",
              "      a.click();\n",
              "      div.remove();\n",
              "    }\n",
              "  "
            ],
            "text/plain": [
              "<IPython.core.display.Javascript object>"
            ]
          },
          "metadata": {
            "tags": []
          }
        },
        {
          "output_type": "display_data",
          "data": {
            "application/javascript": [
              "download(\"download_2ac36a9d-5dfa-4352-9d32-864c1eb00a59\", \"df_error_filtered_outliers.csv\", 304)"
            ],
            "text/plain": [
              "<IPython.core.display.Javascript object>"
            ]
          },
          "metadata": {
            "tags": []
          }
        }
      ]
    },
    {
      "cell_type": "code",
      "metadata": {
        "id": "4ECyrqe_UF6X",
        "colab_type": "code",
        "colab": {
          "base_uri": "https://localhost:8080/",
          "height": 17
        },
        "outputId": "655bcae5-9f12-42af-f455-0e12ef7aad20"
      },
      "source": [
        "# Download error-free trials with all the blocks 1-5\n",
        "#  We need it for ANOVA\n",
        "df_error_free_filtered_outliers.to_csv('df_error_free_filtered_outliers_1_5.csv') \n",
        "files.download('df_error_free_filtered_outliers_1_5.csv')"
      ],
      "execution_count": 31,
      "outputs": [
        {
          "output_type": "display_data",
          "data": {
            "application/javascript": [
              "\n",
              "    async function download(id, filename, size) {\n",
              "      if (!google.colab.kernel.accessAllowed) {\n",
              "        return;\n",
              "      }\n",
              "      const div = document.createElement('div');\n",
              "      const label = document.createElement('label');\n",
              "      label.textContent = `Downloading \"${filename}\": `;\n",
              "      div.appendChild(label);\n",
              "      const progress = document.createElement('progress');\n",
              "      progress.max = size;\n",
              "      div.appendChild(progress);\n",
              "      document.body.appendChild(div);\n",
              "\n",
              "      const buffers = [];\n",
              "      let downloaded = 0;\n",
              "\n",
              "      const channel = await google.colab.kernel.comms.open(id);\n",
              "      // Send a message to notify the kernel that we're ready.\n",
              "      channel.send({})\n",
              "\n",
              "      for await (const message of channel.messages) {\n",
              "        // Send a message to notify the kernel that we're ready.\n",
              "        channel.send({})\n",
              "        if (message.buffers) {\n",
              "          for (const buffer of message.buffers) {\n",
              "            buffers.push(buffer);\n",
              "            downloaded += buffer.byteLength;\n",
              "            progress.value = downloaded;\n",
              "          }\n",
              "        }\n",
              "      }\n",
              "      const blob = new Blob(buffers, {type: 'application/binary'});\n",
              "      const a = document.createElement('a');\n",
              "      a.href = window.URL.createObjectURL(blob);\n",
              "      a.download = filename;\n",
              "      div.appendChild(a);\n",
              "      a.click();\n",
              "      div.remove();\n",
              "    }\n",
              "  "
            ],
            "text/plain": [
              "<IPython.core.display.Javascript object>"
            ]
          },
          "metadata": {
            "tags": []
          }
        },
        {
          "output_type": "display_data",
          "data": {
            "application/javascript": [
              "download(\"download_7efa5b1f-0564-4e32-9560-f9aefb2ac74d\", \"df_error_free_filtered_outliers_1_5.csv\", 994469)"
            ],
            "text/plain": [
              "<IPython.core.display.Javascript object>"
            ]
          },
          "metadata": {
            "tags": []
          }
        }
      ]
    },
    {
      "cell_type": "code",
      "metadata": {
        "id": "MDBnA3BLQ5-Z",
        "colab_type": "code",
        "colab": {
          "base_uri": "https://localhost:8080/",
          "height": 17
        },
        "outputId": "b41ddbf5-b83f-45b1-898a-5de3c29334d0"
      },
      "source": [
        "# Download error-free for only block 2-5\n",
        "df_error_free_filtered_outliers_2_5.to_csv('df_error_free_filtered_outliers_2_5.csv') \n",
        "files.download('df_error_free_filtered_outliers_2_5.csv')"
      ],
      "execution_count": 32,
      "outputs": [
        {
          "output_type": "display_data",
          "data": {
            "application/javascript": [
              "\n",
              "    async function download(id, filename, size) {\n",
              "      if (!google.colab.kernel.accessAllowed) {\n",
              "        return;\n",
              "      }\n",
              "      const div = document.createElement('div');\n",
              "      const label = document.createElement('label');\n",
              "      label.textContent = `Downloading \"${filename}\": `;\n",
              "      div.appendChild(label);\n",
              "      const progress = document.createElement('progress');\n",
              "      progress.max = size;\n",
              "      div.appendChild(progress);\n",
              "      document.body.appendChild(div);\n",
              "\n",
              "      const buffers = [];\n",
              "      let downloaded = 0;\n",
              "\n",
              "      const channel = await google.colab.kernel.comms.open(id);\n",
              "      // Send a message to notify the kernel that we're ready.\n",
              "      channel.send({})\n",
              "\n",
              "      for await (const message of channel.messages) {\n",
              "        // Send a message to notify the kernel that we're ready.\n",
              "        channel.send({})\n",
              "        if (message.buffers) {\n",
              "          for (const buffer of message.buffers) {\n",
              "            buffers.push(buffer);\n",
              "            downloaded += buffer.byteLength;\n",
              "            progress.value = downloaded;\n",
              "          }\n",
              "        }\n",
              "      }\n",
              "      const blob = new Blob(buffers, {type: 'application/binary'});\n",
              "      const a = document.createElement('a');\n",
              "      a.href = window.URL.createObjectURL(blob);\n",
              "      a.download = filename;\n",
              "      div.appendChild(a);\n",
              "      a.click();\n",
              "      div.remove();\n",
              "    }\n",
              "  "
            ],
            "text/plain": [
              "<IPython.core.display.Javascript object>"
            ]
          },
          "metadata": {
            "tags": []
          }
        },
        {
          "output_type": "display_data",
          "data": {
            "application/javascript": [
              "download(\"download_77dd2d62-fb4e-4bbb-9179-79c04dd1d62a\", \"df_error_free_filtered_outliers_2_5.csv\", 896330)"
            ],
            "text/plain": [
              "<IPython.core.display.Javascript object>"
            ]
          },
          "metadata": {
            "tags": []
          }
        }
      ]
    },
    {
      "cell_type": "code",
      "metadata": {
        "id": "8VAaQabZZY8B",
        "colab_type": "code",
        "colab": {
          "base_uri": "https://localhost:8080/",
          "height": 427
        },
        "outputId": "f8d10595-c01d-4373-a9f6-76d577c84285"
      },
      "source": [
        "df_error_free_filtered_outliers_2_5.loc[df_error_free_filtered_outliers_2_5[\"IV_Hand\"]==\"shortcut\"]"
      ],
      "execution_count": 33,
      "outputs": [
        {
          "output_type": "execute_result",
          "data": {
            "text/html": [
              "<div>\n",
              "<style scoped>\n",
              "    .dataframe tbody tr th:only-of-type {\n",
              "        vertical-align: middle;\n",
              "    }\n",
              "\n",
              "    .dataframe tbody tr th {\n",
              "        vertical-align: top;\n",
              "    }\n",
              "\n",
              "    .dataframe thead th {\n",
              "        text-align: right;\n",
              "    }\n",
              "</style>\n",
              "<table border=\"1\" class=\"dataframe\">\n",
              "  <thead>\n",
              "    <tr style=\"text-align: right;\">\n",
              "      <th></th>\n",
              "      <th>Participant</th>\n",
              "      <th>TempBlock</th>\n",
              "      <th>Block</th>\n",
              "      <th>Sequence</th>\n",
              "      <th>Trial</th>\n",
              "      <th>Target_Type</th>\n",
              "      <th>Target_Name</th>\n",
              "      <th>Start_Time</th>\n",
              "      <th>End_Time</th>\n",
              "      <th>First_Reaction_Time</th>\n",
              "      <th>Mode_In_Time</th>\n",
              "      <th>Mode_Out_Time</th>\n",
              "      <th>Execution_Time</th>\n",
              "      <th>Completion_Time</th>\n",
              "      <th>Reference_Action_Count</th>\n",
              "      <th>Incorrect_Action_Count</th>\n",
              "      <th>Error</th>\n",
              "      <th>IV_Surface</th>\n",
              "      <th>IV_Orientation</th>\n",
              "      <th>IV_Form</th>\n",
              "      <th>IV_Hand</th>\n",
              "      <th>Previous_Reference_Task</th>\n",
              "      <th>Next_Reference_Task</th>\n",
              "    </tr>\n",
              "  </thead>\n",
              "  <tbody>\n",
              "    <tr>\n",
              "      <th>77</th>\n",
              "      <td>participant_31</td>\n",
              "      <td>0</td>\n",
              "      <td>1</td>\n",
              "      <td>2</td>\n",
              "      <td>77</td>\n",
              "      <td>shortcut</td>\n",
              "      <td>down</td>\n",
              "      <td>1567119184273</td>\n",
              "      <td>1567119186772</td>\n",
              "      <td>1567119186772</td>\n",
              "      <td>2531</td>\n",
              "      <td>133</td>\n",
              "      <td>2664</td>\n",
              "      <td>2499</td>\n",
              "      <td>0</td>\n",
              "      <td>0</td>\n",
              "      <td>False</td>\n",
              "      <td>shortcut</td>\n",
              "      <td>shortcut</td>\n",
              "      <td>shortcut</td>\n",
              "      <td>shortcut</td>\n",
              "      <td>click</td>\n",
              "      <td>word</td>\n",
              "    </tr>\n",
              "    <tr>\n",
              "      <th>79</th>\n",
              "      <td>participant_31</td>\n",
              "      <td>0</td>\n",
              "      <td>1</td>\n",
              "      <td>3</td>\n",
              "      <td>79</td>\n",
              "      <td>shortcut</td>\n",
              "      <td>E</td>\n",
              "      <td>1567119188973</td>\n",
              "      <td>1567119191241</td>\n",
              "      <td>1567119191241</td>\n",
              "      <td>2301</td>\n",
              "      <td>100</td>\n",
              "      <td>2401</td>\n",
              "      <td>2268</td>\n",
              "      <td>0</td>\n",
              "      <td>0</td>\n",
              "      <td>False</td>\n",
              "      <td>shortcut</td>\n",
              "      <td>shortcut</td>\n",
              "      <td>shortcut</td>\n",
              "      <td>shortcut</td>\n",
              "      <td>word</td>\n",
              "      <td>word</td>\n",
              "    </tr>\n",
              "    <tr>\n",
              "      <th>81</th>\n",
              "      <td>participant_31</td>\n",
              "      <td>0</td>\n",
              "      <td>1</td>\n",
              "      <td>4</td>\n",
              "      <td>81</td>\n",
              "      <td>shortcut</td>\n",
              "      <td>Y</td>\n",
              "      <td>1567119193205</td>\n",
              "      <td>1567119195141</td>\n",
              "      <td>1567119195141</td>\n",
              "      <td>1966</td>\n",
              "      <td>1563</td>\n",
              "      <td>3529</td>\n",
              "      <td>1936</td>\n",
              "      <td>0</td>\n",
              "      <td>0</td>\n",
              "      <td>False</td>\n",
              "      <td>shortcut</td>\n",
              "      <td>shortcut</td>\n",
              "      <td>shortcut</td>\n",
              "      <td>shortcut</td>\n",
              "      <td>word</td>\n",
              "      <td>click</td>\n",
              "    </tr>\n",
              "    <tr>\n",
              "      <th>83</th>\n",
              "      <td>participant_31</td>\n",
              "      <td>0</td>\n",
              "      <td>1</td>\n",
              "      <td>5</td>\n",
              "      <td>83</td>\n",
              "      <td>shortcut</td>\n",
              "      <td>L</td>\n",
              "      <td>1567119196738</td>\n",
              "      <td>1567119198874</td>\n",
              "      <td>1567119198874</td>\n",
              "      <td>2170</td>\n",
              "      <td>130</td>\n",
              "      <td>2300</td>\n",
              "      <td>2136</td>\n",
              "      <td>0</td>\n",
              "      <td>0</td>\n",
              "      <td>False</td>\n",
              "      <td>shortcut</td>\n",
              "      <td>shortcut</td>\n",
              "      <td>shortcut</td>\n",
              "      <td>shortcut</td>\n",
              "      <td>click</td>\n",
              "      <td>word</td>\n",
              "    </tr>\n",
              "    <tr>\n",
              "      <th>85</th>\n",
              "      <td>participant_31</td>\n",
              "      <td>0</td>\n",
              "      <td>1</td>\n",
              "      <td>6</td>\n",
              "      <td>85</td>\n",
              "      <td>shortcut</td>\n",
              "      <td>F</td>\n",
              "      <td>1567119200908</td>\n",
              "      <td>1567119203840</td>\n",
              "      <td>1567119203840</td>\n",
              "      <td>2968</td>\n",
              "      <td>2001</td>\n",
              "      <td>4969</td>\n",
              "      <td>2932</td>\n",
              "      <td>0</td>\n",
              "      <td>0</td>\n",
              "      <td>False</td>\n",
              "      <td>shortcut</td>\n",
              "      <td>shortcut</td>\n",
              "      <td>shortcut</td>\n",
              "      <td>shortcut</td>\n",
              "      <td>word</td>\n",
              "      <td>click</td>\n",
              "    </tr>\n",
              "    <tr>\n",
              "      <th>...</th>\n",
              "      <td>...</td>\n",
              "      <td>...</td>\n",
              "      <td>...</td>\n",
              "      <td>...</td>\n",
              "      <td>...</td>\n",
              "      <td>...</td>\n",
              "      <td>...</td>\n",
              "      <td>...</td>\n",
              "      <td>...</td>\n",
              "      <td>...</td>\n",
              "      <td>...</td>\n",
              "      <td>...</td>\n",
              "      <td>...</td>\n",
              "      <td>...</td>\n",
              "      <td>...</td>\n",
              "      <td>...</td>\n",
              "      <td>...</td>\n",
              "      <td>...</td>\n",
              "      <td>...</td>\n",
              "      <td>...</td>\n",
              "      <td>...</td>\n",
              "      <td>...</td>\n",
              "      <td>...</td>\n",
              "    </tr>\n",
              "    <tr>\n",
              "      <th>14389</th>\n",
              "      <td>participant_46</td>\n",
              "      <td>4</td>\n",
              "      <td>9</td>\n",
              "      <td>30</td>\n",
              "      <td>709</td>\n",
              "      <td>shortcut</td>\n",
              "      <td>F</td>\n",
              "      <td>1567739017140</td>\n",
              "      <td>1567739019607</td>\n",
              "      <td>1567739019607</td>\n",
              "      <td>2497</td>\n",
              "      <td>103</td>\n",
              "      <td>2600</td>\n",
              "      <td>2467</td>\n",
              "      <td>0</td>\n",
              "      <td>0</td>\n",
              "      <td>False</td>\n",
              "      <td>shortcut</td>\n",
              "      <td>shortcut</td>\n",
              "      <td>shortcut</td>\n",
              "      <td>shortcut</td>\n",
              "      <td>click</td>\n",
              "      <td>word</td>\n",
              "    </tr>\n",
              "    <tr>\n",
              "      <th>14391</th>\n",
              "      <td>participant_46</td>\n",
              "      <td>4</td>\n",
              "      <td>9</td>\n",
              "      <td>31</td>\n",
              "      <td>711</td>\n",
              "      <td>shortcut</td>\n",
              "      <td>A</td>\n",
              "      <td>1567739021709</td>\n",
              "      <td>1567739022940</td>\n",
              "      <td>1567739022940</td>\n",
              "      <td>1267</td>\n",
              "      <td>102</td>\n",
              "      <td>1369</td>\n",
              "      <td>1231</td>\n",
              "      <td>0</td>\n",
              "      <td>0</td>\n",
              "      <td>False</td>\n",
              "      <td>shortcut</td>\n",
              "      <td>shortcut</td>\n",
              "      <td>shortcut</td>\n",
              "      <td>shortcut</td>\n",
              "      <td>word</td>\n",
              "      <td>word</td>\n",
              "    </tr>\n",
              "    <tr>\n",
              "      <th>14393</th>\n",
              "      <td>participant_46</td>\n",
              "      <td>4</td>\n",
              "      <td>9</td>\n",
              "      <td>32</td>\n",
              "      <td>713</td>\n",
              "      <td>shortcut</td>\n",
              "      <td>K</td>\n",
              "      <td>1567739026042</td>\n",
              "      <td>1567739027277</td>\n",
              "      <td>1567739027277</td>\n",
              "      <td>1267</td>\n",
              "      <td>2398</td>\n",
              "      <td>3665</td>\n",
              "      <td>1235</td>\n",
              "      <td>0</td>\n",
              "      <td>0</td>\n",
              "      <td>False</td>\n",
              "      <td>shortcut</td>\n",
              "      <td>shortcut</td>\n",
              "      <td>shortcut</td>\n",
              "      <td>shortcut</td>\n",
              "      <td>word</td>\n",
              "      <td>click</td>\n",
              "    </tr>\n",
              "    <tr>\n",
              "      <th>14395</th>\n",
              "      <td>participant_46</td>\n",
              "      <td>4</td>\n",
              "      <td>9</td>\n",
              "      <td>33</td>\n",
              "      <td>715</td>\n",
              "      <td>shortcut</td>\n",
              "      <td>S</td>\n",
              "      <td>1567739029709</td>\n",
              "      <td>1567739031574</td>\n",
              "      <td>1567739031574</td>\n",
              "      <td>1899</td>\n",
              "      <td>103</td>\n",
              "      <td>2002</td>\n",
              "      <td>1865</td>\n",
              "      <td>0</td>\n",
              "      <td>0</td>\n",
              "      <td>False</td>\n",
              "      <td>shortcut</td>\n",
              "      <td>shortcut</td>\n",
              "      <td>shortcut</td>\n",
              "      <td>shortcut</td>\n",
              "      <td>click</td>\n",
              "      <td>word</td>\n",
              "    </tr>\n",
              "    <tr>\n",
              "      <th>14399</th>\n",
              "      <td>participant_46</td>\n",
              "      <td>4</td>\n",
              "      <td>9</td>\n",
              "      <td>35</td>\n",
              "      <td>719</td>\n",
              "      <td>shortcut</td>\n",
              "      <td>G</td>\n",
              "      <td>1567739039809</td>\n",
              "      <td>1567739041676</td>\n",
              "      <td>1567739041676</td>\n",
              "      <td>1899</td>\n",
              "      <td>0</td>\n",
              "      <td>1899</td>\n",
              "      <td>1867</td>\n",
              "      <td>0</td>\n",
              "      <td>0</td>\n",
              "      <td>False</td>\n",
              "      <td>shortcut</td>\n",
              "      <td>shortcut</td>\n",
              "      <td>shortcut</td>\n",
              "      <td>shortcut</td>\n",
              "      <td>click</td>\n",
              "      <td>NA</td>\n",
              "    </tr>\n",
              "  </tbody>\n",
              "</table>\n",
              "<p>2998 rows × 23 columns</p>\n",
              "</div>"
            ],
            "text/plain": [
              "          Participant  TempBlock  ...  Previous_Reference_Task  Next_Reference_Task\n",
              "77     participant_31          0  ...                    click                 word\n",
              "79     participant_31          0  ...                     word                 word\n",
              "81     participant_31          0  ...                     word                click\n",
              "83     participant_31          0  ...                    click                 word\n",
              "85     participant_31          0  ...                     word                click\n",
              "...               ...        ...  ...                      ...                  ...\n",
              "14389  participant_46          4  ...                    click                 word\n",
              "14391  participant_46          4  ...                     word                 word\n",
              "14393  participant_46          4  ...                     word                click\n",
              "14395  participant_46          4  ...                    click                 word\n",
              "14399  participant_46          4  ...                    click                   NA\n",
              "\n",
              "[2998 rows x 23 columns]"
            ]
          },
          "metadata": {
            "tags": []
          },
          "execution_count": 33
        }
      ]
    },
    {
      "cell_type": "code",
      "metadata": {
        "id": "ly4pcG7TOE9l",
        "colab_type": "code",
        "colab": {
          "base_uri": "https://localhost:8080/",
          "height": 324
        },
        "outputId": "d2487e23-3fc6-4203-c31f-c824a5abe24a"
      },
      "source": [
        "sns.set(style=\"whitegrid\")\n",
        "# plt.ylim(1000, 2000)\n",
        "\n",
        "plt.figure(figsize=(10,4))\n",
        "# ax = sns.pointplot(x=\"Block\", y=\"Execution_Time\",hue=\"IV_Surface\", err_style=\"bars\", data=data_filtered, capsize=0.1, ci=95, dashes=True)\n",
        "ax = sns.barplot(x=\"IV_Hand\", y=\"Completion_Time\", data=df_error_free_filtered_outliers_2_5, capsize=0.1)\n",
        "ax.legend(loc='lower right')#, bbox_to_anchor=(0.8, 0.5), ncol=1)\n",
        "ax.axes.set_ylim(1000,2000)"
      ],
      "execution_count": 67,
      "outputs": [
        {
          "output_type": "stream",
          "text": [
            "No handles with labels found to put in legend.\n"
          ],
          "name": "stderr"
        },
        {
          "output_type": "execute_result",
          "data": {
            "text/plain": [
              "(1000.0, 2000.0)"
            ]
          },
          "metadata": {
            "tags": []
          },
          "execution_count": 67
        },
        {
          "output_type": "display_data",
          "data": {
            "image/png": "[encoded data removed]",
            "text/plain": [
              "<Figure size 720x288 with 1 Axes>"
            ]
          },
          "metadata": {
            "tags": []
          }
        }
      ]
    },
    {
      "cell_type": "code",
      "metadata": {
        "id": "6p2YrMUXdqdC",
        "colab_type": "code",
        "colab": {
          "base_uri": "https://localhost:8080/",
          "height": 218
        },
        "outputId": "4246e1d1-ddef-41a5-f67c-19ba19b5c001"
      },
      "source": [
        "df_error_free_filtered_outliers_2_5.head()"
      ],
      "execution_count": 35,
      "outputs": [
        {
          "output_type": "execute_result",
          "data": {
            "text/html": [
              "<div>\n",
              "<style scoped>\n",
              "    .dataframe tbody tr th:only-of-type {\n",
              "        vertical-align: middle;\n",
              "    }\n",
              "\n",
              "    .dataframe tbody tr th {\n",
              "        vertical-align: top;\n",
              "    }\n",
              "\n",
              "    .dataframe thead th {\n",
              "        text-align: right;\n",
              "    }\n",
              "</style>\n",
              "<table border=\"1\" class=\"dataframe\">\n",
              "  <thead>\n",
              "    <tr style=\"text-align: right;\">\n",
              "      <th></th>\n",
              "      <th>Participant</th>\n",
              "      <th>TempBlock</th>\n",
              "      <th>Block</th>\n",
              "      <th>Sequence</th>\n",
              "      <th>Trial</th>\n",
              "      <th>Target_Type</th>\n",
              "      <th>Target_Name</th>\n",
              "      <th>Start_Time</th>\n",
              "      <th>End_Time</th>\n",
              "      <th>First_Reaction_Time</th>\n",
              "      <th>Mode_In_Time</th>\n",
              "      <th>Mode_Out_Time</th>\n",
              "      <th>Execution_Time</th>\n",
              "      <th>Completion_Time</th>\n",
              "      <th>Reference_Action_Count</th>\n",
              "      <th>Incorrect_Action_Count</th>\n",
              "      <th>Error</th>\n",
              "      <th>IV_Surface</th>\n",
              "      <th>IV_Orientation</th>\n",
              "      <th>IV_Form</th>\n",
              "      <th>IV_Hand</th>\n",
              "      <th>Previous_Reference_Task</th>\n",
              "      <th>Next_Reference_Task</th>\n",
              "    </tr>\n",
              "  </thead>\n",
              "  <tbody>\n",
              "    <tr>\n",
              "      <th>77</th>\n",
              "      <td>participant_31</td>\n",
              "      <td>0</td>\n",
              "      <td>1</td>\n",
              "      <td>2</td>\n",
              "      <td>77</td>\n",
              "      <td>shortcut</td>\n",
              "      <td>down</td>\n",
              "      <td>1567119184273</td>\n",
              "      <td>1567119186772</td>\n",
              "      <td>1567119186772</td>\n",
              "      <td>2531</td>\n",
              "      <td>133</td>\n",
              "      <td>2664</td>\n",
              "      <td>2499</td>\n",
              "      <td>0</td>\n",
              "      <td>0</td>\n",
              "      <td>False</td>\n",
              "      <td>shortcut</td>\n",
              "      <td>shortcut</td>\n",
              "      <td>shortcut</td>\n",
              "      <td>shortcut</td>\n",
              "      <td>click</td>\n",
              "      <td>word</td>\n",
              "    </tr>\n",
              "    <tr>\n",
              "      <th>79</th>\n",
              "      <td>participant_31</td>\n",
              "      <td>0</td>\n",
              "      <td>1</td>\n",
              "      <td>3</td>\n",
              "      <td>79</td>\n",
              "      <td>shortcut</td>\n",
              "      <td>E</td>\n",
              "      <td>1567119188973</td>\n",
              "      <td>1567119191241</td>\n",
              "      <td>1567119191241</td>\n",
              "      <td>2301</td>\n",
              "      <td>100</td>\n",
              "      <td>2401</td>\n",
              "      <td>2268</td>\n",
              "      <td>0</td>\n",
              "      <td>0</td>\n",
              "      <td>False</td>\n",
              "      <td>shortcut</td>\n",
              "      <td>shortcut</td>\n",
              "      <td>shortcut</td>\n",
              "      <td>shortcut</td>\n",
              "      <td>word</td>\n",
              "      <td>word</td>\n",
              "    </tr>\n",
              "    <tr>\n",
              "      <th>81</th>\n",
              "      <td>participant_31</td>\n",
              "      <td>0</td>\n",
              "      <td>1</td>\n",
              "      <td>4</td>\n",
              "      <td>81</td>\n",
              "      <td>shortcut</td>\n",
              "      <td>Y</td>\n",
              "      <td>1567119193205</td>\n",
              "      <td>1567119195141</td>\n",
              "      <td>1567119195141</td>\n",
              "      <td>1966</td>\n",
              "      <td>1563</td>\n",
              "      <td>3529</td>\n",
              "      <td>1936</td>\n",
              "      <td>0</td>\n",
              "      <td>0</td>\n",
              "      <td>False</td>\n",
              "      <td>shortcut</td>\n",
              "      <td>shortcut</td>\n",
              "      <td>shortcut</td>\n",
              "      <td>shortcut</td>\n",
              "      <td>word</td>\n",
              "      <td>click</td>\n",
              "    </tr>\n",
              "    <tr>\n",
              "      <th>83</th>\n",
              "      <td>participant_31</td>\n",
              "      <td>0</td>\n",
              "      <td>1</td>\n",
              "      <td>5</td>\n",
              "      <td>83</td>\n",
              "      <td>shortcut</td>\n",
              "      <td>L</td>\n",
              "      <td>1567119196738</td>\n",
              "      <td>1567119198874</td>\n",
              "      <td>1567119198874</td>\n",
              "      <td>2170</td>\n",
              "      <td>130</td>\n",
              "      <td>2300</td>\n",
              "      <td>2136</td>\n",
              "      <td>0</td>\n",
              "      <td>0</td>\n",
              "      <td>False</td>\n",
              "      <td>shortcut</td>\n",
              "      <td>shortcut</td>\n",
              "      <td>shortcut</td>\n",
              "      <td>shortcut</td>\n",
              "      <td>click</td>\n",
              "      <td>word</td>\n",
              "    </tr>\n",
              "    <tr>\n",
              "      <th>85</th>\n",
              "      <td>participant_31</td>\n",
              "      <td>0</td>\n",
              "      <td>1</td>\n",
              "      <td>6</td>\n",
              "      <td>85</td>\n",
              "      <td>shortcut</td>\n",
              "      <td>F</td>\n",
              "      <td>1567119200908</td>\n",
              "      <td>1567119203840</td>\n",
              "      <td>1567119203840</td>\n",
              "      <td>2968</td>\n",
              "      <td>2001</td>\n",
              "      <td>4969</td>\n",
              "      <td>2932</td>\n",
              "      <td>0</td>\n",
              "      <td>0</td>\n",
              "      <td>False</td>\n",
              "      <td>shortcut</td>\n",
              "      <td>shortcut</td>\n",
              "      <td>shortcut</td>\n",
              "      <td>shortcut</td>\n",
              "      <td>word</td>\n",
              "      <td>click</td>\n",
              "    </tr>\n",
              "  </tbody>\n",
              "</table>\n",
              "</div>"
            ],
            "text/plain": [
              "       Participant  TempBlock  ...  Previous_Reference_Task  Next_Reference_Task\n",
              "77  participant_31          0  ...                    click                 word\n",
              "79  participant_31          0  ...                     word                 word\n",
              "81  participant_31          0  ...                     word                click\n",
              "83  participant_31          0  ...                    click                 word\n",
              "85  participant_31          0  ...                     word                click\n",
              "\n",
              "[5 rows x 23 columns]"
            ]
          },
          "metadata": {
            "tags": []
          },
          "execution_count": 35
        }
      ]
    },
    {
      "cell_type": "code",
      "metadata": {
        "id": "H1n8JsEdJeMh",
        "colab_type": "code",
        "colab": {
          "base_uri": "https://localhost:8080/",
          "height": 656
        },
        "outputId": "dfdf5349-eeba-4483-808d-0b9fb5eeece8"
      },
      "source": [
        "df_error_free_filtered_outliers_2_5[\"IV_Orientation\"] = df_error_free_filtered_outliers_2_5[\"IV_Orientation\"].replace({\"shortcut\":\"Shortcut\"})\n",
        "df_error_free_filtered_outliers_2_5[\"IV_Form\"] = df_error_free_filtered_outliers_2_5[\"IV_Form\"].replace({\"shortcut\":\"Shortcut\"})\n",
        "df_error_free_filtered_outliers_2_5[\"IV_Hand\"] = df_error_free_filtered_outliers_2_5[\"IV_Hand\"].replace({\"shortcut\":\"Shortcut\"})\n",
        "df_error_free_filtered_outliers_2_5[\"IV_Surface\"] = df_error_free_filtered_outliers_2_5[\"IV_Surface\"].replace({\"shortcut\":\"Shortcut\"})\n",
        "\n",
        "df_error_free_filtered_outliers_2_5[\"Target_Type\"] = df_error_free_filtered_outliers_2_5[\"Target_Type\"].replace({\"shortcut\":\"Shortcut\", \"posture\":\"Posture\"})\n",
        "# df_error_free_filtered_outliers_2_5.replace(\"Non Dominant\", \"N.Dominant\")\n",
        "df_error_free_filtered_outliers_2_5['IV_Hand'] = df_error_free_filtered_outliers_2_5['IV_Hand'].map({'Non Dominant': \"N.Dominant\",\"Shortcut\":\"Shortcut\",\"Dominant\":\"Dominant\"})\n",
        "set(df_error_free_filtered_outliers_2_5[\"IV_Hand\"])"
      ],
      "execution_count": 70,
      "outputs": [
        {
          "output_type": "stream",
          "text": [
            "/usr/local/lib/python3.6/dist-packages/ipykernel_launcher.py:1: SettingWithCopyWarning: \n",
            "A value is trying to be set on a copy of a slice from a DataFrame.\n",
            "Try using .loc[row_indexer,col_indexer] = value instead\n",
            "\n",
            "See the caveats in the documentation: https://pandas.pydata.org/pandas-docs/stable/user_guide/indexing.html#returning-a-view-versus-a-copy\n",
            "  \"\"\"Entry point for launching an IPython kernel.\n",
            "/usr/local/lib/python3.6/dist-packages/ipykernel_launcher.py:2: SettingWithCopyWarning: \n",
            "A value is trying to be set on a copy of a slice from a DataFrame.\n",
            "Try using .loc[row_indexer,col_indexer] = value instead\n",
            "\n",
            "See the caveats in the documentation: https://pandas.pydata.org/pandas-docs/stable/user_guide/indexing.html#returning-a-view-versus-a-copy\n",
            "  \n",
            "/usr/local/lib/python3.6/dist-packages/ipykernel_launcher.py:3: SettingWithCopyWarning: \n",
            "A value is trying to be set on a copy of a slice from a DataFrame.\n",
            "Try using .loc[row_indexer,col_indexer] = value instead\n",
            "\n",
            "See the caveats in the documentation: https://pandas.pydata.org/pandas-docs/stable/user_guide/indexing.html#returning-a-view-versus-a-copy\n",
            "  This is separate from the ipykernel package so we can avoid doing imports until\n",
            "/usr/local/lib/python3.6/dist-packages/ipykernel_launcher.py:4: SettingWithCopyWarning: \n",
            "A value is trying to be set on a copy of a slice from a DataFrame.\n",
            "Try using .loc[row_indexer,col_indexer] = value instead\n",
            "\n",
            "See the caveats in the documentation: https://pandas.pydata.org/pandas-docs/stable/user_guide/indexing.html#returning-a-view-versus-a-copy\n",
            "  after removing the cwd from sys.path.\n",
            "/usr/local/lib/python3.6/dist-packages/ipykernel_launcher.py:6: SettingWithCopyWarning: \n",
            "A value is trying to be set on a copy of a slice from a DataFrame.\n",
            "Try using .loc[row_indexer,col_indexer] = value instead\n",
            "\n",
            "See the caveats in the documentation: https://pandas.pydata.org/pandas-docs/stable/user_guide/indexing.html#returning-a-view-versus-a-copy\n",
            "  \n",
            "/usr/local/lib/python3.6/dist-packages/ipykernel_launcher.py:8: SettingWithCopyWarning: \n",
            "A value is trying to be set on a copy of a slice from a DataFrame.\n",
            "Try using .loc[row_indexer,col_indexer] = value instead\n",
            "\n",
            "See the caveats in the documentation: https://pandas.pydata.org/pandas-docs/stable/user_guide/indexing.html#returning-a-view-versus-a-copy\n",
            "  \n"
          ],
          "name": "stderr"
        },
        {
          "output_type": "execute_result",
          "data": {
            "text/plain": [
              "{'Dominant', 'N.Dominant', 'Shortcut'}"
            ]
          },
          "metadata": {
            "tags": []
          },
          "execution_count": 70
        }
      ]
    },
    {
      "cell_type": "code",
      "metadata": {
        "id": "KvIy6uaHcq9Q",
        "colab_type": "code",
        "colab": {
          "base_uri": "https://localhost:8080/",
          "height": 245
        },
        "outputId": "9f3213a9-199a-4c91-a6df-adce7a18c5f1"
      },
      "source": [
        "sns.set(style=\"whitegrid\")\n",
        "\n",
        "# Set up the matplotlib figure\n",
        "f, axes = plt.subplots(1, 5, figsize=(38, 7),sharey=True)\n",
        "\n",
        "# Create an array with the colors you want to use\n",
        "colors = [\"#ABABAB\", \"#0085FF\", \"#0085FF\", \"#0085FF\"]\n",
        "# Set your custom color palette\n",
        "sns.set_palette(sns.color_palette(colors))\n",
        "\n",
        "# Plot a simple histogram with binsize determined automatically\n",
        "# sns.barplot(x=\"form\", y=\"Completion_Time\", data=df_error_free_filtered_outliers_2_5, capsize=0.1, ax=axes[0, 0])\n",
        "ax1 = sns.barplot(x=\"IV_Orientation\", y=\"Completion_Time\", data=df_error_free_filtered_outliers_2_5, capsize=0.1, ax=axes[0], order=[\"Shortcut\",\"0\", \"90\", \"180\"])\n",
        "ax2 = sns.barplot(x=\"IV_Form\", y=\"Completion_Time\", data=df_error_free_filtered_outliers_2_5, capsize=0.1, ax=axes[1], order=[\"Shortcut\",\"Open\", \"Close\"])\n",
        "ax3 = sns.barplot(x=\"IV_Hand\", y=\"Completion_Time\", data=df_error_free_filtered_outliers_2_5, capsize=0.1, ax=axes[2], order=[\"Shortcut\",\"Dominant\", \"N.Dominant\"])\n",
        "ax4 = sns.barplot(x=\"IV_Surface\", y=\"Completion_Time\", data=df_error_free_filtered_outliers_2_5, capsize=0.1, ax=axes[3], order=[\"Shortcut\",\"Below\", \"On\", \"Beside\"])\n",
        "ax5 = sns.barplot(x=\"Target_Type\", y=\"Completion_Time\", data=df_error_free_filtered_outliers_2_5, capsize=0.1, ax=axes[4], order=[\"Shortcut\",\"Posture\"])\n",
        "# ax1.get_legend().set_visible(False)\n",
        "# ax2.get_legend().set_visible(False)\n",
        "# ax3.get_legend().set_visible(False)\n",
        "# ax4.get_legend().set_visible(False)\n",
        "ax2.set_ylabel('') \n",
        "ax4.set_ylabel('') \n",
        "y_min = 0\n",
        "y_max = 1800\n",
        "\n",
        "ax1.axes.set_ylim(y_min,y_max)\n",
        "ax2.axes.set_ylim(y_min,y_max)\n",
        "# ax2.set_yticklabels([])\n",
        "ax3.axes.set_ylim(y_min,y_max)\n",
        "ax4.axes.set_ylim(y_min,y_max)\n",
        "ax5.axes.set_ylim(y_min,y_max)\n",
        "# ax4.set_yticklabels([])\n",
        "\n",
        "# Maximum bar width is 1. Normalise counts to be in the interval 0-1. Need to supply a maximum possible count here as maxwidth\n",
        "def normaliseCounts(widths,maxwidth):\n",
        "    widths = np.array(widths)/float(maxwidth)\n",
        "    return widths\n",
        "\n",
        "# widthbars = normaliseCounts([100,100,100,100],100)\n",
        "\n",
        "# Loop over the bars, and adjust the width (and position, to keep the bar centred)\n",
        "# for bar,newwidth in zip(ax1.patches,widthbars):\n",
        "#     x = bar.get_x()\n",
        "#     width = bar.get_width()\n",
        "#     centre = x+width/2.\n",
        "\n",
        "#     bar.set_x(centre-newwidth/2.)\n",
        "#     bar.set_width(newwidth)\n",
        "\n",
        "ax1.set_xlabel('(a) ORIENTATION', fontsize=30) \n",
        "ax2.set_xlabel('(b) FORM', fontsize=30) \n",
        "ax3.set_xlabel('(c) HAND', fontsize=30) \n",
        "ax4.set_xlabel('(d) SURFACE', fontsize=30) \n",
        "ax5.set_xlabel('(e) OVERALL', fontsize=30) \n",
        "ax1.set_ylabel('Completion Time (ms)', fontsize=30) \n",
        "ax2.set_ylabel('') \n",
        "ax3.set_ylabel('') \n",
        "ax4.set_ylabel('') \n",
        "ax5.set_ylabel('') \n",
        "\n",
        "# plt.setp(axes, yticks=[0,300,600,900,1200,1500,1800])\n",
        "plt.setp(axes, yticks=[0,500,1000,1500,2000])\n",
        "\n",
        "ax1.tick_params(axis='x', labelsize= 28)\n",
        "ax1.tick_params(axis='y', labelsize= 28)\n",
        "ax2.tick_params(axis='x', labelsize= 28)\n",
        "ax2.tick_params(axis='y', labelsize= 28)\n",
        "ax3.tick_params(axis='x', labelsize= 28)\n",
        "ax3.tick_params(axis='y', labelsize= 28)\n",
        "ax4.tick_params(axis='x', labelsize= 28)\n",
        "ax4.tick_params(axis='y', labelsize= 28)\n",
        "ax5.tick_params(axis='x', labelsize= 28)\n",
        "ax5.tick_params(axis='y', labelsize= 28)\n",
        "\n",
        "# sns.palplot(sns.color_palette(flatui))\n",
        "# plt.setp(axes,)\n",
        "plt.tight_layout()\n",
        "f.savefig('Figure8.pdf')"
      ],
      "execution_count": 184,
      "outputs": [
        {
          "output_type": "display_data",
          "data": {
            "image/png": "[encoded data removed]",
            "text/plain": [
              "<Figure size 2736x504 with 5 Axes>"
            ]
          },
          "metadata": {
            "tags": []
          }
        }
      ]
    },
    {
      "cell_type": "code",
      "metadata": {
        "id": "8e5AvvInkMbS",
        "colab_type": "code",
        "colab": {
          "base_uri": "https://localhost:8080/",
          "height": 35
        },
        "outputId": "7b7c785f-b291-4341-fb20-0a1b62a6f2af"
      },
      "source": [
        "df_error_free_filtered_outliers_2_5.loc[df_error_free_filtered_outliers_2_5[\"Target_Type\"]==\"shortcut\"].groupby(\"Block\")[\"Mode_Out_Time\"].mean()#"
      ],
      "execution_count": 38,
      "outputs": [
        {
          "output_type": "execute_result",
          "data": {
            "text/plain": [
              "Series([], Name: Mode_Out_Time, dtype: int64)"
            ]
          },
          "metadata": {
            "tags": []
          },
          "execution_count": 38
        }
      ]
    },
    {
      "cell_type": "code",
      "metadata": {
        "id": "Fxz1is_Qkrjf",
        "colab_type": "code",
        "colab": {}
      },
      "source": [
        "# df_error_free_filtered_outliers_2_5.groupby(\"Participant\")[\"Mode_Out_Time\"].std()\n",
        "df_error_free_filtered_outliers_2_5_from_word = df_error_free_filtered_outliers_2_5.loc[(df_error_free_filtered_outliers_2_5[\"Previous_Reference_Task\"]==\"word\")]\n",
        "df_error_free_filtered_outliers_2_5_from_click = df_error_free_filtered_outliers_2_5.loc[(df_error_free_filtered_outliers_2_5[\"Previous_Reference_Task\"]==\"click\")]\n",
        "df_error_free_filtered_outliers_2_5_to_word = df_error_free_filtered_outliers_2_5.loc[(df_error_free_filtered_outliers_2_5[\"Next_Reference_Task\"]==\"word\")]\n",
        "df_error_free_filtered_outliers_2_5_to_click = df_error_free_filtered_outliers_2_5.loc[(df_error_free_filtered_outliers_2_5[\"Next_Reference_Task\"]==\"click\")]"
      ],
      "execution_count": 112,
      "outputs": []
    },
    {
      "cell_type": "code",
      "metadata": {
        "id": "1XFrmW1pU1KI",
        "colab_type": "code",
        "colab": {
          "base_uri": "https://localhost:8080/",
          "height": 432
        },
        "outputId": "b9311b3b-5f8d-4f24-b094-86b43785e380"
      },
      "source": [
        "df_error_free_filtered_outliers_2_5_to_click.count()"
      ],
      "execution_count": 113,
      "outputs": [
        {
          "output_type": "execute_result",
          "data": {
            "text/plain": [
              "Participant                2720\n",
              "TempBlock                  2720\n",
              "Block                      2720\n",
              "Sequence                   2720\n",
              "Trial                      2720\n",
              "Target_Type                2720\n",
              "Target_Name                2720\n",
              "Start_Time                 2720\n",
              "End_Time                   2720\n",
              "First_Reaction_Time        2720\n",
              "Mode_In_Time               2720\n",
              "Mode_Out_Time              2720\n",
              "Execution_Time             2720\n",
              "Completion_Time            2720\n",
              "Reference_Action_Count     2720\n",
              "Incorrect_Action_Count     2720\n",
              "Error                      2720\n",
              "IV_Surface                 2720\n",
              "IV_Orientation             2720\n",
              "IV_Form                    2720\n",
              "IV_Hand                    2720\n",
              "Previous_Reference_Task    2720\n",
              "Next_Reference_Task        2720\n",
              "dtype: int64"
            ]
          },
          "metadata": {
            "tags": []
          },
          "execution_count": 113
        }
      ]
    },
    {
      "cell_type": "code",
      "metadata": {
        "id": "gEFKn2BUHQLE",
        "colab_type": "code",
        "colab": {
          "base_uri": "https://localhost:8080/",
          "height": 200
        },
        "outputId": "4119602f-6b4d-41f2-e25a-121bd5474009"
      },
      "source": [
        "# Download error-free\n",
        "df_error_free_filtered_outliers_2_5_word.to_csv('df_error_free_filtered_outliers_2_5_word.csv') \n",
        "files.download('df_error_free_filtered_outliers_2_5_word.csv')"
      ],
      "execution_count": 114,
      "outputs": [
        {
          "output_type": "error",
          "ename": "NameError",
          "evalue": "ignored",
          "traceback": [
            "\u001b[0;31m---------------------------------------------------------------------------\u001b[0m",
            "\u001b[0;31mNameError\u001b[0m                                 Traceback (most recent call last)",
            "\u001b[0;32m<ipython-input-114-d9209162a512>\u001b[0m in \u001b[0;36m<module>\u001b[0;34m()\u001b[0m\n\u001b[1;32m      1\u001b[0m \u001b[0;31m# Download error-free\u001b[0m\u001b[0;34m\u001b[0m\u001b[0;34m\u001b[0m\u001b[0;34m\u001b[0m\u001b[0m\n\u001b[0;32m----> 2\u001b[0;31m \u001b[0mdf_error_free_filtered_outliers_2_5_word\u001b[0m\u001b[0;34m.\u001b[0m\u001b[0mto_csv\u001b[0m\u001b[0;34m(\u001b[0m\u001b[0;34m'df_error_free_filtered_outliers_2_5_word.csv'\u001b[0m\u001b[0;34m)\u001b[0m\u001b[0;34m\u001b[0m\u001b[0;34m\u001b[0m\u001b[0m\n\u001b[0m\u001b[1;32m      3\u001b[0m \u001b[0mfiles\u001b[0m\u001b[0;34m.\u001b[0m\u001b[0mdownload\u001b[0m\u001b[0;34m(\u001b[0m\u001b[0;34m'df_error_free_filtered_outliers_2_5_word.csv'\u001b[0m\u001b[0;34m)\u001b[0m\u001b[0;34m\u001b[0m\u001b[0;34m\u001b[0m\u001b[0m\n",
            "\u001b[0;31mNameError\u001b[0m: name 'df_error_free_filtered_outliers_2_5_word' is not defined"
          ]
        }
      ]
    },
    {
      "cell_type": "code",
      "metadata": {
        "id": "R2cVFii_HU8Y",
        "colab_type": "code",
        "colab": {
          "base_uri": "https://localhost:8080/",
          "height": 200
        },
        "outputId": "811c7e03-0cb6-408c-9482-b238782ae247"
      },
      "source": [
        "# Download error-free\n",
        "df_error_free_filtered_outliers_2_5_click.to_csv('df_error_free_filtered_outliers_2_5_click.csv') \n",
        "files.download('df_error_free_filtered_outliers_2_5_click.csv')"
      ],
      "execution_count": 115,
      "outputs": [
        {
          "output_type": "error",
          "ename": "NameError",
          "evalue": "ignored",
          "traceback": [
            "\u001b[0;31m---------------------------------------------------------------------------\u001b[0m",
            "\u001b[0;31mNameError\u001b[0m                                 Traceback (most recent call last)",
            "\u001b[0;32m<ipython-input-115-adca4f544a81>\u001b[0m in \u001b[0;36m<module>\u001b[0;34m()\u001b[0m\n\u001b[1;32m      1\u001b[0m \u001b[0;31m# Download error-free\u001b[0m\u001b[0;34m\u001b[0m\u001b[0;34m\u001b[0m\u001b[0;34m\u001b[0m\u001b[0m\n\u001b[0;32m----> 2\u001b[0;31m \u001b[0mdf_error_free_filtered_outliers_2_5_click\u001b[0m\u001b[0;34m.\u001b[0m\u001b[0mto_csv\u001b[0m\u001b[0;34m(\u001b[0m\u001b[0;34m'df_error_free_filtered_outliers_2_5_click.csv'\u001b[0m\u001b[0;34m)\u001b[0m\u001b[0;34m\u001b[0m\u001b[0;34m\u001b[0m\u001b[0m\n\u001b[0m\u001b[1;32m      3\u001b[0m \u001b[0mfiles\u001b[0m\u001b[0;34m.\u001b[0m\u001b[0mdownload\u001b[0m\u001b[0;34m(\u001b[0m\u001b[0;34m'df_error_free_filtered_outliers_2_5_click.csv'\u001b[0m\u001b[0;34m)\u001b[0m\u001b[0;34m\u001b[0m\u001b[0;34m\u001b[0m\u001b[0m\n",
            "\u001b[0;31mNameError\u001b[0m: name 'df_error_free_filtered_outliers_2_5_click' is not defined"
          ]
        }
      ]
    },
    {
      "cell_type": "markdown",
      "metadata": {
        "id": "a7N_eAI3czL7",
        "colab_type": "text"
      },
      "source": [
        "#### considering only the transition time \"from\" typing/clicking "
      ]
    },
    {
      "cell_type": "code",
      "metadata": {
        "id": "Bz-gcFZHjxoL",
        "colab_type": "code",
        "colab": {
          "base_uri": "https://localhost:8080/",
          "height": 705
        },
        "outputId": "e5dd7f5f-66fc-4f1d-e5c5-bbfcebfd363c"
      },
      "source": [
        "# ax = sns.boxplot(x=\"Target_Type\", y=\"Mode_In_Time\", data=df_error_free_filtered_outliers_2_5)\n",
        "# ax = sns.pointplot(x=\"Target_Type\", y=\"Mode_In_Time\", err_style=\"bars\", data=df_error_free_filtered_outliers_2_5, capsize=0.1, ci=95, dashes=True)\n",
        "# ax = sns.barplot(x=\"Target_Type\", y=\"Mode_In_Time\", data=df_error_free_filtered_outliers_2_5_word)\n",
        "\n",
        "\n",
        "sns.set(style=\"whitegrid\")\n",
        "\n",
        "# Set up the matplotlib figure\n",
        "f, axes = plt.subplots(2, 2, figsize=(8, 7))\n",
        "\n",
        "# Plot a simple histogram with binsize determined automatically\n",
        "# sns.barplot(x=\"form\", y=\"Completion_Time\", data=df_error_free_filtered_outliers_2_5, capsize=0.1, ax=axes[0, 0])\n",
        "ax1 = sns.barplot(x=\"Target_Type\", y=\"Mode_In_Time\", data=df_error_free_filtered_outliers_2_5_word, capsize=0.1, ax=axes[0,0])#, order=[\"shortcut\",\"0\", \"90\", \"180\"])\n",
        "ax2 = sns.barplot(x=\"Target_Type\", y=\"Mode_In_Time\", data=df_error_free_filtered_outliers_2_5_click, capsize=0.1, ax=axes[0,1])#, order=[\"shortcut\",\"0\", \"90\", \"180\"])\n",
        "ax3 = sns.barplot(x=\"Target_Type\", y=\"Mode_Out_Time\", data=df_error_free_filtered_outliers_2_5_word, capsize=0.1, ax=axes[1,0])#, order=[\"shortcut\",\"0\", \"90\", \"180\"])\n",
        "ax4 = sns.barplot(x=\"Target_Type\", y=\"Mode_Out_Time\", data=df_error_free_filtered_outliers_2_5_click, capsize=0.1, ax=axes[1,1])#, order=[\"shortcut\",\"0\", \"90\", \"180\"])\n",
        "\n",
        "# ax1 = sns.barplot(x=\"IV_Orientation\", y=\"Completion_Time\", data=df_error_free_filtered_outliers_2_5, capsize=0.1, ax=axes[0, 0], order=[\"shortcut\",\"0\", \"90\", \"180\"])\n",
        "# ax2 = sns.barplot(x=\"IV_Form\", y=\"Completion_Time\", data=df_error_free_filtered_outliers_2_5, capsize=0.1, ax=axes[0, 1], order=[\"shortcut\",\"Open\", \"Close\"])\n",
        "# ax3 = sns.barplot(x=\"IV_Hand\", y=\"Completion_Time\", data=df_error_free_filtered_outliers_2_5, capsize=0.1, ax=axes[1, 0], order=[\"shortcut\",\"Dominant\", \"Non Dominant\"])\n",
        "# ax4 = sns.barplot(x=\"IV_Surface\", y=\"Completion_Time\", data=df_error_free_filtered_outliers_2_5, capsize=0.1, ax=axes[1, 1], order=[\"shortcut\",\"Below\", \"Beside\",\"On\"])\n",
        "\n",
        "# ax1.get_legend().set_visible(False)\n",
        "# ax2.get_legend().set_visible(False)\n",
        "# ax3.get_legend().set_visible(False)\n",
        "# ax4.get_legend().set_visible(False)\n",
        "ax2.set_ylabel('') \n",
        "# ax4.set_ylabel('') \n",
        "y_min_a = 500\n",
        "y_max_a = 4200\n",
        "y_min_b = 100\n",
        "y_max_b = 1500\n",
        "ax1.axes.set_ylim(y_min_a,y_max_a)\n",
        "ax2.axes.set_ylim(y_min_a,y_max_a)\n",
        "ax3.axes.set_ylim(y_min_b,y_max_b)\n",
        "ax4.axes.set_ylim(y_min_b,y_max_b)\n",
        "\n",
        "# plt.setp(axes,)\n",
        "plt.tight_layout()\n"
      ],
      "execution_count": 116,
      "outputs": [
        {
          "output_type": "error",
          "ename": "NameError",
          "evalue": "ignored",
          "traceback": [
            "\u001b[0;31m---------------------------------------------------------------------------\u001b[0m",
            "\u001b[0;31mNameError\u001b[0m                                 Traceback (most recent call last)",
            "\u001b[0;32m<ipython-input-116-fd0972f9a620>\u001b[0m in \u001b[0;36m<module>\u001b[0;34m()\u001b[0m\n\u001b[1;32m     11\u001b[0m \u001b[0;31m# Plot a simple histogram with binsize determined automatically\u001b[0m\u001b[0;34m\u001b[0m\u001b[0;34m\u001b[0m\u001b[0;34m\u001b[0m\u001b[0m\n\u001b[1;32m     12\u001b[0m \u001b[0;31m# sns.barplot(x=\"form\", y=\"Completion_Time\", data=df_error_free_filtered_outliers_2_5, capsize=0.1, ax=axes[0, 0])\u001b[0m\u001b[0;34m\u001b[0m\u001b[0;34m\u001b[0m\u001b[0;34m\u001b[0m\u001b[0m\n\u001b[0;32m---> 13\u001b[0;31m \u001b[0max1\u001b[0m \u001b[0;34m=\u001b[0m \u001b[0msns\u001b[0m\u001b[0;34m.\u001b[0m\u001b[0mbarplot\u001b[0m\u001b[0;34m(\u001b[0m\u001b[0mx\u001b[0m\u001b[0;34m=\u001b[0m\u001b[0;34m\"Target_Type\"\u001b[0m\u001b[0;34m,\u001b[0m \u001b[0my\u001b[0m\u001b[0;34m=\u001b[0m\u001b[0;34m\"Mode_In_Time\"\u001b[0m\u001b[0;34m,\u001b[0m \u001b[0mdata\u001b[0m\u001b[0;34m=\u001b[0m\u001b[0mdf_error_free_filtered_outliers_2_5_word\u001b[0m\u001b[0;34m,\u001b[0m \u001b[0mcapsize\u001b[0m\u001b[0;34m=\u001b[0m\u001b[0;36m0.1\u001b[0m\u001b[0;34m,\u001b[0m \u001b[0max\u001b[0m\u001b[0;34m=\u001b[0m\u001b[0maxes\u001b[0m\u001b[0;34m[\u001b[0m\u001b[0;36m0\u001b[0m\u001b[0;34m,\u001b[0m\u001b[0;36m0\u001b[0m\u001b[0;34m]\u001b[0m\u001b[0;34m)\u001b[0m\u001b[0;31m#, order=[\"shortcut\",\"0\", \"90\", \"180\"])\u001b[0m\u001b[0;34m\u001b[0m\u001b[0;34m\u001b[0m\u001b[0m\n\u001b[0m\u001b[1;32m     14\u001b[0m \u001b[0max2\u001b[0m \u001b[0;34m=\u001b[0m \u001b[0msns\u001b[0m\u001b[0;34m.\u001b[0m\u001b[0mbarplot\u001b[0m\u001b[0;34m(\u001b[0m\u001b[0mx\u001b[0m\u001b[0;34m=\u001b[0m\u001b[0;34m\"Target_Type\"\u001b[0m\u001b[0;34m,\u001b[0m \u001b[0my\u001b[0m\u001b[0;34m=\u001b[0m\u001b[0;34m\"Mode_In_Time\"\u001b[0m\u001b[0;34m,\u001b[0m \u001b[0mdata\u001b[0m\u001b[0;34m=\u001b[0m\u001b[0mdf_error_free_filtered_outliers_2_5_click\u001b[0m\u001b[0;34m,\u001b[0m \u001b[0mcapsize\u001b[0m\u001b[0;34m=\u001b[0m\u001b[0;36m0.1\u001b[0m\u001b[0;34m,\u001b[0m \u001b[0max\u001b[0m\u001b[0;34m=\u001b[0m\u001b[0maxes\u001b[0m\u001b[0;34m[\u001b[0m\u001b[0;36m0\u001b[0m\u001b[0;34m,\u001b[0m\u001b[0;36m1\u001b[0m\u001b[0;34m]\u001b[0m\u001b[0;34m)\u001b[0m\u001b[0;31m#, order=[\"shortcut\",\"0\", \"90\", \"180\"])\u001b[0m\u001b[0;34m\u001b[0m\u001b[0;34m\u001b[0m\u001b[0m\n\u001b[1;32m     15\u001b[0m \u001b[0max3\u001b[0m \u001b[0;34m=\u001b[0m \u001b[0msns\u001b[0m\u001b[0;34m.\u001b[0m\u001b[0mbarplot\u001b[0m\u001b[0;34m(\u001b[0m\u001b[0mx\u001b[0m\u001b[0;34m=\u001b[0m\u001b[0;34m\"Target_Type\"\u001b[0m\u001b[0;34m,\u001b[0m \u001b[0my\u001b[0m\u001b[0;34m=\u001b[0m\u001b[0;34m\"Mode_Out_Time\"\u001b[0m\u001b[0;34m,\u001b[0m \u001b[0mdata\u001b[0m\u001b[0;34m=\u001b[0m\u001b[0mdf_error_free_filtered_outliers_2_5_word\u001b[0m\u001b[0;34m,\u001b[0m \u001b[0mcapsize\u001b[0m\u001b[0;34m=\u001b[0m\u001b[0;36m0.1\u001b[0m\u001b[0;34m,\u001b[0m \u001b[0max\u001b[0m\u001b[0;34m=\u001b[0m\u001b[0maxes\u001b[0m\u001b[0;34m[\u001b[0m\u001b[0;36m1\u001b[0m\u001b[0;34m,\u001b[0m\u001b[0;36m0\u001b[0m\u001b[0;34m]\u001b[0m\u001b[0;34m)\u001b[0m\u001b[0;31m#, order=[\"shortcut\",\"0\", \"90\", \"180\"])\u001b[0m\u001b[0;34m\u001b[0m\u001b[0;34m\u001b[0m\u001b[0m\n",
            "\u001b[0;31mNameError\u001b[0m: name 'df_error_free_filtered_outliers_2_5_word' is not defined"
          ]
        },
        {
          "output_type": "display_data",
          "data": {
            "image/png": "[encoded data removed]",
            "text/plain": [
              "<Figure size 576x504 with 4 Axes>"
            ]
          },
          "metadata": {
            "tags": []
          }
        }
      ]
    },
    {
      "cell_type": "markdown",
      "metadata": {
        "id": "sXssFDugdAQW",
        "colab_type": "text"
      },
      "source": [
        "#### considering transition time FROM typing/clicking TO the SAME reference task of typing/clicking"
      ]
    },
    {
      "cell_type": "code",
      "metadata": {
        "id": "cjJMhiL2dAQN",
        "colab_type": "code",
        "colab": {
          "base_uri": "https://localhost:8080/",
          "height": 705
        },
        "outputId": "4157259d-27b3-4a1f-b61a-85f0c5084d88"
      },
      "source": [
        "# ax = sns.boxplot(x=\"Target_Type\", y=\"Mode_In_Time\", data=df_error_free_filtered_outliers_2_5)\n",
        "# ax = sns.pointplot(x=\"Target_Type\", y=\"Mode_In_Time\", err_style=\"bars\", data=df_error_free_filtered_outliers_2_5, capsize=0.1, ci=95, dashes=True)\n",
        "# ax = sns.barplot(x=\"Target_Type\", y=\"Mode_In_Time\", data=df_error_free_filtered_outliers_2_5_word)\n",
        "\n",
        "\n",
        "sns.set(style=\"whitegrid\")\n",
        "\n",
        "# Set up the matplotlib figure\n",
        "f, axes = plt.subplots(2, 2, figsize=(8, 7))\n",
        "\n",
        "# Plot a simple histogram with binsize determined automatically\n",
        "# sns.barplot(x=\"form\", y=\"Completion_Time\", data=df_error_free_filtered_outliers_2_5, capsize=0.1, ax=axes[0, 0])\n",
        "ax1 = sns.barplot(x=\"Target_Type\", y=\"Mode_In_Time\", data=df_error_free_filtered_outliers_2_5_word, capsize=0.1, ax=axes[0,0])#, order=[\"shortcut\",\"0\", \"90\", \"180\"])\n",
        "ax2 = sns.barplot(x=\"Target_Type\", y=\"Mode_In_Time\", data=df_error_free_filtered_outliers_2_5_click, capsize=0.1, ax=axes[0,1])#, order=[\"shortcut\",\"0\", \"90\", \"180\"])\n",
        "ax3 = sns.barplot(x=\"Target_Type\", y=\"Mode_Out_Time\", data=df_error_free_filtered_outliers_2_5_word, capsize=0.1, ax=axes[1,0])#, order=[\"shortcut\",\"0\", \"90\", \"180\"])\n",
        "ax4 = sns.barplot(x=\"Target_Type\", y=\"Mode_Out_Time\", data=df_error_free_filtered_outliers_2_5_click, capsize=0.1, ax=axes[1,1])#, order=[\"shortcut\",\"0\", \"90\", \"180\"])\n",
        "\n",
        "# ax1 = sns.barplot(x=\"IV_Orientation\", y=\"Completion_Time\", data=df_error_free_filtered_outliers_2_5, capsize=0.1, ax=axes[0, 0], order=[\"shortcut\",\"0\", \"90\", \"180\"])\n",
        "# ax2 = sns.barplot(x=\"IV_Form\", y=\"Completion_Time\", data=df_error_free_filtered_outliers_2_5, capsize=0.1, ax=axes[0, 1], order=[\"shortcut\",\"Open\", \"Close\"])\n",
        "# ax3 = sns.barplot(x=\"IV_Hand\", y=\"Completion_Time\", data=df_error_free_filtered_outliers_2_5, capsize=0.1, ax=axes[1, 0], order=[\"shortcut\",\"Dominant\", \"Non Dominant\"])\n",
        "# ax4 = sns.barplot(x=\"IV_Surface\", y=\"Completion_Time\", data=df_error_free_filtered_outliers_2_5, capsize=0.1, ax=axes[1, 1], order=[\"shortcut\",\"Below\", \"Beside\",\"On\"])\n",
        "\n",
        "# ax1.get_legend().set_visible(False)\n",
        "# ax2.get_legend().set_visible(False)\n",
        "# ax3.get_legend().set_visible(False)\n",
        "# ax4.get_legend().set_visible(False)\n",
        "ax2.set_ylabel('') \n",
        "# ax4.set_ylabel('') \n",
        "y_min_a = 500\n",
        "y_max_a = 4300\n",
        "y_min_b = 10\n",
        "y_max_b = 1400\n",
        "ax1.axes.set_ylim(y_min_a,y_max_a)\n",
        "ax2.axes.set_ylim(y_min_a,y_max_a)\n",
        "ax3.axes.set_ylim(y_min_b,y_max_b)\n",
        "ax4.axes.set_ylim(y_min_b,y_max_b)\n",
        "\n",
        "# plt.setp(axes,)\n",
        "plt.tight_layout()\n"
      ],
      "execution_count": 117,
      "outputs": [
        {
          "output_type": "error",
          "ename": "NameError",
          "evalue": "ignored",
          "traceback": [
            "\u001b[0;31m---------------------------------------------------------------------------\u001b[0m",
            "\u001b[0;31mNameError\u001b[0m                                 Traceback (most recent call last)",
            "\u001b[0;32m<ipython-input-117-811b12ae2655>\u001b[0m in \u001b[0;36m<module>\u001b[0;34m()\u001b[0m\n\u001b[1;32m     11\u001b[0m \u001b[0;31m# Plot a simple histogram with binsize determined automatically\u001b[0m\u001b[0;34m\u001b[0m\u001b[0;34m\u001b[0m\u001b[0;34m\u001b[0m\u001b[0m\n\u001b[1;32m     12\u001b[0m \u001b[0;31m# sns.barplot(x=\"form\", y=\"Completion_Time\", data=df_error_free_filtered_outliers_2_5, capsize=0.1, ax=axes[0, 0])\u001b[0m\u001b[0;34m\u001b[0m\u001b[0;34m\u001b[0m\u001b[0;34m\u001b[0m\u001b[0m\n\u001b[0;32m---> 13\u001b[0;31m \u001b[0max1\u001b[0m \u001b[0;34m=\u001b[0m \u001b[0msns\u001b[0m\u001b[0;34m.\u001b[0m\u001b[0mbarplot\u001b[0m\u001b[0;34m(\u001b[0m\u001b[0mx\u001b[0m\u001b[0;34m=\u001b[0m\u001b[0;34m\"Target_Type\"\u001b[0m\u001b[0;34m,\u001b[0m \u001b[0my\u001b[0m\u001b[0;34m=\u001b[0m\u001b[0;34m\"Mode_In_Time\"\u001b[0m\u001b[0;34m,\u001b[0m \u001b[0mdata\u001b[0m\u001b[0;34m=\u001b[0m\u001b[0mdf_error_free_filtered_outliers_2_5_word\u001b[0m\u001b[0;34m,\u001b[0m \u001b[0mcapsize\u001b[0m\u001b[0;34m=\u001b[0m\u001b[0;36m0.1\u001b[0m\u001b[0;34m,\u001b[0m \u001b[0max\u001b[0m\u001b[0;34m=\u001b[0m\u001b[0maxes\u001b[0m\u001b[0;34m[\u001b[0m\u001b[0;36m0\u001b[0m\u001b[0;34m,\u001b[0m\u001b[0;36m0\u001b[0m\u001b[0;34m]\u001b[0m\u001b[0;34m)\u001b[0m\u001b[0;31m#, order=[\"shortcut\",\"0\", \"90\", \"180\"])\u001b[0m\u001b[0;34m\u001b[0m\u001b[0;34m\u001b[0m\u001b[0m\n\u001b[0m\u001b[1;32m     14\u001b[0m \u001b[0max2\u001b[0m \u001b[0;34m=\u001b[0m \u001b[0msns\u001b[0m\u001b[0;34m.\u001b[0m\u001b[0mbarplot\u001b[0m\u001b[0;34m(\u001b[0m\u001b[0mx\u001b[0m\u001b[0;34m=\u001b[0m\u001b[0;34m\"Target_Type\"\u001b[0m\u001b[0;34m,\u001b[0m \u001b[0my\u001b[0m\u001b[0;34m=\u001b[0m\u001b[0;34m\"Mode_In_Time\"\u001b[0m\u001b[0;34m,\u001b[0m \u001b[0mdata\u001b[0m\u001b[0;34m=\u001b[0m\u001b[0mdf_error_free_filtered_outliers_2_5_click\u001b[0m\u001b[0;34m,\u001b[0m \u001b[0mcapsize\u001b[0m\u001b[0;34m=\u001b[0m\u001b[0;36m0.1\u001b[0m\u001b[0;34m,\u001b[0m \u001b[0max\u001b[0m\u001b[0;34m=\u001b[0m\u001b[0maxes\u001b[0m\u001b[0;34m[\u001b[0m\u001b[0;36m0\u001b[0m\u001b[0;34m,\u001b[0m\u001b[0;36m1\u001b[0m\u001b[0;34m]\u001b[0m\u001b[0;34m)\u001b[0m\u001b[0;31m#, order=[\"shortcut\",\"0\", \"90\", \"180\"])\u001b[0m\u001b[0;34m\u001b[0m\u001b[0;34m\u001b[0m\u001b[0m\n\u001b[1;32m     15\u001b[0m \u001b[0max3\u001b[0m \u001b[0;34m=\u001b[0m \u001b[0msns\u001b[0m\u001b[0;34m.\u001b[0m\u001b[0mbarplot\u001b[0m\u001b[0;34m(\u001b[0m\u001b[0mx\u001b[0m\u001b[0;34m=\u001b[0m\u001b[0;34m\"Target_Type\"\u001b[0m\u001b[0;34m,\u001b[0m \u001b[0my\u001b[0m\u001b[0;34m=\u001b[0m\u001b[0;34m\"Mode_Out_Time\"\u001b[0m\u001b[0;34m,\u001b[0m \u001b[0mdata\u001b[0m\u001b[0;34m=\u001b[0m\u001b[0mdf_error_free_filtered_outliers_2_5_word\u001b[0m\u001b[0;34m,\u001b[0m \u001b[0mcapsize\u001b[0m\u001b[0;34m=\u001b[0m\u001b[0;36m0.1\u001b[0m\u001b[0;34m,\u001b[0m \u001b[0max\u001b[0m\u001b[0;34m=\u001b[0m\u001b[0maxes\u001b[0m\u001b[0;34m[\u001b[0m\u001b[0;36m1\u001b[0m\u001b[0;34m,\u001b[0m\u001b[0;36m0\u001b[0m\u001b[0;34m]\u001b[0m\u001b[0;34m)\u001b[0m\u001b[0;31m#, order=[\"shortcut\",\"0\", \"90\", \"180\"])\u001b[0m\u001b[0;34m\u001b[0m\u001b[0;34m\u001b[0m\u001b[0m\n",
            "\u001b[0;31mNameError\u001b[0m: name 'df_error_free_filtered_outliers_2_5_word' is not defined"
          ]
        },
        {
          "output_type": "display_data",
          "data": {
            "image/png": "[encoded data removed]",
            "text/plain": [
              "<Figure size 576x504 with 4 Axes>"
            ]
          },
          "metadata": {
            "tags": []
          }
        }
      ]
    },
    {
      "cell_type": "markdown",
      "metadata": {
        "id": "2DEFMYpNdTep",
        "colab_type": "text"
      },
      "source": [
        "#### considering transition time FROM typing/clicking TO same(or different) reference task of typing/clicking"
      ]
    },
    {
      "cell_type": "code",
      "metadata": {
        "id": "4QvDXh7KXiIl",
        "colab_type": "code",
        "colab": {
          "base_uri": "https://localhost:8080/",
          "height": 737
        },
        "outputId": "86d61faa-0bea-4c49-cec4-0c7cc97df25c"
      },
      "source": [
        "# ax = sns.boxplot(x=\"Target_Type\", y=\"Mode_In_Time\", data=df_error_free_filtered_outliers_2_5)\n",
        "# ax = sns.pointplot(x=\"Target_Type\", y=\"Mode_In_Time\", err_style=\"bars\", data=df_error_free_filtered_outliers_2_5, capsize=0.1, ci=95, dashes=True)\n",
        "# ax = sns.barplot(x=\"Target_Type\", y=\"Mode_In_Time\", data=df_error_free_filtered_outliers_2_5_word)\n",
        "\n",
        "\n",
        "sns.set(style=\"whitegrid\")\n",
        "\n",
        "# Create an array with the colors you want to use\n",
        "colors = [\"#ABABAB\", \"#0085FF\", \"#0085FF\", \"#0085FF\"]\n",
        "# Set your custom color palette\n",
        "sns.set_palette(sns.color_palette(colors))\n",
        "\n",
        "\n",
        "# Set up the matplotlib figure\n",
        "f, axes = plt.subplots(2, 2, figsize=(14, 12))\n",
        "\n",
        "# Plot a simple histogram with binsize determined automatically\n",
        "# sns.barplot(x=\"form\", y=\"Completion_Time\", data=df_error_free_filtered_outliers_2_5, capsize=0.1, ax=axes[0, 0])\n",
        "ax1 = sns.barplot(x=\"Target_Type\", y=\"Mode_In_Time\", data=df_error_free_filtered_outliers_2_5_from_word, capsize=0.1, ax=axes[0,0])#, order=[\"shortcut\",\"0\", \"90\", \"180\"])\n",
        "ax2 = sns.barplot(x=\"Target_Type\", y=\"Mode_In_Time\", data=df_error_free_filtered_outliers_2_5_from_click, capsize=0.1, ax=axes[0,1])#, order=[\"shortcut\",\"0\", \"90\", \"180\"])\n",
        "ax3 = sns.barplot(x=\"Target_Type\", y=\"Mode_Out_Time\", data=df_error_free_filtered_outliers_2_5_to_word, capsize=0.1, ax=axes[1,0])#, order=[\"shortcut\",\"0\", \"90\", \"180\"])\n",
        "ax4 = sns.barplot(x=\"Target_Type\", y=\"Mode_Out_Time\", data=df_error_free_filtered_outliers_2_5_to_click, capsize=0.1, ax=axes[1,1])#, order=[\"shortcut\",\"0\", \"90\", \"180\"])\n",
        "\n",
        "# ax1 = sns.barplot(x=\"IV_Orientation\", y=\"Completion_Time\", data=df_error_free_filtered_outliers_2_5, capsize=0.1, ax=axes[0, 0], order=[\"shortcut\",\"0\", \"90\", \"180\"])\n",
        "# ax2 = sns.barplot(x=\"IV_Form\", y=\"Completion_Time\", data=df_error_free_filtered_outliers_2_5, capsize=0.1, ax=axes[0, 1], order=[\"shortcut\",\"Open\", \"Close\"])\n",
        "# ax3 = sns.barplot(x=\"IV_Hand\", y=\"Completion_Time\", data=df_error_free_filtered_outliers_2_5, capsize=0.1, ax=axes[1, 0], order=[\"shortcut\",\"Dominant\", \"Non Dominant\"])\n",
        "# ax4 = sns.barplot(x=\"IV_Surface\", y=\"Completion_Time\", data=df_error_free_filtered_outliers_2_5, capsize=0.1, ax=axes[1, 1], order=[\"shortcut\",\"Below\", \"Beside\",\"On\"])\n",
        "\n",
        "# ax1.get_legend().set_visible(False)\n",
        "# ax2.get_legend().set_visible(False)\n",
        "# ax3.get_legend().set_visible(False)\n",
        "# ax4.get_legend().set_visible(False)\n",
        "ax2.set_ylabel('') \n",
        "ax4.set_ylabel('') \n",
        "y_min_a = 0\n",
        "y_max_a = 1950\n",
        "y_min_b = 0\n",
        "y_max_b = 1950\n",
        "ax1.axes.set_ylim(y_min_a,y_max_a)\n",
        "ax2.axes.set_ylim(y_min_a,y_max_a)\n",
        "ax2.set_yticklabels([])\n",
        "ax3.axes.set_ylim(y_min_b,y_max_b)\n",
        "ax4.axes.set_ylim(y_min_b,y_max_b)\n",
        "ax4.set_yticklabels([])\n",
        "\n",
        "ax1.set_xlabel('(a) From Typing Reference Task', fontsize=22) \n",
        "ax2.set_xlabel('(b) From Clicking Reference Task', fontsize=22)\n",
        "ax3.set_xlabel('(c) To Typing Reference Task     ', fontsize=22) \n",
        "ax4.set_xlabel('(d) To Clicking Reference Task    ', fontsize=22) \n",
        "\n",
        "ax1.set_ylabel('Mode-In (ms)', fontsize=22)\n",
        "ax3.set_ylabel('Mode-Out (ms)', fontsize=22)\n",
        "\n",
        "ax1.set_yticklabels([0,500,1000,1500,2000])\n",
        "ax3.set_yticklabels([0,500,1000,1500,2000])\n",
        "# ax3.set_yticklabels([0,250,500,750,1000,1250,1500,1750,2000])\n",
        "# ax1.set_yticklabels([0,300,600,900,1200,1500,1800])\n",
        "# ax3.set_yticklabels([0,300,600,900,1200,1500,1800])\n",
        "\n",
        "ax1.tick_params(axis='x', labelsize= 22)\n",
        "ax1.tick_params(axis='y', labelsize= 22)\n",
        "ax2.tick_params(axis='x', labelsize= 22)\n",
        "ax2.tick_params(axis='y', labelsize= 22)\n",
        "ax3.tick_params(axis='x', labelsize= 22)\n",
        "ax3.tick_params(axis='y', labelsize= 22)\n",
        "ax4.tick_params(axis='x', labelsize= 22)\n",
        "ax4.tick_params(axis='y', labelsize= 22)\n",
        "# plt.setp(axes,)\n",
        "# plt.tight_layout()\n",
        "f.savefig(\"Figure9.pdf\")\n"
      ],
      "execution_count": 194,
      "outputs": [
        {
          "output_type": "display_data",
          "data": {
            "image/png": "[encoded data removed]",
            "text/plain": [
              "<Figure size 1008x864 with 4 Axes>"
            ]
          },
          "metadata": {
            "tags": []
          }
        }
      ]
    },
    {
      "cell_type": "markdown",
      "metadata": {
        "id": "iCeOfV9kDuk4",
        "colab_type": "text"
      },
      "source": [
        "### Calculate mode-in and mode-out **time**"
      ]
    },
    {
      "cell_type": "code",
      "metadata": {
        "id": "KNhTalhbtXZV",
        "colab_type": "code",
        "colab": {}
      },
      "source": [
        ""
      ],
      "execution_count": null,
      "outputs": []
    },
    {
      "cell_type": "markdown",
      "metadata": {
        "id": "YeVwfxPtkMWv",
        "colab_type": "text"
      },
      "source": [
        "#### Create a dataframe that does not include trials with mode-errors/task-errors."
      ]
    },
    {
      "cell_type": "code",
      "metadata": {
        "id": "HL5dbHBauO8Y",
        "colab_type": "code",
        "colab": {
          "base_uri": "https://localhost:8080/",
          "height": 846
        },
        "outputId": "badd1475-b26e-4abd-aa87-b1d38d5744d1"
      },
      "source": [
        "df_filtered = df_all.loc[(df_all[\"Reference_Action_Count\"] >= df_all[\"Incorrect_Action_Count\"]) & (df_all[\"Error\"]==False)]\n",
        "print(df_filtered.count())\n",
        "data_filtered = df_filtered.loc[(df_filtered['Target_Type'] == \"shortcut\") | (df_filtered['Target_Type'] == \"posture\")]\n",
        "print(data_filtered.count())\n",
        "# data_filtered_word = df_filtered.loc[(df_filtered['Reference_Task'] == \"word\")]\n",
        "# data_filtered_click = df_filtered.loc[(df_filtered['Reference_Task'] == \"click\")]"
      ],
      "execution_count": null,
      "outputs": [
        {
          "output_type": "stream",
          "text": [
            "Participant                14053\n",
            "TempBlock                  14053\n",
            "Block                      14053\n",
            "Sequence                   14053\n",
            "Trial                      14053\n",
            "Target_Type                14053\n",
            "Target_Name                14053\n",
            "Start_Time                 14053\n",
            "End_Time                   14053\n",
            "First_Reaction_Time        14053\n",
            "Mode_In_Time               14053\n",
            "Mode_Out_Time              14053\n",
            "Execution_Time             14053\n",
            "Completion_Time            14053\n",
            "Reference_Action_Count     14053\n",
            "Incorrect_Action_Count     14053\n",
            "Error                      14053\n",
            "IV_Surface                 14053\n",
            "IV_Orientation             14053\n",
            "IV_Form                    14053\n",
            "IV_Hand                    14053\n",
            "Previous_Reference_Task    14053\n",
            "Next_Reference_Task        14053\n",
            "dtype: int64\n",
            "Participant                6927\n",
            "TempBlock                  6927\n",
            "Block                      6927\n",
            "Sequence                   6927\n",
            "Trial                      6927\n",
            "Target_Type                6927\n",
            "Target_Name                6927\n",
            "Start_Time                 6927\n",
            "End_Time                   6927\n",
            "First_Reaction_Time        6927\n",
            "Mode_In_Time               6927\n",
            "Mode_Out_Time              6927\n",
            "Execution_Time             6927\n",
            "Completion_Time            6927\n",
            "Reference_Action_Count     6927\n",
            "Incorrect_Action_Count     6927\n",
            "Error                      6927\n",
            "IV_Surface                 6927\n",
            "IV_Orientation             6927\n",
            "IV_Form                    6927\n",
            "IV_Hand                    6927\n",
            "Previous_Reference_Task    6927\n",
            "Next_Reference_Task        6927\n",
            "dtype: int64\n"
          ],
          "name": "stdout"
        }
      ]
    },
    {
      "cell_type": "code",
      "metadata": {
        "id": "SHE3-gc8S-u5",
        "colab_type": "code",
        "colab": {
          "base_uri": "https://localhost:8080/",
          "height": 305
        },
        "outputId": "a42c50eb-2abf-463d-9cca-85e5b6d109d4"
      },
      "source": [
        "data_filtered.head()"
      ],
      "execution_count": null,
      "outputs": [
        {
          "output_type": "execute_result",
          "data": {
            "text/html": [
              "<div>\n",
              "<style scoped>\n",
              "    .dataframe tbody tr th:only-of-type {\n",
              "        vertical-align: middle;\n",
              "    }\n",
              "\n",
              "    .dataframe tbody tr th {\n",
              "        vertical-align: top;\n",
              "    }\n",
              "\n",
              "    .dataframe thead th {\n",
              "        text-align: right;\n",
              "    }\n",
              "</style>\n",
              "<table border=\"1\" class=\"dataframe\">\n",
              "  <thead>\n",
              "    <tr style=\"text-align: right;\">\n",
              "      <th></th>\n",
              "      <th>Participant</th>\n",
              "      <th>TempBlock</th>\n",
              "      <th>Block</th>\n",
              "      <th>Sequence</th>\n",
              "      <th>Trial</th>\n",
              "      <th>Target_Type</th>\n",
              "      <th>Target_Name</th>\n",
              "      <th>Start_Time</th>\n",
              "      <th>End_Time</th>\n",
              "      <th>First_Reaction_Time</th>\n",
              "      <th>Mode_In_Time</th>\n",
              "      <th>Mode_Out_Time</th>\n",
              "      <th>Execution_Time</th>\n",
              "      <th>Completion_Time</th>\n",
              "      <th>Reference_Action_Count</th>\n",
              "      <th>Incorrect_Action_Count</th>\n",
              "      <th>Error</th>\n",
              "      <th>IV_Surface</th>\n",
              "      <th>IV_Orientation</th>\n",
              "      <th>IV_Form</th>\n",
              "      <th>IV_Hand</th>\n",
              "      <th>Previous_Reference_Task</th>\n",
              "      <th>Next_Reference_Task</th>\n",
              "    </tr>\n",
              "  </thead>\n",
              "  <tbody>\n",
              "    <tr>\n",
              "      <th>1</th>\n",
              "      <td>participant_31</td>\n",
              "      <td>0</td>\n",
              "      <td>0</td>\n",
              "      <td>0</td>\n",
              "      <td>1</td>\n",
              "      <td>posture</td>\n",
              "      <td>Left_Close_0_On</td>\n",
              "      <td>1567118995331</td>\n",
              "      <td>1567118996645</td>\n",
              "      <td>1567118996645</td>\n",
              "      <td>1335</td>\n",
              "      <td>1758</td>\n",
              "      <td>3093</td>\n",
              "      <td>1314</td>\n",
              "      <td>26</td>\n",
              "      <td>4</td>\n",
              "      <td>False</td>\n",
              "      <td>On</td>\n",
              "      <td>0</td>\n",
              "      <td>Close</td>\n",
              "      <td>Non Dominant</td>\n",
              "      <td>click</td>\n",
              "      <td>word</td>\n",
              "    </tr>\n",
              "    <tr>\n",
              "      <th>3</th>\n",
              "      <td>participant_31</td>\n",
              "      <td>0</td>\n",
              "      <td>0</td>\n",
              "      <td>1</td>\n",
              "      <td>3</td>\n",
              "      <td>posture</td>\n",
              "      <td>Left_Close_0_Below</td>\n",
              "      <td>1567118999434</td>\n",
              "      <td>1567119001175</td>\n",
              "      <td>1567119001175</td>\n",
              "      <td>1775</td>\n",
              "      <td>2024</td>\n",
              "      <td>3799</td>\n",
              "      <td>1741</td>\n",
              "      <td>24</td>\n",
              "      <td>0</td>\n",
              "      <td>False</td>\n",
              "      <td>Below</td>\n",
              "      <td>0</td>\n",
              "      <td>Close</td>\n",
              "      <td>Non Dominant</td>\n",
              "      <td>word</td>\n",
              "      <td>click</td>\n",
              "    </tr>\n",
              "    <tr>\n",
              "      <th>5</th>\n",
              "      <td>participant_31</td>\n",
              "      <td>0</td>\n",
              "      <td>0</td>\n",
              "      <td>2</td>\n",
              "      <td>5</td>\n",
              "      <td>posture</td>\n",
              "      <td>Left_Close_0_Beside</td>\n",
              "      <td>1567119003230</td>\n",
              "      <td>1567119004877</td>\n",
              "      <td>1567119004877</td>\n",
              "      <td>1678</td>\n",
              "      <td>1523</td>\n",
              "      <td>3201</td>\n",
              "      <td>1647</td>\n",
              "      <td>28</td>\n",
              "      <td>0</td>\n",
              "      <td>False</td>\n",
              "      <td>Beside</td>\n",
              "      <td>0</td>\n",
              "      <td>Close</td>\n",
              "      <td>Non Dominant</td>\n",
              "      <td>click</td>\n",
              "      <td>word</td>\n",
              "    </tr>\n",
              "    <tr>\n",
              "      <th>7</th>\n",
              "      <td>participant_31</td>\n",
              "      <td>0</td>\n",
              "      <td>0</td>\n",
              "      <td>3</td>\n",
              "      <td>7</td>\n",
              "      <td>posture</td>\n",
              "      <td>Left_Close_90_On</td>\n",
              "      <td>1567119008531</td>\n",
              "      <td>1567119009846</td>\n",
              "      <td>1567119009846</td>\n",
              "      <td>1346</td>\n",
              "      <td>2419</td>\n",
              "      <td>3765</td>\n",
              "      <td>1315</td>\n",
              "      <td>17</td>\n",
              "      <td>8</td>\n",
              "      <td>False</td>\n",
              "      <td>On</td>\n",
              "      <td>90</td>\n",
              "      <td>Close</td>\n",
              "      <td>Non Dominant</td>\n",
              "      <td>word</td>\n",
              "      <td>word</td>\n",
              "    </tr>\n",
              "    <tr>\n",
              "      <th>9</th>\n",
              "      <td>participant_31</td>\n",
              "      <td>0</td>\n",
              "      <td>0</td>\n",
              "      <td>4</td>\n",
              "      <td>9</td>\n",
              "      <td>posture</td>\n",
              "      <td>Left_Close_90_Below</td>\n",
              "      <td>1567119014167</td>\n",
              "      <td>1567119015578</td>\n",
              "      <td>1567119015578</td>\n",
              "      <td>1445</td>\n",
              "      <td>1688</td>\n",
              "      <td>3133</td>\n",
              "      <td>1411</td>\n",
              "      <td>23</td>\n",
              "      <td>8</td>\n",
              "      <td>False</td>\n",
              "      <td>Below</td>\n",
              "      <td>90</td>\n",
              "      <td>Close</td>\n",
              "      <td>Non Dominant</td>\n",
              "      <td>word</td>\n",
              "      <td>click</td>\n",
              "    </tr>\n",
              "  </tbody>\n",
              "</table>\n",
              "</div>"
            ],
            "text/plain": [
              "      Participant  TempBlock  ...  Previous_Reference_Task  Next_Reference_Task\n",
              "1  participant_31          0  ...                    click                 word\n",
              "3  participant_31          0  ...                     word                click\n",
              "5  participant_31          0  ...                    click                 word\n",
              "7  participant_31          0  ...                     word                 word\n",
              "9  participant_31          0  ...                     word                click\n",
              "\n",
              "[5 rows x 23 columns]"
            ]
          },
          "metadata": {
            "tags": []
          },
          "execution_count": 37
        }
      ]
    },
    {
      "cell_type": "markdown",
      "metadata": {
        "id": "OTijrrZcYlgw",
        "colab_type": "text"
      },
      "source": [
        "#### Prepare data to plot"
      ]
    },
    {
      "cell_type": "code",
      "metadata": {
        "id": "A4Tgl3saIp53",
        "colab_type": "code",
        "colab": {}
      },
      "source": [
        "\n"
      ],
      "execution_count": null,
      "outputs": []
    },
    {
      "cell_type": "code",
      "metadata": {
        "id": "Y-whvBVgyrEt",
        "colab_type": "code",
        "colab": {
          "base_uri": "https://localhost:8080/",
          "height": 432
        },
        "outputId": "7575b1d3-dc3d-49b8-bf92-98ff36a72040"
      },
      "source": [
        "data_baseline = df_all.loc[(df_all['Target_Type'] != \"shortcut\") & (df_all['Target_Type'] != \"posture\")]\n",
        "# data_baseline.count()\n",
        "data_baseline.loc[data_baseline[\"Error\"]==True].count()\n"
      ],
      "execution_count": null,
      "outputs": [
        {
          "output_type": "execute_result",
          "data": {
            "text/plain": [
              "Participant                74\n",
              "TempBlock                  74\n",
              "Block                      74\n",
              "Sequence                   74\n",
              "Trial                      74\n",
              "Target_Type                74\n",
              "Target_Name                74\n",
              "Start_Time                 74\n",
              "End_Time                   74\n",
              "First_Reaction_Time        74\n",
              "Mode_In_Time               74\n",
              "Mode_Out_Time              74\n",
              "Execution_Time             74\n",
              "Completion_Time            74\n",
              "Reference_Action_Count     74\n",
              "Incorrect_Action_Count     74\n",
              "Error                      74\n",
              "IV_Surface                 74\n",
              "IV_Orientation             74\n",
              "IV_Form                    74\n",
              "IV_Hand                    74\n",
              "Previous_Reference_Task    74\n",
              "Next_Reference_Task        74\n",
              "dtype: int64"
            ]
          },
          "metadata": {
            "tags": []
          },
          "execution_count": 38
        }
      ]
    },
    {
      "cell_type": "markdown",
      "metadata": {
        "id": "QILCNkgVW4d8",
        "colab_type": "text"
      },
      "source": [
        "### Mode_In Time (filtered vs unfiltered)"
      ]
    },
    {
      "cell_type": "code",
      "metadata": {
        "id": "Ucg6FKGQTuap",
        "colab_type": "code",
        "colab": {
          "base_uri": "https://localhost:8080/",
          "height": 302
        },
        "outputId": "7e7e6f69-7cb3-4ced-c459-b4d412a80488"
      },
      "source": [
        "sns.set(style=\"whitegrid\")\n",
        "plt.figure(figsize=(10,4))\n",
        "# plt.xticks(rotation=90)\n",
        "ax = sns.barplot(x=\"Block\", y=\"Mode_In_Time\", hue=\"Target_Type\", data=data_filtered, capsize=0.1, ci=100)\n",
        "# ax = sns.swarmplot(x=\"Block\", y=\"Execution_Time\",hue=\"Target_Type\", data=data_filtered_word)\n",
        "ax.legend(loc='lower right')"
      ],
      "execution_count": null,
      "outputs": [
        {
          "output_type": "execute_result",
          "data": {
            "text/plain": [
              "<matplotlib.legend.Legend at 0x7fcb956ef550>"
            ]
          },
          "metadata": {
            "tags": []
          },
          "execution_count": 39
        },
        {
          "output_type": "display_data",
          "data": {
            "image/png": "[encoded data removed]",
            "text/plain": [
              "<Figure size 720x288 with 1 Axes>"
            ]
          },
          "metadata": {
            "tags": []
          }
        }
      ]
    },
    {
      "cell_type": "code",
      "metadata": {
        "id": "TUTbeFXreJTV",
        "colab_type": "code",
        "colab": {
          "base_uri": "https://localhost:8080/",
          "height": 165
        },
        "outputId": "7a5fc138-fe9a-401d-ee4a-900ecb09d114"
      },
      "source": [
        "data_filtered_word.head()"
      ],
      "execution_count": null,
      "outputs": [
        {
          "output_type": "error",
          "ename": "NameError",
          "evalue": "ignored",
          "traceback": [
            "\u001b[0;31m---------------------------------------------------------------------------\u001b[0m",
            "\u001b[0;31mNameError\u001b[0m                                 Traceback (most recent call last)",
            "\u001b[0;32m<ipython-input-40-e37e1acfbb92>\u001b[0m in \u001b[0;36m<module>\u001b[0;34m()\u001b[0m\n\u001b[0;32m----> 1\u001b[0;31m \u001b[0mdata_filtered_word\u001b[0m\u001b[0;34m.\u001b[0m\u001b[0mhead\u001b[0m\u001b[0;34m(\u001b[0m\u001b[0;34m)\u001b[0m\u001b[0;34m\u001b[0m\u001b[0;34m\u001b[0m\u001b[0m\n\u001b[0m",
            "\u001b[0;31mNameError\u001b[0m: name 'data_filtered_word' is not defined"
          ]
        }
      ]
    },
    {
      "cell_type": "markdown",
      "metadata": {
        "id": "vsLAXf-JXPKd",
        "colab_type": "text"
      },
      "source": [
        "### Mode_Out Time (filtered vs unfiltered)"
      ]
    },
    {
      "cell_type": "code",
      "metadata": {
        "id": "PIAU4S-pTu1P",
        "colab_type": "code",
        "colab": {
          "base_uri": "https://localhost:8080/",
          "height": 302
        },
        "outputId": "64557756-5833-4c38-997f-dfb073ae4fda"
      },
      "source": [
        "sns.set(style=\"whitegrid\")\n",
        "plt.figure(figsize=(10,4))\n",
        "# plt.xticks(rotation=90)\n",
        "ax = sns.barplot(x=\"Block\", y=\"Mode_Out_Time\", hue=\"Target_Type\", data=data_filtered, capsize=0.1)\n",
        "ax.legend(loc='lower left')"
      ],
      "execution_count": null,
      "outputs": [
        {
          "output_type": "execute_result",
          "data": {
            "text/plain": [
              "<matplotlib.legend.Legend at 0x7fcb9569e4e0>"
            ]
          },
          "metadata": {
            "tags": []
          },
          "execution_count": 41
        },
        {
          "output_type": "display_data",
          "data": {
            "image/png": "[encoded data removed]",
            "text/plain": [
              "<Figure size 720x288 with 1 Axes>"
            ]
          },
          "metadata": {
            "tags": []
          }
        }
      ]
    },
    {
      "cell_type": "markdown",
      "metadata": {
        "id": "xtTn0cp7VGAF",
        "colab_type": "text"
      },
      "source": [
        "### Total Execution Time (filtered vs unfiltered)\n",
        "#### Total Execution Time = (mode-in + mode-out)"
      ]
    },
    {
      "cell_type": "code",
      "metadata": {
        "id": "8Os-HSuvqNaU",
        "colab_type": "code",
        "colab": {}
      },
      "source": [
        ""
      ],
      "execution_count": null,
      "outputs": []
    },
    {
      "cell_type": "code",
      "metadata": {
        "id": "apaLmES_TQ42",
        "colab_type": "code",
        "colab": {
          "base_uri": "https://localhost:8080/",
          "height": 287
        },
        "outputId": "861d68d4-5a45-4de5-e34c-dcfe6e85125d"
      },
      "source": [
        "sns.set(style=\"whitegrid\")\n",
        "plt.figure(figsize=(10,4))\n",
        "# plt.xticks(rotation=90)\n",
        "# ax = sns.barplot(x=\"Block\", y=\"Execution_Time\", hue=\"Target_Type\", data=data_filtered, capsize=0.1, ci=95)\n",
        "ax = sns.pointplot(x=\"Block\", y=\"Execution_Time\",hue=\"Target_Type\", err_style=\"bars\", data=data_filtered, capsize=0.1, ci=95, dashes=True)\n",
        "# ax = sns.swarmplot(x=\"Block\", y=\"Execution_Time\",hue=\"Target_Type\", data=data_filtered)\n",
        "# ax = sns.lineplot(x=\"Block\", y=\"Execution_Time\", hue=\"Target_Type\", units=\"subject\", estimator=None, lw=1, data=fmri.query(\"region == 'frontal'\"))\n",
        "\n",
        "# ax.legend(loc='upper right')#, bbox_to_anchor=(0.8, 0.5), ncol=1)\n",
        "# plt.xlim(0, 4)\n",
        "# plt.grid('off')\n",
        "# Add rectangle\n",
        "# ax.add_patch(\n",
        "# patches.Rectangle(\n",
        "# (50, 50), # (x,y)\n",
        "# 50, # width\n",
        "# 50, # height\n",
        "# # You can add rotation as well with 'angle'\n",
        "# alpha=0.3, facecolor=\"red\", edgecolor=\"black\", linewidth=3, linestyle='solid'\n",
        "# )\n",
        "# )\n",
        "\n",
        "arr = {0:-0.6,1:0.2,2:1.4,3:2.2,4:3.4, 5:4.2,6:5.4,7:6.2,8:7.4,9:8.2}\n",
        "# for index, row in data_filtered.groupby([\"Block\",\"Target_Type\"]).mean().reset_index().iterrows():\n",
        "# #     print(row[\"Execution_Time\"])\n",
        "# #     print(index)\n",
        "#     ax.text(arr[index]/2,-101, round(row[\"Execution_Time\"]/1000,2), color='black')"
      ],
      "execution_count": null,
      "outputs": [
        {
          "output_type": "display_data",
          "data": {
            "image/png": "[encoded data removed]",
            "text/plain": [
              "<Figure size 720x288 with 1 Axes>"
            ]
          },
          "metadata": {
            "tags": []
          }
        }
      ]
    },
    {
      "cell_type": "code",
      "metadata": {
        "id": "2MZJHBgkT9ur",
        "colab_type": "code",
        "colab": {
          "base_uri": "https://localhost:8080/",
          "height": 302
        },
        "outputId": "a9e5c4bd-a80a-44e8-9168-30add9184a2a"
      },
      "source": [
        "sns.set(style=\"whitegrid\")\n",
        "plt.figure(figsize=(10,4))\n",
        "# ax = sns.pointplot(x=\"Block\", y=\"Execution_Time\",hue=\"IV_Surface\", err_style=\"bars\", data=data_filtered, capsize=0.1, ci=95, dashes=True)\n",
        "ax = sns.barplot(x=\"Block\", y=\"Execution_Time\", hue=\"IV_Surface\", data=data_filtered, capsize=0.1, ci=95)\n",
        "ax.legend(loc='lower right')#, bbox_to_anchor=(0.8, 0.5), ncol=1)"
      ],
      "execution_count": null,
      "outputs": [
        {
          "output_type": "execute_result",
          "data": {
            "text/plain": [
              "<matplotlib.legend.Legend at 0x7fcb954dcb70>"
            ]
          },
          "metadata": {
            "tags": []
          },
          "execution_count": 43
        },
        {
          "output_type": "display_data",
          "data": {
            "image/png": "[encoded data removed]",
            "text/plain": [
              "<Figure size 720x288 with 1 Axes>"
            ]
          },
          "metadata": {
            "tags": []
          }
        }
      ]
    },
    {
      "cell_type": "code",
      "metadata": {
        "id": "YiLfcPNAXuxj",
        "colab_type": "code",
        "colab": {
          "base_uri": "https://localhost:8080/",
          "height": 252
        },
        "outputId": "6ef0edbb-7af5-4965-8cc4-9bdf22156fab"
      },
      "source": [
        "sns.set(style=\"whitegrid\")\n",
        "plt.figure(figsize=(10,4))\n",
        "# ax = sns.pointplot(x=\"Block\", y=\"Execution_Time\",hue=\"IV_Surface\", err_style=\"bars\", data=data_filtered, capsize=0.1, ci=95, dashes=True)\n",
        "ax = sns.barplot(x=\"Block\", y=\"Execution_Time\", hue=\"IV_Surface\", data=data_filtered_word, capsize=0.1, ci=95)\n",
        "ax.legend(loc='lower right')#, bbox_to_anchor=(0.8, 0.5), ncol=1)"
      ],
      "execution_count": null,
      "outputs": [
        {
          "output_type": "error",
          "ename": "NameError",
          "evalue": "ignored",
          "traceback": [
            "\u001b[0;31m---------------------------------------------------------------------------\u001b[0m",
            "\u001b[0;31mNameError\u001b[0m                                 Traceback (most recent call last)",
            "\u001b[0;32m<ipython-input-44-a8e91ed9bb38>\u001b[0m in \u001b[0;36m<module>\u001b[0;34m()\u001b[0m\n\u001b[1;32m      2\u001b[0m \u001b[0mplt\u001b[0m\u001b[0;34m.\u001b[0m\u001b[0mfigure\u001b[0m\u001b[0;34m(\u001b[0m\u001b[0mfigsize\u001b[0m\u001b[0;34m=\u001b[0m\u001b[0;34m(\u001b[0m\u001b[0;36m10\u001b[0m\u001b[0;34m,\u001b[0m\u001b[0;36m4\u001b[0m\u001b[0;34m)\u001b[0m\u001b[0;34m)\u001b[0m\u001b[0;34m\u001b[0m\u001b[0;34m\u001b[0m\u001b[0m\n\u001b[1;32m      3\u001b[0m \u001b[0;31m# ax = sns.pointplot(x=\"Block\", y=\"Execution_Time\",hue=\"IV_Surface\", err_style=\"bars\", data=data_filtered, capsize=0.1, ci=95, dashes=True)\u001b[0m\u001b[0;34m\u001b[0m\u001b[0;34m\u001b[0m\u001b[0;34m\u001b[0m\u001b[0m\n\u001b[0;32m----> 4\u001b[0;31m \u001b[0max\u001b[0m \u001b[0;34m=\u001b[0m \u001b[0msns\u001b[0m\u001b[0;34m.\u001b[0m\u001b[0mbarplot\u001b[0m\u001b[0;34m(\u001b[0m\u001b[0mx\u001b[0m\u001b[0;34m=\u001b[0m\u001b[0;34m\"Block\"\u001b[0m\u001b[0;34m,\u001b[0m \u001b[0my\u001b[0m\u001b[0;34m=\u001b[0m\u001b[0;34m\"Execution_Time\"\u001b[0m\u001b[0;34m,\u001b[0m \u001b[0mhue\u001b[0m\u001b[0;34m=\u001b[0m\u001b[0;34m\"IV_Surface\"\u001b[0m\u001b[0;34m,\u001b[0m \u001b[0mdata\u001b[0m\u001b[0;34m=\u001b[0m\u001b[0mdata_filtered_word\u001b[0m\u001b[0;34m,\u001b[0m \u001b[0mcapsize\u001b[0m\u001b[0;34m=\u001b[0m\u001b[0;36m0.1\u001b[0m\u001b[0;34m,\u001b[0m \u001b[0mci\u001b[0m\u001b[0;34m=\u001b[0m\u001b[0;36m95\u001b[0m\u001b[0;34m)\u001b[0m\u001b[0;34m\u001b[0m\u001b[0;34m\u001b[0m\u001b[0m\n\u001b[0m\u001b[1;32m      5\u001b[0m \u001b[0max\u001b[0m\u001b[0;34m.\u001b[0m\u001b[0mlegend\u001b[0m\u001b[0;34m(\u001b[0m\u001b[0mloc\u001b[0m\u001b[0;34m=\u001b[0m\u001b[0;34m'lower right'\u001b[0m\u001b[0;34m)\u001b[0m\u001b[0;31m#, bbox_to_anchor=(0.8, 0.5), ncol=1)\u001b[0m\u001b[0;34m\u001b[0m\u001b[0;34m\u001b[0m\u001b[0m\n",
            "\u001b[0;31mNameError\u001b[0m: name 'data_filtered_word' is not defined"
          ]
        },
        {
          "output_type": "display_data",
          "data": {
            "text/plain": [
              "<Figure size 720x288 with 0 Axes>"
            ]
          },
          "metadata": {
            "tags": []
          }
        }
      ]
    },
    {
      "cell_type": "code",
      "metadata": {
        "id": "1RvRQvEfD8i_",
        "colab_type": "code",
        "colab": {
          "base_uri": "https://localhost:8080/",
          "height": 319
        },
        "outputId": "7e748b16-1c29-4b66-f403-f931c17c55e0"
      },
      "source": [
        "sns.set(style=\"whitegrid\")\n",
        "plt.figure(figsize=(10,4))\n",
        "# ax = sns.pointplot(x=\"Block\", y=\"Execution_Time\",hue=\"IV_Surface\", err_style=\"bars\", data=data_filtered, capsize=0.1, ci=95, dashes=True)\n",
        "ax = sns.barplot(x=\"Target_Type\", y=\"Execution_Time\", data=data_filtered, ci=95,estimator=np.median)\n",
        "ax.legend(loc='lower right')#, bbox_to_anchor=(0.8, 0.5), ncol=1)"
      ],
      "execution_count": null,
      "outputs": [
        {
          "output_type": "stream",
          "text": [
            "No handles with labels found to put in legend.\n"
          ],
          "name": "stderr"
        },
        {
          "output_type": "execute_result",
          "data": {
            "text/plain": [
              "<matplotlib.legend.Legend at 0x7fcb987fac18>"
            ]
          },
          "metadata": {
            "tags": []
          },
          "execution_count": 45
        },
        {
          "output_type": "display_data",
          "data": {
            "image/png": "[encoded data removed]",
            "text/plain": [
              "<Figure size 720x288 with 1 Axes>"
            ]
          },
          "metadata": {
            "tags": []
          }
        }
      ]
    },
    {
      "cell_type": "code",
      "metadata": {
        "id": "X2orbgnK5Xoj",
        "colab_type": "code",
        "colab": {
          "base_uri": "https://localhost:8080/",
          "height": 319
        },
        "outputId": "bf1a2c00-ec70-4a8f-ce96-9272a71cb78e"
      },
      "source": [
        "sns.set(style=\"whitegrid\")\n",
        "plt.figure(figsize=(10,4))\n",
        "# ax = sns.pointplot(x=\"Block\", y=\"Execution_Time\",hue=\"IV_Surface\", err_style=\"bars\", data=data_filtered, capsize=0.1, ci=95, dashes=True)\n",
        "ax = sns.barplot(x=\"IV_Surface\", y=\"Execution_Time\", data=data_filtered, capsize=0.1, ci=95,estimator=np.median)\n",
        "ax.legend(loc='lower right')#, bbox_to_anchor=(0.8, 0.5), ncol=1)"
      ],
      "execution_count": null,
      "outputs": [
        {
          "output_type": "stream",
          "text": [
            "No handles with labels found to put in legend.\n"
          ],
          "name": "stderr"
        },
        {
          "output_type": "execute_result",
          "data": {
            "text/plain": [
              "<matplotlib.legend.Legend at 0x7fcb954fe978>"
            ]
          },
          "metadata": {
            "tags": []
          },
          "execution_count": 46
        },
        {
          "output_type": "display_data",
          "data": {
            "image/png": "[encoded data removed]",
            "text/plain": [
              "<Figure size 720x288 with 1 Axes>"
            ]
          },
          "metadata": {
            "tags": []
          }
        }
      ]
    },
    {
      "cell_type": "code",
      "metadata": {
        "id": "45aCCfPo7s-E",
        "colab_type": "code",
        "colab": {
          "base_uri": "https://localhost:8080/",
          "height": 319
        },
        "outputId": "c81ee92c-3ead-45b6-c51c-ca51cd68f553"
      },
      "source": [
        "sns.set(style=\"whitegrid\")\n",
        "plt.figure(figsize=(10,4))\n",
        "# ax = sns.pointplot(x=\"Block\", y=\"Execution_Time\",hue=\"IV_Surface\", err_style=\"bars\", data=data_filtered, capsize=0.1, ci=95, dashes=True)\n",
        "ax = sns.barplot(x=\"IV_Form\", y=\"Execution_Time\", data=data_filtered, capsize=0.1, ci=95,estimator=np.median)\n",
        "ax.legend(loc='lower right')#, bbox_to_anchor=(0.8, 0.5), ncol=1)"
      ],
      "execution_count": null,
      "outputs": [
        {
          "output_type": "stream",
          "text": [
            "No handles with labels found to put in legend.\n"
          ],
          "name": "stderr"
        },
        {
          "output_type": "execute_result",
          "data": {
            "text/plain": [
              "<matplotlib.legend.Legend at 0x7fcb9574a6a0>"
            ]
          },
          "metadata": {
            "tags": []
          },
          "execution_count": 47
        },
        {
          "output_type": "display_data",
          "data": {
            "image/png": "[encoded data removed]",
            "text/plain": [
              "<Figure size 720x288 with 1 Axes>"
            ]
          },
          "metadata": {
            "tags": []
          }
        }
      ]
    },
    {
      "cell_type": "code",
      "metadata": {
        "id": "f3sDHK5F8cy_",
        "colab_type": "code",
        "colab": {
          "base_uri": "https://localhost:8080/",
          "height": 285
        },
        "outputId": "78e3303e-6c48-43c7-efc3-56992cd2332f"
      },
      "source": [
        "sns.set(style=\"whitegrid\")\n",
        "plt.figure(figsize=(10,4))\n",
        "# ax = sns.pointplot(x=\"Block\", y=\"Execution_Time\",hue=\"IV_Surface\", err_style=\"bars\", data=data_filtered, capsize=0.1, ci=95, dashes=True)\n",
        "ax = sns.barplot(x=\"IV_Hand\", y=\"Execution_Time\", data=data_filtered, capsize=0.1, ci=95,estimator=np.median)\n",
        "# ax.legend(loc='lower right')#, bbox_to_anchor=(0.8, 0.5), ncol=1)"
      ],
      "execution_count": null,
      "outputs": [
        {
          "output_type": "display_data",
          "data": {
            "image/png": "[encoded data removed]",
            "text/plain": [
              "<Figure size 720x288 with 1 Axes>"
            ]
          },
          "metadata": {
            "tags": []
          }
        }
      ]
    },
    {
      "cell_type": "markdown",
      "metadata": {
        "id": "rKV5SbWF6KlY",
        "colab_type": "text"
      },
      "source": [
        "Todo\n"
      ]
    },
    {
      "cell_type": "code",
      "metadata": {
        "id": "Y25L0zae8OMf",
        "colab_type": "code",
        "colab": {
          "base_uri": "https://localhost:8080/",
          "height": 285
        },
        "outputId": "fa49e533-92e8-4704-a172-dc63d6b43d37"
      },
      "source": [
        "sns.set(style=\"whitegrid\")\n",
        "plt.figure(figsize=(10,4))\n",
        "# ax = sns.pointplot(x=\"IV_Orientation\", y=\"Execution_Time\", err_style=\"bars\", data=data_filtered, capsize=0.1, ci=95, dashes=True)\n",
        "ax = sns.barplot(x=\"IV_Orientation\", y=\"Execution_Time\", data=data_filtered, capsize=0.1, ci=95,estimator=np.median, order=[\"0\",\"90\",\"180\",\"shortcut\"])\n",
        "# ax.legend(loc='lower right')#, bbox_to_anchor=(0.8, 0.5), ncol=1)"
      ],
      "execution_count": null,
      "outputs": [
        {
          "output_type": "display_data",
          "data": {
            "image/png": "[encoded data removed]",
            "text/plain": [
              "<Figure size 720x288 with 1 Axes>"
            ]
          },
          "metadata": {
            "tags": []
          }
        }
      ]
    },
    {
      "cell_type": "code",
      "metadata": {
        "id": "XkPAtvcpE4CG",
        "colab_type": "code",
        "colab": {
          "base_uri": "https://localhost:8080/",
          "height": 363
        },
        "outputId": "e5b90a93-72dd-4ea2-9301-2e2eaca295e8"
      },
      "source": [
        "df_all.head()\n",
        "# df_all.count()\n",
        "set(df_all[\"Participant\"])"
      ],
      "execution_count": null,
      "outputs": [
        {
          "output_type": "execute_result",
          "data": {
            "text/plain": [
              "{'participant_31',\n",
              " 'participant_32',\n",
              " 'participant_33',\n",
              " 'participant_34',\n",
              " 'participant_35',\n",
              " 'participant_36',\n",
              " 'participant_37',\n",
              " 'participant_38',\n",
              " 'participant_39',\n",
              " 'participant_40',\n",
              " 'participant_41',\n",
              " 'participant_42',\n",
              " 'participant_43',\n",
              " 'participant_44',\n",
              " 'participant_45',\n",
              " 'participant_46',\n",
              " 'participant_47',\n",
              " 'participant_48',\n",
              " 'participant_49',\n",
              " 'participant_50'}"
            ]
          },
          "metadata": {
            "tags": []
          },
          "execution_count": 50
        }
      ]
    },
    {
      "cell_type": "code",
      "metadata": {
        "id": "00M5s9L_lf4Z",
        "colab_type": "code",
        "colab": {
          "base_uri": "https://localhost:8080/",
          "height": 17
        },
        "outputId": "1577dca8-e736-49d2-982f-1ecb4765dac3"
      },
      "source": [
        "df_all.to_csv('df_all.csv') \n",
        "files.download('df_all.csv')"
      ],
      "execution_count": null,
      "outputs": [
        {
          "output_type": "display_data",
          "data": {
            "application/javascript": [
              "\n",
              "    async function download(id, filename, size) {\n",
              "      if (!google.colab.kernel.accessAllowed) {\n",
              "        return;\n",
              "      }\n",
              "      const div = document.createElement('div');\n",
              "      const label = document.createElement('label');\n",
              "      label.textContent = `Downloading \"${filename}\": `;\n",
              "      div.appendChild(label);\n",
              "      const progress = document.createElement('progress');\n",
              "      progress.max = size;\n",
              "      div.appendChild(progress);\n",
              "      document.body.appendChild(div);\n",
              "\n",
              "      const buffers = [];\n",
              "      let downloaded = 0;\n",
              "\n",
              "      const channel = await google.colab.kernel.comms.open(id);\n",
              "      // Send a message to notify the kernel that we're ready.\n",
              "      channel.send({})\n",
              "\n",
              "      for await (const message of channel.messages) {\n",
              "        // Send a message to notify the kernel that we're ready.\n",
              "        channel.send({})\n",
              "        if (message.buffers) {\n",
              "          for (const buffer of message.buffers) {\n",
              "            buffers.push(buffer);\n",
              "            downloaded += buffer.byteLength;\n",
              "            progress.value = downloaded;\n",
              "          }\n",
              "        }\n",
              "      }\n",
              "      const blob = new Blob(buffers, {type: 'application/binary'});\n",
              "      const a = document.createElement('a');\n",
              "      a.href = window.URL.createObjectURL(blob);\n",
              "      a.download = filename;\n",
              "      div.appendChild(a);\n",
              "      a.click();\n",
              "      div.remove();\n",
              "    }\n",
              "  "
            ],
            "text/plain": [
              "<IPython.core.display.Javascript object>"
            ]
          },
          "metadata": {
            "tags": []
          }
        },
        {
          "output_type": "display_data",
          "data": {
            "application/javascript": [
              "download(\"download_73edb483-f4d4-4484-968b-70ecce326b21\", \"df_all.csv\", 2136049)"
            ],
            "text/plain": [
              "<IPython.core.display.Javascript object>"
            ]
          },
          "metadata": {
            "tags": []
          }
        }
      ]
    },
    {
      "cell_type": "code",
      "metadata": {
        "id": "lQHlN_p-nOVl",
        "colab_type": "code",
        "colab": {
          "base_uri": "https://localhost:8080/",
          "height": 218
        },
        "outputId": "95fffe73-1caa-4b21-bf1e-92c5955ed920"
      },
      "source": [
        "a = df_all.loc[df_all[\"Target_Type\"]==\"shortcut\"]\n",
        "a.count()\n",
        "a.head()"
      ],
      "execution_count": null,
      "outputs": [
        {
          "output_type": "execute_result",
          "data": {
            "text/html": [
              "<div>\n",
              "<style scoped>\n",
              "    .dataframe tbody tr th:only-of-type {\n",
              "        vertical-align: middle;\n",
              "    }\n",
              "\n",
              "    .dataframe tbody tr th {\n",
              "        vertical-align: top;\n",
              "    }\n",
              "\n",
              "    .dataframe thead th {\n",
              "        text-align: right;\n",
              "    }\n",
              "</style>\n",
              "<table border=\"1\" class=\"dataframe\">\n",
              "  <thead>\n",
              "    <tr style=\"text-align: right;\">\n",
              "      <th></th>\n",
              "      <th>Participant</th>\n",
              "      <th>TempBlock</th>\n",
              "      <th>Block</th>\n",
              "      <th>Sequence</th>\n",
              "      <th>Trial</th>\n",
              "      <th>Target_Type</th>\n",
              "      <th>Target_Name</th>\n",
              "      <th>Start_Time</th>\n",
              "      <th>End_Time</th>\n",
              "      <th>First_Reaction_Time</th>\n",
              "      <th>Mode_In_Time</th>\n",
              "      <th>Mode_Out_Time</th>\n",
              "      <th>Execution_Time</th>\n",
              "      <th>Completion_Time</th>\n",
              "      <th>Reference_Action_Count</th>\n",
              "      <th>Incorrect_Action_Count</th>\n",
              "      <th>Error</th>\n",
              "      <th>IV_Surface</th>\n",
              "      <th>IV_Orientation</th>\n",
              "      <th>IV_Form</th>\n",
              "      <th>IV_Hand</th>\n",
              "      <th>Previous_Reference_Task</th>\n",
              "      <th>Next_Reference_Task</th>\n",
              "    </tr>\n",
              "  </thead>\n",
              "  <tbody>\n",
              "    <tr>\n",
              "      <th>73</th>\n",
              "      <td>participant_31</td>\n",
              "      <td>0</td>\n",
              "      <td>1</td>\n",
              "      <td>0</td>\n",
              "      <td>73</td>\n",
              "      <td>shortcut</td>\n",
              "      <td>N</td>\n",
              "      <td>1567119167839</td>\n",
              "      <td>1567119173739</td>\n",
              "      <td>1567119173739</td>\n",
              "      <td>5932</td>\n",
              "      <td>136</td>\n",
              "      <td>6068</td>\n",
              "      <td>5900</td>\n",
              "      <td>0</td>\n",
              "      <td>0</td>\n",
              "      <td>False</td>\n",
              "      <td>shortcut</td>\n",
              "      <td>shortcut</td>\n",
              "      <td>shortcut</td>\n",
              "      <td>shortcut</td>\n",
              "      <td>click</td>\n",
              "      <td>word</td>\n",
              "    </tr>\n",
              "    <tr>\n",
              "      <th>75</th>\n",
              "      <td>participant_31</td>\n",
              "      <td>0</td>\n",
              "      <td>1</td>\n",
              "      <td>1</td>\n",
              "      <td>75</td>\n",
              "      <td>shortcut</td>\n",
              "      <td>Z</td>\n",
              "      <td>1567119179808</td>\n",
              "      <td>1567119182574</td>\n",
              "      <td>1567119182574</td>\n",
              "      <td>2766</td>\n",
              "      <td>1667</td>\n",
              "      <td>4433</td>\n",
              "      <td>2766</td>\n",
              "      <td>0</td>\n",
              "      <td>1</td>\n",
              "      <td>False</td>\n",
              "      <td>shortcut</td>\n",
              "      <td>shortcut</td>\n",
              "      <td>shortcut</td>\n",
              "      <td>shortcut</td>\n",
              "      <td>word</td>\n",
              "      <td>click</td>\n",
              "    </tr>\n",
              "    <tr>\n",
              "      <th>77</th>\n",
              "      <td>participant_31</td>\n",
              "      <td>0</td>\n",
              "      <td>1</td>\n",
              "      <td>2</td>\n",
              "      <td>77</td>\n",
              "      <td>shortcut</td>\n",
              "      <td>down</td>\n",
              "      <td>1567119184273</td>\n",
              "      <td>1567119186772</td>\n",
              "      <td>1567119186772</td>\n",
              "      <td>2531</td>\n",
              "      <td>133</td>\n",
              "      <td>2664</td>\n",
              "      <td>2499</td>\n",
              "      <td>0</td>\n",
              "      <td>0</td>\n",
              "      <td>False</td>\n",
              "      <td>shortcut</td>\n",
              "      <td>shortcut</td>\n",
              "      <td>shortcut</td>\n",
              "      <td>shortcut</td>\n",
              "      <td>click</td>\n",
              "      <td>word</td>\n",
              "    </tr>\n",
              "    <tr>\n",
              "      <th>79</th>\n",
              "      <td>participant_31</td>\n",
              "      <td>0</td>\n",
              "      <td>1</td>\n",
              "      <td>3</td>\n",
              "      <td>79</td>\n",
              "      <td>shortcut</td>\n",
              "      <td>E</td>\n",
              "      <td>1567119188973</td>\n",
              "      <td>1567119191241</td>\n",
              "      <td>1567119191241</td>\n",
              "      <td>2301</td>\n",
              "      <td>100</td>\n",
              "      <td>2401</td>\n",
              "      <td>2268</td>\n",
              "      <td>0</td>\n",
              "      <td>0</td>\n",
              "      <td>False</td>\n",
              "      <td>shortcut</td>\n",
              "      <td>shortcut</td>\n",
              "      <td>shortcut</td>\n",
              "      <td>shortcut</td>\n",
              "      <td>word</td>\n",
              "      <td>word</td>\n",
              "    </tr>\n",
              "    <tr>\n",
              "      <th>81</th>\n",
              "      <td>participant_31</td>\n",
              "      <td>0</td>\n",
              "      <td>1</td>\n",
              "      <td>4</td>\n",
              "      <td>81</td>\n",
              "      <td>shortcut</td>\n",
              "      <td>Y</td>\n",
              "      <td>1567119193205</td>\n",
              "      <td>1567119195141</td>\n",
              "      <td>1567119195141</td>\n",
              "      <td>1966</td>\n",
              "      <td>1563</td>\n",
              "      <td>3529</td>\n",
              "      <td>1936</td>\n",
              "      <td>0</td>\n",
              "      <td>0</td>\n",
              "      <td>False</td>\n",
              "      <td>shortcut</td>\n",
              "      <td>shortcut</td>\n",
              "      <td>shortcut</td>\n",
              "      <td>shortcut</td>\n",
              "      <td>word</td>\n",
              "      <td>click</td>\n",
              "    </tr>\n",
              "  </tbody>\n",
              "</table>\n",
              "</div>"
            ],
            "text/plain": [
              "       Participant  TempBlock  ...  Previous_Reference_Task  Next_Reference_Task\n",
              "73  participant_31          0  ...                    click                 word\n",
              "75  participant_31          0  ...                     word                click\n",
              "77  participant_31          0  ...                    click                 word\n",
              "79  participant_31          0  ...                     word                 word\n",
              "81  participant_31          0  ...                     word                click\n",
              "\n",
              "[5 rows x 23 columns]"
            ]
          },
          "metadata": {
            "tags": []
          },
          "execution_count": 52
        }
      ]
    },
    {
      "cell_type": "markdown",
      "metadata": {
        "id": "PtIcAwuhqAB5",
        "colab_type": "text"
      },
      "source": [
        "### Completion Time"
      ]
    },
    {
      "cell_type": "code",
      "metadata": {
        "id": "FGlEbPjyltIs",
        "colab_type": "code",
        "colab": {
          "base_uri": "https://localhost:8080/",
          "height": 707
        },
        "outputId": "ca300ff0-d092-4c76-d3e7-383422a597f2"
      },
      "source": [
        "df_2_to_5= data_filtered.loc[df_filtered[\"Block\"] != 0]\n",
        "\n",
        "# df_2_to_5_word = df_2_to_5.loc[df_2_to_5[\"Reference_Task\"]==\"word\"]\n",
        "# df_2_to_5_click = df_2_to_5.loc[df_2_to_5[\"Reference_Task\"]==\"click\"]\n",
        "data_block = remove_outliers(df_2_to_5, 'Completion_Time', aggregateby=['Block','Participant'], threshold=1)\n",
        "data_block_word = data_block.loc[data_block[\"Reference_Task\"]==\"word\"]\n",
        "data_block_click = data_block.loc[data_block[\"Reference_Task\"]==\"click\"]"
      ],
      "execution_count": null,
      "outputs": [
        {
          "output_type": "error",
          "ename": "KeyError",
          "evalue": "ignored",
          "traceback": [
            "\u001b[0;31m---------------------------------------------------------------------------\u001b[0m",
            "\u001b[0;31mKeyError\u001b[0m                                  Traceback (most recent call last)",
            "\u001b[0;32m/usr/local/lib/python3.6/dist-packages/pandas/core/indexes/base.py\u001b[0m in \u001b[0;36mget_loc\u001b[0;34m(self, key, method, tolerance)\u001b[0m\n\u001b[1;32m   2645\u001b[0m             \u001b[0;32mtry\u001b[0m\u001b[0;34m:\u001b[0m\u001b[0;34m\u001b[0m\u001b[0;34m\u001b[0m\u001b[0m\n\u001b[0;32m-> 2646\u001b[0;31m                 \u001b[0;32mreturn\u001b[0m \u001b[0mself\u001b[0m\u001b[0;34m.\u001b[0m\u001b[0m_engine\u001b[0m\u001b[0;34m.\u001b[0m\u001b[0mget_loc\u001b[0m\u001b[0;34m(\u001b[0m\u001b[0mkey\u001b[0m\u001b[0;34m)\u001b[0m\u001b[0;34m\u001b[0m\u001b[0;34m\u001b[0m\u001b[0m\n\u001b[0m\u001b[1;32m   2647\u001b[0m             \u001b[0;32mexcept\u001b[0m \u001b[0mKeyError\u001b[0m\u001b[0;34m:\u001b[0m\u001b[0;34m\u001b[0m\u001b[0;34m\u001b[0m\u001b[0m\n",
            "\u001b[0;32mpandas/_libs/index.pyx\u001b[0m in \u001b[0;36mpandas._libs.index.IndexEngine.get_loc\u001b[0;34m()\u001b[0m\n",
            "\u001b[0;32mpandas/_libs/index.pyx\u001b[0m in \u001b[0;36mpandas._libs.index.IndexEngine.get_loc\u001b[0;34m()\u001b[0m\n",
            "\u001b[0;32mpandas/_libs/hashtable_class_helper.pxi\u001b[0m in \u001b[0;36mpandas._libs.hashtable.PyObjectHashTable.get_item\u001b[0;34m()\u001b[0m\n",
            "\u001b[0;32mpandas/_libs/hashtable_class_helper.pxi\u001b[0m in \u001b[0;36mpandas._libs.hashtable.PyObjectHashTable.get_item\u001b[0;34m()\u001b[0m\n",
            "\u001b[0;31mKeyError\u001b[0m: 'Reference_Task'",
            "\nDuring handling of the above exception, another exception occurred:\n",
            "\u001b[0;31mKeyError\u001b[0m                                  Traceback (most recent call last)",
            "\u001b[0;32m<ipython-input-53-d07926a3d8a3>\u001b[0m in \u001b[0;36m<module>\u001b[0;34m()\u001b[0m\n\u001b[1;32m      4\u001b[0m \u001b[0;31m# df_2_to_5_click = df_2_to_5.loc[df_2_to_5[\"Reference_Task\"]==\"click\"]\u001b[0m\u001b[0;34m\u001b[0m\u001b[0;34m\u001b[0m\u001b[0;34m\u001b[0m\u001b[0m\n\u001b[1;32m      5\u001b[0m \u001b[0mdata_block\u001b[0m \u001b[0;34m=\u001b[0m \u001b[0mremove_outliers\u001b[0m\u001b[0;34m(\u001b[0m\u001b[0mdf_2_to_5\u001b[0m\u001b[0;34m,\u001b[0m \u001b[0;34m'Completion_Time'\u001b[0m\u001b[0;34m,\u001b[0m \u001b[0maggregateby\u001b[0m\u001b[0;34m=\u001b[0m\u001b[0;34m[\u001b[0m\u001b[0;34m'Block'\u001b[0m\u001b[0;34m,\u001b[0m\u001b[0;34m'Participant'\u001b[0m\u001b[0;34m]\u001b[0m\u001b[0;34m,\u001b[0m \u001b[0mthreshold\u001b[0m\u001b[0;34m=\u001b[0m\u001b[0;36m1\u001b[0m\u001b[0;34m)\u001b[0m\u001b[0;34m\u001b[0m\u001b[0;34m\u001b[0m\u001b[0m\n\u001b[0;32m----> 6\u001b[0;31m \u001b[0mdata_block_word\u001b[0m \u001b[0;34m=\u001b[0m \u001b[0mdata_block\u001b[0m\u001b[0;34m.\u001b[0m\u001b[0mloc\u001b[0m\u001b[0;34m[\u001b[0m\u001b[0mdata_block\u001b[0m\u001b[0;34m[\u001b[0m\u001b[0;34m\"Reference_Task\"\u001b[0m\u001b[0;34m]\u001b[0m\u001b[0;34m==\u001b[0m\u001b[0;34m\"word\"\u001b[0m\u001b[0;34m]\u001b[0m\u001b[0;34m\u001b[0m\u001b[0;34m\u001b[0m\u001b[0m\n\u001b[0m\u001b[1;32m      7\u001b[0m \u001b[0mdata_block_click\u001b[0m \u001b[0;34m=\u001b[0m \u001b[0mdata_block\u001b[0m\u001b[0;34m.\u001b[0m\u001b[0mloc\u001b[0m\u001b[0;34m[\u001b[0m\u001b[0mdata_block\u001b[0m\u001b[0;34m[\u001b[0m\u001b[0;34m\"Reference_Task\"\u001b[0m\u001b[0;34m]\u001b[0m\u001b[0;34m==\u001b[0m\u001b[0;34m\"click\"\u001b[0m\u001b[0;34m]\u001b[0m\u001b[0;34m\u001b[0m\u001b[0;34m\u001b[0m\u001b[0m\n",
            "\u001b[0;32m/usr/local/lib/python3.6/dist-packages/pandas/core/frame.py\u001b[0m in \u001b[0;36m__getitem__\u001b[0;34m(self, key)\u001b[0m\n\u001b[1;32m   2798\u001b[0m             \u001b[0;32mif\u001b[0m \u001b[0mself\u001b[0m\u001b[0;34m.\u001b[0m\u001b[0mcolumns\u001b[0m\u001b[0;34m.\u001b[0m\u001b[0mnlevels\u001b[0m \u001b[0;34m>\u001b[0m \u001b[0;36m1\u001b[0m\u001b[0;34m:\u001b[0m\u001b[0;34m\u001b[0m\u001b[0;34m\u001b[0m\u001b[0m\n\u001b[1;32m   2799\u001b[0m                 \u001b[0;32mreturn\u001b[0m \u001b[0mself\u001b[0m\u001b[0;34m.\u001b[0m\u001b[0m_getitem_multilevel\u001b[0m\u001b[0;34m(\u001b[0m\u001b[0mkey\u001b[0m\u001b[0;34m)\u001b[0m\u001b[0;34m\u001b[0m\u001b[0;34m\u001b[0m\u001b[0m\n\u001b[0;32m-> 2800\u001b[0;31m             \u001b[0mindexer\u001b[0m \u001b[0;34m=\u001b[0m \u001b[0mself\u001b[0m\u001b[0;34m.\u001b[0m\u001b[0mcolumns\u001b[0m\u001b[0;34m.\u001b[0m\u001b[0mget_loc\u001b[0m\u001b[0;34m(\u001b[0m\u001b[0mkey\u001b[0m\u001b[0;34m)\u001b[0m\u001b[0;34m\u001b[0m\u001b[0;34m\u001b[0m\u001b[0m\n\u001b[0m\u001b[1;32m   2801\u001b[0m             \u001b[0;32mif\u001b[0m \u001b[0mis_integer\u001b[0m\u001b[0;34m(\u001b[0m\u001b[0mindexer\u001b[0m\u001b[0;34m)\u001b[0m\u001b[0;34m:\u001b[0m\u001b[0;34m\u001b[0m\u001b[0;34m\u001b[0m\u001b[0m\n\u001b[1;32m   2802\u001b[0m                 \u001b[0mindexer\u001b[0m \u001b[0;34m=\u001b[0m \u001b[0;34m[\u001b[0m\u001b[0mindexer\u001b[0m\u001b[0;34m]\u001b[0m\u001b[0;34m\u001b[0m\u001b[0;34m\u001b[0m\u001b[0m\n",
            "\u001b[0;32m/usr/local/lib/python3.6/dist-packages/pandas/core/indexes/base.py\u001b[0m in \u001b[0;36mget_loc\u001b[0;34m(self, key, method, tolerance)\u001b[0m\n\u001b[1;32m   2646\u001b[0m                 \u001b[0;32mreturn\u001b[0m \u001b[0mself\u001b[0m\u001b[0;34m.\u001b[0m\u001b[0m_engine\u001b[0m\u001b[0;34m.\u001b[0m\u001b[0mget_loc\u001b[0m\u001b[0;34m(\u001b[0m\u001b[0mkey\u001b[0m\u001b[0;34m)\u001b[0m\u001b[0;34m\u001b[0m\u001b[0;34m\u001b[0m\u001b[0m\n\u001b[1;32m   2647\u001b[0m             \u001b[0;32mexcept\u001b[0m \u001b[0mKeyError\u001b[0m\u001b[0;34m:\u001b[0m\u001b[0;34m\u001b[0m\u001b[0;34m\u001b[0m\u001b[0m\n\u001b[0;32m-> 2648\u001b[0;31m                 \u001b[0;32mreturn\u001b[0m \u001b[0mself\u001b[0m\u001b[0;34m.\u001b[0m\u001b[0m_engine\u001b[0m\u001b[0;34m.\u001b[0m\u001b[0mget_loc\u001b[0m\u001b[0;34m(\u001b[0m\u001b[0mself\u001b[0m\u001b[0;34m.\u001b[0m\u001b[0m_maybe_cast_indexer\u001b[0m\u001b[0;34m(\u001b[0m\u001b[0mkey\u001b[0m\u001b[0;34m)\u001b[0m\u001b[0;34m)\u001b[0m\u001b[0;34m\u001b[0m\u001b[0;34m\u001b[0m\u001b[0m\n\u001b[0m\u001b[1;32m   2649\u001b[0m         \u001b[0mindexer\u001b[0m \u001b[0;34m=\u001b[0m \u001b[0mself\u001b[0m\u001b[0;34m.\u001b[0m\u001b[0mget_indexer\u001b[0m\u001b[0;34m(\u001b[0m\u001b[0;34m[\u001b[0m\u001b[0mkey\u001b[0m\u001b[0;34m]\u001b[0m\u001b[0;34m,\u001b[0m \u001b[0mmethod\u001b[0m\u001b[0;34m=\u001b[0m\u001b[0mmethod\u001b[0m\u001b[0;34m,\u001b[0m \u001b[0mtolerance\u001b[0m\u001b[0;34m=\u001b[0m\u001b[0mtolerance\u001b[0m\u001b[0;34m)\u001b[0m\u001b[0;34m\u001b[0m\u001b[0;34m\u001b[0m\u001b[0m\n\u001b[1;32m   2650\u001b[0m         \u001b[0;32mif\u001b[0m \u001b[0mindexer\u001b[0m\u001b[0;34m.\u001b[0m\u001b[0mndim\u001b[0m \u001b[0;34m>\u001b[0m \u001b[0;36m1\u001b[0m \u001b[0;32mor\u001b[0m \u001b[0mindexer\u001b[0m\u001b[0;34m.\u001b[0m\u001b[0msize\u001b[0m \u001b[0;34m>\u001b[0m \u001b[0;36m1\u001b[0m\u001b[0;34m:\u001b[0m\u001b[0;34m\u001b[0m\u001b[0;34m\u001b[0m\u001b[0m\n",
            "\u001b[0;32mpandas/_libs/index.pyx\u001b[0m in \u001b[0;36mpandas._libs.index.IndexEngine.get_loc\u001b[0;34m()\u001b[0m\n",
            "\u001b[0;32mpandas/_libs/index.pyx\u001b[0m in \u001b[0;36mpandas._libs.index.IndexEngine.get_loc\u001b[0;34m()\u001b[0m\n",
            "\u001b[0;32mpandas/_libs/hashtable_class_helper.pxi\u001b[0m in \u001b[0;36mpandas._libs.hashtable.PyObjectHashTable.get_item\u001b[0;34m()\u001b[0m\n",
            "\u001b[0;32mpandas/_libs/hashtable_class_helper.pxi\u001b[0m in \u001b[0;36mpandas._libs.hashtable.PyObjectHashTable.get_item\u001b[0;34m()\u001b[0m\n",
            "\u001b[0;31mKeyError\u001b[0m: 'Reference_Task'"
          ]
        }
      ]
    },
    {
      "cell_type": "code",
      "metadata": {
        "id": "2hMAGMvqh34L",
        "colab_type": "code",
        "colab": {
          "base_uri": "https://localhost:8080/",
          "height": 707
        },
        "outputId": "04cb16b3-dcce-4e36-f193-addd7fe359a7"
      },
      "source": [
        "# TAsk completion time for shortcuts coming from word\n",
        "print(df_2_to_5.loc[(df_2_to_5[\"Target_Type\"]==\"posture\") & (df_2_to_5[\"Reference_Task\"]==\"word\")][\"Completion_Time\"].mean())\n",
        "print(df_2_to_5.loc[(df_2_to_5[\"Target_Type\"]==\"shortcut\") & (df_2_to_5[\"Reference_Task\"]==\"word\")][\"Completion_Time\"].mean())\n",
        "\n",
        "# data_filtered.loc[(data_filtered[\"Target_Type\"]==\"shortcut\") & (data_filtered[\"Reference_Task\"]==\"word\")].groupby(\"Block\")[\"Completion_Time\"].mean()\n",
        "# # TAsk completion time for shortcuts coming from click\n",
        "# print(df_2_to_5.loc[(df_2_to_5[\"Target_Type\"]==\"shortcut\") & (df_2_to_5[\"Reference_Task\"]==\"click\")][\"Execution_Time\"].mean())"
      ],
      "execution_count": null,
      "outputs": [
        {
          "output_type": "error",
          "ename": "KeyError",
          "evalue": "ignored",
          "traceback": [
            "\u001b[0;31m---------------------------------------------------------------------------\u001b[0m",
            "\u001b[0;31mKeyError\u001b[0m                                  Traceback (most recent call last)",
            "\u001b[0;32m/usr/local/lib/python3.6/dist-packages/pandas/core/indexes/base.py\u001b[0m in \u001b[0;36mget_loc\u001b[0;34m(self, key, method, tolerance)\u001b[0m\n\u001b[1;32m   2645\u001b[0m             \u001b[0;32mtry\u001b[0m\u001b[0;34m:\u001b[0m\u001b[0;34m\u001b[0m\u001b[0;34m\u001b[0m\u001b[0m\n\u001b[0;32m-> 2646\u001b[0;31m                 \u001b[0;32mreturn\u001b[0m \u001b[0mself\u001b[0m\u001b[0;34m.\u001b[0m\u001b[0m_engine\u001b[0m\u001b[0;34m.\u001b[0m\u001b[0mget_loc\u001b[0m\u001b[0;34m(\u001b[0m\u001b[0mkey\u001b[0m\u001b[0;34m)\u001b[0m\u001b[0;34m\u001b[0m\u001b[0;34m\u001b[0m\u001b[0m\n\u001b[0m\u001b[1;32m   2647\u001b[0m             \u001b[0;32mexcept\u001b[0m \u001b[0mKeyError\u001b[0m\u001b[0;34m:\u001b[0m\u001b[0;34m\u001b[0m\u001b[0;34m\u001b[0m\u001b[0m\n",
            "\u001b[0;32mpandas/_libs/index.pyx\u001b[0m in \u001b[0;36mpandas._libs.index.IndexEngine.get_loc\u001b[0;34m()\u001b[0m\n",
            "\u001b[0;32mpandas/_libs/index.pyx\u001b[0m in \u001b[0;36mpandas._libs.index.IndexEngine.get_loc\u001b[0;34m()\u001b[0m\n",
            "\u001b[0;32mpandas/_libs/hashtable_class_helper.pxi\u001b[0m in \u001b[0;36mpandas._libs.hashtable.PyObjectHashTable.get_item\u001b[0;34m()\u001b[0m\n",
            "\u001b[0;32mpandas/_libs/hashtable_class_helper.pxi\u001b[0m in \u001b[0;36mpandas._libs.hashtable.PyObjectHashTable.get_item\u001b[0;34m()\u001b[0m\n",
            "\u001b[0;31mKeyError\u001b[0m: 'Reference_Task'",
            "\nDuring handling of the above exception, another exception occurred:\n",
            "\u001b[0;31mKeyError\u001b[0m                                  Traceback (most recent call last)",
            "\u001b[0;32m<ipython-input-54-b8349177e4d0>\u001b[0m in \u001b[0;36m<module>\u001b[0;34m()\u001b[0m\n\u001b[1;32m      1\u001b[0m \u001b[0;31m# TAsk completion time for shortcuts coming from word\u001b[0m\u001b[0;34m\u001b[0m\u001b[0;34m\u001b[0m\u001b[0;34m\u001b[0m\u001b[0m\n\u001b[0;32m----> 2\u001b[0;31m \u001b[0mprint\u001b[0m\u001b[0;34m(\u001b[0m\u001b[0mdf_2_to_5\u001b[0m\u001b[0;34m.\u001b[0m\u001b[0mloc\u001b[0m\u001b[0;34m[\u001b[0m\u001b[0;34m(\u001b[0m\u001b[0mdf_2_to_5\u001b[0m\u001b[0;34m[\u001b[0m\u001b[0;34m\"Target_Type\"\u001b[0m\u001b[0;34m]\u001b[0m\u001b[0;34m==\u001b[0m\u001b[0;34m\"posture\"\u001b[0m\u001b[0;34m)\u001b[0m \u001b[0;34m&\u001b[0m \u001b[0;34m(\u001b[0m\u001b[0mdf_2_to_5\u001b[0m\u001b[0;34m[\u001b[0m\u001b[0;34m\"Reference_Task\"\u001b[0m\u001b[0;34m]\u001b[0m\u001b[0;34m==\u001b[0m\u001b[0;34m\"word\"\u001b[0m\u001b[0;34m)\u001b[0m\u001b[0;34m]\u001b[0m\u001b[0;34m[\u001b[0m\u001b[0;34m\"Completion_Time\"\u001b[0m\u001b[0;34m]\u001b[0m\u001b[0;34m.\u001b[0m\u001b[0mmean\u001b[0m\u001b[0;34m(\u001b[0m\u001b[0;34m)\u001b[0m\u001b[0;34m)\u001b[0m\u001b[0;34m\u001b[0m\u001b[0;34m\u001b[0m\u001b[0m\n\u001b[0m\u001b[1;32m      3\u001b[0m \u001b[0mprint\u001b[0m\u001b[0;34m(\u001b[0m\u001b[0mdf_2_to_5\u001b[0m\u001b[0;34m.\u001b[0m\u001b[0mloc\u001b[0m\u001b[0;34m[\u001b[0m\u001b[0;34m(\u001b[0m\u001b[0mdf_2_to_5\u001b[0m\u001b[0;34m[\u001b[0m\u001b[0;34m\"Target_Type\"\u001b[0m\u001b[0;34m]\u001b[0m\u001b[0;34m==\u001b[0m\u001b[0;34m\"shortcut\"\u001b[0m\u001b[0;34m)\u001b[0m \u001b[0;34m&\u001b[0m \u001b[0;34m(\u001b[0m\u001b[0mdf_2_to_5\u001b[0m\u001b[0;34m[\u001b[0m\u001b[0;34m\"Reference_Task\"\u001b[0m\u001b[0;34m]\u001b[0m\u001b[0;34m==\u001b[0m\u001b[0;34m\"word\"\u001b[0m\u001b[0;34m)\u001b[0m\u001b[0;34m]\u001b[0m\u001b[0;34m[\u001b[0m\u001b[0;34m\"Completion_Time\"\u001b[0m\u001b[0;34m]\u001b[0m\u001b[0;34m.\u001b[0m\u001b[0mmean\u001b[0m\u001b[0;34m(\u001b[0m\u001b[0;34m)\u001b[0m\u001b[0;34m)\u001b[0m\u001b[0;34m\u001b[0m\u001b[0;34m\u001b[0m\u001b[0m\n\u001b[1;32m      4\u001b[0m \u001b[0;34m\u001b[0m\u001b[0m\n\u001b[1;32m      5\u001b[0m \u001b[0;31m# data_filtered.loc[(data_filtered[\"Target_Type\"]==\"shortcut\") & (data_filtered[\"Reference_Task\"]==\"word\")].groupby(\"Block\")[\"Completion_Time\"].mean()\u001b[0m\u001b[0;34m\u001b[0m\u001b[0;34m\u001b[0m\u001b[0;34m\u001b[0m\u001b[0m\n",
            "\u001b[0;32m/usr/local/lib/python3.6/dist-packages/pandas/core/frame.py\u001b[0m in \u001b[0;36m__getitem__\u001b[0;34m(self, key)\u001b[0m\n\u001b[1;32m   2798\u001b[0m             \u001b[0;32mif\u001b[0m \u001b[0mself\u001b[0m\u001b[0;34m.\u001b[0m\u001b[0mcolumns\u001b[0m\u001b[0;34m.\u001b[0m\u001b[0mnlevels\u001b[0m \u001b[0;34m>\u001b[0m \u001b[0;36m1\u001b[0m\u001b[0;34m:\u001b[0m\u001b[0;34m\u001b[0m\u001b[0;34m\u001b[0m\u001b[0m\n\u001b[1;32m   2799\u001b[0m                 \u001b[0;32mreturn\u001b[0m \u001b[0mself\u001b[0m\u001b[0;34m.\u001b[0m\u001b[0m_getitem_multilevel\u001b[0m\u001b[0;34m(\u001b[0m\u001b[0mkey\u001b[0m\u001b[0;34m)\u001b[0m\u001b[0;34m\u001b[0m\u001b[0;34m\u001b[0m\u001b[0m\n\u001b[0;32m-> 2800\u001b[0;31m             \u001b[0mindexer\u001b[0m \u001b[0;34m=\u001b[0m \u001b[0mself\u001b[0m\u001b[0;34m.\u001b[0m\u001b[0mcolumns\u001b[0m\u001b[0;34m.\u001b[0m\u001b[0mget_loc\u001b[0m\u001b[0;34m(\u001b[0m\u001b[0mkey\u001b[0m\u001b[0;34m)\u001b[0m\u001b[0;34m\u001b[0m\u001b[0;34m\u001b[0m\u001b[0m\n\u001b[0m\u001b[1;32m   2801\u001b[0m             \u001b[0;32mif\u001b[0m \u001b[0mis_integer\u001b[0m\u001b[0;34m(\u001b[0m\u001b[0mindexer\u001b[0m\u001b[0;34m)\u001b[0m\u001b[0;34m:\u001b[0m\u001b[0;34m\u001b[0m\u001b[0;34m\u001b[0m\u001b[0m\n\u001b[1;32m   2802\u001b[0m                 \u001b[0mindexer\u001b[0m \u001b[0;34m=\u001b[0m \u001b[0;34m[\u001b[0m\u001b[0mindexer\u001b[0m\u001b[0;34m]\u001b[0m\u001b[0;34m\u001b[0m\u001b[0;34m\u001b[0m\u001b[0m\n",
            "\u001b[0;32m/usr/local/lib/python3.6/dist-packages/pandas/core/indexes/base.py\u001b[0m in \u001b[0;36mget_loc\u001b[0;34m(self, key, method, tolerance)\u001b[0m\n\u001b[1;32m   2646\u001b[0m                 \u001b[0;32mreturn\u001b[0m \u001b[0mself\u001b[0m\u001b[0;34m.\u001b[0m\u001b[0m_engine\u001b[0m\u001b[0;34m.\u001b[0m\u001b[0mget_loc\u001b[0m\u001b[0;34m(\u001b[0m\u001b[0mkey\u001b[0m\u001b[0;34m)\u001b[0m\u001b[0;34m\u001b[0m\u001b[0;34m\u001b[0m\u001b[0m\n\u001b[1;32m   2647\u001b[0m             \u001b[0;32mexcept\u001b[0m \u001b[0mKeyError\u001b[0m\u001b[0;34m:\u001b[0m\u001b[0;34m\u001b[0m\u001b[0;34m\u001b[0m\u001b[0m\n\u001b[0;32m-> 2648\u001b[0;31m                 \u001b[0;32mreturn\u001b[0m \u001b[0mself\u001b[0m\u001b[0;34m.\u001b[0m\u001b[0m_engine\u001b[0m\u001b[0;34m.\u001b[0m\u001b[0mget_loc\u001b[0m\u001b[0;34m(\u001b[0m\u001b[0mself\u001b[0m\u001b[0;34m.\u001b[0m\u001b[0m_maybe_cast_indexer\u001b[0m\u001b[0;34m(\u001b[0m\u001b[0mkey\u001b[0m\u001b[0;34m)\u001b[0m\u001b[0;34m)\u001b[0m\u001b[0;34m\u001b[0m\u001b[0;34m\u001b[0m\u001b[0m\n\u001b[0m\u001b[1;32m   2649\u001b[0m         \u001b[0mindexer\u001b[0m \u001b[0;34m=\u001b[0m \u001b[0mself\u001b[0m\u001b[0;34m.\u001b[0m\u001b[0mget_indexer\u001b[0m\u001b[0;34m(\u001b[0m\u001b[0;34m[\u001b[0m\u001b[0mkey\u001b[0m\u001b[0;34m]\u001b[0m\u001b[0;34m,\u001b[0m \u001b[0mmethod\u001b[0m\u001b[0;34m=\u001b[0m\u001b[0mmethod\u001b[0m\u001b[0;34m,\u001b[0m \u001b[0mtolerance\u001b[0m\u001b[0;34m=\u001b[0m\u001b[0mtolerance\u001b[0m\u001b[0;34m)\u001b[0m\u001b[0;34m\u001b[0m\u001b[0;34m\u001b[0m\u001b[0m\n\u001b[1;32m   2650\u001b[0m         \u001b[0;32mif\u001b[0m \u001b[0mindexer\u001b[0m\u001b[0;34m.\u001b[0m\u001b[0mndim\u001b[0m \u001b[0;34m>\u001b[0m \u001b[0;36m1\u001b[0m \u001b[0;32mor\u001b[0m \u001b[0mindexer\u001b[0m\u001b[0;34m.\u001b[0m\u001b[0msize\u001b[0m \u001b[0;34m>\u001b[0m \u001b[0;36m1\u001b[0m\u001b[0;34m:\u001b[0m\u001b[0;34m\u001b[0m\u001b[0;34m\u001b[0m\u001b[0m\n",
            "\u001b[0;32mpandas/_libs/index.pyx\u001b[0m in \u001b[0;36mpandas._libs.index.IndexEngine.get_loc\u001b[0;34m()\u001b[0m\n",
            "\u001b[0;32mpandas/_libs/index.pyx\u001b[0m in \u001b[0;36mpandas._libs.index.IndexEngine.get_loc\u001b[0;34m()\u001b[0m\n",
            "\u001b[0;32mpandas/_libs/hashtable_class_helper.pxi\u001b[0m in \u001b[0;36mpandas._libs.hashtable.PyObjectHashTable.get_item\u001b[0;34m()\u001b[0m\n",
            "\u001b[0;32mpandas/_libs/hashtable_class_helper.pxi\u001b[0m in \u001b[0;36mpandas._libs.hashtable.PyObjectHashTable.get_item\u001b[0;34m()\u001b[0m\n",
            "\u001b[0;31mKeyError\u001b[0m: 'Reference_Task'"
          ]
        }
      ]
    },
    {
      "cell_type": "code",
      "metadata": {
        "id": "GNPTxl7uqBsk",
        "colab_type": "code",
        "colab": {
          "base_uri": "https://localhost:8080/",
          "height": 86
        },
        "outputId": "e80b7bd1-8406-4f68-ec6f-e18d800c5730"
      },
      "source": [
        "# print(df_2_to_5.loc[(df_2_to_5[\"Target_Type\"]==\"posture\") & (df_2_to_5[\"Reference_Task\"]==\"click\")][\"Completion_Time\"].mean())\n",
        "# print(df_2_to_5.loc[(df_2_to_5[\"Target_Type\"]==\"shortcut\") & (df_2_to_5[\"Reference_Task\"]==\"click\")][\"Completion_Time\"].mean())\n",
        "print(df_2_to_5.loc[(df_2_to_5[\"Target_Type\"]==\"posture\")][\"Completion_Time\"].mean())\n",
        "print(df_2_to_5.loc[(df_2_to_5[\"Target_Type\"]==\"posture\")][\"Completion_Time\"].std())\n",
        "print(df_2_to_5.loc[(df_2_to_5[\"Target_Type\"]==\"shortcut\")][\"Completion_Time\"].mean())\n",
        "print(df_2_to_5.loc[(df_2_to_5[\"Target_Type\"]==\"shortcut\")][\"Completion_Time\"].std())\n",
        "# print(list(df_2_to_5.loc[(df_2_to_5[\"Target_Type\"]==\"posture\") & (df_2_to_5[\"Reference_Task\"]==\"click\")][\"Completion_Time\"]))\n",
        "\n",
        "# data_filtered.loc[(data_filtered[\"Target_Type\"]==\"shortcut\") & (data_filtered[\"Reference_Task\"]==\"click\")].groupby(\"Block\")[\"Completion_Time\"].mean()\n"
      ],
      "execution_count": null,
      "outputs": [
        {
          "output_type": "stream",
          "text": [
            "1268.1060988812703\n",
            "517.4792570903178\n",
            "1937.9502587694078\n",
            "712.8359638909789\n"
          ],
          "name": "stdout"
        }
      ]
    },
    {
      "cell_type": "code",
      "metadata": {
        "id": "F0I-SuJf8y-E",
        "colab_type": "code",
        "colab": {}
      },
      "source": [
        ""
      ],
      "execution_count": null,
      "outputs": []
    },
    {
      "cell_type": "code",
      "metadata": {
        "id": "ydKSuzBV8bwd",
        "colab_type": "code",
        "colab": {
          "base_uri": "https://localhost:8080/",
          "height": 86
        },
        "outputId": "b6fe2fc0-2325-4a5c-bdf5-a50dd4472da0"
      },
      "source": [
        "# print(df_2_to_5.loc[(df_2_to_5[\"Target_Type\"]==\"posture\") & (df_2_to_5[\"Reference_Task\"]==\"click\")][\"Completion_Time\"].mean())\n",
        "# print(df_2_to_5.loc[(df_2_to_5[\"Target_Type\"]==\"shortcut\") & (df_2_to_5[\"Reference_Task\"]==\"click\")][\"Completion_Time\"].mean())\n",
        "print(data_block.loc[(data_block[\"Target_Type\"]==\"posture\")][\"Completion_Time\"].mean())\n",
        "print(data_block.loc[(data_block[\"Target_Type\"]==\"posture\")][\"Completion_Time\"].std())\n",
        "print(data_block.loc[(data_block[\"Target_Type\"]==\"shortcut\")][\"Completion_Time\"].mean())\n",
        "print(data_block.loc[(data_block[\"Target_Type\"]==\"shortcut\")][\"Completion_Time\"].std())\n",
        "# print(list(df_2_to_5.loc[(df_2_to_5[\"Target_Type\"]==\"posture\") & (df_2_to_5[\"Reference_Task\"]==\"click\")][\"Completion_Time\"]))\n",
        "\n",
        "# data_filtered.loc[(data_filtered[\"Target_Type\"]==\"shortcut\") & (data_filtered[\"Reference_Task\"]==\"click\")].groupby(\"Block\")[\"Completion_Time\"].mean()\n"
      ],
      "execution_count": null,
      "outputs": [
        {
          "output_type": "stream",
          "text": [
            "1139.050963081862\n",
            "244.2308226085281\n",
            "1738.7931954636424\n",
            "458.31444452157336\n"
          ],
          "name": "stdout"
        }
      ]
    },
    {
      "cell_type": "code",
      "metadata": {
        "id": "5PVuwm_JqPDh",
        "colab_type": "code",
        "colab": {
          "base_uri": "https://localhost:8080/",
          "height": 287
        },
        "outputId": "faae9392-2188-4dfa-f1b3-b8689519e242"
      },
      "source": [
        "sns.set(style=\"whitegrid\")\n",
        "plt.figure(figsize=(10,4))\n",
        "# plt.xticks(rotation=90)\n",
        "# ax = sns.barplot(x=\"Block\", y=\"Execution_Time\", hue=\"Target_Type\", data=data_filtered, capsize=0.1, ci=95)\n",
        "ax = sns.pointplot(x=\"Block\", y=\"Completion_Time\",hue=\"Target_Type\", err_style=\"bars\", data=df_2_to_5, capsize=0.1, ci=95, dashes=True)\n",
        "# ax = sns.swarmplot(x=\"Block\", y=\"Execution_Time\",hue=\"Target_Type\", data=data_filtered)\n",
        "# ax = sns.lineplot(x=\"Block\", y=\"Execution_Time\", hue=\"Target_Type\", units=\"subject\", estimator=None, lw=1, data=fmri.query(\"region == 'frontal'\"))\n",
        "\n",
        "# ax.legend(loc='upper right')#, bbox_to_anchor=(0.8, 0.5), ncol=1)\n",
        "# plt.xlim(0, 4)\n",
        "# plt.grid('off')\n",
        "# Add rectangle\n",
        "# ax.add_patch(\n",
        "# patches.Rectangle(\n",
        "# (50, 50), # (x,y)\n",
        "# 50, # width\n",
        "# 50, # height\n",
        "# # You can add rotation as well with 'angle'\n",
        "# alpha=0.3, facecolor=\"red\", edgecolor=\"black\", linewidth=3, linestyle='solid'\n",
        "# )\n",
        "# )\n",
        "\n",
        "arr = {0:-0.6,1:0.2,2:1.4,3:2.2,4:3.4, 5:4.2,6:5.4,7:6.2,8:7.4,9:8.2}\n",
        "# for index, row in data_filtered.groupby([\"Block\",\"Target_Type\"]).mean().reset_index().iterrows():\n",
        "# #     print(row[\"Execution_Time\"])\n",
        "# #     print(index)\n",
        "#     ax.text(arr[index]/2,-101, round(row[\"Execution_Time\"]/1000,2), color='black')"
      ],
      "execution_count": null,
      "outputs": [
        {
          "output_type": "display_data",
          "data": {
            "image/png": "[encoded data removed]",
            "text/plain": [
              "<Figure size 720x288 with 1 Axes>"
            ]
          },
          "metadata": {
            "tags": []
          }
        }
      ]
    },
    {
      "cell_type": "code",
      "metadata": {
        "id": "MAA6nh7L_mqM",
        "colab_type": "code",
        "colab": {
          "base_uri": "https://localhost:8080/",
          "height": 324
        },
        "outputId": "2c7a9678-374c-4f5f-e356-80e146caec2f"
      },
      "source": [
        "sns.set(style=\"whitegrid\")\n",
        "# plt.ylim(1000, 2000)\n",
        "\n",
        "plt.figure(figsize=(10,4))\n",
        "# ax = sns.pointplot(x=\"Block\", y=\"Execution_Time\",hue=\"IV_Surface\", err_style=\"bars\", data=data_filtered, capsize=0.1, ci=95, dashes=True)\n",
        "ax = sns.barplot(x=\"Target_Type\", y=\"Completion_Time\", data=data_block, capsize=0.1)\n",
        "ax.legend(loc='lower right')#, bbox_to_anchor=(0.8, 0.5), ncol=1)\n",
        "ax.axes.set_ylim(1000,2000)"
      ],
      "execution_count": null,
      "outputs": [
        {
          "output_type": "stream",
          "text": [
            "No handles with labels found to put in legend.\n"
          ],
          "name": "stderr"
        },
        {
          "output_type": "execute_result",
          "data": {
            "text/plain": [
              "(1000.0, 2000.0)"
            ]
          },
          "metadata": {
            "tags": []
          },
          "execution_count": 58
        },
        {
          "output_type": "display_data",
          "data": {
            "image/png": "[encoded data removed]",
            "text/plain": [
              "<Figure size 720x288 with 1 Axes>"
            ]
          },
          "metadata": {
            "tags": []
          }
        }
      ]
    },
    {
      "cell_type": "code",
      "metadata": {
        "id": "7n3d7oqHqf6p",
        "colab_type": "code",
        "colab": {
          "base_uri": "https://localhost:8080/",
          "height": 324
        },
        "outputId": "083dbc0e-4610-4380-b015-5b11c3f6ee4e"
      },
      "source": [
        "sns.set(style=\"whitegrid\")\n",
        "plt.figure(figsize=(10,4))\n",
        "# ax = sns.pointplot(x=\"Block\", y=\"Execution_Time\",hue=\"IV_Surface\", err_style=\"bars\", data=data_filtered, capsize=0.1, ci=95, dashes=True)\n",
        "ax = sns.barplot(x=\"IV_Surface\", y=\"Completion_Time\", data=data_block, capsize=0.1)\n",
        "ax.legend(loc='lower right')#, bbox_to_anchor=(0.8, 0.5), ncol=1)\n",
        "ax.axes.set_ylim(1000,2000)"
      ],
      "execution_count": null,
      "outputs": [
        {
          "output_type": "stream",
          "text": [
            "No handles with labels found to put in legend.\n"
          ],
          "name": "stderr"
        },
        {
          "output_type": "execute_result",
          "data": {
            "text/plain": [
              "(1000.0, 2000.0)"
            ]
          },
          "metadata": {
            "tags": []
          },
          "execution_count": 59
        },
        {
          "output_type": "display_data",
          "data": {
            "image/png": "[encoded data removed]",
            "text/plain": [
              "<Figure size 720x288 with 1 Axes>"
            ]
          },
          "metadata": {
            "tags": []
          }
        }
      ]
    },
    {
      "cell_type": "code",
      "metadata": {
        "id": "eOzVWXFOvfMn",
        "colab_type": "code",
        "colab": {}
      },
      "source": [
        "# data_filtered_click.loc[data_filtered_click[\"Target_Type\"]==\"posture\") & data_filtered_click[]]"
      ],
      "execution_count": null,
      "outputs": []
    },
    {
      "cell_type": "code",
      "metadata": {
        "id": "WTal131Hqkcp",
        "colab_type": "code",
        "colab": {
          "base_uri": "https://localhost:8080/",
          "height": 324
        },
        "outputId": "65f6a94d-1b35-4437-fcc1-c87f8ea6822b"
      },
      "source": [
        "sns.set(style=\"whitegrid\")\n",
        "plt.figure(figsize=(10,4))\n",
        "# ax = sns.pointplot(x=\"Block\", y=\"Execution_Time\",hue=\"IV_Form\", err_style=\"bars\", data=data_filtered, capsize=0.1, ci=95, dashes=True)\n",
        "ax = sns.barplot(x=\"IV_Form\", y=\"Completion_Time\", data=data_block, capsize=0.1)\n",
        "ax.legend(loc='lower right')#, bbox_to_anchor=(0.8, 0.5), ncol=1)\n",
        "ax.axes.set_ylim(1000,2000)"
      ],
      "execution_count": null,
      "outputs": [
        {
          "output_type": "stream",
          "text": [
            "No handles with labels found to put in legend.\n"
          ],
          "name": "stderr"
        },
        {
          "output_type": "execute_result",
          "data": {
            "text/plain": [
              "(1000.0, 2000.0)"
            ]
          },
          "metadata": {
            "tags": []
          },
          "execution_count": 61
        },
        {
          "output_type": "display_data",
          "data": {
            "image/png": "[encoded data removed]",
            "text/plain": [
              "<Figure size 720x288 with 1 Axes>"
            ]
          },
          "metadata": {
            "tags": []
          }
        }
      ]
    },
    {
      "cell_type": "code",
      "metadata": {
        "id": "04KPvfFSqk3I",
        "colab_type": "code",
        "colab": {
          "base_uri": "https://localhost:8080/",
          "height": 324
        },
        "outputId": "d6c22ba0-fa60-44b0-c21c-b36ab3b1d174"
      },
      "source": [
        "sns.set(style=\"whitegrid\")\n",
        "plt.figure(figsize=(10,4))\n",
        "# ax = sns.pointplot(x=\"Block\", y=\"Execution_Time\",hue=\"IV_Form\", err_style=\"bars\", data=data_filtered, capsize=0.1, ci=95, dashes=True)\n",
        "ax = sns.barplot(x=\"IV_Orientation\", y=\"Completion_Time\", data=data_block, capsize=0.1)\n",
        "ax.legend(loc='lower right')#, bbox_to_anchor=(0.8, 0.5), ncol=1)\n",
        "ax.axes.set_ylim(1000,2000)"
      ],
      "execution_count": null,
      "outputs": [
        {
          "output_type": "stream",
          "text": [
            "No handles with labels found to put in legend.\n"
          ],
          "name": "stderr"
        },
        {
          "output_type": "execute_result",
          "data": {
            "text/plain": [
              "(1000.0, 2000.0)"
            ]
          },
          "metadata": {
            "tags": []
          },
          "execution_count": 62
        },
        {
          "output_type": "display_data",
          "data": {
            "image/png": "[encoded data removed]",
            "text/plain": [
              "<Figure size 720x288 with 1 Axes>"
            ]
          },
          "metadata": {
            "tags": []
          }
        }
      ]
    },
    {
      "cell_type": "code",
      "metadata": {
        "id": "RcNZAwVHqlIF",
        "colab_type": "code",
        "colab": {
          "base_uri": "https://localhost:8080/",
          "height": 324
        },
        "outputId": "c4c5527b-a121-456f-a848-87d572217ec1"
      },
      "source": [
        "sns.set(style=\"whitegrid\")\n",
        "plt.figure(figsize=(10,4))\n",
        "\n",
        "# ax = sns.pointplot(x=\"Block\", y=\"Execution_Time\",hue=\"IV_Form\", err_style=\"bars\", data=data_filtered, capsize=0.1, ci=95, dashes=True)\n",
        "ax = sns.barplot(x=\"IV_Hand\", y=\"Completion_Time\", data=data_block, capsize=0.1, ci=95)\n",
        "ax.legend(loc='lower right')#, bbox_to_anchor=(0.8, 0.5), ncol=1)\n",
        "ax.axes.set_ylim(1000,2000)"
      ],
      "execution_count": null,
      "outputs": [
        {
          "output_type": "stream",
          "text": [
            "No handles with labels found to put in legend.\n"
          ],
          "name": "stderr"
        },
        {
          "output_type": "execute_result",
          "data": {
            "text/plain": [
              "(1000.0, 2000.0)"
            ]
          },
          "metadata": {
            "tags": []
          },
          "execution_count": 63
        },
        {
          "output_type": "display_data",
          "data": {
            "image/png": "[encoded data removed]",
            "text/plain": [
              "<Figure size 720x288 with 1 Axes>"
            ]
          },
          "metadata": {
            "tags": []
          }
        }
      ]
    },
    {
      "cell_type": "code",
      "metadata": {
        "id": "6ul50WVgFZMt",
        "colab_type": "code",
        "colab": {}
      },
      "source": [
        ""
      ],
      "execution_count": null,
      "outputs": []
    },
    {
      "cell_type": "markdown",
      "metadata": {
        "id": "1_JWiSrwGyV4",
        "colab_type": "text"
      },
      "source": [
        "### Transition Time"
      ]
    },
    {
      "cell_type": "code",
      "metadata": {
        "id": "LBWKnG0CG0JN",
        "colab_type": "code",
        "colab": {
          "base_uri": "https://localhost:8080/",
          "height": 235
        },
        "outputId": "08963383-9305-49a4-a983-4029d2ea972a"
      },
      "source": [
        "# print(df_2_to_5.loc[(df_2_to_5[\"Target_Type\"]==\"posture\") & (df_2_to_5[\"Reference_Task\"]==\"click\")][\"Completion_Time\"].mean())\n",
        "# print(df_2_to_5.loc[(df_2_to_5[\"Target_Type\"]==\"shortcut\") & (df_2_to_5[\"Reference_Task\"]==\"click\")][\"Completion_Time\"].mean())\n",
        "print(df_2_to_5.loc[(df_2_to_5[\"Target_Type\"]==\"posture\")][\"Mode_Out_Time\"].mean())\n",
        "print(df_2_to_5.loc[(df_2_to_5[\"Target_Type\"]==\"posture\")][\"Mode_Out_Time\"].std())\n",
        "print(df_2_to_5.loc[(df_2_to_5[\"Target_Type\"]==\"shortcut\")][\"Mode_Out_Time\"].mean())\n",
        "print(df_2_to_5.loc[(df_2_to_5[\"Target_Type\"]==\"shortcut\")][\"Mode_Out_Time\"].std())\n",
        "# print(list(df_2_to_5.loc[(df_2_to_5[\"Target_Type\"]==\"posture\") & (df_2_to_5[\"Reference_Task\"]==\"click\")][\"Completion_Time\"]))\n",
        "\n",
        "# data_filtered.loc[(data_filtered[\"Target_Type\"]==\"shortcut\") & (data_filtered[\"Reference_Task\"]==\"click\")].groupby(\"Block\")[\"Completion_Time\"].mean()\n"
      ],
      "execution_count": null,
      "outputs": [
        {
          "output_type": "error",
          "ename": "NameError",
          "evalue": "ignored",
          "traceback": [
            "\u001b[0;31m---------------------------------------------------------------------------\u001b[0m",
            "\u001b[0;31mNameError\u001b[0m                                 Traceback (most recent call last)",
            "\u001b[0;32m<ipython-input-1-b8d05aa099e8>\u001b[0m in \u001b[0;36m<module>\u001b[0;34m()\u001b[0m\n\u001b[1;32m      1\u001b[0m \u001b[0;31m# print(df_2_to_5.loc[(df_2_to_5[\"Target_Type\"]==\"posture\") & (df_2_to_5[\"Reference_Task\"]==\"click\")][\"Completion_Time\"].mean())\u001b[0m\u001b[0;34m\u001b[0m\u001b[0;34m\u001b[0m\u001b[0;34m\u001b[0m\u001b[0m\n\u001b[1;32m      2\u001b[0m \u001b[0;31m# print(df_2_to_5.loc[(df_2_to_5[\"Target_Type\"]==\"shortcut\") & (df_2_to_5[\"Reference_Task\"]==\"click\")][\"Completion_Time\"].mean())\u001b[0m\u001b[0;34m\u001b[0m\u001b[0;34m\u001b[0m\u001b[0;34m\u001b[0m\u001b[0m\n\u001b[0;32m----> 3\u001b[0;31m \u001b[0mprint\u001b[0m\u001b[0;34m(\u001b[0m\u001b[0mdf_2_to_5\u001b[0m\u001b[0;34m.\u001b[0m\u001b[0mloc\u001b[0m\u001b[0;34m[\u001b[0m\u001b[0;34m(\u001b[0m\u001b[0mdf_2_to_5\u001b[0m\u001b[0;34m[\u001b[0m\u001b[0;34m\"Target_Type\"\u001b[0m\u001b[0;34m]\u001b[0m\u001b[0;34m==\u001b[0m\u001b[0;34m\"posture\"\u001b[0m\u001b[0;34m)\u001b[0m\u001b[0;34m]\u001b[0m\u001b[0;34m[\u001b[0m\u001b[0;34m\"Mode_Out_Time\"\u001b[0m\u001b[0;34m]\u001b[0m\u001b[0;34m.\u001b[0m\u001b[0mmean\u001b[0m\u001b[0;34m(\u001b[0m\u001b[0;34m)\u001b[0m\u001b[0;34m)\u001b[0m\u001b[0;34m\u001b[0m\u001b[0;34m\u001b[0m\u001b[0m\n\u001b[0m\u001b[1;32m      4\u001b[0m \u001b[0mprint\u001b[0m\u001b[0;34m(\u001b[0m\u001b[0mdf_2_to_5\u001b[0m\u001b[0;34m.\u001b[0m\u001b[0mloc\u001b[0m\u001b[0;34m[\u001b[0m\u001b[0;34m(\u001b[0m\u001b[0mdf_2_to_5\u001b[0m\u001b[0;34m[\u001b[0m\u001b[0;34m\"Target_Type\"\u001b[0m\u001b[0;34m]\u001b[0m\u001b[0;34m==\u001b[0m\u001b[0;34m\"posture\"\u001b[0m\u001b[0;34m)\u001b[0m\u001b[0;34m]\u001b[0m\u001b[0;34m[\u001b[0m\u001b[0;34m\"Mode_Out_Time\"\u001b[0m\u001b[0;34m]\u001b[0m\u001b[0;34m.\u001b[0m\u001b[0mstd\u001b[0m\u001b[0;34m(\u001b[0m\u001b[0;34m)\u001b[0m\u001b[0;34m)\u001b[0m\u001b[0;34m\u001b[0m\u001b[0;34m\u001b[0m\u001b[0m\n\u001b[1;32m      5\u001b[0m \u001b[0mprint\u001b[0m\u001b[0;34m(\u001b[0m\u001b[0mdf_2_to_5\u001b[0m\u001b[0;34m.\u001b[0m\u001b[0mloc\u001b[0m\u001b[0;34m[\u001b[0m\u001b[0;34m(\u001b[0m\u001b[0mdf_2_to_5\u001b[0m\u001b[0;34m[\u001b[0m\u001b[0;34m\"Target_Type\"\u001b[0m\u001b[0;34m]\u001b[0m\u001b[0;34m==\u001b[0m\u001b[0;34m\"shortcut\"\u001b[0m\u001b[0;34m)\u001b[0m\u001b[0;34m]\u001b[0m\u001b[0;34m[\u001b[0m\u001b[0;34m\"Mode_Out_Time\"\u001b[0m\u001b[0;34m]\u001b[0m\u001b[0;34m.\u001b[0m\u001b[0mmean\u001b[0m\u001b[0;34m(\u001b[0m\u001b[0;34m)\u001b[0m\u001b[0;34m)\u001b[0m\u001b[0;34m\u001b[0m\u001b[0;34m\u001b[0m\u001b[0m\n",
            "\u001b[0;31mNameError\u001b[0m: name 'df_2_to_5' is not defined"
          ]
        }
      ]
    },
    {
      "cell_type": "code",
      "metadata": {
        "id": "dc8Zh3FDHBx7",
        "colab_type": "code",
        "colab": {
          "base_uri": "https://localhost:8080/",
          "height": 235
        },
        "outputId": "4af2a1df-ead8-4b49-cb01-28d1e999ef83"
      },
      "source": [
        "# print(df_2_to_5.loc[(df_2_to_5[\"Target_Type\"]==\"posture\") & (df_2_to_5[\"Reference_Task\"]==\"click\")][\"Completion_Time\"].mean())\n",
        "# print(df_2_to_5.loc[(df_2_to_5[\"Target_Type\"]==\"shortcut\") & (df_2_to_5[\"Reference_Task\"]==\"click\")][\"Completion_Time\"].mean())\n",
        "print(df_2_to_5.loc[(df_2_to_5[\"Target_Type\"]==\"posture\")][\"Mode_In_Time\"].mean())\n",
        "print(df_2_to_5.loc[(df_2_to_5[\"Target_Type\"]==\"posture\")][\"Mode_In_Time\"].std())\n",
        "print(df_2_to_5.loc[(df_2_to_5[\"Target_Type\"]==\"shortcut\")][\"Mode_In_Time\"].mean())\n",
        "print(df_2_to_5.loc[(df_2_to_5[\"Target_Type\"]==\"shortcut\")][\"Mode_In_Time\"].std())\n",
        "# print(list(df_2_to_5.loc[(df_2_to_5[\"Target_Type\"]==\"posture\") & (df_2_to_5[\"Reference_Task\"]==\"click\")][\"Completion_Time\"]))\n",
        "\n",
        "# data_filtered.loc[(data_filtered[\"Target_Type\"]==\"shortcut\") & (data_filtered[\"Reference_Task\"]==\"click\")].groupby(\"Block\")[\"Completion_Time\"].mean()\n"
      ],
      "execution_count": null,
      "outputs": [
        {
          "output_type": "error",
          "ename": "NameError",
          "evalue": "ignored",
          "traceback": [
            "\u001b[0;31m---------------------------------------------------------------------------\u001b[0m",
            "\u001b[0;31mNameError\u001b[0m                                 Traceback (most recent call last)",
            "\u001b[0;32m<ipython-input-2-44ff4b127fe1>\u001b[0m in \u001b[0;36m<module>\u001b[0;34m()\u001b[0m\n\u001b[1;32m      1\u001b[0m \u001b[0;31m# print(df_2_to_5.loc[(df_2_to_5[\"Target_Type\"]==\"posture\") & (df_2_to_5[\"Reference_Task\"]==\"click\")][\"Completion_Time\"].mean())\u001b[0m\u001b[0;34m\u001b[0m\u001b[0;34m\u001b[0m\u001b[0;34m\u001b[0m\u001b[0m\n\u001b[1;32m      2\u001b[0m \u001b[0;31m# print(df_2_to_5.loc[(df_2_to_5[\"Target_Type\"]==\"shortcut\") & (df_2_to_5[\"Reference_Task\"]==\"click\")][\"Completion_Time\"].mean())\u001b[0m\u001b[0;34m\u001b[0m\u001b[0;34m\u001b[0m\u001b[0;34m\u001b[0m\u001b[0m\n\u001b[0;32m----> 3\u001b[0;31m \u001b[0mprint\u001b[0m\u001b[0;34m(\u001b[0m\u001b[0mdf_2_to_5\u001b[0m\u001b[0;34m.\u001b[0m\u001b[0mloc\u001b[0m\u001b[0;34m[\u001b[0m\u001b[0;34m(\u001b[0m\u001b[0mdf_2_to_5\u001b[0m\u001b[0;34m[\u001b[0m\u001b[0;34m\"Target_Type\"\u001b[0m\u001b[0;34m]\u001b[0m\u001b[0;34m==\u001b[0m\u001b[0;34m\"posture\"\u001b[0m\u001b[0;34m)\u001b[0m\u001b[0;34m]\u001b[0m\u001b[0;34m[\u001b[0m\u001b[0;34m\"Mode_In_Time\"\u001b[0m\u001b[0;34m]\u001b[0m\u001b[0;34m.\u001b[0m\u001b[0mmean\u001b[0m\u001b[0;34m(\u001b[0m\u001b[0;34m)\u001b[0m\u001b[0;34m)\u001b[0m\u001b[0;34m\u001b[0m\u001b[0;34m\u001b[0m\u001b[0m\n\u001b[0m\u001b[1;32m      4\u001b[0m \u001b[0mprint\u001b[0m\u001b[0;34m(\u001b[0m\u001b[0mdf_2_to_5\u001b[0m\u001b[0;34m.\u001b[0m\u001b[0mloc\u001b[0m\u001b[0;34m[\u001b[0m\u001b[0;34m(\u001b[0m\u001b[0mdf_2_to_5\u001b[0m\u001b[0;34m[\u001b[0m\u001b[0;34m\"Target_Type\"\u001b[0m\u001b[0;34m]\u001b[0m\u001b[0;34m==\u001b[0m\u001b[0;34m\"posture\"\u001b[0m\u001b[0;34m)\u001b[0m\u001b[0;34m]\u001b[0m\u001b[0;34m[\u001b[0m\u001b[0;34m\"Mode_In_Time\"\u001b[0m\u001b[0;34m]\u001b[0m\u001b[0;34m.\u001b[0m\u001b[0mstd\u001b[0m\u001b[0;34m(\u001b[0m\u001b[0;34m)\u001b[0m\u001b[0;34m)\u001b[0m\u001b[0;34m\u001b[0m\u001b[0;34m\u001b[0m\u001b[0m\n\u001b[1;32m      5\u001b[0m \u001b[0mprint\u001b[0m\u001b[0;34m(\u001b[0m\u001b[0mdf_2_to_5\u001b[0m\u001b[0;34m.\u001b[0m\u001b[0mloc\u001b[0m\u001b[0;34m[\u001b[0m\u001b[0;34m(\u001b[0m\u001b[0mdf_2_to_5\u001b[0m\u001b[0;34m[\u001b[0m\u001b[0;34m\"Target_Type\"\u001b[0m\u001b[0;34m]\u001b[0m\u001b[0;34m==\u001b[0m\u001b[0;34m\"shortcut\"\u001b[0m\u001b[0;34m)\u001b[0m\u001b[0;34m]\u001b[0m\u001b[0;34m[\u001b[0m\u001b[0;34m\"Mode_In_Time\"\u001b[0m\u001b[0;34m]\u001b[0m\u001b[0;34m.\u001b[0m\u001b[0mmean\u001b[0m\u001b[0;34m(\u001b[0m\u001b[0;34m)\u001b[0m\u001b[0;34m)\u001b[0m\u001b[0;34m\u001b[0m\u001b[0;34m\u001b[0m\u001b[0m\n",
            "\u001b[0;31mNameError\u001b[0m: name 'df_2_to_5' is not defined"
          ]
        }
      ]
    },
    {
      "cell_type": "code",
      "metadata": {
        "id": "m-FWIWIlHHC0",
        "colab_type": "code",
        "colab": {}
      },
      "source": [
        "# ax = sns.boxplot(x=\"Target_Type\", y=\"Mode_In_Time\", data=df_2_to_5)\n",
        "ax = sns.boxplot(x=\"Target_Type\", y=\"Mode_Out_Time\", data=data_block)\n"
      ],
      "execution_count": null,
      "outputs": []
    },
    {
      "cell_type": "code",
      "metadata": {
        "id": "M-2yj5pNJQX2",
        "colab_type": "code",
        "colab": {}
      },
      "source": [
        "ax = sns.boxplot(x=\"Target_Type\", y=\"Mode_In_Time\", data=data_block)"
      ],
      "execution_count": null,
      "outputs": []
    },
    {
      "cell_type": "code",
      "metadata": {
        "id": "4b_-VApzHV2q",
        "colab_type": "code",
        "colab": {}
      },
      "source": [
        "sns.set(style=\"whitegrid\")\n",
        "# plt.ylim(1000, 2000)\n",
        "\n",
        "plt.figure(figsize=(10,4))\n",
        "# ax = sns.pointplot(x=\"Block\", y=\"Execution_Time\",hue=\"IV_Surface\", err_style=\"bars\", data=data_filtered, capsize=0.1, ci=95, dashes=True)\n",
        "ax = sns.barplot(x=\"Target_Type\", y=\"Completion_Time\", data=df_2_to_5, capsize=0.1)\n",
        "ax.legend(loc='lower right')#, bbox_to_anchor=(0.8, 0.5), ncol=1)"
      ],
      "execution_count": null,
      "outputs": []
    },
    {
      "cell_type": "code",
      "metadata": {
        "id": "Jygt4vf7H7Ro",
        "colab_type": "code",
        "colab": {}
      },
      "source": [
        ""
      ],
      "execution_count": null,
      "outputs": []
    }
  ]
}