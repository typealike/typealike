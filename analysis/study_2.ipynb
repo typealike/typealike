{
  "nbformat": 4,
  "nbformat_minor": 0,
  "metadata": {
    "kernelspec": {
      "display_name": "Python 3",
      "language": "python",
      "name": "python3"
    },
    "language_info": {
      "codemirror_mode": {
        "name": "ipython",
        "version": 3
      },
      "file_extension": ".py",
      "mimetype": "text/x-python",
      "name": "python",
      "nbconvert_exporter": "python",
      "pygments_lexer": "ipython3",
      "version": "3.6.7"
    },
    "colab": {
      "name": "study_2.ipynb",
      "version": "0.3.2",
      "provenance": [],
      "toc_visible": true
    }
  },
  "cells": [
    {
      "cell_type": "markdown",
      "metadata": {
        "id": "Cf7BC6tpPFZo",
        "colab_type": "text"
      },
      "source": [
        "# Imports"
      ]
    },
    {
      "cell_type": "code",
      "metadata": {
        "id": "ivaT6E025pjY",
        "colab_type": "code",
        "colab": {}
      },
      "source": [
        "import pandas as pd \n",
        "import numpy as np\n",
        "import requests\n",
        "import io\n",
        "import re\n",
        "import seaborn as sns\n",
        "import matplotlib.pyplot as plt\n",
        "import matplotlib.patches as patches\n",
        "from google.colab import drive, files\n",
        "import os\n",
        "import json\n",
        "import random"
      ],
      "execution_count": 0,
      "outputs": []
    },
    {
      "cell_type": "code",
      "metadata": {
        "id": "SIP6vFwVvejT",
        "colab_type": "code",
        "outputId": "b79d9f96-3727-42b2-9f6c-ed19f0f2acf8",
        "colab": {
          "base_uri": "https://localhost:8080/",
          "height": 122
        }
      },
      "source": [
        "drive.mount('/content/drive/')"
      ],
      "execution_count": 4,
      "outputs": [
        {
          "output_type": "stream",
          "text": [
            "Go to this URL in a browser: https://accounts.google.com/o/oauth2/auth?client_id=947318989803-6bn6qk8qdgf4n4g3pfee6491hc0brc4i.apps.googleusercontent.com&redirect_uri=urn%3Aietf%3Awg%3Aoauth%3A2.0%3Aoob&scope=email%20https%3A%2F%2Fwww.googleapis.com%2Fauth%2Fdocs.test%20https%3A%2F%2Fwww.googleapis.com%2Fauth%2Fdrive%20https%3A%2F%2Fwww.googleapis.com%2Fauth%2Fdrive.photos.readonly%20https%3A%2F%2Fwww.googleapis.com%2Fauth%2Fpeopleapi.readonly&response_type=code\n",
            "\n",
            "Enter your authorization code:\n",
            "··········\n",
            "Mounted at /content/drive/\n"
          ],
          "name": "stdout"
        }
      ]
    },
    {
      "cell_type": "markdown",
      "metadata": {
        "id": "juoXb23X6SPN",
        "colab_type": "text"
      },
      "source": [
        "# Helper Functions"
      ]
    },
    {
      "cell_type": "code",
      "metadata": {
        "id": "3ukq6XV0pF1P",
        "colab_type": "code",
        "colab": {}
      },
      "source": [
        "logpath = 'drive/My Drive/mmath_cs/CHI_2020/Typealike/study_2/logs/'\n",
        "logfns = os.listdir(logpath)\n",
        "\n",
        "# these are columns that define a single trial\n",
        "columns = ['Participant',            # participant id (P01, P02, ...)\n",
        "           'TempBlock',\n",
        "           'Block',                  # upto 3\n",
        "           'Sequence',               # upto 360\n",
        "           'Trial',                  # upto 720\n",
        "           'Target_Type',              # what condition this particpant did (typing, pointing, gesture)\n",
        "           'Target_Name',                  # whats the specific label of this target\n",
        "           'Start_Time',\n",
        "           'End_Time',\n",
        "           'First_Reaction_Time',\n",
        "           'Mode_In_Time',  #time in ms\n",
        "           'Mode_Out_Time',\n",
        "           'Execution_Time', # mode_in_time + mode_out_time\n",
        "           'Reference_Action_Count',\n",
        "           'Incorrect_Action_Count',\n",
        "           'Error',\n",
        "           'IV_Surface',\n",
        "           'IV_Orientation',\n",
        "           'IV_Form',\n",
        "           'IV_Hand',\n",
        "           'Reference_Task'\n",
        "            ]\n",
        "\n",
        "# time format in the example log is like 2018/07/10-16:41:54.4902\n",
        "# see https://docs.python.org/2/library/datetime.html#strftime-and-strptime-behavior\n",
        "# time_format = '%Y/%m/%d-%H:%M:%S.%f'\n",
        "time_format = '%Y-%m-%d %H:%M:%S.%f'"
      ],
      "execution_count": 0,
      "outputs": []
    },
    {
      "cell_type": "code",
      "metadata": {
        "id": "APetTIqMVz7_",
        "colab_type": "code",
        "colab": {}
      },
      "source": [
        "# helper functions\n",
        "\n",
        "# https://stackoverflow.com/questions/17060039/split-string-at-nth-occurrence-of-a-given-character\n",
        "def splitn(string, spliton, n):\n",
        "    \"\"\"split 'string' on nth occurence of 'spliton'\n",
        "    \"\"\"\n",
        "    groups = string.split(spliton)\n",
        "    return spliton.join(groups[:n]), spliton.join(groups[n:])\n",
        "\n",
        "\n",
        "def ms_delta(t):\n",
        "    \"\"\"convert timedelta t to milliseconds\n",
        "    \"\"\"\n",
        "    return round(t.seconds * 1000 + t.microseconds / 1000)"
      ],
      "execution_count": 0,
      "outputs": []
    },
    {
      "cell_type": "code",
      "metadata": {
        "id": "oXIg0QcOpgPi",
        "colab_type": "code",
        "outputId": "b52bc5b2-e781-4d9d-97aa-435ac8e28235",
        "colab": {
          "base_uri": "https://localhost:8080/",
          "height": 34
        }
      },
      "source": [
        "logpath"
      ],
      "execution_count": 7,
      "outputs": [
        {
          "output_type": "execute_result",
          "data": {
            "text/plain": [
              "'drive/My Drive/mmath_cs/CHI_2020/Typealike/study_2/logs/'"
            ]
          },
          "metadata": {
            "tags": []
          },
          "execution_count": 7
        }
      ]
    },
    {
      "cell_type": "markdown",
      "metadata": {
        "id": "Bn9ZuiXGX5UY",
        "colab_type": "text"
      },
      "source": [
        "## Create CSV from log files based on the above format"
      ]
    },
    {
      "cell_type": "code",
      "metadata": {
        "id": "BmJrT1CzvZ9D",
        "colab_type": "code",
        "outputId": "08f9ee43-4641-4c22-8a63-044f6fda2123",
        "colab": {
          "base_uri": "https://localhost:8080/",
          "height": 357
        }
      },
      "source": [
        "# data = open(logpath+'../mode_switching.csv', 'w')\n",
        "# data.write(','.join(columns) + '\\n')\n",
        "\n",
        "for logfn in logfns:\n",
        "\n",
        "#     print(logfn)\n",
        "    filename = logfn.replace(\".txt\",\".csv\")\n",
        "    data = open(logpath+'../csv/'+filename, 'w')\n",
        "    data.write(','.join(columns) + '\\n')\n",
        "    \n",
        "    modeSwitch=False\n",
        "    currentTaskFirstAttempt=0;\n",
        "    previousTaskEndTime=0;\n",
        "    nextTaskStart=False;\n",
        "    prev_task=\"\"\n",
        "    \n",
        "    log = open(logpath + logfn, 'r')\n",
        "    \n",
        "#     initalize a dictionary of values we'll write to the datafile\n",
        "    d = {e:0 for e in columns}\n",
        "    \n",
        "    # initalize temporary values\n",
        "    trial_start_time = 0\n",
        "\n",
        "    # we'll go through line-by-line\n",
        "    line_num = 0\n",
        "    trial = 0\n",
        "    trial_started = False\n",
        "    first_reaction_recorded = False\n",
        "    reference_action_count = 0\n",
        "    incorrect_action_count = 0\n",
        "    keys_list = []\n",
        "    for row in log:\n",
        "#         print(row)\n",
        "        if row[0] == '#':             \n",
        "            continue\n",
        "        line_num += 1\n",
        "        # split the line\n",
        "        row_list = row.strip().split(',')\n",
        "#         if row_list[1] == :\n",
        "#           pass\n",
        "#         if row_list[2]\n",
        "        if trial_started:\n",
        "          \n",
        "          if row_list[1] == 'I':\n",
        "            if row_list[2] == \"posture\" and d['Target_Name'] != row_list[3]:\n",
        "              if row_list[3] not in [\"typing\", \"no_posture\"]:\n",
        "                incorrect_action_count +=1\n",
        "              else:\n",
        "                reference_action_count +=1\n",
        "                \n",
        "            if not first_reaction_recorded and row_list[2] == 'keyboard':\n",
        "              first_reaction_time = row_list[0]\n",
        "              first_reaction_recorded = True\n",
        "            if d['Target_Type'] == \"shortcut\":\n",
        "              if row_list[3] == \"keypressed\":\n",
        "                keys_list.append(row_list[4])\n",
        "              elif row_list[3] == \"mousepressed\":\n",
        "                keys_list.append(\"mousepressed\")\n",
        "#                 incorrect_action_count +=1\n",
        "    \n",
        "        if row_list[1] == 'E':\n",
        "          row_split_list = splitn(row, ',', 3)\n",
        "  #         experiment_block = (row_list[1], row_list[2])\n",
        "          row_inner_dict = {}\n",
        "          try:\n",
        "              # parse the json event data\n",
        "  #                 print(\"PARSIG JSON\")\n",
        "  #                 print(r[1])\n",
        "#               print(row_split_list)\n",
        "              row_inner_dict = json.loads(row_split_list[1])\n",
        "          except Exception as e:\n",
        "              print('error parsing json event data on row{}: {}\\n{}'.format(line_num, row_list[3], e))\n",
        "\n",
        "          if row_list[2] == \"experiment\":\n",
        "            d['Participant'] = row_inner_dict['participantid']\n",
        "\n",
        "          if row_list[2] == \"trial\":\n",
        "#             print(row)\n",
        "\n",
        "            if row_inner_dict[\"type\"] == \"start\":\n",
        "              trial_started = True\n",
        "              first_reaction_recorded = False\n",
        "              d['Start_Time'] = row_list[0]\n",
        "  #             d['Participant'] = row_inner_dict['participantid']\n",
        "              d['Target_Type'] = row_inner_dict[\"targetType\"]\n",
        "              d['Target_Name'] = row_inner_dict[\"label\"]\n",
        "              d['Block'] = row_inner_dict[\"blockNum\"]\n",
        "              d['Sequence'] = row_inner_dict[\"sequenceNum\"]\n",
        "              d['Trial'] = trial\n",
        "#               if row_inner_dict[\"type\"] == \"posture\":\n",
        "#               if row_inner_dict[\"targetType\"] == \"posture\":\n",
        "                \n",
        "  \n",
        "              trial+=1\n",
        "            elif row_inner_dict[\"type\"] == \"end\":\n",
        "              trial_started = False\n",
        "              d['End_Time'] = row_list[0]\n",
        "              d['First_Reaction_Time'] = first_reaction_time if d['Target_Type'] == 'word' else row_list[0] # [\"shortcut\", \"posture\", \"click\"]\n",
        "#               d['Mode_In_Time'] = int(d['First_Reaction_Time']) - int(d['Start_Time'])\n",
        "              d['Reference_Action_Count'] = reference_action_count\n",
        "              d['Incorrect_Action_Count'] = incorrect_action_count\n",
        "              d['Error'] = False if row_inner_dict[\"action\"] == \"hit\" else True\n",
        "              if d[\"Target_Type\"] == \"shortcut\" and len(keys_list) > 1:\n",
        "#                 if :\n",
        "                d['Incorrect_Action_Count'] = 1\n",
        "\n",
        "              reference_action_count = 0\n",
        "              incorrect_action_count = 0\n",
        "              keys_list = []\n",
        "  \n",
        "\n",
        "              # save to log\n",
        "              datarow = [d[k] for k in columns]\n",
        "              datarow_csv = ','.join(str(i) for i in datarow)\n",
        "    #                     print(datarow_csv)\n",
        "              data.write(datarow_csv + '\\n')\n",
        "            \n",
        "    data.close()\n",
        "    print(filename)"
      ],
      "execution_count": 8,
      "outputs": [
        {
          "output_type": "stream",
          "text": [
            "participant_31_experiment_2019-08-29-18-49-40.csv\n",
            "participant_50_experiment_2019-09-10-14-21-34.csv\n",
            "participant_49_experiment_2019-09-06-20-00-11.csv\n",
            "participant_48_experiment_2019-09-06-18-51-31.csv\n",
            "participant_47_experiment_2019-09-06-16-47-27.csv\n",
            "participant_45_experiment_2019-09-05-18-50-20.csv\n",
            "participant_44_experiment_2019-09-05-17-25-07.csv\n",
            "participant_43_experiment_2019-09-05-16-01-45.csv\n",
            "participant_42_experiment_2019-09-05-14-19-57.csv\n",
            "participant_41_experiment_2019-09-04-19-05-57.csv\n",
            "participant_40_experiment_2019-09-04-18-12-17.csv\n",
            "participant_39_experiment_2019-09-04-16-12-13.csv\n",
            "participant_38_experiment_2019-09-04-14-54-31.csv\n",
            "participant_37_experiment_2019-09-03-23-06-46.csv\n",
            "participant_36_experiment_2019-09-03-16-58-26.csv\n",
            "participant_35_experiment_2019-09-03-15-57-34.csv\n",
            "participant_34_experiment_2019-09-02-17-51-29.csv\n",
            "participant_33_experiment_2019-09-02-15-48-35.csv\n",
            "participant_32_experiment_2019-08-30-16-52-53.csv\n",
            "participant_46_experiment_2019-09-05-22-37-21.csv\n"
          ],
          "name": "stdout"
        }
      ]
    },
    {
      "cell_type": "code",
      "metadata": {
        "id": "Z-yLWo_2z-xn",
        "colab_type": "code",
        "outputId": "4c6b6bf6-2c25-4659-a606-3457daaf0d83",
        "colab": {
          "base_uri": "https://localhost:8080/",
          "height": 162
        }
      },
      "source": [
        "f = \"/content/drive/My Drive/mmath_cs/CHI_2020/Typealike/study_2/csv/participant_45_experiment_2019-09-05-18-50-20.csv\"\n",
        "df = pd.read_csv(f)\n",
        "# df.loc[(df[\"Target_Type\"]==\"word\")&(df[\"Block\"]==5) & (df[\"Sequence\"]==6)]#.count()#.sort_values(by=[\"Block\",\"Sequence\"])#\"Block\",\"Sequence\").head(36)\n",
        "df.loc[(df[\"Target_Type\"] == \"shortcut\") & (df[\"Incorrect_Action_Count\"] > 0)]"
      ],
      "execution_count": 11,
      "outputs": [
        {
          "output_type": "execute_result",
          "data": {
            "text/html": [
              "<div>\n",
              "<style scoped>\n",
              "    .dataframe tbody tr th:only-of-type {\n",
              "        vertical-align: middle;\n",
              "    }\n",
              "\n",
              "    .dataframe tbody tr th {\n",
              "        vertical-align: top;\n",
              "    }\n",
              "\n",
              "    .dataframe thead th {\n",
              "        text-align: right;\n",
              "    }\n",
              "</style>\n",
              "<table border=\"1\" class=\"dataframe\">\n",
              "  <thead>\n",
              "    <tr style=\"text-align: right;\">\n",
              "      <th></th>\n",
              "      <th>Participant</th>\n",
              "      <th>TempBlock</th>\n",
              "      <th>Block</th>\n",
              "      <th>Sequence</th>\n",
              "      <th>Trial</th>\n",
              "      <th>Target_Type</th>\n",
              "      <th>Target_Name</th>\n",
              "      <th>Start_Time</th>\n",
              "      <th>End_Time</th>\n",
              "      <th>First_Reaction_Time</th>\n",
              "      <th>Mode_In_Time</th>\n",
              "      <th>Mode_Out_Time</th>\n",
              "      <th>Execution_Time</th>\n",
              "      <th>Reference_Action_Count</th>\n",
              "      <th>Incorrect_Action_Count</th>\n",
              "      <th>Error</th>\n",
              "      <th>IV_Surface</th>\n",
              "      <th>IV_Orientation</th>\n",
              "      <th>IV_Form</th>\n",
              "      <th>IV_Hand</th>\n",
              "      <th>Reference_Task</th>\n",
              "    </tr>\n",
              "  </thead>\n",
              "  <tbody>\n",
              "    <tr>\n",
              "      <th>101</th>\n",
              "      <td>participant_45</td>\n",
              "      <td>0</td>\n",
              "      <td>1</td>\n",
              "      <td>14</td>\n",
              "      <td>101</td>\n",
              "      <td>shortcut</td>\n",
              "      <td>N</td>\n",
              "      <td>1567724050504</td>\n",
              "      <td>1567724052434</td>\n",
              "      <td>1567724052434</td>\n",
              "      <td>0</td>\n",
              "      <td>0</td>\n",
              "      <td>0</td>\n",
              "      <td>0</td>\n",
              "      <td>1</td>\n",
              "      <td>False</td>\n",
              "      <td>0</td>\n",
              "      <td>0</td>\n",
              "      <td>0</td>\n",
              "      <td>0</td>\n",
              "      <td>0</td>\n",
              "    </tr>\n",
              "    <tr>\n",
              "      <th>275</th>\n",
              "      <td>participant_45</td>\n",
              "      <td>0</td>\n",
              "      <td>3</td>\n",
              "      <td>29</td>\n",
              "      <td>275</td>\n",
              "      <td>shortcut</td>\n",
              "      <td>I</td>\n",
              "      <td>1567724437119</td>\n",
              "      <td>1567724440617</td>\n",
              "      <td>1567724440617</td>\n",
              "      <td>0</td>\n",
              "      <td>0</td>\n",
              "      <td>0</td>\n",
              "      <td>0</td>\n",
              "      <td>1</td>\n",
              "      <td>False</td>\n",
              "      <td>0</td>\n",
              "      <td>0</td>\n",
              "      <td>0</td>\n",
              "      <td>0</td>\n",
              "      <td>0</td>\n",
              "    </tr>\n",
              "    <tr>\n",
              "      <th>521</th>\n",
              "      <td>participant_45</td>\n",
              "      <td>0</td>\n",
              "      <td>7</td>\n",
              "      <td>8</td>\n",
              "      <td>521</td>\n",
              "      <td>shortcut</td>\n",
              "      <td>T</td>\n",
              "      <td>1567724926403</td>\n",
              "      <td>1567724928837</td>\n",
              "      <td>1567724928837</td>\n",
              "      <td>0</td>\n",
              "      <td>0</td>\n",
              "      <td>0</td>\n",
              "      <td>0</td>\n",
              "      <td>1</td>\n",
              "      <td>False</td>\n",
              "      <td>0</td>\n",
              "      <td>0</td>\n",
              "      <td>0</td>\n",
              "      <td>0</td>\n",
              "      <td>0</td>\n",
              "    </tr>\n",
              "  </tbody>\n",
              "</table>\n",
              "</div>"
            ],
            "text/plain": [
              "        Participant  TempBlock  Block  ...  IV_Form  IV_Hand Reference_Task\n",
              "101  participant_45          0      1  ...        0        0              0\n",
              "275  participant_45          0      3  ...        0        0              0\n",
              "521  participant_45          0      7  ...        0        0              0\n",
              "\n",
              "[3 rows x 21 columns]"
            ]
          },
          "metadata": {
            "tags": []
          },
          "execution_count": 11
        }
      ]
    },
    {
      "cell_type": "markdown",
      "metadata": {
        "id": "ryJ0BZpQYFxN",
        "colab_type": "text"
      },
      "source": [
        "\n",
        "## Form a single big dataframe for all participants"
      ]
    },
    {
      "cell_type": "markdown",
      "metadata": {
        "id": "SadT8oPVLgIh",
        "colab_type": "text"
      },
      "source": [
        "### helper function"
      ]
    },
    {
      "cell_type": "code",
      "metadata": {
        "id": "gzD3zVPQLbxK",
        "colab_type": "code",
        "colab": {}
      },
      "source": [
        "def get_mode_in_out_time(df):\n",
        "  mode_in_time_list = pd.Series([])\n",
        "  mode_out_time_list = pd.Series([])\n",
        "  execution_time_list = pd.Series([])\n",
        "  exp_block_list = pd.Series([])\n",
        "  ref_task_list = pd.Series([])\n",
        "  surface_iv_list = pd.Series([])\n",
        "  hand_iv_list = pd.Series([])\n",
        "  form_iv_list = pd.Series([])\n",
        "  orientation_iv_list = pd.Series([])\n",
        "\n",
        "  for i in range(len(df)): \n",
        "    start_time = df[\"Start_Time\"][i]\n",
        "    end_time = df[\"End_Time\"][i]\n",
        "    first_reaction_time = df[\"First_Reaction_Time\"][i]\n",
        "    mode_in_time_list[i] = 0 if i == 0 else mode_out_time_list[i-1]\n",
        "    #   print(i, \" \", len(df))\n",
        "    mode_out_time_list[i] = 0 if (i+1 == len(df) or  df[\"Block\"][i] != df[\"Block\"][i+1]) else (df[\"First_Reaction_Time\"][i+1] - df[\"First_Reaction_Time\"][i])\n",
        "    exp_block_list[i] = int(df[\"Block\"][i]/2)\n",
        "    execution_time_list[i] = mode_in_time_list[i] + mode_out_time_list[i]\n",
        "    if df[\"Target_Type\"][i] in [\"word\", \"click\"]:\n",
        "      ref_task_list[i] = \"NA\"\n",
        "      surface_iv_list[i] = \"NA\"\n",
        "      hand_iv_list[i] = \"NA\"\n",
        "      form_iv_list[i] = \"NA\"\n",
        "      orientation_iv_list[i] = \"NA\"\n",
        "    else:\n",
        "      ref_task_list[i] = df[\"Target_Type\"][i-1]\n",
        "      if df[\"Target_Type\"][i] == \"shortcut\":\n",
        "        surface_iv_list[i] = \"shortcut\"\n",
        "        hand_iv_list[i] = \"shortcut\"\n",
        "        form_iv_list[i] = \"shortcut\"\n",
        "        orientation_iv_list[i] = \"shortcut\"\n",
        "      else:\n",
        "        t_n_split = df[\"Target_Name\"][i].split('_')\n",
        "        hand_iv_list[i] = t_n_split[0]\n",
        "        form_iv_list[i] = t_n_split[1]\n",
        "        orientation_iv_list[i] = \"180\" if t_n_split[2] == \"0\" else \"0\" if t_n_split[2] ==\"180\" else \"90\"\n",
        "        surface_iv_list[i] = t_n_split[3]\n",
        "        \n",
        "        \n",
        "#   df_usable.insert(4, \"TempBlock\", exp_block_list)\n",
        "#   df_usable.insert(10, \"Mode_In_Time\", mode_in_time_list)\n",
        "#   df_usable.insert(11, \"Mode_Out_Time\", mode_out_time_list)\n",
        "  df[\"TempBlock\"] = exp_block_list.values\n",
        "  df[\"Mode_In_Time\"] = mode_in_time_list.values\n",
        "  df[\"Mode_Out_Time\"] = mode_out_time_list.values\n",
        "  df[\"Execution_Time\"] = execution_time_list.values\n",
        "  df[\"Reference_Task\"] = ref_task_list.values\n",
        "  df[\"IV_Surface\"] = surface_iv_list.values\n",
        "  df[\"IV_Orientation\"] = orientation_iv_list.values\n",
        "  df[\"IV_Form\"] = form_iv_list.values\n",
        "  df[\"IV_Hand\"] = hand_iv_list.values\n",
        "  \n",
        "#   df_usable = df_usable.rename(columns={\"Sequence\":\"Sub_Sequence\", \"Block\":\"Sequence\", \"TempBlock\": \"Block\"})"
      ],
      "execution_count": 0,
      "outputs": []
    },
    {
      "cell_type": "markdown",
      "metadata": {
        "id": "X5zqaoWmLjGm",
        "colab_type": "text"
      },
      "source": [
        "### now read and merge"
      ]
    },
    {
      "cell_type": "code",
      "metadata": {
        "id": "I9-zinpjyCye",
        "colab_type": "code",
        "outputId": "c0c74507-cb68-4ff7-fcd1-309cbe4e55bf",
        "colab": {
          "base_uri": "https://localhost:8080/",
          "height": 340
        }
      },
      "source": [
        "f = \"/content/drive/My Drive/mmath_cs/CHI_2020/Typealike/study_2/csv/participant_31_experiment_2019-08-29-18-49-40.csv\"\n",
        "df_all = pd.read_csv(f)\n",
        "get_mode_in_out_time(df_all)\n",
        "csv_Path = \"/content/drive/My Drive/mmath_cs/CHI_2020/Typealike/study_2/csv/\"\n",
        "csv_files = os.listdir(csv_Path)\n",
        "\n",
        "for csv in csv_files:\n",
        "  df = pd.read_csv(csv_Path+csv)\n",
        "  if df[\"Participant\"][0] == \"participant_31\" or df[\"Participant\"][0] == \"pilot_nalin\":\n",
        "    continue\n",
        "#   print()\n",
        "  get_mode_in_out_time(df)\n",
        "  df_all = df_all.append(df, ignore_index=True)\n",
        "#   print(df[\"Participant\"][0])\n",
        "#   if df[\"Participant\"][0] == \"participant_44\":\n",
        "#     dd = df.loc[df[\"Reference_Action_Count\"] < df[\"Incorrect_Action_Count\"]]\n",
        "#     break\n",
        "  print(df[\"Participant\"][0], df.loc[df[\"Reference_Action_Count\"] < df[\"Incorrect_Action_Count\"]][\"Incorrect_Action_Count\"].count())\n",
        "# df_all.loc[(df_all[\"Reference_Action_Count\"] < df_all[\"Incorrect_Action_Count\"]) & (df_all[\"Target_Name\"]==\"Left_Open_180_Below\")].groupby([\"Participant\",\"Block\"]).first()#.groupby([\"Block\",\"Sequence\"]).first()\n",
        "# set(df_all.loc[(df_all[\"Reference_Action_Count\"] < df_all[\"Incorrect_Action_Count\"])][\"Target_Name\"])#) & (df_all[\"Target_Name\"]==\"Right_Close_0_Below\")]\n",
        "# {'Right_Close_0_Below', 'Right_Close_180_Beside', 'Right_Open_180_Below'}\n",
        "# df_all.loc[(df_all[\"Reference_Action_Count\"] < df_all[\"Incorrect_Action_Count\"])]"
      ],
      "execution_count": 13,
      "outputs": [
        {
          "output_type": "stream",
          "text": [
            "participant_50 13\n",
            "participant_49 15\n",
            "participant_44 19\n",
            "participant_48 8\n",
            "participant_43 10\n",
            "participant_47 13\n",
            "participant_42 13\n",
            "participant_40 13\n",
            "participant_41 12\n",
            "participant_45 12\n",
            "participant_39 12\n",
            "participant_35 15\n",
            "participant_33 11\n",
            "participant_38 11\n",
            "participant_34 18\n",
            "participant_32 16\n",
            "participant_37 14\n",
            "participant_46 12\n",
            "participant_36 8\n"
          ],
          "name": "stdout"
        }
      ]
    },
    {
      "cell_type": "code",
      "metadata": {
        "id": "EJ0Qm6kA2u0p",
        "colab_type": "code",
        "outputId": "31f7fd61-6b6c-4bb0-c59d-312b7ceafd57",
        "colab": {
          "base_uri": "https://localhost:8080/",
          "height": 391
        }
      },
      "source": [
        "df_all.count()"
      ],
      "execution_count": 14,
      "outputs": [
        {
          "output_type": "execute_result",
          "data": {
            "text/plain": [
              "Participant               14400\n",
              "TempBlock                 14400\n",
              "Block                     14400\n",
              "Sequence                  14400\n",
              "Trial                     14400\n",
              "Target_Type               14400\n",
              "Target_Name               14400\n",
              "Start_Time                14400\n",
              "End_Time                  14400\n",
              "First_Reaction_Time       14400\n",
              "Mode_In_Time              14400\n",
              "Mode_Out_Time             14400\n",
              "Execution_Time            14400\n",
              "Reference_Action_Count    14400\n",
              "Incorrect_Action_Count    14400\n",
              "Error                     14400\n",
              "IV_Surface                14400\n",
              "IV_Orientation            14400\n",
              "IV_Form                   14400\n",
              "IV_Hand                   14400\n",
              "Reference_Task            14400\n",
              "dtype: int64"
            ]
          },
          "metadata": {
            "tags": []
          },
          "execution_count": 14
        }
      ]
    },
    {
      "cell_type": "markdown",
      "metadata": {
        "id": "USAnbgwsgauP",
        "colab_type": "text"
      },
      "source": [
        "# Analysis"
      ]
    },
    {
      "cell_type": "markdown",
      "metadata": {
        "id": "tTIhnM0Egp06",
        "colab_type": "text"
      },
      "source": [
        "## Participants"
      ]
    },
    {
      "cell_type": "markdown",
      "metadata": {
        "id": "SmYVhHTXgtUx",
        "colab_type": "text"
      },
      "source": [
        "## Postures"
      ]
    },
    {
      "cell_type": "markdown",
      "metadata": {
        "id": "UX_U-tmzg-kc",
        "colab_type": "text"
      },
      "source": [
        "### How many mode-errors are there for each task type\n",
        "\n"
      ]
    },
    {
      "cell_type": "code",
      "metadata": {
        "id": "HDfxQcNBPz2i",
        "colab_type": "code",
        "outputId": "6010f1af-def7-4ed1-cd96-f6b985c074b6",
        "colab": {
          "base_uri": "https://localhost:8080/",
          "height": 119
        }
      },
      "source": [
        "df_all.loc[(df_all[\"Reference_Action_Count\"] >= df_all[\"Incorrect_Action_Count\"])].groupby(\"Target_Type\")[\"Participant\"].count()"
      ],
      "execution_count": 15,
      "outputs": [
        {
          "output_type": "execute_result",
          "data": {
            "text/plain": [
              "Target_Type\n",
              "click       3600\n",
              "posture     3455\n",
              "shortcut    3489\n",
              "word        3600\n",
              "Name: Participant, dtype: int64"
            ]
          },
          "metadata": {
            "tags": []
          },
          "execution_count": 15
        }
      ]
    },
    {
      "cell_type": "code",
      "metadata": {
        "id": "l7pQ3IHSeY_1",
        "colab_type": "code",
        "colab": {}
      },
      "source": [
        "# df_all.loc[(df_all[\"Participant\"] == \"participant_36\") & (df_all[\"Target_Type\"]==\"word\")]#.groupby(\"Target_Type\")[\"Participant\"]\n",
        "# df_all.loc[(df_all[\"Target_Type\"]==\"shortcut\")]#.groupby(\"Target_Type\")[\"Participant\"]\n",
        "# df_all.loc[(df_all[\"Participant\"] == \"participant_36\") & (df_all[\"Target_Type\"]==\"shortcut\")].count()"
      ],
      "execution_count": 0,
      "outputs": []
    },
    {
      "cell_type": "markdown",
      "metadata": {
        "id": "4v6sC1MDj5pB",
        "colab_type": "text"
      },
      "source": [
        "### How many task-errors are there for each task type?"
      ]
    },
    {
      "cell_type": "code",
      "metadata": {
        "id": "KGKl3JsetFgb",
        "colab_type": "code",
        "outputId": "ce760c1d-4125-46b9-d077-9120202f04ce",
        "colab": {
          "base_uri": "https://localhost:8080/",
          "height": 34
        }
      },
      "source": [
        "# df_all.loc[(df_all[\"Error\"]==True) & (df_all[\"Target_Type\"]==\"posture\")]#.groupby(\"Target_Type\").count()\n",
        "# # print(\"Task Error\")\n",
        "e = df_all.loc[(df_all[\"Error\"]==True)].groupby(\"Target_Type\")[\"Participant\"].count()\n",
        "p_id = (\"posture\",\"shortcut\",\"word\")\n",
        "[(p_id[i],e[i]) for i in range(3)]"
      ],
      "execution_count": 32,
      "outputs": [
        {
          "output_type": "execute_result",
          "data": {
            "text/plain": [
              "[('posture', 6), ('shortcut', 13), ('word', 74)]"
            ]
          },
          "metadata": {
            "tags": []
          },
          "execution_count": 32
        }
      ]
    },
    {
      "cell_type": "code",
      "metadata": {
        "id": "4HFPZZNzdZ-z",
        "colab_type": "code",
        "colab": {
          "base_uri": "https://localhost:8080/",
          "height": 255
        },
        "outputId": "f46e3744-5026-42af-b270-e3e9757150a1"
      },
      "source": [
        "df_all.loc[(df_all[\"Error\"]==True) & (df_all[\"Target_Type\"]==\"posture\")]"
      ],
      "execution_count": 35,
      "outputs": [
        {
          "output_type": "execute_result",
          "data": {
            "text/html": [
              "<div>\n",
              "<style scoped>\n",
              "    .dataframe tbody tr th:only-of-type {\n",
              "        vertical-align: middle;\n",
              "    }\n",
              "\n",
              "    .dataframe tbody tr th {\n",
              "        vertical-align: top;\n",
              "    }\n",
              "\n",
              "    .dataframe thead th {\n",
              "        text-align: right;\n",
              "    }\n",
              "</style>\n",
              "<table border=\"1\" class=\"dataframe\">\n",
              "  <thead>\n",
              "    <tr style=\"text-align: right;\">\n",
              "      <th></th>\n",
              "      <th>Participant</th>\n",
              "      <th>Block</th>\n",
              "      <th>Sequence</th>\n",
              "      <th>Sub_Sequence</th>\n",
              "      <th>Trial</th>\n",
              "      <th>Target_Type</th>\n",
              "      <th>Target_Name</th>\n",
              "      <th>Start_Time</th>\n",
              "      <th>End_Time</th>\n",
              "      <th>First_Reaction_Time</th>\n",
              "      <th>Mode_In_Time</th>\n",
              "      <th>Mode_Out_Time</th>\n",
              "      <th>Execution_Time</th>\n",
              "      <th>Reference_Action_Count</th>\n",
              "      <th>Incorrect_Action_Count</th>\n",
              "      <th>Error</th>\n",
              "      <th>IV_Surface</th>\n",
              "      <th>IV_Orientation</th>\n",
              "      <th>IV_Form</th>\n",
              "      <th>IV_Hand</th>\n",
              "      <th>Reference_Task</th>\n",
              "    </tr>\n",
              "  </thead>\n",
              "  <tbody>\n",
              "    <tr>\n",
              "      <th>3773</th>\n",
              "      <td>participant_47</td>\n",
              "      <td>1</td>\n",
              "      <td>2</td>\n",
              "      <td>14</td>\n",
              "      <td>173</td>\n",
              "      <td>posture</td>\n",
              "      <td>Left_Open_90_Beside</td>\n",
              "      <td>1567803261888</td>\n",
              "      <td>1567803267900</td>\n",
              "      <td>1567803267900</td>\n",
              "      <td>6711</td>\n",
              "      <td>1691</td>\n",
              "      <td>8402</td>\n",
              "      <td>0</td>\n",
              "      <td>0</td>\n",
              "      <td>True</td>\n",
              "      <td>Beside</td>\n",
              "      <td>90</td>\n",
              "      <td>Open</td>\n",
              "      <td>Left</td>\n",
              "      <td>word</td>\n",
              "    </tr>\n",
              "    <tr>\n",
              "      <th>4353</th>\n",
              "      <td>participant_36</td>\n",
              "      <td>0</td>\n",
              "      <td>0</td>\n",
              "      <td>16</td>\n",
              "      <td>33</td>\n",
              "      <td>posture</td>\n",
              "      <td>Left_Open_180_Below</td>\n",
              "      <td>1567544393502</td>\n",
              "      <td>1567544399511</td>\n",
              "      <td>1567544399511</td>\n",
              "      <td>6711</td>\n",
              "      <td>2294</td>\n",
              "      <td>9005</td>\n",
              "      <td>0</td>\n",
              "      <td>0</td>\n",
              "      <td>True</td>\n",
              "      <td>Below</td>\n",
              "      <td>0</td>\n",
              "      <td>Open</td>\n",
              "      <td>Left</td>\n",
              "      <td>word</td>\n",
              "    </tr>\n",
              "    <tr>\n",
              "      <th>4497</th>\n",
              "      <td>participant_36</td>\n",
              "      <td>1</td>\n",
              "      <td>2</td>\n",
              "      <td>16</td>\n",
              "      <td>177</td>\n",
              "      <td>posture</td>\n",
              "      <td>Left_Open_180_Below</td>\n",
              "      <td>1567544735081</td>\n",
              "      <td>1567544741090</td>\n",
              "      <td>1567544741090</td>\n",
              "      <td>6743</td>\n",
              "      <td>1757</td>\n",
              "      <td>8500</td>\n",
              "      <td>0</td>\n",
              "      <td>0</td>\n",
              "      <td>True</td>\n",
              "      <td>Below</td>\n",
              "      <td>0</td>\n",
              "      <td>Open</td>\n",
              "      <td>Left</td>\n",
              "      <td>word</td>\n",
              "    </tr>\n",
              "    <tr>\n",
              "      <th>4641</th>\n",
              "      <td>participant_36</td>\n",
              "      <td>2</td>\n",
              "      <td>4</td>\n",
              "      <td>16</td>\n",
              "      <td>321</td>\n",
              "      <td>posture</td>\n",
              "      <td>Left_Open_180_Below</td>\n",
              "      <td>1567545046692</td>\n",
              "      <td>1567545052701</td>\n",
              "      <td>1567545052701</td>\n",
              "      <td>6875</td>\n",
              "      <td>1292</td>\n",
              "      <td>8167</td>\n",
              "      <td>0</td>\n",
              "      <td>0</td>\n",
              "      <td>True</td>\n",
              "      <td>Below</td>\n",
              "      <td>0</td>\n",
              "      <td>Open</td>\n",
              "      <td>Left</td>\n",
              "      <td>word</td>\n",
              "    </tr>\n",
              "    <tr>\n",
              "      <th>10151</th>\n",
              "      <td>participant_32</td>\n",
              "      <td>0</td>\n",
              "      <td>0</td>\n",
              "      <td>35</td>\n",
              "      <td>71</td>\n",
              "      <td>posture</td>\n",
              "      <td>Right_Open_180_Beside</td>\n",
              "      <td>1567198587616</td>\n",
              "      <td>1567198593625</td>\n",
              "      <td>1567198593625</td>\n",
              "      <td>6041</td>\n",
              "      <td>0</td>\n",
              "      <td>6041</td>\n",
              "      <td>0</td>\n",
              "      <td>0</td>\n",
              "      <td>True</td>\n",
              "      <td>Beside</td>\n",
              "      <td>0</td>\n",
              "      <td>Open</td>\n",
              "      <td>Right</td>\n",
              "      <td>click</td>\n",
              "    </tr>\n",
              "    <tr>\n",
              "      <th>10295</th>\n",
              "      <td>participant_32</td>\n",
              "      <td>1</td>\n",
              "      <td>2</td>\n",
              "      <td>35</td>\n",
              "      <td>215</td>\n",
              "      <td>posture</td>\n",
              "      <td>Right_Open_180_Beside</td>\n",
              "      <td>1567198879461</td>\n",
              "      <td>1567198885471</td>\n",
              "      <td>1567198885471</td>\n",
              "      <td>6046</td>\n",
              "      <td>0</td>\n",
              "      <td>6046</td>\n",
              "      <td>0</td>\n",
              "      <td>0</td>\n",
              "      <td>True</td>\n",
              "      <td>Beside</td>\n",
              "      <td>0</td>\n",
              "      <td>Open</td>\n",
              "      <td>Right</td>\n",
              "      <td>click</td>\n",
              "    </tr>\n",
              "  </tbody>\n",
              "</table>\n",
              "</div>"
            ],
            "text/plain": [
              "          Participant  Block  Sequence  ...  IV_Form  IV_Hand Reference_Task\n",
              "3773   participant_47      1         2  ...     Open     Left           word\n",
              "4353   participant_36      0         0  ...     Open     Left           word\n",
              "4497   participant_36      1         2  ...     Open     Left           word\n",
              "4641   participant_36      2         4  ...     Open     Left           word\n",
              "10151  participant_32      0         0  ...     Open    Right          click\n",
              "10295  participant_32      1         2  ...     Open    Right          click\n",
              "\n",
              "[6 rows x 21 columns]"
            ]
          },
          "metadata": {
            "tags": []
          },
          "execution_count": 35
        }
      ]
    },
    {
      "cell_type": "code",
      "metadata": {
        "id": "KazM3DuTrx5U",
        "colab_type": "code",
        "colab": {}
      },
      "source": [
        "# Rename columns\n",
        "df_all = df_all.rename(columns={\"Sequence\":\"Sub_Sequence\", \"Block\":\"Sequence\", \"TempBlock\": \"Block\"})"
      ],
      "execution_count": 0,
      "outputs": []
    },
    {
      "cell_type": "markdown",
      "metadata": {
        "id": "iCeOfV9kDuk4",
        "colab_type": "text"
      },
      "source": [
        "### Calculate mode-in and mode-out **time**"
      ]
    },
    {
      "cell_type": "markdown",
      "metadata": {
        "id": "YeVwfxPtkMWv",
        "colab_type": "text"
      },
      "source": [
        "#### Create a dataframe that does not include trials with mode-errors/task-errors."
      ]
    },
    {
      "cell_type": "code",
      "metadata": {
        "id": "HL5dbHBauO8Y",
        "colab_type": "code",
        "outputId": "ab918fdd-c9f0-4d1a-b494-4d353ccd443b",
        "colab": {
          "base_uri": "https://localhost:8080/",
          "height": 391
        }
      },
      "source": [
        "df_filtered = df_all.loc[(df_all[\"Reference_Action_Count\"] >= df_all[\"Incorrect_Action_Count\"]) & (df_all[\"Error\"]==False)]\n",
        "df_filtered.count()"
      ],
      "execution_count": 36,
      "outputs": [
        {
          "output_type": "execute_result",
          "data": {
            "text/plain": [
              "Participant               14053\n",
              "Block                     14053\n",
              "Sequence                  14053\n",
              "Sub_Sequence              14053\n",
              "Trial                     14053\n",
              "Target_Type               14053\n",
              "Target_Name               14053\n",
              "Start_Time                14053\n",
              "End_Time                  14053\n",
              "First_Reaction_Time       14053\n",
              "Mode_In_Time              14053\n",
              "Mode_Out_Time             14053\n",
              "Execution_Time            14053\n",
              "Reference_Action_Count    14053\n",
              "Incorrect_Action_Count    14053\n",
              "Error                     14053\n",
              "IV_Surface                14053\n",
              "IV_Orientation            14053\n",
              "IV_Form                   14053\n",
              "IV_Hand                   14053\n",
              "Reference_Task            14053\n",
              "dtype: int64"
            ]
          },
          "metadata": {
            "tags": []
          },
          "execution_count": 36
        }
      ]
    },
    {
      "cell_type": "code",
      "metadata": {
        "id": "SHE3-gc8S-u5",
        "colab_type": "code",
        "outputId": "9b258c6a-4422-4b30-b5e3-cbddbc8bd4a2",
        "colab": {
          "base_uri": "https://localhost:8080/",
          "height": 224
        }
      },
      "source": [
        "df_filtered.head()"
      ],
      "execution_count": 37,
      "outputs": [
        {
          "output_type": "execute_result",
          "data": {
            "text/html": [
              "<div>\n",
              "<style scoped>\n",
              "    .dataframe tbody tr th:only-of-type {\n",
              "        vertical-align: middle;\n",
              "    }\n",
              "\n",
              "    .dataframe tbody tr th {\n",
              "        vertical-align: top;\n",
              "    }\n",
              "\n",
              "    .dataframe thead th {\n",
              "        text-align: right;\n",
              "    }\n",
              "</style>\n",
              "<table border=\"1\" class=\"dataframe\">\n",
              "  <thead>\n",
              "    <tr style=\"text-align: right;\">\n",
              "      <th></th>\n",
              "      <th>Participant</th>\n",
              "      <th>Block</th>\n",
              "      <th>Sequence</th>\n",
              "      <th>Sub_Sequence</th>\n",
              "      <th>Trial</th>\n",
              "      <th>Target_Type</th>\n",
              "      <th>Target_Name</th>\n",
              "      <th>Start_Time</th>\n",
              "      <th>End_Time</th>\n",
              "      <th>First_Reaction_Time</th>\n",
              "      <th>Mode_In_Time</th>\n",
              "      <th>Mode_Out_Time</th>\n",
              "      <th>Execution_Time</th>\n",
              "      <th>Reference_Action_Count</th>\n",
              "      <th>Incorrect_Action_Count</th>\n",
              "      <th>Error</th>\n",
              "      <th>IV_Surface</th>\n",
              "      <th>IV_Orientation</th>\n",
              "      <th>IV_Form</th>\n",
              "      <th>IV_Hand</th>\n",
              "      <th>Reference_Task</th>\n",
              "    </tr>\n",
              "  </thead>\n",
              "  <tbody>\n",
              "    <tr>\n",
              "      <th>0</th>\n",
              "      <td>participant_31</td>\n",
              "      <td>0</td>\n",
              "      <td>0</td>\n",
              "      <td>0</td>\n",
              "      <td>0</td>\n",
              "      <td>click</td>\n",
              "      <td>click me</td>\n",
              "      <td>1567118993864</td>\n",
              "      <td>1567118995310</td>\n",
              "      <td>1567118995310</td>\n",
              "      <td>0</td>\n",
              "      <td>1335</td>\n",
              "      <td>1335</td>\n",
              "      <td>0</td>\n",
              "      <td>0</td>\n",
              "      <td>False</td>\n",
              "      <td>NA</td>\n",
              "      <td>NA</td>\n",
              "      <td>NA</td>\n",
              "      <td>NA</td>\n",
              "      <td>NA</td>\n",
              "    </tr>\n",
              "    <tr>\n",
              "      <th>1</th>\n",
              "      <td>participant_31</td>\n",
              "      <td>0</td>\n",
              "      <td>0</td>\n",
              "      <td>0</td>\n",
              "      <td>1</td>\n",
              "      <td>posture</td>\n",
              "      <td>Left_Close_0_On</td>\n",
              "      <td>1567118995331</td>\n",
              "      <td>1567118996645</td>\n",
              "      <td>1567118996645</td>\n",
              "      <td>1335</td>\n",
              "      <td>1758</td>\n",
              "      <td>3093</td>\n",
              "      <td>26</td>\n",
              "      <td>4</td>\n",
              "      <td>False</td>\n",
              "      <td>On</td>\n",
              "      <td>180</td>\n",
              "      <td>Close</td>\n",
              "      <td>Left</td>\n",
              "      <td>click</td>\n",
              "    </tr>\n",
              "    <tr>\n",
              "      <th>2</th>\n",
              "      <td>participant_31</td>\n",
              "      <td>0</td>\n",
              "      <td>0</td>\n",
              "      <td>1</td>\n",
              "      <td>2</td>\n",
              "      <td>word</td>\n",
              "      <td>fully</td>\n",
              "      <td>1567118996665</td>\n",
              "      <td>1567118999400</td>\n",
              "      <td>1567118998403</td>\n",
              "      <td>1758</td>\n",
              "      <td>2772</td>\n",
              "      <td>4530</td>\n",
              "      <td>0</td>\n",
              "      <td>0</td>\n",
              "      <td>False</td>\n",
              "      <td>NA</td>\n",
              "      <td>NA</td>\n",
              "      <td>NA</td>\n",
              "      <td>NA</td>\n",
              "      <td>NA</td>\n",
              "    </tr>\n",
              "    <tr>\n",
              "      <th>3</th>\n",
              "      <td>participant_31</td>\n",
              "      <td>0</td>\n",
              "      <td>0</td>\n",
              "      <td>1</td>\n",
              "      <td>3</td>\n",
              "      <td>posture</td>\n",
              "      <td>Left_Close_0_Below</td>\n",
              "      <td>1567118999434</td>\n",
              "      <td>1567119001175</td>\n",
              "      <td>1567119001175</td>\n",
              "      <td>2772</td>\n",
              "      <td>2024</td>\n",
              "      <td>4796</td>\n",
              "      <td>24</td>\n",
              "      <td>0</td>\n",
              "      <td>False</td>\n",
              "      <td>Below</td>\n",
              "      <td>180</td>\n",
              "      <td>Close</td>\n",
              "      <td>Left</td>\n",
              "      <td>word</td>\n",
              "    </tr>\n",
              "    <tr>\n",
              "      <th>4</th>\n",
              "      <td>participant_31</td>\n",
              "      <td>0</td>\n",
              "      <td>0</td>\n",
              "      <td>2</td>\n",
              "      <td>4</td>\n",
              "      <td>click</td>\n",
              "      <td>click me</td>\n",
              "      <td>1567119001198</td>\n",
              "      <td>1567119003199</td>\n",
              "      <td>1567119003199</td>\n",
              "      <td>2024</td>\n",
              "      <td>1678</td>\n",
              "      <td>3702</td>\n",
              "      <td>0</td>\n",
              "      <td>0</td>\n",
              "      <td>False</td>\n",
              "      <td>NA</td>\n",
              "      <td>NA</td>\n",
              "      <td>NA</td>\n",
              "      <td>NA</td>\n",
              "      <td>NA</td>\n",
              "    </tr>\n",
              "  </tbody>\n",
              "</table>\n",
              "</div>"
            ],
            "text/plain": [
              "      Participant  Block  Sequence  ...  IV_Form  IV_Hand Reference_Task\n",
              "0  participant_31      0         0  ...       NA       NA             NA\n",
              "1  participant_31      0         0  ...    Close     Left          click\n",
              "2  participant_31      0         0  ...       NA       NA             NA\n",
              "3  participant_31      0         0  ...    Close     Left           word\n",
              "4  participant_31      0         0  ...       NA       NA             NA\n",
              "\n",
              "[5 rows x 21 columns]"
            ]
          },
          "metadata": {
            "tags": []
          },
          "execution_count": 37
        }
      ]
    },
    {
      "cell_type": "markdown",
      "metadata": {
        "id": "OTijrrZcYlgw",
        "colab_type": "text"
      },
      "source": [
        "#### Prepare data to plot"
      ]
    },
    {
      "cell_type": "code",
      "metadata": {
        "id": "A4Tgl3saIp53",
        "colab_type": "code",
        "colab": {}
      },
      "source": [
        "data_filtered = df_filtered.loc[(df_filtered['Target_Type'] == \"shortcut\") | (df_filtered['Target_Type'] == \"posture\")]\n",
        "data_filtered_word = df_filtered.loc[(df_filtered['Reference_Task'] == \"word\")]\n",
        "data_filtered_click = df_filtered.loc[(df_filtered['Reference_Task'] == \"click\")]\n"
      ],
      "execution_count": 0,
      "outputs": []
    },
    {
      "cell_type": "code",
      "metadata": {
        "id": "Y-whvBVgyrEt",
        "colab_type": "code",
        "outputId": "9acc36b2-0666-42ab-f9b6-8920cda28588",
        "colab": {
          "base_uri": "https://localhost:8080/",
          "height": 391
        }
      },
      "source": [
        "data_baseline = df_all.loc[(df_all['Target_Type'] != \"shortcut\") & (df_all['Target_Type'] != \"posture\")]\n",
        "# data_baseline.count()\n",
        "data_baseline.loc[data_baseline[\"Error\"]==True].count()\n"
      ],
      "execution_count": 39,
      "outputs": [
        {
          "output_type": "execute_result",
          "data": {
            "text/plain": [
              "Participant               74\n",
              "Block                     74\n",
              "Sequence                  74\n",
              "Sub_Sequence              74\n",
              "Trial                     74\n",
              "Target_Type               74\n",
              "Target_Name               74\n",
              "Start_Time                74\n",
              "End_Time                  74\n",
              "First_Reaction_Time       74\n",
              "Mode_In_Time              74\n",
              "Mode_Out_Time             74\n",
              "Execution_Time            74\n",
              "Reference_Action_Count    74\n",
              "Incorrect_Action_Count    74\n",
              "Error                     74\n",
              "IV_Surface                74\n",
              "IV_Orientation            74\n",
              "IV_Form                   74\n",
              "IV_Hand                   74\n",
              "Reference_Task            74\n",
              "dtype: int64"
            ]
          },
          "metadata": {
            "tags": []
          },
          "execution_count": 39
        }
      ]
    },
    {
      "cell_type": "markdown",
      "metadata": {
        "id": "QILCNkgVW4d8",
        "colab_type": "text"
      },
      "source": [
        "### Mode_In Time (filtered vs unfiltered)"
      ]
    },
    {
      "cell_type": "code",
      "metadata": {
        "id": "Ucg6FKGQTuap",
        "colab_type": "code",
        "outputId": "d0684b36-47a8-4389-defc-8d29c1d606a6",
        "colab": {
          "base_uri": "https://localhost:8080/",
          "height": 308
        }
      },
      "source": [
        "sns.set(style=\"whitegrid\")\n",
        "plt.figure(figsize=(10,4))\n",
        "# plt.xticks(rotation=90)\n",
        "# ax = sns.barplot(x=\"Block\", y=\"Mode_In_Time\", hue=\"Target_Type\", data=data_filtered_word, capsize=0.1, ci=100)\n",
        "ax = sns.swarmplot(x=\"Block\", y=\"Execution_Time\",hue=\"Target_Type\", data=data_filtered_word)\n",
        "ax.legend(loc='lower right')"
      ],
      "execution_count": 40,
      "outputs": [
        {
          "output_type": "execute_result",
          "data": {
            "text/plain": [
              "<matplotlib.legend.Legend at 0x7f278c82a400>"
            ]
          },
          "metadata": {
            "tags": []
          },
          "execution_count": 40
        },
        {
          "output_type": "display_data",
          "data": {
            "image/png": "[encoded data removed]",
            "text/plain": [
              "<Figure size 720x288 with 1 Axes>"
            ]
          },
          "metadata": {
            "tags": []
          }
        }
      ]
    },
    {
      "cell_type": "code",
      "metadata": {
        "id": "TUTbeFXreJTV",
        "colab_type": "code",
        "colab": {
          "base_uri": "https://localhost:8080/",
          "height": 224
        },
        "outputId": "df0d90ab-cf88-4a3b-c111-c23342a3f806"
      },
      "source": [
        "data_filtered_word.head()"
      ],
      "execution_count": 41,
      "outputs": [
        {
          "output_type": "execute_result",
          "data": {
            "text/html": [
              "<div>\n",
              "<style scoped>\n",
              "    .dataframe tbody tr th:only-of-type {\n",
              "        vertical-align: middle;\n",
              "    }\n",
              "\n",
              "    .dataframe tbody tr th {\n",
              "        vertical-align: top;\n",
              "    }\n",
              "\n",
              "    .dataframe thead th {\n",
              "        text-align: right;\n",
              "    }\n",
              "</style>\n",
              "<table border=\"1\" class=\"dataframe\">\n",
              "  <thead>\n",
              "    <tr style=\"text-align: right;\">\n",
              "      <th></th>\n",
              "      <th>Participant</th>\n",
              "      <th>Block</th>\n",
              "      <th>Sequence</th>\n",
              "      <th>Sub_Sequence</th>\n",
              "      <th>Trial</th>\n",
              "      <th>Target_Type</th>\n",
              "      <th>Target_Name</th>\n",
              "      <th>Start_Time</th>\n",
              "      <th>End_Time</th>\n",
              "      <th>First_Reaction_Time</th>\n",
              "      <th>Mode_In_Time</th>\n",
              "      <th>Mode_Out_Time</th>\n",
              "      <th>Execution_Time</th>\n",
              "      <th>Reference_Action_Count</th>\n",
              "      <th>Incorrect_Action_Count</th>\n",
              "      <th>Error</th>\n",
              "      <th>IV_Surface</th>\n",
              "      <th>IV_Orientation</th>\n",
              "      <th>IV_Form</th>\n",
              "      <th>IV_Hand</th>\n",
              "      <th>Reference_Task</th>\n",
              "    </tr>\n",
              "  </thead>\n",
              "  <tbody>\n",
              "    <tr>\n",
              "      <th>3</th>\n",
              "      <td>participant_31</td>\n",
              "      <td>0</td>\n",
              "      <td>0</td>\n",
              "      <td>1</td>\n",
              "      <td>3</td>\n",
              "      <td>posture</td>\n",
              "      <td>Left_Close_0_Below</td>\n",
              "      <td>1567118999434</td>\n",
              "      <td>1567119001175</td>\n",
              "      <td>1567119001175</td>\n",
              "      <td>2772</td>\n",
              "      <td>2024</td>\n",
              "      <td>4796</td>\n",
              "      <td>24</td>\n",
              "      <td>0</td>\n",
              "      <td>False</td>\n",
              "      <td>Below</td>\n",
              "      <td>180</td>\n",
              "      <td>Close</td>\n",
              "      <td>Left</td>\n",
              "      <td>word</td>\n",
              "    </tr>\n",
              "    <tr>\n",
              "      <th>7</th>\n",
              "      <td>participant_31</td>\n",
              "      <td>0</td>\n",
              "      <td>0</td>\n",
              "      <td>3</td>\n",
              "      <td>7</td>\n",
              "      <td>posture</td>\n",
              "      <td>Left_Close_90_On</td>\n",
              "      <td>1567119008531</td>\n",
              "      <td>1567119009846</td>\n",
              "      <td>1567119009846</td>\n",
              "      <td>3446</td>\n",
              "      <td>2419</td>\n",
              "      <td>5865</td>\n",
              "      <td>17</td>\n",
              "      <td>8</td>\n",
              "      <td>False</td>\n",
              "      <td>On</td>\n",
              "      <td>90</td>\n",
              "      <td>Close</td>\n",
              "      <td>Left</td>\n",
              "      <td>word</td>\n",
              "    </tr>\n",
              "    <tr>\n",
              "      <th>9</th>\n",
              "      <td>participant_31</td>\n",
              "      <td>0</td>\n",
              "      <td>0</td>\n",
              "      <td>4</td>\n",
              "      <td>9</td>\n",
              "      <td>posture</td>\n",
              "      <td>Left_Close_90_Below</td>\n",
              "      <td>1567119014167</td>\n",
              "      <td>1567119015578</td>\n",
              "      <td>1567119015578</td>\n",
              "      <td>3313</td>\n",
              "      <td>1688</td>\n",
              "      <td>5001</td>\n",
              "      <td>23</td>\n",
              "      <td>8</td>\n",
              "      <td>False</td>\n",
              "      <td>Below</td>\n",
              "      <td>90</td>\n",
              "      <td>Close</td>\n",
              "      <td>Left</td>\n",
              "      <td>word</td>\n",
              "    </tr>\n",
              "    <tr>\n",
              "      <th>13</th>\n",
              "      <td>participant_31</td>\n",
              "      <td>0</td>\n",
              "      <td>0</td>\n",
              "      <td>6</td>\n",
              "      <td>13</td>\n",
              "      <td>posture</td>\n",
              "      <td>Left_Close_180_On</td>\n",
              "      <td>1567119021497</td>\n",
              "      <td>1567119022945</td>\n",
              "      <td>1567119022945</td>\n",
              "      <td>2480</td>\n",
              "      <td>2188</td>\n",
              "      <td>4668</td>\n",
              "      <td>19</td>\n",
              "      <td>14</td>\n",
              "      <td>False</td>\n",
              "      <td>On</td>\n",
              "      <td>0</td>\n",
              "      <td>Close</td>\n",
              "      <td>Left</td>\n",
              "      <td>word</td>\n",
              "    </tr>\n",
              "    <tr>\n",
              "      <th>19</th>\n",
              "      <td>participant_31</td>\n",
              "      <td>0</td>\n",
              "      <td>0</td>\n",
              "      <td>9</td>\n",
              "      <td>19</td>\n",
              "      <td>posture</td>\n",
              "      <td>Left_Open_0_On</td>\n",
              "      <td>1567119032631</td>\n",
              "      <td>1567119033779</td>\n",
              "      <td>1567119033779</td>\n",
              "      <td>2878</td>\n",
              "      <td>1522</td>\n",
              "      <td>4400</td>\n",
              "      <td>20</td>\n",
              "      <td>7</td>\n",
              "      <td>False</td>\n",
              "      <td>On</td>\n",
              "      <td>180</td>\n",
              "      <td>Open</td>\n",
              "      <td>Left</td>\n",
              "      <td>word</td>\n",
              "    </tr>\n",
              "  </tbody>\n",
              "</table>\n",
              "</div>"
            ],
            "text/plain": [
              "       Participant  Block  Sequence  ...  IV_Form  IV_Hand Reference_Task\n",
              "3   participant_31      0         0  ...    Close     Left           word\n",
              "7   participant_31      0         0  ...    Close     Left           word\n",
              "9   participant_31      0         0  ...    Close     Left           word\n",
              "13  participant_31      0         0  ...    Close     Left           word\n",
              "19  participant_31      0         0  ...     Open     Left           word\n",
              "\n",
              "[5 rows x 21 columns]"
            ]
          },
          "metadata": {
            "tags": []
          },
          "execution_count": 41
        }
      ]
    },
    {
      "cell_type": "markdown",
      "metadata": {
        "id": "vsLAXf-JXPKd",
        "colab_type": "text"
      },
      "source": [
        "### Mode_Out Time (filtered vs unfiltered)"
      ]
    },
    {
      "cell_type": "code",
      "metadata": {
        "id": "PIAU4S-pTu1P",
        "colab_type": "code",
        "outputId": "89bced9e-1b55-4b1f-e9cd-fb8e3ad8220f",
        "colab": {
          "base_uri": "https://localhost:8080/",
          "height": 308
        }
      },
      "source": [
        "sns.set(style=\"whitegrid\")\n",
        "plt.figure(figsize=(10,4))\n",
        "# plt.xticks(rotation=90)\n",
        "ax = sns.barplot(x=\"Block\", y=\"Mode_Out_Time\", hue=\"Target_Type\", data=data_filtered, capsize=0.1)\n",
        "ax.legend(loc='lower left')"
      ],
      "execution_count": 42,
      "outputs": [
        {
          "output_type": "execute_result",
          "data": {
            "text/plain": [
              "<matplotlib.legend.Legend at 0x7f2789eeb3c8>"
            ]
          },
          "metadata": {
            "tags": []
          },
          "execution_count": 42
        },
        {
          "output_type": "display_data",
          "data": {
            "image/png": "[encoded data removed]",
            "text/plain": [
              "<Figure size 720x288 with 1 Axes>"
            ]
          },
          "metadata": {
            "tags": []
          }
        }
      ]
    },
    {
      "cell_type": "markdown",
      "metadata": {
        "id": "xtTn0cp7VGAF",
        "colab_type": "text"
      },
      "source": [
        "### Total Execution Time (filtered vs unfiltered)\n",
        "#### Total Execution Time = (mode-in + mode-out)"
      ]
    },
    {
      "cell_type": "code",
      "metadata": {
        "id": "apaLmES_TQ42",
        "colab_type": "code",
        "outputId": "18eae456-5031-4759-f703-2ac7fd8d9906",
        "colab": {
          "base_uri": "https://localhost:8080/",
          "height": 291
        }
      },
      "source": [
        "sns.set(style=\"whitegrid\")\n",
        "plt.figure(figsize=(10,4))\n",
        "# plt.xticks(rotation=90)\n",
        "# ax = sns.barplot(x=\"Block\", y=\"Execution_Time\", hue=\"Target_Type\", data=data_filtered, capsize=0.1, ci=95)\n",
        "ax = sns.pointplot(x=\"Block\", y=\"Execution_Time\",hue=\"Target_Type\", err_style=\"bars\", data=data_filtered, capsize=0.1, ci=95, dashes=True)\n",
        "# ax = sns.swarmplot(x=\"Block\", y=\"Execution_Time\",hue=\"Target_Type\", data=data_filtered)\n",
        "# ax = sns.lineplot(x=\"Block\", y=\"Execution_Time\", hue=\"Target_Type\", units=\"subject\", estimator=None, lw=1, data=fmri.query(\"region == 'frontal'\"))\n",
        "\n",
        "# ax.legend(loc='upper right')#, bbox_to_anchor=(0.8, 0.5), ncol=1)\n",
        "# plt.xlim(0, 4)\n",
        "# plt.grid('off')\n",
        "# Add rectangle\n",
        "# ax.add_patch(\n",
        "# patches.Rectangle(\n",
        "# (50, 50), # (x,y)\n",
        "# 50, # width\n",
        "# 50, # height\n",
        "# # You can add rotation as well with 'angle'\n",
        "# alpha=0.3, facecolor=\"red\", edgecolor=\"black\", linewidth=3, linestyle='solid'\n",
        "# )\n",
        "# )\n",
        "\n",
        "arr = {0:-0.6,1:0.2,2:1.4,3:2.2,4:3.4, 5:4.2,6:5.4,7:6.2,8:7.4,9:8.2}\n",
        "# for index, row in data_filtered.groupby([\"Block\",\"Target_Type\"]).mean().reset_index().iterrows():\n",
        "# #     print(row[\"Execution_Time\"])\n",
        "# #     print(index)\n",
        "#     ax.text(arr[index]/2,-101, round(row[\"Execution_Time\"]/1000,2), color='black')"
      ],
      "execution_count": 43,
      "outputs": [
        {
          "output_type": "display_data",
          "data": {
            "image/png": "[encoded data removed]",
            "text/plain": [
              "<Figure size 720x288 with 1 Axes>"
            ]
          },
          "metadata": {
            "tags": []
          }
        }
      ]
    },
    {
      "cell_type": "code",
      "metadata": {
        "id": "2MZJHBgkT9ur",
        "colab_type": "code",
        "outputId": "669c8151-9ed9-49d8-bba7-75bd9dd8f708",
        "colab": {
          "base_uri": "https://localhost:8080/",
          "height": 308
        }
      },
      "source": [
        "sns.set(style=\"whitegrid\")\n",
        "plt.figure(figsize=(10,4))\n",
        "# ax = sns.pointplot(x=\"Block\", y=\"Execution_Time\",hue=\"IV_Surface\", err_style=\"bars\", data=data_filtered, capsize=0.1, ci=95, dashes=True)\n",
        "ax = sns.barplot(x=\"Block\", y=\"Execution_Time\", hue=\"IV_Surface\", data=data_filtered, capsize=0.1, ci=95)\n",
        "ax.legend(loc='lower right')#, bbox_to_anchor=(0.8, 0.5), ncol=1)"
      ],
      "execution_count": 44,
      "outputs": [
        {
          "output_type": "execute_result",
          "data": {
            "text/plain": [
              "<matplotlib.legend.Legend at 0x7f2788689048>"
            ]
          },
          "metadata": {
            "tags": []
          },
          "execution_count": 44
        },
        {
          "output_type": "display_data",
          "data": {
            "image/png": "[encoded data removed]",
            "text/plain": [
              "<Figure size 720x288 with 1 Axes>"
            ]
          },
          "metadata": {
            "tags": []
          }
        }
      ]
    },
    {
      "cell_type": "code",
      "metadata": {
        "id": "YiLfcPNAXuxj",
        "colab_type": "code",
        "outputId": "69a38b58-e73e-44e1-a302-75d40963148a",
        "colab": {
          "base_uri": "https://localhost:8080/",
          "height": 308
        }
      },
      "source": [
        "sns.set(style=\"whitegrid\")\n",
        "plt.figure(figsize=(10,4))\n",
        "# ax = sns.pointplot(x=\"Block\", y=\"Execution_Time\",hue=\"IV_Surface\", err_style=\"bars\", data=data_filtered, capsize=0.1, ci=95, dashes=True)\n",
        "ax = sns.barplot(x=\"Block\", y=\"Execution_Time\", hue=\"IV_Surface\", data=data_filtered_word, capsize=0.1, ci=95)\n",
        "ax.legend(loc='lower right')#, bbox_to_anchor=(0.8, 0.5), ncol=1)"
      ],
      "execution_count": 45,
      "outputs": [
        {
          "output_type": "execute_result",
          "data": {
            "text/plain": [
              "<matplotlib.legend.Legend at 0x7f278840f390>"
            ]
          },
          "metadata": {
            "tags": []
          },
          "execution_count": 45
        },
        {
          "output_type": "display_data",
          "data": {
            "image/png": "[encoded data removed]",
            "text/plain": [
              "<Figure size 720x288 with 1 Axes>"
            ]
          },
          "metadata": {
            "tags": []
          }
        }
      ]
    },
    {
      "cell_type": "code",
      "metadata": {
        "id": "X2orbgnK5Xoj",
        "colab_type": "code",
        "outputId": "a636552e-72b9-4a2d-95ff-d2df460c8deb",
        "colab": {
          "base_uri": "https://localhost:8080/",
          "height": 325
        }
      },
      "source": [
        "sns.set(style=\"whitegrid\")\n",
        "plt.figure(figsize=(10,4))\n",
        "# ax = sns.pointplot(x=\"Block\", y=\"Execution_Time\",hue=\"IV_Surface\", err_style=\"bars\", data=data_filtered, capsize=0.1, ci=95, dashes=True)\n",
        "ax = sns.barplot(x=\"IV_Surface\", y=\"Execution_Time\", data=data_filtered, capsize=0.1, ci=95,estimator=np.median)\n",
        "ax.legend(loc='lower right')#, bbox_to_anchor=(0.8, 0.5), ncol=1)"
      ],
      "execution_count": 46,
      "outputs": [
        {
          "output_type": "stream",
          "text": [
            "No handles with labels found to put in legend.\n"
          ],
          "name": "stderr"
        },
        {
          "output_type": "execute_result",
          "data": {
            "text/plain": [
              "<matplotlib.legend.Legend at 0x7f278840fa58>"
            ]
          },
          "metadata": {
            "tags": []
          },
          "execution_count": 46
        },
        {
          "output_type": "display_data",
          "data": {
            "image/png": "[encoded data removed]",
            "text/plain": [
              "<Figure size 720x288 with 1 Axes>"
            ]
          },
          "metadata": {
            "tags": []
          }
        }
      ]
    },
    {
      "cell_type": "code",
      "metadata": {
        "id": "45aCCfPo7s-E",
        "colab_type": "code",
        "outputId": "ce74de25-a62c-415c-a9c3-f9c8c8baf8e7",
        "colab": {
          "base_uri": "https://localhost:8080/",
          "height": 325
        }
      },
      "source": [
        "sns.set(style=\"whitegrid\")\n",
        "plt.figure(figsize=(10,4))\n",
        "# ax = sns.pointplot(x=\"Block\", y=\"Execution_Time\",hue=\"IV_Surface\", err_style=\"bars\", data=data_filtered, capsize=0.1, ci=95, dashes=True)\n",
        "ax = sns.barplot(x=\"IV_Form\", y=\"Execution_Time\", data=data_filtered, capsize=0.1, ci=95,estimator=np.median)\n",
        "ax.legend(loc='lower right')#, bbox_to_anchor=(0.8, 0.5), ncol=1)"
      ],
      "execution_count": 47,
      "outputs": [
        {
          "output_type": "stream",
          "text": [
            "No handles with labels found to put in legend.\n"
          ],
          "name": "stderr"
        },
        {
          "output_type": "execute_result",
          "data": {
            "text/plain": [
              "<matplotlib.legend.Legend at 0x7f2789ee42e8>"
            ]
          },
          "metadata": {
            "tags": []
          },
          "execution_count": 47
        },
        {
          "output_type": "display_data",
          "data": {
            "image/png": "[encoded data removed]",
            "text/plain": [
              "<Figure size 720x288 with 1 Axes>"
            ]
          },
          "metadata": {
            "tags": []
          }
        }
      ]
    },
    {
      "cell_type": "code",
      "metadata": {
        "id": "f3sDHK5F8cy_",
        "colab_type": "code",
        "outputId": "e8dac2fa-ea24-4657-e555-af403862adf5",
        "colab": {
          "base_uri": "https://localhost:8080/",
          "height": 291
        }
      },
      "source": [
        "sns.set(style=\"whitegrid\")\n",
        "plt.figure(figsize=(10,4))\n",
        "# ax = sns.pointplot(x=\"Block\", y=\"Execution_Time\",hue=\"IV_Surface\", err_style=\"bars\", data=data_filtered, capsize=0.1, ci=95, dashes=True)\n",
        "ax = sns.barplot(x=\"IV_Hand\", y=\"Execution_Time\", data=data_filtered, capsize=0.1, ci=95,estimator=np.median)\n",
        "# ax.legend(loc='lower right')#, bbox_to_anchor=(0.8, 0.5), ncol=1)"
      ],
      "execution_count": 48,
      "outputs": [
        {
          "output_type": "display_data",
          "data": {
            "image/png": "[encoded data removed]",
            "text/plain": [
              "<Figure size 720x288 with 1 Axes>"
            ]
          },
          "metadata": {
            "tags": []
          }
        }
      ]
    },
    {
      "cell_type": "markdown",
      "metadata": {
        "id": "rKV5SbWF6KlY",
        "colab_type": "text"
      },
      "source": [
        "Todo\n"
      ]
    },
    {
      "cell_type": "code",
      "metadata": {
        "id": "Y25L0zae8OMf",
        "colab_type": "code",
        "outputId": "e7b2708e-e7ca-44ca-b4f3-8d43205e22da",
        "colab": {
          "base_uri": "https://localhost:8080/",
          "height": 291
        }
      },
      "source": [
        "sns.set(style=\"whitegrid\")\n",
        "plt.figure(figsize=(10,4))\n",
        "# ax = sns.pointplot(x=\"IV_Orientation\", y=\"Execution_Time\", err_style=\"bars\", data=data_filtered, capsize=0.1, ci=95, dashes=True)\n",
        "ax = sns.barplot(x=\"IV_Orientation\", y=\"Execution_Time\", data=data_filtered, capsize=0.1, ci=95,estimator=np.median, order=[\"0\",\"90\",\"180\",\"shortcut\"])\n",
        "# ax.legend(loc='lower right')#, bbox_to_anchor=(0.8, 0.5), ncol=1)"
      ],
      "execution_count": 49,
      "outputs": [
        {
          "output_type": "display_data",
          "data": {
            "image/png": "[encoded data removed]",
            "text/plain": [
              "<Figure size 720x288 with 1 Axes>"
            ]
          },
          "metadata": {
            "tags": []
          }
        }
      ]
    },
    {
      "cell_type": "code",
      "metadata": {
        "id": "XkPAtvcpE4CG",
        "colab_type": "code",
        "colab": {
          "base_uri": "https://localhost:8080/",
          "height": 357
        },
        "outputId": "995ed2cc-af0e-407b-e6ac-6b7894ef596e"
      },
      "source": [
        "df_all.head()\n",
        "# df_all.count()\n",
        "set(df_all[\"Participant\"])"
      ],
      "execution_count": 63,
      "outputs": [
        {
          "output_type": "execute_result",
          "data": {
            "text/plain": [
              "{'participant_31',\n",
              " 'participant_32',\n",
              " 'participant_33',\n",
              " 'participant_34',\n",
              " 'participant_35',\n",
              " 'participant_36',\n",
              " 'participant_37',\n",
              " 'participant_38',\n",
              " 'participant_39',\n",
              " 'participant_40',\n",
              " 'participant_41',\n",
              " 'participant_42',\n",
              " 'participant_43',\n",
              " 'participant_44',\n",
              " 'participant_45',\n",
              " 'participant_46',\n",
              " 'participant_47',\n",
              " 'participant_48',\n",
              " 'participant_49',\n",
              " 'participant_50'}"
            ]
          },
          "metadata": {
            "tags": []
          },
          "execution_count": 63
        }
      ]
    },
    {
      "cell_type": "code",
      "metadata": {
        "id": "00M5s9L_lf4Z",
        "colab_type": "code",
        "colab": {}
      },
      "source": [
        "df_all.to_csv('df_all.csv') \n",
        "files.download('df_all.csv')"
      ],
      "execution_count": 0,
      "outputs": []
    },
    {
      "cell_type": "code",
      "metadata": {
        "id": "lQHlN_p-nOVl",
        "colab_type": "code",
        "colab": {
          "base_uri": "https://localhost:8080/",
          "height": 391
        },
        "outputId": "1c8a5707-86de-4209-c6ab-3c66fc5b1f9a"
      },
      "source": [
        "a = df_all.loc[df_all[\"Target_Type\"]==\"posture\"]\n",
        "a.count()"
      ],
      "execution_count": 64,
      "outputs": [
        {
          "output_type": "execute_result",
          "data": {
            "text/plain": [
              "Participant               3600\n",
              "Block                     3600\n",
              "Sequence                  3600\n",
              "Sub_Sequence              3600\n",
              "Trial                     3600\n",
              "Target_Type               3600\n",
              "Target_Name               3600\n",
              "Start_Time                3600\n",
              "End_Time                  3600\n",
              "First_Reaction_Time       3600\n",
              "Mode_In_Time              3600\n",
              "Mode_Out_Time             3600\n",
              "Execution_Time            3600\n",
              "Reference_Action_Count    3600\n",
              "Incorrect_Action_Count    3600\n",
              "Error                     3600\n",
              "IV_Surface                3600\n",
              "IV_Orientation            3600\n",
              "IV_Form                   3600\n",
              "IV_Hand                   3600\n",
              "Reference_Task            3600\n",
              "dtype: int64"
            ]
          },
          "metadata": {
            "tags": []
          },
          "execution_count": 64
        }
      ]
    },
    {
      "cell_type": "code",
      "metadata": {
        "id": "FGlEbPjyltIs",
        "colab_type": "code",
        "colab": {}
      },
      "source": [
        ""
      ],
      "execution_count": 0,
      "outputs": []
    }
  ]
}