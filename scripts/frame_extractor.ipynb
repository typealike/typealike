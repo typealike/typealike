{
 "cells": [
  {
   "cell_type": "code",
   "execution_count": 1,
   "metadata": {},
   "outputs": [
    {
     "ename": "ModuleNotFoundError",
     "evalue": "No module named 'gi'",
     "output_type": "error",
     "traceback": [
      "\u001b[0;31m---------------------------------------------------------------------------\u001b[0m",
      "\u001b[0;31mModuleNotFoundError\u001b[0m                       Traceback (most recent call last)",
      "\u001b[0;32m<ipython-input-1-6ad48c49e6ca>\u001b[0m in \u001b[0;36m<module>\u001b[0;34m\u001b[0m\n\u001b[1;32m      3\u001b[0m \u001b[0;32mimport\u001b[0m \u001b[0mjson\u001b[0m\u001b[0;34m\u001b[0m\u001b[0;34m\u001b[0m\u001b[0m\n\u001b[1;32m      4\u001b[0m \u001b[0;32mfrom\u001b[0m \u001b[0mcontextlib\u001b[0m \u001b[0;32mimport\u001b[0m \u001b[0mclosing\u001b[0m\u001b[0;34m\u001b[0m\u001b[0;34m\u001b[0m\u001b[0m\n\u001b[0;32m----> 5\u001b[0;31m \u001b[0;32mfrom\u001b[0m \u001b[0mvideosequence\u001b[0m \u001b[0;32mimport\u001b[0m \u001b[0mVideoSequence\u001b[0m\u001b[0;34m\u001b[0m\u001b[0;34m\u001b[0m\u001b[0m\n\u001b[0m\u001b[1;32m      6\u001b[0m \u001b[0;34m\u001b[0m\u001b[0m\n\u001b[1;32m      7\u001b[0m \u001b[0;31m# helper functions\u001b[0m\u001b[0;34m\u001b[0m\u001b[0;34m\u001b[0m\u001b[0;34m\u001b[0m\u001b[0m\n",
      "\u001b[0;32m/Library/Frameworks/Python.framework/Versions/3.7/lib/python3.7/site-packages/videosequence/__init__.py\u001b[0m in \u001b[0;36m<module>\u001b[0;34m\u001b[0m\n\u001b[1;32m      7\u001b[0m \u001b[0;32mimport\u001b[0m \u001b[0mos\u001b[0m\u001b[0;34m\u001b[0m\u001b[0;34m\u001b[0m\u001b[0m\n\u001b[1;32m      8\u001b[0m \u001b[0;34m\u001b[0m\u001b[0m\n\u001b[0;32m----> 9\u001b[0;31m \u001b[0;32mimport\u001b[0m \u001b[0mgi\u001b[0m\u001b[0;34m\u001b[0m\u001b[0;34m\u001b[0m\u001b[0m\n\u001b[0m\u001b[1;32m     10\u001b[0m \u001b[0;32mimport\u001b[0m \u001b[0mPIL\u001b[0m\u001b[0;34m.\u001b[0m\u001b[0mImage\u001b[0m \u001b[0;32mas\u001b[0m \u001b[0mImage\u001b[0m\u001b[0;34m\u001b[0m\u001b[0;34m\u001b[0m\u001b[0m\n\u001b[1;32m     11\u001b[0m \u001b[0;34m\u001b[0m\u001b[0m\n",
      "\u001b[0;31mModuleNotFoundError\u001b[0m: No module named 'gi'"
     ]
    }
   ],
   "source": [
    "# import helper functions\n",
    "import os\n",
    "import json\n",
    "from contextlib import closing\n",
    "from videosequence import VideoSequence\n",
    "\n",
    "# helper functions\n",
    "\n",
    "# https://stackoverflow.com/questions/17060039/split-string-at-nth-occurrence-of-a-given-character\n",
    "def splitn(string, spliton, n):\n",
    "    \"\"\"split 'string' on nth occurence of 'spliton'\n",
    "    \"\"\"\n",
    "    groups = string.split(spliton)\n",
    "    return spliton.join(groups[:n]), spliton.join(groups[n:])"
   ]
  },
  {
   "cell_type": "code",
   "execution_count": 2,
   "metadata": {},
   "outputs": [],
   "source": [
    "projectroot = \"/home/nchhibbe/sketchbook/typealike\"\n",
    "filepath = \"/log/one/\"\n",
    "pidentifier = \"Test02_experiment_2018-09-03-19-37-48.txt\"\n",
    "\n",
    "# open the output datafile and write the column headers\n",
    "data = open(projectroot+'/training/videoframes_'+pidentifier[:-4]+'.csv', 'w')\n",
    "# data.write(','.join(columns) + '\\n')\n",
    "\n",
    "firstTimestamp=0\n",
    "firstFrameVisited=False\n",
    "flag=False\n",
    "currentGetsure=\"\"\n",
    "videoframes={}\n",
    "count=0\n",
    "with open(projectroot+filepath+pidentifier) as f:\n",
    "    content = f.readlines()\n",
    "\n",
    "for line in content:\n",
    "    if line[0] == '#':\n",
    "        continue\n",
    "    r = line.strip().split(',')\n",
    "    if r[1] != \"M\":\n",
    "        if r[1] == \"E\" and r[2]==\"trial\":\n",
    "            rr = splitn(line, ',', 3)\n",
    "            ed = json.loads(rr[1])\n",
    "            if ed[\"type\"]==\"start\" and ed[\"targetType\"]==\"gesture\":\n",
    "                flag=True\n",
    "                currentGesture=ed[\"label\"]\n",
    "            elif ed[\"type\"]==\"end\" and ed[\"targetType\"]==\"gesture\":\n",
    "                flag=False\n",
    "        else:\n",
    "            continue\n",
    "    if not firstFrameVisited:\n",
    "        firstTimestamp = r[0]\n",
    "        firstFrameVisited = True;\n",
    "    if flag:\n",
    "        datarow = (str(int(30*(int(r[0])-int(firstTimestamp))/1000)),currentGesture)\n",
    "#         print(datarow)\n",
    "        videoframes[datarow[0]]=datarow[1]\n",
    "#         videoframes.append(datarow)\n",
    "        datarow_csv = \",\".join(datarow)\n",
    "        data.write(datarow_csv + '\\n')\n",
    "    count+=1\n",
    "data.close()"
   ]
  },
  {
   "cell_type": "code",
   "execution_count": 3,
   "metadata": {},
   "outputs": [],
   "source": [
    "directory = projectroot+\"/training/\"+pidentifier[:-4]\n",
    "gestureclasses = [\"lefthandlock\", \"righthandlock\", \"bothhandlock\", \"lefthandpinch\", \"righthandpinch\", \"bothhandpinch\", \"bothhandcover\", \"lefthandfist\", \"righthandfist\", \"bothhandfist\", \"upperlefthandlock\", \"upperrighthandlock\", \"upperbothhandlock\", \"birdhand\"];\n",
    "try:\n",
    "    if not os.path.exists(directory):\n",
    "        os.makedirs(directory)\n",
    "        for gesturedir in gestureclasses:\n",
    "            if not os.path.exists(directory+\"/\"+gesturedir):\n",
    "                os.makedirs(directory+\"/\"+gesturedir)\n",
    "except OSError:\n",
    "    print ('Error: Creating directory. ' +  directory)"
   ]
  },
  {
   "cell_type": "code",
   "execution_count": 4,
   "metadata": {},
   "outputs": [],
   "source": [
    "videofile = projectroot+\"/videos/one/\"+pidentifier[:-4]+\".mp4\"\n",
    "flag = True\n",
    "programCounter = 0 # iterator for videoframes\n",
    "with closing(VideoSequence(videofile)) as frames:\n",
    "    for idx, frame in enumerate(frames[0:]):\n",
    "#         if programCounter+1 == len(videoframes):\n",
    "#             break\n",
    "#         print(str(idx))\n",
    "        if str(idx) in videoframes.keys():\n",
    "            frame.save(\"../training/\"+pidentifier[:-4]+\"/\"+videoframes[str(idx)][:-4]+\"/\"+pidentifier[:]+\"_frame_\"+str(idx)+\".jpg\")\n",
    "            flag=False\n"
   ]
  },
  {
   "cell_type": "code",
   "execution_count": 120,
   "metadata": {},
   "outputs": [
    {
     "data": {
      "text/plain": [
       "276"
      ]
     },
     "execution_count": 120,
     "metadata": {},
     "output_type": "execute_result"
    }
   ],
   "source": [
    "len(os.listdir(directory+\"/\"+gestureclasses[2]))"
   ]
  },
  {
   "cell_type": "code",
   "execution_count": 62,
   "metadata": {},
   "outputs": [
    {
     "data": {
      "text/plain": [
       "False"
      ]
     },
     "execution_count": 62,
     "metadata": {},
     "output_type": "execute_result"
    }
   ],
   "source": [
    "\"7\" in a"
   ]
  },
  {
   "cell_type": "code",
   "execution_count": 9,
   "metadata": {},
   "outputs": [
    {
     "data": {
      "text/plain": [
       "'Test02_experim'"
      ]
     },
     "execution_count": 9,
     "metadata": {},
     "output_type": "execute_result"
    }
   ],
   "source": [
    "s=\"Test02_experiment_2018-09-03-19-37-48\"\n",
    "s[]"
   ]
  },
  {
   "cell_type": "code",
   "execution_count": null,
   "metadata": {},
   "outputs": [],
   "source": []
  }
 ],
 "metadata": {
  "kernelspec": {
   "display_name": "Python 3",
   "language": "python",
   "name": "python3"
  },
  "language_info": {
   "codemirror_mode": {
    "name": "ipython",
    "version": 3
   },
   "file_extension": ".py",
   "mimetype": "text/x-python",
   "name": "python",
   "nbconvert_exporter": "python",
   "pygments_lexer": "ipython3",
   "version": "3.7.2"
  }
 },
 "nbformat": 4,
 "nbformat_minor": 2
}
